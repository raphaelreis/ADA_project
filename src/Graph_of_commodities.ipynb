{
 "cells": [
  {
   "cell_type": "code",
   "execution_count": 0,
   "metadata": {
    "colab": {
     "base_uri": "https://localhost:8080/",
     "height": 72
    },
    "colab_type": "code",
    "id": "G08_YNrIE-mU",
    "outputId": "f15af8bd-354f-40f4-b98c-e31a1ebdabb0"
   },
   "outputs": [
    {
     "name": "stdout",
     "output_type": "stream",
     "text": [
      "Requirement already up-to-date: nltk in /usr/local/lib/python3.6/dist-packages (3.4.5)\n",
      "Requirement already satisfied, skipping upgrade: six in /usr/local/lib/python3.6/dist-packages (from nltk) (1.12.0)\n"
     ]
    }
   ],
   "source": [
    "# Google colab dependencies\n",
    "import os\n",
    "!pip install pyspark > /dev/null\n",
    "!pip install -U -q PyDrive\n",
    "!pip install -U nltk\n",
    "!apt-get install openjdk-8-jdk-headless -qq > /dev/null\n",
    "!pip install pyvis > /dev/null\n",
    "os.environ[\"JAVA_HOME\"] = \"/usr/lib/jvm/java-8-openjdk-amd64\""
   ]
  },
  {
   "cell_type": "code",
   "execution_count": 0,
   "metadata": {
    "colab": {},
    "colab_type": "code",
    "id": "-HQmSq8cUWIg"
   },
   "outputs": [],
   "source": [
    "# General Dependencies\n",
    "import re\n",
    "import os\n",
    "import pickle\n",
    "import scipy.stats\n",
    "import seaborn as sns\n",
    "import numpy as np\n",
    "import pandas as pd\n",
    "import seaborn as sns\n",
    "from operator import itemgetter\n",
    "from sklearn import metrics\n",
    "from matplotlib.ticker import FormatStrFormatter\n",
    "from sklearn.decomposition import TruncatedSVD\n",
    "from sklearn.preprocessing import Normalizer\n",
    "from sklearn.cluster import KMeans, MiniBatchKMeans\n",
    "from mpl_toolkits.mplot3d import Axes3D\n",
    "import matplotlib.pyplot as plt\n",
    "from itertools import combinations\n",
    "from pyspark.sql.functions import split, explode, monotonically_increasing_id,concat\n",
    "from scipy.sparse import csr_matrix\n",
    "import networkx as nx\n",
    "from pyvis.network import Network\n",
    "from typing import Iterable\n",
    "from sklearn.feature_extraction.text import TfidfVectorizer\n",
    "from nltk.corpus import wordnet as wn\n"
   ]
  },
  {
   "cell_type": "code",
   "execution_count": 0,
   "metadata": {
    "colab": {},
    "colab_type": "code",
    "id": "yL8hRBpdZJyr"
   },
   "outputs": [],
   "source": [
    "import pyspark\n",
    "import pyspark.sql\n",
    "from pyspark.sql import *\n",
    "\n",
    "from pyspark.sql.functions import *\n",
    "from pyspark.sql.types import DoubleType\n",
    "from pyspark.ml.feature import VectorAssembler\n",
    "from pyspark.sql.types import ArrayType, StructField, StructType, StringType, IntegerType, FloatType\n",
    "\n",
    "conf = pyspark.SparkConf().setMaster(\"local[*]\").setAll([\n",
    "                                   ('spark.executor.memory', '12g'),  # find\n",
    "                                   ('spark.driver.memory','4g'), # your\n",
    "                                   ('spark.driver.maxResultSize', '2G') # setup\n",
    "                                  ])\n",
    "# create the session\n",
    "spark = SparkSession.builder.config(conf=conf).getOrCreate()\n",
    "\n",
    "# create the context\n",
    "sc = spark.sparkContext\n",
    "\n",
    "# FIX for Spark 2.x\n",
    "locale = sc._jvm.java.util.Locale\n",
    "locale.setDefault(locale.forLanguageTag(\"en-US\"))"
   ]
  },
  {
   "cell_type": "code",
   "execution_count": 0,
   "metadata": {
    "colab": {
     "base_uri": "https://localhost:8080/",
     "height": 55
    },
    "colab_type": "code",
    "id": "9gxA1hqiZ9pJ",
    "outputId": "1c65027e-1a2d-4dd3-aff6-e5d0d9a44850"
   },
   "outputs": [
    {
     "name": "stdout",
     "output_type": "stream",
     "text": [
      "Drive already mounted at /content/drive; to attempt to forcibly remount, call drive.mount(\"/content/drive\", force_remount=True).\n"
     ]
    }
   ],
   "source": [
    "from google.colab import drive\n",
    "drive.mount('/content/drive')"
   ]
  },
  {
   "cell_type": "markdown",
   "metadata": {
    "colab_type": "text",
    "id": "NakgQrP3BRgS"
   },
   "source": [
    "# Description\n",
    "The goal of this project is to create a graph to observe relations between items. To do so, we will group transaction data by shopping cart and we will create an adjacency matrix containing the number of times a pair appears in all shopping carts. We will then create a graph where nodes are items and edges are weighted by the number of times they appear together. "
   ]
  },
  {
   "cell_type": "markdown",
   "metadata": {
    "colab_type": "text",
    "id": "hVbsz7Xj5oIY"
   },
   "source": [
    "# Load Data\n"
   ]
  },
  {
   "cell_type": "code",
   "execution_count": 0,
   "metadata": {
    "colab": {},
    "colab_type": "code",
    "id": "axLeOx77Zfoh"
   },
   "outputs": [],
   "source": [
    "path = '/content/drive/My Drive/TermProject/data/dunnhumby - The Complete Journey CSV'\n",
    "transaction_df = spark.read.csv(os.path.join(path,\"transaction_data.csv\"),header=\"true\")\n",
    "product_df = spark.read.csv(os.path.join(path,\"product.csv\"),header=\"true\")\n",
    "demographic_df = spark.read.csv(os.path.join(path,\"hh_demographic.csv\"),header=\"true\")"
   ]
  },
  {
   "cell_type": "code",
   "execution_count": 0,
   "metadata": {
    "colab": {
     "base_uri": "https://localhost:8080/",
     "height": 260
    },
    "colab_type": "code",
    "id": "IyVuuupcZeo6",
    "outputId": "8e15244e-a1a9-493c-9f16-b1ecc078d9fc"
   },
   "outputs": [
    {
     "name": "stdout",
     "output_type": "stream",
     "text": [
      "root\n",
      " |-- household_key: string (nullable = true)\n",
      " |-- BASKET_ID: string (nullable = true)\n",
      " |-- DAY: string (nullable = true)\n",
      " |-- PRODUCT_ID: string (nullable = true)\n",
      " |-- QUANTITY: string (nullable = true)\n",
      " |-- SALES_VALUE: string (nullable = true)\n",
      " |-- STORE_ID: string (nullable = true)\n",
      " |-- RETAIL_DISC: string (nullable = true)\n",
      " |-- TRANS_TIME: string (nullable = true)\n",
      " |-- WEEK_NO: string (nullable = true)\n",
      " |-- COUPON_DISC: string (nullable = true)\n",
      " |-- COUPON_MATCH_DISC: string (nullable = true)\n",
      "\n"
     ]
    }
   ],
   "source": [
    "transaction_df.printSchema()\n",
    "transaction_df = transaction_df.withColumn(\"SALES_VALUE\", transaction_df[\"SALES_VALUE\"].cast(DoubleType()))\n"
   ]
  },
  {
   "cell_type": "code",
   "execution_count": 0,
   "metadata": {
    "colab": {
     "base_uri": "https://localhost:8080/",
     "height": 173
    },
    "colab_type": "code",
    "id": "YuVA92_3bMkG",
    "outputId": "212278a2-4105-4045-94d1-2dab8c9b05b9"
   },
   "outputs": [
    {
     "name": "stdout",
     "output_type": "stream",
     "text": [
      "root\n",
      " |-- PRODUCT_ID: string (nullable = true)\n",
      " |-- MANUFACTURER: string (nullable = true)\n",
      " |-- DEPARTMENT: string (nullable = true)\n",
      " |-- BRAND: string (nullable = true)\n",
      " |-- COMMODITY_DESC: string (nullable = true)\n",
      " |-- SUB_COMMODITY_DESC: string (nullable = true)\n",
      " |-- CURR_SIZE_OF_PRODUCT: string (nullable = true)\n",
      "\n"
     ]
    }
   ],
   "source": [
    "product_df.printSchema()"
   ]
  },
  {
   "cell_type": "markdown",
   "metadata": {
    "colab_type": "text",
    "id": "_0KZsDU_xV7l"
   },
   "source": [
    "Parse subcommodity description"
   ]
  },
  {
   "cell_type": "code",
   "execution_count": null,
   "metadata": {
    "colab": {
     "base_uri": "https://localhost:8080/",
     "height": 488
    },
    "colab_type": "code",
    "id": "hDKQaUYZPNrZ",
    "outputId": "73a0cdbb-263a-4a0a-abe2-afbd95078425"
   },
   "outputs": [],
   "source": [
    "product_df.show()"
   ]
  },
  {
   "cell_type": "markdown",
   "metadata": {
    "colab_type": "text",
    "id": "hOJ2au_yyvWh"
   },
   "source": [
    "Join transaction data with product data"
   ]
  },
  {
   "cell_type": "code",
   "execution_count": 0,
   "metadata": {
    "colab": {
     "base_uri": "https://localhost:8080/",
     "height": 193
    },
    "colab_type": "code",
    "id": "v11m7DVWd7OC",
    "outputId": "c406b78f-e78a-41f7-91e3-5255c32964e1"
   },
   "outputs": [
    {
     "name": "stdout",
     "output_type": "stream",
     "text": [
      "+----------+-------------+-----------+--------+-----------+--------------------+--------------------+--------------------+----------+\n",
      "|PRODUCT_ID|household_key|  BASKET_ID|QUANTITY|SALES_VALUE|      COMMODITY_DESC|  SUB_COMMODITY_DESC|CURR_SIZE_OF_PRODUCT|DEPARTMENT|\n",
      "+----------+-------------+-----------+--------+-----------+--------------------+--------------------+--------------------+----------+\n",
      "|   1004906|         2375|26984851472|       1|       1.39|            POTATOES|POTATOES RUSSET (...|                5 LB|   PRODUCE|\n",
      "|   1033142|         2375|26984851472|       1|       0.82|              ONIONS|ONIONS SWEET (BUL...|               40 LB|   PRODUCE|\n",
      "|   1036325|         2375|26984851472|       1|       0.99|VEGETABLES - ALL ...|              CELERY|                    |   PRODUCE|\n",
      "+----------+-------------+-----------+--------+-----------+--------------------+--------------------+--------------------+----------+\n",
      "only showing top 3 rows\n",
      "\n"
     ]
    }
   ],
   "source": [
    "trans_prod_df = transaction_df\\\n",
    ".select('PRODUCT_ID','household_key','BASKET_ID','QUANTITY','SALES_VALUE')\\\n",
    ".join(product_df.select('PRODUCT_ID','COMMODITY_DESC','SUB_COMMODITY_DESC','CURR_SIZE_OF_PRODUCT','DEPARTMENT'),on='PRODUCT_ID')\n",
    "trans_prod_df.show(3)"
   ]
  },
  {
   "cell_type": "markdown",
   "metadata": {
    "colab_type": "text",
    "id": "vT0H5D4oe_2Q"
   },
   "source": []
  },
  {
   "cell_type": "markdown",
   "metadata": {
    "colab_type": "text",
    "id": "tYWchn3G_A6V"
   },
   "source": [
    "\n",
    "# Make Adjacency Matrix\n",
    "The adjacency matrix of the graph will contain the number of times a given pair of items appeared together in a shopping cart added up over all shopping carts. "
   ]
  },
  {
   "cell_type": "markdown",
   "metadata": {
    "colab_type": "text",
    "id": "yf0iYldy_T4J"
   },
   "source": [
    "## Get set of bought items per shopping cart\n",
    "We will groupby Basket ID and collect a set of bought items. It is necessary to collect set because we don't want repeated items per basket."
   ]
  },
  {
   "cell_type": "code",
   "execution_count": 0,
   "metadata": {
    "colab": {
     "base_uri": "https://localhost:8080/",
     "height": 173
    },
    "colab_type": "code",
    "id": "jQkhqAA8Op9l",
    "outputId": "298658ba-5082-4a3d-fe48-31994a0f8009"
   },
   "outputs": [
    {
     "name": "stdout",
     "output_type": "stream",
     "text": [
      "+-----------+--------------------+\n",
      "|  BASKET_ID|           item_list|\n",
      "+-----------+--------------------+\n",
      "|27031281714|[SOFT DRINK POWDE...|\n",
      "|27191583855|[TRAY PACK/CHOC C...|\n",
      "|27232395780|[MICROWAVE, SMOKI...|\n",
      "+-----------+--------------------+\n",
      "only showing top 3 rows\n",
      "\n"
     ]
    }
   ],
   "source": [
    "basket_items = trans_prod_df.groupBy('BASKET_ID')\\\n",
    "               .agg(collect_set('SUB_COMMODITY_DESC')\\\n",
    "               .alias('item_list'))\n",
    "basket_items.show(3)"
   ]
  },
  {
   "cell_type": "markdown",
   "metadata": {
    "colab_type": "text",
    "id": "fRo7m_qR_riE"
   },
   "source": [
    "## Explode list\n",
    "Get a long basket id vs. single item dataframe"
   ]
  },
  {
   "cell_type": "code",
   "execution_count": 0,
   "metadata": {
    "colab": {},
    "colab_type": "code",
    "id": "foF0Tcv0UiXf"
   },
   "outputs": [],
   "source": [
    "b_items_exploded = basket_items\\\n",
    "                    .select(\"BASKET_ID\", explode(\"item_list\").alias('item'))"
   ]
  },
  {
   "cell_type": "code",
   "execution_count": 0,
   "metadata": {
    "colab": {
     "base_uri": "https://localhost:8080/",
     "height": 141
    },
    "colab_type": "code",
    "id": "VJMDJeHt1nU9",
    "outputId": "49ecdb03-0d22-496c-afe5-2c06b5282985"
   },
   "outputs": [
    {
     "data": {
      "text/html": [
       "<div>\n",
       "<style scoped>\n",
       "    .dataframe tbody tr th:only-of-type {\n",
       "        vertical-align: middle;\n",
       "    }\n",
       "\n",
       "    .dataframe tbody tr th {\n",
       "        vertical-align: top;\n",
       "    }\n",
       "\n",
       "    .dataframe thead th {\n",
       "        text-align: right;\n",
       "    }\n",
       "</style>\n",
       "<table border=\"1\" class=\"dataframe\">\n",
       "  <thead>\n",
       "    <tr style=\"text-align: right;\">\n",
       "      <th></th>\n",
       "      <th>BASKET_ID</th>\n",
       "      <th>item</th>\n",
       "    </tr>\n",
       "  </thead>\n",
       "  <tbody>\n",
       "    <tr>\n",
       "      <th>0</th>\n",
       "      <td>27031281714</td>\n",
       "      <td>SOFT DRINK POWDER POUCHES</td>\n",
       "    </tr>\n",
       "    <tr>\n",
       "      <th>1</th>\n",
       "      <td>27031281714</td>\n",
       "      <td>SUGAR</td>\n",
       "    </tr>\n",
       "    <tr>\n",
       "      <th>2</th>\n",
       "      <td>27031281714</td>\n",
       "      <td>TOILET TISSUE</td>\n",
       "    </tr>\n",
       "  </tbody>\n",
       "</table>\n",
       "</div>"
      ],
      "text/plain": [
       "     BASKET_ID                       item\n",
       "0  27031281714  SOFT DRINK POWDER POUCHES\n",
       "1  27031281714                      SUGAR\n",
       "2  27031281714              TOILET TISSUE"
      ]
     },
     "execution_count": 40,
     "metadata": {
      "tags": []
     },
     "output_type": "execute_result"
    }
   ],
   "source": [
    "b_items_exploded.toPandas().head(3)"
   ]
  },
  {
   "cell_type": "markdown",
   "metadata": {
    "colab_type": "text",
    "id": "y78rm5mJAAtA"
   },
   "source": [
    "# Make Co-ocurrence Matrix\n",
    "Now that we have an exploded df, we can use the cross-tab function comparing it with itself to get a matrix showing the co-ocurrences of items per basket id. We join the item column with itself and then we cross-tab. To ensure we only compare a single basket at a time, we use the basket id as a key for the join before doing the cross tab. "
   ]
  },
  {
   "cell_type": "code",
   "execution_count": 0,
   "metadata": {
    "colab": {},
    "colab_type": "code",
    "id": "JXgOPAcjUowv"
   },
   "outputs": [],
   "source": [
    "co_ocurrence_df = b_items_exploded.withColumnRenamed(\"item\", \"item_\")\\\n",
    "                  .join(b_items_exploded, \"BASKET_ID\")\\\n",
    "                  .stat.crosstab(\"item_\", \"item\")\n"
   ]
  },
  {
   "cell_type": "code",
   "execution_count": null,
   "metadata": {
    "colab": {
     "base_uri": "https://localhost:8080/",
     "height": 488
    },
    "colab_type": "code",
    "id": "UTWh6n40DMW6",
    "outputId": "7f9e7807-54b6-4081-ff3d-030e749bcb1e"
   },
   "outputs": [],
   "source": [
    "co_ocurrence_df.sort(col(' ').desc()).show()"
   ]
  },
  {
   "cell_type": "markdown",
   "metadata": {
    "colab_type": "text",
    "id": "gntpeBlGD_MC"
   },
   "source": [
    "We see that the matrix still contains the main diagonal (which we don't want as edges), and it also contains a blank commodity which corresponds to items being bought alone. We will now modify this matrix to account for this."
   ]
  },
  {
   "cell_type": "markdown",
   "metadata": {
    "colab_type": "text",
    "id": "GQuwbUVjB_Cz"
   },
   "source": [
    "## Matrix Modification\n"
   ]
  },
  {
   "cell_type": "markdown",
   "metadata": {
    "colab_type": "text",
    "id": "DaB92G1RAr9o"
   },
   "source": [
    "Go back to pandas "
   ]
  },
  {
   "cell_type": "code",
   "execution_count": 0,
   "metadata": {
    "colab": {},
    "colab_type": "code",
    "id": "41YIwB0bqFmp"
   },
   "outputs": [],
   "source": [
    "co_ocurrence_pd = co_ocurrence_df.toPandas()"
   ]
  },
  {
   "cell_type": "markdown",
   "metadata": {
    "colab_type": "text",
    "id": "tegywkedFvsV"
   },
   "source": [
    "Remove empty category"
   ]
  },
  {
   "cell_type": "code",
   "execution_count": 0,
   "metadata": {
    "colab": {},
    "colab_type": "code",
    "id": "HE_k0K_ey9xM"
   },
   "outputs": [],
   "source": [
    "co_ocurrence_pd.drop(' ',axis=1,inplace=True)"
   ]
  },
  {
   "cell_type": "markdown",
   "metadata": {
    "colab_type": "text",
    "id": "RtsyYJVpF8pA"
   },
   "source": [
    "Melt sparse matrix into a long column matrix. We do this because this way we can easily remove the diagonal, and we can also filter the upper diagonal part since its a symmetric matrix. "
   ]
  },
  {
   "cell_type": "code",
   "execution_count": 0,
   "metadata": {
    "colab": {},
    "colab_type": "code",
    "id": "uQ3hGqkvzMkU"
   },
   "outputs": [],
   "source": [
    "co_ocurrence_pd_long = co_ocurrence_pd\\\n",
    ".melt(co_ocurrence_pd.columns[0],co_ocurrence_pd.columns[1:])\\\n",
    ".rename(columns={\"item__item\": \"item1\", \"variable\": \"item2\",\"value\":\"freq\"})\\\n",
    ".sort_values('freq',ascending=False)"
   ]
  },
  {
   "cell_type": "markdown",
   "metadata": {
    "colab_type": "text",
    "id": "DmuB-XBF35Hp"
   },
   "source": [
    "Remove main diagonal\n"
   ]
  },
  {
   "cell_type": "code",
   "execution_count": 0,
   "metadata": {
    "colab": {},
    "colab_type": "code",
    "id": "q_FfsCqb5bvK"
   },
   "outputs": [],
   "source": [
    "co_ocurrence_pd_long = co_ocurrence_pd_long[co_ocurrence_pd_long['item1']!=co_ocurrence_pd_long['item2']]"
   ]
  },
  {
   "cell_type": "markdown",
   "metadata": {
    "colab_type": "text",
    "id": "8-OMyKRCGQIO"
   },
   "source": [
    "## Distribution of co-ocurrences\n",
    "We want to see how the connections are distributed accross the nodes"
   ]
  },
  {
   "cell_type": "code",
   "execution_count": 0,
   "metadata": {
    "colab": {
     "base_uri": "https://localhost:8080/",
     "height": 254
    },
    "colab_type": "code",
    "id": "2nMS2OBZG8yI",
    "outputId": "1434f8f1-3c49-45e4-f4ad-466685f97458"
   },
   "outputs": [
    {
     "data": {
      "image/png": "[encoded data removed]",
      "text/plain": [
       "<Figure size 432x288 with 1 Axes>"
      ]
     },
     "metadata": {
      "tags": []
     },
     "output_type": "display_data"
    }
   ],
   "source": [
    "ax = co_ocurrence_pd_long[co_ocurrence_pd_long.freq!=0].head(200).plot.bar()\n",
    "ax.get_xaxis().set_visible(False)\n"
   ]
  },
  {
   "cell_type": "code",
   "execution_count": 0,
   "metadata": {
    "colab": {
     "base_uri": "https://localhost:8080/",
     "height": 294
    },
    "colab_type": "code",
    "id": "UXkf2lfnHWpa",
    "outputId": "ec743113-1864-41f9-e5f8-6e5da62ddc97"
   },
   "outputs": [
    {
     "data": {
      "text/html": [
       "<div>\n",
       "<style scoped>\n",
       "    .dataframe tbody tr th:only-of-type {\n",
       "        vertical-align: middle;\n",
       "    }\n",
       "\n",
       "    .dataframe tbody tr th {\n",
       "        vertical-align: top;\n",
       "    }\n",
       "\n",
       "    .dataframe thead th {\n",
       "        text-align: right;\n",
       "    }\n",
       "</style>\n",
       "<table border=\"1\" class=\"dataframe\">\n",
       "  <thead>\n",
       "    <tr style=\"text-align: right;\">\n",
       "      <th></th>\n",
       "      <th>freq</th>\n",
       "    </tr>\n",
       "  </thead>\n",
       "  <tbody>\n",
       "    <tr>\n",
       "      <th>count</th>\n",
       "      <td>997654.00</td>\n",
       "    </tr>\n",
       "    <tr>\n",
       "      <th>mean</th>\n",
       "      <td>24.51</td>\n",
       "    </tr>\n",
       "    <tr>\n",
       "      <th>std</th>\n",
       "      <td>101.81</td>\n",
       "    </tr>\n",
       "    <tr>\n",
       "      <th>min</th>\n",
       "      <td>1.00</td>\n",
       "    </tr>\n",
       "    <tr>\n",
       "      <th>25%</th>\n",
       "      <td>1.00</td>\n",
       "    </tr>\n",
       "    <tr>\n",
       "      <th>50%</th>\n",
       "      <td>4.00</td>\n",
       "    </tr>\n",
       "    <tr>\n",
       "      <th>75%</th>\n",
       "      <td>13.00</td>\n",
       "    </tr>\n",
       "    <tr>\n",
       "      <th>max</th>\n",
       "      <td>15662.00</td>\n",
       "    </tr>\n",
       "  </tbody>\n",
       "</table>\n",
       "</div>"
      ],
      "text/plain": [
       "            freq\n",
       "count  997654.00\n",
       "mean       24.51\n",
       "std       101.81\n",
       "min         1.00\n",
       "25%         1.00\n",
       "50%         4.00\n",
       "75%        13.00\n",
       "max     15662.00"
      ]
     },
     "execution_count": 48,
     "metadata": {
      "tags": []
     },
     "output_type": "execute_result"
    }
   ],
   "source": [
    "co_ocurrence_pd_long[co_ocurrence_pd_long.freq!=0].describe().round(2)"
   ]
  },
  {
   "cell_type": "markdown",
   "metadata": {
    "colab_type": "text",
    "id": "Opf9Rom1HqeT"
   },
   "source": [
    "We see that some 75% of the pairs are present less than 13 times! However, the most ocurring pair appears 15662 times. This means that the graph will probably be fully connected and hard to visualize if we want to find meaningful relations or groups between items.\n",
    "\n",
    "\n"
   ]
  },
  {
   "cell_type": "markdown",
   "metadata": {
    "colab_type": "text",
    "id": "BxWkklYSKkjr"
   },
   "source": [
    "## Normalize Frequencies by the Total Occurrence of the item\n",
    "We can then apply the following transformation:\n",
    "\n",
    "\n",
    "t_f = f_i/sum(f_i)\n",
    "\n",
    "\n",
    "This will allow us to decrease the weight of those items that always appear, and highlight relations between not-as-common items. \n",
    "\n",
    "After applying this transformation, the co-ocurrence matrix will no longer be symmetric because the co-ocurrences will be normalized by item-frequency. We will then choose the smallest score from the two values for each pair so that we prioritize the values obtained from the columns of the highest frequencies, as they will be more representative of their true relation. \n"
   ]
  },
  {
   "cell_type": "markdown",
   "metadata": {
    "colab_type": "text",
    "id": "9aitGJGYLRhT"
   },
   "source": [
    "Go back to matrix form."
   ]
  },
  {
   "cell_type": "code",
   "execution_count": 0,
   "metadata": {
    "colab": {},
    "colab_type": "code",
    "id": "5ewoyUIdw67a"
   },
   "outputs": [],
   "source": [
    "co_ocurrence_pd = co_ocurrence_pd_long\\\n",
    ".pivot(index='item1', columns='item2', values='freq')\\\n",
    ".drop(' ',axis=0).fillna(0)"
   ]
  },
  {
   "cell_type": "markdown",
   "metadata": {
    "colab_type": "text",
    "id": "ypQauB_wvYgZ"
   },
   "source": [
    "We can now normalize each entry by the sum of each column"
   ]
  },
  {
   "cell_type": "code",
   "execution_count": 0,
   "metadata": {
    "colab": {},
    "colab_type": "code",
    "id": "1TBfFWUPglkD"
   },
   "outputs": [],
   "source": [
    "#normalize by item ocurrence\n",
    "co_ocurrence_pd = co_ocurrence_pd.div(co_ocurrence_pd.sum(axis=0),axis=1)\n",
    "\n",
    "\n",
    "#normalize and weight by log of occurence\n",
    "#co_ocurrence_pd = co_ocurrence_pd\\\n",
    "#                  .div(co_ocurrence_pd.sum(axis=0), axis=1)\\\n",
    "#                  .mul(np.log(co_ocurrence_pd.sum(axis=0)+1)) # normalize by column"
   ]
  },
  {
   "cell_type": "code",
   "execution_count": 0,
   "metadata": {
    "colab": {},
    "colab_type": "code",
    "id": "eKUz-6Quj6IC"
   },
   "outputs": [],
   "source": [
    "co_ocurrence_pd.reset_index(inplace=True)"
   ]
  },
  {
   "cell_type": "markdown",
   "metadata": {
    "colab_type": "text",
    "id": "5cEKw2XVvmQn"
   },
   "source": [
    "After normalization, we can go back to long format"
   ]
  },
  {
   "cell_type": "code",
   "execution_count": 0,
   "metadata": {
    "colab": {},
    "colab_type": "code",
    "id": "uICJJAAui1vJ"
   },
   "outputs": [],
   "source": [
    "co_ocurrence_pd_long = co_ocurrence_pd\\\n",
    ".melt(co_ocurrence_pd.columns[0],co_ocurrence_pd.columns[1:])\\\n",
    ".rename(columns={\"variable\": \"item2\",\"value\":\"freq\"})\\\n",
    ".sort_values('freq',ascending=False)"
   ]
  },
  {
   "cell_type": "markdown",
   "metadata": {
    "colab_type": "text",
    "id": "l5TcGQ9av0fu"
   },
   "source": [
    "We can see that all the rows contain highly related products! However, the top pairs are also being confounded with those pairs that only appeared once in all the shopping carts. "
   ]
  },
  {
   "cell_type": "markdown",
   "metadata": {
    "colab_type": "text",
    "id": "5o_ivGxSxLWj"
   },
   "source": [
    "## Take Smallest Normalized Frequency\n",
    "For each pair we have 2 normalized values: one corresponding to the frequency normalized by the first item, and the other one corresponding to the frequency normalized by the second item. In the graph we only need one edge between the two items, so we must select one of these values. We will select the smallest one because it is calculated from the item that is more recurrent. Therefore, the smallest value will more effectively represent the true link between these two items."
   ]
  },
  {
   "cell_type": "markdown",
   "metadata": {
    "colab_type": "text",
    "id": "neuICk80x75v"
   },
   "source": [
    "To implement this we will create a new column with the appended items. We will sort them, and remove duplicates, choosing the second value since the list is already sorted by frequency. "
   ]
  },
  {
   "cell_type": "markdown",
   "metadata": {
    "colab_type": "text",
    "id": "nGIHAUAbyPxg"
   },
   "source": [
    "create new column containing list of sorted items"
   ]
  },
  {
   "cell_type": "code",
   "execution_count": 0,
   "metadata": {
    "colab": {},
    "colab_type": "code",
    "id": "9zVdVSQr38T9"
   },
   "outputs": [],
   "source": [
    "co_ocurrence_pd_long['items'] = (np.sort(co_ocurrence_pd_long.values[:,[0,1]]).tolist())"
   ]
  },
  {
   "cell_type": "markdown",
   "metadata": {
    "colab_type": "text",
    "id": "bEmFJ4SKyNJD"
   },
   "source": [
    "Turn into string to be able to compare against other rows"
   ]
  },
  {
   "cell_type": "code",
   "execution_count": 0,
   "metadata": {
    "colab": {},
    "colab_type": "code",
    "id": "SNdkAtwkEKfu"
   },
   "outputs": [],
   "source": [
    "co_ocurrence_pd_long['items'] = co_ocurrence_pd_long['items'].apply(lambda x: \",\".join(x))"
   ]
  },
  {
   "cell_type": "markdown",
   "metadata": {
    "colab_type": "text",
    "id": "T3xyZqH4ycm0"
   },
   "source": [
    "Remove duplicates while keeping last item"
   ]
  },
  {
   "cell_type": "code",
   "execution_count": 0,
   "metadata": {
    "colab": {},
    "colab_type": "code",
    "id": "zVyxhi_jRJzo"
   },
   "outputs": [],
   "source": [
    "co_ocurrence_pd_long = co_ocurrence_pd_long.drop_duplicates('items',keep='last')"
   ]
  },
  {
   "cell_type": "markdown",
   "metadata": {
    "colab_type": "text",
    "id": "XMsNRzYwyjmZ"
   },
   "source": [
    "Remove 0s that will not represent any edges"
   ]
  },
  {
   "cell_type": "code",
   "execution_count": 0,
   "metadata": {
    "colab": {},
    "colab_type": "code",
    "id": "_gVqCkUAfOCG"
   },
   "outputs": [],
   "source": [
    "co_ocurrence_pd_long = co_ocurrence_pd_long[(co_ocurrence_pd_long.freq != 0)]"
   ]
  },
  {
   "cell_type": "markdown",
   "metadata": {
    "colab_type": "text",
    "id": "0lazoSVFy0ex"
   },
   "source": [
    "We see that the items are even more related now. We can now prepare the graph"
   ]
  },
  {
   "cell_type": "markdown",
   "metadata": {
    "colab_type": "text",
    "id": "tjvDpBFBy7-Y"
   },
   "source": [
    "## Prepare Graph\n",
    "We can assign edges based on the co-ocurrence value. This will allow us to control the degree of connectedness of the graph."
   ]
  },
  {
   "cell_type": "code",
   "execution_count": 0,
   "metadata": {
    "colab": {
     "base_uri": "https://localhost:8080/",
     "height": 294
    },
    "colab_type": "code",
    "id": "YJA_S49Mfmxc",
    "outputId": "24612494-026b-4d04-b5f0-c858202e9d1e"
   },
   "outputs": [
    {
     "data": {
      "text/html": [
       "<div>\n",
       "<style scoped>\n",
       "    .dataframe tbody tr th:only-of-type {\n",
       "        vertical-align: middle;\n",
       "    }\n",
       "\n",
       "    .dataframe tbody tr th {\n",
       "        vertical-align: top;\n",
       "    }\n",
       "\n",
       "    .dataframe thead th {\n",
       "        text-align: right;\n",
       "    }\n",
       "</style>\n",
       "<table border=\"1\" class=\"dataframe\">\n",
       "  <thead>\n",
       "    <tr style=\"text-align: right;\">\n",
       "      <th></th>\n",
       "      <th>freq</th>\n",
       "    </tr>\n",
       "  </thead>\n",
       "  <tbody>\n",
       "    <tr>\n",
       "      <th>count</th>\n",
       "      <td>282459.000000</td>\n",
       "    </tr>\n",
       "    <tr>\n",
       "      <th>mean</th>\n",
       "      <td>0.000522</td>\n",
       "    </tr>\n",
       "    <tr>\n",
       "      <th>std</th>\n",
       "      <td>0.003440</td>\n",
       "    </tr>\n",
       "    <tr>\n",
       "      <th>min</th>\n",
       "      <td>0.000002</td>\n",
       "    </tr>\n",
       "    <tr>\n",
       "      <th>25%</th>\n",
       "      <td>0.000094</td>\n",
       "    </tr>\n",
       "    <tr>\n",
       "      <th>50%</th>\n",
       "      <td>0.000237</td>\n",
       "    </tr>\n",
       "    <tr>\n",
       "      <th>75%</th>\n",
       "      <td>0.000569</td>\n",
       "    </tr>\n",
       "    <tr>\n",
       "      <th>max</th>\n",
       "      <td>1.000000</td>\n",
       "    </tr>\n",
       "  </tbody>\n",
       "</table>\n",
       "</div>"
      ],
      "text/plain": [
       "                freq\n",
       "count  282459.000000\n",
       "mean        0.000522\n",
       "std         0.003440\n",
       "min         0.000002\n",
       "25%         0.000094\n",
       "50%         0.000237\n",
       "75%         0.000569\n",
       "max         1.000000"
      ]
     },
     "execution_count": 62,
     "metadata": {
      "tags": []
     },
     "output_type": "execute_result"
    }
   ],
   "source": [
    "co_ocurrence_pd_long.describe()"
   ]
  },
  {
   "cell_type": "markdown",
   "metadata": {
    "colab_type": "text",
    "id": "v2mtkCrizRh1"
   },
   "source": [
    "We see that most of the values are under 5e-3. This might be a good threshold for our final graph since we want to highlight items that are related. This threshold will allow us to control how connected our graph will be."
   ]
  },
  {
   "cell_type": "code",
   "execution_count": 0,
   "metadata": {
    "colab": {},
    "colab_type": "code",
    "id": "y1fDZe9n_FO4"
   },
   "outputs": [],
   "source": [
    "graph_info = co_ocurrence_pd_long[co_ocurrence_pd_long.freq>5e-3]"
   ]
  },
  {
   "cell_type": "code",
   "execution_count": 0,
   "metadata": {
    "colab": {
     "base_uri": "https://localhost:8080/",
     "height": 294
    },
    "colab_type": "code",
    "id": "yiQpEC57_alD",
    "outputId": "0772739a-eff2-4c35-ae1d-fa20842038a0"
   },
   "outputs": [
    {
     "data": {
      "text/html": [
       "<div>\n",
       "<style scoped>\n",
       "    .dataframe tbody tr th:only-of-type {\n",
       "        vertical-align: middle;\n",
       "    }\n",
       "\n",
       "    .dataframe tbody tr th {\n",
       "        vertical-align: top;\n",
       "    }\n",
       "\n",
       "    .dataframe thead th {\n",
       "        text-align: right;\n",
       "    }\n",
       "</style>\n",
       "<table border=\"1\" class=\"dataframe\">\n",
       "  <thead>\n",
       "    <tr style=\"text-align: right;\">\n",
       "      <th></th>\n",
       "      <th>freq</th>\n",
       "    </tr>\n",
       "  </thead>\n",
       "  <tbody>\n",
       "    <tr>\n",
       "      <th>count</th>\n",
       "      <td>1776.000000</td>\n",
       "    </tr>\n",
       "    <tr>\n",
       "      <th>mean</th>\n",
       "      <td>0.009525</td>\n",
       "    </tr>\n",
       "    <tr>\n",
       "      <th>std</th>\n",
       "      <td>0.041676</td>\n",
       "    </tr>\n",
       "    <tr>\n",
       "      <th>min</th>\n",
       "      <td>0.005000</td>\n",
       "    </tr>\n",
       "    <tr>\n",
       "      <th>25%</th>\n",
       "      <td>0.005525</td>\n",
       "    </tr>\n",
       "    <tr>\n",
       "      <th>50%</th>\n",
       "      <td>0.006297</td>\n",
       "    </tr>\n",
       "    <tr>\n",
       "      <th>75%</th>\n",
       "      <td>0.007954</td>\n",
       "    </tr>\n",
       "    <tr>\n",
       "      <th>max</th>\n",
       "      <td>1.000000</td>\n",
       "    </tr>\n",
       "  </tbody>\n",
       "</table>\n",
       "</div>"
      ],
      "text/plain": [
       "              freq\n",
       "count  1776.000000\n",
       "mean      0.009525\n",
       "std       0.041676\n",
       "min       0.005000\n",
       "25%       0.005525\n",
       "50%       0.006297\n",
       "75%       0.007954\n",
       "max       1.000000"
      ]
     },
     "execution_count": 64,
     "metadata": {
      "tags": []
     },
     "output_type": "execute_result"
    }
   ],
   "source": [
    "graph_info.describe()"
   ]
  },
  {
   "cell_type": "markdown",
   "metadata": {
    "colab_type": "text",
    "id": "N-0qXbyzfoNr"
   },
   "source": [
    "Parse nodes names to have cleaner display"
   ]
  },
  {
   "cell_type": "code",
   "execution_count": 0,
   "metadata": {
    "colab": {},
    "colab_type": "code",
    "id": "ETpKRT5NvM54"
   },
   "outputs": [],
   "source": [
    "def parse_words(sub_c): \n",
    "    \"Get rid of separators\"\n",
    "    sub_c = sub_c.upper()\n",
    "    sub_c = list(filter(None,re.split(\"[;&@\\:,\\*\\.\\(\\)\\{\\}\\\\-%\\\"\\'0-9\\_]\",sub_c)))\n",
    "    sub_c = \" \".join(sub_c).strip()\n",
    "    sub_c = sub_c.split()\n",
    "    sub_c = \" \".join(sub_c)\n",
    "    return sub_c "
   ]
  },
  {
   "cell_type": "code",
   "execution_count": 0,
   "metadata": {
    "colab": {
     "base_uri": "https://localhost:8080/",
     "height": 517
    },
    "colab_type": "code",
    "id": "Hs_ExTcOht7C",
    "outputId": "678a4c34-433d-4031-aa42-fde8a3f2eb64"
   },
   "outputs": [
    {
     "name": "stderr",
     "output_type": "stream",
     "text": [
      "/usr/local/lib/python3.6/dist-packages/ipykernel_launcher.py:1: SettingWithCopyWarning: \n",
      "A value is trying to be set on a copy of a slice from a DataFrame.\n",
      "Try using .loc[row_indexer,col_indexer] = value instead\n",
      "\n",
      "See the caveats in the documentation: http://pandas.pydata.org/pandas-docs/stable/user_guide/indexing.html#returning-a-view-versus-a-copy\n",
      "  \"\"\"Entry point for launching an IPython kernel.\n",
      "/usr/local/lib/python3.6/dist-packages/ipykernel_launcher.py:2: SettingWithCopyWarning: \n",
      "A value is trying to be set on a copy of a slice from a DataFrame.\n",
      "Try using .loc[row_indexer,col_indexer] = value instead\n",
      "\n",
      "See the caveats in the documentation: http://pandas.pydata.org/pandas-docs/stable/user_guide/indexing.html#returning-a-view-versus-a-copy\n",
      "  \n"
     ]
    },
    {
     "data": {
      "text/html": [
       "<div>\n",
       "<style scoped>\n",
       "    .dataframe tbody tr th:only-of-type {\n",
       "        vertical-align: middle;\n",
       "    }\n",
       "\n",
       "    .dataframe tbody tr th {\n",
       "        vertical-align: top;\n",
       "    }\n",
       "\n",
       "    .dataframe thead th {\n",
       "        text-align: right;\n",
       "    }\n",
       "</style>\n",
       "<table border=\"1\" class=\"dataframe\">\n",
       "  <thead>\n",
       "    <tr style=\"text-align: right;\">\n",
       "      <th></th>\n",
       "      <th>item1</th>\n",
       "      <th>item2</th>\n",
       "      <th>freq</th>\n",
       "      <th>items</th>\n",
       "    </tr>\n",
       "  </thead>\n",
       "  <tbody>\n",
       "    <tr>\n",
       "      <th>2885276</th>\n",
       "      <td>SNACK CRACKERS</td>\n",
       "      <td>LOTTO/GAMBLING MAGAZINE</td>\n",
       "      <td>1.000000</td>\n",
       "      <td>LOTTO/GAMBLING-MAGAZINE,SNACK CRACKERS</td>\n",
       "    </tr>\n",
       "    <tr>\n",
       "      <th>4081988</th>\n",
       "      <td>PREPARED BEANS BAKED W/PORK</td>\n",
       "      <td>PREMIUM ORCHIDS POTTED</td>\n",
       "      <td>1.000000</td>\n",
       "      <td>PREMIUM ORCHIDS POTTED,PREPARED BEANS - BAKED ...</td>\n",
       "    </tr>\n",
       "    <tr>\n",
       "      <th>2120047</th>\n",
       "      <td>OUTGOING/INCOMING FTD</td>\n",
       "      <td>FTD SERVICE CHARGES</td>\n",
       "      <td>1.000000</td>\n",
       "      <td>FTD SERVICE CHARGES,OUTGOING/INCOMING FTD</td>\n",
       "    </tr>\n",
       "    <tr>\n",
       "      <th>2905196</th>\n",
       "      <td>CRV DEPOSIT T/NF</td>\n",
       "      <td>MAGAZINE SUBSCRIPTIONS</td>\n",
       "      <td>0.250000</td>\n",
       "      <td>CRV DEPOSIT T/NF,MAGAZINE SUBSCRIPTIONS</td>\n",
       "    </tr>\n",
       "    <tr>\n",
       "      <th>1290078</th>\n",
       "      <td>CHUCK/SHLDR ROAST</td>\n",
       "      <td>CORPORATE DELETES DO NOT USE</td>\n",
       "      <td>0.142857</td>\n",
       "      <td>CHUCK/SHLDR - ROAST,CORPORATE DELETES (DO NOT USE</td>\n",
       "    </tr>\n",
       "  </tbody>\n",
       "</table>\n",
       "</div>"
      ],
      "text/plain": [
       "                               item1  ...                                              items\n",
       "2885276               SNACK CRACKERS  ...             LOTTO/GAMBLING-MAGAZINE,SNACK CRACKERS\n",
       "4081988  PREPARED BEANS BAKED W/PORK  ...  PREMIUM ORCHIDS POTTED,PREPARED BEANS - BAKED ...\n",
       "2120047        OUTGOING/INCOMING FTD  ...          FTD SERVICE CHARGES,OUTGOING/INCOMING FTD\n",
       "2905196             CRV DEPOSIT T/NF  ...            CRV DEPOSIT T/NF,MAGAZINE SUBSCRIPTIONS\n",
       "1290078            CHUCK/SHLDR ROAST  ...  CHUCK/SHLDR - ROAST,CORPORATE DELETES (DO NOT USE\n",
       "\n",
       "[5 rows x 4 columns]"
      ]
     },
     "execution_count": 67,
     "metadata": {
      "tags": []
     },
     "output_type": "execute_result"
    }
   ],
   "source": [
    "graph_info['item1'] = graph_info['item1'].apply(lambda x: parse_words(x))\n",
    "graph_info['item2'] = graph_info['item2'].apply(parse_words)\n",
    "graph_info.head()"
   ]
  },
  {
   "cell_type": "markdown",
   "metadata": {
    "colab_type": "text",
    "id": "59B80FFH6yNK"
   },
   "source": [
    "### Initialize Graph"
   ]
  },
  {
   "cell_type": "code",
   "execution_count": 0,
   "metadata": {
    "colab": {},
    "colab_type": "code",
    "id": "7SoH45D14uCr"
   },
   "outputs": [],
   "source": [
    "G = nx.Graph()"
   ]
  },
  {
   "cell_type": "markdown",
   "metadata": {
    "colab_type": "text",
    "id": "MInc3-Xeux4E"
   },
   "source": [
    "## Nodes \n",
    "We want to label the nodes with their total frequency of occurrence"
   ]
  },
  {
   "cell_type": "code",
   "execution_count": 0,
   "metadata": {
    "colab": {},
    "colab_type": "code",
    "id": "cVdLugCu1pLP"
   },
   "outputs": [],
   "source": [
    "nodes_df = pd.concat([graph_info.item1,graph_info.item2],axis=0).unique()"
   ]
  },
  {
   "cell_type": "markdown",
   "metadata": {
    "colab_type": "text",
    "id": "H6AEiFbpum12"
   },
   "source": [
    "### Store Total Frequency of Items\n",
    "Group by item, count total basket ids. "
   ]
  },
  {
   "cell_type": "code",
   "execution_count": 0,
   "metadata": {
    "colab": {},
    "colab_type": "code",
    "id": "BtX5wx9tum1u"
   },
   "outputs": [],
   "source": [
    "item_freq_df = trans_prod_df.groupby('SUB_COMMODITY_DESC')\\\n",
    ".agg(countDistinct(\"BASKET_ID\")\\\n",
    "     .alias('count')).sort(col(\"count\")\\\n",
    "                           .desc()).toPandas()"
   ]
  },
  {
   "cell_type": "code",
   "execution_count": 0,
   "metadata": {
    "colab": {},
    "colab_type": "code",
    "id": "xcyL20Xium1T"
   },
   "outputs": [],
   "source": [
    "item_freq_df['SUB_COMMODITY_DESC']= item_freq_df.SUB_COMMODITY_DESC.apply(parse_words)"
   ]
  },
  {
   "cell_type": "markdown",
   "metadata": {
    "colab_type": "text",
    "id": "yGuKvIhsum1N"
   },
   "source": [
    "Design label as \"count:< freq of item >\"\n",
    "We need to merge the nodes dataframe with frequency database "
   ]
  },
  {
   "cell_type": "code",
   "execution_count": null,
   "metadata": {
    "colab": {
     "base_uri": "https://localhost:8080/",
     "height": 201
    },
    "colab_type": "code",
    "id": "JWXvtmSUum09",
    "outputId": "5da1cc32-85ef-40c1-bb7b-61c6eb0d580c"
   },
   "outputs": [],
   "source": [
    "item_freq_df['title'] = item_freq_df['count'].apply(lambda x: 'count: '+str(x))\n",
    "titles = nodes_df.merge(item_freq_df,how='left').title.tolist()\n",
    "nodes_df_complete = nodes_df.merge(item_freq_df,how='left').head()\n",
    "nodes[nodes_df_complete.Sisna()]"
   ]
  },
  {
   "cell_type": "code",
   "execution_count": 0,
   "metadata": {
    "colab": {
     "base_uri": "https://localhost:8080/",
     "height": 35
    },
    "colab_type": "code",
    "id": "m0PNwH0TE3nK",
    "outputId": "28e337b1-f75a-4702-a26a-538efde4ed28"
   },
   "outputs": [
    {
     "name": "stdout",
     "output_type": "stream",
     "text": [
      "We have 753 nodes in total.\n"
     ]
    }
   ],
   "source": [
    "print(\"We have\",np.size(nodes),\"nodes in total.\")"
   ]
  },
  {
   "cell_type": "code",
   "execution_count": 0,
   "metadata": {
    "colab": {},
    "colab_type": "code",
    "id": "32MwIYTWvNzN"
   },
   "outputs": [],
   "source": [
    "nodes = pd.concat([graph_info.item1,graph_info.item2],axis=0).unique().tolist()\n",
    "edges = [tuple(x) for x in graph_info.values[:,:3]]"
   ]
  },
  {
   "cell_type": "markdown",
   "metadata": {
    "colab_type": "text",
    "id": "whyo3vSVgMjm"
   },
   "source": [
    "Add nodes to graph"
   ]
  },
  {
   "cell_type": "code",
   "execution_count": 0,
   "metadata": {
    "colab": {},
    "colab_type": "code",
    "id": "rFcPLRgVrgzs"
   },
   "outputs": [],
   "source": [
    "G.add_nodes_from(nodes,labelHighlightBold=True)"
   ]
  },
  {
   "cell_type": "code",
   "execution_count": 0,
   "metadata": {
    "colab": {},
    "colab_type": "code",
    "id": "cklDfqC4425i"
   },
   "outputs": [],
   "source": [
    "G.add_weighted_edges_from(edges)"
   ]
  },
  {
   "cell_type": "markdown",
   "metadata": {
    "colab_type": "text",
    "id": "8xApZTdl8TpN"
   },
   "source": [
    "## Visualization\n",
    "\n"
   ]
  },
  {
   "cell_type": "code",
   "execution_count": null,
   "metadata": {
    "colab": {
     "base_uri": "https://localhost:8080/",
     "height": 357
    },
    "colab_type": "code",
    "id": "RKH5LXsGum0l",
    "outputId": "883ff4d8-84bd-4f94-a399-80d1632d4f08"
   },
   "outputs": [],
   "source": [
    "net = Network(height=\"500px\", width=\"800px\")\n",
    "net.barnes_hut(spring_strength=0.015)\n",
    "net.add_nodes(nodes,title=titles)\n",
    "net.add_edges(edges)\n",
    "#net.show_buttons(filter_=['physics'])\n",
    "net.show('graph_commodities.html')"
   ]
  },
  {
   "cell_type": "markdown",
   "metadata": {
    "colab_type": "text",
    "id": "FSAS7Vlz-Pic"
   },
   "source": [
    "## Degree Distribution\n",
    "We will now observe how connected the nodes are."
   ]
  },
  {
   "cell_type": "code",
   "execution_count": 0,
   "metadata": {
    "colab": {},
    "colab_type": "code",
    "id": "UvEZK6i1-UnK"
   },
   "outputs": [],
   "source": [
    "# Helper function for plotting the degree distribution of a Graph\n",
    "def plot_degree_distribution(G):\n",
    "    degrees = {}\n",
    "    for node in G.nodes():\n",
    "        degree = G.degree(node)\n",
    "        if degree not in degrees:\n",
    "            degrees[degree] = 0\n",
    "        degrees[degree] += 1\n",
    "    sorted_degree = sorted(degrees.items())\n",
    "    deg = [k for (k,v) in sorted_degree]\n",
    "    cnt = [v for (k,v) in sorted_degree]\n",
    "    fig, ax = plt.subplots()\n",
    "    plt.bar(deg, cnt, width=0.80, color='b')\n",
    "    plt.title(\"Degree Distribution\")\n",
    "    plt.ylabel(\"Frequency\")\n",
    "    plt.xlabel(\"Degree\")\n",
    "    #ax.set_xticks([d+0.05 for d in deg])\n",
    "    #ax.set_xticklabels(deg)\n",
    "    #ax.set_xscale('log')"
   ]
  },
  {
   "cell_type": "code",
   "execution_count": 0,
   "metadata": {
    "colab": {
     "base_uri": "https://localhost:8080/",
     "height": 295
    },
    "colab_type": "code",
    "id": "P3vpUW0V-WD4",
    "outputId": "fed548bc-e261-410e-8490-318833ac390e"
   },
   "outputs": [
    {
     "data": {
      "image/png": "[encoded data removed]",
      "text/plain": [
       "<Figure size 432x288 with 1 Axes>"
      ]
     },
     "metadata": {
      "tags": []
     },
     "output_type": "display_data"
    }
   ],
   "source": [
    "plot_degree_distribution(G)"
   ]
  },
  {
   "cell_type": "markdown",
   "metadata": {
    "colab_type": "text",
    "id": "gKqVQzhq_pHT"
   },
   "source": [
    "We see that most nodes have a low degree but there are some with a high degree of connectivity with up to 60 edges"
   ]
  },
  {
   "cell_type": "markdown",
   "metadata": {
    "colab_type": "text",
    "id": "lzkfFWS1_z2w"
   },
   "source": [
    "## Connected Components"
   ]
  },
  {
   "cell_type": "code",
   "execution_count": 0,
   "metadata": {
    "colab": {
     "base_uri": "https://localhost:8080/",
     "height": 69
    },
    "colab_type": "code",
    "id": "JfWO5mlD_-qO",
    "outputId": "86c4fec8-13d8-4058-dd8d-1440efe1c6b5"
   },
   "outputs": [
    {
     "name": "stdout",
     "output_type": "stream",
     "text": [
      "False\n",
      "The graph contains 160 connected components\n",
      "The largest component has 269 nodes accounting for 35.72 % of the nodes\n"
     ]
    }
   ],
   "source": [
    "print(nx.is_connected(G))\n",
    "comp = list(nx.connected_components(G))\n",
    "print('The graph contains', len(comp), 'connected components')\n",
    "lengths = [len(g) for g in (comp)]\n",
    "largest_comp = np.argmax(lengths)\n",
    "percentage_lcc = len(comp[largest_comp])/G.number_of_nodes() * 100\n",
    "print('The largest component has', len(comp[largest_comp]), 'nodes', 'accounting for %.2f'% percentage_lcc, '% of the nodes')"
   ]
  },
  {
   "cell_type": "code",
   "execution_count": 0,
   "metadata": {
    "colab": {},
    "colab_type": "code",
    "id": "XeAmt7n0vQtU"
   },
   "outputs": [],
   "source": []
  },
  {
   "cell_type": "markdown",
   "metadata": {
    "colab_type": "text",
    "id": "v1xWoSktBhpZ"
   },
   "source": [
    "## Shortest Path of largest Group\n"
   ]
  },
  {
   "cell_type": "code",
   "execution_count": 0,
   "metadata": {
    "colab": {
     "base_uri": "https://localhost:8080/",
     "height": 52
    },
    "colab_type": "code",
    "id": "fjMXDSePBkYY",
    "outputId": "47562af5-a5b1-4039-a48b-b815032444f7"
   },
   "outputs": [
    {
     "name": "stdout",
     "output_type": "stream",
     "text": [
      "The diameter of the largest connected component is 12\n",
      "The avg shortest path length of the largest connected component is 3.74\n"
     ]
    }
   ],
   "source": [
    "bigGroup = G.subgraph(comp[largest_comp])\n",
    "print(\"The diameter of the largest connected component is\", nx.diameter(bigGroup))\n",
    "print(\"The avg shortest path length of the largest connected component is %.2f\" % nx.average_shortest_path_length(bigGroup))"
   ]
  },
  {
   "cell_type": "markdown",
   "metadata": {
    "colab_type": "text",
    "id": "Nd8FGMBMCT0E"
   },
   "source": [
    "## Item Importance \n",
    "We will look at the item importance with the degree centrality and with the betweenness centrality"
   ]
  },
  {
   "cell_type": "markdown",
   "metadata": {
    "colab_type": "text",
    "id": "pPtxMXv0FjUE"
   },
   "source": [
    "### Degree Centrality\n",
    "We will compute the degree centrality rather than the Katz centrality due to computational abilities"
   ]
  },
  {
   "cell_type": "code",
   "execution_count": 0,
   "metadata": {
    "colab": {
     "base_uri": "https://localhost:8080/",
     "height": 191
    },
    "colab_type": "code",
    "id": "eo2Ia103DZpA",
    "outputId": "71504891-50ac-4a51-e6f0-efce680531f1"
   },
   "outputs": [
    {
     "name": "stdout",
     "output_type": "stream",
     "text": [
      "PASTA CANNED is connected to 39 other commodities\n",
      "POTATO CHIPS is connected to 36 other commodities\n",
      "SUGAR is connected to 35 other commodities\n",
      "MAINSTREAM WHITE BREAD is connected to 35 other commodities\n",
      "KIDS CEREAL is connected to 35 other commodities\n",
      "CORN is connected to 33 other commodities\n",
      "CHEESE CRACKERS CHEEZ ITS/GOL is connected to 32 other commodities\n",
      "TUNA is connected to 32 other commodities\n",
      "ENHANCED is connected to 32 other commodities\n",
      "SNACKS/APPETIZERS is connected to 32 other commodities\n"
     ]
    }
   ],
   "source": [
    "degrees = dict(bigGroup.degree(bigGroup.nodes()))\n",
    "sorted_degree = sorted(degrees.items(), key=itemgetter(1), reverse=True)\n",
    "\n",
    "# And the top 10 most popular commodities are.. \n",
    "for commodity, degree in sorted_degree[:10]:\n",
    "    print(commodity, 'is connected to', degree, 'other commodities')"
   ]
  },
  {
   "cell_type": "code",
   "execution_count": 0,
   "metadata": {
    "colab": {
     "base_uri": "https://localhost:8080/",
     "height": 297
    },
    "colab_type": "code",
    "id": "NJxEOx8BsXvs",
    "outputId": "467654ad-1d36-40fd-fda3-edb5570cc2a5"
   },
   "outputs": [
    {
     "data": {
      "image/png": "[encoded data removed]",
      "text/plain": [
       "<Figure size 432x288 with 1 Axes>"
      ]
     },
     "metadata": {
      "tags": []
     },
     "output_type": "display_data"
    }
   ],
   "source": [
    "degree_df = pd.DataFrame(sorted_degree,columns=['commodity','degree']).head(20)\n",
    "ax = sns.barplot(x=\"degree\", y=\"commodity\", data=degree_df)\n",
    "plt.tight_layout(h_pad=2)\n",
    "plt.savefig('degree_distribution.png')"
   ]
  },
  {
   "cell_type": "markdown",
   "metadata": {
    "colab_type": "text",
    "id": "-NnbQJNUEX0D"
   },
   "source": [
    "It is interesting to see that the top items are not necessarily the most bought items when analysing the sales value of all transactions. Here we see the items that most-co-ocurrent in the shopping carts. \n",
    "\n",
    "We see that these items are not very healthy per se. "
   ]
  },
  {
   "cell_type": "markdown",
   "metadata": {
    "colab_type": "text",
    "id": "yGE9TF8lFcN5"
   },
   "source": [
    "### Betweenness Centrality\n",
    "We can now look at the items where the highest amount of shortest paths pass by. "
   ]
  },
  {
   "cell_type": "code",
   "execution_count": 0,
   "metadata": {
    "colab": {
     "base_uri": "https://localhost:8080/",
     "height": 191
    },
    "colab_type": "code",
    "id": "q8jjsxwREE31",
    "outputId": "1890bdc0-24b4-4f97-c98d-1fbc94463f3e"
   },
   "outputs": [
    {
     "name": "stdout",
     "output_type": "stream",
     "text": [
      "PAPER TOWELS & HOLDERS has betweeness: 0.122\n",
      "PAPER NAPKINS has betweeness: 0.072\n",
      "FOAM PLATES has betweeness: 0.066\n",
      "CANDY BARS (SINGLES)(INCLUDING has betweeness: 0.060\n",
      "SS ECONOMY ENTREES/DINNERS ALL has betweeness: 0.058\n",
      "CANDY BARS (MULTI PACK) has betweeness: 0.051\n",
      "MAINSTREAM WHITE BREAD has betweeness: 0.047\n",
      "FRZN SS PREMIUM ENTREES/DNRS/N has betweeness: 0.046\n",
      "TOILET TISSUE has betweeness: 0.045\n",
      "SUGAR has betweeness: 0.043\n"
     ]
    }
   ],
   "source": [
    "# Compute betweenness centrality\n",
    "betweenness = nx.betweenness_centrality(bigGroup)\n",
    "# Assign the computed centrality values as a node-attribute in your network\n",
    "nx.set_node_attributes(bigGroup, betweenness, 'betweenness')\n",
    "sorted_betweenness = sorted(betweenness.items(), key=itemgetter(1), reverse=True)\n",
    "\n",
    "for commodity, bw in sorted_betweenness[:10]:\n",
    "    print(commodity, 'has betweeness: %.3f' %bw)"
   ]
  },
  {
   "cell_type": "markdown",
   "metadata": {
    "colab_type": "text",
    "id": "kMOxzvWxFPdZ"
   },
   "source": [
    "These items on the other hand seem to be neutral items connecting perhaps food with other non-food items. In fact, what is probably the case is that these items are in a single branch of the graph that all shortest paths must pass by. Therefore, this measure is not very relevant. "
   ]
  },
  {
   "cell_type": "markdown",
   "metadata": {
    "colab_type": "text",
    "id": "Oj9P4dSUzyA7"
   },
   "source": [
    "## See neighborhoods\n",
    "We will see whether neighboring items are indeed related"
   ]
  },
  {
   "cell_type": "code",
   "execution_count": 0,
   "metadata": {
    "colab": {},
    "colab_type": "code",
    "id": "3Ygbhta0xGWy"
   },
   "outputs": [],
   "source": [
    "nodes_df = pd.DataFrame(nodes,columns=['sub_commodity_desc'])"
   ]
  },
  {
   "cell_type": "code",
   "execution_count": 0,
   "metadata": {
    "colab": {},
    "colab_type": "code",
    "id": "vVoFAGe2v5Bm"
   },
   "outputs": [],
   "source": [
    "def get_neighborhood(item):\n",
    "  items_in_graph = nodes_df[nodes_df.sub_commodity_desc.str.contains(item.upper())].values.tolist()\n",
    "  items_in_graph = [item for sublist in items_in_graph for item in sublist]\n",
    "  for it in items_in_graph:\n",
    "    print('Neighbors of',it,':\\n',net.neighbors(it))"
   ]
  },
  {
   "cell_type": "code",
   "execution_count": 0,
   "metadata": {
    "colab": {
     "base_uri": "https://localhost:8080/",
     "height": 35
    },
    "colab_type": "code",
    "id": "WR6IA3pYJrAR",
    "outputId": "0124803f-84f6-433c-91b1-4a2f1e27477a"
   },
   "outputs": [
    {
     "name": "stdout",
     "output_type": "stream",
     "text": [
      "HAIR CONDITIONERS AND RINSES,SOLID/STK DEODORANTS,TOILET TISSUE,TOOTHPASTE\n"
     ]
    }
   ],
   "source": [
    "print(\",\".join(list(net.neighbors('BAR SOAP'))))"
   ]
  },
  {
   "cell_type": "code",
   "execution_count": 0,
   "metadata": {
    "colab": {
     "base_uri": "https://localhost:8080/",
     "height": 156
    },
    "colab_type": "code",
    "id": "zuNHYlTO8dpV",
    "outputId": "4d1cf996-2e81-4e69-dccb-8d81384cf015"
   },
   "outputs": [
    {
     "name": "stdout",
     "output_type": "stream",
     "text": [
      "Neighbors of REFRIG DIPS :\n",
      " {'POTATO CHIPS', 'CORN CHIPS'}\n",
      "Neighbors of DIPS (NON-REFRIGERATED) :\n",
      " {'CORN CHIPS'}\n",
      "Neighbors of SAL: SALSA/DIPS BULK :\n",
      " {'CARBONATED WATER - FLVRD UNSWE'}\n",
      "Neighbors of DIPS :\n",
      " {'CAULIFLOWER WHOLE'}\n"
     ]
    }
   ],
   "source": [
    "get_neighborhood('dip')"
   ]
  },
  {
   "cell_type": "code",
   "execution_count": 0,
   "metadata": {
    "colab": {
     "base_uri": "https://localhost:8080/",
     "height": 87
    },
    "colab_type": "code",
    "id": "eQ6cYK-kIRNa",
    "outputId": "da0f0373-ac1f-4d8f-e96e-63d9e3eab87c"
   },
   "outputs": [
    {
     "name": "stdout",
     "output_type": "stream",
     "text": [
      "Neighbors of MARSHMALLOWS :\n",
      " {'CANDY BARS (MULTI PACK)', 'GRAHAM CRACKERS'}\n",
      "Neighbors of MARSHMALLOW CREME :\n",
      " {'COOKING CHOCOLATE (EX SMI-SWT)'}\n"
     ]
    }
   ],
   "source": [
    "get_neighborhood('MARSHMALLOW')"
   ]
  },
  {
   "cell_type": "code",
   "execution_count": 0,
   "metadata": {
    "colab": {
     "base_uri": "https://localhost:8080/",
     "height": 315
    },
    "colab_type": "code",
    "id": "xTuccbAMJIt7",
    "outputId": "4e161f6b-2264-4770-dc87-2e1ccc5cea82"
   },
   "outputs": [
    {
     "name": "stdout",
     "output_type": "stream",
     "text": [
      "Neighbors of PIZZA/ECONOMY :\n",
      " {'FRZN FRENCH FRIES', 'LEAN', 'SS ECONOMY ENTREES/DINNERS ALL'}\n",
      "Neighbors of PIZZA SAUCE :\n",
      " {'PEPPERONI/SALAMI', 'PIZZA MIX DRY', 'REFRIG PIZZA&INGRED  N/MEAT DE'}\n",
      "Neighbors of FROZEN PIZZA :\n",
      " {'BARS - GRANOLA/SNACK', 'FROZEN BREAKFAST', 'FROZEN VEGETABLES', 'BREAKFAST BARS/TARTS/SCONES', 'FROZEN CONVENIENCE/POCKETS', 'BOXED PREPARED/ENTREE/DRY PREP'}\n",
      "Neighbors of PIZZA/PREMIUM :\n",
      " {'FRZN MULTI SERVE ENTREES ALL', 'SANDWICHES&HANDHELDS', 'REFRIGERATED SPECILATY ROLLS', 'PREMIUM BREAD', 'WAFFLES/PANCAKES/FRENCH TOAST', 'FRZN SS PREMIUM ENTREES/DNRS/T', 'GRANOLA BARS'}\n",
      "Neighbors of PIZZA/TRADITIONAL :\n",
      " {'LEAN', 'MACARONI & CHEESE DNRS', 'TORTILLA/NACHO CHIPS', 'SNACKS/APPETIZERS', 'ASEPTIC PACK JUICE AND DRINKS', 'MAINSTREAM WHITE BREAD'}\n",
      "Neighbors of QSR FD: COLD PIZZA :\n",
      " {'HAND/BODY/FACIAL (MEDICATED)'}\n",
      "Neighbors of REFRIG PIZZA&INGRED  N/MEAT DE :\n",
      " {'PIZZA SAUCE'}\n",
      "Neighbors of PIZZA MIX DRY :\n",
      " {'PIZZA SAUCE'}\n"
     ]
    }
   ],
   "source": [
    "get_neighborhood('pizza')"
   ]
  },
  {
   "cell_type": "code",
   "execution_count": 0,
   "metadata": {
    "colab": {
     "base_uri": "https://localhost:8080/",
     "height": 349
    },
    "colab_type": "code",
    "id": "c23nVUeUJSQD",
    "outputId": "9d7dff97-5c46-4355-a196-2f7ad6902542"
   },
   "outputs": [
    {
     "name": "stdout",
     "output_type": "stream",
     "text": [
      "Neighbors of CANDY BAGS-NON CHOCOLATE :\n",
      " {'CANDY BAGS-CHOCOCLATE'}\n",
      "Neighbors of SEASONAL CANDY BAGS-CHOCOLATE :\n",
      " {'CANDY BAGS-CHOCOCLATE W/FLOUR', 'CANDY BAGS-CHOCOCLATE'}\n",
      "Neighbors of CANDY BARS (SINGLES)(INCLUDING :\n",
      " {'PASTA: CANNED', 'EGGS - X-LARGE', 'SFT DRNK MLT-PK BTL CARB (EXCP', 'REFRIGERATED BISCUITS REGULAR', 'LIQUID LAUNDRY DETERGENTS', 'NON-CRBNTD DRNKING/MNERAL WATE', 'POTATOES RUSSET (BULK&BAG)', 'FLUID MILK WHITE ONLY', 'CANDY BARS (MULTI PACK)', 'NATURAL CHEESE EXACT WT CHUNKS', 'SNACKS/APPETIZERS', 'SS ECONOMY ENTREES/DINNERS ALL', 'MAINSTREAM WHITE BREAD', 'MARGARINE: TUBS AND BOWLS'}\n",
      "Neighbors of CANDY BARS (MULTI PACK) :\n",
      " {'MARSHMALLOWS', 'SFT DRNK SNGL SRV BTL CARB (EX', 'CANDY BARS (SINGLES)(INCLUDING', 'CANDY BAGS-CHOCOCLATE'}\n",
      "Neighbors of MISCELLANEOUS CANDY (INCLUDING :\n",
      " {'CANDY BAGS-CHOCOCLATE'}\n",
      "Neighbors of MINTS CANDY & BREATH (NOT LIF :\n",
      " {'CHEWING GUM'}\n",
      "Neighbors of CANDY BAGS-CHOCOCLATE W/FLOUR :\n",
      " {'SEASONAL CANDY BAGS-CHOCOLATE'}\n",
      "Neighbors of CANDY/CHOCOLATE :\n",
      " {'BARS - GRANOLA/SNACK'}\n",
      "Neighbors of CANDY BAGS-CHOCOCLATE :\n",
      " {'MISCELLANEOUS CANDY (INCLUDING', 'CANDY BARS (MULTI PACK)', 'CANDY BAGS-NON CHOCOLATE', 'SEASONAL CANDY BAGS-CHOCOLATE'}\n"
     ]
    }
   ],
   "source": [
    "get_neighborhood('candy')"
   ]
  },
  {
   "cell_type": "code",
   "execution_count": 0,
   "metadata": {
    "colab": {
     "base_uri": "https://localhost:8080/",
     "height": 419
    },
    "colab_type": "code",
    "id": "1_Eqb9nkK50v",
    "outputId": "5bc7ed3b-cf14-4e27-f1bb-5c6e9a5033eb"
   },
   "outputs": [
    {
     "name": "stdout",
     "output_type": "stream",
     "text": [
      "Neighbors of ORIENTAL VEGETABLES :\n",
      " {'ORIENTAL OTHER SAUCES MARINAD', 'ORIENTAL NOODLES RICE'}\n",
      "Neighbors of FRZN BAGGED VEGETABLES- VALUE :\n",
      " {'FRZN BOXED VEGETABLES- VALUE A'}\n",
      "Neighbors of FRZN BAGGED VEGETABLES - PLAIN :\n",
      " {'PASTA: CANNED', 'IWS SINGLE CHEESE', 'CELERY', 'FRZN MULTI SERVE ENTREES ALL', 'FRZN FRENCH FRIES', 'SNACKS/APPETIZERS', 'MAINSTREAM WHEAT/MULTIGRAIN BR', 'MAINSTREAM WHITE BREAD', 'MAINSTREAM', 'LIQUID LAUNDRY DETERGENTS', 'NATURAL CHEESE EXACT WT CHUNKS', 'BROTH', 'TUNA', 'SEMI-SOLID SALAD DRESSING MAY', 'SAUCE MIXES GRAVY MIXES DRY', 'MARGARINE: TUBS AND BOWLS', 'MACARONI & CHEESE DNRS', 'SOUR CREAMS', 'MARGARINE  STICK', 'ADULT CEREAL', 'MEAT: TURKEY BULK', 'COTTAGE CHEESE', 'RTS SOUP: CHUNKY/HOMESTYLE ET', 'CORN', 'KIDS CEREAL', 'SOUP CRACKERS (SALTINE/OYSTER)', 'HOT DOG BUNS', 'SS ECONOMY ENTREES/DINNERS ALL'}\n",
      "Neighbors of VEGETABLE/SALAD OIL :\n",
      " {'SUGAR', 'FRZN FRENCH FRIES', 'POTATOES: DRY', 'SOFT DRINK POWDER POUCHES', 'FROSTING'}\n",
      "Neighbors of VEGETABLES ALL OTHER :\n",
      " {'BROCCOLI WHOLE&CROWNS', 'SQUASH ZUCCHINI', 'CAULIFLOWER WHOLE', 'CABBAGE'}\n",
      "Neighbors of AUTHENTIC VEGETABLES AND FOODS :\n",
      " {'TOMATO JUICE (50% AND UNDER)', 'HISPANIC CARBONATED BEVERAGES', 'TOMATOES-OTHER'}\n",
      "Neighbors of VEGETABLES/DRY BEANS :\n",
      " {'MEATLESS/VEGETARIAN', 'BROTHS', 'PASTA/RAMEN'}\n",
      "Neighbors of FRZN BOXED VEGETABLES- VALUE A :\n",
      " {'FRZN BAGGED VEGETABLES- VALUE', 'FRZN SS PREMIUM ENTREES/DNRS/N'}\n",
      "Neighbors of VEGETABLE SALADS - BULK :\n",
      " {'PASTA/GRAIN SALADS - BULK'}\n",
      "Neighbors of FROZEN VEGETABLES :\n",
      " {'FROZEN ENTREES', 'FROZEN PIZZA'}\n",
      "Neighbors of VEGETABLE PARTY TRAY :\n",
      " {'DELI TRAY:MEAT AND CHEESE'}\n"
     ]
    }
   ],
   "source": [
    "get_neighborhood('vegetable')"
   ]
  },
  {
   "cell_type": "markdown",
   "metadata": {
    "colab_type": "text",
    "id": "Og9C1kbALF2T"
   },
   "source": [
    "We see that for the most part the connections make sense!"
   ]
  }
 ],
 "metadata": {
  "colab": {
   "collapsed_sections": [],
   "name": "Graph_of_commodities.ipynb",
   "provenance": [],
   "toc_visible": true
  },
  "kernelspec": {
   "display_name": "Python 3",
   "language": "python",
   "name": "python3"
  },
  "language_info": {
   "codemirror_mode": {
    "name": "ipython",
    "version": 3
   },
   "file_extension": ".py",
   "mimetype": "text/x-python",
   "name": "python",
   "nbconvert_exporter": "python",
   "pygments_lexer": "ipython3",
   "version": "3.7.4"
  }
 },
 "nbformat": 4,
 "nbformat_minor": 1
}
