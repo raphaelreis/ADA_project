{
 "cells": [
  {
   "cell_type": "code",
   "execution_count": 383,
   "metadata": {},
   "outputs": [
    {
     "name": "stdout",
     "output_type": "stream",
     "text": [
      "The autoreload extension is already loaded. To reload it, use:\n",
      "  %reload_ext autoreload\n"
     ]
    }
   ],
   "source": [
    "%matplotlib inline\n",
    "%load_ext autoreload\n",
    "import re\n",
    "import os\n",
    "import numpy as np\n",
    "import pandas as pd\n",
    "from requests import get\n",
    "from tabulate import tabulate\n",
    "from bs4 import BeautifulSoup\n",
    "import matplotlib.pyplot as plt\n",
    "import seaborn as sns\n",
    "from matplotlib.ticker import MaxNLocator\n",
    "#%aimport utils"
   ]
  },
  {
   "cell_type": "markdown",
   "metadata": {},
   "source": [
    "# Table of content"
   ]
  },
  {
   "cell_type": "markdown",
   "metadata": {},
   "source": [
    "1. [Data Acquisition](#data_acqui)\n",
    "    * [Loading](#loading)\n",
    "    * [Cleaning](#cleaning)\n",
    "        * [Transition](#c_trans)\n",
    "        * [Demographic](#c_demo)\n",
    "        * [Product](#c_prod)\n",
    "    * [Saving files](#saving)\n",
    "2. [Exploration](#exploration)\n",
    "    * [Getting sense of the data](#sense)\n",
    "        * [Feature presentation](#feat_pres)\n",
    "            * [Transition](#fp_tran)\n",
    "            * [Demographic](#fp_demo)\n",
    "            * [Product](#fp_prod)\n",
    "        * [Feature range](#ft_range)\n",
    "            * [Transition](#ft_tran)\n",
    "            * [Demographic](#ft_demo)\n",
    "            * [Product](#ft_prod)\n",
    "        * [Distributions](#distributions)\n",
    "            * [Transition](#d_tran)\n",
    "            * [Demographic](#d_demo)\n",
    "            * [Product](#d_prod)\n",
    "        * [Outliers analysis](#outliers)\n",
    "3. [Exploitation (work in progress...)](#explo)"
   ]
  },
  {
   "cell_type": "markdown",
   "metadata": {},
   "source": [
    "<a id=data_acqui></a>\n",
    "# 1. Data Acquisition"
   ]
  },
  {
   "cell_type": "markdown",
   "metadata": {},
   "source": [
    "<a id=loading></a>\n",
    "## Loading"
   ]
  },
  {
   "cell_type": "code",
   "execution_count": 384,
   "metadata": {},
   "outputs": [
    {
     "name": "stdout",
     "output_type": "stream",
     "text": [
      "campaign_desc.csv\n",
      "campaign_table.csv\n",
      "causal_data.csv\n",
      "coupon.csv\n",
      "coupon_redempt.csv\n",
      "hh_demographic.csv\n",
      "product.csv\n",
      "transaction_data.csv\n"
     ]
    }
   ],
   "source": [
    "dfList = []\n",
    "for r, d, f in os.walk('../data/dunnhumby - The Complete Journey CSV/'):\n",
    "    for file in f:\n",
    "        if '.csv' in file:\n",
    "            print(file)\n",
    "            dfList.append(pd.read_csv(os.path.join(r, file)))"
   ]
  },
  {
   "cell_type": "code",
   "execution_count": 390,
   "metadata": {},
   "outputs": [],
   "source": [
    "hh_demographic_df = dfList[5].copy()\n",
    "product_df = dfList[6].copy()\n",
    "transaction_data_df = dfList[7].copy()\n"
   ]
  },
  {
   "cell_type": "code",
   "execution_count": 391,
   "metadata": {},
   "outputs": [
    {
     "data": {
      "text/html": [
       "<div>\n",
       "<style scoped>\n",
       "    .dataframe tbody tr th:only-of-type {\n",
       "        vertical-align: middle;\n",
       "    }\n",
       "\n",
       "    .dataframe tbody tr th {\n",
       "        vertical-align: top;\n",
       "    }\n",
       "\n",
       "    .dataframe thead th {\n",
       "        text-align: right;\n",
       "    }\n",
       "</style>\n",
       "<table border=\"1\" class=\"dataframe\">\n",
       "  <thead>\n",
       "    <tr style=\"text-align: right;\">\n",
       "      <th></th>\n",
       "      <th>household_key</th>\n",
       "      <th>BASKET_ID</th>\n",
       "      <th>DAY</th>\n",
       "      <th>PRODUCT_ID</th>\n",
       "      <th>QUANTITY</th>\n",
       "      <th>SALES_VALUE</th>\n",
       "      <th>STORE_ID</th>\n",
       "      <th>RETAIL_DISC</th>\n",
       "      <th>TRANS_TIME</th>\n",
       "      <th>WEEK_NO</th>\n",
       "      <th>COUPON_DISC</th>\n",
       "      <th>COUPON_MATCH_DISC</th>\n",
       "    </tr>\n",
       "  </thead>\n",
       "  <tbody>\n",
       "    <tr>\n",
       "      <td>0</td>\n",
       "      <td>2375</td>\n",
       "      <td>26984851472</td>\n",
       "      <td>1</td>\n",
       "      <td>1004906</td>\n",
       "      <td>1</td>\n",
       "      <td>1.39</td>\n",
       "      <td>364</td>\n",
       "      <td>-0.60</td>\n",
       "      <td>1631</td>\n",
       "      <td>1</td>\n",
       "      <td>0.0</td>\n",
       "      <td>0.0</td>\n",
       "    </tr>\n",
       "    <tr>\n",
       "      <td>1</td>\n",
       "      <td>2375</td>\n",
       "      <td>26984851472</td>\n",
       "      <td>1</td>\n",
       "      <td>1033142</td>\n",
       "      <td>1</td>\n",
       "      <td>0.82</td>\n",
       "      <td>364</td>\n",
       "      <td>0.00</td>\n",
       "      <td>1631</td>\n",
       "      <td>1</td>\n",
       "      <td>0.0</td>\n",
       "      <td>0.0</td>\n",
       "    </tr>\n",
       "    <tr>\n",
       "      <td>2</td>\n",
       "      <td>2375</td>\n",
       "      <td>26984851472</td>\n",
       "      <td>1</td>\n",
       "      <td>1036325</td>\n",
       "      <td>1</td>\n",
       "      <td>0.99</td>\n",
       "      <td>364</td>\n",
       "      <td>-0.30</td>\n",
       "      <td>1631</td>\n",
       "      <td>1</td>\n",
       "      <td>0.0</td>\n",
       "      <td>0.0</td>\n",
       "    </tr>\n",
       "    <tr>\n",
       "      <td>3</td>\n",
       "      <td>2375</td>\n",
       "      <td>26984851472</td>\n",
       "      <td>1</td>\n",
       "      <td>1082185</td>\n",
       "      <td>1</td>\n",
       "      <td>1.21</td>\n",
       "      <td>364</td>\n",
       "      <td>0.00</td>\n",
       "      <td>1631</td>\n",
       "      <td>1</td>\n",
       "      <td>0.0</td>\n",
       "      <td>0.0</td>\n",
       "    </tr>\n",
       "    <tr>\n",
       "      <td>4</td>\n",
       "      <td>2375</td>\n",
       "      <td>26984851472</td>\n",
       "      <td>1</td>\n",
       "      <td>8160430</td>\n",
       "      <td>1</td>\n",
       "      <td>1.50</td>\n",
       "      <td>364</td>\n",
       "      <td>-0.39</td>\n",
       "      <td>1631</td>\n",
       "      <td>1</td>\n",
       "      <td>0.0</td>\n",
       "      <td>0.0</td>\n",
       "    </tr>\n",
       "  </tbody>\n",
       "</table>\n",
       "</div>"
      ],
      "text/plain": [
       "   household_key    BASKET_ID  DAY  PRODUCT_ID  QUANTITY  SALES_VALUE  \\\n",
       "0           2375  26984851472    1     1004906         1         1.39   \n",
       "1           2375  26984851472    1     1033142         1         0.82   \n",
       "2           2375  26984851472    1     1036325         1         0.99   \n",
       "3           2375  26984851472    1     1082185         1         1.21   \n",
       "4           2375  26984851472    1     8160430         1         1.50   \n",
       "\n",
       "   STORE_ID  RETAIL_DISC  TRANS_TIME  WEEK_NO  COUPON_DISC  COUPON_MATCH_DISC  \n",
       "0       364        -0.60        1631        1          0.0                0.0  \n",
       "1       364         0.00        1631        1          0.0                0.0  \n",
       "2       364        -0.30        1631        1          0.0                0.0  \n",
       "3       364         0.00        1631        1          0.0                0.0  \n",
       "4       364        -0.39        1631        1          0.0                0.0  "
      ]
     },
     "execution_count": 391,
     "metadata": {},
     "output_type": "execute_result"
    }
   ],
   "source": [
    "# This table contains all products purchased by households within this study. Each line found in\n",
    "# this table is essentially the same line that would be found on a store receipt.\n",
    "transaction_data_df.head()"
   ]
  },
  {
   "cell_type": "code",
   "execution_count": 392,
   "metadata": {},
   "outputs": [
    {
     "data": {
      "text/html": [
       "<div>\n",
       "<style scoped>\n",
       "    .dataframe tbody tr th:only-of-type {\n",
       "        vertical-align: middle;\n",
       "    }\n",
       "\n",
       "    .dataframe tbody tr th {\n",
       "        vertical-align: top;\n",
       "    }\n",
       "\n",
       "    .dataframe thead th {\n",
       "        text-align: right;\n",
       "    }\n",
       "</style>\n",
       "<table border=\"1\" class=\"dataframe\">\n",
       "  <thead>\n",
       "    <tr style=\"text-align: right;\">\n",
       "      <th></th>\n",
       "      <th>AGE_DESC</th>\n",
       "      <th>MARITAL_STATUS_CODE</th>\n",
       "      <th>INCOME_DESC</th>\n",
       "      <th>HOMEOWNER_DESC</th>\n",
       "      <th>HH_COMP_DESC</th>\n",
       "      <th>HOUSEHOLD_SIZE_DESC</th>\n",
       "      <th>KID_CATEGORY_DESC</th>\n",
       "      <th>household_key</th>\n",
       "    </tr>\n",
       "  </thead>\n",
       "  <tbody>\n",
       "    <tr>\n",
       "      <td>0</td>\n",
       "      <td>65+</td>\n",
       "      <td>A</td>\n",
       "      <td>35-49K</td>\n",
       "      <td>Homeowner</td>\n",
       "      <td>2 Adults No Kids</td>\n",
       "      <td>2</td>\n",
       "      <td>None/Unknown</td>\n",
       "      <td>1</td>\n",
       "    </tr>\n",
       "    <tr>\n",
       "      <td>1</td>\n",
       "      <td>45-54</td>\n",
       "      <td>A</td>\n",
       "      <td>50-74K</td>\n",
       "      <td>Homeowner</td>\n",
       "      <td>2 Adults No Kids</td>\n",
       "      <td>2</td>\n",
       "      <td>None/Unknown</td>\n",
       "      <td>7</td>\n",
       "    </tr>\n",
       "    <tr>\n",
       "      <td>2</td>\n",
       "      <td>25-34</td>\n",
       "      <td>U</td>\n",
       "      <td>25-34K</td>\n",
       "      <td>Unknown</td>\n",
       "      <td>2 Adults Kids</td>\n",
       "      <td>3</td>\n",
       "      <td>1</td>\n",
       "      <td>8</td>\n",
       "    </tr>\n",
       "    <tr>\n",
       "      <td>3</td>\n",
       "      <td>25-34</td>\n",
       "      <td>U</td>\n",
       "      <td>75-99K</td>\n",
       "      <td>Homeowner</td>\n",
       "      <td>2 Adults Kids</td>\n",
       "      <td>4</td>\n",
       "      <td>2</td>\n",
       "      <td>13</td>\n",
       "    </tr>\n",
       "    <tr>\n",
       "      <td>4</td>\n",
       "      <td>45-54</td>\n",
       "      <td>B</td>\n",
       "      <td>50-74K</td>\n",
       "      <td>Homeowner</td>\n",
       "      <td>Single Female</td>\n",
       "      <td>1</td>\n",
       "      <td>None/Unknown</td>\n",
       "      <td>16</td>\n",
       "    </tr>\n",
       "  </tbody>\n",
       "</table>\n",
       "</div>"
      ],
      "text/plain": [
       "  AGE_DESC MARITAL_STATUS_CODE INCOME_DESC HOMEOWNER_DESC      HH_COMP_DESC  \\\n",
       "0      65+                   A      35-49K      Homeowner  2 Adults No Kids   \n",
       "1    45-54                   A      50-74K      Homeowner  2 Adults No Kids   \n",
       "2    25-34                   U      25-34K        Unknown     2 Adults Kids   \n",
       "3    25-34                   U      75-99K      Homeowner     2 Adults Kids   \n",
       "4    45-54                   B      50-74K      Homeowner     Single Female   \n",
       "\n",
       "  HOUSEHOLD_SIZE_DESC KID_CATEGORY_DESC  household_key  \n",
       "0                   2      None/Unknown              1  \n",
       "1                   2      None/Unknown              7  \n",
       "2                   3                 1              8  \n",
       "3                   4                 2             13  \n",
       "4                   1      None/Unknown             16  "
      ]
     },
     "execution_count": 392,
     "metadata": {},
     "output_type": "execute_result"
    }
   ],
   "source": [
    "# This table contains demographic information for a portion of households. Due to nature of the\n",
    "# data, the demographic information is not available for all households.\n",
    "hh_demographic_df.head()"
   ]
  },
  {
   "cell_type": "code",
   "execution_count": 393,
   "metadata": {},
   "outputs": [
    {
     "data": {
      "text/html": [
       "<div>\n",
       "<style scoped>\n",
       "    .dataframe tbody tr th:only-of-type {\n",
       "        vertical-align: middle;\n",
       "    }\n",
       "\n",
       "    .dataframe tbody tr th {\n",
       "        vertical-align: top;\n",
       "    }\n",
       "\n",
       "    .dataframe thead th {\n",
       "        text-align: right;\n",
       "    }\n",
       "</style>\n",
       "<table border=\"1\" class=\"dataframe\">\n",
       "  <thead>\n",
       "    <tr style=\"text-align: right;\">\n",
       "      <th></th>\n",
       "      <th>PRODUCT_ID</th>\n",
       "      <th>MANUFACTURER</th>\n",
       "      <th>DEPARTMENT</th>\n",
       "      <th>BRAND</th>\n",
       "      <th>COMMODITY_DESC</th>\n",
       "      <th>SUB_COMMODITY_DESC</th>\n",
       "      <th>CURR_SIZE_OF_PRODUCT</th>\n",
       "    </tr>\n",
       "  </thead>\n",
       "  <tbody>\n",
       "    <tr>\n",
       "      <td>0</td>\n",
       "      <td>25671</td>\n",
       "      <td>2</td>\n",
       "      <td>GROCERY</td>\n",
       "      <td>National</td>\n",
       "      <td>FRZN ICE</td>\n",
       "      <td>ICE - CRUSHED/CUBED</td>\n",
       "      <td>22 LB</td>\n",
       "    </tr>\n",
       "    <tr>\n",
       "      <td>1</td>\n",
       "      <td>26081</td>\n",
       "      <td>2</td>\n",
       "      <td>MISC. TRANS.</td>\n",
       "      <td>National</td>\n",
       "      <td>NO COMMODITY DESCRIPTION</td>\n",
       "      <td>NO SUBCOMMODITY DESCRIPTION</td>\n",
       "      <td></td>\n",
       "    </tr>\n",
       "    <tr>\n",
       "      <td>2</td>\n",
       "      <td>26093</td>\n",
       "      <td>69</td>\n",
       "      <td>PASTRY</td>\n",
       "      <td>Private</td>\n",
       "      <td>BREAD</td>\n",
       "      <td>BREAD:ITALIAN/FRENCH</td>\n",
       "      <td></td>\n",
       "    </tr>\n",
       "    <tr>\n",
       "      <td>3</td>\n",
       "      <td>26190</td>\n",
       "      <td>69</td>\n",
       "      <td>GROCERY</td>\n",
       "      <td>Private</td>\n",
       "      <td>FRUIT - SHELF STABLE</td>\n",
       "      <td>APPLE SAUCE</td>\n",
       "      <td>50 OZ</td>\n",
       "    </tr>\n",
       "    <tr>\n",
       "      <td>4</td>\n",
       "      <td>26355</td>\n",
       "      <td>69</td>\n",
       "      <td>GROCERY</td>\n",
       "      <td>Private</td>\n",
       "      <td>COOKIES/CONES</td>\n",
       "      <td>SPECIALTY COOKIES</td>\n",
       "      <td>14 OZ</td>\n",
       "    </tr>\n",
       "  </tbody>\n",
       "</table>\n",
       "</div>"
      ],
      "text/plain": [
       "   PRODUCT_ID  MANUFACTURER    DEPARTMENT     BRAND            COMMODITY_DESC  \\\n",
       "0       25671             2       GROCERY  National                  FRZN ICE   \n",
       "1       26081             2  MISC. TRANS.  National  NO COMMODITY DESCRIPTION   \n",
       "2       26093            69        PASTRY   Private                     BREAD   \n",
       "3       26190            69       GROCERY   Private      FRUIT - SHELF STABLE   \n",
       "4       26355            69       GROCERY   Private             COOKIES/CONES   \n",
       "\n",
       "            SUB_COMMODITY_DESC CURR_SIZE_OF_PRODUCT  \n",
       "0          ICE - CRUSHED/CUBED                22 LB  \n",
       "1  NO SUBCOMMODITY DESCRIPTION                       \n",
       "2         BREAD:ITALIAN/FRENCH                       \n",
       "3                  APPLE SAUCE                50 OZ  \n",
       "4            SPECIALTY COOKIES                14 OZ  "
      ]
     },
     "execution_count": 393,
     "metadata": {},
     "output_type": "execute_result"
    }
   ],
   "source": [
    "# This table contains information on each product sold such as type of product, national or\n",
    "# private label and a brand identifier.\n",
    "product_df.head()"
   ]
  },
  {
   "cell_type": "markdown",
   "metadata": {},
   "source": [
    "<a id=cleaning></a>\n",
    "## Cleaning"
   ]
  },
  {
   "cell_type": "markdown",
   "metadata": {},
   "source": [
    "<a id=c_trans></a>\n",
    "### Transactions"
   ]
  },
  {
   "cell_type": "code",
   "execution_count": 394,
   "metadata": {},
   "outputs": [
    {
     "data": {
      "text/plain": [
       "household_key          int64\n",
       "BASKET_ID              int64\n",
       "DAY                    int64\n",
       "PRODUCT_ID             int64\n",
       "QUANTITY               int64\n",
       "SALES_VALUE          float64\n",
       "STORE_ID               int64\n",
       "RETAIL_DISC          float64\n",
       "TRANS_TIME             int64\n",
       "WEEK_NO                int64\n",
       "COUPON_DISC          float64\n",
       "COUPON_MATCH_DISC    float64\n",
       "dtype: object"
      ]
     },
     "execution_count": 394,
     "metadata": {},
     "output_type": "execute_result"
    }
   ],
   "source": [
    "transaction_data_df.dtypes"
   ]
  },
  {
   "cell_type": "code",
   "execution_count": 395,
   "metadata": {},
   "outputs": [
    {
     "name": "stdout",
     "output_type": "stream",
     "text": [
      "Is there any NaN in transaction table: False\n"
     ]
    }
   ],
   "source": [
    "# Transaction df is clean\n",
    "print(\"Is there any NaN in transaction table: %s\" %transaction_data_df.isna().any().any())"
   ]
  },
  {
   "cell_type": "code",
   "execution_count": 396,
   "metadata": {},
   "outputs": [],
   "source": [
    "# Lowercase all column names\n",
    "transaction_data_df.columns = map(str.lower, transaction_data_df.columns)"
   ]
  },
  {
   "cell_type": "code",
   "execution_count": 397,
   "metadata": {},
   "outputs": [],
   "source": [
    "# Set timestamp to the trans_time feature\n",
    "transaction_data_df.trans_time = transaction_data_df.trans_time.astype(str)\n",
    "trans_time_tmp = pd.to_datetime(transaction_data_df\\\n",
    "                                .trans_time.apply(lambda val: (4 - len(val)) * '0' + val if (len(val) < 4) else val), format='%H%M')\n",
    "transaction_data_df.trans_time = trans_time_tmp.apply(lambda x: x.time())\n"
   ]
  },
  {
   "cell_type": "markdown",
   "metadata": {},
   "source": [
    "<a id=c_demo></a>\n",
    "## Demographic"
   ]
  },
  {
   "cell_type": "code",
   "execution_count": 398,
   "metadata": {},
   "outputs": [
    {
     "data": {
      "text/plain": [
       "AGE_DESC               object\n",
       "MARITAL_STATUS_CODE    object\n",
       "INCOME_DESC            object\n",
       "HOMEOWNER_DESC         object\n",
       "HH_COMP_DESC           object\n",
       "HOUSEHOLD_SIZE_DESC    object\n",
       "KID_CATEGORY_DESC      object\n",
       "household_key           int64\n",
       "dtype: object"
      ]
     },
     "execution_count": 398,
     "metadata": {},
     "output_type": "execute_result"
    }
   ],
   "source": [
    "# Every feature but house_hold key is an object. The object type is not helpful. We\n",
    "# must cast it to categorical data.\n",
    "hh_demographic_df.dtypes"
   ]
  },
  {
   "cell_type": "markdown",
   "metadata": {},
   "source": [
    "#### INCOME_DESC"
   ]
  },
  {
   "cell_type": "code",
   "execution_count": 399,
   "metadata": {},
   "outputs": [],
   "source": [
    "# Cast and set order\n",
    "hh_demographic_df['INCOME_DESC'] = hh_demographic_df['INCOME_DESC'].astype('category')\n",
    "hh_demographic_df.INCOME_DESC = hh_demographic_df.INCOME_DESC.cat.\\\n",
    "                                reorder_categories(['Under 15K', '15-24K','25-34K', '35-49K', '50-74K','75-99K', '100-124K','125-149K','150-174K', '175-199K', '200-249K', '250K+'], ordered=True)"
   ]
  },
  {
   "cell_type": "markdown",
   "metadata": {},
   "source": [
    "#### KID_CATEGORY_DESC "
   ]
  },
  {
   "cell_type": "code",
   "execution_count": 400,
   "metadata": {},
   "outputs": [],
   "source": [
    "# Cast and set order\n",
    "hh_demographic_df.KID_CATEGORY_DESC = hh_demographic_df.KID_CATEGORY_DESC.astype('category')\n",
    "hh_demographic_df.KID_CATEGORY_DESC.cat.reorder_categories(['1', '2', '3+', 'None/Unknown']\\\n",
    "                                                          , ordered=True, inplace=True)"
   ]
  },
  {
   "cell_type": "markdown",
   "metadata": {},
   "source": [
    "#### HOMEOWNER_DESC"
   ]
  },
  {
   "cell_type": "code",
   "execution_count": 401,
   "metadata": {},
   "outputs": [],
   "source": [
    "# Casting\n",
    "hh_demographic_df.HOMEOWNER_DESC = hh_demographic_df.HOMEOWNER_DESC.astype('category')"
   ]
  },
  {
   "cell_type": "markdown",
   "metadata": {},
   "source": [
    "#### HH_COMP_DESC"
   ]
  },
  {
   "cell_type": "code",
   "execution_count": 402,
   "metadata": {},
   "outputs": [],
   "source": [
    "# Casting\n",
    "hh_demographic_df.HH_COMP_DESC = hh_demographic_df.HH_COMP_DESC.astype('category')"
   ]
  },
  {
   "cell_type": "markdown",
   "metadata": {},
   "source": [
    "#### AGE_DESC"
   ]
  },
  {
   "cell_type": "code",
   "execution_count": 403,
   "metadata": {},
   "outputs": [],
   "source": [
    "# Cast and set order\n",
    "hh_demographic_df.AGE_DESC = hh_demographic_df.AGE_DESC.astype('category')\n",
    "hh_demographic_df.AGE_DESC.cat\\\n",
    "                    .reorder_categories(['19-24', '25-34', '35-44', '45-54', '55-64', '65+'], ordered=True, inplace=True)"
   ]
  },
  {
   "cell_type": "markdown",
   "metadata": {},
   "source": [
    "#### HOUSEHOLD_SIZE_DESC"
   ]
  },
  {
   "cell_type": "code",
   "execution_count": 404,
   "metadata": {},
   "outputs": [],
   "source": [
    "# Cast and set order\n",
    "hh_demographic_df.HOUSEHOLD_SIZE_DESC = hh_demographic_df.HOUSEHOLD_SIZE_DESC.astype('category')\n",
    "hh_demographic_df.HOUSEHOLD_SIZE_DESC.cat.reorder_categories(\\\n",
    "                        ['1', '2', '3', '4', '5+'], ordered=True, inplace=True)"
   ]
  },
  {
   "cell_type": "markdown",
   "metadata": {},
   "source": [
    "#### MARITAL_STATUS_CODE"
   ]
  },
  {
   "cell_type": "code",
   "execution_count": 405,
   "metadata": {},
   "outputs": [],
   "source": [
    "# Cast\n",
    "hh_demographic_df.MARITAL_STATUS_CODE = hh_demographic_df.MARITAL_STATUS_CODE.astype('category')"
   ]
  },
  {
   "cell_type": "markdown",
   "metadata": {},
   "source": [
    "### Checking missing values"
   ]
  },
  {
   "cell_type": "code",
   "execution_count": 406,
   "metadata": {},
   "outputs": [
    {
     "name": "stdout",
     "output_type": "stream",
     "text": [
      "Is there any NaN in transaction table: False\n"
     ]
    }
   ],
   "source": [
    "# Demographic df is clean\n",
    "print(\"Is there any NaN in transaction table: %s\" %hh_demographic_df.isna().any().any())"
   ]
  },
  {
   "cell_type": "code",
   "execution_count": 407,
   "metadata": {},
   "outputs": [],
   "source": [
    "# Lowercase all column names\n",
    "hh_demographic_df.columns = map(str.lower, hh_demographic_df.columns)"
   ]
  },
  {
   "cell_type": "markdown",
   "metadata": {},
   "source": [
    "<a id=c_prod></a>\n",
    "## Product"
   ]
  },
  {
   "cell_type": "code",
   "execution_count": 408,
   "metadata": {},
   "outputs": [
    {
     "data": {
      "text/plain": [
       "PRODUCT_ID               int64\n",
       "MANUFACTURER             int64\n",
       "DEPARTMENT              object\n",
       "BRAND                   object\n",
       "COMMODITY_DESC          object\n",
       "SUB_COMMODITY_DESC      object\n",
       "CURR_SIZE_OF_PRODUCT    object\n",
       "dtype: object"
      ]
     },
     "execution_count": 408,
     "metadata": {},
     "output_type": "execute_result"
    }
   ],
   "source": [
    "product_df.dtypes"
   ]
  },
  {
   "cell_type": "code",
   "execution_count": 409,
   "metadata": {},
   "outputs": [],
   "source": [
    "# Casting\n",
    "product_df.DEPARTMENT = product_df.DEPARTMENT.astype('category')\n",
    "product_df.BRAND = product_df.BRAND.astype('category')\n",
    "product_df.COMMODITY_DESC = product_df.COMMODITY_DESC.astype('category')\n",
    "product_df.SUB_COMMODITY_DESC = product_df.SUB_COMMODITY_DESC.astype('category')\n",
    "product_df.CURR_SIZE_OF_PRODUCT = product_df.CURR_SIZE_OF_PRODUCT.astype('category')"
   ]
  },
  {
   "cell_type": "code",
   "execution_count": 410,
   "metadata": {},
   "outputs": [],
   "source": [
    "# Lowercase all column names\n",
    "product_df.columns = map(str.lower, product_df.columns)"
   ]
  },
  {
   "cell_type": "code",
   "execution_count": 411,
   "metadata": {},
   "outputs": [
    {
     "name": "stdout",
     "output_type": "stream",
     "text": [
      "Is there any NaN in transaction table: False\n"
     ]
    }
   ],
   "source": [
    "# Product df is clean\n",
    "print(\"Is there any NaN in transaction table: %s\" %product_df.isna().any().any())"
   ]
  },
  {
   "cell_type": "markdown",
   "metadata": {},
   "source": [
    "<a id=saving></a>\n",
    "## Saving files"
   ]
  },
  {
   "cell_type": "code",
   "execution_count": 412,
   "metadata": {},
   "outputs": [],
   "source": [
    "product_df.set_index('product_id', inplace=True)"
   ]
  },
  {
   "cell_type": "code",
   "execution_count": 413,
   "metadata": {},
   "outputs": [],
   "source": [
    "hh_demographic_df.set_index('household_key', inplace=True)"
   ]
  },
  {
   "cell_type": "code",
   "execution_count": 414,
   "metadata": {},
   "outputs": [],
   "source": [
    "# We assume here that a transaction is uniquely identifiied by the set of 3 features:\n",
    "# household_keay | BASKET_ID | PRODUCT_ID\n",
    "transaction_data_df.set_index(['household_key', 'basket_id', 'product_id'], inplace=True)"
   ]
  },
  {
   "cell_type": "code",
   "execution_count": 415,
   "metadata": {},
   "outputs": [
    {
     "name": "stdout",
     "output_type": "stream",
     "text": [
      "Transaction dataframe index is unique: True\n"
     ]
    }
   ],
   "source": [
    "# This is verified by the following test\n",
    "print(\"Transaction dataframe index is unique: %s\" % transaction_data_df.index.is_unique)"
   ]
  },
  {
   "cell_type": "code",
   "execution_count": 420,
   "metadata": {
    "scrolled": true
   },
   "outputs": [],
   "source": [
    "product_df.to_pickle('../data/preprocessed_data/product.pkl')\n",
    "transaction_data_df.to_pickle('../data/preprocessed_data/transaction.pkl')\n",
    "hh_demographic_df.to_pickle('../data/preprocessed_data/demographic.pkl')"
   ]
  },
  {
   "cell_type": "markdown",
   "metadata": {},
   "source": [
    "<a id=exploration></a>\n",
    "# 2. Exploration"
   ]
  },
  {
   "cell_type": "code",
   "execution_count": 421,
   "metadata": {},
   "outputs": [],
   "source": [
    "# Loading clean data\n",
    "product_df = pd.read_pickle('../data/preprocessed_data/product.pkl')\n",
    "transaction_df = pd.read_pickle('../data/preprocessed_data/transaction.pkl')\n",
    "transaction_df.trans_time = pd.to_datetime(transaction_df.trans_time, format='%H:%M:%S').dt.time\n",
    "demographic_df = pd.read_pickle('../data/preprocessed_data/demographic.pkl')"
   ]
  },
  {
   "cell_type": "markdown",
   "metadata": {},
   "source": [
    "<a id=sense></a>\n",
    "## Getting a sense of the data"
   ]
  },
  {
   "cell_type": "markdown",
   "metadata": {},
   "source": [
    "<a id=feat_pres></a>\n",
    "### Features presentation"
   ]
  },
  {
   "cell_type": "markdown",
   "metadata": {},
   "source": [
    "For some features whose sense are not easy to grasp, we give some insights"
   ]
  },
  {
   "cell_type": "code",
   "execution_count": 422,
   "metadata": {},
   "outputs": [],
   "source": [
    "def print_index_columns(df):\n",
    "    '''\n",
    "        Present the index and the features of the DataFrame\n",
    "    '''\n",
    "    \n",
    "    print(\"index: \", \" | \".join(list(df.index.names)))\n",
    "    print(\"features: \")\n",
    "    for idx, col in enumerate(df.columns.tolist()):\n",
    "        print(\"\\t %i) %s\" % (idx,col))"
   ]
  },
  {
   "cell_type": "markdown",
   "metadata": {},
   "source": [
    "<a id=fp_tran></a>\n",
    "#### Transaction"
   ]
  },
  {
   "cell_type": "code",
   "execution_count": 423,
   "metadata": {},
   "outputs": [
    {
     "name": "stdout",
     "output_type": "stream",
     "text": [
      "index:  household_key | basket_id | product_id\n",
      "features: \n",
      "\t 0) day\n",
      "\t 1) quantity\n",
      "\t 2) sales_value\n",
      "\t 3) store_id\n",
      "\t 4) retail_disc\n",
      "\t 5) trans_time\n",
      "\t 6) week_no\n",
      "\t 7) coupon_disc\n",
      "\t 8) coupon_match_disc\n"
     ]
    }
   ],
   "source": [
    "print_index_columns(transaction_df)"
   ]
  },
  {
   "cell_type": "markdown",
   "metadata": {},
   "source": [
    "*day:*\n",
    "> from 1 to 711, corresponds to the daytime in the *two year long* study\n",
    "\n",
    "*sales_value:*\n",
    "\n",
    "> amount of dollars retailer receives from sale. It's not the price paid by the customer. If a customer use a coupon, he will pay less and the retailer will be reinboursed by the manufacturer.\n",
    "\n",
    "*retail_disc:*\n",
    "> Discount applied due to retailer's loyalty card program\n",
    "\n",
    "*coupon_disc:*\n",
    "> Discount applied due to manufacturer coupon."
   ]
  },
  {
   "cell_type": "markdown",
   "metadata": {},
   "source": [
    "<a id=fp_demo></a>\n",
    "#### Demographic"
   ]
  },
  {
   "cell_type": "code",
   "execution_count": 424,
   "metadata": {},
   "outputs": [
    {
     "name": "stdout",
     "output_type": "stream",
     "text": [
      "index:  household_key\n",
      "features: \n",
      "\t 0) age_desc\n",
      "\t 1) marital_status_code\n",
      "\t 2) income_desc\n",
      "\t 3) homeowner_desc\n",
      "\t 4) hh_comp_desc\n",
      "\t 5) household_size_desc\n",
      "\t 6) kid_category_desc\n"
     ]
    }
   ],
   "source": [
    "print_index_columns(demographic_df)"
   ]
  },
  {
   "cell_type": "markdown",
   "metadata": {},
   "source": [
    "*hh_comp_desc:*\n",
    "> Household composition\n",
    "\n",
    "*kid_category_desc:*\n",
    "> Number of children present in the household. If 3 or more children is given by '3+'"
   ]
  },
  {
   "cell_type": "markdown",
   "metadata": {},
   "source": [
    "<a id=fp_prod></a>\n",
    "#### Product"
   ]
  },
  {
   "cell_type": "code",
   "execution_count": 425,
   "metadata": {},
   "outputs": [
    {
     "name": "stdout",
     "output_type": "stream",
     "text": [
      "index:  product_id\n",
      "features: \n",
      "\t 0) manufacturer\n",
      "\t 1) department\n",
      "\t 2) brand\n",
      "\t 3) commodity_desc\n",
      "\t 4) sub_commodity_desc\n",
      "\t 5) curr_size_of_product\n"
     ]
    }
   ],
   "source": [
    "print_index_columns(product_df)"
   ]
  },
  {
   "cell_type": "markdown",
   "metadata": {},
   "source": [
    "*curr_size_of_product:*\n",
    "> Indicates package size (not available for all products)\n",
    "\n",
    "*brand:*\n",
    "> * A *national* brand is the brand of a product that is distributed nationally under a brand name.\n",
    "> * A *private* label products are those manufactured by one company for sale under another company's brand."
   ]
  },
  {
   "cell_type": "markdown",
   "metadata": {},
   "source": [
    "<a id=ft_range></a>\n",
    "### Feature range"
   ]
  },
  {
   "cell_type": "markdown",
   "metadata": {},
   "source": [
    "This section expects to give a sense of the range in which our data is. For **numerical** values, we show the *minimum* and *maximum* values. For **categorical**, we present important statistics as follows: *count, unique, top, freq*. When the number of categories is not too large we also display it."
   ]
  },
  {
   "cell_type": "markdown",
   "metadata": {},
   "source": [
    "<a id=ft_tran></a>\n",
    "#### Transaction"
   ]
  },
  {
   "cell_type": "code",
   "execution_count": 426,
   "metadata": {},
   "outputs": [
    {
     "data": {
      "text/html": [
       "<div>\n",
       "<style scoped>\n",
       "    .dataframe tbody tr th:only-of-type {\n",
       "        vertical-align: middle;\n",
       "    }\n",
       "\n",
       "    .dataframe tbody tr th {\n",
       "        vertical-align: top;\n",
       "    }\n",
       "\n",
       "    .dataframe thead th {\n",
       "        text-align: right;\n",
       "    }\n",
       "</style>\n",
       "<table border=\"1\" class=\"dataframe\">\n",
       "  <thead>\n",
       "    <tr style=\"text-align: right;\">\n",
       "      <th></th>\n",
       "      <th>day</th>\n",
       "      <th>quantity</th>\n",
       "      <th>sales_value</th>\n",
       "      <th>store_id</th>\n",
       "      <th>retail_disc</th>\n",
       "      <th>trans_time</th>\n",
       "      <th>week_no</th>\n",
       "      <th>coupon_disc</th>\n",
       "      <th>coupon_match_disc</th>\n",
       "    </tr>\n",
       "  </thead>\n",
       "  <tbody>\n",
       "    <tr>\n",
       "      <td>min</td>\n",
       "      <td>1.0</td>\n",
       "      <td>0.0</td>\n",
       "      <td>0.0</td>\n",
       "      <td>1.0</td>\n",
       "      <td>-180.00</td>\n",
       "      <td>NaN</td>\n",
       "      <td>1.0</td>\n",
       "      <td>-55.93</td>\n",
       "      <td>-7.7</td>\n",
       "    </tr>\n",
       "    <tr>\n",
       "      <td>max</td>\n",
       "      <td>711.0</td>\n",
       "      <td>89638.0</td>\n",
       "      <td>840.0</td>\n",
       "      <td>34280.0</td>\n",
       "      <td>3.99</td>\n",
       "      <td>NaN</td>\n",
       "      <td>102.0</td>\n",
       "      <td>0.00</td>\n",
       "      <td>0.0</td>\n",
       "    </tr>\n",
       "  </tbody>\n",
       "</table>\n",
       "</div>"
      ],
      "text/plain": [
       "       day  quantity  sales_value  store_id  retail_disc trans_time  week_no  \\\n",
       "min    1.0       0.0          0.0       1.0      -180.00        NaN      1.0   \n",
       "max  711.0   89638.0        840.0   34280.0         3.99        NaN    102.0   \n",
       "\n",
       "     coupon_disc  coupon_match_disc  \n",
       "min       -55.93               -7.7  \n",
       "max         0.00                0.0  "
      ]
     },
     "execution_count": 426,
     "metadata": {},
     "output_type": "execute_result"
    }
   ],
   "source": [
    "transaction_df.describe(exclude='category').loc[['min','max']]"
   ]
  },
  {
   "cell_type": "markdown",
   "metadata": {},
   "source": [
    "<a id=ft_demo></a>\n",
    "#### Demographic"
   ]
  },
  {
   "cell_type": "code",
   "execution_count": 427,
   "metadata": {},
   "outputs": [
    {
     "data": {
      "text/html": [
       "<div>\n",
       "<style scoped>\n",
       "    .dataframe tbody tr th:only-of-type {\n",
       "        vertical-align: middle;\n",
       "    }\n",
       "\n",
       "    .dataframe tbody tr th {\n",
       "        vertical-align: top;\n",
       "    }\n",
       "\n",
       "    .dataframe thead th {\n",
       "        text-align: right;\n",
       "    }\n",
       "</style>\n",
       "<table border=\"1\" class=\"dataframe\">\n",
       "  <thead>\n",
       "    <tr style=\"text-align: right;\">\n",
       "      <th></th>\n",
       "      <th>age_desc</th>\n",
       "      <th>marital_status_code</th>\n",
       "      <th>income_desc</th>\n",
       "      <th>homeowner_desc</th>\n",
       "      <th>hh_comp_desc</th>\n",
       "      <th>household_size_desc</th>\n",
       "      <th>kid_category_desc</th>\n",
       "    </tr>\n",
       "  </thead>\n",
       "  <tbody>\n",
       "    <tr>\n",
       "      <td>count</td>\n",
       "      <td>801</td>\n",
       "      <td>801</td>\n",
       "      <td>801</td>\n",
       "      <td>801</td>\n",
       "      <td>801</td>\n",
       "      <td>801</td>\n",
       "      <td>801</td>\n",
       "    </tr>\n",
       "    <tr>\n",
       "      <td>unique</td>\n",
       "      <td>6</td>\n",
       "      <td>3</td>\n",
       "      <td>12</td>\n",
       "      <td>5</td>\n",
       "      <td>6</td>\n",
       "      <td>5</td>\n",
       "      <td>4</td>\n",
       "    </tr>\n",
       "    <tr>\n",
       "      <td>top</td>\n",
       "      <td>45-54</td>\n",
       "      <td>U</td>\n",
       "      <td>50-74K</td>\n",
       "      <td>Homeowner</td>\n",
       "      <td>2 Adults No Kids</td>\n",
       "      <td>2</td>\n",
       "      <td>None/Unknown</td>\n",
       "    </tr>\n",
       "    <tr>\n",
       "      <td>freq</td>\n",
       "      <td>288</td>\n",
       "      <td>344</td>\n",
       "      <td>192</td>\n",
       "      <td>504</td>\n",
       "      <td>255</td>\n",
       "      <td>318</td>\n",
       "      <td>558</td>\n",
       "    </tr>\n",
       "  </tbody>\n",
       "</table>\n",
       "</div>"
      ],
      "text/plain": [
       "       age_desc marital_status_code income_desc homeowner_desc  \\\n",
       "count       801                 801         801            801   \n",
       "unique        6                   3          12              5   \n",
       "top       45-54                   U      50-74K      Homeowner   \n",
       "freq        288                 344         192            504   \n",
       "\n",
       "            hh_comp_desc household_size_desc kid_category_desc  \n",
       "count                801                 801               801  \n",
       "unique                 6                   5                 4  \n",
       "top     2 Adults No Kids                   2      None/Unknown  \n",
       "freq                 255                 318               558  "
      ]
     },
     "execution_count": 427,
     "metadata": {},
     "output_type": "execute_result"
    }
   ],
   "source": [
    "demographic_df.describe()"
   ]
  },
  {
   "cell_type": "code",
   "execution_count": 428,
   "metadata": {},
   "outputs": [
    {
     "name": "stdout",
     "output_type": "stream",
     "text": [
      "age_desc values:\n",
      "['19-24', '25-34', '35-44', '45-54', '55-64', '65+']\n",
      "\n",
      "marital_status_code values:\n",
      "['A', 'U', 'B']\n",
      "\n",
      "income_desc values:\n",
      "['Under 15K', '15-24K', '25-34K', '35-49K', '50-74K', '75-99K', '100-124K', '125-149K', '150-174K', '175-199K', '200-249K', '250K+']\n",
      "\n",
      "homeowner_desc values:\n",
      "['Homeowner', 'Unknown', 'Renter', 'Probable Renter', 'Probable Owner']\n",
      "\n",
      "hh_comp_desc values:\n",
      "['2 Adults No Kids', '2 Adults Kids', 'Single Female', 'Unknown', 'Single Male', '1 Adult Kids']\n",
      "\n",
      "household_size_desc values:\n",
      "['1', '2', '3', '4', '5+']\n",
      "\n",
      "kid_category_desc values:\n",
      "['1', '2', '3+', 'None/Unknown']\n",
      "\n"
     ]
    }
   ],
   "source": [
    "for col in demographic_df:\n",
    "    print(\"%s values:\" % col)\n",
    "    print(demographic_df[col].unique().sort_values().tolist(), end='\\n\\n')"
   ]
  },
  {
   "cell_type": "markdown",
   "metadata": {},
   "source": [
    "<a id=ft_prod></a>\n",
    "#### Product"
   ]
  },
  {
   "cell_type": "code",
   "execution_count": 429,
   "metadata": {},
   "outputs": [
    {
     "data": {
      "text/html": [
       "<div>\n",
       "<style scoped>\n",
       "    .dataframe tbody tr th:only-of-type {\n",
       "        vertical-align: middle;\n",
       "    }\n",
       "\n",
       "    .dataframe tbody tr th {\n",
       "        vertical-align: top;\n",
       "    }\n",
       "\n",
       "    .dataframe thead th {\n",
       "        text-align: right;\n",
       "    }\n",
       "</style>\n",
       "<table border=\"1\" class=\"dataframe\">\n",
       "  <thead>\n",
       "    <tr style=\"text-align: right;\">\n",
       "      <th></th>\n",
       "      <th>department</th>\n",
       "      <th>brand</th>\n",
       "      <th>commodity_desc</th>\n",
       "      <th>sub_commodity_desc</th>\n",
       "      <th>curr_size_of_product</th>\n",
       "    </tr>\n",
       "  </thead>\n",
       "  <tbody>\n",
       "    <tr>\n",
       "      <td>count</td>\n",
       "      <td>92353</td>\n",
       "      <td>92353</td>\n",
       "      <td>92353</td>\n",
       "      <td>92353</td>\n",
       "      <td>92353</td>\n",
       "    </tr>\n",
       "    <tr>\n",
       "      <td>unique</td>\n",
       "      <td>44</td>\n",
       "      <td>2</td>\n",
       "      <td>308</td>\n",
       "      <td>2383</td>\n",
       "      <td>4345</td>\n",
       "    </tr>\n",
       "    <tr>\n",
       "      <td>top</td>\n",
       "      <td>GROCERY</td>\n",
       "      <td>National</td>\n",
       "      <td>GREETING CARDS/WRAP/PARTY SPLY</td>\n",
       "      <td>CARDS EVERYDAY</td>\n",
       "      <td></td>\n",
       "    </tr>\n",
       "    <tr>\n",
       "      <td>freq</td>\n",
       "      <td>39021</td>\n",
       "      <td>78537</td>\n",
       "      <td>2785</td>\n",
       "      <td>1005</td>\n",
       "      <td>30607</td>\n",
       "    </tr>\n",
       "  </tbody>\n",
       "</table>\n",
       "</div>"
      ],
      "text/plain": [
       "       department     brand                  commodity_desc  \\\n",
       "count       92353     92353                           92353   \n",
       "unique         44         2                             308   \n",
       "top       GROCERY  National  GREETING CARDS/WRAP/PARTY SPLY   \n",
       "freq        39021     78537                            2785   \n",
       "\n",
       "       sub_commodity_desc curr_size_of_product  \n",
       "count               92353                92353  \n",
       "unique               2383                 4345  \n",
       "top        CARDS EVERYDAY                       \n",
       "freq                 1005                30607  "
      ]
     },
     "execution_count": 429,
     "metadata": {},
     "output_type": "execute_result"
    }
   ],
   "source": [
    "product_df.describe(include='category')"
   ]
  },
  {
   "cell_type": "code",
   "execution_count": 433,
   "metadata": {},
   "outputs": [
    {
     "name": "stdout",
     "output_type": "stream",
     "text": [
      "Unique manufacturers: 6476 . Manufacturer type: int64\n"
     ]
    }
   ],
   "source": [
    "# Since it makes no sense to show min and max manufacturer ids, we\n",
    "# only show the number of unique manufacturers\n",
    "print(\"Unique manufacturers:\", len(np.unique(product_df.manufacturer)),\". Manufacturer type:\",product_df.manufacturer.dtype)"
   ]
  },
  {
   "cell_type": "markdown",
   "metadata": {},
   "source": [
    "<a id=distributions></a>\n",
    "### Distributions"
   ]
  },
  {
   "cell_type": "markdown",
   "metadata": {},
   "source": [
    "This subsection is the most important part of the exploration. Indeed, it allows to get sense of bias, outliers, etc... Moreover, it guides the whole work giving intuition on which research question will be doable or not. "
   ]
  },
  {
   "cell_type": "markdown",
   "metadata": {},
   "source": [
    "<a id=d_tran></a>\n",
    "\n",
    "#### Transaction"
   ]
  },
  {
   "cell_type": "markdown",
   "metadata": {},
   "source": [
    "**Time related:**"
   ]
  },
  {
   "cell_type": "code",
   "execution_count": 434,
   "metadata": {},
   "outputs": [
    {
     "data": {
      "image/png": "[encoded data removed]",
      "text/plain": [
       "<Figure size 432x288 with 1 Axes>"
      ]
     },
     "metadata": {
      "needs_background": "light"
     },
     "output_type": "display_data"
    }
   ],
   "source": [
    "time, customers = np.unique(transaction_df.trans_time.sort_values(), return_counts=True)\n",
    "plt.bar(time, customers, width=30)\n",
    "plt.title(\"Transaction time histogram\")\n",
    "plt.show()"
   ]
  },
  {
   "cell_type": "markdown",
   "metadata": {},
   "source": [
    "*comment:*\n",
    "> The amount of transaction reach a first *local maximum* around noon and the global maximum around 5p.m. which is intuitive. Indeed, people go shopping either during lunch time or after work."
   ]
  },
  {
   "cell_type": "code",
   "execution_count": null,
   "metadata": {},
   "outputs": [],
   "source": [
    "# household vs days (bias ?)"
   ]
  },
  {
   "cell_type": "code",
   "execution_count": 435,
   "metadata": {},
   "outputs": [
    {
     "data": {
      "image/png": "[encoded data removed]",
      "text/plain": [
       "<Figure size 432x288 with 2 Axes>"
      ]
     },
     "metadata": {
      "needs_background": "light"
     },
     "output_type": "display_data"
    }
   ],
   "source": [
    "fig, axes = plt.subplots(1, 2)\n",
    "transaction_df.day.hist(bins=100, ax=axes[0], density=True)\n",
    "axes[0].set_xlabel(\"days\")\n",
    "transaction_df.week_no.hist(bins=100, ax=axes[1], density=True)\n",
    "axes[1].set_xlabel(\"weeks_no\")\n",
    "plt.suptitle(\"Amount of transactions through the study time\")\n",
    "plt.tight_layout(rect=[0, 0.03, 1, 0.95])\n",
    "plt.show()"
   ]
  },
  {
   "cell_type": "markdown",
   "metadata": {},
   "source": [
    "*comment:*\n",
    "1. We see an increasing phase of transactions during the first 100 days (15 weeks). This suggests that data collection was \"on-flight\" or that data sampling was not gathered properly.\n",
    "2. Thus, we decide to build a new transaction dataframe where we cut the transactions before this date. We will us it for applications where it could potentially induce bias.\n",
    "3. A whole section will deal bias later in the the process."
   ]
  },
  {
   "cell_type": "markdown",
   "metadata": {},
   "source": [
    "**Discount related**"
   ]
  },
  {
   "cell_type": "code",
   "execution_count": 446,
   "metadata": {},
   "outputs": [
    {
     "data": {
      "text/html": [
       "<div>\n",
       "<style scoped>\n",
       "    .dataframe tbody tr th:only-of-type {\n",
       "        vertical-align: middle;\n",
       "    }\n",
       "\n",
       "    .dataframe tbody tr th {\n",
       "        vertical-align: top;\n",
       "    }\n",
       "\n",
       "    .dataframe thead th {\n",
       "        text-align: right;\n",
       "    }\n",
       "</style>\n",
       "<table border=\"1\" class=\"dataframe\">\n",
       "  <thead>\n",
       "    <tr style=\"text-align: right;\">\n",
       "      <th></th>\n",
       "      <th>day</th>\n",
       "      <th>quantity</th>\n",
       "      <th>sales_value</th>\n",
       "      <th>store_id</th>\n",
       "      <th>retail_disc</th>\n",
       "      <th>week_no</th>\n",
       "      <th>coupon_disc</th>\n",
       "      <th>coupon_match_disc</th>\n",
       "    </tr>\n",
       "  </thead>\n",
       "  <tbody>\n",
       "    <tr>\n",
       "      <td>count</td>\n",
       "      <td>2.595732e+06</td>\n",
       "      <td>2.595732e+06</td>\n",
       "      <td>2.595732e+06</td>\n",
       "      <td>2.595732e+06</td>\n",
       "      <td>2.595732e+06</td>\n",
       "      <td>2.595732e+06</td>\n",
       "      <td>2.595732e+06</td>\n",
       "      <td>2.595732e+06</td>\n",
       "    </tr>\n",
       "    <tr>\n",
       "      <td>mean</td>\n",
       "      <td>3.887562e+02</td>\n",
       "      <td>1.004286e+02</td>\n",
       "      <td>3.104120e+00</td>\n",
       "      <td>3.142673e+03</td>\n",
       "      <td>-5.387054e-01</td>\n",
       "      <td>5.622150e+01</td>\n",
       "      <td>-1.641600e-02</td>\n",
       "      <td>-2.918564e-03</td>\n",
       "    </tr>\n",
       "    <tr>\n",
       "      <td>std</td>\n",
       "      <td>1.897210e+02</td>\n",
       "      <td>1.153436e+03</td>\n",
       "      <td>4.182274e+00</td>\n",
       "      <td>8.937113e+03</td>\n",
       "      <td>1.249191e+00</td>\n",
       "      <td>2.710223e+01</td>\n",
       "      <td>2.168410e-01</td>\n",
       "      <td>3.969004e-02</td>\n",
       "    </tr>\n",
       "    <tr>\n",
       "      <td>min</td>\n",
       "      <td>1.000000e+00</td>\n",
       "      <td>0.000000e+00</td>\n",
       "      <td>0.000000e+00</td>\n",
       "      <td>1.000000e+00</td>\n",
       "      <td>-1.800000e+02</td>\n",
       "      <td>1.000000e+00</td>\n",
       "      <td>-5.593000e+01</td>\n",
       "      <td>-7.700000e+00</td>\n",
       "    </tr>\n",
       "    <tr>\n",
       "      <td>25%</td>\n",
       "      <td>2.290000e+02</td>\n",
       "      <td>1.000000e+00</td>\n",
       "      <td>1.290000e+00</td>\n",
       "      <td>3.300000e+02</td>\n",
       "      <td>-6.900000e-01</td>\n",
       "      <td>3.300000e+01</td>\n",
       "      <td>0.000000e+00</td>\n",
       "      <td>0.000000e+00</td>\n",
       "    </tr>\n",
       "    <tr>\n",
       "      <td>50%</td>\n",
       "      <td>3.900000e+02</td>\n",
       "      <td>1.000000e+00</td>\n",
       "      <td>2.000000e+00</td>\n",
       "      <td>3.720000e+02</td>\n",
       "      <td>-1.000000e-02</td>\n",
       "      <td>5.600000e+01</td>\n",
       "      <td>0.000000e+00</td>\n",
       "      <td>0.000000e+00</td>\n",
       "    </tr>\n",
       "    <tr>\n",
       "      <td>75%</td>\n",
       "      <td>5.530000e+02</td>\n",
       "      <td>1.000000e+00</td>\n",
       "      <td>3.490000e+00</td>\n",
       "      <td>4.220000e+02</td>\n",
       "      <td>0.000000e+00</td>\n",
       "      <td>8.000000e+01</td>\n",
       "      <td>0.000000e+00</td>\n",
       "      <td>0.000000e+00</td>\n",
       "    </tr>\n",
       "    <tr>\n",
       "      <td>max</td>\n",
       "      <td>7.110000e+02</td>\n",
       "      <td>8.963800e+04</td>\n",
       "      <td>8.400000e+02</td>\n",
       "      <td>3.428000e+04</td>\n",
       "      <td>3.990000e+00</td>\n",
       "      <td>1.020000e+02</td>\n",
       "      <td>0.000000e+00</td>\n",
       "      <td>0.000000e+00</td>\n",
       "    </tr>\n",
       "  </tbody>\n",
       "</table>\n",
       "</div>"
      ],
      "text/plain": [
       "                day      quantity   sales_value      store_id   retail_disc  \\\n",
       "count  2.595732e+06  2.595732e+06  2.595732e+06  2.595732e+06  2.595732e+06   \n",
       "mean   3.887562e+02  1.004286e+02  3.104120e+00  3.142673e+03 -5.387054e-01   \n",
       "std    1.897210e+02  1.153436e+03  4.182274e+00  8.937113e+03  1.249191e+00   \n",
       "min    1.000000e+00  0.000000e+00  0.000000e+00  1.000000e+00 -1.800000e+02   \n",
       "25%    2.290000e+02  1.000000e+00  1.290000e+00  3.300000e+02 -6.900000e-01   \n",
       "50%    3.900000e+02  1.000000e+00  2.000000e+00  3.720000e+02 -1.000000e-02   \n",
       "75%    5.530000e+02  1.000000e+00  3.490000e+00  4.220000e+02  0.000000e+00   \n",
       "max    7.110000e+02  8.963800e+04  8.400000e+02  3.428000e+04  3.990000e+00   \n",
       "\n",
       "            week_no   coupon_disc  coupon_match_disc  \n",
       "count  2.595732e+06  2.595732e+06       2.595732e+06  \n",
       "mean   5.622150e+01 -1.641600e-02      -2.918564e-03  \n",
       "std    2.710223e+01  2.168410e-01       3.969004e-02  \n",
       "min    1.000000e+00 -5.593000e+01      -7.700000e+00  \n",
       "25%    3.300000e+01  0.000000e+00       0.000000e+00  \n",
       "50%    5.600000e+01  0.000000e+00       0.000000e+00  \n",
       "75%    8.000000e+01  0.000000e+00       0.000000e+00  \n",
       "max    1.020000e+02  0.000000e+00       0.000000e+00  "
      ]
     },
     "execution_count": 446,
     "metadata": {},
     "output_type": "execute_result"
    }
   ],
   "source": [
    "transaction_df.describe()"
   ]
  },
  {
   "cell_type": "code",
   "execution_count": 451,
   "metadata": {},
   "outputs": [
    {
     "data": {
      "image/png": "[encoded data removed]",
      "text/plain": [
       "<Figure size 432x288 with 3 Axes>"
      ]
     },
     "metadata": {
      "needs_background": "light"
     },
     "output_type": "display_data"
    }
   ],
   "source": [
    "fig, axes = plt.subplots(1, 3)\n",
    "plt.suptitle(\"Distributions of discounts\")\n",
    "transaction_df.coupon_disc.hist(bins=100, ax=axes[0])\n",
    "axes[0].set_xlabel(\"coupon_discount ($)\")\n",
    "axes[0].set_yscale('log')\n",
    "transaction_df.retail_disc.hist(bins=100, ax=axes[1])\n",
    "axes[1].set_xlabel(\"retailer_discount($)\")\n",
    "axes[1].set_yscale('log')\n",
    "transaction_df.coupon_match_disc.hist(bins=100, ax=axes[2])\n",
    "axes[2].set_xlabel(\"coupon_match_disc($)\")\n",
    "axes[2].set_yscale('log')\n",
    "plt.tight_layout(rect=[0, 0.03, 1, 0.95])"
   ]
  },
  {
   "cell_type": "markdown",
   "metadata": {},
   "source": [
    "*comment:*\n",
    "> We observe the dicount: it is sharply distributed close to 0."
   ]
  },
  {
   "cell_type": "markdown",
   "metadata": {},
   "source": [
    "**Quantities related**:"
   ]
  },
  {
   "cell_type": "code",
   "execution_count": 452,
   "metadata": {},
   "outputs": [
    {
     "data": {
      "image/png": "[encoded data removed]",
      "text/plain": [
       "<Figure size 864x360 with 2 Axes>"
      ]
     },
     "metadata": {
      "needs_background": "light"
     },
     "output_type": "display_data"
    }
   ],
   "source": [
    "fig, axes = plt.subplots(1, 2, figsize=(12, 5))\n",
    "\n",
    "plt.suptitle(\"Densities visualization for the quantity per transaction\", fontweight='bold')\n",
    "\n",
    "axes[0].hist(transaction_df.quantity, log=True, bins=20)\n",
    "axes[0].set_title(\"Quantity per transaction histogram\")\n",
    "axes[0].set_xlabel(\"quantity per transaction\")\n",
    "axes[0].set_ylabel(\"log(units)\")\n",
    "\n",
    "axes[1].boxplot(np.log(transaction_df.quantity.value_counts()))\n",
    "axes[1].set_xticks([0])\n",
    "axes[1].set_title(\"Quantity per transaction boxplot\")\n",
    "axes[1].set_ylabel(\"log10(units)\")\n",
    "axes[1].set_xlabel(\"quantity per transaction\")\n",
    "\n",
    "plt.show()"
   ]
  },
  {
   "cell_type": "markdown",
   "metadata": {},
   "source": [
    "*comment:*\n",
    "1. Both figures (histogram and boxplot) show that the largest part of quantities exchange per transaction is less than 20 units.\n",
    "2. The median is really close to 1 (log10(units)) meaning that 50% of the quantity per transaction is less than 10.\n",
    "3. The boxplot show us that there is a lot of outliers. We will investigate on that latter in the outliers part."
   ]
  },
  {
   "cell_type": "code",
   "execution_count": 453,
   "metadata": {},
   "outputs": [],
   "source": [
    "count, qty = np.histogram(transaction_df.quantity)\n"
   ]
  },
  {
   "cell_type": "markdown",
   "metadata": {},
   "source": [
    "**Sales value related:**"
   ]
  },
  {
   "cell_type": "code",
   "execution_count": 454,
   "metadata": {},
   "outputs": [
    {
     "data": {
      "image/png": "[encoded data removed]",
      "text/plain": [
       "<Figure size 864x360 with 2 Axes>"
      ]
     },
     "metadata": {
      "needs_background": "light"
     },
     "output_type": "display_data"
    }
   ],
   "source": [
    "fig, axes = plt.subplots(1, 2, figsize=(12, 5))\n",
    "\n",
    "plt.suptitle(\"Densities visualization for the sales_value per transaction\", fontweight='bold')\n",
    "\n",
    "axes[0].hist(transaction_df.sales_value, log=True, bins=20)\n",
    "axes[0].set_title(\"Sales_value per transaction histogram\")\n",
    "axes[0].set_xlabel(\"sales_value per transaction\")\n",
    "axes[0].set_ylabel(\"log(units)\")\n",
    "\n",
    "axes[1].boxplot(np.log(transaction_df.sales_value.value_counts()))\n",
    "axes[1].set_xticks([0])\n",
    "axes[1].set_title(\"Sales_value per transaction boxplot\")\n",
    "axes[1].set_ylabel(\"log10(units)\")\n",
    "axes[1].set_xlabel(\"sales_value per transaction\")\n",
    "\n",
    "plt.show()"
   ]
  },
  {
   "cell_type": "markdown",
   "metadata": {},
   "source": [
    "*comment:*\n",
    "1. The densities are similar as the quantity feature in the sense that they have similar shape with many outliers.\n",
    "2. However the whiskers from sales_value are in wider range than quantity feature.\n",
    "3. All that suggests that outliers from the quantity feature and those from sales_value are related. As stated previously, we will investigate on that later on."
   ]
  },
  {
   "cell_type": "markdown",
   "metadata": {},
   "source": [
    "**store id:**"
   ]
  },
  {
   "cell_type": "code",
   "execution_count": 455,
   "metadata": {},
   "outputs": [
    {
     "name": "stdout",
     "output_type": "stream",
     "text": [
      "Number of unique stores: 582\n"
     ]
    }
   ],
   "source": [
    "unique_stores = np.unique(transaction_df.store_id.values)\n",
    "print(f\"Number of unique stores: {len(unique_stores)}\")"
   ]
  },
  {
   "cell_type": "code",
   "execution_count": 456,
   "metadata": {},
   "outputs": [
    {
     "data": {
      "image/png": "[encoded data removed]",
      "text/plain": [
       "<Figure size 576x432 with 2 Axes>"
      ]
     },
     "metadata": {
      "needs_background": "light"
     },
     "output_type": "display_data"
    }
   ],
   "source": [
    "# here we want to evaluate what are the stores who have the higher amount of transactions\n",
    "transaction_per_store = transaction_df.store_id.value_counts().sort_index()\n",
    "\n",
    "fig, axes = plt.subplots(2, 1, figsize=(8, 6), sharex=True)\n",
    "plt.suptitle(\"\")\n",
    "axes[0].scatter(unique_stores, [1 for i in range(len(unique_stores))])\n",
    "axes[0].set_yticks(range(3))\n",
    "axes[0].set_title(\"Available store_id in the dataset\")\n",
    "axes[0].set_ylabel(\"y=1 => store_id present\")\n",
    "\n",
    "axes[1].bar(transaction_per_store.index, transaction_per_store.values, width=150)\n",
    "axes[1].set_title(\"Transaction count for each store_id\")\n",
    "\n",
    "plt.xlabel(\"store_id\")\n",
    "plt.show()"
   ]
  },
  {
   "cell_type": "markdown",
   "metadata": {},
   "source": [
    "*comment:*\n",
    "1. From fig1 we observe that there is two clusteres of stores id ([0, 5000], [30000, 35000]). If we assume that store_id are given from geographical position, we could say that this dataset is taken from two different regions.\n",
    "2. In this two cluster some stores have a lot of transactions and some have much less. This could suggest two main explainations:\n",
    "> * Either this is due to bad sampling routine. In this case we should be really attentive to any bias in the dataset.\n",
    "> * Or it could be the fact of different size of shopping centers and then we should simply remove small shopping centers when the application asks for it."
   ]
  },
  {
   "cell_type": "markdown",
   "metadata": {},
   "source": [
    "<a id=d_demo></a>\n",
    "#### Demographic"
   ]
  },
  {
   "cell_type": "code",
   "execution_count": 457,
   "metadata": {},
   "outputs": [],
   "source": [
    "def print_cat_bar(df):\n",
    "    df_cat = df.select_dtypes(include='category')\n",
    "    fig = plt.figure(figsize=(10, 15))\n",
    "    cols = df_cat.columns\n",
    "    columns = 2\n",
    "    rows = len(cols) / columns + 1\n",
    "\n",
    "    for i in range(0, len(cols)):\n",
    "        ax = fig.add_subplot(rows, columns, i+1)\n",
    "        sns.countplot(data=df_cat, x=cols[i], ax=ax)\n",
    "        for tick in ax.get_xticklabels():\n",
    "            tick.set_rotation(45)\n",
    "            \n",
    "    return fig"
   ]
  },
  {
   "cell_type": "code",
   "execution_count": 458,
   "metadata": {},
   "outputs": [
    {
     "data": {
      "image/png": "[encoded data removed]",
      "text/plain": [
       "<Figure size 720x1080 with 7 Axes>"
      ]
     },
     "metadata": {
      "needs_background": "light"
     },
     "output_type": "display_data"
    }
   ],
   "source": [
    "fig = print_cat_bar(demographic_df)\n",
    "fig.axes[1].set_xticklabels(('Married', 'Single', 'Unkown'))\n",
    "fig.suptitle(\"Bar plot for demographic categorical data\")\n",
    "plt.tight_layout(rect=[0, 0.03, 1, 0.95])\n",
    "plt.show()"
   ]
  },
  {
   "cell_type": "markdown",
   "metadata": {},
   "source": [
    "*Comment:*\n",
    "1. As the figures above suggest it, the typical houshold in this dataset:\n",
    "    * is between 25 and 54 years old\n",
    "    * is married\n",
    "    * has a median salary (between 35k and 74k per year)\n",
    "    * is homeowner\n",
    "    * is composed of 2 adults with few are no children\n",
    "2. An ideal data sampling would have select more uniformly the data two draw conclusion on the general population. We could find some reason to this non uniform data sampling\n",
    "    * This dataset is on marketing purpose. They wanted to target people in a wiser manner. Thus, it is likely they chose the most interesting people for them to increase their benefits **=> middle class households**\n",
    "    * They recruit people on volontar basis and could not chose equilibrated household compositions.\n",
    "   "
   ]
  },
  {
   "cell_type": "markdown",
   "metadata": {},
   "source": [
    "<a id=d_prod></a>\n",
    "#### Products"
   ]
  },
  {
   "cell_type": "code",
   "execution_count": 460,
   "metadata": {},
   "outputs": [
    {
     "data": {
      "image/png": "[encoded data removed]",
      "text/plain": [
       "<Figure size 432x288 with 1 Axes>"
      ]
     },
     "metadata": {
      "needs_background": "light"
     },
     "output_type": "display_data"
    }
   ],
   "source": [
    "sns.countplot(x='brand', data=product_df)\n",
    "plt.title(\"Brand type count\")\n",
    "plt.show()"
   ]
  },
  {
   "cell_type": "code",
   "execution_count": 461,
   "metadata": {},
   "outputs": [
    {
     "data": {
      "image/png": "[encoded data removed]",
      "text/plain": [
       "<Figure size 576x720 with 1 Axes>"
      ]
     },
     "metadata": {
      "needs_background": "light"
     },
     "output_type": "display_data"
    }
   ],
   "source": [
    "# Display the amount of available products per commodity type\n",
    "plt.figure(figsize=(8, 10))\n",
    "sns.countplot(y='commodity_desc', data=product_df, order=product_df['commodity_desc'].value_counts().iloc[:30].index)\n",
    "plt.tick_params(axis='y')\n",
    "plt.title(\"Number of products per commodity type\", fontweight='bold')\n",
    "plt.show()"
   ]
  },
  {
   "cell_type": "markdown",
   "metadata": {},
   "source": [
    "<a id=outliers></a>\n",
    "### Outliers analysis"
   ]
  },
  {
   "cell_type": "markdown",
   "metadata": {},
   "source": [
    "**TODO**"
   ]
  },
  {
   "cell_type": "markdown",
   "metadata": {},
   "source": [
    "### Dealing with bias"
   ]
  },
  {
   "cell_type": "markdown",
   "metadata": {},
   "source": [
    "**TODO**"
   ]
  },
  {
   "cell_type": "markdown",
   "metadata": {},
   "source": [
    "<a id=explo></a>\n",
    "# 3. Exploitation"
   ]
  },
  {
   "cell_type": "markdown",
   "metadata": {},
   "source": [
    "## A. Specific preprocessing"
   ]
  },
  {
   "cell_type": "markdown",
   "metadata": {},
   "source": [
    "## B. Nutrient module"
   ]
  },
  {
   "cell_type": "code",
   "execution_count": null,
   "metadata": {},
   "outputs": [],
   "source": [
    "'''Y. AND J. THIS IS FOR YOU GUYS'''"
   ]
  },
  {
   "cell_type": "markdown",
   "metadata": {},
   "source": [
    "## C. Time series analysis"
   ]
  },
  {
   "cell_type": "markdown",
   "metadata": {},
   "source": [
    "### C.1 Find out season with time anonymised data"
   ]
  },
  {
   "cell_type": "markdown",
   "metadata": {},
   "source": [
    "### C.2 Find out high rate sold product throughout the day"
   ]
  },
  {
   "cell_type": "markdown",
   "metadata": {},
   "source": [
    "### C.3 Trending products"
   ]
  },
  {
   "cell_type": "markdown",
   "metadata": {},
   "source": [
    "## D. Influence of demographic factors on shopping habits."
   ]
  },
  {
   "cell_type": "code",
   "execution_count": null,
   "metadata": {},
   "outputs": [],
   "source": []
  },
  {
   "cell_type": "markdown",
   "metadata": {},
   "source": [
    "## E. Top bought item per household"
   ]
  },
  {
   "cell_type": "markdown",
   "metadata": {},
   "source": [
    "## F. Predict marital status and household composition"
   ]
  },
  {
   "cell_type": "markdown",
   "metadata": {},
   "source": [
    "## G. Obesity detection"
   ]
  }
 ],
 "metadata": {
  "kernelspec": {
   "display_name": "Python 3",
   "language": "python",
   "name": "python3"
  },
  "language_info": {
   "codemirror_mode": {
    "name": "ipython",
    "version": 3
   },
   "file_extension": ".py",
   "mimetype": "text/x-python",
   "name": "python",
   "nbconvert_exporter": "python",
   "pygments_lexer": "ipython3",
   "version": "3.7.0"
  }
 },
 "nbformat": 4,
 "nbformat_minor": 4
}
