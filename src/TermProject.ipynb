{
 "cells": [
  {
   "cell_type": "markdown",
   "metadata": {},
   "source": [
    "# Nutrition Datas: Extracting trends from our customers"
   ]
  },
  {
   "cell_type": "markdown",
   "metadata": {},
   "source": [
    "<div class=\"alert alert-block alert-info\">\n",
    "Now we are done with scrapping nutrition values, we want to build the actual nutrition profile: in order to do so, we first need to first extract the mass of each article, in order to assess the total sold mass.\n",
    "</div>"
   ]
  },
  {
   "cell_type": "code",
   "execution_count": 94,
   "metadata": {},
   "outputs": [],
   "source": [
    "from __future__ import print_function\n",
    "\n",
    "%matplotlib inline\n",
    "import re\n",
    "import os\n",
    "import numpy as np\n",
    "import pandas as pd\n",
    "import seaborn as sns\n",
    "from requests import get\n",
    "from bs4 import BeautifulSoup\n",
    "import matplotlib.pyplot as plt\n",
    "import pickle\n",
    "from matplotlib.ticker import MaxNLocator\n",
    "import re\n",
    "from ipywidgets import interact, interactive, fixed, interact_manual\n",
    "import ipywidgets as widgets\n",
    "import pickle\n",
    "import sys\n",
    "sys.path.insert(1, './utilities/')\n",
    "import weight_functions as wf \n"
   ]
  },
  {
   "cell_type": "code",
   "execution_count": 95,
   "metadata": {},
   "outputs": [],
   "source": [
    "product_df = pd.read_csv('../data/dunnhumby_data/product.csv')\n",
    "transaction_data_df = pd.read_csv('../data/dunnhumby_data/transaction_data.csv')\n"
   ]
  },
  {
   "cell_type": "markdown",
   "metadata": {},
   "source": [
    "## Limiting our dataset"
   ]
  },
  {
   "cell_type": "code",
   "execution_count": 96,
   "metadata": {},
   "outputs": [],
   "source": [
    "food_related_arr = np.array(['NUTRITION','GROCERY','PASTRY','MEAT-PCKGD','SEAFOOD-PCKGD','PRODUCE','DELI','MEAT','SALAD BAR','GRO BAKERY','FROZEN GROCERY','SPIRITS','RESTAURANT'])\n",
    "#products related to food only\n",
    "food_product_df = product_df.loc[(product_df['DEPARTMENT'].isin(food_related_arr))]\n",
    "food_product_df = food_product_df[~food_product_df.COMMODITY_DESC.isin(['PAPER TOWELS','BATH TISSUES','LAUNDRY DETERGENTS','FD WRAPS/BAGS/TRSH BG']) ]\n",
    "\n",
    "#transaction dataset related to food only\n",
    "food_transaction_data = transaction_data_df.merge(food_product_df,how = 'inner',on = 'PRODUCT_ID')\n",
    "food_transaction_data['dunn_name'] = food_transaction_data['COMMODITY_DESC'] + \" \" + food_transaction_data['SUB_COMMODITY_DESC']\n",
    "food_transaction_data = food_transaction_data.drop(columns = ['COMMODITY_DESC','SUB_COMMODITY_DESC'])[['household_key','BASKET_ID','PRODUCT_ID','QUANTITY','CURR_SIZE_OF_PRODUCT','dunn_name']]"
   ]
  },
  {
   "cell_type": "markdown",
   "metadata": {},
   "source": [
    "<div class=\"alert alert-block alert-info\">\n",
    "We analyze the quantity according to 2 metrics: \n",
    "    \n",
    "* (1) the number of times an item is bought \n",
    "* (2) the total sold mass of the item (kg)\n",
    "    \n",
    "Ideally one want to have an idea of which items are consumed the most in terms of mass, unfortunately, the mass section presents a lot of different units which are not easily parsable.\n",
    "</div>"
   ]
  },
  {
   "cell_type": "code",
   "execution_count": 97,
   "metadata": {},
   "outputs": [
    {
     "data": {
      "text/plain": [
       "array(['6 PK/15 OZ', '2PK/ 3 OZ', '25CT/63 OZ', '4.22 OZ', '9.25OZ',\n",
       "       '20OZ BTLS', '18PK  12OZ', '6.77 OZ', '3.95 OZ', '8.9OZ',\n",
       "       'P   .14 OZ', '16OZ', '12 FL OZ', '67.6  OZ', '24PC/5.5OZ',\n",
       "       '3/4 X 18IN', '40 LB', '70 OZ', '9 IN 1 CT', '30.9 OZ', '3.3 LBS',\n",
       "       '4PK/3CC', '4.5 OZ', '0.4 OZ', 'ALL  12 OZ', '2.05OZ', '15.21 OZ',\n",
       "       '6P/11.2 OZ', '24.5 OZ', '22.80OZ'], dtype=object)"
      ]
     },
     "execution_count": 97,
     "metadata": {},
     "output_type": "execute_result"
    }
   ],
   "source": [
    "#as we can see, there are a lot of different units\n",
    "units = food_transaction_data.CURR_SIZE_OF_PRODUCT.unique()\n",
    "index = np.random.choice(units.shape[0], 30, replace=False)  \n",
    "units[index]"
   ]
  },
  {
   "cell_type": "code",
   "execution_count": 98,
   "metadata": {},
   "outputs": [],
   "source": [
    "#(1) number of bought times\n",
    "food_trans_data_count = food_transaction_data.groupby('dunn_name')\\\n",
    "                     .agg({'QUANTITY':'sum'})\\\n",
    "                     .sort_values(by = 'QUANTITY',ascending = False)"
   ]
  },
  {
   "cell_type": "code",
   "execution_count": 99,
   "metadata": {},
   "outputs": [
    {
     "data": {
      "text/plain": [
       "\"#(1) number of bought times\\nfood_trans_data_count = food_transaction_data[['PRODUCT_ID','QUANTITY']].copy()\\nfood_trans_data_count = food_trans_data_count.groupby('PRODUCT_ID')                     .sum()                     .join(product_df.set_index('PRODUCT_ID')[['COMMODITY_DESC','SUB_COMMODITY_DESC','CURR_SIZE_OF_PRODUCT']],how = 'left',on = 'PRODUCT_ID',lsuffix = '_l',rsuffix = '_r')                     .sort_values(by = 'QUANTITY',ascending = False)\""
      ]
     },
     "execution_count": 99,
     "metadata": {},
     "output_type": "execute_result"
    }
   ],
   "source": [
    "\"\"\"#(1) number of bought times\n",
    "food_trans_data_count = food_transaction_data[['PRODUCT_ID','QUANTITY']].copy()\n",
    "food_trans_data_count = food_trans_data_count.groupby('PRODUCT_ID')\\\n",
    "                     .sum()\\\n",
    "                     .join(product_df.set_index('PRODUCT_ID')[['COMMODITY_DESC','SUB_COMMODITY_DESC','CURR_SIZE_OF_PRODUCT']],how = 'left',on = 'PRODUCT_ID',lsuffix = '_l',rsuffix = '_r')\\\n",
    "                     .sort_values(by = 'QUANTITY',ascending = False)\"\"\""
   ]
  },
  {
   "cell_type": "code",
   "execution_count": 100,
   "metadata": {},
   "outputs": [
    {
     "data": {
      "text/plain": [
       "2043"
      ]
     },
     "execution_count": 100,
     "metadata": {},
     "output_type": "execute_result"
    }
   ],
   "source": [
    "food_trans_data_count.shape[0]"
   ]
  },
  {
   "cell_type": "markdown",
   "metadata": {},
   "source": [
    "<div class=\"alert alert-block alert-info\">\n",
    "The idea consists thus to take the 4000 most bought items in terms of number (~70% of all sold counts) and extract their mass exclusively, since they present a less heterogeneous dataset for the mass units.\n",
    "</div>"
   ]
  },
  {
   "cell_type": "code",
   "execution_count": 101,
   "metadata": {},
   "outputs": [
    {
     "data": {
      "image/png": "[encoded data removed]",
      "text/plain": [
       "<Figure size 432x288 with 1 Axes>"
      ]
     },
     "metadata": {
      "needs_background": "light"
     },
     "output_type": "display_data"
    },
    {
     "name": "stdout",
     "output_type": "stream",
     "text": [
      "Ratio of total sells treated by treating the first 200 samples: 0.71\n"
     ]
    }
   ],
   "source": [
    "#we restrict ourself to treat the NUM first items\n",
    "NUM = 200\n",
    "N = food_trans_data_count.shape[0]\n",
    "fig, ax = plt.subplots(1)\n",
    "n_bins = 500\n",
    "No, bins, patches = ax.hist(food_trans_data_count.QUANTITY,bins = n_bins)\n",
    "ax.set_ylabel('items number')\n",
    "ax.set_xlabel('number of sells')\n",
    "ax.set_yscale('log')\n",
    "ax.set_title('Histogram of total sells')\n",
    "val = food_trans_data_count.QUANTITY.iloc[NUM]\n",
    "val_bin = np.digitize(val,bins)\n",
    "\n",
    "for i in range(0,val_bin):\n",
    "    patches[i].set_facecolor('r')\n",
    "for i in range(val_bin,n_bins):    \n",
    "    patches[i].set_facecolor('b')\n",
    "ax.plot([0,0],[0,0],'-b', label='untreated data')\n",
    "ax.plot([0,0],[0,0],'-r', label='treated data')\n",
    "ax.legend()\n",
    "plt.show()\n",
    "k = food_trans_data_count.iloc[:NUM].QUANTITY.values.sum()\n",
    "t = food_trans_data_count.QUANTITY.values.sum()\n",
    "ratio = k/t\n",
    "print('Ratio of total sells treated by treating the first %i samples: %.2f' % (NUM,ratio) )"
   ]
  },
  {
   "cell_type": "markdown",
   "metadata": {},
   "source": [
    "## Extracting the weight"
   ]
  },
  {
   "cell_type": "code",
   "execution_count": 102,
   "metadata": {},
   "outputs": [
    {
     "data": {
      "text/plain": [
       "<module 'weight_functions' from './utilities/weight_functions.py'>"
      ]
     },
     "execution_count": 102,
     "metadata": {},
     "output_type": "execute_result"
    }
   ],
   "source": [
    "from importlib import reload\n",
    "reload(wf)"
   ]
  },
  {
   "cell_type": "markdown",
   "metadata": {},
   "source": [
    "<div class=\"alert alert-block alert-info\">\n",
    "We now check that we indeed treat all the types of weights.\n",
    "</div>"
   ]
  },
  {
   "cell_type": "code",
   "execution_count": 104,
   "metadata": {},
   "outputs": [
    {
     "name": "stdout",
     "output_type": "stream",
     "text": [
      "List of units not treated by the regex: ['1GL' '3 PACK' '60 GM' 'LARGE' 'GL' '10 COUNT' '100 GRAM' '4 PACK'\n",
      " '45 GRAM' '1 GL' '5 GL']\n"
     ]
    }
   ],
   "source": [
    "top4000 = food_transaction_data[food_transaction_data.dunn_name.isin(food_trans_data_count.index[:NUM])]\n",
    "bad_units = top4000[~top4000.CURR_SIZE_OF_PRODUCT.str.contains('^.*(?:LB|GA|DZ|OZ|OUNCE|PK|CT|LITER|LT|LTR|ML|QT|PT|PINT|QUART).*$|^\\s?$',regex=True)].CURR_SIZE_OF_PRODUCT.unique()\n",
    "print('List of units not treated by the regex: {}'.format(bad_units))"
   ]
  },
  {
   "cell_type": "code",
   "execution_count": 106,
   "metadata": {},
   "outputs": [
    {
     "data": {
      "text/plain": [
       "\"#check if the weight is treatable for the top4000\\ntop4000 = food_trans_data_count.iloc[:NUM].copy()\\nbad_units = top4000[~top4000.CURR_SIZE_OF_PRODUCT.str.contains('^.*(?:LB|GA|DZ|OZ|OUNCE|PK|CT|LITER|LT|LTR|ML|QT|PT|PINT|QUART).*$|^\\\\s?$',regex=True)].CURR_SIZE_OF_PRODUCT.unique()\\nprint('List of units not treated by the regex: {}'.format(bad_units))\""
      ]
     },
     "execution_count": 106,
     "metadata": {},
     "output_type": "execute_result"
    }
   ],
   "source": [
    "\"\"\"#check if the weight is treatable for the top4000\n",
    "top4000 = food_trans_data_count.iloc[:NUM].copy()\n",
    "bad_units = top4000[~top4000.CURR_SIZE_OF_PRODUCT.str.contains('^.*(?:LB|GA|DZ|OZ|OUNCE|PK|CT|LITER|LT|LTR|ML|QT|PT|PINT|QUART).*$|^\\s?$',regex=True)].CURR_SIZE_OF_PRODUCT.unique()\n",
    "print('List of units not treated by the regex: {}'.format(bad_units))\"\"\""
   ]
  },
  {
   "cell_type": "code",
   "execution_count": 107,
   "metadata": {},
   "outputs": [
    {
     "data": {
      "text/plain": [
       "array(['FLUID MILK PRODUCTS FLUID MILK WHITE ONLY',\n",
       "       'FLUID MILK PRODUCTS FLUID MILK WHITE ONLY',\n",
       "       'FLUID MILK PRODUCTS FLUID MILK WHITE ONLY',\n",
       "       'FLUID MILK PRODUCTS FLUID MILK WHITE ONLY',\n",
       "       'FLUID MILK PRODUCTS FLUID MILK WHITE ONLY',\n",
       "       'FLUID MILK PRODUCTS FLUID MILK WHITE ONLY',\n",
       "       'FLUID MILK PRODUCTS FLUID MILK WHITE ONLY',\n",
       "       'FLUID MILK PRODUCTS FLUID MILK WHITE ONLY',\n",
       "       'FLUID MILK PRODUCTS FLUID MILK WHITE ONLY',\n",
       "       'FLUID MILK PRODUCTS FLUID MILK WHITE ONLY',\n",
       "       'FLUID MILK PRODUCTS FLUID MILK WHITE ONLY',\n",
       "       'FLUID MILK PRODUCTS FLUID MILK WHITE ONLY',\n",
       "       'FLUID MILK PRODUCTS FLUID MILK WHITE ONLY',\n",
       "       'FLUID MILK PRODUCTS FLUID MILK WHITE ONLY',\n",
       "       'FLUID MILK PRODUCTS FLUID MILK WHITE ONLY',\n",
       "       'FLUID MILK PRODUCTS FLUID MILK WHITE ONLY',\n",
       "       'FLUID MILK PRODUCTS FLUID MILK WHITE ONLY',\n",
       "       'FLUID MILK PRODUCTS FLUID MILK WHITE ONLY',\n",
       "       'FLUID MILK PRODUCTS FLUID MILK WHITE ONLY',\n",
       "       'FLUID MILK PRODUCTS FLUID MILK WHITE ONLY',\n",
       "       'FLUID MILK PRODUCTS FLUID MILK WHITE ONLY',\n",
       "       'FLUID MILK PRODUCTS FLUID MILK WHITE ONLY',\n",
       "       'POTATOES POTATOES RUSSET (BULK&BAG)',\n",
       "       'POTATOES POTATOES RUSSET (BULK&BAG)',\n",
       "       'POTATOES POTATOES RUSSET (BULK&BAG)',\n",
       "       'POTATOES POTATOES RUSSET (BULK&BAG)',\n",
       "       'POTATOES POTATOES RUSSET (BULK&BAG)',\n",
       "       'POTATOES POTATOES RUSSET (BULK&BAG)',\n",
       "       'POTATOES POTATOES RUSSET (BULK&BAG)',\n",
       "       'FITNESS&DIET FITNESS&DIET - BARS',\n",
       "       'FITNESS&DIET FITNESS&DIET - BARS',\n",
       "       'FITNESS&DIET FITNESS&DIET - BARS',\n",
       "       'FITNESS&DIET FITNESS&DIET - BARS',\n",
       "       'FITNESS&DIET FITNESS&DIET - BARS',\n",
       "       'FITNESS&DIET FITNESS&DIET - BARS',\n",
       "       'FITNESS&DIET FITNESS&DIET - BARS',\n",
       "       'FITNESS&DIET FITNESS&DIET - BARS',\n",
       "       'FITNESS&DIET FITNESS&DIET - BARS',\n",
       "       'FITNESS&DIET FITNESS&DIET - BARS',\n",
       "       'FITNESS&DIET FITNESS&DIET - BARS',\n",
       "       'FITNESS&DIET FITNESS&DIET - BARS',\n",
       "       'FITNESS&DIET FITNESS&DIET - BARS',\n",
       "       'FITNESS&DIET FITNESS&DIET - BARS',\n",
       "       'FITNESS&DIET FITNESS&DIET - BARS',\n",
       "       'FITNESS&DIET FITNESS&DIET - BARS',\n",
       "       'FITNESS&DIET FITNESS&DIET - BARS',\n",
       "       'FITNESS&DIET FITNESS&DIET - BARS',\n",
       "       'FITNESS&DIET FITNESS&DIET - BARS', 'EGGS EGGS - LARGE',\n",
       "       'EGGS EGGS - LARGE', 'FLUID MILK PRODUCTS FLUID MILK WHITE ONLY',\n",
       "       'FLUID MILK PRODUCTS FLUID MILK WHITE ONLY',\n",
       "       'FLUID MILK PRODUCTS FLUID MILK WHITE ONLY',\n",
       "       'FLUID MILK PRODUCTS FLUID MILK WHITE ONLY',\n",
       "       'FLUID MILK PRODUCTS FLUID MILK WHITE ONLY',\n",
       "       'FLUID MILK PRODUCTS FLUID MILK WHITE ONLY',\n",
       "       'FLUID MILK PRODUCTS FLUID MILK WHITE ONLY',\n",
       "       'FLUID MILK PRODUCTS FLUID MILK WHITE ONLY',\n",
       "       'FLUID MILK PRODUCTS FLUID MILK WHITE ONLY',\n",
       "       'FLUID MILK PRODUCTS FLUID MILK WHITE ONLY',\n",
       "       'FLUID MILK PRODUCTS FLUID MILK WHITE ONLY',\n",
       "       'FLUID MILK PRODUCTS FLUID MILK WHITE ONLY',\n",
       "       'FLUID MILK PRODUCTS FLUID MILK WHITE ONLY',\n",
       "       'FLUID MILK PRODUCTS FLUID MILK WHITE ONLY',\n",
       "       'FLUID MILK PRODUCTS FLUID MILK WHITE ONLY',\n",
       "       'FLUID MILK PRODUCTS FLUID MILK WHITE ONLY',\n",
       "       'SOFT DRINKS SFT DRNK SNGL SRV BTL CARB (EX',\n",
       "       'SOFT DRINKS SFT DRNK SNGL SRV BTL CARB (EX',\n",
       "       'WATER - CARBONATED/FLVRD DRINK SPRING WATER',\n",
       "       'WATER - CARBONATED/FLVRD DRINK SPRING WATER',\n",
       "       'SOFT DRINKS SFT DRNK SNGL SRV BTL CARB (EX',\n",
       "       'SOFT DRINKS SFT DRNK SNGL SRV BTL CARB (EX',\n",
       "       'FLUID MILK PRODUCTS FLUID MILK WHITE ONLY',\n",
       "       'FLUID MILK PRODUCTS FLUID MILK WHITE ONLY',\n",
       "       'FLUID MILK PRODUCTS FLUID MILK WHITE ONLY',\n",
       "       'FLUID MILK PRODUCTS FLUID MILK WHITE ONLY',\n",
       "       'FLUID MILK PRODUCTS FLUID MILK WHITE ONLY',\n",
       "       'FLUID MILK PRODUCTS FLUID MILK WHITE ONLY',\n",
       "       'REFRGRATD JUICES/DRNKS DAIRY CASE FRUIT DRINKS (NO JU',\n",
       "       'REFRGRATD JUICES/DRNKS DAIRY CASE FRUIT DRINKS (NO JU',\n",
       "       'REFRGRATD JUICES/DRNKS DAIRY CASE FRUIT DRINKS (NO JU',\n",
       "       'REFRGRATD JUICES/DRNKS DAIRY CASE FRUIT DRINKS (NO JU',\n",
       "       'REFRGRATD JUICES/DRNKS DAIRY CASE FRUIT DRINKS (NO JU',\n",
       "       'WATER - CARBONATED/FLVRD DRINK NON-CRBNTD DRNKING/MNERAL WATE',\n",
       "       'PWDR/CRYSTL DRNK MX SOFT DRINK POWDER POUCHES',\n",
       "       'PWDR/CRYSTL DRNK MX SOFT DRINK POWDER POUCHES',\n",
       "       'PWDR/CRYSTL DRNK MX SOFT DRINK POWDER POUCHES',\n",
       "       'PWDR/CRYSTL DRNK MX SOFT DRINK POWDER POUCHES',\n",
       "       'PWDR/CRYSTL DRNK MX SOFT DRINK POWDER POUCHES',\n",
       "       'PWDR/CRYSTL DRNK MX SOFT DRINK POWDER POUCHES',\n",
       "       'PWDR/CRYSTL DRNK MX SOFT DRINK POWDER POUCHES',\n",
       "       'PWDR/CRYSTL DRNK MX SOFT DRINK POWDER POUCHES',\n",
       "       'PWDR/CRYSTL DRNK MX SOFT DRINK POWDER POUCHES',\n",
       "       'PWDR/CRYSTL DRNK MX SOFT DRINK POWDER POUCHES',\n",
       "       'PWDR/CRYSTL DRNK MX SOFT DRINK POWDER POUCHES',\n",
       "       'PWDR/CRYSTL DRNK MX SOFT DRINK POWDER POUCHES',\n",
       "       'PWDR/CRYSTL DRNK MX SOFT DRINK POWDER POUCHES',\n",
       "       'PWDR/CRYSTL DRNK MX SOFT DRINK POWDER POUCHES',\n",
       "       'PWDR/CRYSTL DRNK MX SOFT DRINK POWDER POUCHES',\n",
       "       'PWDR/CRYSTL DRNK MX SOFT DRINK POWDER POUCHES',\n",
       "       'PWDR/CRYSTL DRNK MX SOFT DRINK POWDER POUCHES',\n",
       "       'PWDR/CRYSTL DRNK MX SOFT DRINK POWDER POUCHES',\n",
       "       'PWDR/CRYSTL DRNK MX SOFT DRINK POWDER POUCHES',\n",
       "       'PWDR/CRYSTL DRNK MX SOFT DRINK POWDER POUCHES',\n",
       "       'PWDR/CRYSTL DRNK MX SOFT DRINK POWDER POUCHES',\n",
       "       'PWDR/CRYSTL DRNK MX SOFT DRINK POWDER POUCHES',\n",
       "       'PWDR/CRYSTL DRNK MX SOFT DRINK POWDER POUCHES',\n",
       "       'PWDR/CRYSTL DRNK MX SOFT DRINK POWDER POUCHES',\n",
       "       'PWDR/CRYSTL DRNK MX SOFT DRINK POWDER POUCHES',\n",
       "       'PWDR/CRYSTL DRNK MX SOFT DRINK POWDER POUCHES',\n",
       "       'PWDR/CRYSTL DRNK MX SOFT DRINK POWDER POUCHES',\n",
       "       'PWDR/CRYSTL DRNK MX SOFT DRINK POWDER POUCHES',\n",
       "       'PWDR/CRYSTL DRNK MX SOFT DRINK POWDER POUCHES',\n",
       "       'PWDR/CRYSTL DRNK MX SOFT DRINK POWDER POUCHES',\n",
       "       'PWDR/CRYSTL DRNK MX SOFT DRINK POWDER POUCHES',\n",
       "       'PWDR/CRYSTL DRNK MX SOFT DRINK POWDER POUCHES',\n",
       "       'PWDR/CRYSTL DRNK MX SOFT DRINK POWDER POUCHES',\n",
       "       'PWDR/CRYSTL DRNK MX SOFT DRINK POWDER POUCHES',\n",
       "       'PWDR/CRYSTL DRNK MX SOFT DRINK POWDER POUCHES',\n",
       "       'PWDR/CRYSTL DRNK MX SOFT DRINK POWDER POUCHES',\n",
       "       'FITNESS&DIET FITNESS&DIET - BARS',\n",
       "       'FITNESS&DIET FITNESS&DIET - BARS',\n",
       "       'FITNESS&DIET FITNESS&DIET - BARS',\n",
       "       'FITNESS&DIET FITNESS&DIET - BARS',\n",
       "       'FITNESS&DIET FITNESS&DIET - BARS',\n",
       "       'FITNESS&DIET FITNESS&DIET - BARS',\n",
       "       'FITNESS&DIET FITNESS&DIET - BARS',\n",
       "       'FITNESS&DIET FITNESS&DIET - BARS',\n",
       "       'FITNESS&DIET FITNESS&DIET - BARS',\n",
       "       'FITNESS&DIET FITNESS&DIET - BARS',\n",
       "       'FITNESS&DIET FITNESS&DIET - BARS',\n",
       "       'FITNESS&DIET FITNESS&DIET - BARS',\n",
       "       'SOFT DRINKS SFT DRNK MLT-PK BTL CARB (EXCP',\n",
       "       'SOFT DRINKS SFT DRNK MLT-PK BTL CARB (EXCP',\n",
       "       'SOFT DRINKS SFT DRNK MLT-PK BTL CARB (EXCP',\n",
       "       'SOFT DRINKS SFT DRNK MLT-PK BTL CARB (EXCP',\n",
       "       'SOFT DRINKS SFT DRNK MLT-PK BTL CARB (EXCP',\n",
       "       'FITNESS&DIET FITNESS&DIET - BARS',\n",
       "       'FITNESS&DIET FITNESS&DIET - BARS',\n",
       "       'FITNESS&DIET FITNESS&DIET - BARS',\n",
       "       'FITNESS&DIET FITNESS&DIET - BARS',\n",
       "       'FITNESS&DIET FITNESS&DIET - BARS',\n",
       "       'FITNESS&DIET FITNESS&DIET - BARS',\n",
       "       'FITNESS&DIET FITNESS&DIET - BARS',\n",
       "       'FITNESS&DIET FITNESS&DIET - BARS',\n",
       "       'FITNESS&DIET FITNESS&DIET - BARS',\n",
       "       'FITNESS&DIET FITNESS&DIET - BARS',\n",
       "       'FITNESS&DIET FITNESS&DIET - BARS',\n",
       "       'FITNESS&DIET FITNESS&DIET - BARS',\n",
       "       'FITNESS&DIET FITNESS&DIET - BARS',\n",
       "       'FITNESS&DIET FITNESS&DIET - BARS',\n",
       "       'FITNESS&DIET FITNESS&DIET - BARS',\n",
       "       'FITNESS&DIET FITNESS&DIET - BARS',\n",
       "       'FITNESS&DIET FITNESS&DIET - BARS',\n",
       "       'FITNESS&DIET FITNESS&DIET - BARS',\n",
       "       'FITNESS&DIET FITNESS&DIET - BARS',\n",
       "       'FITNESS&DIET FITNESS&DIET - BARS',\n",
       "       'FITNESS&DIET FITNESS&DIET - BARS',\n",
       "       'FITNESS&DIET FITNESS&DIET - BARS',\n",
       "       'FITNESS&DIET FITNESS&DIET - BARS',\n",
       "       'FITNESS&DIET FITNESS&DIET - BARS',\n",
       "       'FITNESS&DIET FITNESS&DIET - BARS',\n",
       "       'FITNESS&DIET FITNESS&DIET - BARS',\n",
       "       'FITNESS&DIET FITNESS&DIET - BARS',\n",
       "       'FITNESS&DIET FITNESS&DIET - BARS',\n",
       "       'FITNESS&DIET FITNESS&DIET - BARS',\n",
       "       'FITNESS&DIET FITNESS&DIET - BARS',\n",
       "       'FITNESS&DIET FITNESS&DIET - BARS',\n",
       "       'FITNESS&DIET FITNESS&DIET - BARS',\n",
       "       'FITNESS&DIET FITNESS&DIET - BARS',\n",
       "       'FITNESS&DIET FITNESS&DIET - BARS',\n",
       "       'FITNESS&DIET FITNESS&DIET - BARS',\n",
       "       'FITNESS&DIET FITNESS&DIET - BARS',\n",
       "       'FITNESS&DIET FITNESS&DIET - BARS',\n",
       "       'FITNESS&DIET FITNESS&DIET - BARS',\n",
       "       'FITNESS&DIET FITNESS&DIET - BARS',\n",
       "       'FITNESS&DIET FITNESS&DIET - BARS',\n",
       "       'FITNESS&DIET FITNESS&DIET - BARS',\n",
       "       'FITNESS&DIET FITNESS&DIET - BARS',\n",
       "       'FITNESS&DIET FITNESS&DIET - BARS',\n",
       "       'FITNESS&DIET FITNESS&DIET - BARS',\n",
       "       'FITNESS&DIET FITNESS&DIET - BARS',\n",
       "       'FITNESS&DIET FITNESS&DIET - BARS',\n",
       "       'FITNESS&DIET FITNESS&DIET - BARS',\n",
       "       'FITNESS&DIET FITNESS&DIET - BARS',\n",
       "       'FITNESS&DIET FITNESS&DIET - BARS',\n",
       "       'FITNESS&DIET FITNESS&DIET - BARS',\n",
       "       'FITNESS&DIET FITNESS&DIET - BARS',\n",
       "       'FITNESS&DIET FITNESS&DIET - BARS',\n",
       "       'FITNESS&DIET FITNESS&DIET - BARS',\n",
       "       'FITNESS&DIET FITNESS&DIET - BARS',\n",
       "       'FITNESS&DIET FITNESS&DIET - BARS',\n",
       "       'FITNESS&DIET FITNESS&DIET - BARS',\n",
       "       'FITNESS&DIET FITNESS&DIET - BARS',\n",
       "       'FITNESS&DIET FITNESS&DIET - BARS',\n",
       "       'FITNESS&DIET FITNESS&DIET - BARS',\n",
       "       'FITNESS&DIET FITNESS&DIET - BARS',\n",
       "       'FITNESS&DIET FITNESS&DIET - BARS',\n",
       "       'FITNESS&DIET FITNESS&DIET - BARS',\n",
       "       'FITNESS&DIET FITNESS&DIET - BARS',\n",
       "       'REFRGRATD JUICES/DRNKS DAIRY CASE FRUIT DRINKS (NO JU',\n",
       "       'REFRGRATD JUICES/DRNKS DAIRY CASE FRUIT DRINKS (NO JU',\n",
       "       'REFRGRATD JUICES/DRNKS DAIRY CASE FRUIT DRINKS (NO JU',\n",
       "       'REFRGRATD JUICES/DRNKS DAIRY CASE FRUIT DRINKS (NO JU',\n",
       "       'REFRGRATD JUICES/DRNKS DAIRY CASE FRUIT DRINKS (NO JU',\n",
       "       'WATER - CARBONATED/FLVRD DRINK NON-CRBNTD DRNKING/MNERAL WATE'],\n",
       "      dtype=object)"
      ]
     },
     "execution_count": 107,
     "metadata": {},
     "output_type": "execute_result"
    }
   ],
   "source": [
    "def check_strange_unit (unit):\n",
    "    return top4000[top4000.CURR_SIZE_OF_PRODUCT.str.contains(unit)].dunn_name.values\n",
    "np.concatenate([check_strange_unit(unit) for unit in bad_units])"
   ]
  },
  {
   "cell_type": "code",
   "execution_count": 108,
   "metadata": {},
   "outputs": [],
   "source": [
    "top4000 = top4000[top4000.CURR_SIZE_OF_PRODUCT.str.contains('^.*(?:LB|GA|DZ|OZ|OUNCE|PK|CT|LITER|LT|LTR|ML|QT|PT|PINT|QUART).*$|^\\s?$',regex=True)]"
   ]
  },
  {
   "cell_type": "markdown",
   "metadata": {},
   "source": [
    "<div class=\"alert alert-block alert-info\">\n",
    "The followings are the units we encounter in the top 4000:\n",
    "</div>"
   ]
  },
  {
   "cell_type": "markdown",
   "metadata": {},
   "source": [
    "LB = pounds<br>\n",
    "GA = gallons<br>\n",
    "DZ = dozens (eggs)<br>\n",
    "OZ,OUNCE = ounces<br>\n",
    "PK = pack (0.33 liters)<br>\n",
    "CT = counts ==> USER INPUT<br>\n",
    "LITER LT = liters<br>\n",
    "ML = milliliters<br>\n",
    "QT = quantity ==> USER INPUT<br>\n",
    "PT = pint (0.473176473 liters)<br>"
   ]
  },
  {
   "cell_type": "markdown",
   "metadata": {},
   "source": [
    "### Weight finding\n"
   ]
  },
  {
   "cell_type": "markdown",
   "metadata": {},
   "source": [
    "<div class=\"alert alert-block alert-info\">\n",
    "Once again, regexes were used (cf weight_functions.py) in order to parse the weight and convert it in kg. All the liquids were assumed to have water-like density. You can test the tool in the following cell.\n",
    "</div>"
   ]
  },
  {
   "cell_type": "code",
   "execution_count": 109,
   "metadata": {},
   "outputs": [
    {
     "data": {
      "application/vnd.jupyter.widget-view+json": {
       "model_id": "fdda4b2c683943df8a4514cab90ab92b",
       "version_major": 2,
       "version_minor": 0
      },
      "text/plain": [
       "interactive(children=(IntSlider(value=0, description='x', max=4), Output()), _dom_classes=('widget-interact',)…"
      ]
     },
     "metadata": {},
     "output_type": "display_data"
    }
   ],
   "source": [
    "UNITS = ['LB','GA','DZ','OZ','OUNCE','PK','CT','LITER','LT','ML','QT','PT']\n",
    "\n",
    "test_weights_volumes = ['422 Lt','(600) 4OUNCE','5.323 OZ','there is 3 pint','2 CT']\n",
    "def f(x):\n",
    "    tested = test_weights_volumes[x]\n",
    "    print('Tested expression: %s .Equivalent weight computed: %.2f kg' % (tested,wf.get_weight(tested)))\n",
    "interact(f, x=widgets.IntSlider(min=0, max=len(test_weights_volumes) - 1, step=1, value=0));\n"
   ]
  },
  {
   "cell_type": "code",
   "execution_count": 110,
   "metadata": {},
   "outputs": [
    {
     "name": "stderr",
     "output_type": "stream",
     "text": [
      "/home/ymentha/anaconda3/envs/ada/lib/python3.7/site-packages/ipykernel_launcher.py:1: SettingWithCopyWarning: \n",
      "A value is trying to be set on a copy of a slice from a DataFrame.\n",
      "Try using .loc[row_indexer,col_indexer] = value instead\n",
      "\n",
      "See the caveats in the documentation: http://pandas.pydata.org/pandas-docs/stable/user_guide/indexing.html#returning-a-view-versus-a-copy\n",
      "  \"\"\"Entry point for launching an IPython kernel.\n"
     ]
    }
   ],
   "source": [
    "top4000['SINGLE_WEIGHT']  = top4000.CURR_SIZE_OF_PRODUCT.apply(wf.get_weight).values"
   ]
  },
  {
   "cell_type": "markdown",
   "metadata": {},
   "source": [
    "<div class=\"alert alert-block alert-info\">\n",
    "The same method is used to extract the weight of the articles.\n",
    "Unfortunately, the data whose metric is either CT,QT (quantity) or simply not present cannot easily be computed as this would require items specific weights. (a capsicon does not have the same weight as a pumpkin) \n",
    "\n",
    "We thus ask the user to estimate the weight of each item, thanks to the function start_create_single_weights.\n",
    "</div>"
   ]
  },
  {
   "cell_type": "code",
   "execution_count": 112,
   "metadata": {},
   "outputs": [
    {
     "name": "stdout",
     "output_type": "stream",
     "text": [
      "Number of non treated items: 176087 on 1526859 items\n"
     ]
    }
   ],
   "source": [
    "ct_count = top4000[top4000.CURR_SIZE_OF_PRODUCT.str.contains('QT')].shape[0]\n",
    "qt_count = top4000[top4000.CURR_SIZE_OF_PRODUCT.str.contains('QT')].shape[0]\n",
    "space_count = top4000[top4000.CURR_SIZE_OF_PRODUCT == ' '].shape[0]\n",
    "print('Number of non treated items: %i on %i items' % ((ct_count + qt_count + space_count),top4000.shape[0]))"
   ]
  },
  {
   "cell_type": "code",
   "execution_count": 113,
   "metadata": {},
   "outputs": [
    {
     "name": "stdout",
     "output_type": "stream",
     "text": [
      "Successful read.\n",
      "Successful read.\n",
      "Successful read.\n"
     ]
    }
   ],
   "source": [
    "single_weights_ct_df = pd.DataFrame.from_dict(wf.start_create_single_weights('CT',top4000),orient = 'index')\\\n",
    "                        .rename(columns = {0: 'SINGLE_WEIGHT'})\n",
    "single_weights_qt_df = pd.DataFrame.from_dict(wf.start_create_single_weights('QT',top4000),orient = 'index')\\\n",
    "                        .rename(columns = {0: 'SINGLE_WEIGHT'})\n",
    "single_weights_space_df = pd.DataFrame.from_dict(wf.start_create_single_weights('space',top4000),orient = 'index')\\\n",
    "                        .rename(columns = {0: 'SINGLE_WEIGHT'})"
   ]
  },
  {
   "cell_type": "code",
   "execution_count": 114,
   "metadata": {},
   "outputs": [],
   "source": [
    "top4000 = top4000.join(single_weights_ct_df,how = 'left',rsuffix ='_r')\n",
    "top4000.SINGLE_WEIGHT.fillna(top4000.SINGLE_WEIGHT_r,inplace = True)\n",
    "top4000.drop(columns = 'SINGLE_WEIGHT_r',inplace = True)\n",
    "\n",
    "top4000 = top4000.join(single_weights_qt_df,how = 'left',rsuffix ='_r')\n",
    "top4000.SINGLE_WEIGHT.fillna(top4000.SINGLE_WEIGHT_r,inplace = True)\n",
    "top4000.drop(columns = 'SINGLE_WEIGHT_r',inplace = True)\n",
    "\n",
    "top4000 = top4000.join(single_weights_space_df,how = 'left',rsuffix ='_r')\n",
    "top4000.SINGLE_WEIGHT.fillna(top4000.SINGLE_WEIGHT_r,inplace = True)\n",
    "top4000.drop(columns = 'SINGLE_WEIGHT_r',inplace = True)"
   ]
  },
  {
   "cell_type": "code",
   "execution_count": 117,
   "metadata": {},
   "outputs": [],
   "source": [
    "top4000['TOT_WEIGHT'] = top4000.SINGLE_WEIGHT * top4000.QUANTITY\n",
    "top4000.sort_values(by = 'TOT_WEIGHT',ascending = False,inplace = True)"
   ]
  },
  {
   "cell_type": "code",
   "execution_count": 118,
   "metadata": {},
   "outputs": [
    {
     "data": {
      "text/plain": [
       "Index(['household_key', 'BASKET_ID', 'PRODUCT_ID', 'QUANTITY',\n",
       "       'CURR_SIZE_OF_PRODUCT', 'dunn_name', 'SINGLE_WEIGHT', 'TOT_WEIGHT'],\n",
       "      dtype='object')"
      ]
     },
     "execution_count": 118,
     "metadata": {},
     "output_type": "execute_result"
    }
   ],
   "source": [
    "top4000.columns"
   ]
  },
  {
   "cell_type": "code",
   "execution_count": 131,
   "metadata": {},
   "outputs": [],
   "source": [
    "tot_weight_nut_df = top4000.reset_index()\\\n",
    "                     .groupby(['dunn_name']).agg({'TOT_WEIGHT':'sum'})\\\n",
    "                     .reset_index()\\\n",
    "                     .copy()\n",
    "house_nut_df = top4000.reset_index()\\\n",
    "                      .groupby(['household_key','dunn_name'])\\\n",
    "                      .agg({'TOT_WEIGHT':'sum'})\\\n",
    "                      .reset_index()\\\n",
    "                      .copy()"
   ]
  },
  {
   "cell_type": "markdown",
   "metadata": {},
   "source": [
    "## Adding the nutrition"
   ]
  },
  {
   "cell_type": "markdown",
   "metadata": {},
   "source": [
    "<div class=\"alert alert-block alert-info\">\n",
    " We can now finally try to extract the desired nutrition profile.\n",
    "</div>"
   ]
  },
  {
   "cell_type": "code",
   "execution_count": 75,
   "metadata": {},
   "outputs": [],
   "source": [
    "top4000.sort_values(by = 'TOT_WEIGHT',ascending = False, inplace = True)"
   ]
  },
  {
   "cell_type": "code",
   "execution_count": 76,
   "metadata": {},
   "outputs": [],
   "source": [
    "with open(r\"../results/dunnhumb_articles_nutriments.pickle\", \"rb\") as input_file:\n",
    "    all_nutrition = pickle.load(input_file)\n",
    "with open(r\"../results/nutriments_units.pickle\", \"rb\") as input_file:\n",
    "    nutriment_units_df = pickle.load(input_file)"
   ]
  },
  {
   "cell_type": "code",
   "execution_count": 77,
   "metadata": {},
   "outputs": [],
   "source": [
    "top4000 = top4000.join(all_nutrition.set_index('dunn_name'),on = 'dunn_name',how = 'inner')\\\n",
    "                 .sort_values(by = 'TOT_WEIGHT',ascending = False)\\\n",
    "                 .reset_index()"
   ]
  },
  {
   "cell_type": "code",
   "execution_count": 132,
   "metadata": {},
   "outputs": [],
   "source": [
    "house_nut_df = house_nut_df.join(all_nutrition.set_index('dunn_name'),on = 'dunn_name',how = 'inner')\\\n",
    "                 .sort_values(by = 'TOT_WEIGHT',ascending = False)\\\n",
    "                 .reset_index()"
   ]
  },
  {
   "cell_type": "code",
   "execution_count": 133,
   "metadata": {},
   "outputs": [
    {
     "data": {
      "text/html": [
       "<div>\n",
       "<style scoped>\n",
       "    .dataframe tbody tr th:only-of-type {\n",
       "        vertical-align: middle;\n",
       "    }\n",
       "\n",
       "    .dataframe tbody tr th {\n",
       "        vertical-align: top;\n",
       "    }\n",
       "\n",
       "    .dataframe thead th {\n",
       "        text-align: right;\n",
       "    }\n",
       "</style>\n",
       "<table border=\"1\" class=\"dataframe\">\n",
       "  <thead>\n",
       "    <tr style=\"text-align: right;\">\n",
       "      <th></th>\n",
       "      <th>index</th>\n",
       "      <th>household_key</th>\n",
       "      <th>dunn_name</th>\n",
       "      <th>TOT_WEIGHT</th>\n",
       "      <th>dunn_ingredients</th>\n",
       "      <th>nut_name</th>\n",
       "      <th>nut_ingredients</th>\n",
       "      <th>cholesterol</th>\n",
       "      <th>energy</th>\n",
       "      <th>fatty acids total monounsaturated</th>\n",
       "      <th>...</th>\n",
       "      <th>fiber</th>\n",
       "      <th>protein</th>\n",
       "      <th>sodium</th>\n",
       "      <th>sugars</th>\n",
       "      <th>total lipid</th>\n",
       "      <th>vitamin a</th>\n",
       "      <th>vitamin b-12</th>\n",
       "      <th>vitamin b-6</th>\n",
       "      <th>vitamin e</th>\n",
       "      <th>vitamin k</th>\n",
       "    </tr>\n",
       "  </thead>\n",
       "  <tbody>\n",
       "    <tr>\n",
       "      <td>0</td>\n",
       "      <td>153274</td>\n",
       "      <td>1609</td>\n",
       "      <td>TROPICAL FRUIT BANANAS</td>\n",
       "      <td>4173.273196</td>\n",
       "      <td>[tropic, fruit, banana]</td>\n",
       "      <td>Fruit salad, Puerto Rican style (Mixture inclu...</td>\n",
       "      <td>[fruit, salad, puerto, rican, style, mixtur, i...</td>\n",
       "      <td>0.0</td>\n",
       "      <td>58.0</td>\n",
       "      <td>0.033</td>\n",
       "      <td>...</td>\n",
       "      <td>1.5</td>\n",
       "      <td>0.70</td>\n",
       "      <td>4.0</td>\n",
       "      <td>10.84</td>\n",
       "      <td>0.21</td>\n",
       "      <td>39.0</td>\n",
       "      <td>0.0</td>\n",
       "      <td>0.121</td>\n",
       "      <td>0.0</td>\n",
       "      <td>0.9</td>\n",
       "    </tr>\n",
       "    <tr>\n",
       "      <td>1</td>\n",
       "      <td>178301</td>\n",
       "      <td>1879</td>\n",
       "      <td>TROPICAL FRUIT BANANAS</td>\n",
       "      <td>3937.178560</td>\n",
       "      <td>[tropic, fruit, banana]</td>\n",
       "      <td>Fruit salad, Puerto Rican style (Mixture inclu...</td>\n",
       "      <td>[fruit, salad, puerto, rican, style, mixtur, i...</td>\n",
       "      <td>0.0</td>\n",
       "      <td>58.0</td>\n",
       "      <td>0.033</td>\n",
       "      <td>...</td>\n",
       "      <td>1.5</td>\n",
       "      <td>0.70</td>\n",
       "      <td>4.0</td>\n",
       "      <td>10.84</td>\n",
       "      <td>0.21</td>\n",
       "      <td>39.0</td>\n",
       "      <td>0.0</td>\n",
       "      <td>0.121</td>\n",
       "      <td>0.0</td>\n",
       "      <td>0.9</td>\n",
       "    </tr>\n",
       "    <tr>\n",
       "      <td>2</td>\n",
       "      <td>164654</td>\n",
       "      <td>1740</td>\n",
       "      <td>TROPICAL FRUIT BANANAS</td>\n",
       "      <td>2703.408320</td>\n",
       "      <td>[tropic, fruit, banana]</td>\n",
       "      <td>Fruit salad, Puerto Rican style (Mixture inclu...</td>\n",
       "      <td>[fruit, salad, puerto, rican, style, mixtur, i...</td>\n",
       "      <td>0.0</td>\n",
       "      <td>58.0</td>\n",
       "      <td>0.033</td>\n",
       "      <td>...</td>\n",
       "      <td>1.5</td>\n",
       "      <td>0.70</td>\n",
       "      <td>4.0</td>\n",
       "      <td>10.84</td>\n",
       "      <td>0.21</td>\n",
       "      <td>39.0</td>\n",
       "      <td>0.0</td>\n",
       "      <td>0.121</td>\n",
       "      <td>0.0</td>\n",
       "      <td>0.9</td>\n",
       "    </tr>\n",
       "    <tr>\n",
       "      <td>3</td>\n",
       "      <td>114298</td>\n",
       "      <td>1193</td>\n",
       "      <td>WATER - CARBONATED/FLVRD DRINK NON-CRBNTD DRNK...</td>\n",
       "      <td>2368.497732</td>\n",
       "      <td>[water, carbon, flavor, drink, non, crbntd, dr...</td>\n",
       "      <td>Fruit juice and water drink, with high vitamin...</td>\n",
       "      <td>[fruit, juic, water, drink, high, vitamin, cal...</td>\n",
       "      <td>0.0</td>\n",
       "      <td>31.0</td>\n",
       "      <td>0.002</td>\n",
       "      <td>...</td>\n",
       "      <td>0.0</td>\n",
       "      <td>0.00</td>\n",
       "      <td>11.0</td>\n",
       "      <td>6.12</td>\n",
       "      <td>0.00</td>\n",
       "      <td>0.0</td>\n",
       "      <td>0.0</td>\n",
       "      <td>0.022</td>\n",
       "      <td>0.0</td>\n",
       "      <td>0.2</td>\n",
       "    </tr>\n",
       "    <tr>\n",
       "      <td>4</td>\n",
       "      <td>105415</td>\n",
       "      <td>1098</td>\n",
       "      <td>TROPICAL FRUIT BANANAS</td>\n",
       "      <td>2267.960000</td>\n",
       "      <td>[tropic, fruit, banana]</td>\n",
       "      <td>Fruit salad, Puerto Rican style (Mixture inclu...</td>\n",
       "      <td>[fruit, salad, puerto, rican, style, mixtur, i...</td>\n",
       "      <td>0.0</td>\n",
       "      <td>58.0</td>\n",
       "      <td>0.033</td>\n",
       "      <td>...</td>\n",
       "      <td>1.5</td>\n",
       "      <td>0.70</td>\n",
       "      <td>4.0</td>\n",
       "      <td>10.84</td>\n",
       "      <td>0.21</td>\n",
       "      <td>39.0</td>\n",
       "      <td>0.0</td>\n",
       "      <td>0.121</td>\n",
       "      <td>0.0</td>\n",
       "      <td>0.9</td>\n",
       "    </tr>\n",
       "    <tr>\n",
       "      <td>...</td>\n",
       "      <td>...</td>\n",
       "      <td>...</td>\n",
       "      <td>...</td>\n",
       "      <td>...</td>\n",
       "      <td>...</td>\n",
       "      <td>...</td>\n",
       "      <td>...</td>\n",
       "      <td>...</td>\n",
       "      <td>...</td>\n",
       "      <td>...</td>\n",
       "      <td>...</td>\n",
       "      <td>...</td>\n",
       "      <td>...</td>\n",
       "      <td>...</td>\n",
       "      <td>...</td>\n",
       "      <td>...</td>\n",
       "      <td>...</td>\n",
       "      <td>...</td>\n",
       "      <td>...</td>\n",
       "      <td>...</td>\n",
       "      <td>...</td>\n",
       "    </tr>\n",
       "    <tr>\n",
       "      <td>228722</td>\n",
       "      <td>219549</td>\n",
       "      <td>2300</td>\n",
       "      <td>FRZN NOVELTIES/WTR ICE WATER ICE</td>\n",
       "      <td>0.000000</td>\n",
       "      <td>[novelti, wtr, ice, water]</td>\n",
       "      <td>Water chestnut</td>\n",
       "      <td>[water, chestnut]</td>\n",
       "      <td>0.0</td>\n",
       "      <td>78.0</td>\n",
       "      <td>0.002</td>\n",
       "      <td>...</td>\n",
       "      <td>3.9</td>\n",
       "      <td>1.38</td>\n",
       "      <td>12.0</td>\n",
       "      <td>3.84</td>\n",
       "      <td>0.09</td>\n",
       "      <td>0.0</td>\n",
       "      <td>0.0</td>\n",
       "      <td>0.248</td>\n",
       "      <td>0.0</td>\n",
       "      <td>0.3</td>\n",
       "    </tr>\n",
       "    <tr>\n",
       "      <td>228723</td>\n",
       "      <td>219686</td>\n",
       "      <td>2301</td>\n",
       "      <td>FRZN NOVELTIES/WTR ICE WATER ICE</td>\n",
       "      <td>0.000000</td>\n",
       "      <td>[novelti, wtr, ice, water]</td>\n",
       "      <td>Water chestnut</td>\n",
       "      <td>[water, chestnut]</td>\n",
       "      <td>0.0</td>\n",
       "      <td>78.0</td>\n",
       "      <td>0.002</td>\n",
       "      <td>...</td>\n",
       "      <td>3.9</td>\n",
       "      <td>1.38</td>\n",
       "      <td>12.0</td>\n",
       "      <td>3.84</td>\n",
       "      <td>0.09</td>\n",
       "      <td>0.0</td>\n",
       "      <td>0.0</td>\n",
       "      <td>0.248</td>\n",
       "      <td>0.0</td>\n",
       "      <td>0.3</td>\n",
       "    </tr>\n",
       "    <tr>\n",
       "      <td>228724</td>\n",
       "      <td>220577</td>\n",
       "      <td>2312</td>\n",
       "      <td>FRZN NOVELTIES/WTR ICE WATER ICE</td>\n",
       "      <td>0.000000</td>\n",
       "      <td>[novelti, wtr, ice, water]</td>\n",
       "      <td>Water chestnut</td>\n",
       "      <td>[water, chestnut]</td>\n",
       "      <td>0.0</td>\n",
       "      <td>78.0</td>\n",
       "      <td>0.002</td>\n",
       "      <td>...</td>\n",
       "      <td>3.9</td>\n",
       "      <td>1.38</td>\n",
       "      <td>12.0</td>\n",
       "      <td>3.84</td>\n",
       "      <td>0.09</td>\n",
       "      <td>0.0</td>\n",
       "      <td>0.0</td>\n",
       "      <td>0.248</td>\n",
       "      <td>0.0</td>\n",
       "      <td>0.3</td>\n",
       "    </tr>\n",
       "    <tr>\n",
       "      <td>228725</td>\n",
       "      <td>220908</td>\n",
       "      <td>2317</td>\n",
       "      <td>FRZN NOVELTIES/WTR ICE WATER ICE</td>\n",
       "      <td>0.000000</td>\n",
       "      <td>[novelti, wtr, ice, water]</td>\n",
       "      <td>Water chestnut</td>\n",
       "      <td>[water, chestnut]</td>\n",
       "      <td>0.0</td>\n",
       "      <td>78.0</td>\n",
       "      <td>0.002</td>\n",
       "      <td>...</td>\n",
       "      <td>3.9</td>\n",
       "      <td>1.38</td>\n",
       "      <td>12.0</td>\n",
       "      <td>3.84</td>\n",
       "      <td>0.09</td>\n",
       "      <td>0.0</td>\n",
       "      <td>0.0</td>\n",
       "      <td>0.248</td>\n",
       "      <td>0.0</td>\n",
       "      <td>0.3</td>\n",
       "    </tr>\n",
       "    <tr>\n",
       "      <td>228726</td>\n",
       "      <td>0</td>\n",
       "      <td>1</td>\n",
       "      <td>APPLES APPLES GALA (BULK&amp;BAG)</td>\n",
       "      <td>0.000000</td>\n",
       "      <td>[appl, gala]</td>\n",
       "      <td>Apple, raw</td>\n",
       "      <td>[appl]</td>\n",
       "      <td>0.0</td>\n",
       "      <td>52.0</td>\n",
       "      <td>0.007</td>\n",
       "      <td>...</td>\n",
       "      <td>2.4</td>\n",
       "      <td>0.26</td>\n",
       "      <td>1.0</td>\n",
       "      <td>10.39</td>\n",
       "      <td>0.17</td>\n",
       "      <td>3.0</td>\n",
       "      <td>0.0</td>\n",
       "      <td>0.041</td>\n",
       "      <td>0.0</td>\n",
       "      <td>2.2</td>\n",
       "    </tr>\n",
       "  </tbody>\n",
       "</table>\n",
       "<p>228727 rows × 22 columns</p>\n",
       "</div>"
      ],
      "text/plain": [
       "         index  household_key  \\\n",
       "0       153274           1609   \n",
       "1       178301           1879   \n",
       "2       164654           1740   \n",
       "3       114298           1193   \n",
       "4       105415           1098   \n",
       "...        ...            ...   \n",
       "228722  219549           2300   \n",
       "228723  219686           2301   \n",
       "228724  220577           2312   \n",
       "228725  220908           2317   \n",
       "228726       0              1   \n",
       "\n",
       "                                                dunn_name   TOT_WEIGHT  \\\n",
       "0                                  TROPICAL FRUIT BANANAS  4173.273196   \n",
       "1                                  TROPICAL FRUIT BANANAS  3937.178560   \n",
       "2                                  TROPICAL FRUIT BANANAS  2703.408320   \n",
       "3       WATER - CARBONATED/FLVRD DRINK NON-CRBNTD DRNK...  2368.497732   \n",
       "4                                  TROPICAL FRUIT BANANAS  2267.960000   \n",
       "...                                                   ...          ...   \n",
       "228722                   FRZN NOVELTIES/WTR ICE WATER ICE     0.000000   \n",
       "228723                   FRZN NOVELTIES/WTR ICE WATER ICE     0.000000   \n",
       "228724                   FRZN NOVELTIES/WTR ICE WATER ICE     0.000000   \n",
       "228725                   FRZN NOVELTIES/WTR ICE WATER ICE     0.000000   \n",
       "228726                      APPLES APPLES GALA (BULK&BAG)     0.000000   \n",
       "\n",
       "                                         dunn_ingredients  \\\n",
       "0                                 [tropic, fruit, banana]   \n",
       "1                                 [tropic, fruit, banana]   \n",
       "2                                 [tropic, fruit, banana]   \n",
       "3       [water, carbon, flavor, drink, non, crbntd, dr...   \n",
       "4                                 [tropic, fruit, banana]   \n",
       "...                                                   ...   \n",
       "228722                         [novelti, wtr, ice, water]   \n",
       "228723                         [novelti, wtr, ice, water]   \n",
       "228724                         [novelti, wtr, ice, water]   \n",
       "228725                         [novelti, wtr, ice, water]   \n",
       "228726                                       [appl, gala]   \n",
       "\n",
       "                                                 nut_name  \\\n",
       "0       Fruit salad, Puerto Rican style (Mixture inclu...   \n",
       "1       Fruit salad, Puerto Rican style (Mixture inclu...   \n",
       "2       Fruit salad, Puerto Rican style (Mixture inclu...   \n",
       "3       Fruit juice and water drink, with high vitamin...   \n",
       "4       Fruit salad, Puerto Rican style (Mixture inclu...   \n",
       "...                                                   ...   \n",
       "228722                                     Water chestnut   \n",
       "228723                                     Water chestnut   \n",
       "228724                                     Water chestnut   \n",
       "228725                                     Water chestnut   \n",
       "228726                                         Apple, raw   \n",
       "\n",
       "                                          nut_ingredients  cholesterol  \\\n",
       "0       [fruit, salad, puerto, rican, style, mixtur, i...          0.0   \n",
       "1       [fruit, salad, puerto, rican, style, mixtur, i...          0.0   \n",
       "2       [fruit, salad, puerto, rican, style, mixtur, i...          0.0   \n",
       "3       [fruit, juic, water, drink, high, vitamin, cal...          0.0   \n",
       "4       [fruit, salad, puerto, rican, style, mixtur, i...          0.0   \n",
       "...                                                   ...          ...   \n",
       "228722                                  [water, chestnut]          0.0   \n",
       "228723                                  [water, chestnut]          0.0   \n",
       "228724                                  [water, chestnut]          0.0   \n",
       "228725                                  [water, chestnut]          0.0   \n",
       "228726                                             [appl]          0.0   \n",
       "\n",
       "        energy  fatty acids total monounsaturated  ...  fiber  protein  \\\n",
       "0         58.0                              0.033  ...    1.5     0.70   \n",
       "1         58.0                              0.033  ...    1.5     0.70   \n",
       "2         58.0                              0.033  ...    1.5     0.70   \n",
       "3         31.0                              0.002  ...    0.0     0.00   \n",
       "4         58.0                              0.033  ...    1.5     0.70   \n",
       "...        ...                                ...  ...    ...      ...   \n",
       "228722    78.0                              0.002  ...    3.9     1.38   \n",
       "228723    78.0                              0.002  ...    3.9     1.38   \n",
       "228724    78.0                              0.002  ...    3.9     1.38   \n",
       "228725    78.0                              0.002  ...    3.9     1.38   \n",
       "228726    52.0                              0.007  ...    2.4     0.26   \n",
       "\n",
       "        sodium  sugars  total lipid  vitamin a  vitamin b-12  vitamin b-6  \\\n",
       "0          4.0   10.84         0.21       39.0           0.0        0.121   \n",
       "1          4.0   10.84         0.21       39.0           0.0        0.121   \n",
       "2          4.0   10.84         0.21       39.0           0.0        0.121   \n",
       "3         11.0    6.12         0.00        0.0           0.0        0.022   \n",
       "4          4.0   10.84         0.21       39.0           0.0        0.121   \n",
       "...        ...     ...          ...        ...           ...          ...   \n",
       "228722    12.0    3.84         0.09        0.0           0.0        0.248   \n",
       "228723    12.0    3.84         0.09        0.0           0.0        0.248   \n",
       "228724    12.0    3.84         0.09        0.0           0.0        0.248   \n",
       "228725    12.0    3.84         0.09        0.0           0.0        0.248   \n",
       "228726     1.0   10.39         0.17        3.0           0.0        0.041   \n",
       "\n",
       "        vitamin e  vitamin k  \n",
       "0             0.0        0.9  \n",
       "1             0.0        0.9  \n",
       "2             0.0        0.9  \n",
       "3             0.0        0.2  \n",
       "4             0.0        0.9  \n",
       "...           ...        ...  \n",
       "228722        0.0        0.3  \n",
       "228723        0.0        0.3  \n",
       "228724        0.0        0.3  \n",
       "228725        0.0        0.3  \n",
       "228726        0.0        2.2  \n",
       "\n",
       "[228727 rows x 22 columns]"
      ]
     },
     "execution_count": 133,
     "metadata": {},
     "output_type": "execute_result"
    }
   ],
   "source": [
    "house_nut_df"
   ]
  },
  {
   "cell_type": "code",
   "execution_count": 84,
   "metadata": {},
   "outputs": [],
   "source": [
    "nutriments = top4000.drop(top4000.columns[np.arange(6)],axis = 1).columns.values"
   ]
  },
  {
   "cell_type": "code",
   "execution_count": 86,
   "metadata": {},
   "outputs": [
    {
     "data": {
      "application/vnd.jupyter.widget-view+json": {
       "model_id": "996f91b739114ae99b289541764d84e8",
       "version_major": 2,
       "version_minor": 0
      },
      "text/plain": [
       "interactive(children=(IntSlider(value=0, description='x', max=14), Output()), _dom_classes=('widget-interact',…"
      ]
     },
     "metadata": {},
     "output_type": "display_data"
    }
   ],
   "source": [
    "def g(x):\n",
    "    nutriment = nutriments[x]\n",
    "    fig,ax = plt.subplots(1)\n",
    "    #top4000[top4000.TOT_WEIGHT != 0].reset_index().head(4000).plot.bar(y = nutriment,ax = ax)\n",
    "    temp = top4000[top4000.TOT_WEIGHT != 0].reset_index().head(300)\n",
    "    sns.barplot(x = temp.index,y = temp[nutriment])\n",
    "    unit = nutriment_units_df[nutriment_units_df['name'] == nutriment].unit_name.values[0]\n",
    "    ax.set_title(nutriment)\n",
    "    ax.set_ylabel('%s %s per 100 grams' % (nutriment,unit))\n",
    "    ax.set_xlabel('items (sorted by most bought mass)')\n",
    "    \"\"\"empty_string_labels = ['']*len(ax.get_xticklabels())\n",
    "    ax.set_xticklabels(empty_string_labels)\"\"\"\n",
    "interact(g, x=widgets.IntSlider(min=0, max=len(nutriments) - 1, step=1, value=0));"
   ]
  },
  {
   "cell_type": "code",
   "execution_count": 87,
   "metadata": {},
   "outputs": [],
   "source": [
    "for nut in nutriments:\n",
    "    top4000['tot_' + nut] = top4000.TOT_WEIGHT * top4000[nut]"
   ]
  },
  {
   "cell_type": "code",
   "execution_count": null,
   "metadata": {},
   "outputs": [],
   "source": [
    "import tabulate"
   ]
  },
  {
   "cell_type": "code",
   "execution_count": 89,
   "metadata": {},
   "outputs": [
    {
     "data": {
      "application/vnd.jupyter.widget-view+json": {
       "model_id": "4ea3c57adeff4ce9834d36a3c0f53ea9",
       "version_major": 2,
       "version_minor": 0
      },
      "text/plain": [
       "interactive(children=(IntSlider(value=0, description='x', max=14), Output()), _dom_classes=('widget-interact',…"
      ]
     },
     "metadata": {},
     "output_type": "display_data"
    }
   ],
   "source": [
    "def g(x):\n",
    "    nutriment = nutriments[x]\n",
    "    temp = top4000.sort_values(by = 'tot_' + nutriment,ascending = False)[['TOT_WEIGHT','dunn_name','nut_name','tot_' + nutriment]].head(5)\n",
    "    print(nutriment.upper() + ' TOP NUTRIMENTS')\n",
    "    print(temp)\n",
    "interact(g, x=widgets.IntSlider(min=0, max=len(nutriments) - 1, step=1, value=0));"
   ]
  }
 ],
 "metadata": {
  "kernelspec": {
   "display_name": "Python 3",
   "language": "python",
   "name": "python3"
  },
  "language_info": {
   "codemirror_mode": {
    "name": "ipython",
    "version": 3
   },
   "file_extension": ".py",
   "mimetype": "text/x-python",
   "name": "python",
   "nbconvert_exporter": "python",
   "pygments_lexer": "ipython3",
   "version": "3.7.4"
  }
 },
 "nbformat": 4,
 "nbformat_minor": 4
}
