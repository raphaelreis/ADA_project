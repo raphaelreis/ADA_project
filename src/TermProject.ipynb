{
 "cells": [
  {
   "cell_type": "code",
   "execution_count": null,
   "metadata": {},
   "outputs": [],
   "source": [
    "%matplotlib inline\n",
    "import re\n",
    "import os\n",
    "import numpy as np\n",
    "import pandas as pd\n",
    "import seaborn as sns\n",
    "from requests import get\n",
    "from bs4 import BeautifulSoup\n",
    "import matplotlib.pyplot as plt\n",
    "from matplotlib.ticker import MaxNLocator"
   ]
  },
  {
   "cell_type": "markdown",
   "metadata": {},
   "source": [
    "# Import Data"
   ]
  },
  {
   "cell_type": "code",
   "execution_count": null,
   "metadata": {},
   "outputs": [],
   "source": [
    "dfList = []\n",
    "for r, d, f in os.walk('../data/dunnhumby - The Complete Journey CSV/'):\n",
    "    for file in f:\n",
    "        if '.csv' in file:\n",
    "            print(file)\n",
    "            dfList.append(pd.read_csv(os.path.join(r, file)))"
   ]
  },
  {
   "cell_type": "code",
   "execution_count": null,
   "metadata": {},
   "outputs": [],
   "source": [
    "campaign_desc_df = dfList[0]\n",
    "campaign_table_df = dfList[1]\n",
    "causal_data_df = dfList[2]\n",
    "coupon_df = dfList[3]\n",
    "coupon_redempt_df = dfList[4]\n",
    "hh_demographic_df = dfList[5]\n",
    "product_df = dfList[6]\n",
    "transaction_data_df = dfList[7]"
   ]
  },
  {
   "cell_type": "markdown",
   "metadata": {},
   "source": [
    "# Observing Data"
   ]
  },
  {
   "cell_type": "code",
   "execution_count": null,
   "metadata": {},
   "outputs": [],
   "source": [
    "campaign_desc_df.head(2)"
   ]
  },
  {
   "cell_type": "code",
   "execution_count": null,
   "metadata": {},
   "outputs": [],
   "source": [
    "campaign_table_df.head(2)"
   ]
  },
  {
   "cell_type": "code",
   "execution_count": null,
   "metadata": {},
   "outputs": [],
   "source": [
    "causal_data_df.head(2)"
   ]
  },
  {
   "cell_type": "code",
   "execution_count": null,
   "metadata": {},
   "outputs": [],
   "source": [
    "coupon_df.head(2)"
   ]
  },
  {
   "cell_type": "code",
   "execution_count": null,
   "metadata": {},
   "outputs": [],
   "source": [
    "coupon_redempt_df.head(2)"
   ]
  },
  {
   "cell_type": "code",
   "execution_count": null,
   "metadata": {},
   "outputs": [],
   "source": [
    "hh_demographic_df.head(2)"
   ]
  },
  {
   "cell_type": "markdown",
   "metadata": {},
   "source": [
    "This seems to be interesting data about households"
   ]
  },
  {
   "cell_type": "markdown",
   "metadata": {},
   "source": [
    "## Product Data"
   ]
  },
  {
   "cell_type": "code",
   "execution_count": null,
   "metadata": {},
   "outputs": [],
   "source": [
    "product_df.head(10)"
   ]
  },
  {
   "cell_type": "code",
   "execution_count": null,
   "metadata": {
    "scrolled": true
   },
   "outputs": [],
   "source": [
    "product_df.groupby('DEPARTMENT')['PRODUCT_ID'].count().plot.bar(rot=90,figsize=(9,5))"
   ]
  },
  {
   "cell_type": "markdown",
   "metadata": {},
   "source": [
    "Let us look at what kind of grocery items we can find"
   ]
  },
  {
   "cell_type": "code",
   "execution_count": null,
   "metadata": {},
   "outputs": [],
   "source": [
    "product_df[product_df['DEPARTMENT']=='GROCERY'].groupby('COMMODITY_DESC')['PRODUCT_ID'].count().sort_values(ascending=False)"
   ]
  },
  {
   "cell_type": "code",
   "execution_count": null,
   "metadata": {},
   "outputs": [],
   "source": [
    "product_df[(product_df['DEPARTMENT']=='GROCERY') & (product_df['COMMODITY_DESC']=='SOFT DRINKS')]"
   ]
  },
  {
   "cell_type": "markdown",
   "metadata": {},
   "source": [
    "Let us look at what kind of 'Drug GM' products we have"
   ]
  },
  {
   "cell_type": "code",
   "execution_count": null,
   "metadata": {},
   "outputs": [],
   "source": [
    "product_df[product_df['DEPARTMENT']=='DRUG GM'].groupby('COMMODITY_DESC')['PRODUCT_ID'].count().sort_values(ascending=False)"
   ]
  },
  {
   "cell_type": "markdown",
   "metadata": {},
   "source": [
    "## Transaction Data"
   ]
  },
  {
   "cell_type": "code",
   "execution_count": null,
   "metadata": {},
   "outputs": [],
   "source": [
    "transaction_data_df.head()"
   ]
  },
  {
   "cell_type": "markdown",
   "metadata": {},
   "source": [
    "# Question 1: How is purchasing rate related to demographics?"
   ]
  },
  {
   "cell_type": "markdown",
   "metadata": {},
   "source": [
    "If we want to compare shopping amounts amongst households, we are subject to transaction amounts and the time in which they took place. We can compare the shopping rate amongst households by taking the ratio of the cummulative expenditure of a household and the number of days over which they occured."
   ]
  },
  {
   "cell_type": "code",
   "execution_count": null,
   "metadata": {},
   "outputs": [],
   "source": [
    "# turn the days of purchase into a list on a single row\n",
    "days_purchased_each_house=transaction_data_df.groupby(['household_key','DAY','STORE_ID'])['SALES_VALUE']\\\n",
    ".sum()\\\n",
    ".reset_index()\\\n",
    ".set_index('household_key')\\\n",
    ".groupby('household_key')['DAY'].apply(list)\n",
    "days_purchased_each_house.head()\n"
   ]
  },
  {
   "cell_type": "code",
   "execution_count": null,
   "metadata": {},
   "outputs": [],
   "source": [
    "#turn the transaction values into a list on a single row\n",
    "transaction_val_each_house=transaction_data_df.groupby(['household_key','DAY','STORE_ID'])['SALES_VALUE']\\\n",
    ".sum()\\\n",
    ".reset_index()\\\n",
    ".set_index('household_key')\\\n",
    ".groupby('household_key')['SALES_VALUE'].apply(list)\n",
    "transaction_val_each_house.head()"
   ]
  },
  {
   "cell_type": "code",
   "execution_count": null,
   "metadata": {},
   "outputs": [],
   "source": [
    "#merge the two series on household key\n",
    "transaction_freq_df = pd.merge(transaction_val_each_house,days_purchased_each_house,\\\n",
    "                               left_on='household_key',right_on='household_key')\n"
   ]
  },
  {
   "cell_type": "code",
   "execution_count": null,
   "metadata": {},
   "outputs": [],
   "source": [
    "transaction_freq_df.head()\n",
    "    "
   ]
  },
  {
   "cell_type": "code",
   "execution_count": null,
   "metadata": {},
   "outputs": [],
   "source": [
    "# Compute the purchase rate \n",
    "def compute_transaction_rate(household_df):\n",
    "    \n",
    "    #Compute cumulative sum of sales value\n",
    "    cum_trans = sum(household_df['SALES_VALUE'])\n",
    "    \n",
    "    #subtract last day from first day\n",
    "    x = np.array(household_df['DAY'])\n",
    "    \n",
    "    if (x[-1]-x[0])==0: #we filter out single transactions\n",
    "        purchase_rate = np.nan\n",
    "    else:\n",
    "        purchase_rate = cum_trans/(x[-1]-x[0])\n",
    "    \n",
    "    return purchase_rate"
   ]
  },
  {
   "cell_type": "code",
   "execution_count": null,
   "metadata": {},
   "outputs": [],
   "source": [
    "#get purchase rate series\n",
    "purchase_rate=transaction_freq_df.apply(compute_transaction_rate,axis=1)\n",
    "\n",
    "#observe distribution of purchase rate\n",
    "purchase_rate.hist(bins=200)\n",
    "ax = plt.gca()\n",
    "ax.set_title('Purchasing Rate vs. Household')\n",
    "ax.set_xlabel('Purchasing rate ($/day)')\n",
    "ax.set_ylabel('Frequency')\n"
   ]
  },
  {
   "cell_type": "code",
   "execution_count": null,
   "metadata": {},
   "outputs": [],
   "source": [
    "#Find outliers\n",
    "purchase_rate.sort_values(ascending=False)"
   ]
  },
  {
   "cell_type": "code",
   "execution_count": null,
   "metadata": {},
   "outputs": [],
   "source": [
    "#merge with demographic df\n",
    "purchase_rate.rename('purchase_rate',inplace=True)\n",
    "hh_demographic_df = hh_demographic_df.join(purchase_rate,on='household_key')"
   ]
  },
  {
   "cell_type": "code",
   "execution_count": null,
   "metadata": {},
   "outputs": [],
   "source": [
    "hh_demographic_df.\\\n",
    "groupby('HOUSEHOLD_SIZE_DESC')['purchase_rate'].agg(['mean','std'])"
   ]
  },
  {
   "cell_type": "markdown",
   "metadata": {},
   "source": [
    "No relevant correlation with household size"
   ]
  },
  {
   "cell_type": "code",
   "execution_count": null,
   "metadata": {},
   "outputs": [],
   "source": [
    "#income description vs. purchase rate\n",
    "idesc_purchrate = hh_demographic_df\\\n",
    ".groupby(['INCOME_DESC','purchase_rate'])['household_key']\\\n",
    ".count()\\\n",
    ".reset_index().drop(columns='household_key').sort_values(by='purchase_rate',ascending=False)\n",
    "idesc_purchrate.head(10)"
   ]
  },
  {
   "cell_type": "markdown",
   "metadata": {},
   "source": [
    "Let's look at a box-plot instead, since there can be outliers shifting the means"
   ]
  },
  {
   "cell_type": "code",
   "execution_count": null,
   "metadata": {},
   "outputs": [],
   "source": [
    "#specify order of boxes in boxplot\n",
    "order = ['250K+','200-249K','175-199K','150-174K','125-149K','100-124K', '75-99K','50-74K','35-49K','25-34K','15-24K']\n",
    "order = [o for o in reversed(order)]\n",
    "#do a box plot\n",
    "p1=sns.stripplot(x=idesc_purchrate.INCOME_DESC, y=idesc_purchrate.purchase_rate, data=idesc_purchrate,order=order,size=2,color='.3')\n",
    "p1.set_xticklabels(p1.get_xticklabels(),rotation=45)\n",
    "p1 = sns.boxplot(x=idesc_purchrate.INCOME_DESC, y=idesc_purchrate.purchase_rate, data=idesc_purchrate,order=order)\n",
    "p1.set_ylabel('Purchase Rate ($/day)')\n",
    "p1.set_xlabel('Income Description')"
   ]
  },
  {
   "cell_type": "code",
   "execution_count": null,
   "metadata": {},
   "outputs": [],
   "source": [
    "hh_demographic_df.groupby('AGE_DESC')['purchase_rate'].agg(['mean','std']).sort_values(by='mean',ascending=False)"
   ]
  },
  {
   "cell_type": "markdown",
   "metadata": {},
   "source": [
    "It seems that the strongest correlation exists with income groups. But, we don't know if they are buying the same items. This will be our next question"
   ]
  },
  {
   "cell_type": "markdown",
   "metadata": {},
   "source": [
    "# What kind of items are bought by these demographic groups? "
   ]
  },
  {
   "cell_type": "code",
   "execution_count": null,
   "metadata": {},
   "outputs": [],
   "source": [
    "# merge transaction df with product df\n",
    "transaction_product_id_df = transaction_data_df[['household_key','PRODUCT_ID','QUANTITY','SALES_VALUE','DAY']]\\\n",
    ".merge(product_df[['PRODUCT_ID','DEPARTMENT','COMMODITY_DESC','SUB_COMMODITY_DESC','CURR_SIZE_OF_PRODUCT']],on=['PRODUCT_ID'],how='left')"
   ]
  },
  {
   "cell_type": "code",
   "execution_count": null,
   "metadata": {},
   "outputs": [],
   "source": [
    "transaction_product_id_df[transaction_product_id_df['DEPARTMENT']=='GROCERY'].\\ # filter grocery items\n",
    "groupby(['household_key','COMMODITY_DESC'])[['SALES_VALUE','QUANTITY']].\\ #groupby household key and commodity type\n",
    "sum().sort_values(['household_key','SALES_VALUE'],ascending=False).reset_index().\\ #sum sales value and sort per household\n",
    "groupby('household_key').first().reset_index().\\ # take top item per household\n",
    "groupby('COMMODITY_DESC')['household_key'].count().\\# group by commodity type and count how many houses share top item\n",
    "sort_values(ascending=False).head(20).plot.bar(rot=90) #plot top 20 commodity types\n",
    "ax = plt.gca()\n",
    "ax.set_title('Item of Highest Sales per Household')\n",
    "ax.set_ylabel('# households')"
   ]
  },
  {
   "cell_type": "markdown",
   "metadata": {},
   "source": [
    "We can try to compare the mass of the products added most of the products are measured in ounces, pounds or mL"
   ]
  },
  {
   "cell_type": "code",
   "execution_count": null,
   "metadata": {},
   "outputs": [],
   "source": [
    "def get_solid_weight(grocery_prod_df):\n",
    "    \"get size in oz\"\n",
    "    size_input = grocery_prod_df['CURR_SIZE_OF_PRODUCT']\n",
    "    # check for OZ\n",
    "    rex = re.search('[.0-9]{1,5}\\s{0,1}OZ', size_input)\n",
    "    if (rex!=None):\n",
    "        rex = re.search('[.0-9]{1,5}',rex.group())\n",
    "        size = float(rex.group())\n",
    "    else:\n",
    "        rex = re.search('[.0-9]{1,5}\\s{0,1}LB',size_input)\n",
    "        \n",
    "        if rex != None:\n",
    "            rex = re.search('[.0-9]{1,5}',rex.group())\n",
    "            size = float(rex.group())*16\n",
    "        else:\n",
    "            size = np.nan\n",
    "    return size\n",
    "        \n",
    "    \n",
    "    \n",
    "    "
   ]
  },
  {
   "cell_type": "code",
   "execution_count": null,
   "metadata": {},
   "outputs": [],
   "source": [
    "product_df.set_index('PRODUCT_ID',inplace=True)"
   ]
  },
  {
   "cell_type": "code",
   "execution_count": null,
   "metadata": {},
   "outputs": [],
   "source": [
    "\n",
    "product_weight = product_df[product_df['DEPARTMENT']=='GROCERY'].apply(get_solid_weight,axis=1).sort_values(ascending=False).rename('weight_in_oz')"
   ]
  },
  {
   "cell_type": "code",
   "execution_count": null,
   "metadata": {},
   "outputs": [],
   "source": [
    "grocery_solid_prods = product_df.join(product_weight).dropna(subset=['weight_in_oz'],how='any')"
   ]
  },
  {
   "cell_type": "code",
   "execution_count": null,
   "metadata": {},
   "outputs": [],
   "source": [
    "grocery_solid_prods"
   ]
  },
  {
   "cell_type": "code",
   "execution_count": null,
   "metadata": {},
   "outputs": [],
   "source": [
    "transaction_product_id_df = transaction_data_df[['household_key','PRODUCT_ID','QUANTITY','SALES_VALUE','DAY']]\\\n",
    ".merge(grocery_solid_prods[['COMMODITY_DESC','SUB_COMMODITY_DESC','weight_in_oz']],\\\n",
    "       how='right',left_on='PRODUCT_ID',right_index=True)"
   ]
  },
  {
   "cell_type": "code",
   "execution_count": null,
   "metadata": {},
   "outputs": [],
   "source": [
    "transaction_product_id_df"
   ]
  },
  {
   "cell_type": "code",
   "execution_count": null,
   "metadata": {},
   "outputs": [],
   "source": [
    "transaction_product_id_df['tot_weight']=(transaction_product_id_df['weight_in_oz']*transaction_product_id_df['QUANTITY'])"
   ]
  },
  {
   "cell_type": "code",
   "execution_count": null,
   "metadata": {},
   "outputs": [],
   "source": [
    "transaction_product_id_df.head()"
   ]
  },
  {
   "cell_type": "code",
   "execution_count": null,
   "metadata": {},
   "outputs": [],
   "source": [
    "transaction_product_id_df[['sales_sum','weight_sum']]=transaction_product_id_df\\\n",
    ".groupby(['household_key','SUB_COMMODITY_DESC'])['SALES_VALUE','tot_weight']\\\n",
    ".transform('sum')\n",
    "transaction_product_id_df.head()"
   ]
  },
  {
   "cell_type": "code",
   "execution_count": null,
   "metadata": {},
   "outputs": [],
   "source": [
    "transaction_product_id_df.sort_values('weight_sum',ascending=False).groupby('household_key').head(1)\\\n",
    ".groupby('COMMODITY_DESC')['PRODUCT_ID'].count()\\\n",
    ".sort_values(ascending=False)\\\n",
    ".head(15).plot.bar(rot=90,figsize=(9,5))\n",
    "ax = plt.gca()\n",
    "ax.set_title('')"
   ]
  },
  {
   "cell_type": "code",
   "execution_count": null,
   "metadata": {},
   "outputs": [],
   "source": []
  }
 ],
 "metadata": {
  "kernelspec": {
   "display_name": "Python 3",
   "language": "python",
   "name": "python3"
  },
  "language_info": {
   "codemirror_mode": {
    "name": "ipython",
    "version": 3
   },
   "file_extension": ".py",
   "mimetype": "text/x-python",
   "name": "python",
   "nbconvert_exporter": "python",
   "pygments_lexer": "ipython3",
   "version": "3.7.0"
  }
 },
 "nbformat": 4,
 "nbformat_minor": 2
}
