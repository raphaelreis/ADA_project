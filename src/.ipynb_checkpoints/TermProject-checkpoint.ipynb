{
 "cells": [
  {
   "cell_type": "code",
   "execution_count": 58,
   "metadata": {},
   "outputs": [],
   "source": [
    "from __future__ import print_function\n",
    "\n",
    "%matplotlib inline\n",
    "import re\n",
    "import os\n",
    "import numpy as np\n",
    "import pandas as pd\n",
    "import seaborn as sns\n",
    "from requests import get\n",
    "from bs4 import BeautifulSoup\n",
    "import matplotlib.pyplot as plt\n",
    "import pickle\n",
    "from matplotlib.ticker import MaxNLocator\n",
    "import re\n",
    "from ipywidgets import interact, interactive, fixed, interact_manual\n",
    "import ipywidgets as widgets"
   ]
  },
  {
   "cell_type": "markdown",
   "metadata": {},
   "source": [
    "# Import Data"
   ]
  },
  {
   "cell_type": "code",
   "execution_count": 3,
   "metadata": {},
   "outputs": [],
   "source": [
    "product_df = pd.read_csv('../data/dunnhumby_data/product.csv')\n",
    "transaction_data_df = pd.read_csv('../data/dunnhumby_data/transaction_data.csv')"
   ]
  },
  {
   "cell_type": "markdown",
   "metadata": {},
   "source": [
    "# Observing Data"
   ]
  },
  {
   "cell_type": "code",
   "execution_count": 4,
   "metadata": {},
   "outputs": [],
   "source": [
    "food_related_arr = np.array(['NUTRITION','GROCERY','PASTRY','MEAT-PCKGD','SEAFOOD-PCKGD','PRODUCE','DELI','MEAT','SALAD BAR','GRO BAKERY','FROZEN GROCERY','SPIRITS','RESTAURANT'])\n",
    "#products related to food only\n",
    "food_product_df = product_df.loc[(product_df['DEPARTMENT'].isin(food_related_arr))]\n",
    "food_product_df = food_product_df[~food_product_df.COMMODITY_DESC.isin(['PAPER TOWELS','BATH TISSUES','LAUNDRY DETERGENTS','FD WRAPS/BAGS/TRSH BG']) ]\n",
    "\n",
    "#transaction dataset related to food only\n",
    "food_transaction_data = transaction_data_df.merge(food_product_df,how = 'inner',on = 'PRODUCT_ID')"
   ]
  },
  {
   "cell_type": "markdown",
   "metadata": {},
   "source": [
    "<div class=\"alert alert-block alert-info\">\n",
    "We analyze the quantity according to 2 metrics: (1) the number of times an item is bought (2) the weight it represents. The idea is to extract a trend from the most consumed items, and get a nutrition point of view on it.\n",
    "    \n",
    "Ideally one want to have an idea of which items are consumed the most in terms of mass, unfortunately, the mass section presents a lot of different units which are not easily parsable.\n",
    "    \n",
    "The idea consists thus to take the 4000 most bought items in terms of number (~70% of all sold counts) and extract their mass exclusively, since they present a less heterogeneous dataset for the mass units.\n",
    "</div>"
   ]
  },
  {
   "cell_type": "code",
   "execution_count": 5,
   "metadata": {},
   "outputs": [
    {
     "data": {
      "text/plain": [
       "array(['24OUNCE', '4/100 ML', '1 LB BAG', '36/1OZ', '6 OZ', 'P    10 OZ',\n",
       "       '5 GAL', '24 PK', 'N    14 OZ', '49 OZ', '1 1/2 LB', '16.6 OZ',\n",
       "       'P  5.75 OZ', '48 LB', '470    8OZ', 'L    12 OZ', 'N   12 OZ',\n",
       "       '@    20 OZ', '19.05 OZ', '5 INCHES', '20/12 OZ', '16 CT',\n",
       "       '16.8 OZ', '6/2.8 OZ', '22.75 OZ', '2.05OZ', '21.7 OZ', '2 INCH',\n",
       "       '18 CT', '28OZ'], dtype=object)"
      ]
     },
     "execution_count": 5,
     "metadata": {},
     "output_type": "execute_result"
    }
   ],
   "source": [
    "#as we can see, there are a lot of different units\n",
    "units = food_transaction_data.CURR_SIZE_OF_PRODUCT.unique()\n",
    "index = np.random.choice(units.shape[0], 30, replace=False)  \n",
    "units[index]"
   ]
  },
  {
   "cell_type": "code",
   "execution_count": 6,
   "metadata": {},
   "outputs": [],
   "source": [
    "#(1) number of bought times\n",
    "food_trans_data_count = food_transaction_data[['PRODUCT_ID','QUANTITY']].copy()\n",
    "food_trans_data_count = food_trans_data_count.groupby('PRODUCT_ID')\\\n",
    "                     .sum()\\\n",
    "                     .join(product_df.set_index('PRODUCT_ID')[['COMMODITY_DESC','SUB_COMMODITY_DESC','CURR_SIZE_OF_PRODUCT']],how = 'left',on = 'PRODUCT_ID',lsuffix = '_l',rsuffix = '_r')\\\n",
    "                     .sort_values(by = 'QUANTITY',ascending = False)"
   ]
  },
  {
   "cell_type": "code",
   "execution_count": 7,
   "metadata": {},
   "outputs": [
    {
     "name": "stdout",
     "output_type": "stream",
     "text": [
      "0.6868278508598772\n"
     ]
    },
    {
     "data": {
      "image/png": "[encoded data removed]",
      "text/plain": [
       "<Figure size 432x288 with 1 Axes>"
      ]
     },
     "metadata": {
      "needs_background": "light"
     },
     "output_type": "display_data"
    }
   ],
   "source": [
    "fig, ax = plt.subplots(1)\n",
    "food_trans_data_count.QUANTITY.hist(bins = 500 ,ax = ax)\n",
    "\n",
    "ax.set_ylabel('number of solds')\n",
    "ax.set_xlabel('items \"id\"')\n",
    "ax.set_yscale('log')\n",
    "NUM = 4000\n",
    "\n",
    "ax.axvline(x=NUM,c='r')\n",
    "\n",
    "k = food_trans_data_count.iloc[:NUM].QUANTITY.values.sum()\n",
    "t = food_trans_data_count.QUANTITY.values.sum()\n",
    "ratio = k/t\n",
    "print(ratio)\n",
    "# problem: we would need to treat the weight of 4000 items in order to study the 70% of most bought items (in terms of quantity)"
   ]
  },
  {
   "cell_type": "markdown",
   "metadata": {},
   "source": [
    "## Extracting the weight"
   ]
  },
  {
   "cell_type": "markdown",
   "metadata": {},
   "source": [
    "<div class=\"alert alert-block alert-info\">\n",
    "We now check that we indeed treat all the types of weights: to do so we use regexes in order to ensure that we treat each case\n",
    "</div>"
   ]
  },
  {
   "cell_type": "code",
   "execution_count": 8,
   "metadata": {},
   "outputs": [
    {
     "name": "stderr",
     "output_type": "stream",
     "text": [
      "/home/ymentha/anaconda3/envs/ada/lib/python3.7/site-packages/pandas/core/strings.py:1843: UserWarning: This pattern has match groups. To actually get the groups, use str.extract.\n",
      "  return func(self, *args, **kwargs)\n"
     ]
    },
    {
     "data": {
      "text/plain": [
       "array([' '], dtype=object)"
      ]
     },
     "execution_count": 8,
     "metadata": {},
     "output_type": "execute_result"
    }
   ],
   "source": [
    "#check if the weight is treatable for the top4000\n",
    "top4000 = food_trans_data_count.iloc[:4000].copy()\n",
    "top4000[~top4000.CURR_SIZE_OF_PRODUCT.str.contains('^.*(LB|GA|DZ|OZ|OUNCE|PK|CT|LITER|LT|LTR|ML|QT|PT|PINT).*$',regex=True)].CURR_SIZE_OF_PRODUCT.unique()"
   ]
  },
  {
   "cell_type": "markdown",
   "metadata": {},
   "source": [
    "<div class=\"alert alert-block alert-info\">\n",
    "The followings are the units we encounter in the top 4000:\n",
    "</div>"
   ]
  },
  {
   "cell_type": "markdown",
   "metadata": {},
   "source": [
    "LB = pounds<br>\n",
    "GA = gallons<br>\n",
    "DZ = dozens (eggs)<br>\n",
    "OZ,OUNCE = ounces<br>\n",
    "PK = pack (0.33 liters)<br>\n",
    "CT = counts ==> ??<br>\n",
    "LITER LT = liters<br>\n",
    "ML = milliliters<br>\n",
    "QT = quantity ==> ??<br>\n",
    "PT = pint (0.473176473 liters)<br>"
   ]
  },
  {
   "cell_type": "code",
   "execution_count": 27,
   "metadata": {},
   "outputs": [],
   "source": [
    "UNITS = ['LB','GA','DZ','OZ','OUNCE','PK','CT','LITER','LT','ML','QT','PT']"
   ]
  },
  {
   "cell_type": "code",
   "execution_count": 46,
   "metadata": {},
   "outputs": [
    {
     "data": {
      "application/vnd.jupyter.widget-view+json": {
       "model_id": "e81e90e8a8de4befbbcca41ecd13082e",
       "version_major": 2,
       "version_minor": 0
      },
      "text/plain": [
       "interactive(children=(IntSlider(value=0, description='x', max=11), Output()), _dom_classes=('widget-interact',…"
      ]
     },
     "metadata": {},
     "output_type": "display_data"
    }
   ],
   "source": [
    "def f(x):\n",
    "    print(top4000[top4000.CURR_SIZE_OF_PRODUCT.str.contains(UNITS[x])].head(10).to_string())\n",
    "interact(f, x=widgets.IntSlider(min=0, max=len(UNITS) - 1, step=1, value=0));"
   ]
  },
  {
   "cell_type": "code",
   "execution_count": 47,
   "metadata": {},
   "outputs": [
    {
     "data": {
      "text/plain": [
       "0.3685435"
      ]
     },
     "execution_count": 47,
     "metadata": {},
     "output_type": "execute_result"
    }
   ],
   "source": [
    "def get_weight(word:str):\n",
    "    \"\"\"\n",
    "    extract the quantity of the string if the unit present in the string is present in the array of the function\n",
    "    word: string like 'dumbinfo 12 PK/34 OZ' \n",
    "    \"\"\"\n",
    "    empt = re.compile('^\\s*$')\n",
    "    if empt.match(word):\n",
    "        return 0\n",
    "    \n",
    "    def search(units,word):\n",
    "        \"\"\"\n",
    "        units: list of strings corresponding to the same unit (ex 'LT' and 'LITER')\n",
    "        \"\"\"\n",
    "        string = '|'.join(units)\n",
    "        pattern = '^.*?([0-9]*\\.?[0-9]*)\\s*(?:' + string + ').*$'\n",
    "        #recall: ?: in a group makes the parenthesis non capturing\n",
    "        #*? is a lazy matching (non agressive)\n",
    "        return re.search(pattern,word)\n",
    "    \n",
    "    def test(units,cstt):\n",
    "        \"\"\"\n",
    "        units: list of strings corresponding to the same unit (ex 'LT' and 'LITER')\n",
    "        cstt: constant allowing to obtain kilos from this particular unit\n",
    "        \"\"\"\n",
    "        se = search(units,word)\n",
    "        if se:\n",
    "            if se.group(1) == '':\n",
    "                #writing just LITER is one liter\n",
    "                return (True,cstt)\n",
    "            return(True,float(se.group(1))* cstt)\n",
    "        return (False,0)\n",
    "    \n",
    "    units = [(['OZ','OUNCE'],0.0283495),\\\n",
    "             (['LB'],0.453592),\\\n",
    "             (['GA'],3.78541 ),\\\n",
    "             (['DZ'],12 * 0.05),\\\n",
    "             (['PK'],0.33),\\\n",
    "             (['LT','LITER','LTR'],1),\\\n",
    "             (['ML'], 0.001),\\\n",
    "             (['PT','PINT'],0.473176473),\\\n",
    "             (['QT'],0.0026932047),\\\n",
    "             (['CT'],0)] #TODO: do something to treat the CT (quantity): 134 out \n",
    "    \n",
    "    for i in units:\n",
    "        res = test(*i)\n",
    "        if res[0]:\n",
    "            return res[1]\n",
    "        \n",
    "    raise AssertionError('pas trouvé')\n",
    "    \n",
    "#example\n",
    "get_weight('12 PK/13 OZ')"
   ]
  },
  {
   "cell_type": "code",
   "execution_count": 48,
   "metadata": {},
   "outputs": [],
   "source": [
    "top4000['SINGLE_WEIGHT']  = top4000.CURR_SIZE_OF_PRODUCT.apply(get_weight).values\n",
    "top4000['TOT_WEIGHT'] = top4000.SINGLE_WEIGHT * top4000.QUANTITY"
   ]
  },
  {
   "cell_type": "code",
   "execution_count": 49,
   "metadata": {},
   "outputs": [
    {
     "data": {
      "text/html": [
       "<div>\n",
       "<style scoped>\n",
       "    .dataframe tbody tr th:only-of-type {\n",
       "        vertical-align: middle;\n",
       "    }\n",
       "\n",
       "    .dataframe tbody tr th {\n",
       "        vertical-align: top;\n",
       "    }\n",
       "\n",
       "    .dataframe thead th {\n",
       "        text-align: right;\n",
       "    }\n",
       "</style>\n",
       "<table border=\"1\" class=\"dataframe\">\n",
       "  <thead>\n",
       "    <tr style=\"text-align: right;\">\n",
       "      <th></th>\n",
       "      <th>QUANTITY</th>\n",
       "      <th>COMMODITY_DESC</th>\n",
       "      <th>SUB_COMMODITY_DESC</th>\n",
       "      <th>CURR_SIZE_OF_PRODUCT</th>\n",
       "      <th>SINGLE_WEIGHT</th>\n",
       "      <th>TOT_WEIGHT</th>\n",
       "    </tr>\n",
       "    <tr>\n",
       "      <th>PRODUCT_ID</th>\n",
       "      <th></th>\n",
       "      <th></th>\n",
       "      <th></th>\n",
       "      <th></th>\n",
       "      <th></th>\n",
       "      <th></th>\n",
       "    </tr>\n",
       "  </thead>\n",
       "  <tbody>\n",
       "    <tr>\n",
       "      <td>1082185</td>\n",
       "      <td>30896</td>\n",
       "      <td>TROPICAL FRUIT</td>\n",
       "      <td>BANANAS</td>\n",
       "      <td>40 LB</td>\n",
       "      <td>18.14368</td>\n",
       "      <td>560567.13728</td>\n",
       "    </tr>\n",
       "    <tr>\n",
       "      <td>1029743</td>\n",
       "      <td>16976</td>\n",
       "      <td>FLUID MILK PRODUCTS</td>\n",
       "      <td>FLUID MILK WHITE ONLY</td>\n",
       "      <td>1 GA</td>\n",
       "      <td>3.78541</td>\n",
       "      <td>64261.12016</td>\n",
       "    </tr>\n",
       "    <tr>\n",
       "      <td>979707</td>\n",
       "      <td>2758</td>\n",
       "      <td>ONIONS</td>\n",
       "      <td>ONIONS SWEET (BULK&amp;BAG)</td>\n",
       "      <td>40 LB</td>\n",
       "      <td>18.14368</td>\n",
       "      <td>50040.26944</td>\n",
       "    </tr>\n",
       "    <tr>\n",
       "      <td>1033142</td>\n",
       "      <td>2414</td>\n",
       "      <td>ONIONS</td>\n",
       "      <td>ONIONS SWEET (BULK&amp;BAG)</td>\n",
       "      <td>40 LB</td>\n",
       "      <td>18.14368</td>\n",
       "      <td>43798.84352</td>\n",
       "    </tr>\n",
       "    <tr>\n",
       "      <td>1106523</td>\n",
       "      <td>11500</td>\n",
       "      <td>FLUID MILK PRODUCTS</td>\n",
       "      <td>FLUID MILK WHITE ONLY</td>\n",
       "      <td>1 GA</td>\n",
       "      <td>3.78541</td>\n",
       "      <td>43532.21500</td>\n",
       "    </tr>\n",
       "    <tr>\n",
       "      <td>...</td>\n",
       "      <td>...</td>\n",
       "      <td>...</td>\n",
       "      <td>...</td>\n",
       "      <td>...</td>\n",
       "      <td>...</td>\n",
       "      <td>...</td>\n",
       "    </tr>\n",
       "    <tr>\n",
       "      <td>900697</td>\n",
       "      <td>273</td>\n",
       "      <td>VALUE ADDED FRUIT</td>\n",
       "      <td>INSTORE CUT FRUIT</td>\n",
       "      <td></td>\n",
       "      <td>0.00000</td>\n",
       "      <td>0.00000</td>\n",
       "    </tr>\n",
       "    <tr>\n",
       "      <td>5590158</td>\n",
       "      <td>273</td>\n",
       "      <td>REFRGRATD JUICES/DRNKS</td>\n",
       "      <td>DAIRY CASE CITRUS PNCH/OJ SUBS</td>\n",
       "      <td></td>\n",
       "      <td>0.00000</td>\n",
       "      <td>0.00000</td>\n",
       "    </tr>\n",
       "    <tr>\n",
       "      <td>5591490</td>\n",
       "      <td>274</td>\n",
       "      <td>REFRGRATD JUICES/DRNKS</td>\n",
       "      <td>DAIRY CASE CITRUS PNCH/OJ SUBS</td>\n",
       "      <td></td>\n",
       "      <td>0.00000</td>\n",
       "      <td>0.00000</td>\n",
       "    </tr>\n",
       "    <tr>\n",
       "      <td>1127179</td>\n",
       "      <td>799</td>\n",
       "      <td>STONE FRUIT</td>\n",
       "      <td>NECTARINES YELLOW FLESH</td>\n",
       "      <td></td>\n",
       "      <td>0.00000</td>\n",
       "      <td>0.00000</td>\n",
       "    </tr>\n",
       "    <tr>\n",
       "      <td>6514085</td>\n",
       "      <td>175</td>\n",
       "      <td>SALADS/DIPS</td>\n",
       "      <td>VEGETABLE SALADS - BULK</td>\n",
       "      <td></td>\n",
       "      <td>0.00000</td>\n",
       "      <td>0.00000</td>\n",
       "    </tr>\n",
       "  </tbody>\n",
       "</table>\n",
       "<p>4000 rows × 6 columns</p>\n",
       "</div>"
      ],
      "text/plain": [
       "            QUANTITY          COMMODITY_DESC              SUB_COMMODITY_DESC  \\\n",
       "PRODUCT_ID                                                                     \n",
       "1082185        30896          TROPICAL FRUIT                         BANANAS   \n",
       "1029743        16976     FLUID MILK PRODUCTS           FLUID MILK WHITE ONLY   \n",
       "979707          2758                  ONIONS         ONIONS SWEET (BULK&BAG)   \n",
       "1033142         2414                  ONIONS         ONIONS SWEET (BULK&BAG)   \n",
       "1106523        11500     FLUID MILK PRODUCTS           FLUID MILK WHITE ONLY   \n",
       "...              ...                     ...                             ...   \n",
       "900697           273       VALUE ADDED FRUIT               INSTORE CUT FRUIT   \n",
       "5590158          273  REFRGRATD JUICES/DRNKS  DAIRY CASE CITRUS PNCH/OJ SUBS   \n",
       "5591490          274  REFRGRATD JUICES/DRNKS  DAIRY CASE CITRUS PNCH/OJ SUBS   \n",
       "1127179          799             STONE FRUIT         NECTARINES YELLOW FLESH   \n",
       "6514085          175             SALADS/DIPS         VEGETABLE SALADS - BULK   \n",
       "\n",
       "           CURR_SIZE_OF_PRODUCT  SINGLE_WEIGHT    TOT_WEIGHT  \n",
       "PRODUCT_ID                                                    \n",
       "1082185                   40 LB       18.14368  560567.13728  \n",
       "1029743                    1 GA        3.78541   64261.12016  \n",
       "979707                    40 LB       18.14368   50040.26944  \n",
       "1033142                   40 LB       18.14368   43798.84352  \n",
       "1106523                    1 GA        3.78541   43532.21500  \n",
       "...                         ...            ...           ...  \n",
       "900697                                 0.00000       0.00000  \n",
       "5590158                                0.00000       0.00000  \n",
       "5591490                                0.00000       0.00000  \n",
       "1127179                                0.00000       0.00000  \n",
       "6514085                                0.00000       0.00000  \n",
       "\n",
       "[4000 rows x 6 columns]"
      ]
     },
     "execution_count": 49,
     "metadata": {},
     "output_type": "execute_result"
    }
   ],
   "source": [
    "top4000.sort_values(by = 'TOT_WEIGHT',ascending = False)"
   ]
  },
  {
   "cell_type": "markdown",
   "metadata": {},
   "source": [
    "## Adding the nutrition"
   ]
  },
  {
   "cell_type": "markdown",
   "metadata": {},
   "source": [
    "<div class=\"alert alert-block alert-info\">\n",
    "Now we have the quantity sold per items, we are interested in scrapping the nutritional values linked to each item: that is precisely what we computed in the previous part: TODO COMPLETE REFERENCE. We thus only need to join the 2 tables in order to get the desired values.\n",
    "</div>"
   ]
  },
  {
   "cell_type": "code",
   "execution_count": 60,
   "metadata": {},
   "outputs": [
    {
     "data": {
      "text/html": [
       "<div>\n",
       "<style scoped>\n",
       "    .dataframe tbody tr th:only-of-type {\n",
       "        vertical-align: middle;\n",
       "    }\n",
       "\n",
       "    .dataframe tbody tr th {\n",
       "        vertical-align: top;\n",
       "    }\n",
       "\n",
       "    .dataframe thead th {\n",
       "        text-align: right;\n",
       "    }\n",
       "</style>\n",
       "<table border=\"1\" class=\"dataframe\">\n",
       "  <thead>\n",
       "    <tr style=\"text-align: right;\">\n",
       "      <th></th>\n",
       "      <th>CURR_SIZE_OF_PRODUCT</th>\n",
       "      <th>QUANTITY</th>\n",
       "      <th>ingredients</th>\n",
       "      <th>ref_fdc_name</th>\n",
       "      <th>cholesterol</th>\n",
       "      <th>energy</th>\n",
       "      <th>fatty acids total monounsaturated</th>\n",
       "      <th>fatty acids total polyunsaturated</th>\n",
       "      <th>fatty acids total saturated</th>\n",
       "      <th>fiber</th>\n",
       "      <th>protein</th>\n",
       "      <th>sodium</th>\n",
       "      <th>sugars</th>\n",
       "      <th>total lipid</th>\n",
       "      <th>vitamin a</th>\n",
       "      <th>vitamin b-12</th>\n",
       "      <th>vitamin b-6</th>\n",
       "      <th>vitamin e</th>\n",
       "      <th>vitamin k</th>\n",
       "    </tr>\n",
       "    <tr>\n",
       "      <th>PRODUCT_ID</th>\n",
       "      <th></th>\n",
       "      <th></th>\n",
       "      <th></th>\n",
       "      <th></th>\n",
       "      <th></th>\n",
       "      <th></th>\n",
       "      <th></th>\n",
       "      <th></th>\n",
       "      <th></th>\n",
       "      <th></th>\n",
       "      <th></th>\n",
       "      <th></th>\n",
       "      <th></th>\n",
       "      <th></th>\n",
       "      <th></th>\n",
       "      <th></th>\n",
       "      <th></th>\n",
       "      <th></th>\n",
       "      <th></th>\n",
       "    </tr>\n",
       "  </thead>\n",
       "  <tbody>\n",
       "    <tr>\n",
       "      <td>1082185</td>\n",
       "      <td>40 LB</td>\n",
       "      <td>30896</td>\n",
       "      <td>[tropical, fruit, bananas]</td>\n",
       "      <td>[tropical, fruit, cocktail, cooked, light, syrup]</td>\n",
       "      <td>0.0</td>\n",
       "      <td>57.0</td>\n",
       "      <td>0.014</td>\n",
       "      <td>0.031</td>\n",
       "      <td>0.01</td>\n",
       "      <td>1.0</td>\n",
       "      <td>0.4</td>\n",
       "      <td>6.0</td>\n",
       "      <td>13.93</td>\n",
       "      <td>0.07</td>\n",
       "      <td>10.0</td>\n",
       "      <td>0.0</td>\n",
       "      <td>0.051</td>\n",
       "      <td>0.0</td>\n",
       "      <td>2.6</td>\n",
       "    </tr>\n",
       "  </tbody>\n",
       "</table>\n",
       "</div>"
      ],
      "text/plain": [
       "           CURR_SIZE_OF_PRODUCT  QUANTITY                 ingredients  \\\n",
       "PRODUCT_ID                                                              \n",
       "1082185                   40 LB     30896  [tropical, fruit, bananas]   \n",
       "\n",
       "                                                 ref_fdc_name  cholesterol  \\\n",
       "PRODUCT_ID                                                                   \n",
       "1082185     [tropical, fruit, cocktail, cooked, light, syrup]          0.0   \n",
       "\n",
       "            energy  fatty acids total monounsaturated  \\\n",
       "PRODUCT_ID                                              \n",
       "1082185       57.0                              0.014   \n",
       "\n",
       "            fatty acids total polyunsaturated  fatty acids total saturated  \\\n",
       "PRODUCT_ID                                                                   \n",
       "1082185                                 0.031                         0.01   \n",
       "\n",
       "            fiber  protein  sodium  sugars  total lipid  vitamin a  \\\n",
       "PRODUCT_ID                                                           \n",
       "1082185       1.0      0.4     6.0   13.93         0.07       10.0   \n",
       "\n",
       "            vitamin b-12  vitamin b-6  vitamin e  vitamin k  \n",
       "PRODUCT_ID                                                   \n",
       "1082185              0.0        0.051        0.0        2.6  "
      ]
     },
     "execution_count": 60,
     "metadata": {},
     "output_type": "execute_result"
    }
   ],
   "source": [
    "with open(r\"../results/products_with_link_to_nutrients_df.pickle\", \"rb\") as input_file:\n",
    "    all_nutrition = pickle.load(input_file)\n",
    "#quick recall of the structure of all_nutrition\n",
    "all_nutrition.head(1)"
   ]
  },
  {
   "cell_type": "code",
   "execution_count": 63,
   "metadata": {},
   "outputs": [],
   "source": [
    "top4000 = top4000.join(all_nutrition,how = 'inner',on = 'PRODUCT_ID',lsuffix = '_l')\\\n",
    "        .drop(columns = ['QUANTITY_l'])"
   ]
  },
  {
   "cell_type": "code",
   "execution_count": 68,
   "metadata": {},
   "outputs": [
    {
     "data": {
      "text/plain": [
       "Text(0.5, 0, 'items (sorted by most bought mass)')"
      ]
     },
     "execution_count": 68,
     "metadata": {},
     "output_type": "execute_result"
    },
    {
     "data": {
      "image/png": "[encoded data removed]",
      "text/plain": [
       "<Figure size 432x288 with 1 Axes>"
      ]
     },
     "metadata": {
      "needs_background": "light"
     },
     "output_type": "display_data"
    }
   ],
   "source": [
    "fig,ax = plt.subplots(1)\n",
    "top4000['cholesterol'].hist(bins = 30,ax = ax)\n",
    "ax.set_ylabel('cholesterol ratio')\n",
    "ax.set_xlabel('items (sorted by most bought mass)')"
   ]
  },
  {
   "cell_type": "code",
   "execution_count": null,
   "metadata": {},
   "outputs": [],
   "source": [
    "food_trans_data_quant = food_transaction_data"
   ]
  },
  {
   "cell_type": "markdown",
   "metadata": {},
   "source": [
    "## Product Data"
   ]
  },
  {
   "cell_type": "code",
   "execution_count": 12,
   "metadata": {},
   "outputs": [
    {
     "data": {
      "text/plain": [
       "COMMODITY_DESC\n",
       "SOFT DRINKS               1704\n",
       "BAG SNACKS                1523\n",
       "HISPANIC                  1460\n",
       "FRZN MEAT/MEAT DINNERS    1268\n",
       "BAKED BREAD/BUNS/ROLLS    1169\n",
       "                          ... \n",
       "BIRD SEED                   29\n",
       "FROZEN CHICKEN              27\n",
       "COUPON/MISC ITEMS           17\n",
       "FRZN SEAFOOD                11\n",
       "BOTTLE DEPOSITS             10\n",
       "Name: PRODUCT_ID, Length: 94, dtype: int64"
      ]
     },
     "execution_count": 12,
     "metadata": {},
     "output_type": "execute_result"
    }
   ],
   "source": [
    "product_df[product_df['DEPARTMENT']=='GROCERY'].groupby('COMMODITY_DESC')['PRODUCT_ID'].count().sort_values(ascending=False)"
   ]
  },
  {
   "cell_type": "markdown",
   "metadata": {},
   "source": [
    "Let us look at what kind of 'Drug GM' products we have"
   ]
  },
  {
   "cell_type": "code",
   "execution_count": 13,
   "metadata": {},
   "outputs": [
    {
     "data": {
      "text/plain": [
       "COMMODITY_DESC\n",
       "GREETING CARDS/WRAP/PARTY SPLY    2785\n",
       "CANDY - PACKAGED                  2473\n",
       "HAIR CARE PRODUCTS                1744\n",
       "STATIONERY & SCHOOL SUPPLIES      1261\n",
       "MAGAZINE                          1224\n",
       "                                  ... \n",
       "COUPON/MISC ITEMS                    5\n",
       "PROPANE                              3\n",
       "MISCELLANEOUS HBC                    3\n",
       "FRAGRANCES                           1\n",
       "FD WRAPS/BAGS/TRSH BG                1\n",
       "Name: PRODUCT_ID, Length: 91, dtype: int64"
      ]
     },
     "execution_count": 13,
     "metadata": {},
     "output_type": "execute_result"
    }
   ],
   "source": [
    "product_df[product_df['DEPARTMENT']=='DRUG GM'].groupby('COMMODITY_DESC')['PRODUCT_ID'].count().sort_values(ascending=False)"
   ]
  },
  {
   "cell_type": "markdown",
   "metadata": {},
   "source": [
    "# Downloaded food nutrients data"
   ]
  },
  {
   "cell_type": "code",
   "execution_count": 22,
   "metadata": {},
   "outputs": [],
   "source": [
    "branded_food_df = pd.read_csv('../data/health/branded_food.csv')\n",
    "nutrient_df = pd.read_csv('../data/health/nutrient.csv')\n",
    "food_df = pd.read_csv('../data/health/food.csv')\n",
    "food_nutrients_df = pd.read_csv('../data/health/food_nutrient.csv')\n",
    "food_category_df = pd.read_csv('../data/health/food_category.csv')"
   ]
  },
  {
   "cell_type": "code",
   "execution_count": 24,
   "metadata": {
    "collapsed": true,
    "jupyter": {
     "outputs_hidden": true
    }
   },
   "outputs": [
    {
     "ename": "KeyError",
     "evalue": "\"['code'] not found in axis\"",
     "output_type": "error",
     "traceback": [
      "\u001b[0;31m---------------------------------------------------------------------------\u001b[0m",
      "\u001b[0;31mKeyError\u001b[0m                                  Traceback (most recent call last)",
      "\u001b[0;32m<ipython-input-24-673c2c632df5>\u001b[0m in \u001b[0;36m<module>\u001b[0;34m\u001b[0m\n\u001b[1;32m      2\u001b[0m \u001b[0mfood_nutrients_small_df\u001b[0m \u001b[0;34m=\u001b[0m \u001b[0mfood_nutrients_df\u001b[0m\u001b[0;34m.\u001b[0m\u001b[0mdrop\u001b[0m\u001b[0;34m(\u001b[0m\u001b[0;34m[\u001b[0m\u001b[0;34m\"data_points\"\u001b[0m\u001b[0;34m,\u001b[0m\u001b[0;34m\"min\"\u001b[0m\u001b[0;34m,\u001b[0m\u001b[0;34m\"max\"\u001b[0m\u001b[0;34m,\u001b[0m\u001b[0;34m\"median\"\u001b[0m\u001b[0;34m,\u001b[0m\u001b[0;34m\"footnote\"\u001b[0m\u001b[0;34m,\u001b[0m\u001b[0;34m\"min_year_acquired\"\u001b[0m\u001b[0;34m,\u001b[0m\u001b[0;34m\"derivation_id\"\u001b[0m\u001b[0;34m]\u001b[0m\u001b[0;34m,\u001b[0m\u001b[0maxis\u001b[0m\u001b[0;34m=\u001b[0m\u001b[0;36m1\u001b[0m\u001b[0;34m)\u001b[0m\u001b[0;34m\u001b[0m\u001b[0;34m\u001b[0m\u001b[0m\n\u001b[1;32m      3\u001b[0m \u001b[0mnutrient_small_df\u001b[0m \u001b[0;34m=\u001b[0m \u001b[0mnutrient_df\u001b[0m\u001b[0;34m.\u001b[0m\u001b[0mdrop\u001b[0m\u001b[0;34m(\u001b[0m\u001b[0;34m[\u001b[0m\u001b[0;34m\"nutrient_nbr\"\u001b[0m\u001b[0;34m,\u001b[0m\u001b[0;34m\"rank\"\u001b[0m\u001b[0;34m]\u001b[0m\u001b[0;34m,\u001b[0m\u001b[0maxis\u001b[0m\u001b[0;34m=\u001b[0m\u001b[0;36m1\u001b[0m\u001b[0;34m)\u001b[0m\u001b[0;34m\u001b[0m\u001b[0;34m\u001b[0m\u001b[0m\n\u001b[0;32m----> 4\u001b[0;31m \u001b[0mfood_category_df\u001b[0m\u001b[0;34m.\u001b[0m\u001b[0mdrop\u001b[0m\u001b[0;34m(\u001b[0m\u001b[0;34m[\u001b[0m\u001b[0;34m\"code\"\u001b[0m\u001b[0;34m]\u001b[0m\u001b[0;34m,\u001b[0m\u001b[0maxis\u001b[0m\u001b[0;34m=\u001b[0m\u001b[0;36m1\u001b[0m\u001b[0;34m,\u001b[0m\u001b[0minplace\u001b[0m\u001b[0;34m=\u001b[0m\u001b[0;32mTrue\u001b[0m\u001b[0;34m)\u001b[0m\u001b[0;34m\u001b[0m\u001b[0;34m\u001b[0m\u001b[0m\n\u001b[0m\u001b[1;32m      5\u001b[0m \u001b[0mfood_category_df\u001b[0m\u001b[0;34m.\u001b[0m\u001b[0mrename\u001b[0m\u001b[0;34m(\u001b[0m\u001b[0mcolumns\u001b[0m\u001b[0;34m=\u001b[0m\u001b[0;34m{\u001b[0m\u001b[0;34m'id'\u001b[0m\u001b[0;34m:\u001b[0m\u001b[0;34m'food_category_id'\u001b[0m\u001b[0;34m,\u001b[0m\u001b[0;34m'description'\u001b[0m\u001b[0;34m:\u001b[0m\u001b[0;34m'category'\u001b[0m\u001b[0;34m}\u001b[0m\u001b[0;34m,\u001b[0m\u001b[0minplace\u001b[0m\u001b[0;34m=\u001b[0m \u001b[0;32mTrue\u001b[0m\u001b[0;34m)\u001b[0m\u001b[0;34m\u001b[0m\u001b[0;34m\u001b[0m\u001b[0m\n\u001b[1;32m      6\u001b[0m \u001b[0mfood_df\u001b[0m\u001b[0;34m.\u001b[0m\u001b[0mdrop\u001b[0m\u001b[0;34m(\u001b[0m\u001b[0;34m[\u001b[0m\u001b[0;34m\"publication_date\"\u001b[0m\u001b[0;34m]\u001b[0m\u001b[0;34m,\u001b[0m\u001b[0maxis\u001b[0m\u001b[0;34m=\u001b[0m\u001b[0;36m1\u001b[0m\u001b[0;34m,\u001b[0m\u001b[0minplace\u001b[0m\u001b[0;34m=\u001b[0m\u001b[0;32mTrue\u001b[0m\u001b[0;34m)\u001b[0m\u001b[0;34m\u001b[0m\u001b[0;34m\u001b[0m\u001b[0m\n",
      "\u001b[0;32m~/anaconda3/envs/ada/lib/python3.7/site-packages/pandas/core/frame.py\u001b[0m in \u001b[0;36mdrop\u001b[0;34m(self, labels, axis, index, columns, level, inplace, errors)\u001b[0m\n\u001b[1;32m   4100\u001b[0m             \u001b[0mlevel\u001b[0m\u001b[0;34m=\u001b[0m\u001b[0mlevel\u001b[0m\u001b[0;34m,\u001b[0m\u001b[0;34m\u001b[0m\u001b[0;34m\u001b[0m\u001b[0m\n\u001b[1;32m   4101\u001b[0m             \u001b[0minplace\u001b[0m\u001b[0;34m=\u001b[0m\u001b[0minplace\u001b[0m\u001b[0;34m,\u001b[0m\u001b[0;34m\u001b[0m\u001b[0;34m\u001b[0m\u001b[0m\n\u001b[0;32m-> 4102\u001b[0;31m             \u001b[0merrors\u001b[0m\u001b[0;34m=\u001b[0m\u001b[0merrors\u001b[0m\u001b[0;34m,\u001b[0m\u001b[0;34m\u001b[0m\u001b[0;34m\u001b[0m\u001b[0m\n\u001b[0m\u001b[1;32m   4103\u001b[0m         )\n\u001b[1;32m   4104\u001b[0m \u001b[0;34m\u001b[0m\u001b[0m\n",
      "\u001b[0;32m~/anaconda3/envs/ada/lib/python3.7/site-packages/pandas/core/generic.py\u001b[0m in \u001b[0;36mdrop\u001b[0;34m(self, labels, axis, index, columns, level, inplace, errors)\u001b[0m\n\u001b[1;32m   3912\u001b[0m         \u001b[0;32mfor\u001b[0m \u001b[0maxis\u001b[0m\u001b[0;34m,\u001b[0m \u001b[0mlabels\u001b[0m \u001b[0;32min\u001b[0m \u001b[0maxes\u001b[0m\u001b[0;34m.\u001b[0m\u001b[0mitems\u001b[0m\u001b[0;34m(\u001b[0m\u001b[0;34m)\u001b[0m\u001b[0;34m:\u001b[0m\u001b[0;34m\u001b[0m\u001b[0;34m\u001b[0m\u001b[0m\n\u001b[1;32m   3913\u001b[0m             \u001b[0;32mif\u001b[0m \u001b[0mlabels\u001b[0m \u001b[0;32mis\u001b[0m \u001b[0;32mnot\u001b[0m \u001b[0;32mNone\u001b[0m\u001b[0;34m:\u001b[0m\u001b[0;34m\u001b[0m\u001b[0;34m\u001b[0m\u001b[0m\n\u001b[0;32m-> 3914\u001b[0;31m                 \u001b[0mobj\u001b[0m \u001b[0;34m=\u001b[0m \u001b[0mobj\u001b[0m\u001b[0;34m.\u001b[0m\u001b[0m_drop_axis\u001b[0m\u001b[0;34m(\u001b[0m\u001b[0mlabels\u001b[0m\u001b[0;34m,\u001b[0m \u001b[0maxis\u001b[0m\u001b[0;34m,\u001b[0m \u001b[0mlevel\u001b[0m\u001b[0;34m=\u001b[0m\u001b[0mlevel\u001b[0m\u001b[0;34m,\u001b[0m \u001b[0merrors\u001b[0m\u001b[0;34m=\u001b[0m\u001b[0merrors\u001b[0m\u001b[0;34m)\u001b[0m\u001b[0;34m\u001b[0m\u001b[0;34m\u001b[0m\u001b[0m\n\u001b[0m\u001b[1;32m   3915\u001b[0m \u001b[0;34m\u001b[0m\u001b[0m\n\u001b[1;32m   3916\u001b[0m         \u001b[0;32mif\u001b[0m \u001b[0minplace\u001b[0m\u001b[0;34m:\u001b[0m\u001b[0;34m\u001b[0m\u001b[0;34m\u001b[0m\u001b[0m\n",
      "\u001b[0;32m~/anaconda3/envs/ada/lib/python3.7/site-packages/pandas/core/generic.py\u001b[0m in \u001b[0;36m_drop_axis\u001b[0;34m(self, labels, axis, level, errors)\u001b[0m\n\u001b[1;32m   3944\u001b[0m                 \u001b[0mnew_axis\u001b[0m \u001b[0;34m=\u001b[0m \u001b[0maxis\u001b[0m\u001b[0;34m.\u001b[0m\u001b[0mdrop\u001b[0m\u001b[0;34m(\u001b[0m\u001b[0mlabels\u001b[0m\u001b[0;34m,\u001b[0m \u001b[0mlevel\u001b[0m\u001b[0;34m=\u001b[0m\u001b[0mlevel\u001b[0m\u001b[0;34m,\u001b[0m \u001b[0merrors\u001b[0m\u001b[0;34m=\u001b[0m\u001b[0merrors\u001b[0m\u001b[0;34m)\u001b[0m\u001b[0;34m\u001b[0m\u001b[0;34m\u001b[0m\u001b[0m\n\u001b[1;32m   3945\u001b[0m             \u001b[0;32melse\u001b[0m\u001b[0;34m:\u001b[0m\u001b[0;34m\u001b[0m\u001b[0;34m\u001b[0m\u001b[0m\n\u001b[0;32m-> 3946\u001b[0;31m                 \u001b[0mnew_axis\u001b[0m \u001b[0;34m=\u001b[0m \u001b[0maxis\u001b[0m\u001b[0;34m.\u001b[0m\u001b[0mdrop\u001b[0m\u001b[0;34m(\u001b[0m\u001b[0mlabels\u001b[0m\u001b[0;34m,\u001b[0m \u001b[0merrors\u001b[0m\u001b[0;34m=\u001b[0m\u001b[0merrors\u001b[0m\u001b[0;34m)\u001b[0m\u001b[0;34m\u001b[0m\u001b[0;34m\u001b[0m\u001b[0m\n\u001b[0m\u001b[1;32m   3947\u001b[0m             \u001b[0mresult\u001b[0m \u001b[0;34m=\u001b[0m \u001b[0mself\u001b[0m\u001b[0;34m.\u001b[0m\u001b[0mreindex\u001b[0m\u001b[0;34m(\u001b[0m\u001b[0;34m**\u001b[0m\u001b[0;34m{\u001b[0m\u001b[0maxis_name\u001b[0m\u001b[0;34m:\u001b[0m \u001b[0mnew_axis\u001b[0m\u001b[0;34m}\u001b[0m\u001b[0;34m)\u001b[0m\u001b[0;34m\u001b[0m\u001b[0;34m\u001b[0m\u001b[0m\n\u001b[1;32m   3948\u001b[0m \u001b[0;34m\u001b[0m\u001b[0m\n",
      "\u001b[0;32m~/anaconda3/envs/ada/lib/python3.7/site-packages/pandas/core/indexes/base.py\u001b[0m in \u001b[0;36mdrop\u001b[0;34m(self, labels, errors)\u001b[0m\n\u001b[1;32m   5338\u001b[0m         \u001b[0;32mif\u001b[0m \u001b[0mmask\u001b[0m\u001b[0;34m.\u001b[0m\u001b[0many\u001b[0m\u001b[0;34m(\u001b[0m\u001b[0;34m)\u001b[0m\u001b[0;34m:\u001b[0m\u001b[0;34m\u001b[0m\u001b[0;34m\u001b[0m\u001b[0m\n\u001b[1;32m   5339\u001b[0m             \u001b[0;32mif\u001b[0m \u001b[0merrors\u001b[0m \u001b[0;34m!=\u001b[0m \u001b[0;34m\"ignore\"\u001b[0m\u001b[0;34m:\u001b[0m\u001b[0;34m\u001b[0m\u001b[0;34m\u001b[0m\u001b[0m\n\u001b[0;32m-> 5340\u001b[0;31m                 \u001b[0;32mraise\u001b[0m \u001b[0mKeyError\u001b[0m\u001b[0;34m(\u001b[0m\u001b[0;34m\"{} not found in axis\"\u001b[0m\u001b[0;34m.\u001b[0m\u001b[0mformat\u001b[0m\u001b[0;34m(\u001b[0m\u001b[0mlabels\u001b[0m\u001b[0;34m[\u001b[0m\u001b[0mmask\u001b[0m\u001b[0;34m]\u001b[0m\u001b[0;34m)\u001b[0m\u001b[0;34m)\u001b[0m\u001b[0;34m\u001b[0m\u001b[0;34m\u001b[0m\u001b[0m\n\u001b[0m\u001b[1;32m   5341\u001b[0m             \u001b[0mindexer\u001b[0m \u001b[0;34m=\u001b[0m \u001b[0mindexer\u001b[0m\u001b[0;34m[\u001b[0m\u001b[0;34m~\u001b[0m\u001b[0mmask\u001b[0m\u001b[0;34m]\u001b[0m\u001b[0;34m\u001b[0m\u001b[0;34m\u001b[0m\u001b[0m\n\u001b[1;32m   5342\u001b[0m         \u001b[0;32mreturn\u001b[0m \u001b[0mself\u001b[0m\u001b[0;34m.\u001b[0m\u001b[0mdelete\u001b[0m\u001b[0;34m(\u001b[0m\u001b[0mindexer\u001b[0m\u001b[0;34m)\u001b[0m\u001b[0;34m\u001b[0m\u001b[0;34m\u001b[0m\u001b[0m\n",
      "\u001b[0;31mKeyError\u001b[0m: \"['code'] not found in axis\""
     ]
    }
   ],
   "source": [
    "#drop unnecessary columns and rename to be more understandable\n",
    "food_nutrients_small_df = food_nutrients_df.drop([\"data_points\",\"min\",\"max\",\"median\",\"footnote\",\"min_year_acquired\",\"derivation_id\"],axis=1)\n",
    "nutrient_small_df = nutrient_df.drop([\"nutrient_nbr\",\"rank\"],axis=1)\n",
    "food_category_df.drop([\"code\"],axis=1,inplace=True)\n",
    "food_category_df.rename(columns={'id':'food_category_id','description':'category'},inplace= True)\n",
    "food_df.drop([\"publication_date\"],axis=1,inplace=True)"
   ]
  },
  {
   "cell_type": "code",
   "execution_count": 25,
   "metadata": {},
   "outputs": [
    {
     "data": {
      "text/html": [
       "<div>\n",
       "<style scoped>\n",
       "    .dataframe tbody tr th:only-of-type {\n",
       "        vertical-align: middle;\n",
       "    }\n",
       "\n",
       "    .dataframe tbody tr th {\n",
       "        vertical-align: top;\n",
       "    }\n",
       "\n",
       "    .dataframe thead th {\n",
       "        text-align: right;\n",
       "    }\n",
       "</style>\n",
       "<table border=\"1\" class=\"dataframe\">\n",
       "  <thead>\n",
       "    <tr style=\"text-align: right;\">\n",
       "      <th></th>\n",
       "      <th>id</th>\n",
       "      <th>fdc_id</th>\n",
       "      <th>nutrient_id</th>\n",
       "      <th>amount</th>\n",
       "      <th>name</th>\n",
       "      <th>unit_name</th>\n",
       "    </tr>\n",
       "  </thead>\n",
       "  <tbody>\n",
       "    <tr>\n",
       "      <td>0</td>\n",
       "      <td>2288167</td>\n",
       "      <td>336069</td>\n",
       "      <td>1003</td>\n",
       "      <td>3.28</td>\n",
       "      <td>Protein</td>\n",
       "      <td>G</td>\n",
       "    </tr>\n",
       "    <tr>\n",
       "      <td>1</td>\n",
       "      <td>2288168</td>\n",
       "      <td>336069</td>\n",
       "      <td>1004</td>\n",
       "      <td>1.91</td>\n",
       "      <td>Total lipid (fat)</td>\n",
       "      <td>G</td>\n",
       "    </tr>\n",
       "    <tr>\n",
       "      <td>2</td>\n",
       "      <td>2288169</td>\n",
       "      <td>336069</td>\n",
       "      <td>1005</td>\n",
       "      <td>4.85</td>\n",
       "      <td>Carbohydrate, by difference</td>\n",
       "      <td>G</td>\n",
       "    </tr>\n",
       "    <tr>\n",
       "      <td>3</td>\n",
       "      <td>2288170</td>\n",
       "      <td>336069</td>\n",
       "      <td>1008</td>\n",
       "      <td>50.00</td>\n",
       "      <td>Energy</td>\n",
       "      <td>KCAL</td>\n",
       "    </tr>\n",
       "    <tr>\n",
       "      <td>4</td>\n",
       "      <td>2288171</td>\n",
       "      <td>336069</td>\n",
       "      <td>1018</td>\n",
       "      <td>0.00</td>\n",
       "      <td>Alcohol, ethyl</td>\n",
       "      <td>G</td>\n",
       "    </tr>\n",
       "  </tbody>\n",
       "</table>\n",
       "</div>"
      ],
      "text/plain": [
       "        id  fdc_id  nutrient_id  amount                         name unit_name\n",
       "0  2288167  336069         1003    3.28                      Protein         G\n",
       "1  2288168  336069         1004    1.91            Total lipid (fat)         G\n",
       "2  2288169  336069         1005    4.85  Carbohydrate, by difference         G\n",
       "3  2288170  336069         1008   50.00                       Energy      KCAL\n",
       "4  2288171  336069         1018    0.00               Alcohol, ethyl         G"
      ]
     },
     "execution_count": 25,
     "metadata": {},
     "output_type": "execute_result"
    }
   ],
   "source": [
    "# join the df to see which id corresponds to which nutrients\n",
    "joined_df = food_nutrients_small_df.join(nutrient_small_df.set_index('id'),on='nutrient_id',how='left')\n",
    "joined_df.head()"
   ]
  },
  {
   "cell_type": "code",
   "execution_count": 26,
   "metadata": {},
   "outputs": [],
   "source": [
    "#index the resulting table by multiindex: product id -> name of nutrients\n",
    "structured_df = joined_df.set_index(pd.MultiIndex.from_frame(joined_df[['fdc_id','nutrient_id']]))\n",
    "#drop unnecessary columns \n",
    "structured_small_df = structured_df.drop([\"id\",\"fdc_id\",\"nutrient_id\",\"name\"],axis=1)"
   ]
  },
  {
   "cell_type": "code",
   "execution_count": 27,
   "metadata": {},
   "outputs": [
    {
     "data": {
      "text/html": [
       "<div>\n",
       "<style scoped>\n",
       "    .dataframe tbody tr th:only-of-type {\n",
       "        vertical-align: middle;\n",
       "    }\n",
       "\n",
       "    .dataframe tbody tr th {\n",
       "        vertical-align: top;\n",
       "    }\n",
       "\n",
       "    .dataframe thead th {\n",
       "        text-align: right;\n",
       "    }\n",
       "</style>\n",
       "<table border=\"1\" class=\"dataframe\">\n",
       "  <thead>\n",
       "    <tr style=\"text-align: right;\">\n",
       "      <th></th>\n",
       "      <th></th>\n",
       "      <th>amount</th>\n",
       "      <th>unit_name</th>\n",
       "    </tr>\n",
       "    <tr>\n",
       "      <th>fdc_id</th>\n",
       "      <th>nutrient_id</th>\n",
       "      <th></th>\n",
       "      <th></th>\n",
       "    </tr>\n",
       "  </thead>\n",
       "  <tbody>\n",
       "    <tr>\n",
       "      <td rowspan=\"5\" valign=\"top\">336069</td>\n",
       "      <td>1003</td>\n",
       "      <td>3.28</td>\n",
       "      <td>G</td>\n",
       "    </tr>\n",
       "    <tr>\n",
       "      <td>1004</td>\n",
       "      <td>1.91</td>\n",
       "      <td>G</td>\n",
       "    </tr>\n",
       "    <tr>\n",
       "      <td>1005</td>\n",
       "      <td>4.85</td>\n",
       "      <td>G</td>\n",
       "    </tr>\n",
       "    <tr>\n",
       "      <td>1008</td>\n",
       "      <td>50.00</td>\n",
       "      <td>KCAL</td>\n",
       "    </tr>\n",
       "    <tr>\n",
       "      <td>1018</td>\n",
       "      <td>0.00</td>\n",
       "      <td>G</td>\n",
       "    </tr>\n",
       "  </tbody>\n",
       "</table>\n",
       "</div>"
      ],
      "text/plain": [
       "                    amount unit_name\n",
       "fdc_id nutrient_id                  \n",
       "336069 1003           3.28         G\n",
       "       1004           1.91         G\n",
       "       1005           4.85         G\n",
       "       1008          50.00      KCAL\n",
       "       1018           0.00         G"
      ]
     },
     "execution_count": 27,
     "metadata": {},
     "output_type": "execute_result"
    }
   ],
   "source": [
    "structured_small_df.head()"
   ]
  },
  {
   "cell_type": "code",
   "execution_count": 28,
   "metadata": {},
   "outputs": [
    {
     "data": {
      "text/html": [
       "<div>\n",
       "<style scoped>\n",
       "    .dataframe tbody tr th:only-of-type {\n",
       "        vertical-align: middle;\n",
       "    }\n",
       "\n",
       "    .dataframe tbody tr th {\n",
       "        vertical-align: top;\n",
       "    }\n",
       "\n",
       "    .dataframe thead th {\n",
       "        text-align: right;\n",
       "    }\n",
       "</style>\n",
       "<table border=\"1\" class=\"dataframe\">\n",
       "  <thead>\n",
       "    <tr style=\"text-align: right;\">\n",
       "      <th></th>\n",
       "      <th>fdc_id</th>\n",
       "      <th>data_type</th>\n",
       "      <th>description</th>\n",
       "      <th>food_category_id</th>\n",
       "    </tr>\n",
       "  </thead>\n",
       "  <tbody>\n",
       "    <tr>\n",
       "      <td>0</td>\n",
       "      <td>336069</td>\n",
       "      <td>survey_fndds_food</td>\n",
       "      <td>Milk, NFS</td>\n",
       "      <td>NaN</td>\n",
       "    </tr>\n",
       "    <tr>\n",
       "      <td>1</td>\n",
       "      <td>336070</td>\n",
       "      <td>survey_fndds_food</td>\n",
       "      <td>Milk, whole</td>\n",
       "      <td>NaN</td>\n",
       "    </tr>\n",
       "    <tr>\n",
       "      <td>2</td>\n",
       "      <td>336071</td>\n",
       "      <td>survey_fndds_food</td>\n",
       "      <td>Milk, low sodium, whole</td>\n",
       "      <td>NaN</td>\n",
       "    </tr>\n",
       "    <tr>\n",
       "      <td>3</td>\n",
       "      <td>336072</td>\n",
       "      <td>survey_fndds_food</td>\n",
       "      <td>Milk, calcium fortified, whole</td>\n",
       "      <td>NaN</td>\n",
       "    </tr>\n",
       "    <tr>\n",
       "      <td>4</td>\n",
       "      <td>336073</td>\n",
       "      <td>survey_fndds_food</td>\n",
       "      <td>Milk, calcium fortified, low fat (1%)</td>\n",
       "      <td>NaN</td>\n",
       "    </tr>\n",
       "  </tbody>\n",
       "</table>\n",
       "</div>"
      ],
      "text/plain": [
       "   fdc_id          data_type                            description  \\\n",
       "0  336069  survey_fndds_food                              Milk, NFS   \n",
       "1  336070  survey_fndds_food                            Milk, whole   \n",
       "2  336071  survey_fndds_food                Milk, low sodium, whole   \n",
       "3  336072  survey_fndds_food         Milk, calcium fortified, whole   \n",
       "4  336073  survey_fndds_food  Milk, calcium fortified, low fat (1%)   \n",
       "\n",
       "   food_category_id  \n",
       "0               NaN  \n",
       "1               NaN  \n",
       "2               NaN  \n",
       "3               NaN  \n",
       "4               NaN  "
      ]
     },
     "execution_count": 28,
     "metadata": {},
     "output_type": "execute_result"
    }
   ],
   "source": [
    "food_df.head()"
   ]
  },
  {
   "cell_type": "code",
   "execution_count": 29,
   "metadata": {},
   "outputs": [],
   "source": [
    "food_with_category_df = food_df.join(food_category_df.set_index(\"food_category_id\"),on=\"food_category_id\",how=\"left\")\n",
    "food_with_category_df.drop([\"food_category_id\"],axis=1,inplace=True)"
   ]
  },
  {
   "cell_type": "code",
   "execution_count": 30,
   "metadata": {},
   "outputs": [
    {
     "data": {
      "text/html": [
       "<div>\n",
       "<style scoped>\n",
       "    .dataframe tbody tr th:only-of-type {\n",
       "        vertical-align: middle;\n",
       "    }\n",
       "\n",
       "    .dataframe tbody tr th {\n",
       "        vertical-align: top;\n",
       "    }\n",
       "\n",
       "    .dataframe thead th {\n",
       "        text-align: right;\n",
       "    }\n",
       "</style>\n",
       "<table border=\"1\" class=\"dataframe\">\n",
       "  <thead>\n",
       "    <tr style=\"text-align: right;\">\n",
       "      <th></th>\n",
       "      <th>fdc_id</th>\n",
       "      <th>data_type</th>\n",
       "      <th>description</th>\n",
       "      <th>category</th>\n",
       "    </tr>\n",
       "  </thead>\n",
       "  <tbody>\n",
       "    <tr>\n",
       "      <td>0</td>\n",
       "      <td>336069</td>\n",
       "      <td>survey_fndds_food</td>\n",
       "      <td>Milk, NFS</td>\n",
       "      <td>NaN</td>\n",
       "    </tr>\n",
       "    <tr>\n",
       "      <td>1</td>\n",
       "      <td>336070</td>\n",
       "      <td>survey_fndds_food</td>\n",
       "      <td>Milk, whole</td>\n",
       "      <td>NaN</td>\n",
       "    </tr>\n",
       "    <tr>\n",
       "      <td>2</td>\n",
       "      <td>336071</td>\n",
       "      <td>survey_fndds_food</td>\n",
       "      <td>Milk, low sodium, whole</td>\n",
       "      <td>NaN</td>\n",
       "    </tr>\n",
       "    <tr>\n",
       "      <td>3</td>\n",
       "      <td>336072</td>\n",
       "      <td>survey_fndds_food</td>\n",
       "      <td>Milk, calcium fortified, whole</td>\n",
       "      <td>NaN</td>\n",
       "    </tr>\n",
       "    <tr>\n",
       "      <td>4</td>\n",
       "      <td>336073</td>\n",
       "      <td>survey_fndds_food</td>\n",
       "      <td>Milk, calcium fortified, low fat (1%)</td>\n",
       "      <td>NaN</td>\n",
       "    </tr>\n",
       "  </tbody>\n",
       "</table>\n",
       "</div>"
      ],
      "text/plain": [
       "   fdc_id          data_type                            description category\n",
       "0  336069  survey_fndds_food                              Milk, NFS      NaN\n",
       "1  336070  survey_fndds_food                            Milk, whole      NaN\n",
       "2  336071  survey_fndds_food                Milk, low sodium, whole      NaN\n",
       "3  336072  survey_fndds_food         Milk, calcium fortified, whole      NaN\n",
       "4  336073  survey_fndds_food  Milk, calcium fortified, low fat (1%)      NaN"
      ]
     },
     "execution_count": 30,
     "metadata": {},
     "output_type": "execute_result"
    }
   ],
   "source": [
    "food_with_category_df.head()"
   ]
  },
  {
   "cell_type": "code",
   "execution_count": 31,
   "metadata": {},
   "outputs": [],
   "source": [
    "structured_name_df = structured_small_df.join(food_with_category_df.set_index('fdc_id'),on='fdc_id',how='left')"
   ]
  },
  {
   "cell_type": "code",
   "execution_count": 32,
   "metadata": {},
   "outputs": [
    {
     "data": {
      "text/html": [
       "<div>\n",
       "<style scoped>\n",
       "    .dataframe tbody tr th:only-of-type {\n",
       "        vertical-align: middle;\n",
       "    }\n",
       "\n",
       "    .dataframe tbody tr th {\n",
       "        vertical-align: top;\n",
       "    }\n",
       "\n",
       "    .dataframe thead th {\n",
       "        text-align: right;\n",
       "    }\n",
       "</style>\n",
       "<table border=\"1\" class=\"dataframe\">\n",
       "  <thead>\n",
       "    <tr style=\"text-align: right;\">\n",
       "      <th></th>\n",
       "      <th></th>\n",
       "      <th>amount</th>\n",
       "      <th>unit_name</th>\n",
       "      <th>data_type</th>\n",
       "      <th>description</th>\n",
       "      <th>category</th>\n",
       "    </tr>\n",
       "    <tr>\n",
       "      <th>fdc_id</th>\n",
       "      <th>nutrient_id</th>\n",
       "      <th></th>\n",
       "      <th></th>\n",
       "      <th></th>\n",
       "      <th></th>\n",
       "      <th></th>\n",
       "    </tr>\n",
       "  </thead>\n",
       "  <tbody>\n",
       "    <tr>\n",
       "      <td rowspan=\"5\" valign=\"top\">336069</td>\n",
       "      <td>1003</td>\n",
       "      <td>3.28</td>\n",
       "      <td>G</td>\n",
       "      <td>survey_fndds_food</td>\n",
       "      <td>Milk, NFS</td>\n",
       "      <td>NaN</td>\n",
       "    </tr>\n",
       "    <tr>\n",
       "      <td>1004</td>\n",
       "      <td>1.91</td>\n",
       "      <td>G</td>\n",
       "      <td>survey_fndds_food</td>\n",
       "      <td>Milk, NFS</td>\n",
       "      <td>NaN</td>\n",
       "    </tr>\n",
       "    <tr>\n",
       "      <td>1005</td>\n",
       "      <td>4.85</td>\n",
       "      <td>G</td>\n",
       "      <td>survey_fndds_food</td>\n",
       "      <td>Milk, NFS</td>\n",
       "      <td>NaN</td>\n",
       "    </tr>\n",
       "    <tr>\n",
       "      <td>1008</td>\n",
       "      <td>50.00</td>\n",
       "      <td>KCAL</td>\n",
       "      <td>survey_fndds_food</td>\n",
       "      <td>Milk, NFS</td>\n",
       "      <td>NaN</td>\n",
       "    </tr>\n",
       "    <tr>\n",
       "      <td>1018</td>\n",
       "      <td>0.00</td>\n",
       "      <td>G</td>\n",
       "      <td>survey_fndds_food</td>\n",
       "      <td>Milk, NFS</td>\n",
       "      <td>NaN</td>\n",
       "    </tr>\n",
       "  </tbody>\n",
       "</table>\n",
       "</div>"
      ],
      "text/plain": [
       "                    amount unit_name          data_type description category\n",
       "fdc_id nutrient_id                                                          \n",
       "336069 1003           3.28         G  survey_fndds_food   Milk, NFS      NaN\n",
       "       1004           1.91         G  survey_fndds_food   Milk, NFS      NaN\n",
       "       1005           4.85         G  survey_fndds_food   Milk, NFS      NaN\n",
       "       1008          50.00      KCAL  survey_fndds_food   Milk, NFS      NaN\n",
       "       1018           0.00         G  survey_fndds_food   Milk, NFS      NaN"
      ]
     },
     "execution_count": 32,
     "metadata": {},
     "output_type": "execute_result"
    }
   ],
   "source": [
    "structured_name_df.head()"
   ]
  },
  {
   "cell_type": "code",
   "execution_count": 33,
   "metadata": {},
   "outputs": [],
   "source": [
    "structured_rows_df = structured_name_df.unstack(level=1,fill_value=0)"
   ]
  },
  {
   "cell_type": "code",
   "execution_count": 34,
   "metadata": {},
   "outputs": [
    {
     "data": {
      "text/plain": [
       "MultiIndex([(  'amount', 1003),\n",
       "            (  'amount', 1004),\n",
       "            (  'amount', 1005),\n",
       "            (  'amount', 1008),\n",
       "            (  'amount', 1018),\n",
       "            (  'amount', 1051),\n",
       "            (  'amount', 1057),\n",
       "            (  'amount', 1058),\n",
       "            (  'amount', 1079),\n",
       "            (  'amount', 1087),\n",
       "            ...\n",
       "            ('category', 1272),\n",
       "            ('category', 1275),\n",
       "            ('category', 1276),\n",
       "            ('category', 1277),\n",
       "            ('category', 1278),\n",
       "            ('category', 1279),\n",
       "            ('category', 1280),\n",
       "            ('category', 1292),\n",
       "            ('category', 1293),\n",
       "            ('category', 2000)],\n",
       "           names=[None, 'nutrient_id'], length=325)"
      ]
     },
     "execution_count": 34,
     "metadata": {},
     "output_type": "execute_result"
    }
   ],
   "source": [
    "structured_rows_df.columns"
   ]
  },
  {
   "cell_type": "code",
   "execution_count": 35,
   "metadata": {},
   "outputs": [
    {
     "data": {
      "text/html": [
       "<div>\n",
       "<style scoped>\n",
       "    .dataframe tbody tr th:only-of-type {\n",
       "        vertical-align: middle;\n",
       "    }\n",
       "\n",
       "    .dataframe tbody tr th {\n",
       "        vertical-align: top;\n",
       "    }\n",
       "\n",
       "    .dataframe thead tr th {\n",
       "        text-align: left;\n",
       "    }\n",
       "\n",
       "    .dataframe thead tr:last-of-type th {\n",
       "        text-align: right;\n",
       "    }\n",
       "</style>\n",
       "<table border=\"1\" class=\"dataframe\">\n",
       "  <thead>\n",
       "    <tr>\n",
       "      <th></th>\n",
       "      <th colspan=\"10\" halign=\"left\">amount</th>\n",
       "      <th>...</th>\n",
       "      <th colspan=\"10\" halign=\"left\">category</th>\n",
       "    </tr>\n",
       "    <tr>\n",
       "      <th>nutrient_id</th>\n",
       "      <th>1003</th>\n",
       "      <th>1004</th>\n",
       "      <th>1005</th>\n",
       "      <th>1008</th>\n",
       "      <th>1018</th>\n",
       "      <th>1051</th>\n",
       "      <th>1057</th>\n",
       "      <th>1058</th>\n",
       "      <th>1079</th>\n",
       "      <th>1087</th>\n",
       "      <th>...</th>\n",
       "      <th>1272</th>\n",
       "      <th>1275</th>\n",
       "      <th>1276</th>\n",
       "      <th>1277</th>\n",
       "      <th>1278</th>\n",
       "      <th>1279</th>\n",
       "      <th>1280</th>\n",
       "      <th>1292</th>\n",
       "      <th>1293</th>\n",
       "      <th>2000</th>\n",
       "    </tr>\n",
       "    <tr>\n",
       "      <th>fdc_id</th>\n",
       "      <th></th>\n",
       "      <th></th>\n",
       "      <th></th>\n",
       "      <th></th>\n",
       "      <th></th>\n",
       "      <th></th>\n",
       "      <th></th>\n",
       "      <th></th>\n",
       "      <th></th>\n",
       "      <th></th>\n",
       "      <th></th>\n",
       "      <th></th>\n",
       "      <th></th>\n",
       "      <th></th>\n",
       "      <th></th>\n",
       "      <th></th>\n",
       "      <th></th>\n",
       "      <th></th>\n",
       "      <th></th>\n",
       "      <th></th>\n",
       "      <th></th>\n",
       "    </tr>\n",
       "  </thead>\n",
       "  <tbody>\n",
       "    <tr>\n",
       "      <td>336068</td>\n",
       "      <td>1.03</td>\n",
       "      <td>4.38</td>\n",
       "      <td>6.89</td>\n",
       "      <td>70.0</td>\n",
       "      <td>0.0</td>\n",
       "      <td>87.5</td>\n",
       "      <td>0.0</td>\n",
       "      <td>0.0</td>\n",
       "      <td>0.0</td>\n",
       "      <td>32.0</td>\n",
       "      <td>...</td>\n",
       "      <td>NaN</td>\n",
       "      <td>NaN</td>\n",
       "      <td>NaN</td>\n",
       "      <td>NaN</td>\n",
       "      <td>NaN</td>\n",
       "      <td>NaN</td>\n",
       "      <td>NaN</td>\n",
       "      <td>NaN</td>\n",
       "      <td>NaN</td>\n",
       "      <td>NaN</td>\n",
       "    </tr>\n",
       "  </tbody>\n",
       "</table>\n",
       "<p>1 rows × 325 columns</p>\n",
       "</div>"
      ],
      "text/plain": [
       "            amount                                                    ...  \\\n",
       "nutrient_id   1003  1004  1005  1008 1018  1051 1057 1058 1079  1087  ...   \n",
       "fdc_id                                                                ...   \n",
       "336068        1.03  4.38  6.89  70.0  0.0  87.5  0.0  0.0  0.0  32.0  ...   \n",
       "\n",
       "            category                                               \n",
       "nutrient_id     1272 1275 1276 1277 1278 1279 1280 1292 1293 2000  \n",
       "fdc_id                                                             \n",
       "336068           NaN  NaN  NaN  NaN  NaN  NaN  NaN  NaN  NaN  NaN  \n",
       "\n",
       "[1 rows x 325 columns]"
      ]
     },
     "execution_count": 35,
     "metadata": {},
     "output_type": "execute_result"
    }
   ],
   "source": [
    "structured_rows_df.head(1)"
   ]
  },
  {
   "cell_type": "code",
   "execution_count": 36,
   "metadata": {},
   "outputs": [
    {
     "data": {
      "text/plain": [
       "Int64Index([1003, 1004, 1005, 1008, 1018, 1051, 1057, 1058, 2000, 1079,\n",
       "            ...\n",
       "            1271, 1272, 1275, 1276, 1277, 1278, 1279, 1280, 1292, 1293],\n",
       "           dtype='int64', name='nutrient_id', length=554840)"
      ]
     },
     "execution_count": 36,
     "metadata": {},
     "output_type": "execute_result"
    }
   ],
   "source": [
    "structured_name_df.index.get_level_values(1)"
   ]
  },
  {
   "cell_type": "code",
   "execution_count": 37,
   "metadata": {},
   "outputs": [],
   "source": [
    "test_df = joined_df.head(30)"
   ]
  },
  {
   "cell_type": "code",
   "execution_count": 38,
   "metadata": {},
   "outputs": [
    {
     "data": {
      "text/html": [
       "<div>\n",
       "<style scoped>\n",
       "    .dataframe tbody tr th:only-of-type {\n",
       "        vertical-align: middle;\n",
       "    }\n",
       "\n",
       "    .dataframe tbody tr th {\n",
       "        vertical-align: top;\n",
       "    }\n",
       "\n",
       "    .dataframe thead tr th {\n",
       "        text-align: left;\n",
       "    }\n",
       "</style>\n",
       "<table border=\"1\" class=\"dataframe\">\n",
       "  <thead>\n",
       "    <tr>\n",
       "      <th></th>\n",
       "      <th colspan=\"10\" halign=\"left\">id</th>\n",
       "      <th>...</th>\n",
       "      <th colspan=\"10\" halign=\"left\">unit_name</th>\n",
       "    </tr>\n",
       "    <tr>\n",
       "      <th>nutrient_id</th>\n",
       "      <th>1003</th>\n",
       "      <th>1004</th>\n",
       "      <th>1005</th>\n",
       "      <th>1008</th>\n",
       "      <th>1018</th>\n",
       "      <th>1051</th>\n",
       "      <th>1057</th>\n",
       "      <th>1058</th>\n",
       "      <th>1079</th>\n",
       "      <th>1087</th>\n",
       "      <th>...</th>\n",
       "      <th>1272</th>\n",
       "      <th>1275</th>\n",
       "      <th>1276</th>\n",
       "      <th>1277</th>\n",
       "      <th>1278</th>\n",
       "      <th>1279</th>\n",
       "      <th>1280</th>\n",
       "      <th>1292</th>\n",
       "      <th>1293</th>\n",
       "      <th>2000</th>\n",
       "    </tr>\n",
       "  </thead>\n",
       "  <tbody>\n",
       "    <tr>\n",
       "      <td>0</td>\n",
       "      <td>2288167.0</td>\n",
       "      <td>NaN</td>\n",
       "      <td>NaN</td>\n",
       "      <td>NaN</td>\n",
       "      <td>NaN</td>\n",
       "      <td>NaN</td>\n",
       "      <td>NaN</td>\n",
       "      <td>NaN</td>\n",
       "      <td>NaN</td>\n",
       "      <td>NaN</td>\n",
       "      <td>...</td>\n",
       "      <td>NaN</td>\n",
       "      <td>NaN</td>\n",
       "      <td>NaN</td>\n",
       "      <td>NaN</td>\n",
       "      <td>NaN</td>\n",
       "      <td>NaN</td>\n",
       "      <td>NaN</td>\n",
       "      <td>NaN</td>\n",
       "      <td>NaN</td>\n",
       "      <td>NaN</td>\n",
       "    </tr>\n",
       "    <tr>\n",
       "      <td>1</td>\n",
       "      <td>NaN</td>\n",
       "      <td>2288168.0</td>\n",
       "      <td>NaN</td>\n",
       "      <td>NaN</td>\n",
       "      <td>NaN</td>\n",
       "      <td>NaN</td>\n",
       "      <td>NaN</td>\n",
       "      <td>NaN</td>\n",
       "      <td>NaN</td>\n",
       "      <td>NaN</td>\n",
       "      <td>...</td>\n",
       "      <td>NaN</td>\n",
       "      <td>NaN</td>\n",
       "      <td>NaN</td>\n",
       "      <td>NaN</td>\n",
       "      <td>NaN</td>\n",
       "      <td>NaN</td>\n",
       "      <td>NaN</td>\n",
       "      <td>NaN</td>\n",
       "      <td>NaN</td>\n",
       "      <td>NaN</td>\n",
       "    </tr>\n",
       "    <tr>\n",
       "      <td>2</td>\n",
       "      <td>NaN</td>\n",
       "      <td>NaN</td>\n",
       "      <td>2288169.0</td>\n",
       "      <td>NaN</td>\n",
       "      <td>NaN</td>\n",
       "      <td>NaN</td>\n",
       "      <td>NaN</td>\n",
       "      <td>NaN</td>\n",
       "      <td>NaN</td>\n",
       "      <td>NaN</td>\n",
       "      <td>...</td>\n",
       "      <td>NaN</td>\n",
       "      <td>NaN</td>\n",
       "      <td>NaN</td>\n",
       "      <td>NaN</td>\n",
       "      <td>NaN</td>\n",
       "      <td>NaN</td>\n",
       "      <td>NaN</td>\n",
       "      <td>NaN</td>\n",
       "      <td>NaN</td>\n",
       "      <td>NaN</td>\n",
       "    </tr>\n",
       "    <tr>\n",
       "      <td>3</td>\n",
       "      <td>NaN</td>\n",
       "      <td>NaN</td>\n",
       "      <td>NaN</td>\n",
       "      <td>2288170.0</td>\n",
       "      <td>NaN</td>\n",
       "      <td>NaN</td>\n",
       "      <td>NaN</td>\n",
       "      <td>NaN</td>\n",
       "      <td>NaN</td>\n",
       "      <td>NaN</td>\n",
       "      <td>...</td>\n",
       "      <td>NaN</td>\n",
       "      <td>NaN</td>\n",
       "      <td>NaN</td>\n",
       "      <td>NaN</td>\n",
       "      <td>NaN</td>\n",
       "      <td>NaN</td>\n",
       "      <td>NaN</td>\n",
       "      <td>NaN</td>\n",
       "      <td>NaN</td>\n",
       "      <td>NaN</td>\n",
       "    </tr>\n",
       "    <tr>\n",
       "      <td>4</td>\n",
       "      <td>NaN</td>\n",
       "      <td>NaN</td>\n",
       "      <td>NaN</td>\n",
       "      <td>NaN</td>\n",
       "      <td>2288171.0</td>\n",
       "      <td>NaN</td>\n",
       "      <td>NaN</td>\n",
       "      <td>NaN</td>\n",
       "      <td>NaN</td>\n",
       "      <td>NaN</td>\n",
       "      <td>...</td>\n",
       "      <td>NaN</td>\n",
       "      <td>NaN</td>\n",
       "      <td>NaN</td>\n",
       "      <td>NaN</td>\n",
       "      <td>NaN</td>\n",
       "      <td>NaN</td>\n",
       "      <td>NaN</td>\n",
       "      <td>NaN</td>\n",
       "      <td>NaN</td>\n",
       "      <td>NaN</td>\n",
       "    </tr>\n",
       "    <tr>\n",
       "      <td>...</td>\n",
       "      <td>...</td>\n",
       "      <td>...</td>\n",
       "      <td>...</td>\n",
       "      <td>...</td>\n",
       "      <td>...</td>\n",
       "      <td>...</td>\n",
       "      <td>...</td>\n",
       "      <td>...</td>\n",
       "      <td>...</td>\n",
       "      <td>...</td>\n",
       "      <td>...</td>\n",
       "      <td>...</td>\n",
       "      <td>...</td>\n",
       "      <td>...</td>\n",
       "      <td>...</td>\n",
       "      <td>...</td>\n",
       "      <td>...</td>\n",
       "      <td>...</td>\n",
       "      <td>...</td>\n",
       "      <td>...</td>\n",
       "      <td>...</td>\n",
       "    </tr>\n",
       "    <tr>\n",
       "      <td>554835</td>\n",
       "      <td>NaN</td>\n",
       "      <td>NaN</td>\n",
       "      <td>NaN</td>\n",
       "      <td>NaN</td>\n",
       "      <td>NaN</td>\n",
       "      <td>NaN</td>\n",
       "      <td>NaN</td>\n",
       "      <td>NaN</td>\n",
       "      <td>NaN</td>\n",
       "      <td>NaN</td>\n",
       "      <td>...</td>\n",
       "      <td>NaN</td>\n",
       "      <td>NaN</td>\n",
       "      <td>NaN</td>\n",
       "      <td>NaN</td>\n",
       "      <td>G</td>\n",
       "      <td>NaN</td>\n",
       "      <td>NaN</td>\n",
       "      <td>NaN</td>\n",
       "      <td>NaN</td>\n",
       "      <td>NaN</td>\n",
       "    </tr>\n",
       "    <tr>\n",
       "      <td>554836</td>\n",
       "      <td>NaN</td>\n",
       "      <td>NaN</td>\n",
       "      <td>NaN</td>\n",
       "      <td>NaN</td>\n",
       "      <td>NaN</td>\n",
       "      <td>NaN</td>\n",
       "      <td>NaN</td>\n",
       "      <td>NaN</td>\n",
       "      <td>NaN</td>\n",
       "      <td>NaN</td>\n",
       "      <td>...</td>\n",
       "      <td>NaN</td>\n",
       "      <td>NaN</td>\n",
       "      <td>NaN</td>\n",
       "      <td>NaN</td>\n",
       "      <td>NaN</td>\n",
       "      <td>G</td>\n",
       "      <td>NaN</td>\n",
       "      <td>NaN</td>\n",
       "      <td>NaN</td>\n",
       "      <td>NaN</td>\n",
       "    </tr>\n",
       "    <tr>\n",
       "      <td>554837</td>\n",
       "      <td>NaN</td>\n",
       "      <td>NaN</td>\n",
       "      <td>NaN</td>\n",
       "      <td>NaN</td>\n",
       "      <td>NaN</td>\n",
       "      <td>NaN</td>\n",
       "      <td>NaN</td>\n",
       "      <td>NaN</td>\n",
       "      <td>NaN</td>\n",
       "      <td>NaN</td>\n",
       "      <td>...</td>\n",
       "      <td>NaN</td>\n",
       "      <td>NaN</td>\n",
       "      <td>NaN</td>\n",
       "      <td>NaN</td>\n",
       "      <td>NaN</td>\n",
       "      <td>NaN</td>\n",
       "      <td>G</td>\n",
       "      <td>NaN</td>\n",
       "      <td>NaN</td>\n",
       "      <td>NaN</td>\n",
       "    </tr>\n",
       "    <tr>\n",
       "      <td>554838</td>\n",
       "      <td>NaN</td>\n",
       "      <td>NaN</td>\n",
       "      <td>NaN</td>\n",
       "      <td>NaN</td>\n",
       "      <td>NaN</td>\n",
       "      <td>NaN</td>\n",
       "      <td>NaN</td>\n",
       "      <td>NaN</td>\n",
       "      <td>NaN</td>\n",
       "      <td>NaN</td>\n",
       "      <td>...</td>\n",
       "      <td>NaN</td>\n",
       "      <td>NaN</td>\n",
       "      <td>NaN</td>\n",
       "      <td>NaN</td>\n",
       "      <td>NaN</td>\n",
       "      <td>NaN</td>\n",
       "      <td>NaN</td>\n",
       "      <td>G</td>\n",
       "      <td>NaN</td>\n",
       "      <td>NaN</td>\n",
       "    </tr>\n",
       "    <tr>\n",
       "      <td>554839</td>\n",
       "      <td>NaN</td>\n",
       "      <td>NaN</td>\n",
       "      <td>NaN</td>\n",
       "      <td>NaN</td>\n",
       "      <td>NaN</td>\n",
       "      <td>NaN</td>\n",
       "      <td>NaN</td>\n",
       "      <td>NaN</td>\n",
       "      <td>NaN</td>\n",
       "      <td>NaN</td>\n",
       "      <td>...</td>\n",
       "      <td>NaN</td>\n",
       "      <td>NaN</td>\n",
       "      <td>NaN</td>\n",
       "      <td>NaN</td>\n",
       "      <td>NaN</td>\n",
       "      <td>NaN</td>\n",
       "      <td>NaN</td>\n",
       "      <td>NaN</td>\n",
       "      <td>G</td>\n",
       "      <td>NaN</td>\n",
       "    </tr>\n",
       "  </tbody>\n",
       "</table>\n",
       "<p>554840 rows × 325 columns</p>\n",
       "</div>"
      ],
      "text/plain": [
       "                    id                                                        \\\n",
       "nutrient_id       1003       1004       1005       1008       1018 1051 1057   \n",
       "0            2288167.0        NaN        NaN        NaN        NaN  NaN  NaN   \n",
       "1                  NaN  2288168.0        NaN        NaN        NaN  NaN  NaN   \n",
       "2                  NaN        NaN  2288169.0        NaN        NaN  NaN  NaN   \n",
       "3                  NaN        NaN        NaN  2288170.0        NaN  NaN  NaN   \n",
       "4                  NaN        NaN        NaN        NaN  2288171.0  NaN  NaN   \n",
       "...                ...        ...        ...        ...        ...  ...  ...   \n",
       "554835             NaN        NaN        NaN        NaN        NaN  NaN  NaN   \n",
       "554836             NaN        NaN        NaN        NaN        NaN  NaN  NaN   \n",
       "554837             NaN        NaN        NaN        NaN        NaN  NaN  NaN   \n",
       "554838             NaN        NaN        NaN        NaN        NaN  NaN  NaN   \n",
       "554839             NaN        NaN        NaN        NaN        NaN  NaN  NaN   \n",
       "\n",
       "                            ... unit_name                                     \\\n",
       "nutrient_id 1058 1079 1087  ...      1272 1275 1276 1277 1278 1279 1280 1292   \n",
       "0            NaN  NaN  NaN  ...       NaN  NaN  NaN  NaN  NaN  NaN  NaN  NaN   \n",
       "1            NaN  NaN  NaN  ...       NaN  NaN  NaN  NaN  NaN  NaN  NaN  NaN   \n",
       "2            NaN  NaN  NaN  ...       NaN  NaN  NaN  NaN  NaN  NaN  NaN  NaN   \n",
       "3            NaN  NaN  NaN  ...       NaN  NaN  NaN  NaN  NaN  NaN  NaN  NaN   \n",
       "4            NaN  NaN  NaN  ...       NaN  NaN  NaN  NaN  NaN  NaN  NaN  NaN   \n",
       "...          ...  ...  ...  ...       ...  ...  ...  ...  ...  ...  ...  ...   \n",
       "554835       NaN  NaN  NaN  ...       NaN  NaN  NaN  NaN    G  NaN  NaN  NaN   \n",
       "554836       NaN  NaN  NaN  ...       NaN  NaN  NaN  NaN  NaN    G  NaN  NaN   \n",
       "554837       NaN  NaN  NaN  ...       NaN  NaN  NaN  NaN  NaN  NaN    G  NaN   \n",
       "554838       NaN  NaN  NaN  ...       NaN  NaN  NaN  NaN  NaN  NaN  NaN    G   \n",
       "554839       NaN  NaN  NaN  ...       NaN  NaN  NaN  NaN  NaN  NaN  NaN  NaN   \n",
       "\n",
       "                       \n",
       "nutrient_id 1293 2000  \n",
       "0            NaN  NaN  \n",
       "1            NaN  NaN  \n",
       "2            NaN  NaN  \n",
       "3            NaN  NaN  \n",
       "4            NaN  NaN  \n",
       "...          ...  ...  \n",
       "554835       NaN  NaN  \n",
       "554836       NaN  NaN  \n",
       "554837       NaN  NaN  \n",
       "554838       NaN  NaN  \n",
       "554839         G  NaN  \n",
       "\n",
       "[554840 rows x 325 columns]"
      ]
     },
     "execution_count": 38,
     "metadata": {},
     "output_type": "execute_result"
    }
   ],
   "source": [
    "joined_df.pivot(columns='nutrient_id')"
   ]
  },
  {
   "cell_type": "code",
   "execution_count": null,
   "metadata": {},
   "outputs": [],
   "source": []
  },
  {
   "cell_type": "markdown",
   "metadata": {},
   "source": [
    "# Analysis"
   ]
  },
  {
   "cell_type": "code",
   "execution_count": 141,
   "metadata": {},
   "outputs": [],
   "source": [
    "#load the pickle file\n",
    "with open(r\"../results/products_with_link_to_nutrients_df.pickle\", \"rb\") as input_file:\n",
    "    linked_df = pickle.load(input_file)"
   ]
  },
  {
   "cell_type": "code",
   "execution_count": 143,
   "metadata": {},
   "outputs": [],
   "source": [
    "def calculate_nutrient_per_day_per_person(key1,nutrient):\n",
    "    \"\"\"\n",
    "    key = household key\n",
    "    nutrient = nutrient for which we want to calculate the amount bought\n",
    "    returns the amount of a specified nutrient bought and presumably consumed per day and per person on avergade\n",
    "    in the selected household\n",
    "    \"\"\"\n",
    "    household_transactions_df = transaction_data_df[transaction_data_df.household_key == key1]\n",
    "    \n",
    "    ids_bought_items = household_transactions_df[\"PRODUCT_ID\"]\n",
    "    household_transactions_df[nutrient] = linked_df.loc[ids_bought_items,nutrient].values\n",
    "    \n",
    "    household_transactions_df[nutrient].fillna(value=0)\n",
    "    \n",
    "    time_interval = household_transactions_df[\"DAY\"].max() - household_transactions_df[\"DAY\"].min() + 1\n",
    "    nutrient_per_household = household_transactions_df[nutrient].sum() / time_interval\n",
    "    household_demographics = hh_demographic_df[hh_demographic_df.household_key == key1]\n",
    "    nutrient_per_person = nutrient_per_household / household_demographics[\"HOUSEHOLD_SIZE_DESC\"]\n",
    "    return nutrient_per_person\n",
    "\n",
    "def parse_sex_homeowner(key):\n",
    "    str1 = hh_demographic_df[hh_demographic_df.household_key == key][\"HH_COMP_DESC\"].values[0]\n",
    "    str1 = str1.lower()\n",
    "    if str1.contains(\"female\"):\n",
    "            return \"f\"\n",
    "    elif str1.contains(\"male\"):\n",
    "            return \"m\"\n",
    "    else:\n",
    "            return \"unknown\"\n",
    "    \n",
    "#TO DO\n",
    "#caloric needs adult = 2000 kcal , kid = 1000 kcal -> take it into account"
   ]
  },
  {
   "cell_type": "code",
   "execution_count": 144,
   "metadata": {},
   "outputs": [
    {
     "data": {
      "text/plain": [
       "61.0"
      ]
     },
     "execution_count": 144,
     "metadata": {},
     "output_type": "execute_result"
    }
   ],
   "source": [
    "#It is now convenient to find the amount of a certain nutrient in a given product using it's id\n",
    "linked_df.loc[995242,\"energy\"]"
   ]
  },
  {
   "cell_type": "markdown",
   "metadata": {},
   "source": [
    "### There is only test code from this point on, nothing to keep"
   ]
  },
  {
   "cell_type": "code",
   "execution_count": 44,
   "metadata": {},
   "outputs": [
    {
     "name": "stderr",
     "output_type": "stream",
     "text": [
      "/opt/anaconda3/lib/python3.7/site-packages/ipykernel_launcher.py:11: SettingWithCopyWarning: \n",
      "A value is trying to be set on a copy of a slice from a DataFrame.\n",
      "Try using .loc[row_indexer,col_indexer] = value instead\n",
      "\n",
      "See the caveats in the documentation: http://pandas.pydata.org/pandas-docs/stable/user_guide/indexing.html#returning-a-view-versus-a-copy\n",
      "  # This is added back by InteractiveShellApp.init_path()\n"
     ]
    },
    {
     "data": {
      "text/plain": [
       "Series([], Name: HOUSEHOLD_SIZE_DESC, dtype: object)"
      ]
     },
     "execution_count": 44,
     "metadata": {},
     "output_type": "execute_result"
    }
   ],
   "source": [
    "#doesn't work because the information fdc_id is still missing\n",
    "calculate_nutrient_per_day_per_person(255,\"energy\")"
   ]
  },
  {
   "cell_type": "code",
   "execution_count": 45,
   "metadata": {},
   "outputs": [
    {
     "name": "stdout",
     "output_type": "stream",
     "text": [
      "0 ['seafood', 'shelf', 'stable', 'tuna']\n",
      "0 ['seafood', 'stable', 'tuna']\n",
      "0 ['seafood', 'tuna']\n",
      "0 ['tuna']\n"
     ]
    },
    {
     "data": {
      "text/plain": [
       "match     Fish, tuna salad\n",
       "fdc_id              175160\n",
       "Name: 23, dtype: object"
      ]
     },
     "execution_count": 45,
     "metadata": {},
     "output_type": "execute_result"
    }
   ],
   "source": [
    "test0 = ['duck','creamy','swiss','miss','pudding','24','oz']\n",
    "test1 = [\"penguin\",\"afdadf\"]\n",
    "test2 = [\"peanuts\",\"orange\",\"crisp\"]\n",
    "test3 = [\"sandwich\",\"lettuce\",\"cheese\"]\n",
    "test4 = [\"indian\",\"lamb\",\"josh\"]\n",
    "test5 = ['vanilla','creamy','swiss','miss','pudding','24','oz']\n",
    "test6 = ['libbys']\n",
    "test7 = [\"hispanic\", \"oriental\", \"noodles\",\" rice\"]\n",
    "test8 = [\"vegetables\", \"others\"]\n",
    "test9 = [\"frozen\", \"ice\", \"cream\", \"bars\"]\n",
    "test10 =[\"wolf\", \"chili\", \"without\", \"beans\"]\n",
    "test11 = [\"tropical\", \"fruit\", \"bananas\"]\n",
    "test12 = ['vegetables', 'green', 'cut']\n",
    "test13 = ['vegetables', 'shelf', 'stable', 'beans', 'green', 'fs', 'whl', 'cut']\n",
    "test14 = [\"seafood\", \"shelf\",\"stable\", \"tuna\"]\n",
    "find_food(test14, food_df, DIC_SCORE, verb = False)"
   ]
  },
  {
   "cell_type": "code",
   "execution_count": 6,
   "metadata": {},
   "outputs": [
    {
     "data": {
      "text/plain": [
       "\"# Filter out departments that contain food items\\nfood_df =  transaction_product_id_df[transaction_product_id_df['department']                                     .isin(['NUTRITION', 'GROCERY', 'PASTRY',\\n                                     'MEAT-PCKGD', 'SEAFOOD-PCKGD','PRODUCE',\\n                                     'DELI','MEAT', 'SALAD BAR','GRO BAKERY',\\n                                     'FROZEN GROCERY', 'SPIRITS', 'RESTAURANT'])]\\n\\n# rank items per sales value per household. \\n# we take top sales-value item per household and aggregate it by count \\nfood_df.groupby(['household_key','commodity_desc'])[['sales_value','quantity']].sum().sort_values(['household_key','sales_value'],ascending=False).reset_index().groupby('household_key').first().reset_index().groupby('commodity_desc')['household_key'].count().sort_values(ascending=False).head(20).plot.bar(rot=90)\\n\\nax = plt.gca()\\nax.set_title('Item of Highest Sales per Household')\\nax.set_ylabel('# households')\\n\\n\\n# Take 2 top sales_value item per household\\ntop_purchased_foods= food_df.groupby(['household_key','commodity_desc'])[['sales_value','quantity']].sum().sort_values(['household_key','sales_value'],ascending=False).reset_index().groupby('household_key').head(2).reset_index()\\ntop_purchased_foods.head()\\n\""
      ]
     },
     "execution_count": 6,
     "metadata": {},
     "output_type": "execute_result"
    }
   ],
   "source": [
    "\"\"\"# Filter out departments that contain food items\n",
    "food_df =  transaction_product_id_df[transaction_product_id_df['department']\\\n",
    "                                     .isin(['NUTRITION', 'GROCERY', 'PASTRY',\n",
    "                                     'MEAT-PCKGD', 'SEAFOOD-PCKGD','PRODUCE',\n",
    "                                     'DELI','MEAT', 'SALAD BAR','GRO BAKERY',\n",
    "                                     'FROZEN GROCERY', 'SPIRITS', 'RESTAURANT'])]\n",
    "\n",
    "# rank items per sales value per household. \n",
    "# we take top sales-value item per household and aggregate it by count \n",
    "food_df\\\n",
    ".groupby(['household_key','commodity_desc'])[['sales_value','quantity']]\\\n",
    ".sum().sort_values(['household_key','sales_value'],ascending=False).reset_index()\\\n",
    ".groupby('household_key').first().reset_index()\\\n",
    ".groupby('commodity_desc')['household_key'].count()\\\n",
    ".sort_values(ascending=False).head(20).plot.bar(rot=90)\n",
    "\n",
    "ax = plt.gca()\n",
    "ax.set_title('Item of Highest Sales per Household')\n",
    "ax.set_ylabel('# households')\n",
    "\n",
    "\n",
    "# Take 2 top sales_value item per household\n",
    "top_purchased_foods= food_df.\\\n",
    "groupby(['household_key','commodity_desc'])[['sales_value','quantity']].\\\n",
    "sum().sort_values(['household_key','sales_value'],ascending=False).reset_index().\\\n",
    "groupby('household_key').head(2).reset_index()\n",
    "top_purchased_foods.head()\n",
    "\"\"\""
   ]
  }
 ],
 "metadata": {
  "kernelspec": {
   "display_name": "Python 3",
   "language": "python",
   "name": "python3"
  },
  "language_info": {
   "codemirror_mode": {
    "name": "ipython",
    "version": 3
   },
   "file_extension": ".py",
   "mimetype": "text/x-python",
   "name": "python",
   "nbconvert_exporter": "python",
   "pygments_lexer": "ipython3",
   "version": "3.7.4"
  }
 },
 "nbformat": 4,
 "nbformat_minor": 4
}
