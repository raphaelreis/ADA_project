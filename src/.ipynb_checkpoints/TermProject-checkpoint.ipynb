{
 "cells": [
  {
   "cell_type": "markdown",
   "metadata": {},
   "source": [
    "# Nutrition Datas: Extracting trends from our customers"
   ]
  },
  {
   "cell_type": "markdown",
   "metadata": {},
   "source": [
    "<div class=\"alert alert-block alert-info\">\n",
    "Now we are done with scrapping nutrition values, we want to build the actual nutrition profile: in order to do so, we first need to first extract the mass of each article, in order to assess the total sold mass.\n",
    "</div>"
   ]
  },
  {
   "cell_type": "code",
   "execution_count": 43,
   "metadata": {},
   "outputs": [],
   "source": [
    "from __future__ import print_function\n",
    "\n",
    "%matplotlib inline\n",
    "import re\n",
    "import os\n",
    "import numpy as np\n",
    "import pandas as pd\n",
    "import seaborn as sns\n",
    "from requests import get\n",
    "from bs4 import BeautifulSoup\n",
    "import matplotlib.pyplot as plt\n",
    "import pickle\n",
    "from matplotlib.ticker import MaxNLocator\n",
    "import re\n",
    "from ipywidgets import interact, interactive, fixed, interact_manual\n",
    "import ipywidgets as widgets\n",
    "import pickle\n",
    "import sys\n",
    "sys.path.insert(1, './utilities/')\n",
    "import weight_functions as wf \n"
   ]
  },
  {
   "cell_type": "code",
   "execution_count": 44,
   "metadata": {},
   "outputs": [],
   "source": [
    "product_df = pd.read_csv('../data/dunnhumby_data/product.csv')\n",
    "transaction_data_df = pd.read_csv('../data/dunnhumby_data/transaction_data.csv')"
   ]
  },
  {
   "cell_type": "markdown",
   "metadata": {},
   "source": [
    "## Limiting our dataset"
   ]
  },
  {
   "cell_type": "code",
   "execution_count": 45,
   "metadata": {},
   "outputs": [],
   "source": [
    "food_related_arr = np.array(['NUTRITION','GROCERY','PASTRY','MEAT-PCKGD','SEAFOOD-PCKGD','PRODUCE','DELI','MEAT','SALAD BAR','GRO BAKERY','FROZEN GROCERY','SPIRITS','RESTAURANT'])\n",
    "#products related to food only\n",
    "food_product_df = product_df.loc[(product_df['DEPARTMENT'].isin(food_related_arr))]\n",
    "food_product_df = food_product_df[~food_product_df.COMMODITY_DESC.isin(['PAPER TOWELS','BATH TISSUES','LAUNDRY DETERGENTS','FD WRAPS/BAGS/TRSH BG']) ]\n",
    "\n",
    "#transaction dataset related to food only\n",
    "food_transaction_data = transaction_data_df.merge(food_product_df,how = 'inner',on = 'PRODUCT_ID')"
   ]
  },
  {
   "cell_type": "markdown",
   "metadata": {},
   "source": [
    "<div class=\"alert alert-block alert-info\">\n",
    "We analyze the quantity according to 2 metrics: \n",
    "    \n",
    "* (1) the number of times an item is bought \n",
    "* (2) the total sold mass of the item (kg)\n",
    "    \n",
    "Ideally one want to have an idea of which items are consumed the most in terms of mass, unfortunately, the mass section presents a lot of different units which are not easily parsable.\n",
    "</div>"
   ]
  },
  {
   "cell_type": "code",
   "execution_count": 46,
   "metadata": {},
   "outputs": [
    {
     "data": {
      "text/plain": [
       "array(['158.4 OZ', '3.54 OZ', '10.66 OZ', 'CR   12 OZ', '12/8 OZ',\n",
       "       '8PK/5 INCH', '10CT/22.5O', '17 OZ', '7.6 OZ.', '.812 OZ',\n",
       "       '12.48 OZ', '41.6 OZ', '*    12 OZ', '27.05 OZ', '3/.25 OZ',\n",
       "       '14.80 OZ', '8/2.25 OZ', '4  OZ', '5/7.4 OZ', '2LTR', '20 BAGS',\n",
       "       '23OZ', 'BD 8.25 OZ', '1 GAL', '3.5 INCH', '12 OZ AERO', '1.9 OZ',\n",
       "       '23.3 OZ', '3/6 OZ CAN', '4.09 OZ'], dtype=object)"
      ]
     },
     "execution_count": 46,
     "metadata": {},
     "output_type": "execute_result"
    }
   ],
   "source": [
    "#as we can see, there are a lot of different units\n",
    "units = food_transaction_data.CURR_SIZE_OF_PRODUCT.unique()\n",
    "index = np.random.choice(units.shape[0], 30, replace=False)  \n",
    "units[index]"
   ]
  },
  {
   "cell_type": "code",
   "execution_count": 47,
   "metadata": {},
   "outputs": [],
   "source": [
    "#(1) number of bought times\n",
    "food_trans_data_count = food_transaction_data[['PRODUCT_ID','QUANTITY']].copy()\n",
    "food_trans_data_count = food_trans_data_count.groupby('PRODUCT_ID')\\\n",
    "                     .sum()\\\n",
    "                     .join(product_df.set_index('PRODUCT_ID')[['COMMODITY_DESC','SUB_COMMODITY_DESC','CURR_SIZE_OF_PRODUCT']],how = 'left',on = 'PRODUCT_ID',lsuffix = '_l',rsuffix = '_r')\\\n",
    "                     .sort_values(by = 'QUANTITY',ascending = False)"
   ]
  },
  {
   "cell_type": "code",
   "execution_count": 48,
   "metadata": {},
   "outputs": [],
   "source": [
    "food_trans_data_count = food_trans_data_count.reset_index()\\\n",
    "                     .groupby(['COMMODITY_DESC','SUB_COMMODITY_DESC']).agg({'QUANTITY':'sum','PRODUCT_ID':'min','CURR_SIZE_OF_PRODUCT':'max'})\\\n",
    "                     .reset_index()\\\n",
    "                     .set_index('PRODUCT_ID')"
   ]
  },
  {
   "cell_type": "markdown",
   "metadata": {},
   "source": [
    "<div class=\"alert alert-block alert-info\">\n",
    "The idea consists thus to take the 4000 most bought items in terms of number (~70% of all sold counts) and extract their mass exclusively, since they present a less heterogeneous dataset for the mass units.\n",
    "</div>"
   ]
  },
  {
   "cell_type": "code",
   "execution_count": 70,
   "metadata": {},
   "outputs": [
    {
     "data": {
      "image/png": "[encoded data removed]",
      "text/plain": [
       "<Figure size 432x288 with 1 Axes>"
      ]
     },
     "metadata": {
      "needs_background": "light"
     },
     "output_type": "display_data"
    },
    {
     "name": "stdout",
     "output_type": "stream",
     "text": [
      "Ratio of total sells treated by treating the first 2000 samples: 0.95\n"
     ]
    }
   ],
   "source": [
    "#we restrict ourself to treat the NUM first items\n",
    "NUM = 2000\n",
    "N = food_trans_data_count.shape[0]\n",
    "fig, ax = plt.subplots(1)\n",
    "n_bins = 500\n",
    "No, bins, patches = ax.hist(food_trans_data_count.QUANTITY,bins = n_bins)\n",
    "ax.set_ylabel('items number')\n",
    "ax.set_xlabel('number of sells')\n",
    "ax.set_yscale('log')\n",
    "ax.set_title('Histogram of total sells')\n",
    "val = food_trans_data_count.QUANTITY.iloc[NUM]\n",
    "val_bin = np.digitize(val,bins)\n",
    "\n",
    "for i in range(0,val_bin):\n",
    "    patches[i].set_facecolor('r')\n",
    "for i in range(val_bin,n_bins):    \n",
    "    patches[i].set_facecolor('b')\n",
    "ax.plot([0,0],[0,0],'-b', label='untreated data')\n",
    "ax.plot([0,0],[0,0],'-r', label='treated data')\n",
    "ax.legend()\n",
    "plt.show()\n",
    "k = food_trans_data_count.iloc[:NUM].QUANTITY.values.sum()\n",
    "t = food_trans_data_count.QUANTITY.values.sum()\n",
    "ratio = k/t\n",
    "print('Ratio of total sells treated by treating the first %i samples: %.2f' % (NUM,ratio) )"
   ]
  },
  {
   "cell_type": "markdown",
   "metadata": {},
   "source": [
    "## Extracting the weight"
   ]
  },
  {
   "cell_type": "code",
   "execution_count": 66,
   "metadata": {},
   "outputs": [
    {
     "data": {
      "text/plain": [
       "<module 'weight_functions' from './utilities/weight_functions.py'>"
      ]
     },
     "execution_count": 66,
     "metadata": {},
     "output_type": "execute_result"
    }
   ],
   "source": [
    "from importlib import reload\n",
    "reload(wf)"
   ]
  },
  {
   "cell_type": "markdown",
   "metadata": {},
   "source": [
    "<div class=\"alert alert-block alert-info\">\n",
    "We now check that we indeed treat all the types of weights.\n",
    "</div>"
   ]
  },
  {
   "cell_type": "code",
   "execution_count": 104,
   "metadata": {},
   "outputs": [
    {
     "name": "stdout",
     "output_type": "stream",
     "text": [
      "List of weights not treated by the regex: ['1 BOX' '5 INCHES' 'TALL' 'LARGE' '60 GM' '7 INCH' '9 IN' '6 USE'\n",
      " '90 LOAD' '80 USE' 'BIN' '400SQ FT' '8.87 INCH' 'HD 20FT' 'SM' 'MED'\n",
      " 'REGULAR' '6 PC']\n"
     ]
    }
   ],
   "source": [
    "#check if the weight is treatable for the top4000\n",
    "top4000 = food_trans_data_count.iloc[:NUM].copy()\n",
    "cond = top4000[~top4000.CURR_SIZE_OF_PRODUCT.str.contains('^.*(?:LB|GA|DZ|OZ|OUNCE|PK|CT|LITER|LT|LTR|ML|QT|PT|PINT|QUART).*$|^\\s?$',regex=True)].CURR_SIZE_OF_PRODUCT.unique()\n",
    "print('List of weights not treated by the regex: {}'.format(cond))"
   ]
  },
  {
   "cell_type": "code",
   "execution_count": 105,
   "metadata": {},
   "outputs": [
    {
     "data": {
      "text/plain": [
       "22"
      ]
     },
     "execution_count": 105,
     "metadata": {},
     "output_type": "execute_result"
    }
   ],
   "source": [
    "def check (unit):\n",
    "    return top4000[top4000.CURR_SIZE_OF_PRODUCT.str.contains(unit)].shape[0]\n",
    "sum([check(unit) for unit in cond])"
   ]
  },
  {
   "cell_type": "code",
   "execution_count": null,
   "metadata": {},
   "outputs": [],
   "source": [
    "# fuck the shit\n",
    "top4000[top4000.]"
   ]
  },
  {
   "cell_type": "markdown",
   "metadata": {},
   "source": [
    "<div class=\"alert alert-block alert-info\">\n",
    "The followings are the units we encounter in the top 4000:\n",
    "</div>"
   ]
  },
  {
   "cell_type": "markdown",
   "metadata": {},
   "source": [
    "LB = pounds<br>\n",
    "GA = gallons<br>\n",
    "DZ = dozens (eggs)<br>\n",
    "OZ,OUNCE = ounces<br>\n",
    "PK = pack (0.33 liters)<br>\n",
    "CT = counts ==> USER INPUT<br>\n",
    "LITER LT = liters<br>\n",
    "ML = milliliters<br>\n",
    "QT = quantity ==> USER INPUT<br>\n",
    "PT = pint (0.473176473 liters)<br>"
   ]
  },
  {
   "cell_type": "markdown",
   "metadata": {},
   "source": [
    "### Weight finding\n"
   ]
  },
  {
   "cell_type": "markdown",
   "metadata": {},
   "source": [
    "<div class=\"alert alert-block alert-info\">\n",
    "Once again, regexes were used (cf weight_functions.py) in order to parse the weight and convert it in kg. All the liquids were assumed to have water-like density. You can test the tool in the following cell.\n",
    "</div>"
   ]
  },
  {
   "cell_type": "code",
   "execution_count": 262,
   "metadata": {},
   "outputs": [
    {
     "data": {
      "application/vnd.jupyter.widget-view+json": {
       "model_id": "f6c21c6344604bcdbbce2ecc42271475",
       "version_major": 2,
       "version_minor": 0
      },
      "text/plain": [
       "interactive(children=(IntSlider(value=0, description='x', max=4), Output()), _dom_classes=('widget-interact',)…"
      ]
     },
     "metadata": {},
     "output_type": "display_data"
    }
   ],
   "source": [
    "UNITS = ['LB','GA','DZ','OZ','OUNCE','PK','CT','LITER','LT','ML','QT','PT']\n",
    "\n",
    "test_weights_volumes = ['422 Lt','(600) 4OUNCE','5.323 OZ','there is 3 pint','2 CT']\n",
    "def f(x):\n",
    "    tested = test_weights_volumes[x]\n",
    "    print('Tested expression: %s .Equivalent weight computed: %.2f kg' % (tested,wf.get_weight(tested)))\n",
    "interact(f, x=widgets.IntSlider(min=0, max=len(test_weights_volumes) - 1, step=1, value=0));\n"
   ]
  },
  {
   "cell_type": "code",
   "execution_count": 263,
   "metadata": {},
   "outputs": [],
   "source": [
    "top4000['SINGLE_WEIGHT']  = top4000.CURR_SIZE_OF_PRODUCT.apply(wf.get_weight).values"
   ]
  },
  {
   "cell_type": "markdown",
   "metadata": {},
   "source": [
    "<div class=\"alert alert-block alert-info\">\n",
    "The same method is used to extract the weight of the articles.\n",
    "Unfortunately, the data whose metric is either CT,QT (quantity) or simply not present cannot easily be computed as this would require items specific weights. (a capsicon does not have the same weight as a pumpkin) \n",
    "\n",
    "We thus ask the user to estimate the weight of each item, thanks to the function start_create_single_weights.\n",
    "</div>"
   ]
  },
  {
   "cell_type": "code",
   "execution_count": 264,
   "metadata": {},
   "outputs": [
    {
     "name": "stdout",
     "output_type": "stream",
     "text": [
      "Number of non treated items: 380 on 4000 items\n"
     ]
    }
   ],
   "source": [
    "ct_count = top4000[top4000.CURR_SIZE_OF_PRODUCT.str.contains('QT')].shape[0]\n",
    "qt_count = top4000[top4000.CURR_SIZE_OF_PRODUCT.str.contains('QT')].shape[0]\n",
    "space_count = top4000[top4000.CURR_SIZE_OF_PRODUCT == ' '].shape[0]\n",
    "print('Number of non treated items: %i on %i items' % ((ct_count + qt_count + space_count),top4000.shape[0]))"
   ]
  },
  {
   "cell_type": "code",
   "execution_count": 265,
   "metadata": {},
   "outputs": [
    {
     "data": {
      "text/html": [
       "<div>\n",
       "<style scoped>\n",
       "    .dataframe tbody tr th:only-of-type {\n",
       "        vertical-align: middle;\n",
       "    }\n",
       "\n",
       "    .dataframe tbody tr th {\n",
       "        vertical-align: top;\n",
       "    }\n",
       "\n",
       "    .dataframe thead th {\n",
       "        text-align: right;\n",
       "    }\n",
       "</style>\n",
       "<table border=\"1\" class=\"dataframe\">\n",
       "  <thead>\n",
       "    <tr style=\"text-align: right;\">\n",
       "      <th></th>\n",
       "      <th>QUANTITY</th>\n",
       "      <th>COMMODITY_DESC</th>\n",
       "      <th>SUB_COMMODITY_DESC</th>\n",
       "      <th>CURR_SIZE_OF_PRODUCT</th>\n",
       "      <th>SINGLE_WEIGHT</th>\n",
       "    </tr>\n",
       "    <tr>\n",
       "      <th>PRODUCT_ID</th>\n",
       "      <th></th>\n",
       "      <th></th>\n",
       "      <th></th>\n",
       "      <th></th>\n",
       "      <th></th>\n",
       "    </tr>\n",
       "  </thead>\n",
       "  <tbody>\n",
       "    <tr>\n",
       "      <td>1039682</td>\n",
       "      <td>401</td>\n",
       "      <td>VEGETABLES SALAD</td>\n",
       "      <td>VARIETY LETTUCE</td>\n",
       "      <td>24 CT</td>\n",
       "      <td>NaN</td>\n",
       "    </tr>\n",
       "    <tr>\n",
       "      <td>863447</td>\n",
       "      <td>1261</td>\n",
       "      <td>BEEF</td>\n",
       "      <td>CHOICE BEEF</td>\n",
       "      <td></td>\n",
       "      <td>NaN</td>\n",
       "    </tr>\n",
       "    <tr>\n",
       "      <td>1117393</td>\n",
       "      <td>406</td>\n",
       "      <td>SALAD BAR</td>\n",
       "      <td>SALAD BAR FRESH FRUIT</td>\n",
       "      <td></td>\n",
       "      <td>NaN</td>\n",
       "    </tr>\n",
       "    <tr>\n",
       "      <td>994799</td>\n",
       "      <td>173</td>\n",
       "      <td>CITRUS</td>\n",
       "      <td>ORANGES NAVELS ALL</td>\n",
       "      <td></td>\n",
       "      <td>NaN</td>\n",
       "    </tr>\n",
       "  </tbody>\n",
       "</table>\n",
       "</div>"
      ],
      "text/plain": [
       "            QUANTITY    COMMODITY_DESC     SUB_COMMODITY_DESC  \\\n",
       "PRODUCT_ID                                                      \n",
       "1039682          401  VEGETABLES SALAD        VARIETY LETTUCE   \n",
       "863447          1261              BEEF            CHOICE BEEF   \n",
       "1117393          406         SALAD BAR  SALAD BAR FRESH FRUIT   \n",
       "994799           173            CITRUS     ORANGES NAVELS ALL   \n",
       "\n",
       "           CURR_SIZE_OF_PRODUCT  SINGLE_WEIGHT  \n",
       "PRODUCT_ID                                      \n",
       "1039682                   24 CT            NaN  \n",
       "863447                                     NaN  \n",
       "1117393                                    NaN  \n",
       "994799                                     NaN  "
      ]
     },
     "execution_count": 265,
     "metadata": {},
     "output_type": "execute_result"
    }
   ],
   "source": [
    "top4000[top4000.SINGLE_WEIGHT.isna()].sample(4)"
   ]
  },
  {
   "cell_type": "code",
   "execution_count": 266,
   "metadata": {},
   "outputs": [
    {
     "name": "stdout",
     "output_type": "stream",
     "text": [
      "Successful read.\n",
      "Successful read.\n",
      "Successful read.\n"
     ]
    }
   ],
   "source": [
    "single_weights_ct_df = pd.DataFrame.from_dict(wf.start_create_single_weights('CT',top4000),orient = 'index')\\\n",
    "                        .rename(columns = {0: 'SINGLE_WEIGHT'})\n",
    "single_weights_qt_df = pd.DataFrame.from_dict(wf.start_create_single_weights('QT',top4000),orient = 'index')\\\n",
    "                        .rename(columns = {0: 'SINGLE_WEIGHT'})\n",
    "single_weights_space_df = pd.DataFrame.from_dict(wf.start_create_single_weights('space',top4000),orient = 'index')\\\n",
    "                        .rename(columns = {0: 'SINGLE_WEIGHT'})"
   ]
  },
  {
   "cell_type": "code",
   "execution_count": 267,
   "metadata": {},
   "outputs": [],
   "source": [
    "top4000 = top4000.join(single_weights_ct_df,how = 'outer',rsuffix ='_r')\n",
    "top4000.SINGLE_WEIGHT.fillna(top4000.SINGLE_WEIGHT_r,inplace = True)\n",
    "top4000.drop(columns = 'SINGLE_WEIGHT_r',inplace = True)\n",
    "\n",
    "top4000 = top4000.join(single_weights_qt_df,how = 'outer',rsuffix ='_r')\n",
    "top4000.SINGLE_WEIGHT.fillna(top4000.SINGLE_WEIGHT_r,inplace = True)\n",
    "top4000.drop(columns = 'SINGLE_WEIGHT_r',inplace = True)\n",
    "\n",
    "top4000 = top4000.join(single_weights_space_df,how = 'outer',rsuffix ='_r')\n",
    "top4000.SINGLE_WEIGHT.fillna(top4000.SINGLE_WEIGHT_r,inplace = True)\n",
    "top4000.drop(columns = 'SINGLE_WEIGHT_r',inplace = True)"
   ]
  },
  {
   "cell_type": "code",
   "execution_count": 268,
   "metadata": {},
   "outputs": [
    {
     "data": {
      "text/html": [
       "<div>\n",
       "<style scoped>\n",
       "    .dataframe tbody tr th:only-of-type {\n",
       "        vertical-align: middle;\n",
       "    }\n",
       "\n",
       "    .dataframe tbody tr th {\n",
       "        vertical-align: top;\n",
       "    }\n",
       "\n",
       "    .dataframe thead th {\n",
       "        text-align: right;\n",
       "    }\n",
       "</style>\n",
       "<table border=\"1\" class=\"dataframe\">\n",
       "  <thead>\n",
       "    <tr style=\"text-align: right;\">\n",
       "      <th></th>\n",
       "      <th>QUANTITY</th>\n",
       "      <th>COMMODITY_DESC</th>\n",
       "      <th>SUB_COMMODITY_DESC</th>\n",
       "      <th>CURR_SIZE_OF_PRODUCT</th>\n",
       "      <th>SINGLE_WEIGHT</th>\n",
       "    </tr>\n",
       "  </thead>\n",
       "  <tbody>\n",
       "  </tbody>\n",
       "</table>\n",
       "</div>"
      ],
      "text/plain": [
       "Empty DataFrame\n",
       "Columns: [QUANTITY, COMMODITY_DESC, SUB_COMMODITY_DESC, CURR_SIZE_OF_PRODUCT, SINGLE_WEIGHT]\n",
       "Index: []"
      ]
     },
     "execution_count": 268,
     "metadata": {},
     "output_type": "execute_result"
    }
   ],
   "source": [
    "#we make sure that all the items now have a weight\n",
    "top4000[top4000.SINGLE_WEIGHT.isna()]"
   ]
  },
  {
   "cell_type": "code",
   "execution_count": 269,
   "metadata": {},
   "outputs": [],
   "source": [
    "top4000['TOT_WEIGHT'] = top4000.SINGLE_WEIGHT * top4000.QUANTITY\n",
    "top4000.sort_values(by = 'TOT_WEIGHT',ascending = False,inplace = True)"
   ]
  },
  {
   "cell_type": "markdown",
   "metadata": {},
   "source": [
    "## Adding the nutrition"
   ]
  },
  {
   "cell_type": "markdown",
   "metadata": {},
   "source": [
    "<div class=\"alert alert-block alert-info\">\n",
    " We can now finally try to extract the desired nutrition profile.\n",
    "</div>"
   ]
  },
  {
   "cell_type": "code",
   "execution_count": 270,
   "metadata": {},
   "outputs": [],
   "source": [
    "top4000.sort_values(by = 'TOT_WEIGHT',ascending = False, inplace = True)"
   ]
  },
  {
   "cell_type": "code",
   "execution_count": 271,
   "metadata": {},
   "outputs": [],
   "source": [
    "with open(r\"../results/dunnhumb_articles_nutriments.pickle\", \"rb\") as input_file:\n",
    "    all_nutrition = pickle.load(input_file)\n",
    "with open(r\"../results/nutriments_units.pickle\", \"rb\") as input_file:\n",
    "    nutriment_units_df = pickle.load(input_file)\n",
    "top4000 = top4000.join(all_nutrition,how = 'inner')\\\n",
    "                 .sort_values(by = 'TOT_WEIGHT',ascending = False)\\\n",
    "                 .drop(columns = ['COMMODITY_DESC','SUB_COMMODITY_DESC'])\n",
    "\n",
    "nutriments = top4000.drop(top4000.columns[np.arange(10)],axis = 1).columns.values"
   ]
  },
  {
   "cell_type": "code",
   "execution_count": 272,
   "metadata": {},
   "outputs": [
    {
     "data": {
      "application/vnd.jupyter.widget-view+json": {
       "model_id": "b1a913c365024813afdd941dbf0587d0",
       "version_major": 2,
       "version_minor": 0
      },
      "text/plain": [
       "interactive(children=(IntSlider(value=0, description='x', max=12), Output()), _dom_classes=('widget-interact',…"
      ]
     },
     "metadata": {},
     "output_type": "display_data"
    }
   ],
   "source": [
    "def g(x):\n",
    "    nutriment = nutriments[x]\n",
    "    fig,ax = plt.subplots(1)\n",
    "    #top4000[top4000.TOT_WEIGHT != 0].reset_index().head(4000).plot.bar(y = nutriment,ax = ax)\n",
    "    temp = top4000[top4000.TOT_WEIGHT != 0].reset_index().head(100)\n",
    "    sns.barplot(x = temp.index,y = temp[nutriment])\n",
    "    unit = nutriment_units_df[nutriment_units_df['name'] == nutriment].unit_name.values[0]\n",
    "    ax.set_title(nutriment)\n",
    "    ax.set_ylabel('%s %s per 100 grams' % (nutriment,unit))\n",
    "    ax.set_xlabel('items (sorted by most bought mass)')\n",
    "    empty_string_labels = ['']*len(ax.get_xticklabels())\n",
    "    ax.set_xticklabels(empty_string_labels)\n",
    "interact(g, x=widgets.IntSlider(min=0, max=len(nutriments) - 1, step=1, value=0));"
   ]
  },
  {
   "cell_type": "code",
   "execution_count": 273,
   "metadata": {},
   "outputs": [
    {
     "data": {
      "text/html": [
       "<div>\n",
       "<style scoped>\n",
       "    .dataframe tbody tr th:only-of-type {\n",
       "        vertical-align: middle;\n",
       "    }\n",
       "\n",
       "    .dataframe tbody tr th {\n",
       "        vertical-align: top;\n",
       "    }\n",
       "\n",
       "    .dataframe thead th {\n",
       "        text-align: right;\n",
       "    }\n",
       "</style>\n",
       "<table border=\"1\" class=\"dataframe\">\n",
       "  <thead>\n",
       "    <tr style=\"text-align: right;\">\n",
       "      <th></th>\n",
       "      <th>QUANTITY</th>\n",
       "      <th>CURR_SIZE_OF_PRODUCT</th>\n",
       "      <th>SINGLE_WEIGHT</th>\n",
       "      <th>TOT_WEIGHT</th>\n",
       "      <th>dunn_name</th>\n",
       "      <th>dunn_ingredients</th>\n",
       "      <th>nut_name</th>\n",
       "      <th>nut_ingredients</th>\n",
       "      <th>cholesterol</th>\n",
       "      <th>energy</th>\n",
       "      <th>...</th>\n",
       "      <th>fiber</th>\n",
       "      <th>protein</th>\n",
       "      <th>sodium</th>\n",
       "      <th>sugars</th>\n",
       "      <th>total lipid</th>\n",
       "      <th>vitamin a</th>\n",
       "      <th>vitamin b-12</th>\n",
       "      <th>vitamin b-6</th>\n",
       "      <th>vitamin e</th>\n",
       "      <th>vitamin k</th>\n",
       "    </tr>\n",
       "  </thead>\n",
       "  <tbody>\n",
       "    <tr>\n",
       "      <td>861272</td>\n",
       "      <td>1245</td>\n",
       "      <td>6 CT</td>\n",
       "      <td>0.300000</td>\n",
       "      <td>373.500000</td>\n",
       "      <td>EGGS EGGS - LARGE</td>\n",
       "      <td>[egg, larg]</td>\n",
       "      <td>Egg, Benedict</td>\n",
       "      <td>[egg, benedict]</td>\n",
       "      <td>243.0</td>\n",
       "      <td>287.0</td>\n",
       "      <td>...</td>\n",
       "      <td>0.6</td>\n",
       "      <td>12.65</td>\n",
       "      <td>489.0</td>\n",
       "      <td>0.97</td>\n",
       "      <td>22.55</td>\n",
       "      <td>206.0</td>\n",
       "      <td>0.51</td>\n",
       "      <td>0.186</td>\n",
       "      <td>0.0</td>\n",
       "      <td>3.5</td>\n",
       "    </tr>\n",
       "    <tr>\n",
       "      <td>840361</td>\n",
       "      <td>6060</td>\n",
       "      <td>1 DZ</td>\n",
       "      <td>0.600000</td>\n",
       "      <td>3636.000000</td>\n",
       "      <td>EGGS EGGS - LARGE</td>\n",
       "      <td>[egg, larg]</td>\n",
       "      <td>Egg, Benedict</td>\n",
       "      <td>[egg, benedict]</td>\n",
       "      <td>243.0</td>\n",
       "      <td>287.0</td>\n",
       "      <td>...</td>\n",
       "      <td>0.6</td>\n",
       "      <td>12.65</td>\n",
       "      <td>489.0</td>\n",
       "      <td>0.97</td>\n",
       "      <td>22.55</td>\n",
       "      <td>206.0</td>\n",
       "      <td>0.51</td>\n",
       "      <td>0.186</td>\n",
       "      <td>0.0</td>\n",
       "      <td>3.5</td>\n",
       "    </tr>\n",
       "    <tr>\n",
       "      <td>923746</td>\n",
       "      <td>5669</td>\n",
       "      <td>18 CT</td>\n",
       "      <td>0.300000</td>\n",
       "      <td>1700.700000</td>\n",
       "      <td>EGGS EGGS - LARGE</td>\n",
       "      <td>[egg, larg]</td>\n",
       "      <td>Egg, Benedict</td>\n",
       "      <td>[egg, benedict]</td>\n",
       "      <td>243.0</td>\n",
       "      <td>287.0</td>\n",
       "      <td>...</td>\n",
       "      <td>0.6</td>\n",
       "      <td>12.65</td>\n",
       "      <td>489.0</td>\n",
       "      <td>0.97</td>\n",
       "      <td>22.55</td>\n",
       "      <td>206.0</td>\n",
       "      <td>0.51</td>\n",
       "      <td>0.186</td>\n",
       "      <td>0.0</td>\n",
       "      <td>3.5</td>\n",
       "    </tr>\n",
       "    <tr>\n",
       "      <td>994928</td>\n",
       "      <td>4859</td>\n",
       "      <td>1 DZ</td>\n",
       "      <td>0.600000</td>\n",
       "      <td>2915.400000</td>\n",
       "      <td>EGGS EGGS - MEDIUM</td>\n",
       "      <td>[egg, medium]</td>\n",
       "      <td>Egg, Benedict</td>\n",
       "      <td>[egg, benedict]</td>\n",
       "      <td>243.0</td>\n",
       "      <td>287.0</td>\n",
       "      <td>...</td>\n",
       "      <td>0.6</td>\n",
       "      <td>12.65</td>\n",
       "      <td>489.0</td>\n",
       "      <td>0.97</td>\n",
       "      <td>22.55</td>\n",
       "      <td>206.0</td>\n",
       "      <td>0.51</td>\n",
       "      <td>0.186</td>\n",
       "      <td>0.0</td>\n",
       "      <td>3.5</td>\n",
       "    </tr>\n",
       "    <tr>\n",
       "      <td>981760</td>\n",
       "      <td>11229</td>\n",
       "      <td>1 DZ</td>\n",
       "      <td>0.600000</td>\n",
       "      <td>6737.400000</td>\n",
       "      <td>EGGS EGGS - X-LARGE</td>\n",
       "      <td>[egg, larg]</td>\n",
       "      <td>Egg, Benedict</td>\n",
       "      <td>[egg, benedict]</td>\n",
       "      <td>243.0</td>\n",
       "      <td>287.0</td>\n",
       "      <td>...</td>\n",
       "      <td>0.6</td>\n",
       "      <td>12.65</td>\n",
       "      <td>489.0</td>\n",
       "      <td>0.97</td>\n",
       "      <td>22.55</td>\n",
       "      <td>206.0</td>\n",
       "      <td>0.51</td>\n",
       "      <td>0.186</td>\n",
       "      <td>0.0</td>\n",
       "      <td>3.5</td>\n",
       "    </tr>\n",
       "    <tr>\n",
       "      <td>907014</td>\n",
       "      <td>3210</td>\n",
       "      <td>8 1/2 OZ</td>\n",
       "      <td>0.056699</td>\n",
       "      <td>182.003790</td>\n",
       "      <td>BAKING MIXES MUFFIN &amp; CORN BREAD MIX</td>\n",
       "      <td>[bake, mix, muffin, corn, bread]</td>\n",
       "      <td>Lobster with bread stuffing, baked</td>\n",
       "      <td>[lobster, bread, stuf, bake]</td>\n",
       "      <td>119.0</td>\n",
       "      <td>175.0</td>\n",
       "      <td>...</td>\n",
       "      <td>0.6</td>\n",
       "      <td>14.85</td>\n",
       "      <td>659.0</td>\n",
       "      <td>1.23</td>\n",
       "      <td>8.20</td>\n",
       "      <td>59.0</td>\n",
       "      <td>1.00</td>\n",
       "      <td>0.096</td>\n",
       "      <td>0.0</td>\n",
       "      <td>0.7</td>\n",
       "    </tr>\n",
       "    <tr>\n",
       "      <td>1071939</td>\n",
       "      <td>3921</td>\n",
       "      <td>L     8 OZ</td>\n",
       "      <td>0.226796</td>\n",
       "      <td>889.267116</td>\n",
       "      <td>CHEESE CREAM CHEESE</td>\n",
       "      <td>[chees, cream]</td>\n",
       "      <td>Cheese, cream</td>\n",
       "      <td>[chees, cream]</td>\n",
       "      <td>101.0</td>\n",
       "      <td>350.0</td>\n",
       "      <td>...</td>\n",
       "      <td>0.0</td>\n",
       "      <td>6.15</td>\n",
       "      <td>314.0</td>\n",
       "      <td>3.76</td>\n",
       "      <td>34.44</td>\n",
       "      <td>308.0</td>\n",
       "      <td>0.22</td>\n",
       "      <td>0.056</td>\n",
       "      <td>0.0</td>\n",
       "      <td>2.1</td>\n",
       "    </tr>\n",
       "    <tr>\n",
       "      <td>993638</td>\n",
       "      <td>1066</td>\n",
       "      <td></td>\n",
       "      <td>0.300000</td>\n",
       "      <td>319.800000</td>\n",
       "      <td>CHICKEN/POULTRY CHIX:FRD 8PC/CUT UP (HOT)</td>\n",
       "      <td>[chicken, poultri, chix, frd, hot]</td>\n",
       "      <td>Frankfurter or hot dog, chicken</td>\n",
       "      <td>[frankfurt, hot, dog, chicken]</td>\n",
       "      <td>101.0</td>\n",
       "      <td>228.0</td>\n",
       "      <td>...</td>\n",
       "      <td>0.0</td>\n",
       "      <td>16.50</td>\n",
       "      <td>1038.0</td>\n",
       "      <td>3.17</td>\n",
       "      <td>16.16</td>\n",
       "      <td>0.0</td>\n",
       "      <td>0.49</td>\n",
       "      <td>0.275</td>\n",
       "      <td>0.0</td>\n",
       "      <td>0.0</td>\n",
       "    </tr>\n",
       "    <tr>\n",
       "      <td>914190</td>\n",
       "      <td>4093</td>\n",
       "      <td>L      8OZ</td>\n",
       "      <td>0.226796</td>\n",
       "      <td>928.276028</td>\n",
       "      <td>CHEESE CREAM CHEESE</td>\n",
       "      <td>[chees, cream]</td>\n",
       "      <td>Cheese, cream</td>\n",
       "      <td>[chees, cream]</td>\n",
       "      <td>101.0</td>\n",
       "      <td>350.0</td>\n",
       "      <td>...</td>\n",
       "      <td>0.0</td>\n",
       "      <td>6.15</td>\n",
       "      <td>314.0</td>\n",
       "      <td>3.76</td>\n",
       "      <td>34.44</td>\n",
       "      <td>308.0</td>\n",
       "      <td>0.22</td>\n",
       "      <td>0.056</td>\n",
       "      <td>0.0</td>\n",
       "      <td>2.1</td>\n",
       "    </tr>\n",
       "    <tr>\n",
       "      <td>861445</td>\n",
       "      <td>1167</td>\n",
       "      <td></td>\n",
       "      <td>0.300000</td>\n",
       "      <td>350.100000</td>\n",
       "      <td>CHICKEN/POULTRY CHIX: VALUE ADDED (HOT)</td>\n",
       "      <td>[chicken, poultri, chix, valu, hot]</td>\n",
       "      <td>Frankfurter or hot dog, chicken</td>\n",
       "      <td>[frankfurt, hot, dog, chicken]</td>\n",
       "      <td>101.0</td>\n",
       "      <td>228.0</td>\n",
       "      <td>...</td>\n",
       "      <td>0.0</td>\n",
       "      <td>16.50</td>\n",
       "      <td>1038.0</td>\n",
       "      <td>3.17</td>\n",
       "      <td>16.16</td>\n",
       "      <td>0.0</td>\n",
       "      <td>0.49</td>\n",
       "      <td>0.275</td>\n",
       "      <td>0.0</td>\n",
       "      <td>0.0</td>\n",
       "    </tr>\n",
       "  </tbody>\n",
       "</table>\n",
       "<p>10 rows × 23 columns</p>\n",
       "</div>"
      ],
      "text/plain": [
       "         QUANTITY CURR_SIZE_OF_PRODUCT  SINGLE_WEIGHT   TOT_WEIGHT  \\\n",
       "861272       1245                 6 CT       0.300000   373.500000   \n",
       "840361       6060                 1 DZ       0.600000  3636.000000   \n",
       "923746       5669                18 CT       0.300000  1700.700000   \n",
       "994928       4859                 1 DZ       0.600000  2915.400000   \n",
       "981760      11229                 1 DZ       0.600000  6737.400000   \n",
       "907014       3210             8 1/2 OZ       0.056699   182.003790   \n",
       "1071939      3921           L     8 OZ       0.226796   889.267116   \n",
       "993638       1066                            0.300000   319.800000   \n",
       "914190       4093           L      8OZ       0.226796   928.276028   \n",
       "861445       1167                            0.300000   350.100000   \n",
       "\n",
       "                                         dunn_name  \\\n",
       "861272                           EGGS EGGS - LARGE   \n",
       "840361                           EGGS EGGS - LARGE   \n",
       "923746                           EGGS EGGS - LARGE   \n",
       "994928                          EGGS EGGS - MEDIUM   \n",
       "981760                         EGGS EGGS - X-LARGE   \n",
       "907014        BAKING MIXES MUFFIN & CORN BREAD MIX   \n",
       "1071939                        CHEESE CREAM CHEESE   \n",
       "993638   CHICKEN/POULTRY CHIX:FRD 8PC/CUT UP (HOT)   \n",
       "914190                         CHEESE CREAM CHEESE   \n",
       "861445     CHICKEN/POULTRY CHIX: VALUE ADDED (HOT)   \n",
       "\n",
       "                            dunn_ingredients  \\\n",
       "861272                           [egg, larg]   \n",
       "840361                           [egg, larg]   \n",
       "923746                           [egg, larg]   \n",
       "994928                         [egg, medium]   \n",
       "981760                           [egg, larg]   \n",
       "907014      [bake, mix, muffin, corn, bread]   \n",
       "1071939                       [chees, cream]   \n",
       "993638    [chicken, poultri, chix, frd, hot]   \n",
       "914190                        [chees, cream]   \n",
       "861445   [chicken, poultri, chix, valu, hot]   \n",
       "\n",
       "                                   nut_name                 nut_ingredients  \\\n",
       "861272                        Egg, Benedict                 [egg, benedict]   \n",
       "840361                        Egg, Benedict                 [egg, benedict]   \n",
       "923746                        Egg, Benedict                 [egg, benedict]   \n",
       "994928                        Egg, Benedict                 [egg, benedict]   \n",
       "981760                        Egg, Benedict                 [egg, benedict]   \n",
       "907014   Lobster with bread stuffing, baked    [lobster, bread, stuf, bake]   \n",
       "1071939                       Cheese, cream                  [chees, cream]   \n",
       "993638      Frankfurter or hot dog, chicken  [frankfurt, hot, dog, chicken]   \n",
       "914190                        Cheese, cream                  [chees, cream]   \n",
       "861445      Frankfurter or hot dog, chicken  [frankfurt, hot, dog, chicken]   \n",
       "\n",
       "         cholesterol  energy  ...  fiber  protein  sodium  sugars  \\\n",
       "861272         243.0   287.0  ...    0.6    12.65   489.0    0.97   \n",
       "840361         243.0   287.0  ...    0.6    12.65   489.0    0.97   \n",
       "923746         243.0   287.0  ...    0.6    12.65   489.0    0.97   \n",
       "994928         243.0   287.0  ...    0.6    12.65   489.0    0.97   \n",
       "981760         243.0   287.0  ...    0.6    12.65   489.0    0.97   \n",
       "907014         119.0   175.0  ...    0.6    14.85   659.0    1.23   \n",
       "1071939        101.0   350.0  ...    0.0     6.15   314.0    3.76   \n",
       "993638         101.0   228.0  ...    0.0    16.50  1038.0    3.17   \n",
       "914190         101.0   350.0  ...    0.0     6.15   314.0    3.76   \n",
       "861445         101.0   228.0  ...    0.0    16.50  1038.0    3.17   \n",
       "\n",
       "         total lipid  vitamin a  vitamin b-12  vitamin b-6  vitamin e  \\\n",
       "861272         22.55      206.0          0.51        0.186        0.0   \n",
       "840361         22.55      206.0          0.51        0.186        0.0   \n",
       "923746         22.55      206.0          0.51        0.186        0.0   \n",
       "994928         22.55      206.0          0.51        0.186        0.0   \n",
       "981760         22.55      206.0          0.51        0.186        0.0   \n",
       "907014          8.20       59.0          1.00        0.096        0.0   \n",
       "1071939        34.44      308.0          0.22        0.056        0.0   \n",
       "993638         16.16        0.0          0.49        0.275        0.0   \n",
       "914190         34.44      308.0          0.22        0.056        0.0   \n",
       "861445         16.16        0.0          0.49        0.275        0.0   \n",
       "\n",
       "         vitamin k  \n",
       "861272         3.5  \n",
       "840361         3.5  \n",
       "923746         3.5  \n",
       "994928         3.5  \n",
       "981760         3.5  \n",
       "907014         0.7  \n",
       "1071939        2.1  \n",
       "993638         0.0  \n",
       "914190         2.1  \n",
       "861445         0.0  \n",
       "\n",
       "[10 rows x 23 columns]"
      ]
     },
     "execution_count": 273,
     "metadata": {},
     "output_type": "execute_result"
    }
   ],
   "source": [
    "top4000.sort_values(by = 'cholesterol',ascending = False).head(100)"
   ]
  },
  {
   "cell_type": "code",
   "execution_count": null,
   "metadata": {},
   "outputs": [],
   "source": []
  }
 ],
 "metadata": {
  "kernelspec": {
   "display_name": "Python 3",
   "language": "python",
   "name": "python3"
  },
  "language_info": {
   "codemirror_mode": {
    "name": "ipython",
    "version": 3
   },
   "file_extension": ".py",
   "mimetype": "text/x-python",
   "name": "python",
   "nbconvert_exporter": "python",
   "pygments_lexer": "ipython3",
   "version": "3.7.4"
  }
 },
 "nbformat": 4,
 "nbformat_minor": 4
}
