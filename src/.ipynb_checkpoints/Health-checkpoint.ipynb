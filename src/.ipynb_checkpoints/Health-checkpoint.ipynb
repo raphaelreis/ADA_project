{
 "cells": [
  {
   "cell_type": "code",
   "execution_count": 1,
   "metadata": {},
   "outputs": [],
   "source": [
    "%matplotlib inline\n",
    "import re\n",
    "import os\n",
    "import numpy as np\n",
    "import pandas as pd\n",
    "import seaborn as sns\n",
    "import nltk\n",
    "from requests import get\n",
    "from bs4 import BeautifulSoup\n",
    "import matplotlib.pyplot as plt\n",
    "from matplotlib.ticker import MaxNLocator\n",
    "\n",
    "from IPython.core.display import SVG"
   ]
  },
  {
   "cell_type": "code",
   "execution_count": 2,
   "metadata": {},
   "outputs": [],
   "source": [
    "DUNNHUMBY_PATH = '../data/dunnhumby - The Complete Journey CSV/'"
   ]
  },
  {
   "cell_type": "code",
   "execution_count": 3,
   "metadata": {},
   "outputs": [
    {
     "name": "stderr",
     "output_type": "stream",
     "text": [
      "[nltk_data] Downloading package stopwords to\n",
      "[nltk_data]     /Users/jerome/nltk_data...\n",
      "[nltk_data]   Unzipping corpora/stopwords.zip.\n"
     ]
    }
   ],
   "source": [
    "nltk.download('stopwords')\n",
    "from nltk.corpus import stopwords \n",
    "STOP_WORDS = list(set(stopwords.words('english')))\n",
    "STOP_WORDS.append('NFS')"
   ]
  },
  {
   "cell_type": "markdown",
   "metadata": {},
   "source": [
    "# Import Data"
   ]
  },
  {
   "cell_type": "code",
   "execution_count": 65,
   "metadata": {},
   "outputs": [],
   "source": [
    "products_df =  pd.read_csv(os.path.join(DUNNHUMBY_PATH,\"product.csv\"))"
   ]
  },
  {
   "cell_type": "code",
   "execution_count": 66,
   "metadata": {},
   "outputs": [
    {
     "data": {
      "text/html": [
       "<div>\n",
       "<style scoped>\n",
       "    .dataframe tbody tr th:only-of-type {\n",
       "        vertical-align: middle;\n",
       "    }\n",
       "\n",
       "    .dataframe tbody tr th {\n",
       "        vertical-align: top;\n",
       "    }\n",
       "\n",
       "    .dataframe thead th {\n",
       "        text-align: right;\n",
       "    }\n",
       "</style>\n",
       "<table border=\"1\" class=\"dataframe\">\n",
       "  <thead>\n",
       "    <tr style=\"text-align: right;\">\n",
       "      <th></th>\n",
       "      <th>PRODUCT_ID</th>\n",
       "      <th>MANUFACTURER</th>\n",
       "      <th>DEPARTMENT</th>\n",
       "      <th>BRAND</th>\n",
       "      <th>COMMODITY_DESC</th>\n",
       "      <th>SUB_COMMODITY_DESC</th>\n",
       "      <th>CURR_SIZE_OF_PRODUCT</th>\n",
       "    </tr>\n",
       "  </thead>\n",
       "  <tbody>\n",
       "    <tr>\n",
       "      <td>52682</td>\n",
       "      <td>5566545</td>\n",
       "      <td>407</td>\n",
       "      <td>GROCERY</td>\n",
       "      <td>National</td>\n",
       "      <td>VEGETABLES - SHELF STABLE</td>\n",
       "      <td>TOMATOES: STEWED/DICED/CRMD</td>\n",
       "      <td>14.5 OZ</td>\n",
       "    </tr>\n",
       "    <tr>\n",
       "      <td>53240</td>\n",
       "      <td>5570325</td>\n",
       "      <td>1282</td>\n",
       "      <td>DRUG GM</td>\n",
       "      <td>National</td>\n",
       "      <td>BABY FOODS</td>\n",
       "      <td>BABY FOOD - BEGINNER</td>\n",
       "      <td></td>\n",
       "    </tr>\n",
       "    <tr>\n",
       "      <td>20357</td>\n",
       "      <td>946166</td>\n",
       "      <td>2496</td>\n",
       "      <td>GROCERY</td>\n",
       "      <td>National</td>\n",
       "      <td>DOMESTIC WINE</td>\n",
       "      <td>VALUE GLASS WINE</td>\n",
       "      <td>3 LTR</td>\n",
       "    </tr>\n",
       "    <tr>\n",
       "      <td>44585</td>\n",
       "      <td>1384886</td>\n",
       "      <td>181</td>\n",
       "      <td>GROCERY</td>\n",
       "      <td>National</td>\n",
       "      <td>DRY BN/VEG/POTATO/RICE</td>\n",
       "      <td>RICE SIDE DISH MIXES DRY</td>\n",
       "      <td>4.9 OZ</td>\n",
       "    </tr>\n",
       "    <tr>\n",
       "      <td>45470</td>\n",
       "      <td>1496715</td>\n",
       "      <td>71</td>\n",
       "      <td>GROCERY</td>\n",
       "      <td>National</td>\n",
       "      <td>MARGARINES</td>\n",
       "      <td>MARGARINE: TUBS AND BOWLS</td>\n",
       "      <td>15 OZ</td>\n",
       "    </tr>\n",
       "    <tr>\n",
       "      <td>29636</td>\n",
       "      <td>1029616</td>\n",
       "      <td>317</td>\n",
       "      <td>GROCERY</td>\n",
       "      <td>National</td>\n",
       "      <td>SALD DRSNG/SNDWCH SPRD</td>\n",
       "      <td>POURABLE SALAD DRESSINGS</td>\n",
       "      <td>16 OZ</td>\n",
       "    </tr>\n",
       "    <tr>\n",
       "      <td>85040</td>\n",
       "      <td>13940278</td>\n",
       "      <td>69</td>\n",
       "      <td>PRODUCE</td>\n",
       "      <td>Private</td>\n",
       "      <td>NUTS</td>\n",
       "      <td>PECANS SHELLED</td>\n",
       "      <td>16OZ</td>\n",
       "    </tr>\n",
       "    <tr>\n",
       "      <td>75072</td>\n",
       "      <td>12263466</td>\n",
       "      <td>6301</td>\n",
       "      <td>DRUG GM</td>\n",
       "      <td>National</td>\n",
       "      <td>CANDLES/ACCESSORIES</td>\n",
       "      <td>CANDLES</td>\n",
       "      <td>16 OUNCE</td>\n",
       "    </tr>\n",
       "    <tr>\n",
       "      <td>28198</td>\n",
       "      <td>1016592</td>\n",
       "      <td>4951</td>\n",
       "      <td>DRUG GM</td>\n",
       "      <td>National</td>\n",
       "      <td>ANALGESICS</td>\n",
       "      <td>ADULT ANALGESICS</td>\n",
       "      <td></td>\n",
       "    </tr>\n",
       "    <tr>\n",
       "      <td>42550</td>\n",
       "      <td>1194630</td>\n",
       "      <td>227</td>\n",
       "      <td>GROCERY</td>\n",
       "      <td>National</td>\n",
       "      <td>LAUNDRY ADDITIVES</td>\n",
       "      <td>DRY &amp; SPRAY STARCH</td>\n",
       "      <td>10 OZ</td>\n",
       "    </tr>\n",
       "    <tr>\n",
       "      <td>66142</td>\n",
       "      <td>9396639</td>\n",
       "      <td>2223</td>\n",
       "      <td>GROCERY</td>\n",
       "      <td>National</td>\n",
       "      <td>BAG SNACKS</td>\n",
       "      <td>MISC BAG SNACKS</td>\n",
       "      <td>6 OZ</td>\n",
       "    </tr>\n",
       "    <tr>\n",
       "      <td>69982</td>\n",
       "      <td>9836286</td>\n",
       "      <td>950</td>\n",
       "      <td>DRUG GM</td>\n",
       "      <td>National</td>\n",
       "      <td>CHARCOAL AND LIGHTER FLUID</td>\n",
       "      <td>FIREWOOD</td>\n",
       "      <td>6/3.5 LB</td>\n",
       "    </tr>\n",
       "    <tr>\n",
       "      <td>77804</td>\n",
       "      <td>12604463</td>\n",
       "      <td>895</td>\n",
       "      <td>DRUG GM</td>\n",
       "      <td>Private</td>\n",
       "      <td>CHRISTMAS  SEASONAL</td>\n",
       "      <td>OUTDOOR</td>\n",
       "      <td>48 IN</td>\n",
       "    </tr>\n",
       "    <tr>\n",
       "      <td>17712</td>\n",
       "      <td>923239</td>\n",
       "      <td>2516</td>\n",
       "      <td>NUTRITION</td>\n",
       "      <td>National</td>\n",
       "      <td>PACKAGED NATURAL SNACKS</td>\n",
       "      <td>TRAIL MIXES</td>\n",
       "      <td>5.5 OZ</td>\n",
       "    </tr>\n",
       "    <tr>\n",
       "      <td>45601</td>\n",
       "      <td>1524867</td>\n",
       "      <td>69</td>\n",
       "      <td>GROCERY</td>\n",
       "      <td>Private</td>\n",
       "      <td>FRZN VEGETABLE/VEG DSH</td>\n",
       "      <td>FRZN BOXED VEGETABLES - PLAIN</td>\n",
       "      <td>10 OZ</td>\n",
       "    </tr>\n",
       "    <tr>\n",
       "      <td>1574</td>\n",
       "      <td>84372</td>\n",
       "      <td>638</td>\n",
       "      <td>GROCERY</td>\n",
       "      <td>National</td>\n",
       "      <td>FROZEN PIE/DESSERTS</td>\n",
       "      <td>FROZEN FRUIT PIES  &amp; COBBLERS</td>\n",
       "      <td>37 OZ</td>\n",
       "    </tr>\n",
       "    <tr>\n",
       "      <td>24795</td>\n",
       "      <td>986340</td>\n",
       "      <td>937</td>\n",
       "      <td>DRUG GM</td>\n",
       "      <td>National</td>\n",
       "      <td>HAIR CARE ACCESSORIES</td>\n",
       "      <td>MISC. HAIR &amp; BEAUTY ACCESS.</td>\n",
       "      <td></td>\n",
       "    </tr>\n",
       "    <tr>\n",
       "      <td>23027</td>\n",
       "      <td>970028</td>\n",
       "      <td>69</td>\n",
       "      <td>GROCERY</td>\n",
       "      <td>Private</td>\n",
       "      <td>FRZN MEAT/MEAT DINNERS</td>\n",
       "      <td>FROZEN PASTA</td>\n",
       "      <td>19 OZ</td>\n",
       "    </tr>\n",
       "    <tr>\n",
       "      <td>86413</td>\n",
       "      <td>15455667</td>\n",
       "      <td>181</td>\n",
       "      <td>GROCERY</td>\n",
       "      <td>National</td>\n",
       "      <td>DRY BN/VEG/POTATO/RICE</td>\n",
       "      <td>RICE SIDE DISH MIXES DRY</td>\n",
       "      <td>4.6 OZ</td>\n",
       "    </tr>\n",
       "    <tr>\n",
       "      <td>35631</td>\n",
       "      <td>1082627</td>\n",
       "      <td>2</td>\n",
       "      <td>GROCERY</td>\n",
       "      <td>National</td>\n",
       "      <td>SOFT DRINKS</td>\n",
       "      <td>SOFT DRINKS 20PK&amp;24PK CAN CARB</td>\n",
       "      <td>12 OZ</td>\n",
       "    </tr>\n",
       "    <tr>\n",
       "      <td>82793</td>\n",
       "      <td>13411684</td>\n",
       "      <td>69</td>\n",
       "      <td>GROCERY</td>\n",
       "      <td>Private</td>\n",
       "      <td>CRACKERS/MISC BKD FD</td>\n",
       "      <td>CHEESE CRACKERS (CHEEZ-ITS/GOL</td>\n",
       "      <td>8 OZ</td>\n",
       "    </tr>\n",
       "    <tr>\n",
       "      <td>68582</td>\n",
       "      <td>9655461</td>\n",
       "      <td>1621</td>\n",
       "      <td>DRUG GM</td>\n",
       "      <td>National</td>\n",
       "      <td>EASTER</td>\n",
       "      <td>EASTER EGG COLORING</td>\n",
       "      <td></td>\n",
       "    </tr>\n",
       "    <tr>\n",
       "      <td>4774</td>\n",
       "      <td>616188</td>\n",
       "      <td>69</td>\n",
       "      <td>GROCERY</td>\n",
       "      <td>Private</td>\n",
       "      <td>FRZN FRUITS</td>\n",
       "      <td>FROZEN FRUIT</td>\n",
       "      <td>4 LB</td>\n",
       "    </tr>\n",
       "    <tr>\n",
       "      <td>45328</td>\n",
       "      <td>1469767</td>\n",
       "      <td>1276</td>\n",
       "      <td>GROCERY</td>\n",
       "      <td>National</td>\n",
       "      <td>ISOTONIC DRINKS</td>\n",
       "      <td>ISOTONIC DRINKS SINGLE SERVE</td>\n",
       "      <td>32 OZ</td>\n",
       "    </tr>\n",
       "    <tr>\n",
       "      <td>74807</td>\n",
       "      <td>12194471</td>\n",
       "      <td>159</td>\n",
       "      <td>GROCERY</td>\n",
       "      <td>National</td>\n",
       "      <td>BAKED BREAD/BUNS/ROLLS</td>\n",
       "      <td>PREMIUM BREAD</td>\n",
       "      <td>24 OZ</td>\n",
       "    </tr>\n",
       "    <tr>\n",
       "      <td>6320</td>\n",
       "      <td>823375</td>\n",
       "      <td>2549</td>\n",
       "      <td>GROCERY</td>\n",
       "      <td>National</td>\n",
       "      <td>IMPORTED WINE</td>\n",
       "      <td>ITALIAN WINES</td>\n",
       "      <td>1.5 LTR</td>\n",
       "    </tr>\n",
       "    <tr>\n",
       "      <td>53835</td>\n",
       "      <td>5582454</td>\n",
       "      <td>336</td>\n",
       "      <td>DRUG GM</td>\n",
       "      <td>National</td>\n",
       "      <td>TOYS AND GAMES</td>\n",
       "      <td>GREAT GIFTS</td>\n",
       "      <td></td>\n",
       "    </tr>\n",
       "    <tr>\n",
       "      <td>78695</td>\n",
       "      <td>12698383</td>\n",
       "      <td>5009</td>\n",
       "      <td>DRUG GM</td>\n",
       "      <td>National</td>\n",
       "      <td>ANTACIDS</td>\n",
       "      <td>ANTI-ACIDS</td>\n",
       "      <td>60 CT</td>\n",
       "    </tr>\n",
       "    <tr>\n",
       "      <td>51037</td>\n",
       "      <td>2616385</td>\n",
       "      <td>3490</td>\n",
       "      <td>MEAT</td>\n",
       "      <td>National</td>\n",
       "      <td>PORK</td>\n",
       "      <td>ENHANCED</td>\n",
       "      <td></td>\n",
       "    </tr>\n",
       "    <tr>\n",
       "      <td>13198</td>\n",
       "      <td>883681</td>\n",
       "      <td>58</td>\n",
       "      <td>DRUG GM</td>\n",
       "      <td>National</td>\n",
       "      <td>CANDY - PACKAGED</td>\n",
       "      <td>CANDY BAGS-NON CHOCOLATE</td>\n",
       "      <td>10.8 OZ</td>\n",
       "    </tr>\n",
       "  </tbody>\n",
       "</table>\n",
       "</div>"
      ],
      "text/plain": [
       "       PRODUCT_ID  MANUFACTURER DEPARTMENT     BRAND  \\\n",
       "52682     5566545           407    GROCERY  National   \n",
       "53240     5570325          1282    DRUG GM  National   \n",
       "20357      946166          2496    GROCERY  National   \n",
       "44585     1384886           181    GROCERY  National   \n",
       "45470     1496715            71    GROCERY  National   \n",
       "29636     1029616           317    GROCERY  National   \n",
       "85040    13940278            69    PRODUCE   Private   \n",
       "75072    12263466          6301    DRUG GM  National   \n",
       "28198     1016592          4951    DRUG GM  National   \n",
       "42550     1194630           227    GROCERY  National   \n",
       "66142     9396639          2223    GROCERY  National   \n",
       "69982     9836286           950    DRUG GM  National   \n",
       "77804    12604463           895    DRUG GM   Private   \n",
       "17712      923239          2516  NUTRITION  National   \n",
       "45601     1524867            69    GROCERY   Private   \n",
       "1574        84372           638    GROCERY  National   \n",
       "24795      986340           937    DRUG GM  National   \n",
       "23027      970028            69    GROCERY   Private   \n",
       "86413    15455667           181    GROCERY  National   \n",
       "35631     1082627             2    GROCERY  National   \n",
       "82793    13411684            69    GROCERY   Private   \n",
       "68582     9655461          1621    DRUG GM  National   \n",
       "4774       616188            69    GROCERY   Private   \n",
       "45328     1469767          1276    GROCERY  National   \n",
       "74807    12194471           159    GROCERY  National   \n",
       "6320       823375          2549    GROCERY  National   \n",
       "53835     5582454           336    DRUG GM  National   \n",
       "78695    12698383          5009    DRUG GM  National   \n",
       "51037     2616385          3490       MEAT  National   \n",
       "13198      883681            58    DRUG GM  National   \n",
       "\n",
       "                   COMMODITY_DESC              SUB_COMMODITY_DESC  \\\n",
       "52682   VEGETABLES - SHELF STABLE     TOMATOES: STEWED/DICED/CRMD   \n",
       "53240                  BABY FOODS            BABY FOOD - BEGINNER   \n",
       "20357               DOMESTIC WINE                VALUE GLASS WINE   \n",
       "44585      DRY BN/VEG/POTATO/RICE        RICE SIDE DISH MIXES DRY   \n",
       "45470                  MARGARINES       MARGARINE: TUBS AND BOWLS   \n",
       "29636      SALD DRSNG/SNDWCH SPRD        POURABLE SALAD DRESSINGS   \n",
       "85040                        NUTS                  PECANS SHELLED   \n",
       "75072         CANDLES/ACCESSORIES                         CANDLES   \n",
       "28198                  ANALGESICS                ADULT ANALGESICS   \n",
       "42550           LAUNDRY ADDITIVES              DRY & SPRAY STARCH   \n",
       "66142                  BAG SNACKS                 MISC BAG SNACKS   \n",
       "69982  CHARCOAL AND LIGHTER FLUID                        FIREWOOD   \n",
       "77804         CHRISTMAS  SEASONAL                         OUTDOOR   \n",
       "17712     PACKAGED NATURAL SNACKS                     TRAIL MIXES   \n",
       "45601      FRZN VEGETABLE/VEG DSH   FRZN BOXED VEGETABLES - PLAIN   \n",
       "1574          FROZEN PIE/DESSERTS   FROZEN FRUIT PIES  & COBBLERS   \n",
       "24795       HAIR CARE ACCESSORIES     MISC. HAIR & BEAUTY ACCESS.   \n",
       "23027      FRZN MEAT/MEAT DINNERS                    FROZEN PASTA   \n",
       "86413      DRY BN/VEG/POTATO/RICE        RICE SIDE DISH MIXES DRY   \n",
       "35631                 SOFT DRINKS  SOFT DRINKS 20PK&24PK CAN CARB   \n",
       "82793        CRACKERS/MISC BKD FD  CHEESE CRACKERS (CHEEZ-ITS/GOL   \n",
       "68582                      EASTER             EASTER EGG COLORING   \n",
       "4774                  FRZN FRUITS                    FROZEN FRUIT   \n",
       "45328             ISOTONIC DRINKS    ISOTONIC DRINKS SINGLE SERVE   \n",
       "74807      BAKED BREAD/BUNS/ROLLS                   PREMIUM BREAD   \n",
       "6320                IMPORTED WINE                   ITALIAN WINES   \n",
       "53835              TOYS AND GAMES                     GREAT GIFTS   \n",
       "78695                    ANTACIDS                      ANTI-ACIDS   \n",
       "51037                        PORK                        ENHANCED   \n",
       "13198            CANDY - PACKAGED        CANDY BAGS-NON CHOCOLATE   \n",
       "\n",
       "      CURR_SIZE_OF_PRODUCT  \n",
       "52682              14.5 OZ  \n",
       "53240                       \n",
       "20357                3 LTR  \n",
       "44585               4.9 OZ  \n",
       "45470                15 OZ  \n",
       "29636                16 OZ  \n",
       "85040                 16OZ  \n",
       "75072             16 OUNCE  \n",
       "28198                       \n",
       "42550                10 OZ  \n",
       "66142                 6 OZ  \n",
       "69982             6/3.5 LB  \n",
       "77804                48 IN  \n",
       "17712               5.5 OZ  \n",
       "45601                10 OZ  \n",
       "1574                 37 OZ  \n",
       "24795                       \n",
       "23027                19 OZ  \n",
       "86413               4.6 OZ  \n",
       "35631                12 OZ  \n",
       "82793                 8 OZ  \n",
       "68582                       \n",
       "4774                  4 LB  \n",
       "45328                32 OZ  \n",
       "74807                24 OZ  \n",
       "6320               1.5 LTR  \n",
       "53835                       \n",
       "78695                60 CT  \n",
       "51037                       \n",
       "13198              10.8 OZ  "
      ]
     },
     "execution_count": 66,
     "metadata": {},
     "output_type": "execute_result"
    }
   ],
   "source": [
    "products_df.sample(30)"
   ]
  },
  {
   "cell_type": "markdown",
   "metadata": {},
   "source": [
    "## Product Data"
   ]
  },
  {
   "cell_type": "markdown",
   "metadata": {},
   "source": [
    "_We only take the categories which are food related, sorted manually the different departments_"
   ]
  },
  {
   "cell_type": "code",
   "execution_count": 67,
   "metadata": {},
   "outputs": [],
   "source": [
    "products_sorted = products_df.groupby('DEPARTMENT').count().sort_values(by = 'PRODUCT_ID',ascending = False)\n",
    "#NB: there are a few food in MISC. TRANS\n",
    "food_related = np.array(['NUTRITION','GROCERY','PASTRY','MEAT-PCKGD','SEAFOOD-PCKGD','PRODUCE','DELI','MEAT','SALAD BAR','GRO BAKERY','FROZEN GROCERY','SPIRITS','RESTAURANT',''])\n",
    "\n",
    "products_df = products_df[products_df.DEPARTMENT.isin(food_related)]\n",
    "\n",
    "#we put all the description in a ingredients column\n",
    "products_df['ingredients'] = products_df.COMMODITY_DESC + \" \" + products_df.SUB_COMMODITY_DESC\n",
    "products_df.drop([\"MANUFACTURER\",\"DEPARTMENT\",\"BRAND\",\"COMMODITY_DESC\",\"SUB_COMMODITY_DESC\"],axis = 1, inplace = True)"
   ]
  },
  {
   "cell_type": "code",
   "execution_count": 75,
   "metadata": {},
   "outputs": [],
   "source": [
    "def parse(str1): \n",
    "    \"\"\"\n",
    "    pars the string in a list of string (words) with all type of separators thx to regex\n",
    "    \"\"\"\n",
    "    #matches any separator and any whitespace and transforms to mathc to lower case\n",
    "    temp = list(filter(None,re.split(\"[\\s;&@\\/:,\\*\\.\\(\\)\\{\\}\\\\-%\\\"\\'0-9]\",str1)))\n",
    "    #remove duplicate word, as there are many\n",
    "    temp = list(dict.fromkeys(temp))\n",
    "    temp = [i.lower() for i in temp if not i in STOP_WORDS]\n",
    "    \n",
    "    return temp"
   ]
  },
  {
   "cell_type": "code",
   "execution_count": 76,
   "metadata": {},
   "outputs": [],
   "source": [
    "products_df.ingredients = products_df.ingredients.apply(parse)"
   ]
  },
  {
   "cell_type": "markdown",
   "metadata": {},
   "source": [
    "## Downloaded food nutrients data"
   ]
  },
  {
   "cell_type": "code",
   "execution_count": 77,
   "metadata": {},
   "outputs": [],
   "source": [
    "dfList = {}\n",
    "for r, d, f in os.walk('../data/health'):\n",
    "    for file in f:\n",
    "        if '.csv' in file:\n",
    "            #print(file)\n",
    "            dfList[file] = pd.read_csv(os.path.join(r, file))\n",
    "            \n",
    "branded_food_df = dfList['branded_food.csv']\n",
    "\n",
    "#link the nutrient id with its name\n",
    "nutrient_df = dfList['nutrient.csv']\n",
    "\n",
    "#contains the food articles name and their id\n",
    "food_df = dfList['food.csv']\n",
    "\n",
    "#contains the nutrients for each food article\n",
    "food_nutrients_df = dfList['food_nutrient.csv']\n",
    "\n",
    "# linke the food articles ids to their potential category\n",
    "food_category_df = dfList['food_category.csv']"
   ]
  },
  {
   "cell_type": "markdown",
   "metadata": {},
   "source": [
    "_We drop useless columns_"
   ]
  },
  {
   "cell_type": "code",
   "execution_count": 78,
   "metadata": {},
   "outputs": [],
   "source": [
    "#drop unnecessary columns and rename to be more understandable\n",
    "food_nutrients_df = food_nutrients_df.drop([\"data_points\",\"min\",\"max\",\"median\",\"footnote\",\"min_year_acquired\",\"derivation_id\"],axis=1)\n",
    "\n",
    "nutrient_df = nutrient_df.drop([\"nutrient_nbr\",\"rank\"],axis=1)\n",
    "\n",
    "food_category_df.drop([\"code\"],axis=1,inplace=True)\n",
    "food_category_df.rename(columns={'id':'food_category_id','description':'category'},inplace= True)\n",
    "\n",
    "food_df.drop([\"publication_date\"],axis=1,inplace=True)"
   ]
  },
  {
   "cell_type": "markdown",
   "metadata": {},
   "source": [
    "_Add the names of the nutrients to the nutrients per food_"
   ]
  },
  {
   "cell_type": "code",
   "execution_count": 79,
   "metadata": {},
   "outputs": [],
   "source": [
    "food_nutrients_df = food_nutrients_df.join(nutrient_df.set_index('id'),on='nutrient_id',how='left')\n",
    "\n",
    "#index the resulting table by multiindex: product id -> name of nutrients\n",
    "food_nutrients_df = food_nutrients_df.set_index(pd.MultiIndex.from_frame(food_nutrients_df[['fdc_id','name']]))\n",
    "#drop unnecessary columns \n",
    "food_nutrients_df = food_nutrients_df.drop([\"id\",\"fdc_id\",\"nutrient_id\",\"name\"],axis=1)"
   ]
  },
  {
   "cell_type": "markdown",
   "metadata": {},
   "source": [
    "_We add the food category to food_df_"
   ]
  },
  {
   "cell_type": "code",
   "execution_count": 80,
   "metadata": {},
   "outputs": [],
   "source": [
    "food_df = food_df.join(food_category_df.set_index(\"food_category_id\"),on=\"food_category_id\",how=\"left\")\n",
    "food_df.drop([\"food_category_id\"],axis=1,inplace=True)"
   ]
  },
  {
   "cell_type": "code",
   "execution_count": 81,
   "metadata": {},
   "outputs": [],
   "source": [
    "food_name = food_df.copy()\n",
    "food_name.description = food_name.description.apply(parse)"
   ]
  },
  {
   "cell_type": "markdown",
   "metadata": {},
   "source": [
    "_At this stage we have 3 dataframes for nutrition:_\n",
    "- food_df = id of food articel vs food title (string)\n",
    "- food_name_df = id of food vs parsed food title (list of string)\n",
    "- food_nutrients_df = id of food article vs food nutrients"
   ]
  },
  {
   "cell_type": "markdown",
   "metadata": {},
   "source": [
    "## Word Importance"
   ]
  },
  {
   "cell_type": "markdown",
   "metadata": {},
   "source": [
    "_We filter the words according to their importance: that is, a word is more important as it apears many times in both datasets: (Ex: 'orange' is more important than 'artificial'). The words occuring in only one dataset are of no importance. The rest of the algorithm follows the following pipeline:_"
   ]
  },
  {
   "cell_type": "code",
   "execution_count": 82,
   "metadata": {},
   "outputs": [
    {
     "ename": "FileNotFoundError",
     "evalue": "[Errno 2] No such file or directory: 'untitled2.svg'",
     "output_type": "error",
     "traceback": [
      "\u001b[0;31m---------------------------------------------------------------------------\u001b[0m",
      "\u001b[0;31mFileNotFoundError\u001b[0m                         Traceback (most recent call last)",
      "\u001b[0;32m<ipython-input-82-d8444c0fabbf>\u001b[0m in \u001b[0;36m<module>\u001b[0;34m\u001b[0m\n\u001b[0;32m----> 1\u001b[0;31m \u001b[0mSVG\u001b[0m\u001b[0;34m(\u001b[0m\u001b[0mfilename\u001b[0m\u001b[0;34m=\u001b[0m\u001b[0;34m'untitled2.svg'\u001b[0m\u001b[0;34m)\u001b[0m\u001b[0;34m\u001b[0m\u001b[0;34m\u001b[0m\u001b[0m\n\u001b[0m",
      "\u001b[0;32m~/anaconda3/lib/python3.6/site-packages/IPython/core/display.py\u001b[0m in \u001b[0;36m__init__\u001b[0;34m(self, data, url, filename, metadata)\u001b[0m\n\u001b[1;32m    618\u001b[0m             \u001b[0mself\u001b[0m\u001b[0;34m.\u001b[0m\u001b[0mmetadata\u001b[0m \u001b[0;34m=\u001b[0m \u001b[0;34m{\u001b[0m\u001b[0;34m}\u001b[0m\u001b[0;34m\u001b[0m\u001b[0;34m\u001b[0m\u001b[0m\n\u001b[1;32m    619\u001b[0m \u001b[0;34m\u001b[0m\u001b[0m\n\u001b[0;32m--> 620\u001b[0;31m         \u001b[0mself\u001b[0m\u001b[0;34m.\u001b[0m\u001b[0mreload\u001b[0m\u001b[0;34m(\u001b[0m\u001b[0;34m)\u001b[0m\u001b[0;34m\u001b[0m\u001b[0;34m\u001b[0m\u001b[0m\n\u001b[0m\u001b[1;32m    621\u001b[0m         \u001b[0mself\u001b[0m\u001b[0;34m.\u001b[0m\u001b[0m_check_data\u001b[0m\u001b[0;34m(\u001b[0m\u001b[0;34m)\u001b[0m\u001b[0;34m\u001b[0m\u001b[0;34m\u001b[0m\u001b[0m\n\u001b[1;32m    622\u001b[0m \u001b[0;34m\u001b[0m\u001b[0m\n",
      "\u001b[0;32m~/anaconda3/lib/python3.6/site-packages/IPython/core/display.py\u001b[0m in \u001b[0;36mreload\u001b[0;34m(self)\u001b[0m\n\u001b[1;32m    643\u001b[0m         \u001b[0;34m\"\"\"Reload the raw data from file or URL.\"\"\"\u001b[0m\u001b[0;34m\u001b[0m\u001b[0;34m\u001b[0m\u001b[0m\n\u001b[1;32m    644\u001b[0m         \u001b[0;32mif\u001b[0m \u001b[0mself\u001b[0m\u001b[0;34m.\u001b[0m\u001b[0mfilename\u001b[0m \u001b[0;32mis\u001b[0m \u001b[0;32mnot\u001b[0m \u001b[0;32mNone\u001b[0m\u001b[0;34m:\u001b[0m\u001b[0;34m\u001b[0m\u001b[0;34m\u001b[0m\u001b[0m\n\u001b[0;32m--> 645\u001b[0;31m             \u001b[0;32mwith\u001b[0m \u001b[0mopen\u001b[0m\u001b[0;34m(\u001b[0m\u001b[0mself\u001b[0m\u001b[0;34m.\u001b[0m\u001b[0mfilename\u001b[0m\u001b[0;34m,\u001b[0m \u001b[0mself\u001b[0m\u001b[0;34m.\u001b[0m\u001b[0m_read_flags\u001b[0m\u001b[0;34m)\u001b[0m \u001b[0;32mas\u001b[0m \u001b[0mf\u001b[0m\u001b[0;34m:\u001b[0m\u001b[0;34m\u001b[0m\u001b[0;34m\u001b[0m\u001b[0m\n\u001b[0m\u001b[1;32m    646\u001b[0m                 \u001b[0mself\u001b[0m\u001b[0;34m.\u001b[0m\u001b[0mdata\u001b[0m \u001b[0;34m=\u001b[0m \u001b[0mf\u001b[0m\u001b[0;34m.\u001b[0m\u001b[0mread\u001b[0m\u001b[0;34m(\u001b[0m\u001b[0;34m)\u001b[0m\u001b[0;34m\u001b[0m\u001b[0;34m\u001b[0m\u001b[0m\n\u001b[1;32m    647\u001b[0m         \u001b[0;32melif\u001b[0m \u001b[0mself\u001b[0m\u001b[0;34m.\u001b[0m\u001b[0murl\u001b[0m \u001b[0;32mis\u001b[0m \u001b[0;32mnot\u001b[0m \u001b[0;32mNone\u001b[0m\u001b[0;34m:\u001b[0m\u001b[0;34m\u001b[0m\u001b[0;34m\u001b[0m\u001b[0m\n",
      "\u001b[0;31mFileNotFoundError\u001b[0m: [Errno 2] No such file or directory: 'untitled2.svg'"
     ]
    }
   ],
   "source": [
    "SVG(filename='untitled2.svg')"
   ]
  },
  {
   "cell_type": "code",
   "execution_count": 83,
   "metadata": {},
   "outputs": [],
   "source": [
    "def get_allwords(serie):\n",
    "    \"\"\"\n",
    "    serie: serie containing lists of words\n",
    "    return a dataframe containing\n",
    "      - column name: name of the unique articles found in the lists of the serie\n",
    "      - column count: how many times they appear in the serie\n",
    "    \"\"\"\n",
    "    allwords = np.concatenate(serie.ravel())\n",
    "    allwords = pd.Series(allwords)\n",
    "    allwords = pd.DataFrame(allwords,columns= [\"name\"])\n",
    "    allwords.reset_index(inplace = True)\n",
    "    allwords.rename(columns = {'index':'number'},inplace = True)\n",
    "    allwords = allwords.groupby('name').count().sort_values(by = 'number',ascending = False).head(50)\n",
    "    return allwords.reset_index()\n",
    "\n",
    "#all words present in the nutrition dataset\n",
    "all_words_nut = get_allwords(food_name.description)\n",
    "\n",
    "#all words present in the product dataset\n",
    "all_words_art = get_allwords(products_df.ingredients)\n",
    "\n"
   ]
  },
  {
   "cell_type": "markdown",
   "metadata": {},
   "source": [
    "#### TODO\n",
    "Manual updates of STOPWORDS: _the idea would be to create a list of the words to update/ modify in the STOPWORDS list._"
   ]
  },
  {
   "cell_type": "code",
   "execution_count": 84,
   "metadata": {},
   "outputs": [],
   "source": [
    "#to delete\n",
    "to_delete = [\"added\",\"ns\",\"made\",\"eaten\",\"type\",\"all\"]"
   ]
  },
  {
   "cell_type": "code",
   "execution_count": 92,
   "metadata": {},
   "outputs": [],
   "source": [
    "#to transform\n",
    "#SNKS/CKYS/CRKR/CNDY \t\n",
    "to_transform = dict({\"frzn\":\"frozen\",\"refrgratd\":\"refrigerated\",\"brkfst\":\"breakfast\",\"whlsm\":\"wholesome\"})"
   ]
  },
  {
   "cell_type": "markdown",
   "metadata": {},
   "source": [
    "#### Inner join between the 2 sets of words:\n",
    "\n",
    "_we check which words occur in both dataframes: only these words will have importance in determining the type of food article we are dealing with. Of course, if no words are known from the nutrition dataset, the sample is not taken into account._\n"
   ]
  },
  {
   "cell_type": "code",
   "execution_count": 93,
   "metadata": {},
   "outputs": [],
   "source": [
    "common_words = pd.merge(all_words_art,all_words_nut,left_on = 'name',right_on = 'name')"
   ]
  },
  {
   "cell_type": "code",
   "execution_count": 94,
   "metadata": {},
   "outputs": [
    {
     "data": {
      "text/html": [
       "<div>\n",
       "<style scoped>\n",
       "    .dataframe tbody tr th:only-of-type {\n",
       "        vertical-align: middle;\n",
       "    }\n",
       "\n",
       "    .dataframe tbody tr th {\n",
       "        vertical-align: top;\n",
       "    }\n",
       "\n",
       "    .dataframe thead th {\n",
       "        text-align: right;\n",
       "    }\n",
       "</style>\n",
       "<table border=\"1\" class=\"dataframe\">\n",
       "  <thead>\n",
       "    <tr style=\"text-align: right;\">\n",
       "      <th></th>\n",
       "      <th>name</th>\n",
       "      <th>number_x</th>\n",
       "      <th>number_y</th>\n",
       "    </tr>\n",
       "  </thead>\n",
       "  <tbody>\n",
       "    <tr>\n",
       "      <td>0</td>\n",
       "      <td>premium</td>\n",
       "      <td>2423</td>\n",
       "      <td>4906</td>\n",
       "    </tr>\n",
       "    <tr>\n",
       "      <td>1</td>\n",
       "      <td>cheese</td>\n",
       "      <td>2373</td>\n",
       "      <td>17424</td>\n",
       "    </tr>\n",
       "    <tr>\n",
       "      <td>2</td>\n",
       "      <td>bread</td>\n",
       "      <td>1858</td>\n",
       "      <td>4688</td>\n",
       "    </tr>\n",
       "    <tr>\n",
       "      <td>3</td>\n",
       "      <td>fruit</td>\n",
       "      <td>1767</td>\n",
       "      <td>6148</td>\n",
       "    </tr>\n",
       "    <tr>\n",
       "      <td>4</td>\n",
       "      <td>milk</td>\n",
       "      <td>1687</td>\n",
       "      <td>9276</td>\n",
       "    </tr>\n",
       "    <tr>\n",
       "      <td>5</td>\n",
       "      <td>cookies</td>\n",
       "      <td>1641</td>\n",
       "      <td>6060</td>\n",
       "    </tr>\n",
       "    <tr>\n",
       "      <td>6</td>\n",
       "      <td>ice</td>\n",
       "      <td>1337</td>\n",
       "      <td>5892</td>\n",
       "    </tr>\n",
       "    <tr>\n",
       "      <td>7</td>\n",
       "      <td>juice</td>\n",
       "      <td>1314</td>\n",
       "      <td>6341</td>\n",
       "    </tr>\n",
       "    <tr>\n",
       "      <td>8</td>\n",
       "      <td>potato</td>\n",
       "      <td>1271</td>\n",
       "      <td>4225</td>\n",
       "    </tr>\n",
       "    <tr>\n",
       "      <td>9</td>\n",
       "      <td>beef</td>\n",
       "      <td>1262</td>\n",
       "      <td>6226</td>\n",
       "    </tr>\n",
       "    <tr>\n",
       "      <td>10</td>\n",
       "      <td>mix</td>\n",
       "      <td>1244</td>\n",
       "      <td>10116</td>\n",
       "    </tr>\n",
       "    <tr>\n",
       "      <td>11</td>\n",
       "      <td>cream</td>\n",
       "      <td>1201</td>\n",
       "      <td>9304</td>\n",
       "    </tr>\n",
       "  </tbody>\n",
       "</table>\n",
       "</div>"
      ],
      "text/plain": [
       "       name  number_x  number_y\n",
       "0   premium      2423      4906\n",
       "1    cheese      2373     17424\n",
       "2     bread      1858      4688\n",
       "3     fruit      1767      6148\n",
       "4      milk      1687      9276\n",
       "5   cookies      1641      6060\n",
       "6       ice      1337      5892\n",
       "7     juice      1314      6341\n",
       "8    potato      1271      4225\n",
       "9      beef      1262      6226\n",
       "10      mix      1244     10116\n",
       "11    cream      1201      9304"
      ]
     },
     "execution_count": 94,
     "metadata": {},
     "output_type": "execute_result"
    }
   ],
   "source": [
    "common_words.head(100)"
   ]
  },
  {
   "cell_type": "markdown",
   "metadata": {},
   "source": [
    "PROBLEM: the 2 dataframes don't share much words!\n",
    "possible solutions:\n",
    "- use another/more nutrition datset\n",
    "- parse better the articles dataset (some words are badly parsed)"
   ]
  },
  {
   "cell_type": "code",
   "execution_count": 95,
   "metadata": {},
   "outputs": [
    {
     "name": "stdout",
     "output_type": "stream",
     "text": [
      "True\n",
      "False\n"
     ]
    }
   ],
   "source": [
    "#Manual check to see which words occur in which dataset\n",
    "print('chocolate' in all_words_nut.name.values)\n",
    "print('chocolate' in all_words_art.name.values)"
   ]
  },
  {
   "cell_type": "markdown",
   "metadata": {},
   "source": [
    "## Assemble them together (and pray your god)"
   ]
  },
  {
   "cell_type": "code",
   "execution_count": 96,
   "metadata": {},
   "outputs": [],
   "source": [
    "\n",
    "\n",
    "def get_matches(test,food_list):\n",
    "    \"\"\"\n",
    "    test = list of strings to test\n",
    "    food_list: pandas dataframe linking the food article/id to the lists of words of its name\n",
    "    return all the articles whose words contain all of the words of test\n",
    "    \"\"\"\n",
    "    raise NotImplemented\n",
    "    \n",
    "def get_importance(word):\n",
    "    \"\"\"\n",
    "    word: string for which we want to know the  importance\n",
    "    return importance of word\n",
    "    \"\"\"\n",
    "    raise NotImplemented\n",
    "    \n",
    "def find_food(test,food_list):\n",
    "    \"\"\"\n",
    "    implementation of the graphic above\n",
    "    test = list of strings to test\n",
    "    food_list: pandas dataframe linking the food article/id to the lists of words of its name\n",
    "    return the best article\n",
    "    \"\"\"\n",
    "    if len(k) == 0:\n",
    "        #give up the sample\n",
    "        return 0 #dummy\n",
    "    \n",
    "    matches = get_matches(test,food_list)\n",
    "    if len(matches) == 0:\n",
    "        importance = [get_importance(i) for i in test]\n",
    "        mino = np.min(importance)\n",
    "        test = [i for i in test if i != mino]\n",
    "        return find_food(test,food_list)\n",
    "    elif len(matches) == 1:\n",
    "        return matches[0]\n",
    "    else:\n",
    "        sizes = [len(i) for i in matches]\n",
    "        minsize = np.min(sizes)\n",
    "        minsizes = [i for i in matches if len(i) == minsize]\n",
    "        if len(minsizes) == 1:\n",
    "            return minsizes[0]\n",
    "        else:\n",
    "            importances = [np.sum([get_importance(j) for j in trial]) for trial in minsizes]\n",
    "            armin_imp = np.argmin(importances)\n",
    "            return importances[armin_imp]\n",
    "                \n",
    "\n",
    "def find_food_naive(test,food_list):\n",
    "    \"\"\"\n",
    "    food_list: pandas dataframe linking the food article/id id to the lists of words of its name\n",
    "    test: list of strings you want to have an id for\n",
    "    return the corresponding food indx\n",
    "    \"\"\"\n",
    "    #TODO: improve the non unique max\n",
    "    scores = [get_score(test,i) for i in food_list.description]\n",
    "    maxo = np.max(scores)\n",
    "    if len([1 for x in scores if x == maxo]) > 1:\n",
    "        print(\"Multiple maximums!\")\n",
    "    armax = np.argmax(scores)\n",
    "    print('result: ',food_list.description[armax])\n",
    "    return food_list.fdc_id[armax]\n",
    "\n",
    "def get_score(test,trial):\n",
    "    \"\"\"\n",
    "    test: the list of strings you're trying to classify\n",
    "    trial: the list you want the score for\n",
    "    return the score of matching\n",
    "    \"\"\"\n",
    "    return np.sum([1 for i in test if i in trial])\n",
    "        "
   ]
  },
  {
   "cell_type": "code",
   "execution_count": 97,
   "metadata": {},
   "outputs": [
    {
     "name": "stdout",
     "output_type": "stream",
     "text": [
      "Multiple maximums!\n",
      "result:  Paella with seafood\n"
     ]
    },
    {
     "data": {
      "text/plain": [
       "338359"
      ]
     },
     "execution_count": 97,
     "metadata": {},
     "output_type": "execute_result"
    }
   ],
   "source": [
    "test1 = ['seafood']\n",
    "find_food_naive(test1,food_df)"
   ]
  },
  {
   "cell_type": "code",
   "execution_count": 98,
   "metadata": {},
   "outputs": [
    {
     "data": {
      "text/plain": [
       "100"
      ]
     },
     "execution_count": 98,
     "metadata": {},
     "output_type": "execute_result"
    }
   ],
   "source": [
    "all_words_art.size"
   ]
  },
  {
   "cell_type": "code",
   "execution_count": 99,
   "metadata": {},
   "outputs": [
    {
     "data": {
      "text/plain": [
       "100"
      ]
     },
     "execution_count": 99,
     "metadata": {},
     "output_type": "execute_result"
    }
   ],
   "source": [
    "all_words_nut.size"
   ]
  },
  {
   "cell_type": "code",
   "execution_count": null,
   "metadata": {},
   "outputs": [],
   "source": []
  }
 ],
 "metadata": {
  "kernelspec": {
   "display_name": "Python 3",
   "language": "python",
   "name": "python3"
  },
  "language_info": {
   "codemirror_mode": {
    "name": "ipython",
    "version": 3
   },
   "file_extension": ".py",
   "mimetype": "text/x-python",
   "name": "python",
   "nbconvert_exporter": "python",
   "pygments_lexer": "ipython3",
   "version": "3.6.8"
  }
 },
 "nbformat": 4,
 "nbformat_minor": 4
}
