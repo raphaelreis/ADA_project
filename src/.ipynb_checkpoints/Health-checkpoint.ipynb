{
 "cells": [
  {
   "cell_type": "code",
   "execution_count": 25,
   "metadata": {},
   "outputs": [],
   "source": [
    "%matplotlib inline\n",
    "import re\n",
    "import os\n",
    "import numpy as np\n",
    "import pandas as pd\n",
    "import seaborn as sns\n",
    "import nltk\n",
    "from requests import get\n",
    "from bs4 import BeautifulSoup\n",
    "import matplotlib.pyplot as plt\n",
    "from matplotlib.ticker import MaxNLocator\n",
    "\n",
    "from IPython.core.display import SVG"
   ]
  },
  {
   "cell_type": "code",
   "execution_count": 26,
   "metadata": {},
   "outputs": [],
   "source": [
    "DUNNHUMBY_PATH = '../data/dunnhumby - The Complete Journey CSV/'"
   ]
  },
  {
   "cell_type": "code",
   "execution_count": 27,
   "metadata": {},
   "outputs": [
    {
     "name": "stderr",
     "output_type": "stream",
     "text": [
      "[nltk_data] Downloading package stopwords to\n",
      "[nltk_data]     /Users/jerome/nltk_data...\n",
      "[nltk_data]   Package stopwords is already up-to-date!\n"
     ]
    }
   ],
   "source": [
    "nltk.download('stopwords')\n",
    "from nltk.corpus import stopwords \n",
    "STOP_WORDS = list(set(stopwords.words('english')))\n",
    "STOP_WORDS.append('NFS')"
   ]
  },
  {
   "cell_type": "markdown",
   "metadata": {},
   "source": [
    "Manual addition of words that we want to ignore to the Stopwords list"
   ]
  },
  {
   "cell_type": "code",
   "execution_count": 28,
   "metadata": {},
   "outputs": [],
   "source": [
    "to_delete = [\"added\",\"ns\",\"made\",\"eaten\",\"type\",\"all\"]\n",
    "STOP_WORDS.append('NFS')"
   ]
  },
  {
   "cell_type": "markdown",
   "metadata": {},
   "source": [
    "# Import Data"
   ]
  },
  {
   "cell_type": "code",
   "execution_count": 29,
   "metadata": {},
   "outputs": [],
   "source": [
    "products_df =  pd.read_csv(os.path.join(DUNNHUMBY_PATH,\"product.csv\"))"
   ]
  },
  {
   "cell_type": "code",
   "execution_count": 30,
   "metadata": {},
   "outputs": [
    {
     "data": {
      "text/html": [
       "<div>\n",
       "<style scoped>\n",
       "    .dataframe tbody tr th:only-of-type {\n",
       "        vertical-align: middle;\n",
       "    }\n",
       "\n",
       "    .dataframe tbody tr th {\n",
       "        vertical-align: top;\n",
       "    }\n",
       "\n",
       "    .dataframe thead th {\n",
       "        text-align: right;\n",
       "    }\n",
       "</style>\n",
       "<table border=\"1\" class=\"dataframe\">\n",
       "  <thead>\n",
       "    <tr style=\"text-align: right;\">\n",
       "      <th></th>\n",
       "      <th>PRODUCT_ID</th>\n",
       "      <th>MANUFACTURER</th>\n",
       "      <th>DEPARTMENT</th>\n",
       "      <th>BRAND</th>\n",
       "      <th>COMMODITY_DESC</th>\n",
       "      <th>SUB_COMMODITY_DESC</th>\n",
       "      <th>CURR_SIZE_OF_PRODUCT</th>\n",
       "    </tr>\n",
       "  </thead>\n",
       "  <tbody>\n",
       "    <tr>\n",
       "      <td>0</td>\n",
       "      <td>25671</td>\n",
       "      <td>2</td>\n",
       "      <td>GROCERY</td>\n",
       "      <td>National</td>\n",
       "      <td>FRZN ICE</td>\n",
       "      <td>ICE - CRUSHED/CUBED</td>\n",
       "      <td>22 LB</td>\n",
       "    </tr>\n",
       "    <tr>\n",
       "      <td>1</td>\n",
       "      <td>26081</td>\n",
       "      <td>2</td>\n",
       "      <td>MISC. TRANS.</td>\n",
       "      <td>National</td>\n",
       "      <td>NO COMMODITY DESCRIPTION</td>\n",
       "      <td>NO SUBCOMMODITY DESCRIPTION</td>\n",
       "      <td></td>\n",
       "    </tr>\n",
       "    <tr>\n",
       "      <td>2</td>\n",
       "      <td>26093</td>\n",
       "      <td>69</td>\n",
       "      <td>PASTRY</td>\n",
       "      <td>Private</td>\n",
       "      <td>BREAD</td>\n",
       "      <td>BREAD:ITALIAN/FRENCH</td>\n",
       "      <td></td>\n",
       "    </tr>\n",
       "    <tr>\n",
       "      <td>3</td>\n",
       "      <td>26190</td>\n",
       "      <td>69</td>\n",
       "      <td>GROCERY</td>\n",
       "      <td>Private</td>\n",
       "      <td>FRUIT - SHELF STABLE</td>\n",
       "      <td>APPLE SAUCE</td>\n",
       "      <td>50 OZ</td>\n",
       "    </tr>\n",
       "    <tr>\n",
       "      <td>4</td>\n",
       "      <td>26355</td>\n",
       "      <td>69</td>\n",
       "      <td>GROCERY</td>\n",
       "      <td>Private</td>\n",
       "      <td>COOKIES/CONES</td>\n",
       "      <td>SPECIALTY COOKIES</td>\n",
       "      <td>14 OZ</td>\n",
       "    </tr>\n",
       "    <tr>\n",
       "      <td>5</td>\n",
       "      <td>26426</td>\n",
       "      <td>69</td>\n",
       "      <td>GROCERY</td>\n",
       "      <td>Private</td>\n",
       "      <td>SPICES &amp; EXTRACTS</td>\n",
       "      <td>SPICES &amp; SEASONINGS</td>\n",
       "      <td>2.5 OZ</td>\n",
       "    </tr>\n",
       "    <tr>\n",
       "      <td>6</td>\n",
       "      <td>26540</td>\n",
       "      <td>69</td>\n",
       "      <td>GROCERY</td>\n",
       "      <td>Private</td>\n",
       "      <td>COOKIES/CONES</td>\n",
       "      <td>TRAY PACK/CHOC CHIP COOKIES</td>\n",
       "      <td>16 OZ</td>\n",
       "    </tr>\n",
       "    <tr>\n",
       "      <td>7</td>\n",
       "      <td>26601</td>\n",
       "      <td>69</td>\n",
       "      <td>DRUG GM</td>\n",
       "      <td>Private</td>\n",
       "      <td>VITAMINS</td>\n",
       "      <td>VITAMIN - MINERALS</td>\n",
       "      <td>300CT(1)</td>\n",
       "    </tr>\n",
       "    <tr>\n",
       "      <td>8</td>\n",
       "      <td>26636</td>\n",
       "      <td>69</td>\n",
       "      <td>PASTRY</td>\n",
       "      <td>Private</td>\n",
       "      <td>BREAKFAST SWEETS</td>\n",
       "      <td>SW GDS: SW ROLLS/DAN</td>\n",
       "      <td></td>\n",
       "    </tr>\n",
       "    <tr>\n",
       "      <td>9</td>\n",
       "      <td>26691</td>\n",
       "      <td>16</td>\n",
       "      <td>GROCERY</td>\n",
       "      <td>Private</td>\n",
       "      <td>PNT BTR/JELLY/JAMS</td>\n",
       "      <td>HONEY</td>\n",
       "      <td>12 OZ</td>\n",
       "    </tr>\n",
       "  </tbody>\n",
       "</table>\n",
       "</div>"
      ],
      "text/plain": [
       "   PRODUCT_ID  MANUFACTURER    DEPARTMENT     BRAND            COMMODITY_DESC  \\\n",
       "0       25671             2       GROCERY  National                  FRZN ICE   \n",
       "1       26081             2  MISC. TRANS.  National  NO COMMODITY DESCRIPTION   \n",
       "2       26093            69        PASTRY   Private                     BREAD   \n",
       "3       26190            69       GROCERY   Private      FRUIT - SHELF STABLE   \n",
       "4       26355            69       GROCERY   Private             COOKIES/CONES   \n",
       "5       26426            69       GROCERY   Private         SPICES & EXTRACTS   \n",
       "6       26540            69       GROCERY   Private             COOKIES/CONES   \n",
       "7       26601            69       DRUG GM   Private                  VITAMINS   \n",
       "8       26636            69        PASTRY   Private          BREAKFAST SWEETS   \n",
       "9       26691            16       GROCERY   Private        PNT BTR/JELLY/JAMS   \n",
       "\n",
       "            SUB_COMMODITY_DESC CURR_SIZE_OF_PRODUCT  \n",
       "0          ICE - CRUSHED/CUBED                22 LB  \n",
       "1  NO SUBCOMMODITY DESCRIPTION                       \n",
       "2         BREAD:ITALIAN/FRENCH                       \n",
       "3                  APPLE SAUCE                50 OZ  \n",
       "4            SPECIALTY COOKIES                14 OZ  \n",
       "5          SPICES & SEASONINGS               2.5 OZ  \n",
       "6  TRAY PACK/CHOC CHIP COOKIES                16 OZ  \n",
       "7           VITAMIN - MINERALS             300CT(1)  \n",
       "8         SW GDS: SW ROLLS/DAN                       \n",
       "9                        HONEY                12 OZ  "
      ]
     },
     "execution_count": 30,
     "metadata": {},
     "output_type": "execute_result"
    }
   ],
   "source": [
    "products_df.head(10)"
   ]
  },
  {
   "cell_type": "markdown",
   "metadata": {},
   "source": [
    "## Product Data"
   ]
  },
  {
   "cell_type": "markdown",
   "metadata": {},
   "source": [
    "_We only take the categories which are food related, sorted manually the different departments_"
   ]
  },
  {
   "cell_type": "code",
   "execution_count": 31,
   "metadata": {},
   "outputs": [],
   "source": [
    "products_sorted = products_df.groupby('DEPARTMENT').count().sort_values(by = 'PRODUCT_ID',ascending = False)\n",
    "#NB: there are a few food in MISC. TRANS\n",
    "food_related = np.array(['NUTRITION','GROCERY','PASTRY','MEAT-PCKGD','SEAFOOD-PCKGD','PRODUCE','DELI','MEAT','SALAD BAR','GRO BAKERY','FROZEN GROCERY','SPIRITS','RESTAURANT',''])\n",
    "\n",
    "products_df = products_df[products_df.DEPARTMENT.isin(food_related)]\n",
    "\n",
    "#we put all the description in a ingredients column\n",
    "products_df['ingredients'] = products_df.COMMODITY_DESC + \" \" + products_df.SUB_COMMODITY_DESC\n",
    "products_df.drop([\"MANUFACTURER\",\"DEPARTMENT\",\"BRAND\",\"COMMODITY_DESC\",\"SUB_COMMODITY_DESC\"],axis = 1, inplace = True)"
   ]
  },
  {
   "cell_type": "code",
   "execution_count": 48,
   "metadata": {},
   "outputs": [],
   "source": [
    "#We see words in the product dataset, we would like to write them out completely for clarity\n",
    "#TO ADD: SNKSCKYS/CRKR/CNDY\n",
    "to_transform = dict({\"frzn\":\"frozen\",\"refrgratd\":\"refrigerated\",\"brkfst\":\"breakfast\",\"whlsm\":\"wholesome\",\\\n",
    "                     \"crkr\":\"cracker\",\"cndy\":\"candy\"})"
   ]
  },
  {
   "cell_type": "code",
   "execution_count": 33,
   "metadata": {},
   "outputs": [],
   "source": [
    "def parse(str1): \n",
    "    \"\"\"\n",
    "    parses the string in a list of string (words) with all type of separators thanks to regexes\n",
    "    \"\"\"\n",
    "    #matches any separator and any whitespace and transforms to mathc to lower case\n",
    "    temp = list(filter(None,re.split(\"[\\s;&@\\/:,\\*\\.\\(\\)\\{\\}\\\\-%\\\"\\'0-9]\",str1)))\n",
    "    #remove duplicate word, as there are many\n",
    "    temp = list(dict.fromkeys(temp))\n",
    "    temp = [i.lower() for i in temp if not i in STOP_WORDS]\n",
    "    temp = [to_transform[i] if i in to_transform else i for i in temp]\n",
    "    \n",
    "    return temp"
   ]
  },
  {
   "cell_type": "code",
   "execution_count": 34,
   "metadata": {},
   "outputs": [],
   "source": [
    "products_df.ingredients = products_df.ingredients.apply(parse)"
   ]
  },
  {
   "cell_type": "code",
   "execution_count": 35,
   "metadata": {},
   "outputs": [
    {
     "data": {
      "text/plain": [
       "0           [frozen, ice, crushed, cubed]\n",
       "2                [bread, italian, french]\n",
       "3    [fruit, shelf, stable, apple, sauce]\n",
       "4             [cookies, cones, specialty]\n",
       "5          [spices, extracts, seasonings]\n",
       "Name: ingredients, dtype: object"
      ]
     },
     "execution_count": 35,
     "metadata": {},
     "output_type": "execute_result"
    }
   ],
   "source": [
    "products_df.ingredients.head()"
   ]
  },
  {
   "cell_type": "markdown",
   "metadata": {},
   "source": [
    "We see that we now have an easily parseable format"
   ]
  },
  {
   "cell_type": "markdown",
   "metadata": {},
   "source": [
    "## Downloaded food nutrients data"
   ]
  },
  {
   "cell_type": "code",
   "execution_count": 36,
   "metadata": {},
   "outputs": [],
   "source": [
    "dfList = {}\n",
    "for r, d, f in os.walk('../data/health'):\n",
    "    for file in f:\n",
    "        if '.csv' in file:\n",
    "            #print(file)\n",
    "            dfList[file] = pd.read_csv(os.path.join(r, file))\n",
    "            \n",
    "branded_food_df = dfList['branded_food.csv']\n",
    "\n",
    "#link the nutrient id with its name\n",
    "nutrient_df = dfList['nutrient.csv']\n",
    "\n",
    "#contains the food articles name and their id test commit\n",
    "food_df = dfList['food.csv']\n",
    "\n",
    "#contains the nutrients for each food article\n",
    "food_nutrients_df = dfList['food_nutrient.csv']\n",
    "\n",
    "# linke the food articles ids to their potential category\n",
    "food_category_df = dfList['food_category.csv']"
   ]
  },
  {
   "cell_type": "markdown",
   "metadata": {},
   "source": [
    "_We drop useless columns_"
   ]
  },
  {
   "cell_type": "code",
   "execution_count": 37,
   "metadata": {},
   "outputs": [],
   "source": [
    "#drop unnecessary columns and rename to be more understandable\n",
    "food_nutrients_df = food_nutrients_df.drop([\"data_points\",\"min\",\"max\",\"median\",\"footnote\",\"min_year_acquired\",\"derivation_id\"],axis=1)\n",
    "\n",
    "nutrient_df = nutrient_df.drop([\"nutrient_nbr\",\"rank\"],axis=1)\n",
    "\n",
    "food_category_df.drop([\"code\"],axis=1,inplace=True)\n",
    "food_category_df.rename(columns={'id':'food_category_id','description':'category'},inplace= True)\n",
    "\n",
    "food_df.drop([\"publication_date\"],axis=1,inplace=True)"
   ]
  },
  {
   "cell_type": "code",
   "execution_count": 38,
   "metadata": {},
   "outputs": [
    {
     "data": {
      "text/html": [
       "<div>\n",
       "<style scoped>\n",
       "    .dataframe tbody tr th:only-of-type {\n",
       "        vertical-align: middle;\n",
       "    }\n",
       "\n",
       "    .dataframe tbody tr th {\n",
       "        vertical-align: top;\n",
       "    }\n",
       "\n",
       "    .dataframe thead th {\n",
       "        text-align: right;\n",
       "    }\n",
       "</style>\n",
       "<table border=\"1\" class=\"dataframe\">\n",
       "  <thead>\n",
       "    <tr style=\"text-align: right;\">\n",
       "      <th></th>\n",
       "      <th>id</th>\n",
       "      <th>name</th>\n",
       "      <th>unit_name</th>\n",
       "    </tr>\n",
       "  </thead>\n",
       "  <tbody>\n",
       "    <tr>\n",
       "      <td>1</td>\n",
       "      <td>1003</td>\n",
       "      <td>Protein</td>\n",
       "      <td>G</td>\n",
       "    </tr>\n",
       "    <tr>\n",
       "      <td>2</td>\n",
       "      <td>1004</td>\n",
       "      <td>Total lipid (fat)</td>\n",
       "      <td>G</td>\n",
       "    </tr>\n",
       "    <tr>\n",
       "      <td>5</td>\n",
       "      <td>1008</td>\n",
       "      <td>Energy</td>\n",
       "      <td>KCAL</td>\n",
       "    </tr>\n",
       "    <tr>\n",
       "      <td>7</td>\n",
       "      <td>1010</td>\n",
       "      <td>Sucrose</td>\n",
       "      <td>G</td>\n",
       "    </tr>\n",
       "  </tbody>\n",
       "</table>\n",
       "</div>"
      ],
      "text/plain": [
       "     id               name unit_name\n",
       "1  1003            Protein         G\n",
       "2  1004  Total lipid (fat)         G\n",
       "5  1008             Energy      KCAL\n",
       "7  1010            Sucrose         G"
      ]
     },
     "execution_count": 38,
     "metadata": {},
     "output_type": "execute_result"
    }
   ],
   "source": [
    "#filter out only the necessary food nutrients since we have 227, a lot of which aren't necessary to determine if a food is healthy\n",
    "list_relevant_nutrients = [\"Protein\", \"Total Carbohydrate\",\"Total lipid (fat)\",\"Sucrose\",\\\n",
    "                            \"Glucose (dextrose)\",\"Sugars, total including NLEA\",\"Fatty acids, total monounsaturated\",\\\n",
    "                            \"Fatty acids, total polyunsaturated\",\"Fatty acids, total trans\",\"Fatty acids, total saturated\",\"Cholesterol\",\\\n",
    "                            \"Vitamin E, added\",\"Vitamin K (phylloquinone)\",\"Vitamin B-12\",\"Vitamin B-6\",\\\n",
    "                            \"Vitamin E (label entry primarily)\",\"Vitamin E (alpha-tocopherol)\",\"Vitamin D\",\"Vitamin A, RAE\",\"Sodium, Na\",\\\n",
    "                            \"Total fat (NLEA)\",\"Fiber, total dietary\",\"Energy\",\"Carbohydrate, by summation\",\"Fructose\"]\n",
    "\n",
    "nutrient_df = nutrient_df[nutrient_df.name.isin(list_relevant_nutrients)]\n",
    "nutrient_df.head(4)"
   ]
  },
  {
   "cell_type": "code",
   "execution_count": 39,
   "metadata": {},
   "outputs": [],
   "source": [
    "def trim_nutrient_name(str1):\n",
    "    \"\"\"\n",
    "    simplifies the names of the nutrients for easier access afterwards\n",
    "    \"\"\"\n",
    "    #matches any separator and any whitespace and transforms to mathc to lower case\n",
    "    temp = list(filter(None,re.split(\"[;&@\\/:,\\*\\.\\(\\)\\{\\}\\\\%\\\"\\']\",str1)))\n",
    "    #remove duplicate word, as there are many\n",
    "    temp = [i.lower() for i in temp if not i in STOP_WORDS]\n",
    "    if(temp[0] == \"fatty acids\"):\n",
    "        return str.strip(temp[0] + temp[1])\n",
    "    else:\n",
    "        return str.strip(temp[0])\n",
    "\n",
    "nutrient_df.name = nutrient_df.name.apply(trim_nutrient_name)"
   ]
  },
  {
   "cell_type": "code",
   "execution_count": 40,
   "metadata": {},
   "outputs": [
    {
     "data": {
      "text/html": [
       "<div>\n",
       "<style scoped>\n",
       "    .dataframe tbody tr th:only-of-type {\n",
       "        vertical-align: middle;\n",
       "    }\n",
       "\n",
       "    .dataframe tbody tr th {\n",
       "        vertical-align: top;\n",
       "    }\n",
       "\n",
       "    .dataframe thead th {\n",
       "        text-align: right;\n",
       "    }\n",
       "</style>\n",
       "<table border=\"1\" class=\"dataframe\">\n",
       "  <thead>\n",
       "    <tr style=\"text-align: right;\">\n",
       "      <th></th>\n",
       "      <th>id</th>\n",
       "      <th>name</th>\n",
       "      <th>unit_name</th>\n",
       "    </tr>\n",
       "  </thead>\n",
       "  <tbody>\n",
       "    <tr>\n",
       "      <td>1</td>\n",
       "      <td>1003</td>\n",
       "      <td>protein</td>\n",
       "      <td>G</td>\n",
       "    </tr>\n",
       "    <tr>\n",
       "      <td>2</td>\n",
       "      <td>1004</td>\n",
       "      <td>total lipid</td>\n",
       "      <td>G</td>\n",
       "    </tr>\n",
       "    <tr>\n",
       "      <td>5</td>\n",
       "      <td>1008</td>\n",
       "      <td>energy</td>\n",
       "      <td>KCAL</td>\n",
       "    </tr>\n",
       "    <tr>\n",
       "      <td>7</td>\n",
       "      <td>1010</td>\n",
       "      <td>sucrose</td>\n",
       "      <td>G</td>\n",
       "    </tr>\n",
       "  </tbody>\n",
       "</table>\n",
       "</div>"
      ],
      "text/plain": [
       "     id         name unit_name\n",
       "1  1003      protein         G\n",
       "2  1004  total lipid         G\n",
       "5  1008       energy      KCAL\n",
       "7  1010      sucrose         G"
      ]
     },
     "execution_count": 40,
     "metadata": {},
     "output_type": "execute_result"
    }
   ],
   "source": [
    "nutrient_df.head(4)"
   ]
  },
  {
   "cell_type": "code",
   "execution_count": 41,
   "metadata": {},
   "outputs": [
    {
     "data": {
      "text/html": [
       "<div>\n",
       "<style scoped>\n",
       "    .dataframe tbody tr th:only-of-type {\n",
       "        vertical-align: middle;\n",
       "    }\n",
       "\n",
       "    .dataframe tbody tr th {\n",
       "        vertical-align: top;\n",
       "    }\n",
       "\n",
       "    .dataframe thead th {\n",
       "        text-align: right;\n",
       "    }\n",
       "</style>\n",
       "<table border=\"1\" class=\"dataframe\">\n",
       "  <thead>\n",
       "    <tr style=\"text-align: right;\">\n",
       "      <th></th>\n",
       "      <th>id</th>\n",
       "      <th>fdc_id</th>\n",
       "      <th>nutrient_id</th>\n",
       "      <th>amount</th>\n",
       "    </tr>\n",
       "  </thead>\n",
       "  <tbody>\n",
       "    <tr>\n",
       "      <td>0</td>\n",
       "      <td>4178832</td>\n",
       "      <td>346049</td>\n",
       "      <td>1079</td>\n",
       "      <td>0.00</td>\n",
       "    </tr>\n",
       "    <tr>\n",
       "      <td>1</td>\n",
       "      <td>4178833</td>\n",
       "      <td>346049</td>\n",
       "      <td>1087</td>\n",
       "      <td>0.00</td>\n",
       "    </tr>\n",
       "    <tr>\n",
       "      <td>2</td>\n",
       "      <td>4178834</td>\n",
       "      <td>346049</td>\n",
       "      <td>1089</td>\n",
       "      <td>2.57</td>\n",
       "    </tr>\n",
       "    <tr>\n",
       "      <td>3</td>\n",
       "      <td>4178835</td>\n",
       "      <td>346049</td>\n",
       "      <td>1104</td>\n",
       "      <td>0.00</td>\n",
       "    </tr>\n",
       "    <tr>\n",
       "      <td>4</td>\n",
       "      <td>4178836</td>\n",
       "      <td>346049</td>\n",
       "      <td>1162</td>\n",
       "      <td>0.00</td>\n",
       "    </tr>\n",
       "  </tbody>\n",
       "</table>\n",
       "</div>"
      ],
      "text/plain": [
       "        id  fdc_id  nutrient_id  amount\n",
       "0  4178832  346049         1079    0.00\n",
       "1  4178833  346049         1087    0.00\n",
       "2  4178834  346049         1089    2.57\n",
       "3  4178835  346049         1104    0.00\n",
       "4  4178836  346049         1162    0.00"
      ]
     },
     "execution_count": 41,
     "metadata": {},
     "output_type": "execute_result"
    }
   ],
   "source": [
    "food_nutrients_df.head()"
   ]
  },
  {
   "cell_type": "markdown",
   "metadata": {},
   "source": [
    "_Add the names of the nutrients to the nutrients per food_"
   ]
  },
  {
   "cell_type": "code",
   "execution_count": 42,
   "metadata": {},
   "outputs": [],
   "source": [
    "food_nutrients_df = food_nutrients_df.join(nutrient_df.set_index('id'),on='nutrient_id',how='inner')\n",
    "\n",
    "#index the resulting table by multiindex: product id -> name of nutrients\n",
    "food_nutrients_df = food_nutrients_df.set_index(pd.MultiIndex.from_frame(food_nutrients_df[['fdc_id','name']]))\n",
    "#drop unnecessary columns \n",
    "food_nutrients_df = food_nutrients_df.drop([\"id\",\"fdc_id\",\"nutrient_id\",\"name\"],axis=1)"
   ]
  },
  {
   "cell_type": "code",
   "execution_count": 43,
   "metadata": {},
   "outputs": [
    {
     "data": {
      "text/html": [
       "<div>\n",
       "<style scoped>\n",
       "    .dataframe tbody tr th:only-of-type {\n",
       "        vertical-align: middle;\n",
       "    }\n",
       "\n",
       "    .dataframe tbody tr th {\n",
       "        vertical-align: top;\n",
       "    }\n",
       "\n",
       "    .dataframe thead th {\n",
       "        text-align: right;\n",
       "    }\n",
       "</style>\n",
       "<table border=\"1\" class=\"dataframe\">\n",
       "  <thead>\n",
       "    <tr style=\"text-align: right;\">\n",
       "      <th></th>\n",
       "      <th>amount</th>\n",
       "      <th>unit_name</th>\n",
       "    </tr>\n",
       "    <tr>\n",
       "      <th>name</th>\n",
       "      <th></th>\n",
       "      <th></th>\n",
       "    </tr>\n",
       "  </thead>\n",
       "  <tbody>\n",
       "    <tr>\n",
       "      <td>fiber</td>\n",
       "      <td>0.00</td>\n",
       "      <td>G</td>\n",
       "    </tr>\n",
       "    <tr>\n",
       "      <td>protein</td>\n",
       "      <td>25.00</td>\n",
       "      <td>G</td>\n",
       "    </tr>\n",
       "    <tr>\n",
       "      <td>total lipid</td>\n",
       "      <td>14.29</td>\n",
       "      <td>G</td>\n",
       "    </tr>\n",
       "    <tr>\n",
       "      <td>sodium</td>\n",
       "      <td>911.00</td>\n",
       "      <td>MG</td>\n",
       "    </tr>\n",
       "    <tr>\n",
       "      <td>cholesterol</td>\n",
       "      <td>71.00</td>\n",
       "      <td>MG</td>\n",
       "    </tr>\n",
       "    <tr>\n",
       "      <td>fatty acids total trans</td>\n",
       "      <td>0.00</td>\n",
       "      <td>G</td>\n",
       "    </tr>\n",
       "    <tr>\n",
       "      <td>fatty acids total saturated</td>\n",
       "      <td>6.25</td>\n",
       "      <td>G</td>\n",
       "    </tr>\n",
       "    <tr>\n",
       "      <td>fatty acids total monounsaturated</td>\n",
       "      <td>0.89</td>\n",
       "      <td>G</td>\n",
       "    </tr>\n",
       "    <tr>\n",
       "      <td>fatty acids total polyunsaturated</td>\n",
       "      <td>0.00</td>\n",
       "      <td>G</td>\n",
       "    </tr>\n",
       "    <tr>\n",
       "      <td>sugars</td>\n",
       "      <td>1.79</td>\n",
       "      <td>G</td>\n",
       "    </tr>\n",
       "  </tbody>\n",
       "</table>\n",
       "</div>"
      ],
      "text/plain": [
       "                                   amount unit_name\n",
       "name                                               \n",
       "fiber                                0.00         G\n",
       "protein                             25.00         G\n",
       "total lipid                         14.29         G\n",
       "sodium                             911.00        MG\n",
       "cholesterol                         71.00        MG\n",
       "fatty acids total trans              0.00         G\n",
       "fatty acids total saturated          6.25         G\n",
       "fatty acids total monounsaturated    0.89         G\n",
       "fatty acids total polyunsaturated    0.00         G\n",
       "sugars                               1.79         G"
      ]
     },
     "execution_count": 43,
     "metadata": {},
     "output_type": "execute_result"
    }
   ],
   "source": [
    "#here is the result\n",
    "food_nutrients_df.loc[346049]"
   ]
  },
  {
   "cell_type": "markdown",
   "metadata": {},
   "source": [
    "As an example, we show the food contents of corned beef, the format matches our needs"
   ]
  },
  {
   "cell_type": "code",
   "execution_count": 44,
   "metadata": {},
   "outputs": [],
   "source": [
    "def get_amount(to_convert):\n",
    "    \"\"\"Returns the amount of a nutrient by taking into account the specified unit\n",
    "    \"\"\"\n",
    "    if(to_convert.unit_name == \"UG\"):\n",
    "        return to_convert.amount * 1e-6\n",
    "    elif(to_convert.unit_name == \"MG\"):\n",
    "        return to_convert.amount * 1e-3\n",
    "    else:\n",
    "        return to_convert.amount"
   ]
  },
  {
   "cell_type": "markdown",
   "metadata": {},
   "source": [
    "_We add the food category to food_df_"
   ]
  },
  {
   "cell_type": "code",
   "execution_count": 45,
   "metadata": {},
   "outputs": [
    {
     "data": {
      "text/html": [
       "<div>\n",
       "<style scoped>\n",
       "    .dataframe tbody tr th:only-of-type {\n",
       "        vertical-align: middle;\n",
       "    }\n",
       "\n",
       "    .dataframe tbody tr th {\n",
       "        vertical-align: top;\n",
       "    }\n",
       "\n",
       "    .dataframe thead th {\n",
       "        text-align: right;\n",
       "    }\n",
       "</style>\n",
       "<table border=\"1\" class=\"dataframe\">\n",
       "  <thead>\n",
       "    <tr style=\"text-align: right;\">\n",
       "      <th></th>\n",
       "      <th>fdc_id</th>\n",
       "      <th>data_type</th>\n",
       "      <th>description</th>\n",
       "      <th>category</th>\n",
       "    </tr>\n",
       "  </thead>\n",
       "  <tbody>\n",
       "    <tr>\n",
       "      <td>0</td>\n",
       "      <td>346049</td>\n",
       "      <td>branded_food</td>\n",
       "      <td>LIBBYS Corned Beef With Onion, 12 OZ</td>\n",
       "      <td>NaN</td>\n",
       "    </tr>\n",
       "    <tr>\n",
       "      <td>1</td>\n",
       "      <td>346050</td>\n",
       "      <td>branded_food</td>\n",
       "      <td>LIBBYS Corned Beef With Chili, 12 OZ</td>\n",
       "      <td>NaN</td>\n",
       "    </tr>\n",
       "    <tr>\n",
       "      <td>2</td>\n",
       "      <td>346464</td>\n",
       "      <td>branded_food</td>\n",
       "      <td>WOLF Chili Without Beans</td>\n",
       "      <td>NaN</td>\n",
       "    </tr>\n",
       "    <tr>\n",
       "      <td>3</td>\n",
       "      <td>346466</td>\n",
       "      <td>branded_food</td>\n",
       "      <td>WOLF Turkey Chili No Beans, 15 OZ</td>\n",
       "      <td>NaN</td>\n",
       "    </tr>\n",
       "    <tr>\n",
       "      <td>4</td>\n",
       "      <td>346468</td>\n",
       "      <td>branded_food</td>\n",
       "      <td>WOLF BRAND Chili With Beans, 24 oz., 24 OZ</td>\n",
       "      <td>NaN</td>\n",
       "    </tr>\n",
       "  </tbody>\n",
       "</table>\n",
       "</div>"
      ],
      "text/plain": [
       "   fdc_id     data_type                                 description category\n",
       "0  346049  branded_food        LIBBYS Corned Beef With Onion, 12 OZ      NaN\n",
       "1  346050  branded_food        LIBBYS Corned Beef With Chili, 12 OZ      NaN\n",
       "2  346464  branded_food                    WOLF Chili Without Beans      NaN\n",
       "3  346466  branded_food           WOLF Turkey Chili No Beans, 15 OZ      NaN\n",
       "4  346468  branded_food  WOLF BRAND Chili With Beans, 24 oz., 24 OZ      NaN"
      ]
     },
     "execution_count": 45,
     "metadata": {},
     "output_type": "execute_result"
    }
   ],
   "source": [
    "food_df = food_df.join(food_category_df.set_index(\"food_category_id\"),on=\"food_category_id\",how=\"left\")\n",
    "food_df.drop([\"food_category_id\"],axis=1,inplace=True)\n",
    "food_df.head()"
   ]
  },
  {
   "cell_type": "markdown",
   "metadata": {},
   "source": [
    "We see that a lot of categories are unfortunately missing from the governement database"
   ]
  },
  {
   "cell_type": "markdown",
   "metadata": {},
   "source": [
    "_At this stage we have 3 dataframes from our additional dataset for nutrition:_\n",
    "- food_df = fdc_id vs name of food item (string)\n",
    "- food_name_df = fdc_id vs parsed food title (list of string)\n",
    "- food_nutrients_df = fdc_id vs nutrients contained (multiindex)"
   ]
  },
  {
   "cell_type": "code",
   "execution_count": 46,
   "metadata": {},
   "outputs": [],
   "source": [
    "food_names_to_parse_df = food_df.copy()\n",
    "food_names_to_parse_df.description = food_names_to_parse_df.description.apply(parse)"
   ]
  },
  {
   "cell_type": "markdown",
   "metadata": {},
   "source": [
    "## Word Importance"
   ]
  },
  {
   "cell_type": "markdown",
   "metadata": {},
   "source": [
    "_We filter the words according to their importance: that is, a word is more important as it apears many times in both datasets: (Ex: 'orange' is more important than 'artificial'). The words occuring in only one dataset are of no importance. The rest of the algorithm follows the following pipeline:_"
   ]
  },
  {
   "cell_type": "code",
   "execution_count": null,
   "metadata": {},
   "outputs": [],
   "source": [
    "SVG(filename='untitled2.svg')"
   ]
  },
  {
   "cell_type": "code",
   "execution_count": 47,
   "metadata": {},
   "outputs": [],
   "source": [
    "def get_allwords(serie):\n",
    "    \"\"\"\n",
    "    serie: serie containing lists of words\n",
    "    return a dataframe containing\n",
    "      - column name: name of the unique articles found in the lists of the serie\n",
    "      - column count: how many times they appear in the serie\n",
    "    \"\"\"\n",
    "    allwords = np.concatenate(serie.ravel())\n",
    "    allwords = pd.Series(allwords)\n",
    "    allwords = pd.DataFrame(allwords,columns= [\"name\"])\n",
    "    allwords.reset_index(inplace = True)\n",
    "    allwords.rename(columns = {'index':'number'},inplace = True)\n",
    "    allwords = allwords.groupby('name').count().sort_values(by = 'number',ascending = False)\n",
    "    return allwords.reset_index()\n",
    "\n",
    "#all words present in the nutrition dataset\n",
    "all_words_nutrition = get_allwords(food_names_to_parse_df.description)\n",
    "\n",
    "#all words present in the product dataset\n",
    "all_words_supermarket = get_allwords(products_df.ingredients)"
   ]
  },
  {
   "cell_type": "markdown",
   "metadata": {},
   "source": [
    "#### Inner merge between the 2 sets of words:\n",
    "\n",
    "_we check which words occur in both dataframes: only these words will have importance in determining the type of food article we are dealing with. Of course, if no words are known from the nutrition dataset, the sample is not taken into account._\n"
   ]
  },
  {
   "cell_type": "code",
   "execution_count": 50,
   "metadata": {},
   "outputs": [],
   "source": [
    "common_words = pd.merge(all_words_supermarket,all_words_nutrition,left_on = 'name',right_on = 'name',suffixes=('_supermarket', '_nutrition'))"
   ]
  },
  {
   "cell_type": "code",
   "execution_count": 51,
   "metadata": {},
   "outputs": [
    {
     "name": "stdout",
     "output_type": "stream",
     "text": [
      "3141\n"
     ]
    },
    {
     "data": {
      "text/html": [
       "<div>\n",
       "<style scoped>\n",
       "    .dataframe tbody tr th:only-of-type {\n",
       "        vertical-align: middle;\n",
       "    }\n",
       "\n",
       "    .dataframe tbody tr th {\n",
       "        vertical-align: top;\n",
       "    }\n",
       "\n",
       "    .dataframe thead th {\n",
       "        text-align: right;\n",
       "    }\n",
       "</style>\n",
       "<table border=\"1\" class=\"dataframe\">\n",
       "  <thead>\n",
       "    <tr style=\"text-align: right;\">\n",
       "      <th></th>\n",
       "      <th>name</th>\n",
       "      <th>number_supermarket</th>\n",
       "      <th>number_nutrition</th>\n",
       "    </tr>\n",
       "  </thead>\n",
       "  <tbody>\n",
       "    <tr>\n",
       "      <td>0</td>\n",
       "      <td>frozen</td>\n",
       "      <td>5755</td>\n",
       "      <td>2633</td>\n",
       "    </tr>\n",
       "    <tr>\n",
       "      <td>1</td>\n",
       "      <td>snacks</td>\n",
       "      <td>3178</td>\n",
       "      <td>1913</td>\n",
       "    </tr>\n",
       "    <tr>\n",
       "      <td>2</td>\n",
       "      <td>meat</td>\n",
       "      <td>3090</td>\n",
       "      <td>2771</td>\n",
       "    </tr>\n",
       "    <tr>\n",
       "      <td>3</td>\n",
       "      <td>dry</td>\n",
       "      <td>2991</td>\n",
       "      <td>2533</td>\n",
       "    </tr>\n",
       "    <tr>\n",
       "      <td>4</td>\n",
       "      <td>premium</td>\n",
       "      <td>2423</td>\n",
       "      <td>4906</td>\n",
       "    </tr>\n",
       "    <tr>\n",
       "      <td>...</td>\n",
       "      <td>...</td>\n",
       "      <td>...</td>\n",
       "      <td>...</td>\n",
       "    </tr>\n",
       "    <tr>\n",
       "      <td>95</td>\n",
       "      <td>packs</td>\n",
       "      <td>705</td>\n",
       "      <td>77</td>\n",
       "    </tr>\n",
       "    <tr>\n",
       "      <td>96</td>\n",
       "      <td>pet</td>\n",
       "      <td>682</td>\n",
       "      <td>21</td>\n",
       "    </tr>\n",
       "    <tr>\n",
       "      <td>97</td>\n",
       "      <td>sald</td>\n",
       "      <td>655</td>\n",
       "      <td>1</td>\n",
       "    </tr>\n",
       "    <tr>\n",
       "      <td>98</td>\n",
       "      <td>cake</td>\n",
       "      <td>654</td>\n",
       "      <td>2836</td>\n",
       "    </tr>\n",
       "    <tr>\n",
       "      <td>99</td>\n",
       "      <td>natural</td>\n",
       "      <td>654</td>\n",
       "      <td>4044</td>\n",
       "    </tr>\n",
       "  </tbody>\n",
       "</table>\n",
       "<p>100 rows × 3 columns</p>\n",
       "</div>"
      ],
      "text/plain": [
       "       name  number_supermarket  number_nutrition\n",
       "0    frozen                5755              2633\n",
       "1    snacks                3178              1913\n",
       "2      meat                3090              2771\n",
       "3       dry                2991              2533\n",
       "4   premium                2423              4906\n",
       "..      ...                 ...               ...\n",
       "95    packs                 705                77\n",
       "96      pet                 682                21\n",
       "97     sald                 655                 1\n",
       "98     cake                 654              2836\n",
       "99  natural                 654              4044\n",
       "\n",
       "[100 rows x 3 columns]"
      ]
     },
     "execution_count": 51,
     "metadata": {},
     "output_type": "execute_result"
    }
   ],
   "source": [
    "print(common_words.size)\n",
    "common_words.head(100)"
   ]
  },
  {
   "cell_type": "code",
   "execution_count": 52,
   "metadata": {},
   "outputs": [
    {
     "ename": "NameError",
     "evalue": "name 'all_words_nut' is not defined",
     "output_type": "error",
     "traceback": [
      "\u001b[0;31m---------------------------------------------------------------------------\u001b[0m",
      "\u001b[0;31mNameError\u001b[0m                                 Traceback (most recent call last)",
      "\u001b[0;32m<ipython-input-52-28bd22d2440a>\u001b[0m in \u001b[0;36m<module>\u001b[0;34m\u001b[0m\n\u001b[1;32m      1\u001b[0m \u001b[0;31m#Manual check to see which words occur in which dataset\u001b[0m\u001b[0;34m\u001b[0m\u001b[0;34m\u001b[0m\u001b[0;34m\u001b[0m\u001b[0m\n\u001b[0;32m----> 2\u001b[0;31m \u001b[0mprint\u001b[0m\u001b[0;34m(\u001b[0m\u001b[0;34m'chocolate'\u001b[0m \u001b[0;32min\u001b[0m \u001b[0mall_words_nut\u001b[0m\u001b[0;34m.\u001b[0m\u001b[0mname\u001b[0m\u001b[0;34m.\u001b[0m\u001b[0mvalues\u001b[0m\u001b[0;34m)\u001b[0m\u001b[0;34m\u001b[0m\u001b[0;34m\u001b[0m\u001b[0m\n\u001b[0m\u001b[1;32m      3\u001b[0m \u001b[0mprint\u001b[0m\u001b[0;34m(\u001b[0m\u001b[0;34m'chocolate'\u001b[0m \u001b[0;32min\u001b[0m \u001b[0mall_words_art\u001b[0m\u001b[0;34m.\u001b[0m\u001b[0mname\u001b[0m\u001b[0;34m.\u001b[0m\u001b[0mvalues\u001b[0m\u001b[0;34m)\u001b[0m\u001b[0;34m\u001b[0m\u001b[0;34m\u001b[0m\u001b[0m\n",
      "\u001b[0;31mNameError\u001b[0m: name 'all_words_nut' is not defined"
     ]
    }
   ],
   "source": [
    "#Manual check to see which words occur in which dataset\n",
    "print('chocolate' in all_words_nut.name.values)\n",
    "print('chocolate' in all_words_art.name.values)"
   ]
  },
  {
   "cell_type": "markdown",
   "metadata": {},
   "source": [
    "## Assemble them together (and pray your god)"
   ]
  },
  {
   "cell_type": "code",
   "execution_count": 53,
   "metadata": {},
   "outputs": [],
   "source": [
    "def get_matches(test,food_list):\n",
    "    \"\"\"\n",
    "    test = list of strings to test\n",
    "    food_list: pandas dataframe linking the food article/id to the lists of words of its name\n",
    "    return all the articles whose words contain all of the words of test\n",
    "    \"\"\"\n",
    "    raise NotImplemented\n",
    "    \n",
    "def get_importance(word):\n",
    "    \"\"\"\n",
    "    word: string for which we want to know the  importance\n",
    "    return importance of word\n",
    "    \"\"\"\n",
    "    raise NotImplemented\n",
    "    \n",
    "def find_food(test,food_list):\n",
    "    \"\"\"\n",
    "    implementation of the graphic above\n",
    "    test = list of strings to test\n",
    "    food_list: pandas dataframe linking the food article/id to the lists of words of its name\n",
    "    return the best article\n",
    "    \"\"\"\n",
    "    if len(k) == 0:\n",
    "        #give up the sample\n",
    "        return 0 #dummy\n",
    "    \n",
    "    matches = get_matches(test,food_list)\n",
    "    if len(matches) == 0:\n",
    "        importance = [get_importance(i) for i in test]\n",
    "        mino = np.min(importance)\n",
    "        test = [i for i in test if i != mino]\n",
    "        return find_food(test,food_list)\n",
    "    elif len(matches) == 1:\n",
    "        return matches[0]\n",
    "    else:\n",
    "        sizes = [len(i) for i in matches]\n",
    "        minsize = np.min(sizes)\n",
    "        minsizes = [i for i in matches if len(i) == minsize]\n",
    "        if len(minsizes) == 1:\n",
    "            return minsizes[0]\n",
    "        else:\n",
    "            importances = [np.sum([get_importance(j) for j in trial]) for trial in minsizes]\n",
    "            armin_imp = np.argmin(importances)\n",
    "            return importances[armin_imp]\n",
    "                \n",
    "\n",
    "def find_food_naive(test,food_list):\n",
    "    \"\"\"\n",
    "    food_list: pandas dataframe linking the food article/id id to the lists of words of its name\n",
    "    test: list of strings you want to have an id for\n",
    "    return the corresponding food indx\n",
    "    \"\"\"\n",
    "    #TODO: improve the non unique max\n",
    "    scores = [get_score(test,i) for i in food_list.description]\n",
    "    maxo = np.max(scores)\n",
    "    if len([1 for x in scores if x == maxo]) > 1:\n",
    "        print(\"Multiple maximums!\")\n",
    "    armax = np.argmax(scores)\n",
    "    print('result: ',food_list.description[armax])\n",
    "    return food_list.fdc_id[armax]\n",
    "\n",
    "def get_score(test,trial):\n",
    "    \"\"\"\n",
    "    test: the list of strings you're trying to classify\n",
    "    trial: the list you want the score for\n",
    "    return the score of matching\n",
    "    \"\"\"\n",
    "    return np.sum([1 for i in test if i in trial])"
   ]
  },
  {
   "cell_type": "code",
   "execution_count": 54,
   "metadata": {},
   "outputs": [
    {
     "name": "stdout",
     "output_type": "stream",
     "text": [
      "Multiple maximums!\n",
      "result:  Dip, cheese with chili pepper (chili con queso)\n"
     ]
    },
    {
     "data": {
      "text/plain": [
       "336788"
      ]
     },
     "execution_count": 54,
     "metadata": {},
     "output_type": "execute_result"
    }
   ],
   "source": [
    "test1 = ['chili']\n",
    "find_food_naive(test1,food_df)"
   ]
  },
  {
   "cell_type": "code",
   "execution_count": 55,
   "metadata": {},
   "outputs": [
    {
     "data": {
      "text/html": [
       "<div>\n",
       "<style scoped>\n",
       "    .dataframe tbody tr th:only-of-type {\n",
       "        vertical-align: middle;\n",
       "    }\n",
       "\n",
       "    .dataframe tbody tr th {\n",
       "        vertical-align: top;\n",
       "    }\n",
       "\n",
       "    .dataframe thead th {\n",
       "        text-align: right;\n",
       "    }\n",
       "</style>\n",
       "<table border=\"1\" class=\"dataframe\">\n",
       "  <thead>\n",
       "    <tr style=\"text-align: right;\">\n",
       "      <th></th>\n",
       "      <th>amount</th>\n",
       "      <th>unit_name</th>\n",
       "    </tr>\n",
       "    <tr>\n",
       "      <th>name</th>\n",
       "      <th></th>\n",
       "      <th></th>\n",
       "    </tr>\n",
       "  </thead>\n",
       "  <tbody>\n",
       "    <tr>\n",
       "      <td>fiber</td>\n",
       "      <td>0.700</td>\n",
       "      <td>G</td>\n",
       "    </tr>\n",
       "    <tr>\n",
       "      <td>protein</td>\n",
       "      <td>3.140</td>\n",
       "      <td>G</td>\n",
       "    </tr>\n",
       "    <tr>\n",
       "      <td>total lipid</td>\n",
       "      <td>9.510</td>\n",
       "      <td>G</td>\n",
       "    </tr>\n",
       "    <tr>\n",
       "      <td>sodium</td>\n",
       "      <td>796.000</td>\n",
       "      <td>MG</td>\n",
       "    </tr>\n",
       "    <tr>\n",
       "      <td>cholesterol</td>\n",
       "      <td>9.000</td>\n",
       "      <td>MG</td>\n",
       "    </tr>\n",
       "    <tr>\n",
       "      <td>fatty acids total saturated</td>\n",
       "      <td>2.491</td>\n",
       "      <td>G</td>\n",
       "    </tr>\n",
       "    <tr>\n",
       "      <td>fatty acids total monounsaturated</td>\n",
       "      <td>2.762</td>\n",
       "      <td>G</td>\n",
       "    </tr>\n",
       "    <tr>\n",
       "      <td>fatty acids total polyunsaturated</td>\n",
       "      <td>3.643</td>\n",
       "      <td>G</td>\n",
       "    </tr>\n",
       "    <tr>\n",
       "      <td>sugars</td>\n",
       "      <td>1.950</td>\n",
       "      <td>G</td>\n",
       "    </tr>\n",
       "    <tr>\n",
       "      <td>energy</td>\n",
       "      <td>143.000</td>\n",
       "      <td>KCAL</td>\n",
       "    </tr>\n",
       "    <tr>\n",
       "      <td>vitamin b-6</td>\n",
       "      <td>0.043</td>\n",
       "      <td>MG</td>\n",
       "    </tr>\n",
       "    <tr>\n",
       "      <td>vitamin b-12</td>\n",
       "      <td>0.250</td>\n",
       "      <td>UG</td>\n",
       "    </tr>\n",
       "    <tr>\n",
       "      <td>vitamin k</td>\n",
       "      <td>17.600</td>\n",
       "      <td>UG</td>\n",
       "    </tr>\n",
       "    <tr>\n",
       "      <td>vitamin e</td>\n",
       "      <td>1.860</td>\n",
       "      <td>MG</td>\n",
       "    </tr>\n",
       "    <tr>\n",
       "      <td>vitamin a</td>\n",
       "      <td>33.000</td>\n",
       "      <td>UG</td>\n",
       "    </tr>\n",
       "    <tr>\n",
       "      <td>vitamin e</td>\n",
       "      <td>0.000</td>\n",
       "      <td>MG</td>\n",
       "    </tr>\n",
       "  </tbody>\n",
       "</table>\n",
       "</div>"
      ],
      "text/plain": [
       "                                    amount unit_name\n",
       "name                                                \n",
       "fiber                                0.700         G\n",
       "protein                              3.140         G\n",
       "total lipid                          9.510         G\n",
       "sodium                             796.000        MG\n",
       "cholesterol                          9.000        MG\n",
       "fatty acids total saturated          2.491         G\n",
       "fatty acids total monounsaturated    2.762         G\n",
       "fatty acids total polyunsaturated    3.643         G\n",
       "sugars                               1.950         G\n",
       "energy                             143.000      KCAL\n",
       "vitamin b-6                          0.043        MG\n",
       "vitamin b-12                         0.250        UG\n",
       "vitamin k                           17.600        UG\n",
       "vitamin e                            1.860        MG\n",
       "vitamin a                           33.000        UG\n",
       "vitamin e                            0.000        MG"
      ]
     },
     "execution_count": 55,
     "metadata": {},
     "output_type": "execute_result"
    }
   ],
   "source": [
    "food_df.head()\n",
    "food_nutrients_df.head()\n",
    "food_nutrients_df.loc[336788]"
   ]
  },
  {
   "cell_type": "code",
   "execution_count": 56,
   "metadata": {},
   "outputs": [
    {
     "name": "stdout",
     "output_type": "stream",
     "text": [
      "Multiple maximums!\n",
      "result:  LIBBYS Corned Beef With Onion, 12 OZ\n"
     ]
    },
    {
     "data": {
      "text/plain": [
       "346049"
      ]
     },
     "execution_count": 56,
     "metadata": {},
     "output_type": "execute_result"
    }
   ],
   "source": [
    "test1 = ['chocolate bar']\n",
    "find_food_naive(test1,food_df)\n",
    "#Problem: if no specific match -> returns corned beef w/ onion"
   ]
  },
  {
   "cell_type": "code",
   "execution_count": null,
   "metadata": {},
   "outputs": [],
   "source": [
    "#TO DO: put name and food category into gov database??"
   ]
  }
 ],
 "metadata": {
  "kernelspec": {
   "display_name": "Python 3",
   "language": "python",
   "name": "python3"
  },
  "language_info": {
   "codemirror_mode": {
    "name": "ipython",
    "version": 3
   },
   "file_extension": ".py",
   "mimetype": "text/x-python",
   "name": "python",
   "nbconvert_exporter": "python",
   "pygments_lexer": "ipython3",
   "version": "3.6.8"
  }
 },
 "nbformat": 4,
 "nbformat_minor": 4
}
