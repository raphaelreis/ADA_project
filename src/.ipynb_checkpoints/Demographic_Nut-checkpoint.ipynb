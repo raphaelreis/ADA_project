{
 "cells": [
  {
   "cell_type": "markdown",
   "metadata": {},
   "source": [
    "# Nutrition Datas: Extracting trends from our customers"
   ]
  },
  {
   "cell_type": "markdown",
   "metadata": {},
   "source": [
    "<div class=\"alert alert-block alert-info\">\n",
    "Now we are done with scrapping nutrition values, we want to build the actual nutrition profile: in order to do so, we first need to first extract the mass of each article, in order to assess the total sold mass.\n",
    "</div>"
   ]
  },
  {
   "cell_type": "code",
   "execution_count": 34,
   "metadata": {},
   "outputs": [],
   "source": [
    "from __future__ import print_function\n",
    "\n",
    "%matplotlib inline\n",
    "import re\n",
    "import os\n",
    "import numpy as np\n",
    "import pandas as pd\n",
    "import seaborn as sns\n",
    "from requests import get\n",
    "from bs4 import BeautifulSoup\n",
    "import matplotlib.pyplot as plt\n",
    "import pickle\n",
    "from scipy import stats\n",
    "from matplotlib.ticker import MaxNLocator\n",
    "import re\n",
    "from ipywidgets import interact, interactive, fixed, interact_manual\n",
    "import ipywidgets as widgets\n",
    "import pickle\n",
    "import sys\n",
    "sys.path.insert(1, './utilities/')\n",
    "import weight_functions as wf \n",
    "from tabulate import tabulate"
   ]
  },
  {
   "cell_type": "code",
   "execution_count": 35,
   "metadata": {},
   "outputs": [],
   "source": [
    "product_df = pd.read_csv('../data/dunnhumby_data/product.csv')\n",
    "transaction_data_df = pd.read_csv('../data/dunnhumby_data/transaction_data.csv')\n"
   ]
  },
  {
   "cell_type": "markdown",
   "metadata": {},
   "source": [
    "## Limiting our dataset"
   ]
  },
  {
   "cell_type": "code",
   "execution_count": 36,
   "metadata": {},
   "outputs": [],
   "source": [
    "food_related_arr = np.array(['NUTRITION','GROCERY','PASTRY','MEAT-PCKGD','SEAFOOD-PCKGD','PRODUCE','DELI','MEAT','SALAD BAR','GRO BAKERY','FROZEN GROCERY','SPIRITS','RESTAURANT'])\n",
    "#products related to food only\n",
    "food_product_df = product_df.loc[(product_df['DEPARTMENT'].isin(food_related_arr))]\n",
    "food_product_df = food_product_df[~food_product_df.COMMODITY_DESC.isin(['PAPER TOWELS','BATH TISSUES','LAUNDRY DETERGENTS','FD WRAPS/BAGS/TRSH BG']) ]\n",
    "\n",
    "#transaction dataset related to food only\n",
    "food_transaction_data = transaction_data_df.merge(food_product_df,how = 'inner',on = 'PRODUCT_ID')\n",
    "food_transaction_data['dunn_name'] = food_transaction_data['COMMODITY_DESC'] + \" \" + food_transaction_data['SUB_COMMODITY_DESC']\n",
    "food_transaction_data = food_transaction_data.drop(columns = ['COMMODITY_DESC','SUB_COMMODITY_DESC'])[['household_key','BASKET_ID','PRODUCT_ID','QUANTITY','CURR_SIZE_OF_PRODUCT','dunn_name']]"
   ]
  },
  {
   "cell_type": "code",
   "execution_count": 37,
   "metadata": {},
   "outputs": [
    {
     "data": {
      "text/html": [
       "<div>\n",
       "<style scoped>\n",
       "    .dataframe tbody tr th:only-of-type {\n",
       "        vertical-align: middle;\n",
       "    }\n",
       "\n",
       "    .dataframe tbody tr th {\n",
       "        vertical-align: top;\n",
       "    }\n",
       "\n",
       "    .dataframe thead th {\n",
       "        text-align: right;\n",
       "    }\n",
       "</style>\n",
       "<table border=\"1\" class=\"dataframe\">\n",
       "  <thead>\n",
       "    <tr style=\"text-align: right;\">\n",
       "      <th></th>\n",
       "      <th>PRODUCT_ID</th>\n",
       "      <th>MANUFACTURER</th>\n",
       "      <th>DEPARTMENT</th>\n",
       "      <th>BRAND</th>\n",
       "      <th>COMMODITY_DESC</th>\n",
       "      <th>SUB_COMMODITY_DESC</th>\n",
       "      <th>CURR_SIZE_OF_PRODUCT</th>\n",
       "    </tr>\n",
       "  </thead>\n",
       "  <tbody>\n",
       "    <tr>\n",
       "      <td>168</td>\n",
       "      <td>32160</td>\n",
       "      <td>69</td>\n",
       "      <td>GROCERY</td>\n",
       "      <td>Private</td>\n",
       "      <td>WATER - CARBONATED/FLVRD DRINK</td>\n",
       "      <td>NON-CRBNTD DRNKING/MNERAL WATE</td>\n",
       "      <td>2.50 GA</td>\n",
       "    </tr>\n",
       "    <tr>\n",
       "      <td>304</td>\n",
       "      <td>35895</td>\n",
       "      <td>1208</td>\n",
       "      <td>GROCERY</td>\n",
       "      <td>National</td>\n",
       "      <td>WATER - CARBONATED/FLVRD DRINK</td>\n",
       "      <td>NON-CRBNTD DRNKING/MNERAL WATE</td>\n",
       "      <td>33.8 OZ</td>\n",
       "    </tr>\n",
       "    <tr>\n",
       "      <td>390</td>\n",
       "      <td>39839</td>\n",
       "      <td>69</td>\n",
       "      <td>GROCERY</td>\n",
       "      <td>Private</td>\n",
       "      <td>WATER - CARBONATED/FLVRD DRINK</td>\n",
       "      <td>NON-CRBNTD DRNKING/MNERAL WATE</td>\n",
       "      <td>1 GA</td>\n",
       "    </tr>\n",
       "    <tr>\n",
       "      <td>1568</td>\n",
       "      <td>84208</td>\n",
       "      <td>1208</td>\n",
       "      <td>GROCERY</td>\n",
       "      <td>National</td>\n",
       "      <td>WATER - CARBONATED/FLVRD DRINK</td>\n",
       "      <td>NON-CRBNTD DRNKING/MNERAL WATE</td>\n",
       "      <td>20 OZ</td>\n",
       "    </tr>\n",
       "    <tr>\n",
       "      <td>1972</td>\n",
       "      <td>100389</td>\n",
       "      <td>1208</td>\n",
       "      <td>GROCERY</td>\n",
       "      <td>National</td>\n",
       "      <td>WATER - CARBONATED/FLVRD DRINK</td>\n",
       "      <td>NON-CRBNTD DRNKING/MNERAL WATE</td>\n",
       "      <td>.5 LTR</td>\n",
       "    </tr>\n",
       "    <tr>\n",
       "      <td>...</td>\n",
       "      <td>...</td>\n",
       "      <td>...</td>\n",
       "      <td>...</td>\n",
       "      <td>...</td>\n",
       "      <td>...</td>\n",
       "      <td>...</td>\n",
       "      <td>...</td>\n",
       "    </tr>\n",
       "    <tr>\n",
       "      <td>70111</td>\n",
       "      <td>9837404</td>\n",
       "      <td>103</td>\n",
       "      <td>GROCERY</td>\n",
       "      <td>National</td>\n",
       "      <td>WATER - CARBONATED/FLVRD DRINK</td>\n",
       "      <td>NON-CRBNTD DRNKING/MNERAL WATE</td>\n",
       "      <td>144 OZ</td>\n",
       "    </tr>\n",
       "    <tr>\n",
       "      <td>71219</td>\n",
       "      <td>9993322</td>\n",
       "      <td>69</td>\n",
       "      <td>GROCERY</td>\n",
       "      <td>Private</td>\n",
       "      <td>WATER - CARBONATED/FLVRD DRINK</td>\n",
       "      <td>NON-CRBNTD DRNKING/MNERAL WATE</td>\n",
       "      <td>2416.9 OZ</td>\n",
       "    </tr>\n",
       "    <tr>\n",
       "      <td>72524</td>\n",
       "      <td>10256703</td>\n",
       "      <td>6231</td>\n",
       "      <td>GROCERY</td>\n",
       "      <td>National</td>\n",
       "      <td>WATER - CARBONATED/FLVRD DRINK</td>\n",
       "      <td>NON-CRBNTD DRNKING/MNERAL WATE</td>\n",
       "      <td>5 GL</td>\n",
       "    </tr>\n",
       "    <tr>\n",
       "      <td>81320</td>\n",
       "      <td>13115723</td>\n",
       "      <td>103</td>\n",
       "      <td>GROCERY</td>\n",
       "      <td>National</td>\n",
       "      <td>WATER - CARBONATED/FLVRD DRINK</td>\n",
       "      <td>NON-CRBNTD DRNKING/MNERAL WATE</td>\n",
       "      <td>20 OZ</td>\n",
       "    </tr>\n",
       "    <tr>\n",
       "      <td>81369</td>\n",
       "      <td>13115873</td>\n",
       "      <td>103</td>\n",
       "      <td>GROCERY</td>\n",
       "      <td>National</td>\n",
       "      <td>WATER - CARBONATED/FLVRD DRINK</td>\n",
       "      <td>NON-CRBNTD DRNKING/MNERAL WATE</td>\n",
       "      <td>101.4 OZ</td>\n",
       "    </tr>\n",
       "  </tbody>\n",
       "</table>\n",
       "<p>113 rows × 7 columns</p>\n",
       "</div>"
      ],
      "text/plain": [
       "       PRODUCT_ID  MANUFACTURER DEPARTMENT     BRAND  \\\n",
       "168         32160            69    GROCERY   Private   \n",
       "304         35895          1208    GROCERY  National   \n",
       "390         39839            69    GROCERY   Private   \n",
       "1568        84208          1208    GROCERY  National   \n",
       "1972       100389          1208    GROCERY  National   \n",
       "...           ...           ...        ...       ...   \n",
       "70111     9837404           103    GROCERY  National   \n",
       "71219     9993322            69    GROCERY   Private   \n",
       "72524    10256703          6231    GROCERY  National   \n",
       "81320    13115723           103    GROCERY  National   \n",
       "81369    13115873           103    GROCERY  National   \n",
       "\n",
       "                       COMMODITY_DESC              SUB_COMMODITY_DESC  \\\n",
       "168    WATER - CARBONATED/FLVRD DRINK  NON-CRBNTD DRNKING/MNERAL WATE   \n",
       "304    WATER - CARBONATED/FLVRD DRINK  NON-CRBNTD DRNKING/MNERAL WATE   \n",
       "390    WATER - CARBONATED/FLVRD DRINK  NON-CRBNTD DRNKING/MNERAL WATE   \n",
       "1568   WATER - CARBONATED/FLVRD DRINK  NON-CRBNTD DRNKING/MNERAL WATE   \n",
       "1972   WATER - CARBONATED/FLVRD DRINK  NON-CRBNTD DRNKING/MNERAL WATE   \n",
       "...                               ...                             ...   \n",
       "70111  WATER - CARBONATED/FLVRD DRINK  NON-CRBNTD DRNKING/MNERAL WATE   \n",
       "71219  WATER - CARBONATED/FLVRD DRINK  NON-CRBNTD DRNKING/MNERAL WATE   \n",
       "72524  WATER - CARBONATED/FLVRD DRINK  NON-CRBNTD DRNKING/MNERAL WATE   \n",
       "81320  WATER - CARBONATED/FLVRD DRINK  NON-CRBNTD DRNKING/MNERAL WATE   \n",
       "81369  WATER - CARBONATED/FLVRD DRINK  NON-CRBNTD DRNKING/MNERAL WATE   \n",
       "\n",
       "      CURR_SIZE_OF_PRODUCT  \n",
       "168                2.50 GA  \n",
       "304                33.8 OZ  \n",
       "390                   1 GA  \n",
       "1568                 20 OZ  \n",
       "1972                .5 LTR  \n",
       "...                    ...  \n",
       "70111               144 OZ  \n",
       "71219            2416.9 OZ  \n",
       "72524                 5 GL  \n",
       "81320                20 OZ  \n",
       "81369             101.4 OZ  \n",
       "\n",
       "[113 rows x 7 columns]"
      ]
     },
     "execution_count": 37,
     "metadata": {},
     "output_type": "execute_result"
    }
   ],
   "source": [
    "food_product_df[food_product_df.SUB_COMMODITY_DESC.str.contains('NON-CRBNTD DRNK')]"
   ]
  },
  {
   "cell_type": "markdown",
   "metadata": {},
   "source": [
    "<div class=\"alert alert-block alert-info\">    \n",
    "Ideally one want to have an idea of which items are consumed the most in terms of mass, unfortunately, the mass section presents a lot of different units which are not easily parsable.\n",
    "</div>"
   ]
  },
  {
   "cell_type": "code",
   "execution_count": 38,
   "metadata": {},
   "outputs": [
    {
     "data": {
      "text/plain": [
       "array(['31.40 OZ', '*    20 OZ', '40 CT', '15.50 OZ', '6CT/37.2OZ',\n",
       "       '2.25 LB', '11.50 OZ', '4 PACK', '176 OZ', '17.5 OZ', '5.7 OZ',\n",
       "       '8.82 OZ', '16.9 OZ', '28 OZ', '50 LB', '4 USE', '6/12OZ', '8.5OZ',\n",
       "       '4-5IN', '6PK/10 OZ', '6-3.25 OZ', '2 LBS 11OZ', '6PK/4OZ',\n",
       "       'OVER 50 LB', '18PK  12OZ', '2.53 OZ', '4/12 OZ', '20 OZ.',\n",
       "       '19.5OZ', '21.1 OZ'], dtype=object)"
      ]
     },
     "execution_count": 38,
     "metadata": {},
     "output_type": "execute_result"
    }
   ],
   "source": [
    "#as we can see, there are a lot of different units\n",
    "units = food_transaction_data.CURR_SIZE_OF_PRODUCT.unique()\n",
    "index = np.random.choice(units.shape[0], 30, replace=False)  \n",
    "units[index]"
   ]
  },
  {
   "cell_type": "markdown",
   "metadata": {},
   "source": [
    "## Extracting the weight"
   ]
  },
  {
   "cell_type": "markdown",
   "metadata": {},
   "source": [
    "<div class=\"alert alert-block alert-info\">\n",
    "The goal consists in extracting the weights to numerical values using regexes. Unfortunately, all units cannot be taken into account.\n",
    "</div>"
   ]
  },
  {
   "cell_type": "code",
   "execution_count": 39,
   "metadata": {},
   "outputs": [
    {
     "name": "stdout",
     "output_type": "stream",
     "text": [
      "List of units not treated by the regex: ['60 LOAD' '40 LOAD' '10 INCH' 'LARGE' '1GL' '1 KIT' '34 LD' '4 INCH'\n",
      " '2 PACK' '80 USE' '40 LOADS' '60 LOADS' '6 USE' '3 PACK' '52 LD'\n",
      " '8-9 INCH' '60 GM' '7 IN' '60 LD' '3.5 INCH' '5.5 INCH' '1IN X 18IN'\n",
      " '1IN X 22IN' '5 PIECE' '5 INCH' '120 USE' '3X4 IN' '8 INCH' 'BIN' '9 IN'\n",
      " '90 LOAD' '4.5 INCH' '9 COUNT' '15 INCH' '7 INCH' '6.7 INCH' '1/2 BU BOX'\n",
      " '5/8 X 12IN' '3/8 X 10IN' '1/4 X 4 FT' '24 BUNCHES' '10 IN' '3 DOSE/LRG'\n",
      " '4/6 PACK' 'TALL' '9 INCH' '8-9 IN' '3/8 X 12IN' '3/8 X 8 IN'\n",
      " '1IN X 26IN' '2 PIECE' '1500 CU IN' '3/4 X 18IN' '28 GM' '52 LOAD'\n",
      " '6 COUNT' '3/8 INCH' '12 COUNT' 'MED' '3/4 X 6 FT' '3 POUND' '3/8 X 6 FT'\n",
      " 'GL' '3-4 IN' '4-5IN' '10 COUNT' '100 GRAM' '1.5 LIT' '2 MM' 'REGULAR'\n",
      " '2 INCH' '26 LD' '14 INCH' '20 BAGS' '1 INCH LRG' '4 PACK' '750 CU IN'\n",
      " '12 STICKS' '1 INCH' '24 STRIPS' '45 GRAM' '3 PIECE' '3/4 IN MED'\n",
      " '5 INCHES' '70 LD' '37GRAMS' '3.0 LIT' '6 PC' '3 LIT' 'HD 20FT'\n",
      " '8IN X 14IN' '1IN X 24IN' '1 GL' '12 INCH' '22IN HVY' '1IN X 6 FT'\n",
      " 'ASSORTMENT' '3 1/4 INCH' '2 POUND' '14IN LIGHT' '3/4 X 20IN' '4 USE'\n",
      " '32 LD' '32 LOADS' '32 LOAD' '8.87 INCH' '5.8 X 4 FT' '105 LOADS'\n",
      " '4X6X1IN' 'SM' '3.25 INCH' '400SQ FT' '1 BOX' '120 LD' '5 GL']\n"
     ]
    }
   ],
   "source": [
    "bad_units = food_transaction_data[~food_transaction_data.CURR_SIZE_OF_PRODUCT.str.contains('^.*(?:LB|GA|DZ|OZ|OUNCE|PK|CT|LITER|LT|LTR|ML|QT|PT|PINT|QUART).*$|^\\s?$',regex=True)].CURR_SIZE_OF_PRODUCT.unique()\n",
    "print('List of units not treated by the regex: {}'.format(bad_units))"
   ]
  },
  {
   "cell_type": "markdown",
   "metadata": {},
   "source": [
    "<div class=\"alert alert-block alert-info\">\n",
    "Luckily, the vast majority of our food data gets treated.\n",
    "</div>"
   ]
  },
  {
   "cell_type": "code",
   "execution_count": 40,
   "metadata": {},
   "outputs": [
    {
     "name": "stdout",
     "output_type": "stream",
     "text": [
      "99.86288554965542 % of the data is treated\n"
     ]
    }
   ],
   "source": [
    "food_trans_clean_df = food_transaction_data[food_transaction_data.CURR_SIZE_OF_PRODUCT.str.contains('^.*(?:LB|GA|DZ|OZ|OUNCE|PK|CT|LITER|LT|LTR|ML|QT|PT|PINT|QUART).*$|^\\s?$',regex=True)].copy()\n",
    "print('{} % of the data is treated'.format(food_trans_clean_df.shape[0] / food_transaction_data.shape[0] * 100))"
   ]
  },
  {
   "cell_type": "markdown",
   "metadata": {},
   "source": [
    "<div class=\"alert alert-block alert-info\">\n",
    "The followings are the units we take into account for our data:\n",
    "</div>"
   ]
  },
  {
   "cell_type": "markdown",
   "metadata": {},
   "source": [
    "LB = pounds<br>\n",
    "GA = gallons<br>\n",
    "DZ = dozens (eggs)<br>\n",
    "OZ,OUNCE = ounces<br>\n",
    "PK = pack (0.33 liters)<br>\n",
    "LITER LT = liters<br>\n",
    "ML = milliliters<br>\n",
    "PT = pint (0.473176473 liters)<br>"
   ]
  },
  {
   "cell_type": "markdown",
   "metadata": {},
   "source": [
    "<div class=\"alert alert-block alert-info\">\n",
    "Once again, regexes are used (cf weight_functions.py) in order to parse the weight and convert it into kg. All the liquids were assumed to have water-like density. You can test the tool in the following cell.\n",
    "</div>"
   ]
  },
  {
   "cell_type": "code",
   "execution_count": 41,
   "metadata": {},
   "outputs": [
    {
     "data": {
      "application/vnd.jupyter.widget-view+json": {
       "model_id": "8ecda9a5fe1948c5b9924e47a30282fe",
       "version_major": 2,
       "version_minor": 0
      },
      "text/plain": [
       "interactive(children=(IntSlider(value=0, description='x', max=4), Output()), _dom_classes=('widget-interact',)…"
      ]
     },
     "metadata": {},
     "output_type": "display_data"
    }
   ],
   "source": [
    "UNITS = ['LB','GA','DZ','OZ','OUNCE','PK','CT','LITER','LT','ML','QT','PT']\n",
    "\n",
    "test_weights_volumes = ['422 Lt','(600) 4OUNCE','5.323 OZ','there is 3 pint','2 CT']\n",
    "def f(x):\n",
    "    tested = test_weights_volumes[x]\n",
    "    print('Tested expression: %s .Equivalent weight computed: %.2f kg' % (tested,wf.get_weight(tested)))\n",
    "interact(f, x=widgets.IntSlider(min=0, max=len(test_weights_volumes) - 1, step=1, value=0));\n"
   ]
  },
  {
   "cell_type": "code",
   "execution_count": 42,
   "metadata": {},
   "outputs": [],
   "source": [
    "food_trans_clean_df['SINGLE_WEIGHT']  = food_trans_clean_df.CURR_SIZE_OF_PRODUCT.apply(wf.get_weight).values"
   ]
  },
  {
   "cell_type": "markdown",
   "metadata": {},
   "source": [
    "<div class=\"alert alert-block alert-info\">\n",
    "The same method is used to extract the weight of the articles.\n",
    "Unfortunately, the data whose metric is either CT,QT (quantity) or simply not present cannot easily be computed as this would require items specific weights. (a capsicon does not have the same weight as a pumpkin) \n",
    "\n",
    "We thus ask the user to estimate the weight of each item, thanks to the function start_create_single_weights.\n",
    "</div>"
   ]
  },
  {
   "cell_type": "code",
   "execution_count": 43,
   "metadata": {},
   "outputs": [
    {
     "name": "stdout",
     "output_type": "stream",
     "text": [
      "Successful read.\n",
      "Successful read.\n",
      "Successful read.\n"
     ]
    }
   ],
   "source": [
    "#The three dataframes were user input created\n",
    "single_weights_ct_df = pd.DataFrame.from_dict(wf.start_create_single_weights('CT',food_trans_clean_df),orient = 'index')\\\n",
    "                        .rename(columns = {0: 'SINGLE_WEIGHT'})\n",
    "single_weights_qt_df = pd.DataFrame.from_dict(wf.start_create_single_weights('QT',food_trans_clean_df),orient = 'index')\\\n",
    "                        .rename(columns = {0: 'SINGLE_WEIGHT'})\n",
    "single_weights_space_df = pd.DataFrame.from_dict(wf.start_create_single_weights('space',food_trans_clean_df),orient = 'index')\\\n",
    "                        .rename(columns = {0: 'SINGLE_WEIGHT'})"
   ]
  },
  {
   "cell_type": "code",
   "execution_count": 44,
   "metadata": {},
   "outputs": [],
   "source": [
    "food_trans_clean_df = food_trans_clean_df.join(single_weights_ct_df,how = 'left',rsuffix ='_r')\n",
    "food_trans_clean_df.SINGLE_WEIGHT.fillna(food_trans_clean_df.SINGLE_WEIGHT_r,inplace = True)\n",
    "food_trans_clean_df.drop(columns = 'SINGLE_WEIGHT_r',inplace = True)\n",
    "\n",
    "food_trans_clean_df = food_trans_clean_df.join(single_weights_qt_df,how = 'left',rsuffix ='_r')\n",
    "food_trans_clean_df.SINGLE_WEIGHT.fillna(food_trans_clean_df.SINGLE_WEIGHT_r,inplace = True)\n",
    "food_trans_clean_df.drop(columns = 'SINGLE_WEIGHT_r',inplace = True)\n",
    "\n",
    "food_trans_clean_df = food_trans_clean_df.join(single_weights_space_df,how = 'left',rsuffix ='_r')\n",
    "food_trans_clean_df.SINGLE_WEIGHT.fillna(food_trans_clean_df.SINGLE_WEIGHT_r,inplace = True)\n",
    "food_trans_clean_df.drop(columns = 'SINGLE_WEIGHT_r',inplace = True)"
   ]
  },
  {
   "cell_type": "code",
   "execution_count": 45,
   "metadata": {},
   "outputs": [],
   "source": [
    "food_trans_clean_df['TOT_WEIGHT'] = food_trans_clean_df.SINGLE_WEIGHT * food_trans_clean_df.QUANTITY\n",
    "food_trans_clean_df.sort_values(by = 'TOT_WEIGHT',ascending = False,inplace = True)"
   ]
  },
  {
   "cell_type": "markdown",
   "metadata": {},
   "source": [
    "<div class=\"alert alert-block alert-info\">\n",
    "We now have a dataframe which takes the weight of the items for each transaction.\n",
    "</div>"
   ]
  },
  {
   "cell_type": "code",
   "execution_count": 46,
   "metadata": {},
   "outputs": [
    {
     "data": {
      "text/html": [
       "<div>\n",
       "<style scoped>\n",
       "    .dataframe tbody tr th:only-of-type {\n",
       "        vertical-align: middle;\n",
       "    }\n",
       "\n",
       "    .dataframe tbody tr th {\n",
       "        vertical-align: top;\n",
       "    }\n",
       "\n",
       "    .dataframe thead th {\n",
       "        text-align: right;\n",
       "    }\n",
       "</style>\n",
       "<table border=\"1\" class=\"dataframe\">\n",
       "  <thead>\n",
       "    <tr style=\"text-align: right;\">\n",
       "      <th></th>\n",
       "      <th>household_key</th>\n",
       "      <th>BASKET_ID</th>\n",
       "      <th>PRODUCT_ID</th>\n",
       "      <th>QUANTITY</th>\n",
       "      <th>CURR_SIZE_OF_PRODUCT</th>\n",
       "      <th>dunn_name</th>\n",
       "      <th>SINGLE_WEIGHT</th>\n",
       "      <th>TOT_WEIGHT</th>\n",
       "    </tr>\n",
       "  </thead>\n",
       "  <tbody>\n",
       "    <tr>\n",
       "      <td>329139</td>\n",
       "      <td>1566</td>\n",
       "      <td>35146090575</td>\n",
       "      <td>957951</td>\n",
       "      <td>22</td>\n",
       "      <td>22 LB</td>\n",
       "      <td>FRZN ICE ICE - CRUSHED/CUBED</td>\n",
       "      <td>9.979024</td>\n",
       "      <td>219.538528</td>\n",
       "    </tr>\n",
       "    <tr>\n",
       "      <td>1848213</td>\n",
       "      <td>1637</td>\n",
       "      <td>41573574844</td>\n",
       "      <td>874753</td>\n",
       "      <td>10</td>\n",
       "      <td>40 LB</td>\n",
       "      <td>HOUSEHOLD CLEANG NEEDS SALT/WATER CONDITIONERS</td>\n",
       "      <td>18.143680</td>\n",
       "      <td>181.436800</td>\n",
       "    </tr>\n",
       "    <tr>\n",
       "      <td>2022195</td>\n",
       "      <td>1023</td>\n",
       "      <td>32259671060</td>\n",
       "      <td>836878</td>\n",
       "      <td>10</td>\n",
       "      <td>40 LB</td>\n",
       "      <td>HOUSEHOLD CLEANG NEEDS SALT/WATER CONDITIONERS</td>\n",
       "      <td>18.143680</td>\n",
       "      <td>181.436800</td>\n",
       "    </tr>\n",
       "    <tr>\n",
       "      <td>22974</td>\n",
       "      <td>691</td>\n",
       "      <td>33421101510</td>\n",
       "      <td>1082185</td>\n",
       "      <td>9</td>\n",
       "      <td>40 LB</td>\n",
       "      <td>TROPICAL FRUIT BANANAS</td>\n",
       "      <td>18.143680</td>\n",
       "      <td>163.293120</td>\n",
       "    </tr>\n",
       "    <tr>\n",
       "      <td>2105435</td>\n",
       "      <td>57</td>\n",
       "      <td>31624497521</td>\n",
       "      <td>13038540</td>\n",
       "      <td>9</td>\n",
       "      <td>38 LB</td>\n",
       "      <td>ORGANICS FRUIT &amp; VEGETABLES ORGANIC CITRUS</td>\n",
       "      <td>17.236496</td>\n",
       "      <td>155.128464</td>\n",
       "    </tr>\n",
       "  </tbody>\n",
       "</table>\n",
       "</div>"
      ],
      "text/plain": [
       "         household_key    BASKET_ID  PRODUCT_ID  QUANTITY  \\\n",
       "329139            1566  35146090575      957951        22   \n",
       "1848213           1637  41573574844      874753        10   \n",
       "2022195           1023  32259671060      836878        10   \n",
       "22974              691  33421101510     1082185         9   \n",
       "2105435             57  31624497521    13038540         9   \n",
       "\n",
       "        CURR_SIZE_OF_PRODUCT                                       dunn_name  \\\n",
       "329139                 22 LB                    FRZN ICE ICE - CRUSHED/CUBED   \n",
       "1848213                40 LB  HOUSEHOLD CLEANG NEEDS SALT/WATER CONDITIONERS   \n",
       "2022195                40 LB  HOUSEHOLD CLEANG NEEDS SALT/WATER CONDITIONERS   \n",
       "22974                  40 LB                          TROPICAL FRUIT BANANAS   \n",
       "2105435                38 LB      ORGANICS FRUIT & VEGETABLES ORGANIC CITRUS   \n",
       "\n",
       "         SINGLE_WEIGHT  TOT_WEIGHT  \n",
       "329139        9.979024  219.538528  \n",
       "1848213      18.143680  181.436800  \n",
       "2022195      18.143680  181.436800  \n",
       "22974        18.143680  163.293120  \n",
       "2105435      17.236496  155.128464  "
      ]
     },
     "execution_count": 46,
     "metadata": {},
     "output_type": "execute_result"
    }
   ],
   "source": [
    "food_trans_clean_df.head(5)"
   ]
  },
  {
   "cell_type": "markdown",
   "metadata": {},
   "source": [
    "## Adding the nutrition"
   ]
  },
  {
   "cell_type": "markdown",
   "metadata": {},
   "source": [
    "<div class=\"alert alert-block alert-info\">\n",
    " The next step consists in adding the nutrition value for each of these transactions.\n",
    "</div>"
   ]
  },
  {
   "cell_type": "code",
   "execution_count": 47,
   "metadata": {},
   "outputs": [],
   "source": [
    "with open(r\"../results/dunnhumb_articles_nutriments.pickle\", \"rb\") as input_file:\n",
    "    all_nutrition = pickle.load(input_file)\n",
    "with open(r\"../results/nutriments_units.pickle\", \"rb\") as input_file:\n",
    "    nutriment_units_df = pickle.load(input_file)\n",
    "    nutriment_units_df = nutriment_units_df[nutriment_units_df.unit_name != 'kJ']\n",
    "hh_demographic_df = pd.read_csv('../data/dunnhumby_data/hh_demographic.csv')"
   ]
  },
  {
   "cell_type": "code",
   "execution_count": 48,
   "metadata": {},
   "outputs": [],
   "source": [
    "#extract the list of nutriments\n",
    "nutriments = all_nutrition.drop(all_nutrition.columns[np.arange(5)],axis = 1).columns.values\n",
    "nutriments = np.append(nutriments[1:],nutriments[:1])"
   ]
  },
  {
   "cell_type": "code",
   "execution_count": 49,
   "metadata": {},
   "outputs": [],
   "source": [
    "#(1) we groupby the name of each article in order to extract trends from the most sold items in terms of sold mass\n",
    "tot_weight_nut_df = food_trans_clean_df.groupby(['dunn_name']).agg({'TOT_WEIGHT':'sum','QUANTITY':'sum'})\\\n",
    "                     .join(all_nutrition.set_index('dunn_name'),how = 'inner')\\\n",
    "                     .sort_values(by = 'TOT_WEIGHT',ascending = False)\\\n",
    "                     .reset_index()\\\n",
    "                     .copy()\n",
    "    \n",
    "#(2) we groupby the name of each article in terms of number of sells this time\n",
    "tot_sells_nut_df = food_trans_clean_df.groupby(['dunn_name']).agg({'QUANTITY':'sum'})\\\n",
    "                     .join(all_nutrition.set_index('dunn_name'),how = 'inner')\\\n",
    "                     .sort_values(by = 'QUANTITY',ascending = False)\\\n",
    "                     .reset_index()\\\n",
    "                     .copy()\n",
    "\n",
    "#(3) we groupby the household, in order to detect specific nutritional behavior\n",
    "house_nut_df = food_trans_clean_df.groupby(['household_key','dunn_name'])\\\n",
    "                      .agg({'TOT_WEIGHT':'sum'})\\\n",
    "                      .reset_index()\\\n",
    "                      .join(all_nutrition.set_index('dunn_name'),on = 'dunn_name',how = 'inner')\\\n",
    "                      .sort_values(by = 'TOT_WEIGHT',ascending = False)\\\n",
    "                      .copy()\n",
    "# compute the mass (0.1kg as unit) of each nutriment for each article\n",
    "for nut in nutriments:\n",
    "    tot_nut = 'tot_' + nut\n",
    "    house_nut_df[tot_nut] = house_nut_df.TOT_WEIGHT.multiply(house_nut_df[nut])\n",
    "    tot_weight_nut_df[tot_nut] = tot_weight_nut_df.TOT_WEIGHT.multiply(tot_weight_nut_df[nut])\n"
   ]
  },
  {
   "cell_type": "markdown",
   "metadata": {},
   "source": [
    "### Total soup"
   ]
  },
  {
   "cell_type": "markdown",
   "metadata": {},
   "source": [
    "<div class=\"alert alert-block alert-info\">\n",
    "In order to assess if our parsing does make sense, we compute the average nutrition value of the \"soup\" represented by the total sold mass: i.e. the average food nutritional values pondered by the bought mass, and compare it with the standard of the following websites:\n",
    "    \n",
    " * https://www.netrition.com/rdi_page.html\n",
    " * https://www.nhs.uk/live-well/eat-well/what-are-reference-intakes-on-food-labels/\n",
    "</div>"
   ]
  },
  {
   "cell_type": "code",
   "execution_count": 94,
   "metadata": {},
   "outputs": [],
   "source": [
    "tot_nutriments = ['tot_' + i for i in nutriments]\n",
    "avg_soup  = tot_weight_nut_df[tot_nutriments].sum() / tot_weight_nut_df.TOT_WEIGHT.sum()\n",
    "\n",
    "avg_soup_df = pd.DataFrame({'name': avg_soup.index.values,'quantity':avg_soup.values})\n",
    "\n",
    "rem = lambda string: string[4:]\n",
    "avg_soup_df['name']= avg_soup_df['name'].apply(rem)\n",
    "\n",
    "avg_soup_df.set_index('name',inplace=True)\n",
    "avg_soup_df = avg_soup_df.join(nutriment_units_df.set_index('name')).drop(columns = 'id')\n",
    "\n",
    "fctor = 2000 / avg_soup_df.loc['energy'][0]\n",
    "avg_soup_df.quantity = avg_soup_df['quantity'] * fctor\n",
    "\n",
    "ref_intakes_df = pd.read_csv('../data/health/ref_intakes.csv')\n",
    "ref_intakes_df.drop(columns = ['unit_name'],inplace = True)\n",
    "\n",
    "avg_soup_df = avg_soup_df.join(ref_intakes_df.set_index('name'),how = 'inner',lsuffix='_dunn',rsuffix='_ref')\n",
    "\n",
    "fctor = 2000 / avg_soup_df.quantity_ref\n",
    "avg_soup_df.quantity_dunn = fctor * avg_soup_df.quantity_dunn\n",
    "avg_soup_df.quantity_ref = fctor * avg_soup_df.quantity_ref"
   ]
  },
  {
   "cell_type": "code",
   "execution_count": 101,
   "metadata": {},
   "outputs": [
    {
     "data": {
      "text/html": [
       "<div>\n",
       "<style scoped>\n",
       "    .dataframe tbody tr th:only-of-type {\n",
       "        vertical-align: middle;\n",
       "    }\n",
       "\n",
       "    .dataframe tbody tr th {\n",
       "        vertical-align: top;\n",
       "    }\n",
       "\n",
       "    .dataframe thead th {\n",
       "        text-align: right;\n",
       "    }\n",
       "</style>\n",
       "<table border=\"1\" class=\"dataframe\">\n",
       "  <thead>\n",
       "    <tr style=\"text-align: right;\">\n",
       "      <th></th>\n",
       "      <th>dunn_name</th>\n",
       "      <th>TOT_WEIGHT</th>\n",
       "      <th>QUANTITY</th>\n",
       "      <th>DEPARTMENT</th>\n",
       "      <th>dunn_ingredients</th>\n",
       "      <th>nut_name</th>\n",
       "      <th>nut_ingredients</th>\n",
       "      <th>alcohol</th>\n",
       "      <th>carbohydrate</th>\n",
       "      <th>cholesterol</th>\n",
       "      <th>...</th>\n",
       "      <th>tot_sodium</th>\n",
       "      <th>tot_sugars</th>\n",
       "      <th>tot_total lipid</th>\n",
       "      <th>tot_vitamin a</th>\n",
       "      <th>tot_vitamin b-12</th>\n",
       "      <th>tot_vitamin b-6</th>\n",
       "      <th>tot_vitamin e</th>\n",
       "      <th>tot_vitamin k</th>\n",
       "      <th>tot_alcohol</th>\n",
       "      <th>avg_weight</th>\n",
       "    </tr>\n",
       "  </thead>\n",
       "  <tbody>\n",
       "    <tr>\n",
       "      <td>0</td>\n",
       "      <td>TROPICAL FRUIT BANANAS</td>\n",
       "      <td>568654.682640</td>\n",
       "      <td>31589</td>\n",
       "      <td>PRODUCE</td>\n",
       "      <td>[banana]</td>\n",
       "      <td>Banana, raw</td>\n",
       "      <td>[banana]</td>\n",
       "      <td>0.0</td>\n",
       "      <td>22.84</td>\n",
       "      <td>0.0</td>\n",
       "      <td>...</td>\n",
       "      <td>5.686547e+05</td>\n",
       "      <td>6.954647e+06</td>\n",
       "      <td>187656.045271</td>\n",
       "      <td>1.705964e+06</td>\n",
       "      <td>0.000000</td>\n",
       "      <td>208696.268529</td>\n",
       "      <td>0.0</td>\n",
       "      <td>284327.341320</td>\n",
       "      <td>0.0</td>\n",
       "      <td>18.001668</td>\n",
       "    </tr>\n",
       "    <tr>\n",
       "      <td>1</td>\n",
       "      <td>FLUID MILK PRODUCTS FLUID MILK WHITE ONLY</td>\n",
       "      <td>158279.390752</td>\n",
       "      <td>91449</td>\n",
       "      <td>GROCERY</td>\n",
       "      <td>[milk]</td>\n",
       "      <td>Milk, whole</td>\n",
       "      <td>[milk]</td>\n",
       "      <td>0.0</td>\n",
       "      <td>4.80</td>\n",
       "      <td>10.0</td>\n",
       "      <td>...</td>\n",
       "      <td>6.806014e+06</td>\n",
       "      <td>7.993109e+05</td>\n",
       "      <td>514408.019943</td>\n",
       "      <td>7.280852e+06</td>\n",
       "      <td>71225.725838</td>\n",
       "      <td>5698.058067</td>\n",
       "      <td>0.0</td>\n",
       "      <td>47483.817225</td>\n",
       "      <td>0.0</td>\n",
       "      <td>1.730794</td>\n",
       "    </tr>\n",
       "    <tr>\n",
       "      <td>2</td>\n",
       "      <td>SOFT DRINKS SFT DRNK 2 LITER BTL CARB INCL</td>\n",
       "      <td>107754.002557</td>\n",
       "      <td>54400</td>\n",
       "      <td>GROCERY</td>\n",
       "      <td>[soft, drink, liter, carb, incl]</td>\n",
       "      <td>Soft drink, NFS</td>\n",
       "      <td>[soft, drink, nf]</td>\n",
       "      <td>0.0</td>\n",
       "      <td>10.36</td>\n",
       "      <td>0.0</td>\n",
       "      <td>...</td>\n",
       "      <td>3.232620e+05</td>\n",
       "      <td>1.071075e+06</td>\n",
       "      <td>26938.500639</td>\n",
       "      <td>0.000000e+00</td>\n",
       "      <td>0.000000</td>\n",
       "      <td>0.000000</td>\n",
       "      <td>0.0</td>\n",
       "      <td>0.000000</td>\n",
       "      <td>0.0</td>\n",
       "      <td>1.980772</td>\n",
       "    </tr>\n",
       "    <tr>\n",
       "      <td>3</td>\n",
       "      <td>ONIONS ONIONS SWEET (BULK&amp;BAG)</td>\n",
       "      <td>101229.260620</td>\n",
       "      <td>6106</td>\n",
       "      <td>PRODUCE</td>\n",
       "      <td>[onion, sweet]</td>\n",
       "      <td>Onions, mature, raw</td>\n",
       "      <td>[onion, matur]</td>\n",
       "      <td>0.0</td>\n",
       "      <td>9.34</td>\n",
       "      <td>0.0</td>\n",
       "      <td>...</td>\n",
       "      <td>4.049170e+05</td>\n",
       "      <td>4.292121e+05</td>\n",
       "      <td>10122.926062</td>\n",
       "      <td>0.000000e+00</td>\n",
       "      <td>0.000000</td>\n",
       "      <td>12147.511274</td>\n",
       "      <td>0.0</td>\n",
       "      <td>40491.704248</td>\n",
       "      <td>0.0</td>\n",
       "      <td>16.578654</td>\n",
       "    </tr>\n",
       "    <tr>\n",
       "      <td>4</td>\n",
       "      <td>WATER - CARBONATED/FLVRD DRINK NON-CRBNTD DRNK...</td>\n",
       "      <td>55172.619526</td>\n",
       "      <td>10743</td>\n",
       "      <td>GROCERY</td>\n",
       "      <td>[non, crbntd, drnking, miner, water]</td>\n",
       "      <td>Water chestnut</td>\n",
       "      <td>[water, chestnut]</td>\n",
       "      <td>0.0</td>\n",
       "      <td>19.22</td>\n",
       "      <td>0.0</td>\n",
       "      <td>...</td>\n",
       "      <td>6.620714e+05</td>\n",
       "      <td>2.118629e+05</td>\n",
       "      <td>4965.535757</td>\n",
       "      <td>0.000000e+00</td>\n",
       "      <td>0.000000</td>\n",
       "      <td>13682.809642</td>\n",
       "      <td>0.0</td>\n",
       "      <td>16551.785858</td>\n",
       "      <td>0.0</td>\n",
       "      <td>5.135681</td>\n",
       "    </tr>\n",
       "    <tr>\n",
       "      <td>...</td>\n",
       "      <td>...</td>\n",
       "      <td>...</td>\n",
       "      <td>...</td>\n",
       "      <td>...</td>\n",
       "      <td>...</td>\n",
       "      <td>...</td>\n",
       "      <td>...</td>\n",
       "      <td>...</td>\n",
       "      <td>...</td>\n",
       "      <td>...</td>\n",
       "      <td>...</td>\n",
       "      <td>...</td>\n",
       "      <td>...</td>\n",
       "      <td>...</td>\n",
       "      <td>...</td>\n",
       "      <td>...</td>\n",
       "      <td>...</td>\n",
       "      <td>...</td>\n",
       "      <td>...</td>\n",
       "      <td>...</td>\n",
       "      <td>...</td>\n",
       "    </tr>\n",
       "    <tr>\n",
       "      <td>1822</td>\n",
       "      <td>SMOKED MEATS BACON - BELLY/JOWL</td>\n",
       "      <td>0.000000</td>\n",
       "      <td>150</td>\n",
       "      <td>MEAT</td>\n",
       "      <td>[bacon, belli, jowl]</td>\n",
       "      <td>Bacon bits</td>\n",
       "      <td>[bacon, bit]</td>\n",
       "      <td>0.0</td>\n",
       "      <td>28.60</td>\n",
       "      <td>0.0</td>\n",
       "      <td>...</td>\n",
       "      <td>0.000000e+00</td>\n",
       "      <td>0.000000e+00</td>\n",
       "      <td>0.000000</td>\n",
       "      <td>0.000000e+00</td>\n",
       "      <td>0.000000</td>\n",
       "      <td>0.000000</td>\n",
       "      <td>0.0</td>\n",
       "      <td>0.000000</td>\n",
       "      <td>0.0</td>\n",
       "      <td>0.000000</td>\n",
       "    </tr>\n",
       "    <tr>\n",
       "      <td>1823</td>\n",
       "      <td>BAKING NEEDS GERMAN FOODS</td>\n",
       "      <td>0.000000</td>\n",
       "      <td>1</td>\n",
       "      <td>GROCERY</td>\n",
       "      <td>[german, food]</td>\n",
       "      <td>Fish, NS as to type, from fast food</td>\n",
       "      <td>[fish, fast, food]</td>\n",
       "      <td>0.0</td>\n",
       "      <td>16.89</td>\n",
       "      <td>36.0</td>\n",
       "      <td>...</td>\n",
       "      <td>0.000000e+00</td>\n",
       "      <td>0.000000e+00</td>\n",
       "      <td>0.000000</td>\n",
       "      <td>0.000000e+00</td>\n",
       "      <td>0.000000</td>\n",
       "      <td>0.000000</td>\n",
       "      <td>0.0</td>\n",
       "      <td>0.000000</td>\n",
       "      <td>0.0</td>\n",
       "      <td>0.000000</td>\n",
       "    </tr>\n",
       "    <tr>\n",
       "      <td>1824</td>\n",
       "      <td>SERVICE BEVERAGE SV BEV: COFFEE</td>\n",
       "      <td>0.000000</td>\n",
       "      <td>0</td>\n",
       "      <td>DELI</td>\n",
       "      <td>[bev, coffe]</td>\n",
       "      <td>Coffee, NS as to type</td>\n",
       "      <td>[coffe]</td>\n",
       "      <td>0.0</td>\n",
       "      <td>0.00</td>\n",
       "      <td>0.0</td>\n",
       "      <td>...</td>\n",
       "      <td>0.000000e+00</td>\n",
       "      <td>0.000000e+00</td>\n",
       "      <td>0.000000</td>\n",
       "      <td>0.000000e+00</td>\n",
       "      <td>0.000000</td>\n",
       "      <td>0.000000</td>\n",
       "      <td>0.0</td>\n",
       "      <td>0.000000</td>\n",
       "      <td>0.0</td>\n",
       "      <td>NaN</td>\n",
       "    </tr>\n",
       "    <tr>\n",
       "      <td>1825</td>\n",
       "      <td>BAKING NEEDS CAKE DECORS - BIRTHDAY CANDLES</td>\n",
       "      <td>0.000000</td>\n",
       "      <td>560</td>\n",
       "      <td>GROCERY</td>\n",
       "      <td>[cake, decor, birthday, candl]</td>\n",
       "      <td>Popcorn cake</td>\n",
       "      <td>[popcorn, cake]</td>\n",
       "      <td>0.0</td>\n",
       "      <td>80.10</td>\n",
       "      <td>0.0</td>\n",
       "      <td>...</td>\n",
       "      <td>0.000000e+00</td>\n",
       "      <td>0.000000e+00</td>\n",
       "      <td>0.000000</td>\n",
       "      <td>0.000000e+00</td>\n",
       "      <td>0.000000</td>\n",
       "      <td>0.000000</td>\n",
       "      <td>0.0</td>\n",
       "      <td>0.000000</td>\n",
       "      <td>0.0</td>\n",
       "      <td>0.000000</td>\n",
       "    </tr>\n",
       "    <tr>\n",
       "      <td>1826</td>\n",
       "      <td>(CORP USE ONLY) MEAT DEPT KEY RINGS</td>\n",
       "      <td>0.000000</td>\n",
       "      <td>7</td>\n",
       "      <td>MEAT</td>\n",
       "      <td>[meat, dept, key, ring]</td>\n",
       "      <td>Meat, NFS</td>\n",
       "      <td>[meat, nf]</td>\n",
       "      <td>0.0</td>\n",
       "      <td>0.00</td>\n",
       "      <td>89.0</td>\n",
       "      <td>...</td>\n",
       "      <td>0.000000e+00</td>\n",
       "      <td>0.000000e+00</td>\n",
       "      <td>0.000000</td>\n",
       "      <td>0.000000e+00</td>\n",
       "      <td>0.000000</td>\n",
       "      <td>0.000000</td>\n",
       "      <td>0.0</td>\n",
       "      <td>0.000000</td>\n",
       "      <td>0.0</td>\n",
       "      <td>0.000000</td>\n",
       "    </tr>\n",
       "  </tbody>\n",
       "</table>\n",
       "<p>1827 rows × 42 columns</p>\n",
       "</div>"
      ],
      "text/plain": [
       "                                              dunn_name     TOT_WEIGHT  \\\n",
       "0                                TROPICAL FRUIT BANANAS  568654.682640   \n",
       "1             FLUID MILK PRODUCTS FLUID MILK WHITE ONLY  158279.390752   \n",
       "2            SOFT DRINKS SFT DRNK 2 LITER BTL CARB INCL  107754.002557   \n",
       "3                        ONIONS ONIONS SWEET (BULK&BAG)  101229.260620   \n",
       "4     WATER - CARBONATED/FLVRD DRINK NON-CRBNTD DRNK...   55172.619526   \n",
       "...                                                 ...            ...   \n",
       "1822                    SMOKED MEATS BACON - BELLY/JOWL       0.000000   \n",
       "1823                          BAKING NEEDS GERMAN FOODS       0.000000   \n",
       "1824                    SERVICE BEVERAGE SV BEV: COFFEE       0.000000   \n",
       "1825        BAKING NEEDS CAKE DECORS - BIRTHDAY CANDLES       0.000000   \n",
       "1826                (CORP USE ONLY) MEAT DEPT KEY RINGS       0.000000   \n",
       "\n",
       "      QUANTITY DEPARTMENT                      dunn_ingredients  \\\n",
       "0        31589    PRODUCE                              [banana]   \n",
       "1        91449    GROCERY                                [milk]   \n",
       "2        54400    GROCERY      [soft, drink, liter, carb, incl]   \n",
       "3         6106    PRODUCE                        [onion, sweet]   \n",
       "4        10743    GROCERY  [non, crbntd, drnking, miner, water]   \n",
       "...        ...        ...                                   ...   \n",
       "1822       150       MEAT                  [bacon, belli, jowl]   \n",
       "1823         1    GROCERY                        [german, food]   \n",
       "1824         0       DELI                          [bev, coffe]   \n",
       "1825       560    GROCERY        [cake, decor, birthday, candl]   \n",
       "1826         7       MEAT               [meat, dept, key, ring]   \n",
       "\n",
       "                                 nut_name     nut_ingredients  alcohol  \\\n",
       "0                             Banana, raw            [banana]      0.0   \n",
       "1                             Milk, whole              [milk]      0.0   \n",
       "2                         Soft drink, NFS   [soft, drink, nf]      0.0   \n",
       "3                     Onions, mature, raw      [onion, matur]      0.0   \n",
       "4                          Water chestnut   [water, chestnut]      0.0   \n",
       "...                                   ...                 ...      ...   \n",
       "1822                           Bacon bits        [bacon, bit]      0.0   \n",
       "1823  Fish, NS as to type, from fast food  [fish, fast, food]      0.0   \n",
       "1824                Coffee, NS as to type             [coffe]      0.0   \n",
       "1825                         Popcorn cake     [popcorn, cake]      0.0   \n",
       "1826                            Meat, NFS          [meat, nf]      0.0   \n",
       "\n",
       "      carbohydrate  cholesterol  ...    tot_sodium    tot_sugars  \\\n",
       "0            22.84          0.0  ...  5.686547e+05  6.954647e+06   \n",
       "1             4.80         10.0  ...  6.806014e+06  7.993109e+05   \n",
       "2            10.36          0.0  ...  3.232620e+05  1.071075e+06   \n",
       "3             9.34          0.0  ...  4.049170e+05  4.292121e+05   \n",
       "4            19.22          0.0  ...  6.620714e+05  2.118629e+05   \n",
       "...            ...          ...  ...           ...           ...   \n",
       "1822         28.60          0.0  ...  0.000000e+00  0.000000e+00   \n",
       "1823         16.89         36.0  ...  0.000000e+00  0.000000e+00   \n",
       "1824          0.00          0.0  ...  0.000000e+00  0.000000e+00   \n",
       "1825         80.10          0.0  ...  0.000000e+00  0.000000e+00   \n",
       "1826          0.00         89.0  ...  0.000000e+00  0.000000e+00   \n",
       "\n",
       "      tot_total lipid  tot_vitamin a  tot_vitamin b-12  tot_vitamin b-6  \\\n",
       "0       187656.045271   1.705964e+06          0.000000    208696.268529   \n",
       "1       514408.019943   7.280852e+06      71225.725838      5698.058067   \n",
       "2        26938.500639   0.000000e+00          0.000000         0.000000   \n",
       "3        10122.926062   0.000000e+00          0.000000     12147.511274   \n",
       "4         4965.535757   0.000000e+00          0.000000     13682.809642   \n",
       "...               ...            ...               ...              ...   \n",
       "1822         0.000000   0.000000e+00          0.000000         0.000000   \n",
       "1823         0.000000   0.000000e+00          0.000000         0.000000   \n",
       "1824         0.000000   0.000000e+00          0.000000         0.000000   \n",
       "1825         0.000000   0.000000e+00          0.000000         0.000000   \n",
       "1826         0.000000   0.000000e+00          0.000000         0.000000   \n",
       "\n",
       "      tot_vitamin e  tot_vitamin k  tot_alcohol  avg_weight  \n",
       "0               0.0  284327.341320          0.0   18.001668  \n",
       "1               0.0   47483.817225          0.0    1.730794  \n",
       "2               0.0       0.000000          0.0    1.980772  \n",
       "3               0.0   40491.704248          0.0   16.578654  \n",
       "4               0.0   16551.785858          0.0    5.135681  \n",
       "...             ...            ...          ...         ...  \n",
       "1822            0.0       0.000000          0.0    0.000000  \n",
       "1823            0.0       0.000000          0.0    0.000000  \n",
       "1824            0.0       0.000000          0.0         NaN  \n",
       "1825            0.0       0.000000          0.0    0.000000  \n",
       "1826            0.0       0.000000          0.0    0.000000  \n",
       "\n",
       "[1827 rows x 42 columns]"
      ]
     },
     "execution_count": 101,
     "metadata": {},
     "output_type": "execute_result"
    }
   ],
   "source": [
    "tot_weight_nut_df"
   ]
  },
  {
   "cell_type": "code",
   "execution_count": 100,
   "metadata": {},
   "outputs": [
    {
     "data": {
      "image/png": "[encoded data removed]",
      "text/plain": [
       "<Figure size 432x288 with 1 Axes>"
      ]
     },
     "metadata": {
      "needs_background": "light"
     },
     "output_type": "display_data"
    }
   ],
   "source": [
    "fig,ax = plt.subplots(1)\n",
    "avg_soup_df.plot.bar(ax = ax)\n",
    "empty_string_labels = ['']*len(ax.get_yticklabels())\n",
    "ax.set_yticklabels(empty_string_labels)\n",
    "plt.savefig('../results/soup.png')"
   ]
  },
  {
   "cell_type": "markdown",
   "metadata": {},
   "source": [
    "<div class=\"alert alert-block alert-info\">\n",
    "As one can observe from the plot, hte data ends up in a really coherent scale: this motivates us to push the investigation further.\n",
    "</div>"
   ]
  },
  {
   "cell_type": "markdown",
   "metadata": {
    "toc-hr-collapsed": false
   },
   "source": [
    "### Mass items nutriments"
   ]
  },
  {
   "cell_type": "markdown",
   "metadata": {},
   "source": [
    "<div class=\"alert alert-block alert-info\">\n",
    "We analyze the items most bought in terms of mass: lets take a look at the most bought items\n",
    "</div>"
   ]
  },
  {
   "cell_type": "code",
   "execution_count": 51,
   "metadata": {},
   "outputs": [
    {
     "data": {
      "text/html": [
       "<div>\n",
       "<style scoped>\n",
       "    .dataframe tbody tr th:only-of-type {\n",
       "        vertical-align: middle;\n",
       "    }\n",
       "\n",
       "    .dataframe tbody tr th {\n",
       "        vertical-align: top;\n",
       "    }\n",
       "\n",
       "    .dataframe thead th {\n",
       "        text-align: right;\n",
       "    }\n",
       "</style>\n",
       "<table border=\"1\" class=\"dataframe\">\n",
       "  <thead>\n",
       "    <tr style=\"text-align: right;\">\n",
       "      <th></th>\n",
       "      <th>dunn_name</th>\n",
       "      <th>TOT_WEIGHT</th>\n",
       "      <th>nut_name</th>\n",
       "    </tr>\n",
       "  </thead>\n",
       "  <tbody>\n",
       "    <tr>\n",
       "      <td>0</td>\n",
       "      <td>TROPICAL FRUIT BANANAS</td>\n",
       "      <td>568654.682640</td>\n",
       "      <td>Banana, raw</td>\n",
       "    </tr>\n",
       "    <tr>\n",
       "      <td>1</td>\n",
       "      <td>FLUID MILK PRODUCTS FLUID MILK WHITE ONLY</td>\n",
       "      <td>158279.390752</td>\n",
       "      <td>Milk, whole</td>\n",
       "    </tr>\n",
       "    <tr>\n",
       "      <td>2</td>\n",
       "      <td>SOFT DRINKS SFT DRNK 2 LITER BTL CARB INCL</td>\n",
       "      <td>107754.002557</td>\n",
       "      <td>Soft drink, NFS</td>\n",
       "    </tr>\n",
       "    <tr>\n",
       "      <td>3</td>\n",
       "      <td>ONIONS ONIONS SWEET (BULK&amp;BAG)</td>\n",
       "      <td>101229.260620</td>\n",
       "      <td>Onions, mature, raw</td>\n",
       "    </tr>\n",
       "    <tr>\n",
       "      <td>4</td>\n",
       "      <td>WATER - CARBONATED/FLVRD DRINK NON-CRBNTD DRNK...</td>\n",
       "      <td>55172.619526</td>\n",
       "      <td>Water chestnut</td>\n",
       "    </tr>\n",
       "    <tr>\n",
       "      <td>5</td>\n",
       "      <td>GRAPES GRAPES RED</td>\n",
       "      <td>46509.962904</td>\n",
       "      <td>Grapes, raw, NS as to type</td>\n",
       "    </tr>\n",
       "  </tbody>\n",
       "</table>\n",
       "</div>"
      ],
      "text/plain": [
       "                                           dunn_name     TOT_WEIGHT  \\\n",
       "0                             TROPICAL FRUIT BANANAS  568654.682640   \n",
       "1          FLUID MILK PRODUCTS FLUID MILK WHITE ONLY  158279.390752   \n",
       "2         SOFT DRINKS SFT DRNK 2 LITER BTL CARB INCL  107754.002557   \n",
       "3                     ONIONS ONIONS SWEET (BULK&BAG)  101229.260620   \n",
       "4  WATER - CARBONATED/FLVRD DRINK NON-CRBNTD DRNK...   55172.619526   \n",
       "5                                  GRAPES GRAPES RED   46509.962904   \n",
       "\n",
       "                     nut_name  \n",
       "0                 Banana, raw  \n",
       "1                 Milk, whole  \n",
       "2             Soft drink, NFS  \n",
       "3         Onions, mature, raw  \n",
       "4              Water chestnut  \n",
       "5  Grapes, raw, NS as to type  "
      ]
     },
     "execution_count": 51,
     "metadata": {},
     "output_type": "execute_result"
    }
   ],
   "source": [
    "top_weight = tot_weight_nut_df.head(6)[['dunn_name','TOT_WEIGHT','nut_name']]\n",
    "top_weight"
   ]
  },
  {
   "cell_type": "markdown",
   "metadata": {},
   "source": [
    "<div class=\"alert alert-block alert-info\">\n",
    "The banana quantity looks oddly high, looking at the average weight of the article to see if the weight_parser failed might be useful\n",
    "</div>"
   ]
  },
  {
   "cell_type": "code",
   "execution_count": 52,
   "metadata": {},
   "outputs": [
    {
     "name": "stdout",
     "output_type": "stream",
     "text": [
      "Average weight of the banana article 18.001667752688977 kg.\n"
     ]
    }
   ],
   "source": [
    "tot_weight_nut_df['avg_weight'] = tot_weight_nut_df.TOT_WEIGHT / tot_weight_nut_df.QUANTITY\n",
    "avg_banana_weight = tot_weight_nut_df[tot_weight_nut_df.dunn_name == 'TROPICAL FRUIT BANANAS'].avg_weight.values[0]\n",
    "print('Average weight of the banana article {} kg.'.format(avg_banana_weight))"
   ]
  },
  {
   "cell_type": "markdown",
   "metadata": {},
   "source": [
    "<div class=\"alert alert-block alert-info\">\n",
    "This definitely looks odd, but as the following plot, there are a lot of times where the banana article is sold with 40 LB (pounds)~ 18kg. The parser did well. \n",
    "</div>"
   ]
  },
  {
   "cell_type": "code",
   "execution_count": 53,
   "metadata": {},
   "outputs": [
    {
     "data": {
      "text/plain": [
       "40 LB    30207\n",
       "8 OZ       197\n",
       "            26\n",
       "Name: CURR_SIZE_OF_PRODUCT, dtype: int64"
      ]
     },
     "execution_count": 53,
     "metadata": {},
     "output_type": "execute_result"
    }
   ],
   "source": [
    "food_transaction_data[food_transaction_data.dunn_name.str.contains('TROPICAL FRUIT BANANAS')].CURR_SIZE_OF_PRODUCT.value_counts()"
   ]
  },
  {
   "cell_type": "code",
   "execution_count": 54,
   "metadata": {},
   "outputs": [
    {
     "data": {
      "text/plain": [
       "<matplotlib.axes._subplots.AxesSubplot at 0x7fb29d4a7bd0>"
      ]
     },
     "execution_count": 54,
     "metadata": {},
     "output_type": "execute_result"
    },
    {
     "data": {
      "image/png": "[encoded data removed]",
      "text/plain": [
       "<Figure size 432x288 with 1 Axes>"
      ]
     },
     "metadata": {
      "needs_background": "light"
     },
     "output_type": "display_data"
    }
   ],
   "source": [
    "top_weight.plot.bar(x = 'dunn_name',y = 'TOT_WEIGHT')"
   ]
  },
  {
   "cell_type": "code",
   "execution_count": 55,
   "metadata": {},
   "outputs": [],
   "source": [
    "def plot_nutriments(nut_indx,df,ax = None,sub_title = None):\n",
    "    if ax is None:\n",
    "        fig,ax = plt.subplots(1,figsize = (20,5))\n",
    "    nutriment = nutriments[nut_indx]\n",
    "    temp = df.sort_values(by = 'TOT_WEIGHT',ascending = False).reset_index().head(300)\n",
    "    sns.barplot(x = temp.index,y = temp[nutriment],ax = ax)\n",
    "    unit = nutriment_units_df[nutriment_units_df['name'] == nutriment].unit_name.values[0]\n",
    "    title = nutriment\n",
    "    ax.set_title(title)\n",
    "    ax.set_ylabel('%s %s per 100 grams' % (nutriment,unit))\n",
    "    ax.set_xlabel('items (sorted by most bought mass)')\n",
    "    empty_string_labels = ['']*len(ax.get_xticklabels())\n",
    "    ax.set_xticklabels(empty_string_labels)"
   ]
  },
  {
   "cell_type": "code",
   "execution_count": 56,
   "metadata": {},
   "outputs": [
    {
     "data": {
      "application/vnd.jupyter.widget-view+json": {
       "model_id": "67b7fe69851b455fa51ee85ea0b7292f",
       "version_major": 2,
       "version_minor": 0
      },
      "text/plain": [
       "interactive(children=(IntSlider(value=0, description='indx', max=16), Output()), _dom_classes=('widget-interac…"
      ]
     },
     "metadata": {},
     "output_type": "display_data"
    }
   ],
   "source": [
    "plot_tot_nut = lambda indx: plot_nutriments(indx,tot_weight_nut_df)\n",
    "interact(plot_tot_nut, indx=widgets.IntSlider(min=0, max=len(nutriments) - 1, step=1, value=0));"
   ]
  },
  {
   "cell_type": "code",
   "execution_count": 79,
   "metadata": {},
   "outputs": [],
   "source": [
    "tot_weight_nut_df.to_pickle('../saved_data/tot_weight_nut_df.pickle')"
   ]
  },
  {
   "cell_type": "markdown",
   "metadata": {},
   "source": [
    "<div class=\"alert alert-block alert-info\">\n",
    "Some article look like outliers in the cholesterol an polyunsaturated items. Let's investigate\n",
    "</div>"
   ]
  },
  {
   "cell_type": "code",
   "execution_count": 24,
   "metadata": {},
   "outputs": [
    {
     "name": "stderr",
     "output_type": "stream",
     "text": [
      "/home/ymentha/anaconda3/envs/ada/lib/python3.7/site-packages/ipykernel_launcher.py:2: UserWarning: Boolean Series key will be reindexed to match DataFrame index.\n",
      "  \n"
     ]
    },
    {
     "data": {
      "text/html": [
       "<div>\n",
       "<style scoped>\n",
       "    .dataframe tbody tr th:only-of-type {\n",
       "        vertical-align: middle;\n",
       "    }\n",
       "\n",
       "    .dataframe tbody tr th {\n",
       "        vertical-align: top;\n",
       "    }\n",
       "\n",
       "    .dataframe thead th {\n",
       "        text-align: right;\n",
       "    }\n",
       "</style>\n",
       "<table border=\"1\" class=\"dataframe\">\n",
       "  <thead>\n",
       "    <tr style=\"text-align: right;\">\n",
       "      <th></th>\n",
       "      <th>dunn_name</th>\n",
       "      <th>TOT_WEIGHT</th>\n",
       "      <th>QUANTITY</th>\n",
       "      <th>DEPARTMENT</th>\n",
       "      <th>dunn_ingredients</th>\n",
       "      <th>nut_name</th>\n",
       "      <th>nut_ingredients</th>\n",
       "      <th>alcohol</th>\n",
       "      <th>carbohydrate</th>\n",
       "      <th>cholesterol</th>\n",
       "      <th>...</th>\n",
       "      <th>tot_sodium</th>\n",
       "      <th>tot_sugars</th>\n",
       "      <th>tot_total lipid</th>\n",
       "      <th>tot_vitamin a</th>\n",
       "      <th>tot_vitamin b-12</th>\n",
       "      <th>tot_vitamin b-6</th>\n",
       "      <th>tot_vitamin e</th>\n",
       "      <th>tot_vitamin k</th>\n",
       "      <th>tot_alcohol</th>\n",
       "      <th>avg_weight</th>\n",
       "    </tr>\n",
       "  </thead>\n",
       "  <tbody>\n",
       "    <tr>\n",
       "      <td>122</td>\n",
       "      <td>EGGS EGGS - MEDIUM</td>\n",
       "      <td>2960.102523</td>\n",
       "      <td>5416</td>\n",
       "      <td>GROCERY</td>\n",
       "      <td>[egg, medium]</td>\n",
       "      <td>Egg, whole, raw</td>\n",
       "      <td>[egg]</td>\n",
       "      <td>0.0</td>\n",
       "      <td>0.72</td>\n",
       "      <td>372.0</td>\n",
       "      <td>...</td>\n",
       "      <td>420334.558337</td>\n",
       "      <td>1095.237934</td>\n",
       "      <td>28150.574998</td>\n",
       "      <td>473616.40376</td>\n",
       "      <td>2634.491246</td>\n",
       "      <td>503.217429</td>\n",
       "      <td>0.0</td>\n",
       "      <td>888.030757</td>\n",
       "      <td>0.0</td>\n",
       "      <td>0.546548</td>\n",
       "    </tr>\n",
       "  </tbody>\n",
       "</table>\n",
       "<p>1 rows × 42 columns</p>\n",
       "</div>"
      ],
      "text/plain": [
       "              dunn_name   TOT_WEIGHT  QUANTITY DEPARTMENT dunn_ingredients  \\\n",
       "122  EGGS EGGS - MEDIUM  2960.102523      5416    GROCERY    [egg, medium]   \n",
       "\n",
       "            nut_name nut_ingredients  alcohol  carbohydrate  cholesterol  ...  \\\n",
       "122  Egg, whole, raw           [egg]      0.0          0.72        372.0  ...   \n",
       "\n",
       "        tot_sodium   tot_sugars  tot_total lipid  tot_vitamin a  \\\n",
       "122  420334.558337  1095.237934     28150.574998   473616.40376   \n",
       "\n",
       "     tot_vitamin b-12  tot_vitamin b-6  tot_vitamin e  tot_vitamin k  \\\n",
       "122       2634.491246       503.217429            0.0     888.030757   \n",
       "\n",
       "     tot_alcohol  avg_weight  \n",
       "122          0.0    0.546548  \n",
       "\n",
       "[1 rows x 42 columns]"
      ]
     },
     "execution_count": 24,
     "metadata": {},
     "output_type": "execute_result"
    }
   ],
   "source": [
    "#cholesterol\n",
    "tot_weight_nut_df.head(300)[tot_weight_nut_df.cholesterol > 250]"
   ]
  },
  {
   "cell_type": "code",
   "execution_count": 25,
   "metadata": {},
   "outputs": [
    {
     "name": "stderr",
     "output_type": "stream",
     "text": [
      "/home/ymentha/anaconda3/envs/ada/lib/python3.7/site-packages/ipykernel_launcher.py:2: UserWarning: Boolean Series key will be reindexed to match DataFrame index.\n",
      "  \n"
     ]
    },
    {
     "data": {
      "text/html": [
       "<div>\n",
       "<style scoped>\n",
       "    .dataframe tbody tr th:only-of-type {\n",
       "        vertical-align: middle;\n",
       "    }\n",
       "\n",
       "    .dataframe tbody tr th {\n",
       "        vertical-align: top;\n",
       "    }\n",
       "\n",
       "    .dataframe thead th {\n",
       "        text-align: right;\n",
       "    }\n",
       "</style>\n",
       "<table border=\"1\" class=\"dataframe\">\n",
       "  <thead>\n",
       "    <tr style=\"text-align: right;\">\n",
       "      <th></th>\n",
       "      <th>dunn_name</th>\n",
       "      <th>TOT_WEIGHT</th>\n",
       "      <th>QUANTITY</th>\n",
       "      <th>DEPARTMENT</th>\n",
       "      <th>dunn_ingredients</th>\n",
       "      <th>nut_name</th>\n",
       "      <th>nut_ingredients</th>\n",
       "      <th>alcohol</th>\n",
       "      <th>carbohydrate</th>\n",
       "      <th>cholesterol</th>\n",
       "      <th>...</th>\n",
       "      <th>tot_sodium</th>\n",
       "      <th>tot_sugars</th>\n",
       "      <th>tot_total lipid</th>\n",
       "      <th>tot_vitamin a</th>\n",
       "      <th>tot_vitamin b-12</th>\n",
       "      <th>tot_vitamin b-6</th>\n",
       "      <th>tot_vitamin e</th>\n",
       "      <th>tot_vitamin k</th>\n",
       "      <th>tot_alcohol</th>\n",
       "      <th>avg_weight</th>\n",
       "    </tr>\n",
       "  </thead>\n",
       "  <tbody>\n",
       "    <tr>\n",
       "      <td>43</td>\n",
       "      <td>MARGARINES MARGARINE: TUBS AND BOWLS</td>\n",
       "      <td>7462.705370</td>\n",
       "      <td>10154</td>\n",
       "      <td>GROCERY</td>\n",
       "      <td>[margarin, tub, bowl]</td>\n",
       "      <td>Margarine, tub, unsalted</td>\n",
       "      <td>[margarin, tub, unsalt]</td>\n",
       "      <td>0.0</td>\n",
       "      <td>0.75</td>\n",
       "      <td>0.0</td>\n",
       "      <td>...</td>\n",
       "      <td>2.089558e+05</td>\n",
       "      <td>0.0</td>\n",
       "      <td>598285.089537</td>\n",
       "      <td>6.111956e+06</td>\n",
       "      <td>597.016430</td>\n",
       "      <td>0.000000</td>\n",
       "      <td>0.0</td>\n",
       "      <td>684330.082457</td>\n",
       "      <td>0.0</td>\n",
       "      <td>0.734952</td>\n",
       "    </tr>\n",
       "    <tr>\n",
       "      <td>123</td>\n",
       "      <td>MARGARINES MARGARINE  STICK</td>\n",
       "      <td>2949.708776</td>\n",
       "      <td>6495</td>\n",
       "      <td>GROCERY</td>\n",
       "      <td>[margarin]</td>\n",
       "      <td>Margarine, NFS</td>\n",
       "      <td>[margarin, nf]</td>\n",
       "      <td>0.0</td>\n",
       "      <td>0.86</td>\n",
       "      <td>1.0</td>\n",
       "      <td>...</td>\n",
       "      <td>1.988104e+06</td>\n",
       "      <td>0.0</td>\n",
       "      <td>176422.081893</td>\n",
       "      <td>2.415811e+06</td>\n",
       "      <td>0.000000</td>\n",
       "      <td>11061.407910</td>\n",
       "      <td>0.0</td>\n",
       "      <td>298805.499009</td>\n",
       "      <td>0.0</td>\n",
       "      <td>0.454151</td>\n",
       "    </tr>\n",
       "    <tr>\n",
       "      <td>161</td>\n",
       "      <td>SHORTENING/OIL CANOLA OILS</td>\n",
       "      <td>2083.801648</td>\n",
       "      <td>1427</td>\n",
       "      <td>GROCERY</td>\n",
       "      <td>[canola, oil]</td>\n",
       "      <td>Canola and soybean oil</td>\n",
       "      <td>[canola, soybean, oil]</td>\n",
       "      <td>0.0</td>\n",
       "      <td>0.00</td>\n",
       "      <td>0.0</td>\n",
       "      <td>...</td>\n",
       "      <td>0.000000e+00</td>\n",
       "      <td>0.0</td>\n",
       "      <td>208380.164800</td>\n",
       "      <td>0.000000e+00</td>\n",
       "      <td>0.000000</td>\n",
       "      <td>0.000000</td>\n",
       "      <td>0.0</td>\n",
       "      <td>289440.048907</td>\n",
       "      <td>0.0</td>\n",
       "      <td>1.460267</td>\n",
       "    </tr>\n",
       "    <tr>\n",
       "      <td>259</td>\n",
       "      <td>SPICES &amp; EXTRACTS TABLE SALT POPCORN SALTICE C</td>\n",
       "      <td>952.161356</td>\n",
       "      <td>1308</td>\n",
       "      <td>GROCERY</td>\n",
       "      <td>[tabl, salt, popcorn, saltic]</td>\n",
       "      <td>Margarine, stick, salted</td>\n",
       "      <td>[margarin, salt]</td>\n",
       "      <td>0.0</td>\n",
       "      <td>0.70</td>\n",
       "      <td>0.0</td>\n",
       "      <td>...</td>\n",
       "      <td>7.150732e+05</td>\n",
       "      <td>0.0</td>\n",
       "      <td>76848.943033</td>\n",
       "      <td>7.798202e+05</td>\n",
       "      <td>95.216136</td>\n",
       "      <td>8.569452</td>\n",
       "      <td>0.0</td>\n",
       "      <td>88551.006096</td>\n",
       "      <td>0.0</td>\n",
       "      <td>0.727952</td>\n",
       "    </tr>\n",
       "  </tbody>\n",
       "</table>\n",
       "<p>4 rows × 42 columns</p>\n",
       "</div>"
      ],
      "text/plain": [
       "                                          dunn_name   TOT_WEIGHT  QUANTITY  \\\n",
       "43             MARGARINES MARGARINE: TUBS AND BOWLS  7462.705370     10154   \n",
       "123                     MARGARINES MARGARINE  STICK  2949.708776      6495   \n",
       "161                      SHORTENING/OIL CANOLA OILS  2083.801648      1427   \n",
       "259  SPICES & EXTRACTS TABLE SALT POPCORN SALTICE C   952.161356      1308   \n",
       "\n",
       "    DEPARTMENT               dunn_ingredients                  nut_name  \\\n",
       "43     GROCERY          [margarin, tub, bowl]  Margarine, tub, unsalted   \n",
       "123    GROCERY                     [margarin]            Margarine, NFS   \n",
       "161    GROCERY                  [canola, oil]    Canola and soybean oil   \n",
       "259    GROCERY  [tabl, salt, popcorn, saltic]  Margarine, stick, salted   \n",
       "\n",
       "             nut_ingredients  alcohol  carbohydrate  cholesterol  ...  \\\n",
       "43   [margarin, tub, unsalt]      0.0          0.75          0.0  ...   \n",
       "123           [margarin, nf]      0.0          0.86          1.0  ...   \n",
       "161   [canola, soybean, oil]      0.0          0.00          0.0  ...   \n",
       "259         [margarin, salt]      0.0          0.70          0.0  ...   \n",
       "\n",
       "       tot_sodium  tot_sugars  tot_total lipid  tot_vitamin a  \\\n",
       "43   2.089558e+05         0.0    598285.089537   6.111956e+06   \n",
       "123  1.988104e+06         0.0    176422.081893   2.415811e+06   \n",
       "161  0.000000e+00         0.0    208380.164800   0.000000e+00   \n",
       "259  7.150732e+05         0.0     76848.943033   7.798202e+05   \n",
       "\n",
       "     tot_vitamin b-12  tot_vitamin b-6  tot_vitamin e  tot_vitamin k  \\\n",
       "43         597.016430         0.000000            0.0  684330.082457   \n",
       "123          0.000000     11061.407910            0.0  298805.499009   \n",
       "161          0.000000         0.000000            0.0  289440.048907   \n",
       "259         95.216136         8.569452            0.0   88551.006096   \n",
       "\n",
       "     tot_alcohol  avg_weight  \n",
       "43           0.0    0.734952  \n",
       "123          0.0    0.454151  \n",
       "161          0.0    1.460267  \n",
       "259          0.0    0.727952  \n",
       "\n",
       "[4 rows x 42 columns]"
      ]
     },
     "execution_count": 25,
     "metadata": {},
     "output_type": "execute_result"
    }
   ],
   "source": [
    "#fatty acids total polyunsaturated\n",
    "tot_weight_nut_df.head(300)[tot_weight_nut_df['fatty acids total polyunsaturated'] > 20]"
   ]
  },
  {
   "cell_type": "markdown",
   "metadata": {},
   "source": [
    "<div class=\"alert alert-block alert-info\">\n",
    "Eggs and margarine/canola oil head out as outliers for cholesterol and fatty acids respectively. However, we don't know yet how much of the total quantity they represent: we investigate it in the following section.\n",
    "</div>"
   ]
  },
  {
   "cell_type": "markdown",
   "metadata": {},
   "source": [
    "#### Most relevant items per nutriments"
   ]
  },
  {
   "cell_type": "markdown",
   "metadata": {},
   "source": [
    "<div class=\"alert alert-block alert-info\">\n",
    "Now we highlight the most responsible items for the sold mass of a given nutriment, in order to infere where people mainly take their nutriment income from.\n",
    "</div>"
   ]
  },
  {
   "cell_type": "code",
   "execution_count": 106,
   "metadata": {},
   "outputs": [
    {
     "data": {
      "application/vnd.jupyter.widget-view+json": {
       "model_id": "384dd57f5c0b42f79f18774be6f2fdfc",
       "version_major": 2,
       "version_minor": 0
      },
      "text/plain": [
       "interactive(children=(IntSlider(value=0, description='x', max=16), Output()), _dom_classes=('widget-interact',…"
      ]
     },
     "metadata": {},
     "output_type": "display_data"
    }
   ],
   "source": [
    "def g(x):\n",
    "    nutriment = nutriments[x]\n",
    "    temp = tot_weight_nut_df.sort_values(by = 'tot_' + nutriment,ascending = False)[['TOT_WEIGHT','dunn_name','nut_name','tot_' + nutriment,nutriment]].head(6)\n",
    "    print('#'*50 + nutriment.upper() + ' TOP NUTRIMENTS' + '#'*50)\n",
    "    temp.plot.bar(x = 'dunn_name',y = 'tot_' + nutriment)\n",
    "    return temp\n",
    "interact(g, x=widgets.IntSlider(min=0, max=len(nutriments) - 1, step=1, value=0));"
   ]
  },
  {
   "cell_type": "markdown",
   "metadata": {},
   "source": [
    "<div class=\"alert alert-block alert-info\">\n",
    "A few things sets out of this plots:\n",
    "    \n",
    "* Cholesterol: The dairy represent a big part of the cholesterol presence in total food consumption, with eggs and meat. Even if the eggs have about 30x more cholesterol than the milk, the quantity of milk overpasses by a similar factor the one of the eggs, which  makes them reach a similar score.\n",
    "* Energy: the bananas represent an overwhelming majority of the energy consumption: this result has to bet taken with some distance, as we saw earlier that the supermarket could do some reselling. Yet, we can see that the main sources of energy are indeed sweet and fatty articles.\n",
    "* The sodium consumption might be higher in real life, as no salt article is present in the top 5.\n",
    "</div>"
   ]
  },
  {
   "cell_type": "markdown",
   "metadata": {},
   "source": [
    "### Number items nutriments"
   ]
  },
  {
   "cell_type": "markdown",
   "metadata": {},
   "source": [
    "<div class=\"alert alert-block alert-info\">\n",
    "We analyze the items most bought in terms of counts: lets take a look at the most bought items\n",
    "</div>"
   ]
  },
  {
   "cell_type": "code",
   "execution_count": 27,
   "metadata": {},
   "outputs": [
    {
     "data": {
      "text/html": [
       "<div>\n",
       "<style scoped>\n",
       "    .dataframe tbody tr th:only-of-type {\n",
       "        vertical-align: middle;\n",
       "    }\n",
       "\n",
       "    .dataframe tbody tr th {\n",
       "        vertical-align: top;\n",
       "    }\n",
       "\n",
       "    .dataframe thead th {\n",
       "        text-align: right;\n",
       "    }\n",
       "</style>\n",
       "<table border=\"1\" class=\"dataframe\">\n",
       "  <thead>\n",
       "    <tr style=\"text-align: right;\">\n",
       "      <th></th>\n",
       "      <th>dunn_name</th>\n",
       "      <th>QUANTITY</th>\n",
       "      <th>nut_name</th>\n",
       "    </tr>\n",
       "  </thead>\n",
       "  <tbody>\n",
       "    <tr>\n",
       "      <td>0</td>\n",
       "      <td>FLUID MILK PRODUCTS FLUID MILK WHITE ONLY</td>\n",
       "      <td>91449</td>\n",
       "      <td>Milk, whole</td>\n",
       "    </tr>\n",
       "    <tr>\n",
       "      <td>1</td>\n",
       "      <td>YOGURT YOGURT NOT MULTI-PACKS</td>\n",
       "      <td>65544</td>\n",
       "      <td>Yogurt dressing</td>\n",
       "    </tr>\n",
       "    <tr>\n",
       "      <td>2</td>\n",
       "      <td>SOFT DRINKS SOFT DRINKS 12/18&amp;15PK CAN CAR</td>\n",
       "      <td>54983</td>\n",
       "      <td>Soft drink, NFS</td>\n",
       "    </tr>\n",
       "    <tr>\n",
       "      <td>3</td>\n",
       "      <td>SOFT DRINKS SFT DRNK 2 LITER BTL CARB INCL</td>\n",
       "      <td>54400</td>\n",
       "      <td>Soft drink, NFS</td>\n",
       "    </tr>\n",
       "    <tr>\n",
       "      <td>4</td>\n",
       "      <td>CHEESE SHREDDED CHEESE</td>\n",
       "      <td>35245</td>\n",
       "      <td>Cheese, NFS</td>\n",
       "    </tr>\n",
       "  </tbody>\n",
       "</table>\n",
       "</div>"
      ],
      "text/plain": [
       "                                    dunn_name  QUANTITY         nut_name\n",
       "0   FLUID MILK PRODUCTS FLUID MILK WHITE ONLY     91449      Milk, whole\n",
       "1               YOGURT YOGURT NOT MULTI-PACKS     65544  Yogurt dressing\n",
       "2  SOFT DRINKS SOFT DRINKS 12/18&15PK CAN CAR     54983  Soft drink, NFS\n",
       "3  SOFT DRINKS SFT DRNK 2 LITER BTL CARB INCL     54400  Soft drink, NFS\n",
       "4                      CHEESE SHREDDED CHEESE     35245      Cheese, NFS"
      ]
     },
     "execution_count": 27,
     "metadata": {},
     "output_type": "execute_result"
    }
   ],
   "source": [
    "tot_sells_nut_df.head(5)[['dunn_name','QUANTITY','nut_name']]"
   ]
  },
  {
   "cell_type": "markdown",
   "metadata": {
    "toc-hr-collapsed": false
   },
   "source": [
    "### Demographic nutriments"
   ]
  },
  {
   "cell_type": "markdown",
   "metadata": {},
   "source": [
    "<div class=\"alert alert-block alert-info\">\n",
    "The next idea is to check whether the nutrition profile does vary significantly across demographic features such as the income.\n",
    "</div>"
   ]
  },
  {
   "cell_type": "code",
   "execution_count": 102,
   "metadata": {},
   "outputs": [],
   "source": [
    "#get the nutriments amounts per article for each household\n",
    "demo_nut_df = house_nut_df.copy()\n",
    "demo_nut_df[nutriments] = demo_nut_df[nutriments].multiply(demo_nut_df.TOT_WEIGHT,axis = 0)  \n",
    "demo_nut_df = demo_nut_df.drop(columns = ['dunn_name','dunn_ingredients','nut_name','nut_ingredients'])\\\n",
    "                                .groupby('household_key')\\\n",
    "                                .agg('sum')\n",
    "\n",
    "demo_nut_df = demo_nut_df.join(hh_demographic_df.set_index('household_key'),how = 'inner')\n",
    "\n",
    "#we average on the total amount of food consumed\n",
    "demo_nut_df[nutriments] = demo_nut_df[nutriments].div(demo_nut_df.TOT_WEIGHT,axis = 0)"
   ]
  },
  {
   "cell_type": "markdown",
   "metadata": {
    "toc-hr-collapsed": true
   },
   "source": [
    "#### Income nutriments"
   ]
  },
  {
   "cell_type": "code",
   "execution_count": 103,
   "metadata": {},
   "outputs": [
    {
     "data": {
      "text/html": [
       "<div>\n",
       "<style scoped>\n",
       "    .dataframe tbody tr th:only-of-type {\n",
       "        vertical-align: middle;\n",
       "    }\n",
       "\n",
       "    .dataframe tbody tr th {\n",
       "        vertical-align: top;\n",
       "    }\n",
       "\n",
       "    .dataframe thead th {\n",
       "        text-align: right;\n",
       "    }\n",
       "</style>\n",
       "<table border=\"1\" class=\"dataframe\">\n",
       "  <thead>\n",
       "    <tr style=\"text-align: right;\">\n",
       "      <th></th>\n",
       "      <th>TOT_WEIGHT</th>\n",
       "      <th>alcohol</th>\n",
       "      <th>carbohydrate</th>\n",
       "      <th>cholesterol</th>\n",
       "      <th>energy</th>\n",
       "      <th>fatty acids total monounsaturated</th>\n",
       "      <th>fatty acids total polyunsaturated</th>\n",
       "      <th>fatty acids total saturated</th>\n",
       "      <th>fiber</th>\n",
       "      <th>protein</th>\n",
       "      <th>...</th>\n",
       "      <th>tot_vitamin e</th>\n",
       "      <th>tot_vitamin k</th>\n",
       "      <th>tot_alcohol</th>\n",
       "      <th>AGE_DESC</th>\n",
       "      <th>MARITAL_STATUS_CODE</th>\n",
       "      <th>INCOME_DESC</th>\n",
       "      <th>HOMEOWNER_DESC</th>\n",
       "      <th>HH_COMP_DESC</th>\n",
       "      <th>HOUSEHOLD_SIZE_DESC</th>\n",
       "      <th>KID_CATEGORY_DESC</th>\n",
       "    </tr>\n",
       "    <tr>\n",
       "      <th>household_key</th>\n",
       "      <th></th>\n",
       "      <th></th>\n",
       "      <th></th>\n",
       "      <th></th>\n",
       "      <th></th>\n",
       "      <th></th>\n",
       "      <th></th>\n",
       "      <th></th>\n",
       "      <th></th>\n",
       "      <th></th>\n",
       "      <th></th>\n",
       "      <th></th>\n",
       "      <th></th>\n",
       "      <th></th>\n",
       "      <th></th>\n",
       "      <th></th>\n",
       "      <th></th>\n",
       "      <th></th>\n",
       "      <th></th>\n",
       "      <th></th>\n",
       "      <th></th>\n",
       "    </tr>\n",
       "  </thead>\n",
       "  <tbody>\n",
       "  </tbody>\n",
       "</table>\n",
       "<p>0 rows × 42 columns</p>\n",
       "</div>"
      ],
      "text/plain": [
       "Empty DataFrame\n",
       "Columns: [TOT_WEIGHT, alcohol, carbohydrate, cholesterol, energy, fatty acids total monounsaturated, fatty acids total polyunsaturated, fatty acids total saturated, fiber, protein, sodium, sugars, total lipid, vitamin a, vitamin b-12, vitamin b-6, vitamin e, vitamin k, tot_carbohydrate, tot_cholesterol, tot_energy, tot_fatty acids total monounsaturated, tot_fatty acids total polyunsaturated, tot_fatty acids total saturated, tot_fiber, tot_protein, tot_sodium, tot_sugars, tot_total lipid, tot_vitamin a, tot_vitamin b-12, tot_vitamin b-6, tot_vitamin e, tot_vitamin k, tot_alcohol, AGE_DESC, MARITAL_STATUS_CODE, INCOME_DESC, HOMEOWNER_DESC, HH_COMP_DESC, HOUSEHOLD_SIZE_DESC, KID_CATEGORY_DESC]\n",
       "Index: []\n",
       "\n",
       "[0 rows x 42 columns]"
      ]
     },
     "execution_count": 103,
     "metadata": {},
     "output_type": "execute_result"
    }
   ],
   "source": [
    "income_nut_df = demo_nut_df.copy()\n",
    "\n",
    "#check that we treat all the cases\n",
    "income_nut_df[~income_nut_df.INCOME_DESC.str.contains('^[0-9]{2,3}-[0-9]{2,3}K$|Under 15K|250K+',regex = True)]"
   ]
  },
  {
   "cell_type": "code",
   "execution_count": 104,
   "metadata": {},
   "outputs": [
    {
     "name": "stdout",
     "output_type": "stream",
     "text": [
      "Extreme poor represent 0.08 of the dataset.\n",
      "Extreme wealhty represent 0.01 of the dataset.\n",
      "Number of poor households: 323\n",
      "Number of wealthy households: 406\n"
     ]
    }
   ],
   "source": [
    "lower_numb = income_nut_df[income_nut_df.INCOME_DESC.str.contains('Under 15K')].shape[0]\n",
    "higher_numb = income_nut_df[income_nut_df.INCOME_DESC.str.contains('250K+')].shape[0]\n",
    "tot_num = income_nut_df.shape[0]\n",
    "print('Extreme poor represent %.2f of the dataset.' % (lower_numb / tot_num))\n",
    "print('Extreme wealhty represent %.2f of the dataset.' % (higher_numb / tot_num))\n",
    "\n",
    "income_nut_df[['low_lim','high_lim']] = income_nut_df.INCOME_DESC.str.extract(r'^(\\d{2,3})-(\\d{2,3})K$')\n",
    "income_nut_df.dropna(inplace = True)\n",
    "income_nut_df[['low_lim','high_lim']] = income_nut_df[['low_lim','high_lim']].astype(int)\n",
    "income_nut_df['av_income'] = (income_nut_df.low_lim + income_nut_df.high_lim).div(2)\n",
    "income_nut_df.sort_values('av_income',inplace = True)\n",
    "med = income_nut_df.av_income.median()\n",
    "poors_df = income_nut_df[income_nut_df.av_income < med]\n",
    "wealthy_df = income_nut_df[income_nut_df.av_income >= med]\n",
    "\n",
    "print('Number of poor households: {}'.format(poors_df.shape[0]))\n",
    "print('Number of wealthy households: {}'.format(wealthy_df.shape[0]))"
   ]
  },
  {
   "cell_type": "markdown",
   "metadata": {},
   "source": [
    "<div class=\"alert alert-block alert-info\">\n",
    "The number of households is decently distributed across the 2 categories, and dropping the extremes is reasonable as their proportion is neglectable.\n",
    "</div>"
   ]
  },
  {
   "cell_type": "code",
   "execution_count": 105,
   "metadata": {},
   "outputs": [
    {
     "data": {
      "application/vnd.jupyter.widget-view+json": {
       "model_id": "24d68d1fac3a4045b39b452b777faecb",
       "version_major": 2,
       "version_minor": 0
      },
      "text/plain": [
       "interactive(children=(IntSlider(value=0, description='indx', max=16), Output()), _dom_classes=('widget-interac…"
      ]
     },
     "metadata": {},
     "output_type": "display_data"
    }
   ],
   "source": [
    "def plot2nut(nut_indx,df1,df2):\n",
    "    fig, ax = plt.subplots(1,figsize = (20,5))\n",
    "    nutriment = nutriments[nut_indx]\n",
    "    sns.distplot(df1[nutriment],norm_hist = True,ax = ax,label = 'poor')\n",
    "    sns.distplot(df2[nutriment],norm_hist = True,ax = ax,label = 'wealthy')\n",
    "    ax.set_title(nutriment)\n",
    "    ax.legend()\n",
    "    unit = nutriment_units_df[nutriment_units_df['name'] == nutriment].unit_name.values[0]\n",
    "    ax.set_xlabel(unit + ' of ' + nutriment + ' /100g. of food')\n",
    "    ax.set_ylabel('proportion of people')\n",
    "    ttest = stats.ttest_ind(poors_df[nutriment], wealthy_df[nutriment], equal_var = False,)\n",
    "    print('Pvalue of different means: {}'.format(ttest[1]))\n",
    "    \n",
    "plot_tot_nut = lambda indx: plot2nut(indx,poors_df,wealthy_df)\n",
    "interact(plot_tot_nut, indx=widgets.IntSlider(min=0, max=len(nutriments) - 1, step=1, value=0));"
   ]
  },
  {
   "cell_type": "markdown",
   "metadata": {},
   "source": [
    "<div class=\"alert alert-block alert-info\">\n",
    "It looks like the nutriments which change significantly across the income are the fatty acids in general and the cholesterol.\n",
    "</div>"
   ]
  },
  {
   "cell_type": "markdown",
   "metadata": {},
   "source": [
    "#### Age nutriments"
   ]
  },
  {
   "cell_type": "code",
   "execution_count": 32,
   "metadata": {},
   "outputs": [
    {
     "data": {
      "text/html": [
       "<div>\n",
       "<style scoped>\n",
       "    .dataframe tbody tr th:only-of-type {\n",
       "        vertical-align: middle;\n",
       "    }\n",
       "\n",
       "    .dataframe tbody tr th {\n",
       "        vertical-align: top;\n",
       "    }\n",
       "\n",
       "    .dataframe thead th {\n",
       "        text-align: right;\n",
       "    }\n",
       "</style>\n",
       "<table border=\"1\" class=\"dataframe\">\n",
       "  <thead>\n",
       "    <tr style=\"text-align: right;\">\n",
       "      <th></th>\n",
       "      <th>TOT_WEIGHT</th>\n",
       "      <th>alcohol</th>\n",
       "      <th>carbohydrate</th>\n",
       "      <th>cholesterol</th>\n",
       "      <th>energy</th>\n",
       "      <th>fatty acids total monounsaturated</th>\n",
       "      <th>fatty acids total polyunsaturated</th>\n",
       "      <th>fatty acids total saturated</th>\n",
       "      <th>fiber</th>\n",
       "      <th>protein</th>\n",
       "      <th>...</th>\n",
       "      <th>tot_vitamin b-6</th>\n",
       "      <th>tot_vitamin e</th>\n",
       "      <th>tot_vitamin k</th>\n",
       "      <th>tot_alcohol</th>\n",
       "      <th>MARITAL_STATUS_CODE</th>\n",
       "      <th>INCOME_DESC</th>\n",
       "      <th>HOMEOWNER_DESC</th>\n",
       "      <th>HH_COMP_DESC</th>\n",
       "      <th>HOUSEHOLD_SIZE_DESC</th>\n",
       "      <th>KID_CATEGORY_DESC</th>\n",
       "    </tr>\n",
       "    <tr>\n",
       "      <th>AGE_DESC</th>\n",
       "      <th></th>\n",
       "      <th></th>\n",
       "      <th></th>\n",
       "      <th></th>\n",
       "      <th></th>\n",
       "      <th></th>\n",
       "      <th></th>\n",
       "      <th></th>\n",
       "      <th></th>\n",
       "      <th></th>\n",
       "      <th></th>\n",
       "      <th></th>\n",
       "      <th></th>\n",
       "      <th></th>\n",
       "      <th></th>\n",
       "      <th></th>\n",
       "      <th></th>\n",
       "      <th></th>\n",
       "      <th></th>\n",
       "      <th></th>\n",
       "      <th></th>\n",
       "    </tr>\n",
       "  </thead>\n",
       "  <tbody>\n",
       "    <tr>\n",
       "      <td>19-34</td>\n",
       "      <td>188</td>\n",
       "      <td>188</td>\n",
       "      <td>188</td>\n",
       "      <td>188</td>\n",
       "      <td>188</td>\n",
       "      <td>188</td>\n",
       "      <td>188</td>\n",
       "      <td>188</td>\n",
       "      <td>188</td>\n",
       "      <td>188</td>\n",
       "      <td>...</td>\n",
       "      <td>188</td>\n",
       "      <td>188</td>\n",
       "      <td>188</td>\n",
       "      <td>188</td>\n",
       "      <td>188</td>\n",
       "      <td>188</td>\n",
       "      <td>188</td>\n",
       "      <td>188</td>\n",
       "      <td>188</td>\n",
       "      <td>188</td>\n",
       "    </tr>\n",
       "    <tr>\n",
       "      <td>35-44</td>\n",
       "      <td>194</td>\n",
       "      <td>194</td>\n",
       "      <td>194</td>\n",
       "      <td>194</td>\n",
       "      <td>194</td>\n",
       "      <td>194</td>\n",
       "      <td>194</td>\n",
       "      <td>194</td>\n",
       "      <td>194</td>\n",
       "      <td>194</td>\n",
       "      <td>...</td>\n",
       "      <td>194</td>\n",
       "      <td>194</td>\n",
       "      <td>194</td>\n",
       "      <td>194</td>\n",
       "      <td>194</td>\n",
       "      <td>194</td>\n",
       "      <td>194</td>\n",
       "      <td>194</td>\n",
       "      <td>194</td>\n",
       "      <td>194</td>\n",
       "    </tr>\n",
       "    <tr>\n",
       "      <td>45-54</td>\n",
       "      <td>288</td>\n",
       "      <td>288</td>\n",
       "      <td>288</td>\n",
       "      <td>288</td>\n",
       "      <td>288</td>\n",
       "      <td>288</td>\n",
       "      <td>288</td>\n",
       "      <td>288</td>\n",
       "      <td>288</td>\n",
       "      <td>288</td>\n",
       "      <td>...</td>\n",
       "      <td>288</td>\n",
       "      <td>288</td>\n",
       "      <td>288</td>\n",
       "      <td>288</td>\n",
       "      <td>288</td>\n",
       "      <td>288</td>\n",
       "      <td>288</td>\n",
       "      <td>288</td>\n",
       "      <td>288</td>\n",
       "      <td>288</td>\n",
       "    </tr>\n",
       "    <tr>\n",
       "      <td>55-65+</td>\n",
       "      <td>131</td>\n",
       "      <td>131</td>\n",
       "      <td>131</td>\n",
       "      <td>131</td>\n",
       "      <td>131</td>\n",
       "      <td>131</td>\n",
       "      <td>131</td>\n",
       "      <td>131</td>\n",
       "      <td>131</td>\n",
       "      <td>131</td>\n",
       "      <td>...</td>\n",
       "      <td>131</td>\n",
       "      <td>131</td>\n",
       "      <td>131</td>\n",
       "      <td>131</td>\n",
       "      <td>131</td>\n",
       "      <td>131</td>\n",
       "      <td>131</td>\n",
       "      <td>131</td>\n",
       "      <td>131</td>\n",
       "      <td>131</td>\n",
       "    </tr>\n",
       "  </tbody>\n",
       "</table>\n",
       "<p>4 rows × 41 columns</p>\n",
       "</div>"
      ],
      "text/plain": [
       "          TOT_WEIGHT  alcohol  carbohydrate  cholesterol  energy  \\\n",
       "AGE_DESC                                                           \n",
       "19-34            188      188           188          188     188   \n",
       "35-44            194      194           194          194     194   \n",
       "45-54            288      288           288          288     288   \n",
       "55-65+           131      131           131          131     131   \n",
       "\n",
       "          fatty acids total monounsaturated  \\\n",
       "AGE_DESC                                      \n",
       "19-34                                   188   \n",
       "35-44                                   194   \n",
       "45-54                                   288   \n",
       "55-65+                                  131   \n",
       "\n",
       "          fatty acids total polyunsaturated  fatty acids total saturated  \\\n",
       "AGE_DESC                                                                   \n",
       "19-34                                   188                          188   \n",
       "35-44                                   194                          194   \n",
       "45-54                                   288                          288   \n",
       "55-65+                                  131                          131   \n",
       "\n",
       "          fiber  protein  ...  tot_vitamin b-6  tot_vitamin e  tot_vitamin k  \\\n",
       "AGE_DESC                  ...                                                  \n",
       "19-34       188      188  ...              188            188            188   \n",
       "35-44       194      194  ...              194            194            194   \n",
       "45-54       288      288  ...              288            288            288   \n",
       "55-65+      131      131  ...              131            131            131   \n",
       "\n",
       "          tot_alcohol  MARITAL_STATUS_CODE  INCOME_DESC  HOMEOWNER_DESC  \\\n",
       "AGE_DESC                                                                  \n",
       "19-34             188                  188          188             188   \n",
       "35-44             194                  194          194             194   \n",
       "45-54             288                  288          288             288   \n",
       "55-65+            131                  131          131             131   \n",
       "\n",
       "          HH_COMP_DESC  HOUSEHOLD_SIZE_DESC  KID_CATEGORY_DESC  \n",
       "AGE_DESC                                                        \n",
       "19-34              188                  188                188  \n",
       "35-44              194                  194                194  \n",
       "45-54              288                  288                288  \n",
       "55-65+             131                  131                131  \n",
       "\n",
       "[4 rows x 41 columns]"
      ]
     },
     "execution_count": 32,
     "metadata": {},
     "output_type": "execute_result"
    }
   ],
   "source": [
    "demo_nut_df.AGE_DESC = demo_nut_df.AGE_DESC.astype('category')\n",
    "dic_age = {'19-24':'19-34','25-34':'19-34','55-64':'55-65+','65+':'55-65+'}\n",
    "demo_nut_df.AGE_DESC = demo_nut_df.AGE_DESC.map(dic_age).fillna(demo_nut_df.AGE_DESC)\n",
    "\n",
    "demo_nut_df.groupby('AGE_DESC').count()"
   ]
  },
  {
   "cell_type": "markdown",
   "metadata": {},
   "source": [
    "<div class=\"alert alert-block alert-info\">\n",
    "The samples are evenly split across age categories.\n",
    "</div>"
   ]
  },
  {
   "cell_type": "code",
   "execution_count": 33,
   "metadata": {},
   "outputs": [],
   "source": [
    "uniques = np.sort(demo_nut_df.AGE_DESC.unique())\n",
    "age_cat_dfs = []\n",
    "for i in uniques:\n",
    "    age_cat_dfs.append(demo_nut_df[demo_nut_df.AGE_DESC == i])"
   ]
  },
  {
   "cell_type": "code",
   "execution_count": 34,
   "metadata": {},
   "outputs": [
    {
     "data": {
      "application/vnd.jupyter.widget-view+json": {
       "model_id": "8db2da09ce4745fc88fbd92dc7ee22a3",
       "version_major": 2,
       "version_minor": 0
      },
      "text/plain": [
       "interactive(children=(IntSlider(value=0, description='indx', max=16), Output()), _dom_classes=('widget-interac…"
      ]
     },
     "metadata": {},
     "output_type": "display_data"
    }
   ],
   "source": [
    "def plotages(nut_indx,dfs):\n",
    "    fig, ax = plt.subplots(1,figsize = (20,5))\n",
    "    nutriment = nutriments[nut_indx]\n",
    "    for df in dfs:\n",
    "        sns.distplot(df[nutriment],norm_hist = True,ax = ax,label = df.iloc[0].AGE_DESC)\n",
    "    ax.set_title(nutriment)\n",
    "    ax.legend()\n",
    "    unit = nutriment_units_df[nutriment_units_df['name'] == nutriment].unit_name.values[0]\n",
    "    ax.set_xlabel(unit + ' of ' + nutriment + ' /100g. of food')\n",
    "    ax.set_ylabel('proportion of people')\n",
    "    \n",
    "plot_tot_ages = lambda indx: plotages(indx,age_cat_dfs)\n",
    "interact(plot_tot_ages, indx=widgets.IntSlider(min=0, max=len(nutriments) - 1, step=1, value=0));"
   ]
  },
  {
   "cell_type": "markdown",
   "metadata": {},
   "source": [
    "<div class=\"alert alert-block alert-info\">\n",
    "One intersting characteristic of this plot is the trend to consume more fibers as the age increases.\n",
    "</div>"
   ]
  },
  {
   "cell_type": "markdown",
   "metadata": {},
   "source": [
    "### Average nutriments consumption"
   ]
  },
  {
   "cell_type": "code",
   "execution_count": 108,
   "metadata": {},
   "outputs": [
    {
     "name": "stdout",
     "output_type": "stream",
     "text": [
      "Correlations between the average nutritional intake of each household\n"
     ]
    },
    {
     "data": {
      "image/png": "[encoded data removed]",
      "text/plain": [
       "<Figure size 2160x720 with 6 Axes>"
      ]
     },
     "metadata": {
      "needs_background": "light"
     },
     "output_type": "display_data"
    },
    {
     "data": {
      "text/plain": [
       "<Figure size 432x288 with 0 Axes>"
      ]
     },
     "metadata": {},
     "output_type": "display_data"
    },
    {
     "data": {
      "text/plain": [
       "<Figure size 432x288 with 0 Axes>"
      ]
     },
     "metadata": {},
     "output_type": "display_data"
    },
    {
     "data": {
      "text/plain": [
       "<Figure size 432x288 with 0 Axes>"
      ]
     },
     "metadata": {},
     "output_type": "display_data"
    }
   ],
   "source": [
    "def plot_corr_mat(corrmat,title,ax):\n",
    "    plt.figure()\n",
    "    with sns.axes_style(\"white\"):\n",
    "        sns.heatmap(corrmat,\\\n",
    "                          cbar_kws = dict(use_gridspec=False,location=\"left\"), \\\n",
    "                          xticklabels=True,yticklabels=True,\\\n",
    "                          #mask=mask,\\\n",
    "                          cmap=\"YlGnBu\",square=True,\\\n",
    "                          ax = ax)\n",
    "        ax.xaxis.set_ticks_position('top')\n",
    "        ax.yaxis.set_ticks_position('right')\n",
    "        ax.set_xticklabels(ax.get_xticklabels(),rotation=90)\n",
    "        ax.set_yticklabels(ax.get_xticklabels(),rotation=0)\n",
    "        ax.set_title(title)\n",
    "\n",
    "corrmat_hseholds = demo_nut_df[nutriments].corr()\n",
    "corrmat_food = all_nutrition[nutriments].corr()\n",
    "fig,axes = plt.subplots(1,3,figsize = (30,10))\n",
    "plot_corr_mat(corrmat_hseholds,'Correlatinn matrix of the avg nuts consumption',axes[0])\n",
    "plot_corr_mat(corrmat_food,'Correlation matrix for the nutriments',axes[1])\n",
    "plot_corr_mat(corrmat_hseholds - corrmat_food,'Difference btwn both',axes[2])\n",
    "print('Correlations between the average nutritional intake of each household')"
   ]
  },
  {
   "cell_type": "markdown",
   "metadata": {},
   "source": [
    "<div class=\"alert alert-block alert-info\">\n",
    "We see that the sodium tends to be more consumed in association with lipids, and so does protein. Interestingly, the cholesterol does not seem to have a strong correlation with other lipids amongst food items,but gets associated in food consumption.\n",
    "</div>"
   ]
  },
  {
   "cell_type": "markdown",
   "metadata": {},
   "source": [
    "### Unhealthy households detection"
   ]
  },
  {
   "cell_type": "code",
   "execution_count": 109,
   "metadata": {},
   "outputs": [],
   "source": [
    "hshold_dtction_df = house_nut_df.groupby('household_key')\\\n",
    "                                .agg(sum)\\\n",
    "                                .drop(columns = nutriments)\n",
    "hshold_dtction_df[tot_nutriments] = hshold_dtction_df[tot_nutriments].div(hshold_dtction_df.TOT_WEIGHT, axis = 0)\n",
    "#at that stage the to_nutriments have the average amount of nutrients\n",
    "\n",
    "hshold_dtction_df[tot_nutriments] = hshold_dtction_df[tot_nutriments].multiply((2000 / hshold_dtction_df.tot_energy),axis = 0)"
   ]
  },
  {
   "cell_type": "code",
   "execution_count": 110,
   "metadata": {},
   "outputs": [
    {
     "data": {
      "text/html": [
       "<div>\n",
       "<style scoped>\n",
       "    .dataframe tbody tr th:only-of-type {\n",
       "        vertical-align: middle;\n",
       "    }\n",
       "\n",
       "    .dataframe tbody tr th {\n",
       "        vertical-align: top;\n",
       "    }\n",
       "\n",
       "    .dataframe thead th {\n",
       "        text-align: right;\n",
       "    }\n",
       "</style>\n",
       "<table border=\"1\" class=\"dataframe\">\n",
       "  <thead>\n",
       "    <tr style=\"text-align: right;\">\n",
       "      <th></th>\n",
       "      <th>TOT_WEIGHT</th>\n",
       "      <th>tot_carbohydrate</th>\n",
       "      <th>tot_cholesterol</th>\n",
       "      <th>tot_energy</th>\n",
       "      <th>tot_fatty acids total monounsaturated</th>\n",
       "      <th>tot_fatty acids total polyunsaturated</th>\n",
       "      <th>tot_fatty acids total saturated</th>\n",
       "      <th>tot_fiber</th>\n",
       "      <th>tot_protein</th>\n",
       "      <th>tot_sodium</th>\n",
       "      <th>tot_sugars</th>\n",
       "      <th>tot_total lipid</th>\n",
       "      <th>tot_vitamin a</th>\n",
       "      <th>tot_vitamin b-12</th>\n",
       "      <th>tot_vitamin b-6</th>\n",
       "      <th>tot_vitamin e</th>\n",
       "      <th>tot_vitamin k</th>\n",
       "      <th>tot_alcohol</th>\n",
       "    </tr>\n",
       "    <tr>\n",
       "      <th>household_key</th>\n",
       "      <th></th>\n",
       "      <th></th>\n",
       "      <th></th>\n",
       "      <th></th>\n",
       "      <th></th>\n",
       "      <th></th>\n",
       "      <th></th>\n",
       "      <th></th>\n",
       "      <th></th>\n",
       "      <th></th>\n",
       "      <th></th>\n",
       "      <th></th>\n",
       "      <th></th>\n",
       "      <th></th>\n",
       "      <th></th>\n",
       "      <th></th>\n",
       "      <th></th>\n",
       "      <th></th>\n",
       "    </tr>\n",
       "  </thead>\n",
       "  <tbody>\n",
       "    <tr>\n",
       "      <td>1</td>\n",
       "      <td>1606.746420</td>\n",
       "      <td>339.962014</td>\n",
       "      <td>80.312329</td>\n",
       "      <td>2000.0</td>\n",
       "      <td>22.611781</td>\n",
       "      <td>16.769186</td>\n",
       "      <td>18.669307</td>\n",
       "      <td>33.719858</td>\n",
       "      <td>43.575077</td>\n",
       "      <td>1788.347908</td>\n",
       "      <td>172.657264</td>\n",
       "      <td>63.773057</td>\n",
       "      <td>402.665583</td>\n",
       "      <td>1.584027</td>\n",
       "      <td>4.041212</td>\n",
       "      <td>0.151311</td>\n",
       "      <td>68.890511</td>\n",
       "      <td>0.086400</td>\n",
       "    </tr>\n",
       "    <tr>\n",
       "      <td>2</td>\n",
       "      <td>508.592667</td>\n",
       "      <td>323.100568</td>\n",
       "      <td>115.709447</td>\n",
       "      <td>2000.0</td>\n",
       "      <td>22.973081</td>\n",
       "      <td>15.205046</td>\n",
       "      <td>20.566334</td>\n",
       "      <td>22.827474</td>\n",
       "      <td>47.046976</td>\n",
       "      <td>2204.944371</td>\n",
       "      <td>191.436553</td>\n",
       "      <td>64.594151</td>\n",
       "      <td>535.942478</td>\n",
       "      <td>3.348550</td>\n",
       "      <td>2.725223</td>\n",
       "      <td>0.268826</td>\n",
       "      <td>94.998963</td>\n",
       "      <td>0.319139</td>\n",
       "    </tr>\n",
       "    <tr>\n",
       "      <td>3</td>\n",
       "      <td>963.064393</td>\n",
       "      <td>321.063574</td>\n",
       "      <td>101.665428</td>\n",
       "      <td>2000.0</td>\n",
       "      <td>23.480424</td>\n",
       "      <td>16.182553</td>\n",
       "      <td>18.571597</td>\n",
       "      <td>20.876507</td>\n",
       "      <td>51.453178</td>\n",
       "      <td>2580.198821</td>\n",
       "      <td>169.951770</td>\n",
       "      <td>64.613577</td>\n",
       "      <td>509.259509</td>\n",
       "      <td>3.868248</td>\n",
       "      <td>2.807825</td>\n",
       "      <td>0.170044</td>\n",
       "      <td>65.918237</td>\n",
       "      <td>0.072516</td>\n",
       "    </tr>\n",
       "    <tr>\n",
       "      <td>4</td>\n",
       "      <td>114.247721</td>\n",
       "      <td>259.210373</td>\n",
       "      <td>126.735568</td>\n",
       "      <td>2000.0</td>\n",
       "      <td>28.135846</td>\n",
       "      <td>19.219386</td>\n",
       "      <td>27.216091</td>\n",
       "      <td>12.457548</td>\n",
       "      <td>58.915950</td>\n",
       "      <td>3429.194379</td>\n",
       "      <td>66.515006</td>\n",
       "      <td>82.372246</td>\n",
       "      <td>492.487089</td>\n",
       "      <td>4.718594</td>\n",
       "      <td>2.154482</td>\n",
       "      <td>3.508795</td>\n",
       "      <td>64.833020</td>\n",
       "      <td>0.000000</td>\n",
       "    </tr>\n",
       "    <tr>\n",
       "      <td>5</td>\n",
       "      <td>116.519451</td>\n",
       "      <td>214.343107</td>\n",
       "      <td>190.552495</td>\n",
       "      <td>2000.0</td>\n",
       "      <td>36.995824</td>\n",
       "      <td>21.836198</td>\n",
       "      <td>32.885437</td>\n",
       "      <td>12.754320</td>\n",
       "      <td>66.912233</td>\n",
       "      <td>3114.787148</td>\n",
       "      <td>111.832399</td>\n",
       "      <td>100.401946</td>\n",
       "      <td>586.786796</td>\n",
       "      <td>10.291268</td>\n",
       "      <td>9.854656</td>\n",
       "      <td>0.494033</td>\n",
       "      <td>52.929420</td>\n",
       "      <td>0.647990</td>\n",
       "    </tr>\n",
       "    <tr>\n",
       "      <td>...</td>\n",
       "      <td>...</td>\n",
       "      <td>...</td>\n",
       "      <td>...</td>\n",
       "      <td>...</td>\n",
       "      <td>...</td>\n",
       "      <td>...</td>\n",
       "      <td>...</td>\n",
       "      <td>...</td>\n",
       "      <td>...</td>\n",
       "      <td>...</td>\n",
       "      <td>...</td>\n",
       "      <td>...</td>\n",
       "      <td>...</td>\n",
       "      <td>...</td>\n",
       "      <td>...</td>\n",
       "      <td>...</td>\n",
       "      <td>...</td>\n",
       "      <td>...</td>\n",
       "    </tr>\n",
       "    <tr>\n",
       "      <td>2496</td>\n",
       "      <td>990.618807</td>\n",
       "      <td>251.641917</td>\n",
       "      <td>127.591960</td>\n",
       "      <td>2000.0</td>\n",
       "      <td>34.085603</td>\n",
       "      <td>24.950129</td>\n",
       "      <td>26.007944</td>\n",
       "      <td>21.785392</td>\n",
       "      <td>56.263092</td>\n",
       "      <td>2499.097982</td>\n",
       "      <td>121.325471</td>\n",
       "      <td>91.991251</td>\n",
       "      <td>690.532678</td>\n",
       "      <td>2.736136</td>\n",
       "      <td>2.679260</td>\n",
       "      <td>0.109373</td>\n",
       "      <td>98.453434</td>\n",
       "      <td>0.326653</td>\n",
       "    </tr>\n",
       "    <tr>\n",
       "      <td>2497</td>\n",
       "      <td>2273.762535</td>\n",
       "      <td>284.184314</td>\n",
       "      <td>139.233804</td>\n",
       "      <td>2000.0</td>\n",
       "      <td>26.494318</td>\n",
       "      <td>24.128626</td>\n",
       "      <td>19.750584</td>\n",
       "      <td>26.657488</td>\n",
       "      <td>56.365091</td>\n",
       "      <td>3155.638932</td>\n",
       "      <td>107.834916</td>\n",
       "      <td>76.372093</td>\n",
       "      <td>775.799424</td>\n",
       "      <td>3.192305</td>\n",
       "      <td>3.056301</td>\n",
       "      <td>0.115173</td>\n",
       "      <td>134.158134</td>\n",
       "      <td>0.043735</td>\n",
       "    </tr>\n",
       "    <tr>\n",
       "      <td>2498</td>\n",
       "      <td>839.468760</td>\n",
       "      <td>296.905966</td>\n",
       "      <td>117.776221</td>\n",
       "      <td>2000.0</td>\n",
       "      <td>25.330883</td>\n",
       "      <td>16.534961</td>\n",
       "      <td>25.732258</td>\n",
       "      <td>22.663783</td>\n",
       "      <td>50.411293</td>\n",
       "      <td>2042.872746</td>\n",
       "      <td>143.074311</td>\n",
       "      <td>74.824499</td>\n",
       "      <td>597.315943</td>\n",
       "      <td>4.084585</td>\n",
       "      <td>3.093292</td>\n",
       "      <td>0.446232</td>\n",
       "      <td>59.920452</td>\n",
       "      <td>0.481707</td>\n",
       "    </tr>\n",
       "    <tr>\n",
       "      <td>2499</td>\n",
       "      <td>1111.641445</td>\n",
       "      <td>309.820800</td>\n",
       "      <td>94.051315</td>\n",
       "      <td>2000.0</td>\n",
       "      <td>25.168680</td>\n",
       "      <td>17.206805</td>\n",
       "      <td>21.078779</td>\n",
       "      <td>20.019453</td>\n",
       "      <td>48.395109</td>\n",
       "      <td>2411.704498</td>\n",
       "      <td>166.762686</td>\n",
       "      <td>69.045252</td>\n",
       "      <td>427.620758</td>\n",
       "      <td>2.950499</td>\n",
       "      <td>2.279028</td>\n",
       "      <td>0.179889</td>\n",
       "      <td>61.312390</td>\n",
       "      <td>0.000000</td>\n",
       "    </tr>\n",
       "    <tr>\n",
       "      <td>2500</td>\n",
       "      <td>1123.051243</td>\n",
       "      <td>318.377429</td>\n",
       "      <td>136.634681</td>\n",
       "      <td>2000.0</td>\n",
       "      <td>21.900224</td>\n",
       "      <td>13.771239</td>\n",
       "      <td>24.306363</td>\n",
       "      <td>25.732567</td>\n",
       "      <td>51.109700</td>\n",
       "      <td>1957.604636</td>\n",
       "      <td>163.436923</td>\n",
       "      <td>67.041218</td>\n",
       "      <td>673.274853</td>\n",
       "      <td>3.740605</td>\n",
       "      <td>4.500384</td>\n",
       "      <td>0.632934</td>\n",
       "      <td>56.808930</td>\n",
       "      <td>0.082597</td>\n",
       "    </tr>\n",
       "  </tbody>\n",
       "</table>\n",
       "<p>2500 rows × 18 columns</p>\n",
       "</div>"
      ],
      "text/plain": [
       "                TOT_WEIGHT  tot_carbohydrate  tot_cholesterol  tot_energy  \\\n",
       "household_key                                                               \n",
       "1              1606.746420        339.962014        80.312329      2000.0   \n",
       "2               508.592667        323.100568       115.709447      2000.0   \n",
       "3               963.064393        321.063574       101.665428      2000.0   \n",
       "4               114.247721        259.210373       126.735568      2000.0   \n",
       "5               116.519451        214.343107       190.552495      2000.0   \n",
       "...                    ...               ...              ...         ...   \n",
       "2496            990.618807        251.641917       127.591960      2000.0   \n",
       "2497           2273.762535        284.184314       139.233804      2000.0   \n",
       "2498            839.468760        296.905966       117.776221      2000.0   \n",
       "2499           1111.641445        309.820800        94.051315      2000.0   \n",
       "2500           1123.051243        318.377429       136.634681      2000.0   \n",
       "\n",
       "               tot_fatty acids total monounsaturated  \\\n",
       "household_key                                          \n",
       "1                                          22.611781   \n",
       "2                                          22.973081   \n",
       "3                                          23.480424   \n",
       "4                                          28.135846   \n",
       "5                                          36.995824   \n",
       "...                                              ...   \n",
       "2496                                       34.085603   \n",
       "2497                                       26.494318   \n",
       "2498                                       25.330883   \n",
       "2499                                       25.168680   \n",
       "2500                                       21.900224   \n",
       "\n",
       "               tot_fatty acids total polyunsaturated  \\\n",
       "household_key                                          \n",
       "1                                          16.769186   \n",
       "2                                          15.205046   \n",
       "3                                          16.182553   \n",
       "4                                          19.219386   \n",
       "5                                          21.836198   \n",
       "...                                              ...   \n",
       "2496                                       24.950129   \n",
       "2497                                       24.128626   \n",
       "2498                                       16.534961   \n",
       "2499                                       17.206805   \n",
       "2500                                       13.771239   \n",
       "\n",
       "               tot_fatty acids total saturated  tot_fiber  tot_protein  \\\n",
       "household_key                                                            \n",
       "1                                    18.669307  33.719858    43.575077   \n",
       "2                                    20.566334  22.827474    47.046976   \n",
       "3                                    18.571597  20.876507    51.453178   \n",
       "4                                    27.216091  12.457548    58.915950   \n",
       "5                                    32.885437  12.754320    66.912233   \n",
       "...                                        ...        ...          ...   \n",
       "2496                                 26.007944  21.785392    56.263092   \n",
       "2497                                 19.750584  26.657488    56.365091   \n",
       "2498                                 25.732258  22.663783    50.411293   \n",
       "2499                                 21.078779  20.019453    48.395109   \n",
       "2500                                 24.306363  25.732567    51.109700   \n",
       "\n",
       "                tot_sodium  tot_sugars  tot_total lipid  tot_vitamin a  \\\n",
       "household_key                                                            \n",
       "1              1788.347908  172.657264        63.773057     402.665583   \n",
       "2              2204.944371  191.436553        64.594151     535.942478   \n",
       "3              2580.198821  169.951770        64.613577     509.259509   \n",
       "4              3429.194379   66.515006        82.372246     492.487089   \n",
       "5              3114.787148  111.832399       100.401946     586.786796   \n",
       "...                    ...         ...              ...            ...   \n",
       "2496           2499.097982  121.325471        91.991251     690.532678   \n",
       "2497           3155.638932  107.834916        76.372093     775.799424   \n",
       "2498           2042.872746  143.074311        74.824499     597.315943   \n",
       "2499           2411.704498  166.762686        69.045252     427.620758   \n",
       "2500           1957.604636  163.436923        67.041218     673.274853   \n",
       "\n",
       "               tot_vitamin b-12  tot_vitamin b-6  tot_vitamin e  \\\n",
       "household_key                                                     \n",
       "1                      1.584027         4.041212       0.151311   \n",
       "2                      3.348550         2.725223       0.268826   \n",
       "3                      3.868248         2.807825       0.170044   \n",
       "4                      4.718594         2.154482       3.508795   \n",
       "5                     10.291268         9.854656       0.494033   \n",
       "...                         ...              ...            ...   \n",
       "2496                   2.736136         2.679260       0.109373   \n",
       "2497                   3.192305         3.056301       0.115173   \n",
       "2498                   4.084585         3.093292       0.446232   \n",
       "2499                   2.950499         2.279028       0.179889   \n",
       "2500                   3.740605         4.500384       0.632934   \n",
       "\n",
       "               tot_vitamin k  tot_alcohol  \n",
       "household_key                              \n",
       "1                  68.890511     0.086400  \n",
       "2                  94.998963     0.319139  \n",
       "3                  65.918237     0.072516  \n",
       "4                  64.833020     0.000000  \n",
       "5                  52.929420     0.647990  \n",
       "...                      ...          ...  \n",
       "2496               98.453434     0.326653  \n",
       "2497              134.158134     0.043735  \n",
       "2498               59.920452     0.481707  \n",
       "2499               61.312390     0.000000  \n",
       "2500               56.808930     0.082597  \n",
       "\n",
       "[2500 rows x 18 columns]"
      ]
     },
     "execution_count": 110,
     "metadata": {},
     "output_type": "execute_result"
    }
   ],
   "source": [
    "hshold_dtction_df"
   ]
  },
  {
   "cell_type": "code",
   "execution_count": 45,
   "metadata": {},
   "outputs": [
    {
     "data": {
      "text/plain": [
       "234.15525322883852"
      ]
     },
     "execution_count": 45,
     "metadata": {},
     "output_type": "execute_result"
    }
   ],
   "source": [
    "quantiles = hshold_dtction_df.quantile((0.25,0.75))[tot_nutriments].T\n",
    "\n",
    "quantiles['high_lim'] = (quantiles[0.75] - quantiles[0.25]) * 1.5 + quantiles[0.75]\n",
    "\n",
    "quantiles['low_lim'] = quantiles[0.25] - (quantiles[0.75] - quantiles[0.25]) * 1.5\n",
    "quantiles = quantiles.T.to_dict()\n",
    "\n",
    "quantiles['tot_cholesterol']['high_lim']"
   ]
  },
  {
   "cell_type": "code",
   "execution_count": 46,
   "metadata": {},
   "outputs": [],
   "source": [
    "ref_intakes_df = pd.read_csv('../data/health/ref_intakes.csv').drop(columns = ['unit_name'])"
   ]
  },
  {
   "cell_type": "code",
   "execution_count": null,
   "metadata": {},
   "outputs": [],
   "source": [
    "ref"
   ]
  },
  {
   "cell_type": "markdown",
   "metadata": {},
   "source": [
    "<div class=\"alert alert-block alert-info\">\n",
    "In order to detect outliers for a given nutriment, we use IQR range outlier detection.\n",
    "</div>"
   ]
  },
  {
   "cell_type": "code",
   "execution_count": 42,
   "metadata": {},
   "outputs": [],
   "source": [
    "def get_outliers(tot_nutriment,quantiles,df):\n",
    "    \"\"\"\n",
    "    nutriment: the nutriment for which we calculate an excess\n",
    "    quantiles: the quantiles dictionary (for all nutriments)\n",
    "    df: the dataframe linking the average nutriments consumptions to housholds ids\n",
    "    \"\"\"\n",
    "    outliers_df = df[df[tot_nutriment] > quantiles[tot_nutriment]['high_lim']]\n",
    "    return outliers_df.index"
   ]
  },
  {
   "cell_type": "code",
   "execution_count": 43,
   "metadata": {},
   "outputs": [],
   "source": [
    "#list_outlier = get_outliers('tot_fatty acids total saturated',quantiles,hshold_dtction_df)\n",
    "list_outlier = get_outliers('tot_cholesterol',quantiles,hshold_dtction_df)\n",
    "list_outlier_df = hshold_dtction_df.loc[list_outlier]"
   ]
  },
  {
   "cell_type": "code",
   "execution_count": 44,
   "metadata": {},
   "outputs": [
    {
     "data": {
      "application/vnd.jupyter.widget-view+json": {
       "model_id": "9b375254ae3c4e2cb9db015c5e7628cf",
       "version_major": 2,
       "version_minor": 0
      },
      "text/plain": [
       "interactive(children=(IntSlider(value=0, description='indx', max=81), Output()), _dom_classes=('widget-interac…"
      ]
     },
     "metadata": {},
     "output_type": "display_data"
    }
   ],
   "source": [
    "def plot_hshold(indx,hsholds):\n",
    "    hshold_number = hsholds.index[indx]\n",
    "    hshold = hsholds.iloc[indx]\n",
    "    hshold_df = pd.DataFrame(hshold)\n",
    "    hshold_df.columns = ['quantity']\n",
    "    rename = lambda x: x[4:]\n",
    "    hshold_df.rename(rename,inplace = True)\n",
    "    ref_intakes_df = pd.read_csv('../data/health/ref_intakes.csv').drop(columns = ['unit_name'])\n",
    "    fig,ax = plt.subplots(1)\n",
    "    hshold_df.join(ref_intakes_df.set_index('name'),how = 'inner',lsuffix = '_original',rsuffix = '_optimal')\\\n",
    "                                 .plot.bar(ax = ax)\n",
    "    ax.set_title(str(hshold_number) + ' house number')\n",
    "    \n",
    "_plot_hshold = lambda indx: plot_hshold(indx,list_outlier_df)\n",
    "interact(_plot_hshold, indx=widgets.IntSlider(min=0, max=len(list_outlier_df) - 1, step=1, value=0));"
   ]
  },
  {
   "cell_type": "markdown",
   "metadata": {},
   "source": [
    "<div class=\"alert alert-block alert-info\">\n",
    "We now have a tool available to detect which houseold consume too much of certain nutriment: this could potentially be used in order to warn people whose consumption become dangerous and could harm them, allowing sensibilization about healthy food consumption.\n",
    "</div>"
   ]
  }
 ],
 "metadata": {
  "kernelspec": {
   "display_name": "Python 3",
   "language": "python",
   "name": "python3"
  },
  "language_info": {
   "codemirror_mode": {
    "name": "ipython",
    "version": 3
   },
   "file_extension": ".py",
   "mimetype": "text/x-python",
   "name": "python",
   "nbconvert_exporter": "python",
   "pygments_lexer": "ipython3",
   "version": "3.7.4"
  }
 },
 "nbformat": 4,
 "nbformat_minor": 4
}
