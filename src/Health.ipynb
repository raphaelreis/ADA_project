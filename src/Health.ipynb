{
 "cells": [
  {
   "cell_type": "markdown",
   "metadata": {},
   "source": [
    "# Nutrition NLP: joining 2 distinct datasets"
   ]
  },
  {
   "cell_type": "markdown",
   "metadata": {},
   "source": [
    "<div class=\"alert alert-block alert-info\">\n",
    "Intro: Having access to a supermarket dataset gives us a unique occasion to get crucial insights into alimentary habits of consumers: the goal of this section is thus to isolate food-related items of the dunnhumby dataset and link it with a nutrition database of the U.S Department of Agriculture (USDA) in order to later build a nutrition profile of each household.\n",
    "</div>"
   ]
  },
  {
   "cell_type": "markdown",
   "metadata": {},
   "source": [
    "<div class=\"alert alert-block alert-info\">\n",
    "Method: This challenge appears to be a NLP task: the main challenge consists in joining the dunnhumby dataset with the USDA one, knowing that each food item would have a similar, but crucially non equal name. Thus, one has to infere the true nature of eacch food-item based on its name exclusively.\n",
    "</div>"
   ]
  },
  {
   "cell_type": "code",
   "execution_count": 1,
   "metadata": {},
   "outputs": [],
   "source": [
    "%matplotlib inline\n",
    "import re\n",
    "import os\n",
    "import nltk\n",
    "import time\n",
    "import pickle\n",
    "import sys\n",
    "\n",
    "from ipywidgets import interact, interactive, fixed, interact_manual\n",
    "import ipywidgets as widgets\n",
    "\n",
    "import numpy as np\n",
    "import pandas as pd\n",
    "import matplotlib.pyplot as plt\n",
    "\n",
    "from matplotlib.ticker import MaxNLocator\n",
    "from IPython.core.display import SVG\n",
    "\n",
    "sys.path.insert(1, './utilities/')\n",
    "from health_functions import *\n",
    "%load_ext autoreload\n",
    "%autoreload 2"
   ]
  },
  {
   "cell_type": "code",
   "execution_count": 2,
   "metadata": {},
   "outputs": [],
   "source": [
    "DUNNHUMBY_PATH = '../data/dunnhumby_data/'\n",
    "HEALTH_PATH = '../data/health'"
   ]
  },
  {
   "cell_type": "markdown",
   "metadata": {},
   "source": [
    "## Import Data"
   ]
  },
  {
   "cell_type": "code",
   "execution_count": 3,
   "metadata": {},
   "outputs": [],
   "source": [
    "products_df = pd.read_csv('../data/dunnhumby_data/product.csv')\n",
    "transaction_data_df = pd.read_csv('../data/dunnhumby_data/transaction_data.csv')\n",
    "    \n",
    "# link the nutrient id with its name\n",
    "nutrient_df = pd.read_csv('../data/health//nutrient.csv')\n",
    "# contains the food articles name and their id test commi\n",
    "food_df = pd.read_csv('../data/health/food.csv')\n",
    "# contains the nutrients for each food article\n",
    "food_nutrients_df = pd.read_csv('../data/health/food_nutrient.csv')\n",
    "# linke the food articles ids to their category\n",
    "food_category_df = pd.read_csv('../data/health/food_category.csv')\n"
   ]
  },
  {
   "cell_type": "code",
   "execution_count": 4,
   "metadata": {},
   "outputs": [],
   "source": [
    "# We groupby the COMODITY DESC and SUB in order to have unique items names. Convention: keep the min id, max size of product for\n",
    "products_df = products_df.groupby(['COMMODITY_DESC','SUB_COMMODITY_DESC'])\\\n",
    "           .agg({'PRODUCT_ID':'min','CURR_SIZE_OF_PRODUCT':'max','DEPARTMENT': 'min'})\\\n",
    "           .reset_index()\\"
   ]
  },
  {
   "cell_type": "markdown",
   "metadata": {},
   "source": [
    "## Dunnhumby Data"
   ]
  },
  {
   "cell_type": "markdown",
   "metadata": {},
   "source": [
    "<div class=\"alert alert-block alert-info\">\n",
    "The dunnhumby dataset contains extensively items that have been sold a very low number of times,as shown earlier. We thus limit ourself to treat exclusively the dunnhumby products that are food-related: the columns \"SUB_COMMODITY_DESC\" is used as the source of information for the ingredients of the product and assembled in a single parsed column \"ingredients\"\n",
    "</div>"
   ]
  },
  {
   "cell_type": "code",
   "execution_count": 5,
   "metadata": {},
   "outputs": [],
   "source": [
    "#select only the categories which are food related, join them with the >1000 sold items and sort them\n",
    "food_related = np.array(['NUTRITION','GROCERY','PASTRY','MEAT-PCKGD','SEAFOOD-PCKGD','PRODUCE','DELI','MEAT','SALAD BAR','GRO BAKERY','FROZEN GROCERY','SPIRITS','RESTAURANT'])\n",
    "\n",
    "food_product_df = products_df.loc[(products_df['DEPARTMENT'].isin(food_related))].copy()\n",
    "food_product_df = food_product_df[~food_product_df.COMMODITY_DESC.isin(['PAPER TOWELS','BATH TISSUES','LAUNDRY DETERGENTS','FD WRAPS/BAGS/TRSH BG']) ]\n",
    "\n",
    "food_product_df['dunn_name'] = food_product_df.COMMODITY_DESC + \" \" + food_product_df.SUB_COMMODITY_DESC\n",
    "\n",
    "food_product_df['comm_ing'] = food_product_df.COMMODITY_DESC.apply(parse_words_comm)\n",
    "\n",
    "food_product_df['subcomm_ing'] = food_product_df.SUB_COMMODITY_DESC.apply(parse_words)\n",
    "\n",
    "f = lambda x: x[0] + x[1]\n",
    "food_product_df['dunn_ingredients'] = food_product_df[['comm_ing','subcomm_ing']].apply(f,axis = 1)\n",
    "food_product_df.drop(columns = ['comm_ing','subcomm_ing'],inplace = True)\n"
   ]
  },
  {
   "cell_type": "markdown",
   "metadata": {},
   "source": [
    "## Downloaded food nutrients data"
   ]
  },
  {
   "cell_type": "markdown",
   "metadata": {},
   "source": [
    "<div class=\"alert alert-block alert-info\">\n",
    "The names of each dataset (Dunnhumby and USDA) need to get parsed properly in order to be compared: this is done using functionalities of nltk library along with a stemmer.\n",
    "    \n",
    "The food_nutrients_df dataframe gets processed such that we have the fdc_id vs the nutriments as columns (by joining it with nutrient_df)\n",
    "</div>"
   ]
  },
  {
   "cell_type": "code",
   "execution_count": 6,
   "metadata": {},
   "outputs": [],
   "source": [
    "#drop unnecessary columns and rename to be more understandable\n",
    "food_nutrients_df.drop([\"data_points\",\"min\",\"max\",\"median\",\"footnote\",\"min_year_acquired\",\"derivation_id\"]\\\n",
    "                       ,axis=1,inplace=True)\n",
    "nutrient_df.drop([\"nutrient_nbr\",\"rank\"],axis=1,inplace=True)\n",
    "food_category_df.drop([\"code\"],axis=1,inplace=True)\n",
    "food_df.drop([\"publication_date\"],axis=1,inplace=True)\n",
    "\n",
    "food_category_df.rename(columns={'id':'food_category_id','description':'category'},inplace= True)\n",
    "food_df.rename(columns = {'description':'nut_name'},inplace = True)\n",
    "#filter out only the necessary food nutrients since we have 227, \n",
    "#a lot of which aren't necessary to determine if a food is healthy\n",
    "list_relevant_nutrients = [\"Protein\", \"Total Carbohydrate\",\"Total lipid (fat)\",\"Sucrose\",\\\n",
    "                            \"Glucose (dextrose)\",\"Sugars, total including NLEA\",\"Fatty acids, total monounsaturated\",\\\n",
    "                            \"Fatty acids, total polyunsaturated\",\"Fatty acids, total trans\",\\\n",
    "                           \"Fatty acids, total saturated\",\"Cholesterol\",\"Vitamin E, added\",\\\n",
    "                           \"Vitamin K (phylloquinone)\",\"Vitamin B-12\",\"Vitamin B-6\",\\\n",
    "                            \"Vitamin D\",\"Vitamin A, RAE\",\"Sodium, Na\",\"Total fat (NLEA)\",\"Fiber, total dietary\",\\\n",
    "                           \"Energy\",\"Carbohydrate, by summation\",\"Fructose\"]\n",
    "\n",
    "nutrient_df = nutrient_df[nutrient_df.name.isin(list_relevant_nutrients)].copy()\n",
    "#simplify and normalize the nutrient names\n",
    "simplified_names = nutrient_df.name.apply(trim_nutrient_name)\n",
    "nutrient_df.loc[:,\"name\"] = simplified_names\n",
    "nutrient_df.to_pickle('../results/nutriments_units.pickle')\n",
    "\n",
    "#add the names of the nutrients contained in the food\n",
    "food_nutrients_df = food_nutrients_df.join(nutrient_df.set_index('id'),on='nutrient_id',how='inner')\n",
    "\n",
    "#energy is duplicated because we have both kcal and kj, we take only kcal\n",
    "food_nutrients_df = food_nutrients_df.pivot_table(index='fdc_id', columns='name', values='amount',aggfunc='first')\\\n",
    "                                     .fillna(value=0)\\\n",
    "                                     .reset_index()\n",
    "\n",
    "#add categories to the food df\n",
    "food_df = food_df.join(food_category_df.set_index(\"food_category_id\"),on=\"food_category_id\",how=\"left\")\\\n",
    "                 .drop([\"food_category_id\",\"data_type\"],axis=1)\n",
    "\n",
    "food_df['nut_ingredients'] = food_df.nut_name.apply(parse_words)\n",
    "food_df.drop(columns = ['category'],inplace = True)"
   ]
  },
  {
   "cell_type": "markdown",
   "metadata": {},
   "source": [
    "<div class=\"alert alert-block alert-info\">\n",
    "At this stage 2 dataframes are useful for what follows (fdc_id describes the index of the USDA dataset):\n",
    "    \n",
    " - food_df = fdc_id vs parsed food title (list of string)\n",
    " - food_nutrients_df = fdc_id vs nutrients contained as columns\n",
    "</div>"
   ]
  },
  {
   "cell_type": "markdown",
   "metadata": {},
   "source": [
    "## Word Importance"
   ]
  },
  {
   "cell_type": "markdown",
   "metadata": {},
   "source": [
    "<div class=\"alert alert-block alert-info\">\n",
    "We now filter the words according to their importance: that is, a word is more important as it apears many times in both datasets: (Ex: 'orange' is more important than 'artificial'). In order to do so, we need to first extract the words present in each dataset.\n",
    "</div>"
   ]
  },
  {
   "cell_type": "code",
   "execution_count": 7,
   "metadata": {},
   "outputs": [
    {
     "data": {
      "image/svg+xml": [
       "<svg height=\"181px\" version=\"1.1\" width=\"311px\" xmlns=\"http://www.w3.org/2000/svg\" xmlns:xlink=\"http://www.w3.org/1999/xlink\"><defs/><g transform=\"translate(0.5,0.5)\"><path d=\"M 80 40 L 140 40 L 140 93.63\" fill=\"none\" pointer-events=\"none\" stroke=\"#ff3333\" stroke-miterlimit=\"10\"/><path d=\"M 140 98.88 L 136.5 91.88 L 140 93.63 L 143.5 91.88 Z\" fill=\"#ff3333\" pointer-events=\"none\" stroke=\"#ff3333\" stroke-miterlimit=\"10\"/><rect fill=\"#ffffff\" height=\"80\" pointer-events=\"none\" stroke=\"#000000\" width=\"80\" x=\"0\" y=\"0\"/><g transform=\"translate(1.5,26.5)\"><switch><foreignObject height=\"26\" pointer-events=\"all\" requiredFeatures=\"http://www.w3.org/TR/SVG11/feature#Extensibility\" style=\"overflow:visible;\" width=\"76\"><div style=\"display: inline-block; font-size: 12px; font-family: Helvetica; color: rgb(0, 0, 0); line-height: 1.2; vertical-align: top; width: 76px; white-space: normal; overflow-wrap: normal; text-align: center;\" xmlns=\"http://www.w3.org/1999/xhtml\"><div style=\"display:inline-block;text-align:inherit;text-decoration:inherit;\" xmlns=\"http://www.w3.org/1999/xhtml\">products food names</div></div></foreignObject><text fill=\"#000000\" font-family=\"Helvetica\" font-size=\"12px\" text-anchor=\"middle\" x=\"38\" y=\"19\">products food names</text></switch></g><path d=\"M 230 40 L 140 40 L 140 93.63\" fill=\"none\" pointer-events=\"none\" stroke=\"#ff3333\" stroke-miterlimit=\"10\"/><path d=\"M 140 98.88 L 136.5 91.88 L 140 93.63 L 143.5 91.88 Z\" fill=\"#ff3333\" pointer-events=\"none\" stroke=\"#ff3333\" stroke-miterlimit=\"10\"/><rect fill=\"#ffffff\" height=\"80\" pointer-events=\"none\" stroke=\"#000000\" width=\"80\" x=\"230\" y=\"0\"/><g transform=\"translate(231.5,26.5)\"><switch><foreignObject height=\"26\" pointer-events=\"all\" requiredFeatures=\"http://www.w3.org/TR/SVG11/feature#Extensibility\" style=\"overflow:visible;\" width=\"76\"><div style=\"display: inline-block; font-size: 12px; font-family: Helvetica; color: rgb(0, 0, 0); line-height: 1.2; vertical-align: top; width: 76px; white-space: normal; overflow-wrap: normal; text-align: center;\" xmlns=\"http://www.w3.org/1999/xhtml\"><div style=\"display:inline-block;text-align:inherit;text-decoration:inherit;\" xmlns=\"http://www.w3.org/1999/xhtml\">nutrition food names</div></div></foreignObject><text fill=\"#000000\" font-family=\"Helvetica\" font-size=\"12px\" text-anchor=\"middle\" x=\"38\" y=\"19\">nutrition food names</text></switch></g><rect fill=\"#ffffff\" height=\"80\" pointer-events=\"none\" stroke=\"#000000\" width=\"80\" x=\"100\" y=\"100\"/><g transform=\"translate(101.5,126.5)\"><switch><foreignObject height=\"26\" pointer-events=\"all\" requiredFeatures=\"http://www.w3.org/TR/SVG11/feature#Extensibility\" style=\"overflow:visible;\" width=\"76\"><div style=\"display: inline-block; font-size: 12px; font-family: Helvetica; color: rgb(0, 0, 0); line-height: 1.2; vertical-align: top; width: 76px; white-space: normal; overflow-wrap: normal; text-align: center;\" xmlns=\"http://www.w3.org/1999/xhtml\"><div style=\"display:inline-block;text-align:inherit;text-decoration:inherit;\" xmlns=\"http://www.w3.org/1999/xhtml\">inner merge food names</div></div></foreignObject><text fill=\"#000000\" font-family=\"Helvetica\" font-size=\"12px\" text-anchor=\"middle\" x=\"38\" y=\"19\">inner merge food names</text></switch></g><g transform=\"translate(79.5,13.5)\"><switch><foreignObject height=\"12\" pointer-events=\"all\" requiredFeatures=\"http://www.w3.org/TR/SVG11/feature#Extensibility\" style=\"overflow:visible;\" width=\"61\"><div style=\"display: inline-block; font-size: 12px; font-family: Helvetica; color: rgb(255, 51, 51); line-height: 1.2; vertical-align: top; width: 62px; white-space: nowrap; overflow-wrap: normal; text-align: center;\" xmlns=\"http://www.w3.org/1999/xhtml\"><div style=\"display:inline-block;text-align:inherit;text-decoration:inherit;\" xmlns=\"http://www.w3.org/1999/xhtml\">getallwords</div></div></foreignObject><text fill=\"#FF3333\" font-family=\"Helvetica\" font-size=\"12px\" text-anchor=\"middle\" x=\"31\" y=\"12\">getallwords</text></switch></g><g transform=\"translate(159.5,13.5)\"><switch><foreignObject height=\"12\" pointer-events=\"all\" requiredFeatures=\"http://www.w3.org/TR/SVG11/feature#Extensibility\" style=\"overflow:visible;\" width=\"61\"><div style=\"display: inline-block; font-size: 12px; font-family: Helvetica; color: rgb(255, 51, 51); line-height: 1.2; vertical-align: top; width: 62px; white-space: nowrap; overflow-wrap: normal; text-align: center;\" xmlns=\"http://www.w3.org/1999/xhtml\"><div style=\"display:inline-block;text-align:inherit;text-decoration:inherit;\" xmlns=\"http://www.w3.org/1999/xhtml\">getallwords</div></div></foreignObject><text fill=\"#FF3333\" font-family=\"Helvetica\" font-size=\"12px\" text-anchor=\"middle\" x=\"31\" y=\"12\">getallwords</text></switch></g></g></svg>"
      ],
      "text/plain": [
       "<IPython.core.display.SVG object>"
      ]
     },
     "execution_count": 7,
     "metadata": {},
     "output_type": "execute_result"
    }
   ],
   "source": [
    "SVG(filename='graphs/allwords.svg')"
   ]
  },
  {
   "cell_type": "code",
   "execution_count": 9,
   "metadata": {},
   "outputs": [],
   "source": [
    "#all words present in the nutrition dataset\n",
    "all_words_nutrition = get_allwords(food_df.nut_ingredients)\n",
    "\n",
    "#all words present in the product dataset\n",
    "all_words_supermarket = get_allwords(food_product_df.dunn_ingredients)"
   ]
  },
  {
   "cell_type": "markdown",
   "metadata": {},
   "source": [
    "### Obtaining words importance:"
   ]
  },
  {
   "cell_type": "markdown",
   "metadata": {},
   "source": [
    "<div class=\"alert alert-success\" role=\"alert\">\n",
    "Score algorithm: \n",
    "    \n",
    "We check which words occur in both dataframes: only these words will have importance in determining the true nature of the food article we are dealing with\n",
    "* As a parsed word appears in the \"food.n.02\" dataset of NLTK it gets a score of 1, otherwise of 0\n",
    "* We add up the max-normalized occurence of the word in the dunnhumby dataset: this way, the max possible score is 2.\n",
    "    \n",
    "Overall, word which (1)are ingredients word and (2) tend to occur often get higher scores.\n",
    "</div>"
   ]
  },
  {
   "cell_type": "code",
   "execution_count": 10,
   "metadata": {},
   "outputs": [],
   "source": [
    "common_words = pd.merge(all_words_supermarket,all_words_nutrition,left_on = 'name',right_on = 'name',suffixes=('_supermarket', '_nutrition'))"
   ]
  },
  {
   "cell_type": "code",
   "execution_count": 12,
   "metadata": {},
   "outputs": [
    {
     "name": "stdout",
     "output_type": "stream",
     "text": [
      "Number of common words:1497\n"
     ]
    },
    {
     "data": {
      "text/html": [
       "<div>\n",
       "<style scoped>\n",
       "    .dataframe tbody tr th:only-of-type {\n",
       "        vertical-align: middle;\n",
       "    }\n",
       "\n",
       "    .dataframe tbody tr th {\n",
       "        vertical-align: top;\n",
       "    }\n",
       "\n",
       "    .dataframe thead th {\n",
       "        text-align: right;\n",
       "    }\n",
       "</style>\n",
       "<table border=\"1\" class=\"dataframe\">\n",
       "  <thead>\n",
       "    <tr style=\"text-align: right;\">\n",
       "      <th></th>\n",
       "      <th>name</th>\n",
       "      <th>number_supermarket</th>\n",
       "      <th>number_nutrition</th>\n",
       "    </tr>\n",
       "  </thead>\n",
       "  <tbody>\n",
       "    <tr>\n",
       "      <td>0</td>\n",
       "      <td>meat</td>\n",
       "      <td>73</td>\n",
       "      <td>400</td>\n",
       "    </tr>\n",
       "    <tr>\n",
       "      <td>1</td>\n",
       "      <td>food</td>\n",
       "      <td>73</td>\n",
       "      <td>284</td>\n",
       "    </tr>\n",
       "    <tr>\n",
       "      <td>2</td>\n",
       "      <td>juic</td>\n",
       "      <td>71</td>\n",
       "      <td>112</td>\n",
       "    </tr>\n",
       "    <tr>\n",
       "      <td>3</td>\n",
       "      <td>snack</td>\n",
       "      <td>55</td>\n",
       "      <td>40</td>\n",
       "    </tr>\n",
       "    <tr>\n",
       "      <td>4</td>\n",
       "      <td>drink</td>\n",
       "      <td>48</td>\n",
       "      <td>155</td>\n",
       "    </tr>\n",
       "    <tr>\n",
       "      <td>5</td>\n",
       "      <td>sauc</td>\n",
       "      <td>46</td>\n",
       "      <td>583</td>\n",
       "    </tr>\n",
       "    <tr>\n",
       "      <td>6</td>\n",
       "      <td>chees</td>\n",
       "      <td>46</td>\n",
       "      <td>534</td>\n",
       "    </tr>\n",
       "    <tr>\n",
       "      <td>7</td>\n",
       "      <td>cooki</td>\n",
       "      <td>44</td>\n",
       "      <td>110</td>\n",
       "    </tr>\n",
       "    <tr>\n",
       "      <td>8</td>\n",
       "      <td>bread</td>\n",
       "      <td>43</td>\n",
       "      <td>260</td>\n",
       "    </tr>\n",
       "    <tr>\n",
       "      <td>9</td>\n",
       "      <td>organ</td>\n",
       "      <td>42</td>\n",
       "      <td>9</td>\n",
       "    </tr>\n",
       "  </tbody>\n",
       "</table>\n",
       "</div>"
      ],
      "text/plain": [
       "    name  number_supermarket  number_nutrition\n",
       "0   meat                  73               400\n",
       "1   food                  73               284\n",
       "2   juic                  71               112\n",
       "3  snack                  55                40\n",
       "4  drink                  48               155\n",
       "5   sauc                  46               583\n",
       "6  chees                  46               534\n",
       "7  cooki                  44               110\n",
       "8  bread                  43               260\n",
       "9  organ                  42                 9"
      ]
     },
     "execution_count": 12,
     "metadata": {},
     "output_type": "execute_result"
    }
   ],
   "source": [
    "print(\"Number of common words:{}\".format(common_words.size))\n",
    "common_words.head(10)"
   ]
  },
  {
   "cell_type": "code",
   "execution_count": 15,
   "metadata": {},
   "outputs": [],
   "source": [
    "DIC_SCORE = construct_dic_score(common_words)"
   ]
  },
  {
   "cell_type": "markdown",
   "metadata": {},
   "source": [
    "<div class=\"alert alert-block alert-info\">\n",
    "DIC_SCORE links an importance score for each word.\n",
    "</div>"
   ]
  },
  {
   "cell_type": "markdown",
   "metadata": {},
   "source": [
    "## Application of the function"
   ]
  },
  {
   "cell_type": "markdown",
   "metadata": {},
   "source": [
    "<div class=\"alert alert-block alert-info\">\n",
    "Now that we have the importance for each food word, we apply the following recursive algorithm, in order to find \"matching\" articles in the nutrient database for each article of the dunnhumby database.\n",
    "We create the dataframe top_df wich associates the nutriments to every dunnhumby article, which was our initial goal.\n",
    "</div>"
   ]
  },
  {
   "cell_type": "code",
   "execution_count": 16,
   "metadata": {},
   "outputs": [
    {
     "data": {
      "image/svg+xml": [
       "<svg height=\"701px\" version=\"1.1\" width=\"771px\" xmlns=\"http://www.w3.org/2000/svg\" xmlns:xlink=\"http://www.w3.org/1999/xlink\"><defs/><g transform=\"translate(0.5,0.5)\"><path d=\"M 149.7 43.98 L 233.65 49.58\" fill=\"none\" pointer-events=\"none\" stroke=\"#000000\" stroke-miterlimit=\"10\"/><path d=\"M 238.88 49.93 L 231.67 52.95 L 233.65 49.58 L 232.13 45.97 Z\" fill=\"#000000\" pointer-events=\"none\" stroke=\"#000000\" stroke-miterlimit=\"10\"/><path d=\"M 129.43 70.15 L 203.94 127.13\" fill=\"none\" pointer-events=\"none\" stroke=\"#000000\" stroke-miterlimit=\"10\"/><path d=\"M 208.11 130.32 L 200.43 128.85 L 203.94 127.13 L 204.68 123.29 Z\" fill=\"#000000\" pointer-events=\"none\" stroke=\"#000000\" stroke-miterlimit=\"10\"/><ellipse cx=\"90\" cy=\"40\" fill=\"#ffffff\" pointer-events=\"none\" rx=\"60\" ry=\"40\" stroke=\"#000000\"/><g transform=\"translate(68.5,33.5)\"><switch><foreignObject height=\"12\" pointer-events=\"all\" requiredFeatures=\"http://www.w3.org/TR/SVG11/feature#Extensibility\" style=\"overflow:visible;\" width=\"42\"><div style=\"display: inline-block; font-size: 12px; font-family: Helvetica; color: rgb(0, 0, 0); line-height: 1.2; vertical-align: top; width: 42px; white-space: nowrap; overflow-wrap: normal; text-align: center;\" xmlns=\"http://www.w3.org/1999/xhtml\"><div style=\"display:inline-block;text-align:inherit;text-decoration:inherit;\" xmlns=\"http://www.w3.org/1999/xhtml\">k words</div></div></foreignObject><text fill=\"#000000\" font-family=\"Helvetica\" font-size=\"12px\" text-anchor=\"middle\" x=\"21\" y=\"12\">k words</text></switch></g><path d=\"M 331.29 84.13 L 405.7 165.31\" fill=\"none\" pointer-events=\"none\" stroke=\"#000000\" stroke-miterlimit=\"10\"/><path d=\"M 409.24 169.18 L 401.93 166.38 L 405.7 165.31 L 407.09 161.65 Z\" fill=\"#000000\" pointer-events=\"none\" stroke=\"#000000\" stroke-miterlimit=\"10\"/><path d=\"M 359.77 46.48 L 463.64 40.37\" fill=\"none\" pointer-events=\"none\" stroke=\"#000000\" stroke-miterlimit=\"10\"/><path d=\"M 468.88 40.07 L 462.1 43.97 L 463.64 40.37 L 461.69 36.98 Z\" fill=\"#000000\" pointer-events=\"none\" stroke=\"#000000\" stroke-miterlimit=\"10\"/><ellipse cx=\"300\" cy=\"50\" fill=\"#ffffff\" pointer-events=\"none\" rx=\"60\" ry=\"40\" stroke=\"#000000\"/><g transform=\"translate(256.5,43.5)\"><switch><foreignObject height=\"12\" pointer-events=\"all\" requiredFeatures=\"http://www.w3.org/TR/SVG11/feature#Extensibility\" style=\"overflow:visible;\" width=\"86\"><div style=\"display: inline-block; font-size: 12px; font-family: Helvetica; color: rgb(0, 0, 0); line-height: 1.2; vertical-align: top; width: 86px; white-space: nowrap; overflow-wrap: normal; text-align: center;\" xmlns=\"http://www.w3.org/1999/xhtml\"><div style=\"display:inline-block;text-align:inherit;text-decoration:inherit;\" xmlns=\"http://www.w3.org/1999/xhtml\">there is a match</div></div></foreignObject><text fill=\"#000000\" font-family=\"Helvetica\" font-size=\"12px\" text-anchor=\"middle\" x=\"43\" y=\"12\">there is a match</text></switch></g><path d=\"M 263 189.95 L 266.09 223.72\" fill=\"none\" pointer-events=\"none\" stroke=\"#000000\" stroke-miterlimit=\"10\"/><path d=\"M 266.57 228.95 L 262.45 222.3 L 266.09 223.72 L 269.42 221.66 Z\" fill=\"#000000\" pointer-events=\"none\" stroke=\"#000000\" stroke-miterlimit=\"10\"/><ellipse cx=\"260\" cy=\"150\" fill=\"#ffffff\" pointer-events=\"none\" rx=\"60\" ry=\"40\" stroke=\"#000000\"/><g transform=\"translate(234.5,143.5)\"><switch><foreignObject height=\"12\" pointer-events=\"all\" requiredFeatures=\"http://www.w3.org/TR/SVG11/feature#Extensibility\" style=\"overflow:visible;\" width=\"50\"><div style=\"display: inline-block; font-size: 12px; font-family: Helvetica; color: rgb(0, 0, 0); line-height: 1.2; vertical-align: top; width: 50px; white-space: nowrap; overflow-wrap: normal; text-align: center;\" xmlns=\"http://www.w3.org/1999/xhtml\"><div style=\"display:inline-block;text-align:inherit;text-decoration:inherit;\" xmlns=\"http://www.w3.org/1999/xhtml\">no match</div></div></foreignObject><text fill=\"#000000\" font-family=\"Helvetica\" font-size=\"12px\" text-anchor=\"middle\" x=\"25\" y=\"12\">no match</text></switch></g><path d=\"M 270 310 L 270 363.63\" fill=\"none\" pointer-events=\"none\" stroke=\"#000000\" stroke-miterlimit=\"10\"/><path d=\"M 270 368.88 L 266.5 361.88 L 270 363.63 L 273.5 361.88 Z\" fill=\"#000000\" pointer-events=\"none\" stroke=\"#000000\" stroke-miterlimit=\"10\"/><ellipse cx=\"270\" cy=\"270\" fill=\"#ffffff\" pointer-events=\"none\" rx=\"60\" ry=\"40\" stroke=\"#000000\"/><g transform=\"translate(211.5,256.5)\"><switch><foreignObject height=\"26\" pointer-events=\"all\" requiredFeatures=\"http://www.w3.org/TR/SVG11/feature#Extensibility\" style=\"overflow:visible;\" width=\"116\"><div style=\"display: inline-block; font-size: 12px; font-family: Helvetica; color: rgb(0, 0, 0); line-height: 1.2; vertical-align: top; width: 116px; white-space: normal; overflow-wrap: normal; text-align: center;\" xmlns=\"http://www.w3.org/1999/xhtml\"><div style=\"display:inline-block;text-align:inherit;text-decoration:inherit;\" xmlns=\"http://www.w3.org/1999/xhtml\">erase least important word</div></div></foreignObject><text fill=\"#000000\" font-family=\"Helvetica\" font-size=\"12px\" text-anchor=\"middle\" x=\"58\" y=\"19\">erase least important word</text></switch></g><path d=\"M 223.68 384.57 L 121.86 328.53\" fill=\"none\" pointer-events=\"none\" stroke=\"#000000\" stroke-miterlimit=\"10\"/><path d=\"M 117.26 325.99 L 125.08 326.3 L 121.86 328.53 L 121.71 332.44 Z\" fill=\"#000000\" pointer-events=\"none\" stroke=\"#000000\" stroke-miterlimit=\"10\"/><path d=\"M 273 449.95 L 276.09 483.72\" fill=\"none\" pointer-events=\"none\" stroke=\"#000000\" stroke-miterlimit=\"10\"/><path d=\"M 276.57 488.95 L 272.45 482.3 L 276.09 483.72 L 279.42 481.66 Z\" fill=\"#000000\" pointer-events=\"none\" stroke=\"#000000\" stroke-miterlimit=\"10\"/><ellipse cx=\"270\" cy=\"410\" fill=\"#ffffff\" pointer-events=\"none\" rx=\"60\" ry=\"40\" stroke=\"#000000\"/><g transform=\"translate(236.5,403.5)\"><switch><foreignObject height=\"12\" pointer-events=\"all\" requiredFeatures=\"http://www.w3.org/TR/SVG11/feature#Extensibility\" style=\"overflow:visible;\" width=\"67\"><div style=\"display: inline-block; font-size: 12px; font-family: Helvetica; color: rgb(0, 0, 0); line-height: 1.2; vertical-align: top; width: 68px; white-space: nowrap; overflow-wrap: normal; text-align: center;\" xmlns=\"http://www.w3.org/1999/xhtml\"><div style=\"display:inline-block;text-align:inherit;text-decoration:inherit;\" xmlns=\"http://www.w3.org/1999/xhtml\">(k - 1) words</div></div></foreignObject><text fill=\"#000000\" font-family=\"Helvetica\" font-size=\"12px\" text-anchor=\"middle\" x=\"34\" y=\"12\">(k - 1) words</text></switch></g><path d=\"M 70 260 Q 10 260 10 240 Q 10 220 5 220 Q 0 220 0 130 Q 0 40 23.63 40\" fill=\"none\" pointer-events=\"none\" stroke=\"#000000\" stroke-miterlimit=\"10\"/><path d=\"M 28.88 40 L 21.88 43.5 L 23.63 40 L 21.88 36.5 Z\" fill=\"#000000\" pointer-events=\"none\" stroke=\"#000000\" stroke-miterlimit=\"10\"/><ellipse cx=\"70\" cy=\"300\" fill=\"#ffffff\" pointer-events=\"none\" rx=\"60\" ry=\"40\" stroke=\"#000000\"/><g transform=\"translate(42.5,293.5)\"><switch><foreignObject height=\"12\" pointer-events=\"all\" requiredFeatures=\"http://www.w3.org/TR/SVG11/feature#Extensibility\" style=\"overflow:visible;\" width=\"55\"><div style=\"display: inline-block; font-size: 12px; font-family: Helvetica; color: rgb(0, 0, 0); line-height: 1.2; vertical-align: top; width: 56px; white-space: nowrap; overflow-wrap: normal; text-align: center;\" xmlns=\"http://www.w3.org/1999/xhtml\"><div style=\"display:inline-block;text-align:inherit;text-decoration:inherit;\" xmlns=\"http://www.w3.org/1999/xhtml\">(k - 1) != 0</div></div></foreignObject><text fill=\"#000000\" font-family=\"Helvetica\" font-size=\"12px\" text-anchor=\"middle\" x=\"28\" y=\"12\">(k - 1) != 0</text></switch></g><path d=\"M 255.63 566.55 L 223.53 614.7\" fill=\"none\" pointer-events=\"none\" stroke=\"#000000\" stroke-miterlimit=\"10\"/><path d=\"M 220.62 619.07 L 221.59 611.3 L 223.53 614.7 L 227.42 615.19 Z\" fill=\"#000000\" pointer-events=\"none\" stroke=\"#000000\" stroke-miterlimit=\"10\"/><ellipse cx=\"280\" cy=\"530\" fill=\"#ffffff\" pointer-events=\"none\" rx=\"60\" ry=\"40\" stroke=\"#000000\"/><g transform=\"translate(262.5,523.5)\"><switch><foreignObject height=\"12\" pointer-events=\"all\" requiredFeatures=\"http://www.w3.org/TR/SVG11/feature#Extensibility\" style=\"overflow:visible;\" width=\"34\"><div style=\"display: inline-block; font-size: 12px; font-family: Helvetica; color: rgb(0, 0, 0); line-height: 1.2; vertical-align: top; width: 34px; white-space: nowrap; overflow-wrap: normal; text-align: center;\" xmlns=\"http://www.w3.org/1999/xhtml\"><div style=\"display:inline-block;text-align:inherit;text-decoration:inherit;\" xmlns=\"http://www.w3.org/1999/xhtml\">k == 0</div></div></foreignObject><text fill=\"#000000\" font-family=\"Helvetica\" font-size=\"12px\" text-anchor=\"middle\" x=\"17\" y=\"12\">k == 0</text></switch></g><ellipse cx=\"220\" cy=\"660\" fill=\"#ff9999\" pointer-events=\"none\" rx=\"60\" ry=\"40\" stroke=\"#000000\"/><g transform=\"translate(167.5,653.5)\"><switch><foreignObject height=\"12\" pointer-events=\"all\" requiredFeatures=\"http://www.w3.org/TR/SVG11/feature#Extensibility\" style=\"overflow:visible;\" width=\"104\"><div style=\"display: inline-block; font-size: 12px; font-family: Helvetica; color: rgb(0, 0, 0); line-height: 1.2; vertical-align: top; width: 104px; white-space: nowrap; overflow-wrap: normal; text-align: center;\" xmlns=\"http://www.w3.org/1999/xhtml\"><div style=\"display:inline-block;text-align:inherit;text-decoration:inherit;\" xmlns=\"http://www.w3.org/1999/xhtml\">Give up the sample</div></div></foreignObject><text fill=\"#000000\" font-family=\"Helvetica\" font-size=\"12px\" text-anchor=\"middle\" x=\"52\" y=\"12\">Give up the sample</text></switch></g><path d=\"M 583.67 57.89 L 643.96 77.99\" fill=\"none\" pointer-events=\"none\" stroke=\"#000000\" stroke-miterlimit=\"10\"/><path d=\"M 648.94 79.65 L 641.19 80.75 L 643.96 77.99 L 643.41 74.11 Z\" fill=\"#000000\" pointer-events=\"none\" stroke=\"#000000\" stroke-miterlimit=\"10\"/><ellipse cx=\"530\" cy=\"40\" fill=\"#ffffff\" pointer-events=\"none\" rx=\"60\" ry=\"40\" stroke=\"#000000\"/><g transform=\"translate(490.5,33.5)\"><switch><foreignObject height=\"12\" pointer-events=\"all\" requiredFeatures=\"http://www.w3.org/TR/SVG11/feature#Extensibility\" style=\"overflow:visible;\" width=\"78\"><div style=\"display: inline-block; font-size: 12px; font-family: Helvetica; color: rgb(0, 0, 0); line-height: 1.2; vertical-align: top; width: 78px; white-space: nowrap; overflow-wrap: normal; text-align: center;\" xmlns=\"http://www.w3.org/1999/xhtml\"><div style=\"display:inline-block;text-align:inherit;text-decoration:inherit;\" xmlns=\"http://www.w3.org/1999/xhtml\">1 single match</div></div></foreignObject><text fill=\"#000000\" font-family=\"Helvetica\" font-size=\"12px\" text-anchor=\"middle\" x=\"39\" y=\"12\">1 single match</text></switch></g><path d=\"M 454.6 236.76 L 504.54 266.72\" fill=\"none\" pointer-events=\"none\" stroke=\"#000000\" stroke-miterlimit=\"10\"/><path d=\"M 509.04 269.42 L 501.24 268.82 L 504.54 266.72 L 504.84 262.82 Z\" fill=\"#000000\" pointer-events=\"none\" stroke=\"#000000\" stroke-miterlimit=\"10\"/><ellipse cx=\"410\" cy=\"210\" fill=\"#ffffff\" pointer-events=\"none\" rx=\"60\" ry=\"40\" stroke=\"#000000\"/><g transform=\"translate(384.5,203.5)\"><switch><foreignObject height=\"12\" pointer-events=\"all\" requiredFeatures=\"http://www.w3.org/TR/SVG11/feature#Extensibility\" style=\"overflow:visible;\" width=\"50\"><div style=\"display: inline-block; font-size: 12px; font-family: Helvetica; color: rgb(0, 0, 0); line-height: 1.2; vertical-align: top; width: 51px; white-space: nowrap; overflow-wrap: normal; text-align: center;\" xmlns=\"http://www.w3.org/1999/xhtml\"><div style=\"display:inline-block;text-align:inherit;text-decoration:inherit;\" xmlns=\"http://www.w3.org/1999/xhtml\">&gt;1 match</div></div></foreignObject><text fill=\"#000000\" font-family=\"Helvetica\" font-size=\"12px\" text-anchor=\"middle\" x=\"25\" y=\"12\">&amp;gt;1 match</text></switch></g><path d=\"M 543.28 276.72 L 645.5 174.5\" fill=\"none\" pointer-events=\"none\" stroke=\"#000000\" stroke-miterlimit=\"10\"/><path d=\"M 649.21 170.79 L 646.73 178.22 L 645.5 174.5 L 641.78 173.27 Z\" fill=\"#000000\" pointer-events=\"none\" stroke=\"#000000\" stroke-miterlimit=\"10\"/><path d=\"M 569.83 307.01 L 703.64 300.32\" fill=\"none\" pointer-events=\"none\" stroke=\"#000000\" stroke-miterlimit=\"10\"/><path d=\"M 708.88 300.06 L 702.07 303.9 L 703.64 300.32 L 701.72 296.91 Z\" fill=\"#000000\" pointer-events=\"none\" stroke=\"#000000\" stroke-miterlimit=\"10\"/><ellipse cx=\"510\" cy=\"310\" fill=\"#ffffff\" pointer-events=\"none\" rx=\"60\" ry=\"40\" stroke=\"#000000\"/><g transform=\"translate(451.5,289.5)\"><switch><foreignObject height=\"40\" pointer-events=\"all\" requiredFeatures=\"http://www.w3.org/TR/SVG11/feature#Extensibility\" style=\"overflow:visible;\" width=\"116\"><div style=\"display: inline-block; font-size: 12px; font-family: Helvetica; color: rgb(0, 0, 0); line-height: 1.2; vertical-align: top; width: 116px; white-space: normal; overflow-wrap: normal; text-align: center;\" xmlns=\"http://www.w3.org/1999/xhtml\"><div style=\"display:inline-block;text-align:inherit;text-decoration:inherit;\" xmlns=\"http://www.w3.org/1999/xhtml\">Take the match which has the min number of words</div></div></foreignObject><text fill=\"#000000\" font-family=\"Helvetica\" font-size=\"12px\" text-anchor=\"middle\" x=\"58\" y=\"26\">Take the match which has the min number of words</text></switch></g><rect fill=\"#97d077\" height=\"80\" pointer-events=\"none\" stroke=\"#97d077\" width=\"80\" x=\"650\" y=\"40\"/><g transform=\"translate(673.5,73.5)\"><switch><foreignObject height=\"12\" pointer-events=\"all\" requiredFeatures=\"http://www.w3.org/TR/SVG11/feature#Extensibility\" style=\"overflow:visible;\" width=\"32\"><div style=\"display: inline-block; font-size: 12px; font-family: Helvetica; color: rgb(0, 0, 0); line-height: 1.2; vertical-align: top; width: 32px; white-space: nowrap; overflow-wrap: normal; text-align: center;\" xmlns=\"http://www.w3.org/1999/xhtml\"><div style=\"display:inline-block;text-align:inherit;text-decoration:inherit;\" xmlns=\"http://www.w3.org/1999/xhtml\">return</div></div></foreignObject><text fill=\"#000000\" font-family=\"Helvetica\" font-size=\"12px\" text-anchor=\"middle\" x=\"16\" y=\"12\">return</text></switch></g><path d=\"M 220 620 L 220 620\" fill=\"none\" pointer-events=\"none\" stroke=\"#000000\" stroke-miterlimit=\"10\"/><path d=\"M 220 620 L 220 620 L 220 620 L 220 620 Z\" fill=\"#000000\" pointer-events=\"none\" stroke=\"#000000\" stroke-miterlimit=\"10\"/><path d=\"M 667.05 171.65 L 687.41 125.82\" fill=\"none\" pointer-events=\"none\" stroke=\"#000000\" stroke-miterlimit=\"10\"/><path d=\"M 689.55 121.02 L 689.9 128.84 L 687.41 125.82 L 683.5 126 Z\" fill=\"#000000\" pointer-events=\"none\" stroke=\"#000000\" stroke-miterlimit=\"10\"/><ellipse cx=\"650\" cy=\"210\" fill=\"#ffffff\" pointer-events=\"none\" rx=\"60\" ry=\"40\" stroke=\"#000000\"/><g transform=\"translate(610.5,203.5)\"><switch><foreignObject height=\"12\" pointer-events=\"all\" requiredFeatures=\"http://www.w3.org/TR/SVG11/feature#Extensibility\" style=\"overflow:visible;\" width=\"78\"><div style=\"display: inline-block; font-size: 12px; font-family: Helvetica; color: rgb(0, 0, 0); line-height: 1.2; vertical-align: top; width: 78px; white-space: nowrap; overflow-wrap: normal; text-align: center;\" xmlns=\"http://www.w3.org/1999/xhtml\"><div style=\"display:inline-block;text-align:inherit;text-decoration:inherit;\" xmlns=\"http://www.w3.org/1999/xhtml\">1 single match</div></div></foreignObject><text fill=\"#000000\" font-family=\"Helvetica\" font-size=\"12px\" text-anchor=\"middle\" x=\"39\" y=\"12\">1 single match</text></switch></g><path d=\"M 689.57 409.86 L 689.57 409.86\" fill=\"none\" pointer-events=\"none\" stroke=\"#000000\" stroke-miterlimit=\"10\"/><path d=\"M 689.57 409.86 L 689.57 409.86 L 689.57 409.86 L 689.57 409.86 Z\" fill=\"#000000\" pointer-events=\"none\" stroke=\"#000000\" stroke-miterlimit=\"10\"/><path d=\"M 713.51 300.07 L 728.44 130.34\" fill=\"none\" pointer-events=\"none\" stroke=\"#000000\" stroke-miterlimit=\"10\"/><path d=\"M 728.9 125.11 L 731.78 132.39 L 728.44 130.34 L 724.8 131.78 Z\" fill=\"#000000\" pointer-events=\"none\" stroke=\"#000000\" stroke-miterlimit=\"10\"/><ellipse cx=\"710\" cy=\"340\" fill=\"#ffffff\" pointer-events=\"none\" rx=\"60\" ry=\"40\" stroke=\"#000000\"/><g transform=\"translate(651.5,319.5)\"><switch><foreignObject height=\"40\" pointer-events=\"all\" requiredFeatures=\"http://www.w3.org/TR/SVG11/feature#Extensibility\" style=\"overflow:visible;\" width=\"116\"><div style=\"display: inline-block; font-size: 12px; font-family: Helvetica; color: rgb(0, 0, 0); line-height: 1.2; vertical-align: top; width: 116px; white-space: normal; overflow-wrap: normal; text-align: center;\" xmlns=\"http://www.w3.org/1999/xhtml\"><div style=\"display:inline-block;text-align:inherit;text-decoration:inherit;\" xmlns=\"http://www.w3.org/1999/xhtml\"><span>Take the one with the least important extra words</span></div></div></foreignObject><text fill=\"#000000\" font-family=\"Helvetica\" font-size=\"12px\" text-anchor=\"middle\" x=\"58\" y=\"26\">[Not supported by viewer]</text></switch></g><g transform=\"translate(151.5,62.5)\"><switch><foreignObject height=\"12\" pointer-events=\"all\" requiredFeatures=\"http://www.w3.org/TR/SVG11/feature#Extensibility\" style=\"overflow:visible;\" width=\"65\"><div style=\"display: inline-block; font-size: 12px; font-family: Helvetica; color: rgb(51, 153, 255); line-height: 1.2; vertical-align: top; white-space: nowrap;\" xmlns=\"http://www.w3.org/1999/xhtml\"><div style=\"display:inline-block;text-align:inherit;text-decoration:inherit;\" xmlns=\"http://www.w3.org/1999/xhtml\">Getmatches</div></div></foreignObject><text fill=\"#3399FF\" font-family=\"Helvetica\" font-size=\"12px\" text-anchor=\"middle\" x=\"33\" y=\"12\">Getmatches</text></switch></g></g></svg>"
      ],
      "text/plain": [
       "<IPython.core.display.SVG object>"
      ]
     },
     "execution_count": 16,
     "metadata": {},
     "output_type": "execute_result"
    }
   ],
   "source": [
    "SVG(filename='graphs/Word_importance.svg')"
   ]
  },
  {
   "cell_type": "code",
   "execution_count": 17,
   "metadata": {},
   "outputs": [
    {
     "name": "stdout",
     "output_type": "stream",
     "text": [
      "Number items to match with the USDA dataset:14231\n"
     ]
    }
   ],
   "source": [
    "print(\"Number items to match with the USDA dataset:{}\".format(food_product_df.size))"
   ]
  },
  {
   "cell_type": "markdown",
   "metadata": {},
   "source": [
    "<div class=\"alert alert-block alert-info\">\n",
    "One can easily test the algorithm with some test food of its choice here.\n",
    "</div>"
   ]
  },
  {
   "cell_type": "code",
   "execution_count": 23,
   "metadata": {},
   "outputs": [
    {
     "name": "stdout",
     "output_type": "stream",
     "text": [
      "You can test the different articles here.\n"
     ]
    },
    {
     "data": {
      "application/vnd.jupyter.widget-view+json": {
       "model_id": "0caf410a7e2c4e5e835d02c83639a980",
       "version_major": 2,
       "version_minor": 0
      },
      "text/plain": [
       "interactive(children=(IntSlider(value=0, description='x', max=15), Output()), _dom_classes=('widget-interact',…"
      ]
     },
     "metadata": {},
     "output_type": "display_data"
    }
   ],
   "source": [
    "test = ['Duck creamy swiss pudding 24 oz',\n",
    "\"Lettuce frozen\",\n",
    "\"Peanuts Orange crisp\",\"sandwich butter\",\n",
    "\"lettuce cheese\",\n",
    "\"indian Lamb 22 kg\",\n",
    "'vanilla creamy swiss miss pudding 24 oz',\n",
    "\"oriental noodles rice\",\n",
    "\"vegetables\", \"ice cream bars\",\n",
    "\"wolf chili without beans\",\n",
    "\"tropical fruit bananas\",\n",
    "'vegetables green cut',\n",
    "'vegetables shelf stable beans green fs whl cut',\n",
    "\"seafood shelf stable tuna\",\n",
    "\"water\"]\n",
    "\n",
    "def f(x):\n",
    "    print(\"Test article name: \\t \\t %s\"%test[x])\n",
    "    found_fdc_id = find_food(parse_words(test[x]), food_df, DIC_SCORE, verb = False)[1]\n",
    "    if (found_fdc_id is not np.nan):\n",
    "        print(\"Found corresponding item :\\t %s\" % food_df.set_index('fdc_id').loc[found_fdc_id].nut_name)\n",
    "    else:\n",
    "        print(\"Not found\")\n",
    "print('You can test the different articles here.')\n",
    "interact(f, x=widgets.IntSlider(min=0, max=len(test) - 1, step=1, value=0));\n"
   ]
  },
  {
   "cell_type": "code",
   "execution_count": 19,
   "metadata": {},
   "outputs": [],
   "source": [
    "# the fdc id is the id of the food articles in the nutriment dataset: ref_fdc_id is the reference that an item of the product dataset needs which poibts on the corresponding article in the nutriment dataset\n",
    "top_df = food_product_df.drop(columns = ['CURR_SIZE_OF_PRODUCT']).copy()\n",
    "top_np = top_df.dunn_ingredients.to_numpy()\n",
    "#we take the [1] since the id of the corresponding article is in the second result: the [0] is the name of the corresponding item\n",
    "top_np_res = np.array([find_food(x,food_df,DIC_SCORE) for x in top_np])\n",
    "nut_food_ing = top_np_res.T[0]\n",
    "nut_food_ids = top_np_res.T[1]\n",
    "top_df[\"ref_fdc_id\"]  = nut_food_ids\n",
    "top_df = top_df.join(food_df.set_index('fdc_id'),how = 'inner',on = 'ref_fdc_id')\n",
    "\n",
    "\n",
    "top_df = top_df.merge(food_nutrients_df,how=\"left\",left_on=\"ref_fdc_id\",right_on=\"fdc_id\",suffixes = ('','_y'))\n",
    "top_df.drop([\"ref_fdc_id\",\"fdc_id\",\"COMMODITY_DESC\",\"SUB_COMMODITY_DESC\"],axis=1,inplace=True)\n",
    "top_df.set_index(\"PRODUCT_ID\",inplace=True)\n"
   ]
  },
  {
   "cell_type": "code",
   "execution_count": 20,
   "metadata": {},
   "outputs": [],
   "source": [
    "#saves results of this lengthy computation\n",
    "top_df.to_pickle(\"../results/dunnhumb_articles_nutriments.pickle\")\n",
    "top_df.to_csv(\"../results/dunnhumb_articles_nutriments.csv\")"
   ]
  },
  {
   "cell_type": "markdown",
   "metadata": {},
   "source": [
    "<div class=\"alert alert-block alert-info\">\n",
    "We have established the link between the dunnhumby supermarket dataset and the food database from the Department of Food and Agriculture which provides the nutrients information. We can now begin our analysis\n",
    "</div>"
   ]
  },
  {
   "cell_type": "code",
   "execution_count": null,
   "metadata": {},
   "outputs": [],
   "source": []
  },
  {
   "cell_type": "code",
   "execution_count": null,
   "metadata": {},
   "outputs": [],
   "source": []
  }
 ],
 "metadata": {
  "kernelspec": {
   "display_name": "Python 3",
   "language": "python",
   "name": "python3"
  },
  "language_info": {
   "codemirror_mode": {
    "name": "ipython",
    "version": 3
   },
   "file_extension": ".py",
   "mimetype": "text/x-python",
   "name": "python",
   "nbconvert_exporter": "python",
   "pygments_lexer": "ipython3",
   "version": "3.7.4"
  }
 },
 "nbformat": 4,
 "nbformat_minor": 4
}
