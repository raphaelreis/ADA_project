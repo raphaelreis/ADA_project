{
 "cells": [
  {
   "cell_type": "markdown",
   "metadata": {},
   "source": [
    "### Remarks / TODO:\n",
    "    -there are a few food items in MISC. TRANS\n",
    "    -add the nutrients present under different names and ids, such as: carbohydrates or carbohydrates by difference"
   ]
  },
  {
   "cell_type": "code",
   "execution_count": 1,
   "metadata": {},
   "outputs": [],
   "source": [
    "%matplotlib inline\n",
    "import re\n",
    "import os\n",
    "import nltk\n",
    "import time\n",
    "import pickle\n",
    "import sys\n",
    "\n",
    "import numpy as np\n",
    "import pandas as pd\n",
    "import matplotlib.pyplot as plt\n",
    "\n",
    "from matplotlib.ticker import MaxNLocator\n",
    "from IPython.core.display import SVG\n",
    "\n",
    "sys.path.insert(1, './utilities/')\n",
    "from health_functions import *\n",
    "%load_ext autoreload\n",
    "%autoreload 2"
   ]
  },
  {
   "cell_type": "code",
   "execution_count": 2,
   "metadata": {},
   "outputs": [],
   "source": [
    "DUNNHUMBY_PATH = '../data/dunnhumby - The Complete Journey CSV/'\n",
    "HEALTH_PATH = '../data/health'"
   ]
  },
  {
   "cell_type": "markdown",
   "metadata": {},
   "source": [
    "# Import Data"
   ]
  },
  {
   "cell_type": "code",
   "execution_count": 43,
   "metadata": {},
   "outputs": [
    {
     "name": "stdout",
     "output_type": "stream",
     "text": [
      "hh_demographic.csv\n",
      "causal_data.csv\n",
      "coupon.csv\n",
      "campaign_table.csv\n",
      "coupon_redempt.csv\n",
      "product.csv\n",
      "campaign_desc.csv\n",
      "transaction_data.csv\n"
     ]
    }
   ],
   "source": [
    "def import_data(path1, path2):\n",
    "    dfList = {}\n",
    "    for r, d, f in os.walk(path1):\n",
    "        for file in f:\n",
    "            if '.csv' in file:\n",
    "                print(file)\n",
    "                dfList[file] = pd.read_csv(os.path.join(r, file))\n",
    "\n",
    "    products_df = dfList['product.csv']\n",
    "    transaction_data_df = dfList['transaction_data.csv']\n",
    "    hh_demographic_df = dfList['hh_demographic.csv']\n",
    "\n",
    "    dfList = {}\n",
    "    for r, d, f in os.walk(path2):\n",
    "        for file in f:\n",
    "            if '.csv' in file:\n",
    "                # print(file)\n",
    "                dfList[file] = pd.read_csv(os.path.join(r, file))\n",
    "\n",
    "    # link the nutrient id with its name\n",
    "    nutrient_df = dfList['nutrient.csv']\n",
    "    # contains the food articles name and their id test commit\n",
    "    food_df = dfList['food.csv']\n",
    "    # contains the nutrients for each food article\n",
    "    food_nutrients_df = dfList['food_nutrient.csv']\n",
    "    # linke the food articles ids to their category\n",
    "    food_category_df = dfList['food_category.csv']\n",
    "    return products_df,transaction_data_df, nutrient_df, food_df, food_nutrients_df, food_category_df, hh_demographic_df\n",
    "\n",
    "\n",
    "products_df,transaction_data_df, nutrient_df, food_df, food_nutrients_df, food_category_df, hh_demographic_df = import_data(DUNNHUMBY_PATH, HEALTH_PATH)\n"
   ]
  },
  {
   "cell_type": "markdown",
   "metadata": {},
   "source": [
    "### Most sold items"
   ]
  },
  {
   "cell_type": "code",
   "execution_count": 4,
   "metadata": {},
   "outputs": [
    {
     "data": {
      "text/html": [
       "<div>\n",
       "<style scoped>\n",
       "    .dataframe tbody tr th:only-of-type {\n",
       "        vertical-align: middle;\n",
       "    }\n",
       "\n",
       "    .dataframe tbody tr th {\n",
       "        vertical-align: top;\n",
       "    }\n",
       "\n",
       "    .dataframe thead th {\n",
       "        text-align: right;\n",
       "    }\n",
       "</style>\n",
       "<table border=\"1\" class=\"dataframe\">\n",
       "  <thead>\n",
       "    <tr style=\"text-align: right;\">\n",
       "      <th></th>\n",
       "      <th>household_key</th>\n",
       "      <th>BASKET_ID</th>\n",
       "      <th>DAY</th>\n",
       "      <th>PRODUCT_ID</th>\n",
       "      <th>QUANTITY</th>\n",
       "      <th>SALES_VALUE</th>\n",
       "      <th>STORE_ID</th>\n",
       "      <th>RETAIL_DISC</th>\n",
       "      <th>TRANS_TIME</th>\n",
       "      <th>WEEK_NO</th>\n",
       "      <th>COUPON_DISC</th>\n",
       "      <th>COUPON_MATCH_DISC</th>\n",
       "    </tr>\n",
       "  </thead>\n",
       "  <tbody>\n",
       "    <tr>\n",
       "      <td>0</td>\n",
       "      <td>2375</td>\n",
       "      <td>26984851472</td>\n",
       "      <td>1</td>\n",
       "      <td>1004906</td>\n",
       "      <td>1</td>\n",
       "      <td>1.39</td>\n",
       "      <td>364</td>\n",
       "      <td>-0.6</td>\n",
       "      <td>1631</td>\n",
       "      <td>1</td>\n",
       "      <td>0.0</td>\n",
       "      <td>0.0</td>\n",
       "    </tr>\n",
       "    <tr>\n",
       "      <td>1</td>\n",
       "      <td>2375</td>\n",
       "      <td>26984851472</td>\n",
       "      <td>1</td>\n",
       "      <td>1033142</td>\n",
       "      <td>1</td>\n",
       "      <td>0.82</td>\n",
       "      <td>364</td>\n",
       "      <td>0.0</td>\n",
       "      <td>1631</td>\n",
       "      <td>1</td>\n",
       "      <td>0.0</td>\n",
       "      <td>0.0</td>\n",
       "    </tr>\n",
       "    <tr>\n",
       "      <td>2</td>\n",
       "      <td>2375</td>\n",
       "      <td>26984851472</td>\n",
       "      <td>1</td>\n",
       "      <td>1036325</td>\n",
       "      <td>1</td>\n",
       "      <td>0.99</td>\n",
       "      <td>364</td>\n",
       "      <td>-0.3</td>\n",
       "      <td>1631</td>\n",
       "      <td>1</td>\n",
       "      <td>0.0</td>\n",
       "      <td>0.0</td>\n",
       "    </tr>\n",
       "  </tbody>\n",
       "</table>\n",
       "</div>"
      ],
      "text/plain": [
       "   household_key    BASKET_ID  DAY  PRODUCT_ID  QUANTITY  SALES_VALUE  \\\n",
       "0           2375  26984851472    1     1004906         1         1.39   \n",
       "1           2375  26984851472    1     1033142         1         0.82   \n",
       "2           2375  26984851472    1     1036325         1         0.99   \n",
       "\n",
       "   STORE_ID  RETAIL_DISC  TRANS_TIME  WEEK_NO  COUPON_DISC  COUPON_MATCH_DISC  \n",
       "0       364         -0.6        1631        1          0.0                0.0  \n",
       "1       364          0.0        1631        1          0.0                0.0  \n",
       "2       364         -0.3        1631        1          0.0                0.0  "
      ]
     },
     "execution_count": 4,
     "metadata": {},
     "output_type": "execute_result"
    }
   ],
   "source": [
    "transaction_data_df.head(3)"
   ]
  },
  {
   "cell_type": "code",
   "execution_count": 5,
   "metadata": {},
   "outputs": [],
   "source": [
    "#select all the sold items\n",
    "products_sold_df = products_df.loc[products_df['PRODUCT_ID'].isin(transaction_data_df['PRODUCT_ID'].unique())]"
   ]
  },
  {
   "cell_type": "code",
   "execution_count": 6,
   "metadata": {},
   "outputs": [
    {
     "data": {
      "text/html": [
       "<div>\n",
       "<style scoped>\n",
       "    .dataframe tbody tr th:only-of-type {\n",
       "        vertical-align: middle;\n",
       "    }\n",
       "\n",
       "    .dataframe tbody tr th {\n",
       "        vertical-align: top;\n",
       "    }\n",
       "\n",
       "    .dataframe thead th {\n",
       "        text-align: right;\n",
       "    }\n",
       "</style>\n",
       "<table border=\"1\" class=\"dataframe\">\n",
       "  <thead>\n",
       "    <tr style=\"text-align: right;\">\n",
       "      <th></th>\n",
       "      <th>QUANTITY</th>\n",
       "    </tr>\n",
       "    <tr>\n",
       "      <th>PRODUCT_ID</th>\n",
       "      <th></th>\n",
       "    </tr>\n",
       "  </thead>\n",
       "  <tbody>\n",
       "    <tr>\n",
       "      <td>6534178</td>\n",
       "      <td>216532156</td>\n",
       "    </tr>\n",
       "    <tr>\n",
       "      <td>6533889</td>\n",
       "      <td>18479630</td>\n",
       "    </tr>\n",
       "    <tr>\n",
       "      <td>6534166</td>\n",
       "      <td>13980451</td>\n",
       "    </tr>\n",
       "    <tr>\n",
       "      <td>6544236</td>\n",
       "      <td>2705127</td>\n",
       "    </tr>\n",
       "    <tr>\n",
       "      <td>1404121</td>\n",
       "      <td>1694604</td>\n",
       "    </tr>\n",
       "  </tbody>\n",
       "</table>\n",
       "</div>"
      ],
      "text/plain": [
       "             QUANTITY\n",
       "PRODUCT_ID           \n",
       "6534178     216532156\n",
       "6533889      18479630\n",
       "6534166      13980451\n",
       "6544236       2705127\n",
       "1404121       1694604"
      ]
     },
     "execution_count": 6,
     "metadata": {},
     "output_type": "execute_result"
    }
   ],
   "source": [
    "#select all the items sold at least 1000 times\n",
    "sales_qte_df = transaction_data_df[['PRODUCT_ID','QUANTITY']]\\\n",
    "    .groupby(['PRODUCT_ID']).sum().sort_values(by=['QUANTITY'],ascending=False)\n",
    "sales_qte_df = sales_qte_df[sales_qte_df['QUANTITY'] > 1000]\n",
    "sales_qte_df.head(5)"
   ]
  },
  {
   "cell_type": "code",
   "execution_count": 7,
   "metadata": {},
   "outputs": [
    {
     "data": {
      "text/html": [
       "<div>\n",
       "<style scoped>\n",
       "    .dataframe tbody tr th:only-of-type {\n",
       "        vertical-align: middle;\n",
       "    }\n",
       "\n",
       "    .dataframe tbody tr th {\n",
       "        vertical-align: top;\n",
       "    }\n",
       "\n",
       "    .dataframe thead th {\n",
       "        text-align: right;\n",
       "    }\n",
       "</style>\n",
       "<table border=\"1\" class=\"dataframe\">\n",
       "  <thead>\n",
       "    <tr style=\"text-align: right;\">\n",
       "      <th></th>\n",
       "      <th>PRODUCT_ID</th>\n",
       "      <th>MANUFACTURER</th>\n",
       "      <th>DEPARTMENT</th>\n",
       "      <th>BRAND</th>\n",
       "      <th>COMMODITY_DESC</th>\n",
       "      <th>SUB_COMMODITY_DESC</th>\n",
       "      <th>CURR_SIZE_OF_PRODUCT</th>\n",
       "      <th>QUANTITY</th>\n",
       "    </tr>\n",
       "  </thead>\n",
       "  <tbody>\n",
       "    <tr>\n",
       "      <td>35576</td>\n",
       "      <td>1082185</td>\n",
       "      <td>2</td>\n",
       "      <td>PRODUCE</td>\n",
       "      <td>National</td>\n",
       "      <td>TROPICAL FRUIT</td>\n",
       "      <td>BANANAS</td>\n",
       "      <td>40 LB</td>\n",
       "      <td>30896</td>\n",
       "    </tr>\n",
       "    <tr>\n",
       "      <td>25754</td>\n",
       "      <td>995242</td>\n",
       "      <td>69</td>\n",
       "      <td>GROCERY</td>\n",
       "      <td>Private</td>\n",
       "      <td>FLUID MILK PRODUCTS</td>\n",
       "      <td>FLUID MILK WHITE ONLY</td>\n",
       "      <td></td>\n",
       "      <td>21758</td>\n",
       "    </tr>\n",
       "    <tr>\n",
       "      <td>29657</td>\n",
       "      <td>1029743</td>\n",
       "      <td>69</td>\n",
       "      <td>GROCERY</td>\n",
       "      <td>Private</td>\n",
       "      <td>FLUID MILK PRODUCTS</td>\n",
       "      <td>FLUID MILK WHITE ONLY</td>\n",
       "      <td>1 GA</td>\n",
       "      <td>16976</td>\n",
       "    </tr>\n",
       "    <tr>\n",
       "      <td>41175</td>\n",
       "      <td>1133018</td>\n",
       "      <td>69</td>\n",
       "      <td>GROCERY</td>\n",
       "      <td>Private</td>\n",
       "      <td>FLUID MILK PRODUCTS</td>\n",
       "      <td>FLUID MILK WHITE ONLY</td>\n",
       "      <td></td>\n",
       "      <td>12318</td>\n",
       "    </tr>\n",
       "  </tbody>\n",
       "</table>\n",
       "</div>"
      ],
      "text/plain": [
       "       PRODUCT_ID  MANUFACTURER DEPARTMENT     BRAND       COMMODITY_DESC  \\\n",
       "35576     1082185             2    PRODUCE  National       TROPICAL FRUIT   \n",
       "25754      995242            69    GROCERY   Private  FLUID MILK PRODUCTS   \n",
       "29657     1029743            69    GROCERY   Private  FLUID MILK PRODUCTS   \n",
       "41175     1133018            69    GROCERY   Private  FLUID MILK PRODUCTS   \n",
       "\n",
       "          SUB_COMMODITY_DESC CURR_SIZE_OF_PRODUCT  QUANTITY  \n",
       "35576                BANANAS                40 LB     30896  \n",
       "25754  FLUID MILK WHITE ONLY                          21758  \n",
       "29657  FLUID MILK WHITE ONLY                 1 GA     16976  \n",
       "41175  FLUID MILK WHITE ONLY                          12318  "
      ]
     },
     "execution_count": 7,
     "metadata": {},
     "output_type": "execute_result"
    }
   ],
   "source": [
    "#select only the categories which are food related and sort them\n",
    "food_related = np.array(['NUTRITION','GROCERY','PASTRY','MEAT-PCKGD','SEAFOOD-PCKGD','PRODUCE','DELI','MEAT','SALAD BAR','GRO BAKERY','FROZEN GROCERY','SPIRITS','RESTAURANT'])\n",
    "\n",
    "products_sales_df = products_df.loc[(products_df['DEPARTMENT'].isin(food_related))].join(sales_qte_df, on='PRODUCT_ID', how='inner')\n",
    "products_sales_df.sort_values(by='QUANTITY',ascending=False,inplace=True)\n",
    "products_sales_df.head(4)"
   ]
  },
  {
   "cell_type": "markdown",
   "metadata": {},
   "source": [
    "## Product Data"
   ]
  },
  {
   "cell_type": "code",
   "execution_count": 8,
   "metadata": {},
   "outputs": [],
   "source": [
    "#we put all the description in a ingredients column\n",
    "products_sales_df['ingredients'] = products_sales_df.COMMODITY_DESC + \" \" + products_sales_df.SUB_COMMODITY_DESC\n",
    "products_sales_df.drop([\"DEPARTMENT\",\"BRAND\",\"COMMODITY_DESC\",\"SUB_COMMODITY_DESC\"],axis = 1, inplace = True)"
   ]
  },
  {
   "cell_type": "code",
   "execution_count": 9,
   "metadata": {},
   "outputs": [],
   "source": [
    "products_sales_df.ingredients = products_sales_df.ingredients.apply(parse_words)"
   ]
  },
  {
   "cell_type": "code",
   "execution_count": 10,
   "metadata": {},
   "outputs": [
    {
     "data": {
      "text/plain": [
       "35576    [tropical, fruit, bananas]\n",
       "25754              [milk, products]\n",
       "29657              [milk, products]\n",
       "41175              [milk, products]\n",
       "38262              [milk, products]\n",
       "Name: ingredients, dtype: object"
      ]
     },
     "execution_count": 10,
     "metadata": {},
     "output_type": "execute_result"
    }
   ],
   "source": [
    "products_sales_df.ingredients.head()"
   ]
  },
  {
   "cell_type": "markdown",
   "metadata": {},
   "source": [
    "We see that we now have an easily parseable format"
   ]
  },
  {
   "cell_type": "markdown",
   "metadata": {},
   "source": [
    "## Downloaded food nutrients data"
   ]
  },
  {
   "cell_type": "code",
   "execution_count": 11,
   "metadata": {},
   "outputs": [],
   "source": [
    "#drop unnecessary columns and rename to be more understandable\n",
    "food_nutrients_df.drop([\"data_points\",\"min\",\"max\",\"median\",\"footnote\",\"min_year_acquired\",\"derivation_id\"]\\\n",
    "                       ,axis=1,inplace=True)\n",
    "nutrient_df.drop([\"nutrient_nbr\",\"rank\"],axis=1,inplace=True)\n",
    "food_category_df.drop([\"code\"],axis=1,inplace=True)\n",
    "food_df.drop([\"publication_date\"],axis=1,inplace=True)\n",
    "\n",
    "food_category_df.rename(columns={'id':'food_category_id','description':'category'},inplace= True)"
   ]
  },
  {
   "cell_type": "code",
   "execution_count": 12,
   "metadata": {},
   "outputs": [],
   "source": [
    "#filter out only the necessary food nutrients since we have 227, \n",
    "#a lot of which aren't necessary to determine if a food is healthy\n",
    "list_relevant_nutrients = [\"Protein\", \"Total Carbohydrate\",\"Total lipid (fat)\",\"Sucrose\",\\\n",
    "                            \"Glucose (dextrose)\",\"Sugars, total including NLEA\",\"Fatty acids, total monounsaturated\",\\\n",
    "                            \"Fatty acids, total polyunsaturated\",\"Fatty acids, total trans\",\\\n",
    "                           \"Fatty acids, total saturated\",\"Cholesterol\",\"Vitamin E, added\",\\\n",
    "                           \"Vitamin K (phylloquinone)\",\"Vitamin B-12\",\"Vitamin B-6\",\\\n",
    "                            \"Vitamin D\",\"Vitamin A, RAE\",\"Sodium, Na\",\"Total fat (NLEA)\",\"Fiber, total dietary\",\\\n",
    "                           \"Energy\",\"Carbohydrate, by summation\",\"Fructose\"]\n",
    "\n",
    "nutrient_df = nutrient_df[nutrient_df.name.isin(list_relevant_nutrients)]"
   ]
  },
  {
   "cell_type": "code",
   "execution_count": 13,
   "metadata": {},
   "outputs": [],
   "source": [
    "#simplyfy and normalize the nutrient names\n",
    "simplified_names = nutrient_df.name.apply(trim_nutrient_name)\n",
    "nutrient_df.loc[:,\"name\"] = simplified_names"
   ]
  },
  {
   "cell_type": "code",
   "execution_count": 14,
   "metadata": {},
   "outputs": [
    {
     "data": {
      "text/html": [
       "<div>\n",
       "<style scoped>\n",
       "    .dataframe tbody tr th:only-of-type {\n",
       "        vertical-align: middle;\n",
       "    }\n",
       "\n",
       "    .dataframe tbody tr th {\n",
       "        vertical-align: top;\n",
       "    }\n",
       "\n",
       "    .dataframe thead th {\n",
       "        text-align: right;\n",
       "    }\n",
       "</style>\n",
       "<table border=\"1\" class=\"dataframe\">\n",
       "  <thead>\n",
       "    <tr style=\"text-align: right;\">\n",
       "      <th></th>\n",
       "      <th>id</th>\n",
       "      <th>name</th>\n",
       "      <th>unit_name</th>\n",
       "    </tr>\n",
       "  </thead>\n",
       "  <tbody>\n",
       "    <tr>\n",
       "      <td>1</td>\n",
       "      <td>1003</td>\n",
       "      <td>protein</td>\n",
       "      <td>G</td>\n",
       "    </tr>\n",
       "    <tr>\n",
       "      <td>2</td>\n",
       "      <td>1004</td>\n",
       "      <td>total lipid</td>\n",
       "      <td>G</td>\n",
       "    </tr>\n",
       "    <tr>\n",
       "      <td>5</td>\n",
       "      <td>1008</td>\n",
       "      <td>energy</td>\n",
       "      <td>KCAL</td>\n",
       "    </tr>\n",
       "    <tr>\n",
       "      <td>7</td>\n",
       "      <td>1010</td>\n",
       "      <td>sucrose</td>\n",
       "      <td>G</td>\n",
       "    </tr>\n",
       "  </tbody>\n",
       "</table>\n",
       "</div>"
      ],
      "text/plain": [
       "     id         name unit_name\n",
       "1  1003      protein         G\n",
       "2  1004  total lipid         G\n",
       "5  1008       energy      KCAL\n",
       "7  1010      sucrose         G"
      ]
     },
     "execution_count": 14,
     "metadata": {},
     "output_type": "execute_result"
    }
   ],
   "source": [
    "nutrient_df.head(4)"
   ]
  },
  {
   "cell_type": "code",
   "execution_count": 15,
   "metadata": {},
   "outputs": [
    {
     "data": {
      "text/html": [
       "<div>\n",
       "<style scoped>\n",
       "    .dataframe tbody tr th:only-of-type {\n",
       "        vertical-align: middle;\n",
       "    }\n",
       "\n",
       "    .dataframe tbody tr th {\n",
       "        vertical-align: top;\n",
       "    }\n",
       "\n",
       "    .dataframe thead th {\n",
       "        text-align: right;\n",
       "    }\n",
       "</style>\n",
       "<table border=\"1\" class=\"dataframe\">\n",
       "  <thead>\n",
       "    <tr style=\"text-align: right;\">\n",
       "      <th></th>\n",
       "      <th>id</th>\n",
       "      <th>fdc_id</th>\n",
       "      <th>nutrient_id</th>\n",
       "      <th>amount</th>\n",
       "    </tr>\n",
       "  </thead>\n",
       "  <tbody>\n",
       "    <tr>\n",
       "      <td>0</td>\n",
       "      <td>4178832</td>\n",
       "      <td>346049</td>\n",
       "      <td>1079</td>\n",
       "      <td>0.00</td>\n",
       "    </tr>\n",
       "    <tr>\n",
       "      <td>1</td>\n",
       "      <td>4178833</td>\n",
       "      <td>346049</td>\n",
       "      <td>1087</td>\n",
       "      <td>0.00</td>\n",
       "    </tr>\n",
       "    <tr>\n",
       "      <td>2</td>\n",
       "      <td>4178834</td>\n",
       "      <td>346049</td>\n",
       "      <td>1089</td>\n",
       "      <td>2.57</td>\n",
       "    </tr>\n",
       "    <tr>\n",
       "      <td>3</td>\n",
       "      <td>4178835</td>\n",
       "      <td>346049</td>\n",
       "      <td>1104</td>\n",
       "      <td>0.00</td>\n",
       "    </tr>\n",
       "    <tr>\n",
       "      <td>4</td>\n",
       "      <td>4178836</td>\n",
       "      <td>346049</td>\n",
       "      <td>1162</td>\n",
       "      <td>0.00</td>\n",
       "    </tr>\n",
       "  </tbody>\n",
       "</table>\n",
       "</div>"
      ],
      "text/plain": [
       "        id  fdc_id  nutrient_id  amount\n",
       "0  4178832  346049         1079    0.00\n",
       "1  4178833  346049         1087    0.00\n",
       "2  4178834  346049         1089    2.57\n",
       "3  4178835  346049         1104    0.00\n",
       "4  4178836  346049         1162    0.00"
      ]
     },
     "execution_count": 15,
     "metadata": {},
     "output_type": "execute_result"
    }
   ],
   "source": [
    "food_nutrients_df.head()"
   ]
  },
  {
   "cell_type": "code",
   "execution_count": 16,
   "metadata": {},
   "outputs": [],
   "source": [
    "#add the names of the nutrients contained in the food\n",
    "food_nutrients_df = food_nutrients_df.join(nutrient_df.set_index('id'),on='nutrient_id',how='inner')\n",
    "\n",
    "#takes a long time to run\n",
    "#food_nutrients_df.amount = food_nutrients_df[[\"amount\",\"unit_name\"]].apply(get_amount, axis=1)\n",
    "#food_nutrients_df.drop(\"unit_name\",axis=1,inplace=True))"
   ]
  },
  {
   "cell_type": "code",
   "execution_count": 17,
   "metadata": {},
   "outputs": [
    {
     "data": {
      "text/html": [
       "<div>\n",
       "<style scoped>\n",
       "    .dataframe tbody tr th:only-of-type {\n",
       "        vertical-align: middle;\n",
       "    }\n",
       "\n",
       "    .dataframe tbody tr th {\n",
       "        vertical-align: top;\n",
       "    }\n",
       "\n",
       "    .dataframe thead th {\n",
       "        text-align: right;\n",
       "    }\n",
       "</style>\n",
       "<table border=\"1\" class=\"dataframe\">\n",
       "  <thead>\n",
       "    <tr style=\"text-align: right;\">\n",
       "      <th>name</th>\n",
       "      <th>carbohydrate</th>\n",
       "      <th>cholesterol</th>\n",
       "      <th>energy</th>\n",
       "      <th>fatty acids total monounsaturated</th>\n",
       "      <th>fatty acids total polyunsaturated</th>\n",
       "      <th>fatty acids total saturated</th>\n",
       "      <th>fatty acids total trans</th>\n",
       "      <th>fiber</th>\n",
       "      <th>fructose</th>\n",
       "      <th>glucose</th>\n",
       "      <th>...</th>\n",
       "      <th>sucrose</th>\n",
       "      <th>sugars</th>\n",
       "      <th>total fat</th>\n",
       "      <th>total lipid</th>\n",
       "      <th>vitamin a</th>\n",
       "      <th>vitamin b-12</th>\n",
       "      <th>vitamin b-6</th>\n",
       "      <th>vitamin d</th>\n",
       "      <th>vitamin e</th>\n",
       "      <th>vitamin k</th>\n",
       "    </tr>\n",
       "    <tr>\n",
       "      <th>fdc_id</th>\n",
       "      <th></th>\n",
       "      <th></th>\n",
       "      <th></th>\n",
       "      <th></th>\n",
       "      <th></th>\n",
       "      <th></th>\n",
       "      <th></th>\n",
       "      <th></th>\n",
       "      <th></th>\n",
       "      <th></th>\n",
       "      <th></th>\n",
       "      <th></th>\n",
       "      <th></th>\n",
       "      <th></th>\n",
       "      <th></th>\n",
       "      <th></th>\n",
       "      <th></th>\n",
       "      <th></th>\n",
       "      <th></th>\n",
       "      <th></th>\n",
       "      <th></th>\n",
       "    </tr>\n",
       "  </thead>\n",
       "  <tbody>\n",
       "    <tr>\n",
       "      <td>167512</td>\n",
       "      <td>0.0</td>\n",
       "      <td>0.0</td>\n",
       "      <td>307.0</td>\n",
       "      <td>0.0</td>\n",
       "      <td>0.0</td>\n",
       "      <td>2.941</td>\n",
       "      <td>4.412</td>\n",
       "      <td>1.2</td>\n",
       "      <td>0.0</td>\n",
       "      <td>0.0</td>\n",
       "      <td>...</td>\n",
       "      <td>0.0</td>\n",
       "      <td>5.88</td>\n",
       "      <td>0.0</td>\n",
       "      <td>13.24</td>\n",
       "      <td>0.0</td>\n",
       "      <td>0.0</td>\n",
       "      <td>0.0</td>\n",
       "      <td>0.0</td>\n",
       "      <td>0.0</td>\n",
       "      <td>0.0</td>\n",
       "    </tr>\n",
       "    <tr>\n",
       "      <td>167513</td>\n",
       "      <td>0.0</td>\n",
       "      <td>0.0</td>\n",
       "      <td>330.0</td>\n",
       "      <td>0.0</td>\n",
       "      <td>0.0</td>\n",
       "      <td>3.250</td>\n",
       "      <td>4.290</td>\n",
       "      <td>1.4</td>\n",
       "      <td>0.0</td>\n",
       "      <td>0.0</td>\n",
       "      <td>...</td>\n",
       "      <td>0.0</td>\n",
       "      <td>21.34</td>\n",
       "      <td>0.0</td>\n",
       "      <td>11.27</td>\n",
       "      <td>0.0</td>\n",
       "      <td>0.0</td>\n",
       "      <td>0.0</td>\n",
       "      <td>0.0</td>\n",
       "      <td>0.0</td>\n",
       "      <td>0.0</td>\n",
       "    </tr>\n",
       "    <tr>\n",
       "      <td>167514</td>\n",
       "      <td>0.0</td>\n",
       "      <td>0.0</td>\n",
       "      <td>377.0</td>\n",
       "      <td>0.0</td>\n",
       "      <td>0.0</td>\n",
       "      <td>0.000</td>\n",
       "      <td>0.000</td>\n",
       "      <td>0.0</td>\n",
       "      <td>0.0</td>\n",
       "      <td>0.0</td>\n",
       "      <td>...</td>\n",
       "      <td>0.0</td>\n",
       "      <td>0.00</td>\n",
       "      <td>0.0</td>\n",
       "      <td>3.70</td>\n",
       "      <td>0.0</td>\n",
       "      <td>0.0</td>\n",
       "      <td>0.0</td>\n",
       "      <td>0.0</td>\n",
       "      <td>0.0</td>\n",
       "      <td>0.0</td>\n",
       "    </tr>\n",
       "  </tbody>\n",
       "</table>\n",
       "<p>3 rows × 22 columns</p>\n",
       "</div>"
      ],
      "text/plain": [
       "name    carbohydrate  cholesterol  energy  fatty acids total monounsaturated  \\\n",
       "fdc_id                                                                         \n",
       "167512           0.0          0.0   307.0                                0.0   \n",
       "167513           0.0          0.0   330.0                                0.0   \n",
       "167514           0.0          0.0   377.0                                0.0   \n",
       "\n",
       "name    fatty acids total polyunsaturated  fatty acids total saturated  \\\n",
       "fdc_id                                                                   \n",
       "167512                                0.0                        2.941   \n",
       "167513                                0.0                        3.250   \n",
       "167514                                0.0                        0.000   \n",
       "\n",
       "name    fatty acids total trans  fiber  fructose  glucose  ...  sucrose  \\\n",
       "fdc_id                                                     ...            \n",
       "167512                    4.412    1.2       0.0      0.0  ...      0.0   \n",
       "167513                    4.290    1.4       0.0      0.0  ...      0.0   \n",
       "167514                    0.000    0.0       0.0      0.0  ...      0.0   \n",
       "\n",
       "name    sugars  total fat  total lipid  vitamin a  vitamin b-12  vitamin b-6  \\\n",
       "fdc_id                                                                         \n",
       "167512    5.88        0.0        13.24        0.0           0.0          0.0   \n",
       "167513   21.34        0.0        11.27        0.0           0.0          0.0   \n",
       "167514    0.00        0.0         3.70        0.0           0.0          0.0   \n",
       "\n",
       "name    vitamin d  vitamin e  vitamin k  \n",
       "fdc_id                                   \n",
       "167512        0.0        0.0        0.0  \n",
       "167513        0.0        0.0        0.0  \n",
       "167514        0.0        0.0        0.0  \n",
       "\n",
       "[3 rows x 22 columns]"
      ]
     },
     "execution_count": 17,
     "metadata": {},
     "output_type": "execute_result"
    }
   ],
   "source": [
    "#energy is duplicated because we have both kcal and kj, we take only kcal\n",
    "test = food_nutrients_df.copy()\n",
    "food_nutrients_df = food_nutrients_df.pivot_table(index='fdc_id', columns='name', values='amount',aggfunc='first')\n",
    "food_nutrients_df.fillna(value=0, inplace=True)\n",
    "food_nutrients_df.head(3)"
   ]
  },
  {
   "cell_type": "code",
   "execution_count": 18,
   "metadata": {},
   "outputs": [
    {
     "data": {
      "text/plain": [
       "name\n",
       "carbohydrate                            0.000\n",
       "cholesterol                             0.000\n",
       "energy                                307.000\n",
       "fatty acids total monounsaturated       0.000\n",
       "fatty acids total polyunsaturated       0.000\n",
       "fatty acids total saturated             2.941\n",
       "fatty acids total trans                 4.412\n",
       "fiber                                   1.200\n",
       "fructose                                0.000\n",
       "glucose                                 0.000\n",
       "protein                                 5.880\n",
       "sodium                               1059.000\n",
       "sucrose                                 0.000\n",
       "sugars                                  5.880\n",
       "total fat                               0.000\n",
       "total lipid                            13.240\n",
       "vitamin a                               0.000\n",
       "vitamin b-12                            0.000\n",
       "vitamin b-6                             0.000\n",
       "vitamin d                               0.000\n",
       "vitamin e                               0.000\n",
       "vitamin k                               0.000\n",
       "Name: 167512, dtype: float64"
      ]
     },
     "execution_count": 18,
     "metadata": {},
     "output_type": "execute_result"
    }
   ],
   "source": [
    "food_nutrients_df.loc[167512]"
   ]
  },
  {
   "cell_type": "code",
   "execution_count": 19,
   "metadata": {},
   "outputs": [],
   "source": [
    "#add categories to the food df\n",
    "food_df = food_df.join(food_category_df.set_index(\"food_category_id\"),on=\"food_category_id\",how=\"left\")\n",
    "food_df.drop([\"food_category_id\"],axis=1,inplace=True)\n",
    "food_df.description = food_df.description.apply(parse_words)"
   ]
  },
  {
   "cell_type": "code",
   "execution_count": 20,
   "metadata": {},
   "outputs": [
    {
     "data": {
      "text/html": [
       "<div>\n",
       "<style scoped>\n",
       "    .dataframe tbody tr th:only-of-type {\n",
       "        vertical-align: middle;\n",
       "    }\n",
       "\n",
       "    .dataframe tbody tr th {\n",
       "        vertical-align: top;\n",
       "    }\n",
       "\n",
       "    .dataframe thead th {\n",
       "        text-align: right;\n",
       "    }\n",
       "</style>\n",
       "<table border=\"1\" class=\"dataframe\">\n",
       "  <thead>\n",
       "    <tr style=\"text-align: right;\">\n",
       "      <th></th>\n",
       "      <th>fdc_id</th>\n",
       "      <th>data_type</th>\n",
       "      <th>description</th>\n",
       "      <th>category</th>\n",
       "    </tr>\n",
       "  </thead>\n",
       "  <tbody>\n",
       "    <tr>\n",
       "      <td>0</td>\n",
       "      <td>346049</td>\n",
       "      <td>branded_food</td>\n",
       "      <td>[libbys, corned, beef, onion]</td>\n",
       "      <td>NaN</td>\n",
       "    </tr>\n",
       "    <tr>\n",
       "      <td>1</td>\n",
       "      <td>346050</td>\n",
       "      <td>branded_food</td>\n",
       "      <td>[libbys, corned, beef, chili]</td>\n",
       "      <td>NaN</td>\n",
       "    </tr>\n",
       "    <tr>\n",
       "      <td>2</td>\n",
       "      <td>346464</td>\n",
       "      <td>branded_food</td>\n",
       "      <td>[wolf, chili, without, beans]</td>\n",
       "      <td>NaN</td>\n",
       "    </tr>\n",
       "    <tr>\n",
       "      <td>3</td>\n",
       "      <td>346466</td>\n",
       "      <td>branded_food</td>\n",
       "      <td>[wolf, turkey, chili, beans]</td>\n",
       "      <td>NaN</td>\n",
       "    </tr>\n",
       "    <tr>\n",
       "      <td>4</td>\n",
       "      <td>346468</td>\n",
       "      <td>branded_food</td>\n",
       "      <td>[wolf, brand, chili, beans]</td>\n",
       "      <td>NaN</td>\n",
       "    </tr>\n",
       "  </tbody>\n",
       "</table>\n",
       "</div>"
      ],
      "text/plain": [
       "   fdc_id     data_type                    description category\n",
       "0  346049  branded_food  [libbys, corned, beef, onion]      NaN\n",
       "1  346050  branded_food  [libbys, corned, beef, chili]      NaN\n",
       "2  346464  branded_food  [wolf, chili, without, beans]      NaN\n",
       "3  346466  branded_food   [wolf, turkey, chili, beans]      NaN\n",
       "4  346468  branded_food    [wolf, brand, chili, beans]      NaN"
      ]
     },
     "execution_count": 20,
     "metadata": {},
     "output_type": "execute_result"
    }
   ],
   "source": [
    "food_df.head()"
   ]
  },
  {
   "cell_type": "markdown",
   "metadata": {},
   "source": [
    "We see that a lot of categories are unfortunately missing from the governement database"
   ]
  },
  {
   "cell_type": "code",
   "execution_count": 21,
   "metadata": {},
   "outputs": [],
   "source": [
    "all_information_df = food_df.join(food_nutrients_df,on='fdc_id',how='inner')"
   ]
  },
  {
   "cell_type": "code",
   "execution_count": 22,
   "metadata": {},
   "outputs": [
    {
     "data": {
      "text/html": [
       "<div>\n",
       "<style scoped>\n",
       "    .dataframe tbody tr th:only-of-type {\n",
       "        vertical-align: middle;\n",
       "    }\n",
       "\n",
       "    .dataframe tbody tr th {\n",
       "        vertical-align: top;\n",
       "    }\n",
       "\n",
       "    .dataframe thead th {\n",
       "        text-align: right;\n",
       "    }\n",
       "</style>\n",
       "<table border=\"1\" class=\"dataframe\">\n",
       "  <thead>\n",
       "    <tr style=\"text-align: right;\">\n",
       "      <th></th>\n",
       "      <th>fdc_id</th>\n",
       "      <th>data_type</th>\n",
       "      <th>description</th>\n",
       "      <th>category</th>\n",
       "      <th>carbohydrate</th>\n",
       "      <th>cholesterol</th>\n",
       "      <th>energy</th>\n",
       "      <th>fatty acids total monounsaturated</th>\n",
       "      <th>fatty acids total polyunsaturated</th>\n",
       "      <th>fatty acids total saturated</th>\n",
       "      <th>...</th>\n",
       "      <th>sucrose</th>\n",
       "      <th>sugars</th>\n",
       "      <th>total fat</th>\n",
       "      <th>total lipid</th>\n",
       "      <th>vitamin a</th>\n",
       "      <th>vitamin b-12</th>\n",
       "      <th>vitamin b-6</th>\n",
       "      <th>vitamin d</th>\n",
       "      <th>vitamin e</th>\n",
       "      <th>vitamin k</th>\n",
       "    </tr>\n",
       "  </thead>\n",
       "  <tbody>\n",
       "    <tr>\n",
       "      <td>0</td>\n",
       "      <td>346049</td>\n",
       "      <td>branded_food</td>\n",
       "      <td>[libbys, corned, beef, onion]</td>\n",
       "      <td>NaN</td>\n",
       "      <td>0.0</td>\n",
       "      <td>71.0</td>\n",
       "      <td>0.0</td>\n",
       "      <td>0.89</td>\n",
       "      <td>0.00</td>\n",
       "      <td>6.25</td>\n",
       "      <td>...</td>\n",
       "      <td>0.0</td>\n",
       "      <td>1.79</td>\n",
       "      <td>0.0</td>\n",
       "      <td>14.29</td>\n",
       "      <td>0.0</td>\n",
       "      <td>0.0</td>\n",
       "      <td>0.0</td>\n",
       "      <td>0.0</td>\n",
       "      <td>0.0</td>\n",
       "      <td>0.0</td>\n",
       "    </tr>\n",
       "    <tr>\n",
       "      <td>1</td>\n",
       "      <td>346050</td>\n",
       "      <td>branded_food</td>\n",
       "      <td>[libbys, corned, beef, chili]</td>\n",
       "      <td>NaN</td>\n",
       "      <td>0.0</td>\n",
       "      <td>80.0</td>\n",
       "      <td>0.0</td>\n",
       "      <td>0.89</td>\n",
       "      <td>0.00</td>\n",
       "      <td>6.25</td>\n",
       "      <td>...</td>\n",
       "      <td>0.0</td>\n",
       "      <td>1.79</td>\n",
       "      <td>0.0</td>\n",
       "      <td>14.29</td>\n",
       "      <td>0.0</td>\n",
       "      <td>0.0</td>\n",
       "      <td>0.0</td>\n",
       "      <td>0.0</td>\n",
       "      <td>0.0</td>\n",
       "      <td>0.0</td>\n",
       "    </tr>\n",
       "    <tr>\n",
       "      <td>2</td>\n",
       "      <td>346464</td>\n",
       "      <td>branded_food</td>\n",
       "      <td>[wolf, chili, without, beans]</td>\n",
       "      <td>NaN</td>\n",
       "      <td>0.0</td>\n",
       "      <td>22.0</td>\n",
       "      <td>0.0</td>\n",
       "      <td>4.84</td>\n",
       "      <td>1.41</td>\n",
       "      <td>4.44</td>\n",
       "      <td>...</td>\n",
       "      <td>0.0</td>\n",
       "      <td>0.81</td>\n",
       "      <td>0.0</td>\n",
       "      <td>11.29</td>\n",
       "      <td>0.0</td>\n",
       "      <td>0.0</td>\n",
       "      <td>0.0</td>\n",
       "      <td>0.0</td>\n",
       "      <td>0.0</td>\n",
       "      <td>0.0</td>\n",
       "    </tr>\n",
       "  </tbody>\n",
       "</table>\n",
       "<p>3 rows × 26 columns</p>\n",
       "</div>"
      ],
      "text/plain": [
       "   fdc_id     data_type                    description category  carbohydrate  \\\n",
       "0  346049  branded_food  [libbys, corned, beef, onion]      NaN           0.0   \n",
       "1  346050  branded_food  [libbys, corned, beef, chili]      NaN           0.0   \n",
       "2  346464  branded_food  [wolf, chili, without, beans]      NaN           0.0   \n",
       "\n",
       "   cholesterol  energy  fatty acids total monounsaturated  \\\n",
       "0         71.0     0.0                               0.89   \n",
       "1         80.0     0.0                               0.89   \n",
       "2         22.0     0.0                               4.84   \n",
       "\n",
       "   fatty acids total polyunsaturated  fatty acids total saturated  ...  \\\n",
       "0                               0.00                         6.25  ...   \n",
       "1                               0.00                         6.25  ...   \n",
       "2                               1.41                         4.44  ...   \n",
       "\n",
       "   sucrose  sugars  total fat  total lipid  vitamin a  vitamin b-12  \\\n",
       "0      0.0    1.79        0.0        14.29        0.0           0.0   \n",
       "1      0.0    1.79        0.0        14.29        0.0           0.0   \n",
       "2      0.0    0.81        0.0        11.29        0.0           0.0   \n",
       "\n",
       "   vitamin b-6  vitamin d  vitamin e  vitamin k  \n",
       "0          0.0        0.0        0.0        0.0  \n",
       "1          0.0        0.0        0.0        0.0  \n",
       "2          0.0        0.0        0.0        0.0  \n",
       "\n",
       "[3 rows x 26 columns]"
      ]
     },
     "execution_count": 22,
     "metadata": {},
     "output_type": "execute_result"
    }
   ],
   "source": [
    "all_information_df.head(3)"
   ]
  },
  {
   "cell_type": "markdown",
   "metadata": {},
   "source": [
    "_At this stage we have 3 dataframes from our additional dataset for nutrition:_\n",
    "- food_name_df = fdc_id vs parsed food title (list of string)\n",
    "- food_nutrients_df = fdc_id vs nutrients contained as columns\n",
    "- all_information_df = fdc_id, data type, description, food category and all nutrients"
   ]
  },
  {
   "cell_type": "markdown",
   "metadata": {},
   "source": [
    "## Word Importance"
   ]
  },
  {
   "cell_type": "markdown",
   "metadata": {},
   "source": [
    "_We filter the words according to their importance: that is, a word is more important as it apears many times in both datasets: (Ex: 'orange' is more important than 'artificial'). The words occuring in only one dataset are of no importance. The rest of the algorithm follows the following pipeline:_"
   ]
  },
  {
   "cell_type": "code",
   "execution_count": 23,
   "metadata": {},
   "outputs": [
    {
     "data": {
      "image/svg+xml": [
       "<svg height=\"181px\" version=\"1.1\" width=\"311px\" xmlns=\"http://www.w3.org/2000/svg\" xmlns:xlink=\"http://www.w3.org/1999/xlink\"><defs/><g transform=\"translate(0.5,0.5)\"><path d=\"M 80 40 L 140 40 L 140 93.63\" fill=\"none\" pointer-events=\"none\" stroke=\"#ff3333\" stroke-miterlimit=\"10\"/><path d=\"M 140 98.88 L 136.5 91.88 L 140 93.63 L 143.5 91.88 Z\" fill=\"#ff3333\" pointer-events=\"none\" stroke=\"#ff3333\" stroke-miterlimit=\"10\"/><rect fill=\"#ffffff\" height=\"80\" pointer-events=\"none\" stroke=\"#000000\" width=\"80\" x=\"0\" y=\"0\"/><g transform=\"translate(1.5,26.5)\"><switch><foreignObject height=\"26\" pointer-events=\"all\" requiredFeatures=\"http://www.w3.org/TR/SVG11/feature#Extensibility\" style=\"overflow:visible;\" width=\"76\"><div style=\"display: inline-block; font-size: 12px; font-family: Helvetica; color: rgb(0, 0, 0); line-height: 1.2; vertical-align: top; width: 76px; white-space: normal; overflow-wrap: normal; text-align: center;\" xmlns=\"http://www.w3.org/1999/xhtml\"><div style=\"display:inline-block;text-align:inherit;text-decoration:inherit;\" xmlns=\"http://www.w3.org/1999/xhtml\">products food names</div></div></foreignObject><text fill=\"#000000\" font-family=\"Helvetica\" font-size=\"12px\" text-anchor=\"middle\" x=\"38\" y=\"19\">products food names</text></switch></g><path d=\"M 230 40 L 140 40 L 140 93.63\" fill=\"none\" pointer-events=\"none\" stroke=\"#ff3333\" stroke-miterlimit=\"10\"/><path d=\"M 140 98.88 L 136.5 91.88 L 140 93.63 L 143.5 91.88 Z\" fill=\"#ff3333\" pointer-events=\"none\" stroke=\"#ff3333\" stroke-miterlimit=\"10\"/><rect fill=\"#ffffff\" height=\"80\" pointer-events=\"none\" stroke=\"#000000\" width=\"80\" x=\"230\" y=\"0\"/><g transform=\"translate(231.5,26.5)\"><switch><foreignObject height=\"26\" pointer-events=\"all\" requiredFeatures=\"http://www.w3.org/TR/SVG11/feature#Extensibility\" style=\"overflow:visible;\" width=\"76\"><div style=\"display: inline-block; font-size: 12px; font-family: Helvetica; color: rgb(0, 0, 0); line-height: 1.2; vertical-align: top; width: 76px; white-space: normal; overflow-wrap: normal; text-align: center;\" xmlns=\"http://www.w3.org/1999/xhtml\"><div style=\"display:inline-block;text-align:inherit;text-decoration:inherit;\" xmlns=\"http://www.w3.org/1999/xhtml\">nutrition food names</div></div></foreignObject><text fill=\"#000000\" font-family=\"Helvetica\" font-size=\"12px\" text-anchor=\"middle\" x=\"38\" y=\"19\">nutrition food names</text></switch></g><rect fill=\"#ffffff\" height=\"80\" pointer-events=\"none\" stroke=\"#000000\" width=\"80\" x=\"100\" y=\"100\"/><g transform=\"translate(101.5,126.5)\"><switch><foreignObject height=\"26\" pointer-events=\"all\" requiredFeatures=\"http://www.w3.org/TR/SVG11/feature#Extensibility\" style=\"overflow:visible;\" width=\"76\"><div style=\"display: inline-block; font-size: 12px; font-family: Helvetica; color: rgb(0, 0, 0); line-height: 1.2; vertical-align: top; width: 76px; white-space: normal; overflow-wrap: normal; text-align: center;\" xmlns=\"http://www.w3.org/1999/xhtml\"><div style=\"display:inline-block;text-align:inherit;text-decoration:inherit;\" xmlns=\"http://www.w3.org/1999/xhtml\">inner merge food names</div></div></foreignObject><text fill=\"#000000\" font-family=\"Helvetica\" font-size=\"12px\" text-anchor=\"middle\" x=\"38\" y=\"19\">inner merge food names</text></switch></g><g transform=\"translate(79.5,13.5)\"><switch><foreignObject height=\"12\" pointer-events=\"all\" requiredFeatures=\"http://www.w3.org/TR/SVG11/feature#Extensibility\" style=\"overflow:visible;\" width=\"61\"><div style=\"display: inline-block; font-size: 12px; font-family: Helvetica; color: rgb(255, 51, 51); line-height: 1.2; vertical-align: top; width: 62px; white-space: nowrap; overflow-wrap: normal; text-align: center;\" xmlns=\"http://www.w3.org/1999/xhtml\"><div style=\"display:inline-block;text-align:inherit;text-decoration:inherit;\" xmlns=\"http://www.w3.org/1999/xhtml\">getallwords</div></div></foreignObject><text fill=\"#FF3333\" font-family=\"Helvetica\" font-size=\"12px\" text-anchor=\"middle\" x=\"31\" y=\"12\">getallwords</text></switch></g><g transform=\"translate(159.5,13.5)\"><switch><foreignObject height=\"12\" pointer-events=\"all\" requiredFeatures=\"http://www.w3.org/TR/SVG11/feature#Extensibility\" style=\"overflow:visible;\" width=\"61\"><div style=\"display: inline-block; font-size: 12px; font-family: Helvetica; color: rgb(255, 51, 51); line-height: 1.2; vertical-align: top; width: 62px; white-space: nowrap; overflow-wrap: normal; text-align: center;\" xmlns=\"http://www.w3.org/1999/xhtml\"><div style=\"display:inline-block;text-align:inherit;text-decoration:inherit;\" xmlns=\"http://www.w3.org/1999/xhtml\">getallwords</div></div></foreignObject><text fill=\"#FF3333\" font-family=\"Helvetica\" font-size=\"12px\" text-anchor=\"middle\" x=\"31\" y=\"12\">getallwords</text></switch></g></g></svg>"
      ],
      "text/plain": [
       "<IPython.core.display.SVG object>"
      ]
     },
     "execution_count": 23,
     "metadata": {},
     "output_type": "execute_result"
    }
   ],
   "source": [
    "SVG(filename='graphs/allwords.svg')"
   ]
  },
  {
   "cell_type": "code",
   "execution_count": 24,
   "metadata": {},
   "outputs": [],
   "source": [
    "#all words present in the nutrition dataset\n",
    "all_words_nutrition = get_allwords(food_df.description)\n",
    "\n",
    "#all words present in the product dataset\n",
    "all_words_supermarket = get_allwords(products_sales_df.ingredients)"
   ]
  },
  {
   "cell_type": "markdown",
   "metadata": {},
   "source": [
    "#### Inner merge between the 2 sets of words:\n",
    "\n",
    "_we check which words occur in both dataframes: only these words will have importance in determining the type of food article we are dealing with. Of course, if no words are known from the nutrition dataset, the sample is not taken into account._\n"
   ]
  },
  {
   "cell_type": "code",
   "execution_count": 25,
   "metadata": {},
   "outputs": [],
   "source": [
    "common_words = pd.merge(all_words_supermarket,all_words_nutrition,left_on = 'name',right_on = 'name',suffixes=('_supermarket', '_nutrition'))"
   ]
  },
  {
   "cell_type": "code",
   "execution_count": 26,
   "metadata": {},
   "outputs": [
    {
     "name": "stdout",
     "output_type": "stream",
     "text": [
      "Number of common words:774\n"
     ]
    },
    {
     "data": {
      "text/html": [
       "<div>\n",
       "<style scoped>\n",
       "    .dataframe tbody tr th:only-of-type {\n",
       "        vertical-align: middle;\n",
       "    }\n",
       "\n",
       "    .dataframe tbody tr th {\n",
       "        vertical-align: top;\n",
       "    }\n",
       "\n",
       "    .dataframe thead th {\n",
       "        text-align: right;\n",
       "    }\n",
       "</style>\n",
       "<table border=\"1\" class=\"dataframe\">\n",
       "  <thead>\n",
       "    <tr style=\"text-align: right;\">\n",
       "      <th></th>\n",
       "      <th>name</th>\n",
       "      <th>number_supermarket</th>\n",
       "      <th>number_nutrition</th>\n",
       "    </tr>\n",
       "  </thead>\n",
       "  <tbody>\n",
       "    <tr>\n",
       "      <td>0</td>\n",
       "      <td>soft</td>\n",
       "      <td>53</td>\n",
       "      <td>1830</td>\n",
       "    </tr>\n",
       "    <tr>\n",
       "      <td>1</td>\n",
       "      <td>drinks</td>\n",
       "      <td>29</td>\n",
       "      <td>57</td>\n",
       "    </tr>\n",
       "    <tr>\n",
       "      <td>2</td>\n",
       "      <td>cheese</td>\n",
       "      <td>28</td>\n",
       "      <td>17371</td>\n",
       "    </tr>\n",
       "    <tr>\n",
       "      <td>3</td>\n",
       "      <td>vegetables</td>\n",
       "      <td>25</td>\n",
       "      <td>1283</td>\n",
       "    </tr>\n",
       "    <tr>\n",
       "      <td>4</td>\n",
       "      <td>meat</td>\n",
       "      <td>24</td>\n",
       "      <td>2764</td>\n",
       "    </tr>\n",
       "    <tr>\n",
       "      <td>5</td>\n",
       "      <td>carb</td>\n",
       "      <td>18</td>\n",
       "      <td>70</td>\n",
       "    </tr>\n",
       "    <tr>\n",
       "      <td>6</td>\n",
       "      <td>powder</td>\n",
       "      <td>18</td>\n",
       "      <td>1069</td>\n",
       "    </tr>\n",
       "    <tr>\n",
       "      <td>7</td>\n",
       "      <td>soup</td>\n",
       "      <td>17</td>\n",
       "      <td>3614</td>\n",
       "    </tr>\n",
       "    <tr>\n",
       "      <td>8</td>\n",
       "      <td>baked</td>\n",
       "      <td>16</td>\n",
       "      <td>2430</td>\n",
       "    </tr>\n",
       "    <tr>\n",
       "      <td>9</td>\n",
       "      <td>drink</td>\n",
       "      <td>15</td>\n",
       "      <td>3572</td>\n",
       "    </tr>\n",
       "  </tbody>\n",
       "</table>\n",
       "</div>"
      ],
      "text/plain": [
       "         name  number_supermarket  number_nutrition\n",
       "0        soft                  53              1830\n",
       "1      drinks                  29                57\n",
       "2      cheese                  28             17371\n",
       "3  vegetables                  25              1283\n",
       "4        meat                  24              2764\n",
       "5        carb                  18                70\n",
       "6      powder                  18              1069\n",
       "7        soup                  17              3614\n",
       "8       baked                  16              2430\n",
       "9       drink                  15              3572"
      ]
     },
     "execution_count": 26,
     "metadata": {},
     "output_type": "execute_result"
    }
   ],
   "source": [
    "print(\"Number of common words:{}\".format(common_words.size))\n",
    "common_words.head(10)"
   ]
  },
  {
   "cell_type": "markdown",
   "metadata": {},
   "source": [
    "## Link the two databases"
   ]
  },
  {
   "cell_type": "code",
   "execution_count": 27,
   "metadata": {},
   "outputs": [
    {
     "data": {
      "image/svg+xml": [
       "<svg height=\"701px\" version=\"1.1\" width=\"771px\" xmlns=\"http://www.w3.org/2000/svg\" xmlns:xlink=\"http://www.w3.org/1999/xlink\"><defs/><g transform=\"translate(0.5,0.5)\"><path d=\"M 149.7 43.98 L 233.65 49.58\" fill=\"none\" pointer-events=\"none\" stroke=\"#000000\" stroke-miterlimit=\"10\"/><path d=\"M 238.88 49.93 L 231.67 52.95 L 233.65 49.58 L 232.13 45.97 Z\" fill=\"#000000\" pointer-events=\"none\" stroke=\"#000000\" stroke-miterlimit=\"10\"/><path d=\"M 129.43 70.15 L 203.94 127.13\" fill=\"none\" pointer-events=\"none\" stroke=\"#000000\" stroke-miterlimit=\"10\"/><path d=\"M 208.11 130.32 L 200.43 128.85 L 203.94 127.13 L 204.68 123.29 Z\" fill=\"#000000\" pointer-events=\"none\" stroke=\"#000000\" stroke-miterlimit=\"10\"/><ellipse cx=\"90\" cy=\"40\" fill=\"#ffffff\" pointer-events=\"none\" rx=\"60\" ry=\"40\" stroke=\"#000000\"/><g transform=\"translate(68.5,33.5)\"><switch><foreignObject height=\"12\" pointer-events=\"all\" requiredFeatures=\"http://www.w3.org/TR/SVG11/feature#Extensibility\" style=\"overflow:visible;\" width=\"42\"><div style=\"display: inline-block; font-size: 12px; font-family: Helvetica; color: rgb(0, 0, 0); line-height: 1.2; vertical-align: top; width: 42px; white-space: nowrap; overflow-wrap: normal; text-align: center;\" xmlns=\"http://www.w3.org/1999/xhtml\"><div style=\"display:inline-block;text-align:inherit;text-decoration:inherit;\" xmlns=\"http://www.w3.org/1999/xhtml\">k words</div></div></foreignObject><text fill=\"#000000\" font-family=\"Helvetica\" font-size=\"12px\" text-anchor=\"middle\" x=\"21\" y=\"12\">k words</text></switch></g><path d=\"M 331.29 84.13 L 405.7 165.31\" fill=\"none\" pointer-events=\"none\" stroke=\"#000000\" stroke-miterlimit=\"10\"/><path d=\"M 409.24 169.18 L 401.93 166.38 L 405.7 165.31 L 407.09 161.65 Z\" fill=\"#000000\" pointer-events=\"none\" stroke=\"#000000\" stroke-miterlimit=\"10\"/><path d=\"M 359.77 46.48 L 463.64 40.37\" fill=\"none\" pointer-events=\"none\" stroke=\"#000000\" stroke-miterlimit=\"10\"/><path d=\"M 468.88 40.07 L 462.1 43.97 L 463.64 40.37 L 461.69 36.98 Z\" fill=\"#000000\" pointer-events=\"none\" stroke=\"#000000\" stroke-miterlimit=\"10\"/><ellipse cx=\"300\" cy=\"50\" fill=\"#ffffff\" pointer-events=\"none\" rx=\"60\" ry=\"40\" stroke=\"#000000\"/><g transform=\"translate(256.5,43.5)\"><switch><foreignObject height=\"12\" pointer-events=\"all\" requiredFeatures=\"http://www.w3.org/TR/SVG11/feature#Extensibility\" style=\"overflow:visible;\" width=\"86\"><div style=\"display: inline-block; font-size: 12px; font-family: Helvetica; color: rgb(0, 0, 0); line-height: 1.2; vertical-align: top; width: 86px; white-space: nowrap; overflow-wrap: normal; text-align: center;\" xmlns=\"http://www.w3.org/1999/xhtml\"><div style=\"display:inline-block;text-align:inherit;text-decoration:inherit;\" xmlns=\"http://www.w3.org/1999/xhtml\">there is a match</div></div></foreignObject><text fill=\"#000000\" font-family=\"Helvetica\" font-size=\"12px\" text-anchor=\"middle\" x=\"43\" y=\"12\">there is a match</text></switch></g><path d=\"M 263 189.95 L 266.09 223.72\" fill=\"none\" pointer-events=\"none\" stroke=\"#000000\" stroke-miterlimit=\"10\"/><path d=\"M 266.57 228.95 L 262.45 222.3 L 266.09 223.72 L 269.42 221.66 Z\" fill=\"#000000\" pointer-events=\"none\" stroke=\"#000000\" stroke-miterlimit=\"10\"/><ellipse cx=\"260\" cy=\"150\" fill=\"#ffffff\" pointer-events=\"none\" rx=\"60\" ry=\"40\" stroke=\"#000000\"/><g transform=\"translate(234.5,143.5)\"><switch><foreignObject height=\"12\" pointer-events=\"all\" requiredFeatures=\"http://www.w3.org/TR/SVG11/feature#Extensibility\" style=\"overflow:visible;\" width=\"50\"><div style=\"display: inline-block; font-size: 12px; font-family: Helvetica; color: rgb(0, 0, 0); line-height: 1.2; vertical-align: top; width: 50px; white-space: nowrap; overflow-wrap: normal; text-align: center;\" xmlns=\"http://www.w3.org/1999/xhtml\"><div style=\"display:inline-block;text-align:inherit;text-decoration:inherit;\" xmlns=\"http://www.w3.org/1999/xhtml\">no match</div></div></foreignObject><text fill=\"#000000\" font-family=\"Helvetica\" font-size=\"12px\" text-anchor=\"middle\" x=\"25\" y=\"12\">no match</text></switch></g><path d=\"M 270 310 L 270 363.63\" fill=\"none\" pointer-events=\"none\" stroke=\"#000000\" stroke-miterlimit=\"10\"/><path d=\"M 270 368.88 L 266.5 361.88 L 270 363.63 L 273.5 361.88 Z\" fill=\"#000000\" pointer-events=\"none\" stroke=\"#000000\" stroke-miterlimit=\"10\"/><ellipse cx=\"270\" cy=\"270\" fill=\"#ffffff\" pointer-events=\"none\" rx=\"60\" ry=\"40\" stroke=\"#000000\"/><g transform=\"translate(211.5,256.5)\"><switch><foreignObject height=\"26\" pointer-events=\"all\" requiredFeatures=\"http://www.w3.org/TR/SVG11/feature#Extensibility\" style=\"overflow:visible;\" width=\"116\"><div style=\"display: inline-block; font-size: 12px; font-family: Helvetica; color: rgb(0, 0, 0); line-height: 1.2; vertical-align: top; width: 116px; white-space: normal; overflow-wrap: normal; text-align: center;\" xmlns=\"http://www.w3.org/1999/xhtml\"><div style=\"display:inline-block;text-align:inherit;text-decoration:inherit;\" xmlns=\"http://www.w3.org/1999/xhtml\">erase least important word</div></div></foreignObject><text fill=\"#000000\" font-family=\"Helvetica\" font-size=\"12px\" text-anchor=\"middle\" x=\"58\" y=\"19\">erase least important word</text></switch></g><path d=\"M 223.68 384.57 L 121.86 328.53\" fill=\"none\" pointer-events=\"none\" stroke=\"#000000\" stroke-miterlimit=\"10\"/><path d=\"M 117.26 325.99 L 125.08 326.3 L 121.86 328.53 L 121.71 332.44 Z\" fill=\"#000000\" pointer-events=\"none\" stroke=\"#000000\" stroke-miterlimit=\"10\"/><path d=\"M 273 449.95 L 276.09 483.72\" fill=\"none\" pointer-events=\"none\" stroke=\"#000000\" stroke-miterlimit=\"10\"/><path d=\"M 276.57 488.95 L 272.45 482.3 L 276.09 483.72 L 279.42 481.66 Z\" fill=\"#000000\" pointer-events=\"none\" stroke=\"#000000\" stroke-miterlimit=\"10\"/><ellipse cx=\"270\" cy=\"410\" fill=\"#ffffff\" pointer-events=\"none\" rx=\"60\" ry=\"40\" stroke=\"#000000\"/><g transform=\"translate(236.5,403.5)\"><switch><foreignObject height=\"12\" pointer-events=\"all\" requiredFeatures=\"http://www.w3.org/TR/SVG11/feature#Extensibility\" style=\"overflow:visible;\" width=\"67\"><div style=\"display: inline-block; font-size: 12px; font-family: Helvetica; color: rgb(0, 0, 0); line-height: 1.2; vertical-align: top; width: 68px; white-space: nowrap; overflow-wrap: normal; text-align: center;\" xmlns=\"http://www.w3.org/1999/xhtml\"><div style=\"display:inline-block;text-align:inherit;text-decoration:inherit;\" xmlns=\"http://www.w3.org/1999/xhtml\">(k - 1) words</div></div></foreignObject><text fill=\"#000000\" font-family=\"Helvetica\" font-size=\"12px\" text-anchor=\"middle\" x=\"34\" y=\"12\">(k - 1) words</text></switch></g><path d=\"M 70 260 Q 10 260 10 240 Q 10 220 5 220 Q 0 220 0 130 Q 0 40 23.63 40\" fill=\"none\" pointer-events=\"none\" stroke=\"#000000\" stroke-miterlimit=\"10\"/><path d=\"M 28.88 40 L 21.88 43.5 L 23.63 40 L 21.88 36.5 Z\" fill=\"#000000\" pointer-events=\"none\" stroke=\"#000000\" stroke-miterlimit=\"10\"/><ellipse cx=\"70\" cy=\"300\" fill=\"#ffffff\" pointer-events=\"none\" rx=\"60\" ry=\"40\" stroke=\"#000000\"/><g transform=\"translate(42.5,293.5)\"><switch><foreignObject height=\"12\" pointer-events=\"all\" requiredFeatures=\"http://www.w3.org/TR/SVG11/feature#Extensibility\" style=\"overflow:visible;\" width=\"55\"><div style=\"display: inline-block; font-size: 12px; font-family: Helvetica; color: rgb(0, 0, 0); line-height: 1.2; vertical-align: top; width: 56px; white-space: nowrap; overflow-wrap: normal; text-align: center;\" xmlns=\"http://www.w3.org/1999/xhtml\"><div style=\"display:inline-block;text-align:inherit;text-decoration:inherit;\" xmlns=\"http://www.w3.org/1999/xhtml\">(k - 1) != 0</div></div></foreignObject><text fill=\"#000000\" font-family=\"Helvetica\" font-size=\"12px\" text-anchor=\"middle\" x=\"28\" y=\"12\">(k - 1) != 0</text></switch></g><path d=\"M 255.63 566.55 L 223.53 614.7\" fill=\"none\" pointer-events=\"none\" stroke=\"#000000\" stroke-miterlimit=\"10\"/><path d=\"M 220.62 619.07 L 221.59 611.3 L 223.53 614.7 L 227.42 615.19 Z\" fill=\"#000000\" pointer-events=\"none\" stroke=\"#000000\" stroke-miterlimit=\"10\"/><ellipse cx=\"280\" cy=\"530\" fill=\"#ffffff\" pointer-events=\"none\" rx=\"60\" ry=\"40\" stroke=\"#000000\"/><g transform=\"translate(262.5,523.5)\"><switch><foreignObject height=\"12\" pointer-events=\"all\" requiredFeatures=\"http://www.w3.org/TR/SVG11/feature#Extensibility\" style=\"overflow:visible;\" width=\"34\"><div style=\"display: inline-block; font-size: 12px; font-family: Helvetica; color: rgb(0, 0, 0); line-height: 1.2; vertical-align: top; width: 34px; white-space: nowrap; overflow-wrap: normal; text-align: center;\" xmlns=\"http://www.w3.org/1999/xhtml\"><div style=\"display:inline-block;text-align:inherit;text-decoration:inherit;\" xmlns=\"http://www.w3.org/1999/xhtml\">k == 0</div></div></foreignObject><text fill=\"#000000\" font-family=\"Helvetica\" font-size=\"12px\" text-anchor=\"middle\" x=\"17\" y=\"12\">k == 0</text></switch></g><ellipse cx=\"220\" cy=\"660\" fill=\"#ff9999\" pointer-events=\"none\" rx=\"60\" ry=\"40\" stroke=\"#000000\"/><g transform=\"translate(167.5,653.5)\"><switch><foreignObject height=\"12\" pointer-events=\"all\" requiredFeatures=\"http://www.w3.org/TR/SVG11/feature#Extensibility\" style=\"overflow:visible;\" width=\"104\"><div style=\"display: inline-block; font-size: 12px; font-family: Helvetica; color: rgb(0, 0, 0); line-height: 1.2; vertical-align: top; width: 104px; white-space: nowrap; overflow-wrap: normal; text-align: center;\" xmlns=\"http://www.w3.org/1999/xhtml\"><div style=\"display:inline-block;text-align:inherit;text-decoration:inherit;\" xmlns=\"http://www.w3.org/1999/xhtml\">Give up the sample</div></div></foreignObject><text fill=\"#000000\" font-family=\"Helvetica\" font-size=\"12px\" text-anchor=\"middle\" x=\"52\" y=\"12\">Give up the sample</text></switch></g><path d=\"M 583.67 57.89 L 643.96 77.99\" fill=\"none\" pointer-events=\"none\" stroke=\"#000000\" stroke-miterlimit=\"10\"/><path d=\"M 648.94 79.65 L 641.19 80.75 L 643.96 77.99 L 643.41 74.11 Z\" fill=\"#000000\" pointer-events=\"none\" stroke=\"#000000\" stroke-miterlimit=\"10\"/><ellipse cx=\"530\" cy=\"40\" fill=\"#ffffff\" pointer-events=\"none\" rx=\"60\" ry=\"40\" stroke=\"#000000\"/><g transform=\"translate(490.5,33.5)\"><switch><foreignObject height=\"12\" pointer-events=\"all\" requiredFeatures=\"http://www.w3.org/TR/SVG11/feature#Extensibility\" style=\"overflow:visible;\" width=\"78\"><div style=\"display: inline-block; font-size: 12px; font-family: Helvetica; color: rgb(0, 0, 0); line-height: 1.2; vertical-align: top; width: 78px; white-space: nowrap; overflow-wrap: normal; text-align: center;\" xmlns=\"http://www.w3.org/1999/xhtml\"><div style=\"display:inline-block;text-align:inherit;text-decoration:inherit;\" xmlns=\"http://www.w3.org/1999/xhtml\">1 single match</div></div></foreignObject><text fill=\"#000000\" font-family=\"Helvetica\" font-size=\"12px\" text-anchor=\"middle\" x=\"39\" y=\"12\">1 single match</text></switch></g><path d=\"M 454.6 236.76 L 504.54 266.72\" fill=\"none\" pointer-events=\"none\" stroke=\"#000000\" stroke-miterlimit=\"10\"/><path d=\"M 509.04 269.42 L 501.24 268.82 L 504.54 266.72 L 504.84 262.82 Z\" fill=\"#000000\" pointer-events=\"none\" stroke=\"#000000\" stroke-miterlimit=\"10\"/><ellipse cx=\"410\" cy=\"210\" fill=\"#ffffff\" pointer-events=\"none\" rx=\"60\" ry=\"40\" stroke=\"#000000\"/><g transform=\"translate(384.5,203.5)\"><switch><foreignObject height=\"12\" pointer-events=\"all\" requiredFeatures=\"http://www.w3.org/TR/SVG11/feature#Extensibility\" style=\"overflow:visible;\" width=\"50\"><div style=\"display: inline-block; font-size: 12px; font-family: Helvetica; color: rgb(0, 0, 0); line-height: 1.2; vertical-align: top; width: 51px; white-space: nowrap; overflow-wrap: normal; text-align: center;\" xmlns=\"http://www.w3.org/1999/xhtml\"><div style=\"display:inline-block;text-align:inherit;text-decoration:inherit;\" xmlns=\"http://www.w3.org/1999/xhtml\">&gt;1 match</div></div></foreignObject><text fill=\"#000000\" font-family=\"Helvetica\" font-size=\"12px\" text-anchor=\"middle\" x=\"25\" y=\"12\">&amp;gt;1 match</text></switch></g><path d=\"M 543.28 276.72 L 645.5 174.5\" fill=\"none\" pointer-events=\"none\" stroke=\"#000000\" stroke-miterlimit=\"10\"/><path d=\"M 649.21 170.79 L 646.73 178.22 L 645.5 174.5 L 641.78 173.27 Z\" fill=\"#000000\" pointer-events=\"none\" stroke=\"#000000\" stroke-miterlimit=\"10\"/><path d=\"M 569.83 307.01 L 703.64 300.32\" fill=\"none\" pointer-events=\"none\" stroke=\"#000000\" stroke-miterlimit=\"10\"/><path d=\"M 708.88 300.06 L 702.07 303.9 L 703.64 300.32 L 701.72 296.91 Z\" fill=\"#000000\" pointer-events=\"none\" stroke=\"#000000\" stroke-miterlimit=\"10\"/><ellipse cx=\"510\" cy=\"310\" fill=\"#ffffff\" pointer-events=\"none\" rx=\"60\" ry=\"40\" stroke=\"#000000\"/><g transform=\"translate(451.5,289.5)\"><switch><foreignObject height=\"40\" pointer-events=\"all\" requiredFeatures=\"http://www.w3.org/TR/SVG11/feature#Extensibility\" style=\"overflow:visible;\" width=\"116\"><div style=\"display: inline-block; font-size: 12px; font-family: Helvetica; color: rgb(0, 0, 0); line-height: 1.2; vertical-align: top; width: 116px; white-space: normal; overflow-wrap: normal; text-align: center;\" xmlns=\"http://www.w3.org/1999/xhtml\"><div style=\"display:inline-block;text-align:inherit;text-decoration:inherit;\" xmlns=\"http://www.w3.org/1999/xhtml\">Take the match which has the min number of words</div></div></foreignObject><text fill=\"#000000\" font-family=\"Helvetica\" font-size=\"12px\" text-anchor=\"middle\" x=\"58\" y=\"26\">Take the match which has the min number of words</text></switch></g><rect fill=\"#97d077\" height=\"80\" pointer-events=\"none\" stroke=\"#97d077\" width=\"80\" x=\"650\" y=\"40\"/><g transform=\"translate(673.5,73.5)\"><switch><foreignObject height=\"12\" pointer-events=\"all\" requiredFeatures=\"http://www.w3.org/TR/SVG11/feature#Extensibility\" style=\"overflow:visible;\" width=\"32\"><div style=\"display: inline-block; font-size: 12px; font-family: Helvetica; color: rgb(0, 0, 0); line-height: 1.2; vertical-align: top; width: 32px; white-space: nowrap; overflow-wrap: normal; text-align: center;\" xmlns=\"http://www.w3.org/1999/xhtml\"><div style=\"display:inline-block;text-align:inherit;text-decoration:inherit;\" xmlns=\"http://www.w3.org/1999/xhtml\">return</div></div></foreignObject><text fill=\"#000000\" font-family=\"Helvetica\" font-size=\"12px\" text-anchor=\"middle\" x=\"16\" y=\"12\">return</text></switch></g><path d=\"M 220 620 L 220 620\" fill=\"none\" pointer-events=\"none\" stroke=\"#000000\" stroke-miterlimit=\"10\"/><path d=\"M 220 620 L 220 620 L 220 620 L 220 620 Z\" fill=\"#000000\" pointer-events=\"none\" stroke=\"#000000\" stroke-miterlimit=\"10\"/><path d=\"M 667.05 171.65 L 687.41 125.82\" fill=\"none\" pointer-events=\"none\" stroke=\"#000000\" stroke-miterlimit=\"10\"/><path d=\"M 689.55 121.02 L 689.9 128.84 L 687.41 125.82 L 683.5 126 Z\" fill=\"#000000\" pointer-events=\"none\" stroke=\"#000000\" stroke-miterlimit=\"10\"/><ellipse cx=\"650\" cy=\"210\" fill=\"#ffffff\" pointer-events=\"none\" rx=\"60\" ry=\"40\" stroke=\"#000000\"/><g transform=\"translate(610.5,203.5)\"><switch><foreignObject height=\"12\" pointer-events=\"all\" requiredFeatures=\"http://www.w3.org/TR/SVG11/feature#Extensibility\" style=\"overflow:visible;\" width=\"78\"><div style=\"display: inline-block; font-size: 12px; font-family: Helvetica; color: rgb(0, 0, 0); line-height: 1.2; vertical-align: top; width: 78px; white-space: nowrap; overflow-wrap: normal; text-align: center;\" xmlns=\"http://www.w3.org/1999/xhtml\"><div style=\"display:inline-block;text-align:inherit;text-decoration:inherit;\" xmlns=\"http://www.w3.org/1999/xhtml\">1 single match</div></div></foreignObject><text fill=\"#000000\" font-family=\"Helvetica\" font-size=\"12px\" text-anchor=\"middle\" x=\"39\" y=\"12\">1 single match</text></switch></g><path d=\"M 689.57 409.86 L 689.57 409.86\" fill=\"none\" pointer-events=\"none\" stroke=\"#000000\" stroke-miterlimit=\"10\"/><path d=\"M 689.57 409.86 L 689.57 409.86 L 689.57 409.86 L 689.57 409.86 Z\" fill=\"#000000\" pointer-events=\"none\" stroke=\"#000000\" stroke-miterlimit=\"10\"/><path d=\"M 713.51 300.07 L 728.44 130.34\" fill=\"none\" pointer-events=\"none\" stroke=\"#000000\" stroke-miterlimit=\"10\"/><path d=\"M 728.9 125.11 L 731.78 132.39 L 728.44 130.34 L 724.8 131.78 Z\" fill=\"#000000\" pointer-events=\"none\" stroke=\"#000000\" stroke-miterlimit=\"10\"/><ellipse cx=\"710\" cy=\"340\" fill=\"#ffffff\" pointer-events=\"none\" rx=\"60\" ry=\"40\" stroke=\"#000000\"/><g transform=\"translate(651.5,319.5)\"><switch><foreignObject height=\"40\" pointer-events=\"all\" requiredFeatures=\"http://www.w3.org/TR/SVG11/feature#Extensibility\" style=\"overflow:visible;\" width=\"116\"><div style=\"display: inline-block; font-size: 12px; font-family: Helvetica; color: rgb(0, 0, 0); line-height: 1.2; vertical-align: top; width: 116px; white-space: normal; overflow-wrap: normal; text-align: center;\" xmlns=\"http://www.w3.org/1999/xhtml\"><div style=\"display:inline-block;text-align:inherit;text-decoration:inherit;\" xmlns=\"http://www.w3.org/1999/xhtml\"><span>Take the one with the least important extra words</span></div></div></foreignObject><text fill=\"#000000\" font-family=\"Helvetica\" font-size=\"12px\" text-anchor=\"middle\" x=\"58\" y=\"26\">[Not supported by viewer]</text></switch></g><g transform=\"translate(151.5,62.5)\"><switch><foreignObject height=\"12\" pointer-events=\"all\" requiredFeatures=\"http://www.w3.org/TR/SVG11/feature#Extensibility\" style=\"overflow:visible;\" width=\"65\"><div style=\"display: inline-block; font-size: 12px; font-family: Helvetica; color: rgb(51, 153, 255); line-height: 1.2; vertical-align: top; white-space: nowrap;\" xmlns=\"http://www.w3.org/1999/xhtml\"><div style=\"display:inline-block;text-align:inherit;text-decoration:inherit;\" xmlns=\"http://www.w3.org/1999/xhtml\">Getmatches</div></div></foreignObject><text fill=\"#3399FF\" font-family=\"Helvetica\" font-size=\"12px\" text-anchor=\"middle\" x=\"33\" y=\"12\">Getmatches</text></switch></g></g></svg>"
      ],
      "text/plain": [
       "<IPython.core.display.SVG object>"
      ]
     },
     "execution_count": 27,
     "metadata": {},
     "output_type": "execute_result"
    }
   ],
   "source": [
    "SVG(filename='graphs/Word_importance.svg')"
   ]
  },
  {
   "cell_type": "code",
   "execution_count": 28,
   "metadata": {},
   "outputs": [],
   "source": [
    "DIC_SCORE = construct_dic_score(common_words)"
   ]
  },
  {
   "cell_type": "markdown",
   "metadata": {},
   "source": [
    "## Application of the function"
   ]
  },
  {
   "cell_type": "code",
   "execution_count": 29,
   "metadata": {},
   "outputs": [
    {
     "name": "stdout",
     "output_type": "stream",
     "text": [
      "Number items to match with the other dataset:1635\n"
     ]
    }
   ],
   "source": [
    "print(\"Number items to match with the other dataset:{}\".format(products_sales_df.size))"
   ]
  },
  {
   "cell_type": "code",
   "execution_count": 30,
   "metadata": {},
   "outputs": [
    {
     "name": "stdout",
     "output_type": "stream",
     "text": [
      "0 ['tropical', 'fruit', 'bananas']\n",
      "0 ['milk', 'products']\n",
      "0 ['milk']\n",
      "0 ['milk', 'products']\n",
      "0 ['milk']\n",
      "0 ['milk', 'products']\n",
      "0 ['milk']\n",
      "0 ['milk', 'products']\n",
      "0 ['milk']\n",
      "0 ['eggs', 'large']\n",
      "0 ['corn', 'yellow']\n",
      "0 ['baked', 'bread', 'buns', 'rolls', 'mainstream']\n",
      "0 ['baked', 'bread', 'buns', 'rolls']\n",
      "0 ['baked', 'bread', 'rolls']\n",
      "0 ['baked', 'bread']\n",
      "0 ['breakfast', 'sweets', 'donuts']\n",
      "0 ['breakfast', 'sweets']\n",
      "0 ['breakfast']\n",
      "0 ['peppers', 'green', 'bell']\n",
      "0 ['soft', 'drinks', 'car']\n",
      "0 ['soft', 'drinks']\n",
      "0 ['baked', 'bread', 'buns', 'rolls', 'mainstream']\n",
      "0 ['baked', 'bread', 'buns', 'rolls']\n",
      "0 ['baked', 'bread', 'rolls']\n",
      "0 ['baked', 'bread']\n",
      "0 ['vegetables', 'others', 'cucumbers']\n",
      "0 ['vegetables', 'cucumbers']\n",
      "0 ['vegetables']\n",
      "0 ['berries', 'strawberries']\n",
      "0 ['milk', 'products', 'chocolate']\n",
      "0 ['milk', 'chocolate']\n",
      "0 ['chicken', 'breast', 'boneless']\n",
      "0 ['baked', 'bread', 'buns', 'rolls', 'hamburger']\n",
      "0 ['baked', 'bread', 'rolls', 'hamburger']\n",
      "0 ['baked', 'bread', 'hamburger']\n",
      "0 ['baked', 'bread']\n",
      "0 ['milk', 'products']\n",
      "0 ['milk']\n",
      "0 ['baked', 'bread', 'buns', 'rolls', 'hot', 'dog']\n",
      "0 ['baked', 'bread', 'rolls', 'hot', 'dog']\n",
      "0 ['baked', 'bread', 'hot', 'dog']\n",
      "0 ['baked', 'bread', 'hot']\n",
      "0 ['baked', 'bread']\n",
      "0 ['milk', 'products']\n",
      "0 ['milk']\n",
      "0 ['citrus', 'oranges', 'navels']\n",
      "0 ['citrus', 'navels']\n",
      "0 ['citrus']\n",
      "0 ['eggs', 'large']\n",
      "0 ['beef', 'lean']\n",
      "0 ['eggs', 'large']\n",
      "0 ['baked', 'bread', 'buns', 'rolls', 'mainstream', 'wheat', 'multigrain']\n",
      "0 ['baked', 'bread', 'buns', 'rolls', 'wheat', 'multigrain']\n",
      "0 ['baked', 'bread', 'buns', 'rolls', 'wheat']\n",
      "0 ['baked', 'bread', 'rolls', 'wheat']\n",
      "0 ['baked', 'bread', 'wheat']\n",
      "0 ['milk', 'products']\n",
      "0 ['milk']\n",
      "0 ['beef', 'primal']\n",
      "0 ['carrots', 'mini', 'peeled']\n",
      "0 ['vegetables', 'salad', 'head', 'lettuce']\n",
      "0 ['salad', 'head', 'lettuce']\n",
      "0 ['salad', 'lettuce']\n",
      "0 ['soft', 'drinks', 'soft', 'drnk', 'liter', 'carb', 'incl']\n",
      "0 ['soft', 'drinks', 'soft', 'liter', 'carb', 'incl']\n",
      "0 ['soft', 'drinks', 'soft', 'liter', 'carb']\n",
      "0 ['soft', 'drinks', 'soft', 'carb']\n",
      "0 ['soft', 'drinks', 'soft']\n",
      "32.49213719367981\n"
     ]
    }
   ],
   "source": [
    "#full df\n",
    "#from IPython.core.debugger import set_trace\n",
    "\n",
    "temp_df = products_sales_df.head(30).copy()\n",
    "findfood = lambda list_words: find_food(list_words,food_df,DIC_SCORE)\n",
    "start = time.time()\n",
    "temp_df[\"ref_fdc_id\"] = temp_df.ingredients.apply(findfood).fdc_id\n",
    "stop = time.time()\n",
    "print(stop-start)\n",
    "#Problem: takes more than 45 min and error: has no attribute get indexer\n",
    "#27.119338274002075s for size 20"
   ]
  },
  {
   "cell_type": "code",
   "execution_count": 31,
   "metadata": {},
   "outputs": [],
   "source": [
    "# params pour l'erreur trouvés avc debug\n",
    "#columns = ['match', 'fdc_id']\n",
    "#indexer = [0,1]\n",
    "#index.get_indexer(columns) #ligne problématique, dans core de pandas"
   ]
  },
  {
   "cell_type": "code",
   "execution_count": 32,
   "metadata": {},
   "outputs": [
    {
     "data": {
      "text/html": [
       "<div>\n",
       "<style scoped>\n",
       "    .dataframe tbody tr th:only-of-type {\n",
       "        vertical-align: middle;\n",
       "    }\n",
       "\n",
       "    .dataframe tbody tr th {\n",
       "        vertical-align: top;\n",
       "    }\n",
       "\n",
       "    .dataframe thead th {\n",
       "        text-align: right;\n",
       "    }\n",
       "</style>\n",
       "<table border=\"1\" class=\"dataframe\">\n",
       "  <thead>\n",
       "    <tr style=\"text-align: right;\">\n",
       "      <th></th>\n",
       "      <th>PRODUCT_ID</th>\n",
       "      <th>MANUFACTURER</th>\n",
       "      <th>CURR_SIZE_OF_PRODUCT</th>\n",
       "      <th>QUANTITY</th>\n",
       "      <th>ingredients</th>\n",
       "      <th>ref_fdc_id</th>\n",
       "    </tr>\n",
       "  </thead>\n",
       "  <tbody>\n",
       "    <tr>\n",
       "      <td>35576</td>\n",
       "      <td>1082185</td>\n",
       "      <td>2</td>\n",
       "      <td>40 LB</td>\n",
       "      <td>30896</td>\n",
       "      <td>[tropical, fruit, bananas]</td>\n",
       "      <td>368364</td>\n",
       "    </tr>\n",
       "    <tr>\n",
       "      <td>25754</td>\n",
       "      <td>995242</td>\n",
       "      <td>69</td>\n",
       "      <td></td>\n",
       "      <td>21758</td>\n",
       "      <td>[milk, products]</td>\n",
       "      <td>413289</td>\n",
       "    </tr>\n",
       "    <tr>\n",
       "      <td>29657</td>\n",
       "      <td>1029743</td>\n",
       "      <td>69</td>\n",
       "      <td>1 GA</td>\n",
       "      <td>16976</td>\n",
       "      <td>[milk, products]</td>\n",
       "      <td>413289</td>\n",
       "    </tr>\n",
       "    <tr>\n",
       "      <td>41175</td>\n",
       "      <td>1133018</td>\n",
       "      <td>69</td>\n",
       "      <td></td>\n",
       "      <td>12318</td>\n",
       "      <td>[milk, products]</td>\n",
       "      <td>413289</td>\n",
       "    </tr>\n",
       "    <tr>\n",
       "      <td>38262</td>\n",
       "      <td>1106523</td>\n",
       "      <td>69</td>\n",
       "      <td>1 GA</td>\n",
       "      <td>11500</td>\n",
       "      <td>[milk, products]</td>\n",
       "      <td>413289</td>\n",
       "    </tr>\n",
       "  </tbody>\n",
       "</table>\n",
       "</div>"
      ],
      "text/plain": [
       "       PRODUCT_ID  MANUFACTURER CURR_SIZE_OF_PRODUCT  QUANTITY  \\\n",
       "35576     1082185             2                40 LB     30896   \n",
       "25754      995242            69                          21758   \n",
       "29657     1029743            69                 1 GA     16976   \n",
       "41175     1133018            69                          12318   \n",
       "38262     1106523            69                 1 GA     11500   \n",
       "\n",
       "                      ingredients  ref_fdc_id  \n",
       "35576  [tropical, fruit, bananas]      368364  \n",
       "25754            [milk, products]      413289  \n",
       "29657            [milk, products]      413289  \n",
       "41175            [milk, products]      413289  \n",
       "38262            [milk, products]      413289  "
      ]
     },
     "execution_count": 32,
     "metadata": {},
     "output_type": "execute_result"
    }
   ],
   "source": [
    "temp_df.head()"
   ]
  },
  {
   "cell_type": "code",
   "execution_count": 33,
   "metadata": {},
   "outputs": [],
   "source": [
    "all_information_df.drop([\"data_type\", \"description\", \"category\"], axis=1, inplace=True)"
   ]
  },
  {
   "cell_type": "code",
   "execution_count": 34,
   "metadata": {},
   "outputs": [],
   "source": [
    "all_df = temp_df.merge(all_information_df,how=\"left\",left_on=\"ref_fdc_id\",right_on=\"fdc_id\")\n",
    "all_df.drop([\"MANUFACTURER\",\"ref_fdc_id\",\"fdc_id\"],axis=1,inplace=True)\n",
    "all_df.set_index(\"PRODUCT_ID\",inplace=True)"
   ]
  },
  {
   "cell_type": "code",
   "execution_count": 35,
   "metadata": {},
   "outputs": [],
   "source": [
    "#saves results of this lengthy computation\n",
    "all_df.to_pickle(\"../data/results/products_with_link_to_nutrients_df.pickle\")"
   ]
  },
  {
   "cell_type": "markdown",
   "metadata": {},
   "source": [
    "We have established the link between the dunnhumby supermarket dataset and the food database from the Department of Food and Agriculture which provides the nutrients information. We can now begin our analysis"
   ]
  },
  {
   "cell_type": "markdown",
   "metadata": {},
   "source": [
    "# Analysis"
   ]
  },
  {
   "cell_type": "code",
   "execution_count": 36,
   "metadata": {},
   "outputs": [],
   "source": [
    "#load the pickle file\n",
    "with open(r\"../data/results/products_with_link_to_nutrients_df.pickle\", \"rb\") as input_file:\n",
    "    linked_df = pickle.load(input_file)"
   ]
  },
  {
   "cell_type": "code",
   "execution_count": 37,
   "metadata": {},
   "outputs": [],
   "source": [
    "def calculate_nutrient_per_day_per_person(key1,nutrient):\n",
    "    \"\"\"\n",
    "    key = household key\n",
    "    nutrient = nutrient for which we want to calculate the amount bought\n",
    "    returns the amount of a specified nutrient bought and presumably consumed per day and per person on avergade\n",
    "    in the selected household\n",
    "    \"\"\"\n",
    "    household_transactions_df = transaction_data_df[transaction_data_df.household_key == key1]\n",
    "    \n",
    "    ids_bought_items = household_transactions_df[\"PRODUCT_ID\"]\n",
    "    household_transactions_df[nutrient] = linked_df.loc[ids_bought_items,nutrient].values\n",
    "    \n",
    "    household_transactions_df[nutrient].fillna(value=0)\n",
    "    \n",
    "    time_interval = household_transactions_df[\"DAY\"].max() - household_transactions_df[\"DAY\"].min() + 1\n",
    "    nutrient_per_household = household_transactions_df[nutrient].sum() / time_interval\n",
    "    household_demographics = hh_demographic_df[hh_demographic_df.household_key == key1]\n",
    "    nutrient_per_person = nutrient_per_household / household_demographics[\"HOUSEHOLD_SIZE_DESC\"]\n",
    "    return nutrient_per_person\n",
    "\n",
    "def parse_sex_homeowner(key):\n",
    "    str1 = hh_demographic_df[hh_demographic_df.household_key == key][\"HH_COMP_DESC\"].values[0]\n",
    "    str1 = str1.lower()\n",
    "    if str1.contains(\"female\"):\n",
    "            return \"f\"\n",
    "    elif str1.contains(\"male\"):\n",
    "            return \"m\"\n",
    "    else:\n",
    "            return \"unknown\"\n",
    "    \n",
    "#TO DO\n",
    "#caloric needs adult = 2000 kcal , kid = 1000 kcal -> take it into account"
   ]
  },
  {
   "cell_type": "code",
   "execution_count": 38,
   "metadata": {},
   "outputs": [
    {
     "data": {
      "text/plain": [
       "62.0"
      ]
     },
     "execution_count": 38,
     "metadata": {},
     "output_type": "execute_result"
    }
   ],
   "source": [
    "#It is now convenient to find the amount of a certain nutrient in a given product using it's id\n",
    "linked_df.loc[995242,\"energy\"]"
   ]
  },
  {
   "cell_type": "markdown",
   "metadata": {},
   "source": [
    "### There is only test code from this point on, nothing to keep"
   ]
  },
  {
   "cell_type": "code",
   "execution_count": 44,
   "metadata": {},
   "outputs": [
    {
     "name": "stderr",
     "output_type": "stream",
     "text": [
      "/opt/anaconda3/lib/python3.7/site-packages/ipykernel_launcher.py:11: SettingWithCopyWarning: \n",
      "A value is trying to be set on a copy of a slice from a DataFrame.\n",
      "Try using .loc[row_indexer,col_indexer] = value instead\n",
      "\n",
      "See the caveats in the documentation: http://pandas.pydata.org/pandas-docs/stable/user_guide/indexing.html#returning-a-view-versus-a-copy\n",
      "  # This is added back by InteractiveShellApp.init_path()\n"
     ]
    },
    {
     "data": {
      "text/plain": [
       "Series([], Name: HOUSEHOLD_SIZE_DESC, dtype: object)"
      ]
     },
     "execution_count": 44,
     "metadata": {},
     "output_type": "execute_result"
    }
   ],
   "source": [
    "#doesn't work because the information fdc_id is still missing\n",
    "calculate_nutrient_per_day_per_person(255,\"energy\")"
   ]
  },
  {
   "cell_type": "code",
   "execution_count": 45,
   "metadata": {},
   "outputs": [
    {
     "name": "stdout",
     "output_type": "stream",
     "text": [
      "0 ['seafood', 'shelf', 'stable', 'tuna']\n",
      "0 ['seafood', 'stable', 'tuna']\n",
      "0 ['seafood', 'tuna']\n",
      "0 ['tuna']\n"
     ]
    },
    {
     "data": {
      "text/plain": [
       "match     Fish, tuna salad\n",
       "fdc_id              175160\n",
       "Name: 23, dtype: object"
      ]
     },
     "execution_count": 45,
     "metadata": {},
     "output_type": "execute_result"
    }
   ],
   "source": [
    "test0 = ['duck','creamy','swiss','miss','pudding','24','oz']\n",
    "test1 = [\"penguin\",\"afdadf\"]\n",
    "test2 = [\"peanuts\",\"orange\",\"crisp\"]\n",
    "test3 = [\"sandwich\",\"lettuce\",\"cheese\"]\n",
    "test4 = [\"indian\",\"lamb\",\"josh\"]\n",
    "test5 = ['vanilla','creamy','swiss','miss','pudding','24','oz']\n",
    "test6 = ['libbys']\n",
    "test7 = [\"hispanic\", \"oriental\", \"noodles\",\" rice\"]\n",
    "test8 = [\"vegetables\", \"others\"]\n",
    "test9 = [\"frozen\", \"ice\", \"cream\", \"bars\"]\n",
    "test10 =[\"wolf\", \"chili\", \"without\", \"beans\"]\n",
    "test11 = [\"tropical\", \"fruit\", \"bananas\"]\n",
    "test12 = ['vegetables', 'green', 'cut']\n",
    "test13 = ['vegetables', 'shelf', 'stable', 'beans', 'green', 'fs', 'whl', 'cut']\n",
    "test14 = [\"seafood\", \"shelf\",\"stable\", \"tuna\"]\n",
    "find_food(test14, food_df, DIC_SCORE, verb = False)"
   ]
  },
  {
   "cell_type": "code",
   "execution_count": null,
   "metadata": {},
   "outputs": [],
   "source": []
  }
 ],
 "metadata": {
  "kernelspec": {
   "display_name": "Python 3",
   "language": "python",
   "name": "python3"
  },
  "language_info": {
   "codemirror_mode": {
    "name": "ipython",
    "version": 3
   },
   "file_extension": ".py",
   "mimetype": "text/x-python",
   "name": "python",
   "nbconvert_exporter": "python",
   "pygments_lexer": "ipython3",
   "version": "3.7.4"
  }
 },
 "nbformat": 4,
 "nbformat_minor": 4
}
