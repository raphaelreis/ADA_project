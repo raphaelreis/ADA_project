{
 "cells": [
  {
   "cell_type": "markdown",
   "metadata": {},
   "source": [
    "# Nutrition Datas: Extracting trends from our customers"
   ]
  },
  {
   "cell_type": "markdown",
   "metadata": {},
   "source": [
    "<div class=\"alert alert-block alert-info\">\n",
    "Now we are done with scrapping nutrition values, we want to build the actual nutrition profile: in order to do so, we first need to first extract the mass of each article, in order to assess the total sold mass.\n",
    "</div>"
   ]
  },
  {
   "cell_type": "code",
   "execution_count": 1,
   "metadata": {},
   "outputs": [],
   "source": [
    "from __future__ import print_function\n",
    "\n",
    "%matplotlib inline\n",
    "import re\n",
    "import os\n",
    "import numpy as np\n",
    "import pandas as pd\n",
    "import seaborn as sns\n",
    "from requests import get\n",
    "from bs4 import BeautifulSoup\n",
    "import matplotlib.pyplot as plt\n",
    "import pickle\n",
    "from scipy import stats\n",
    "from matplotlib.ticker import MaxNLocator\n",
    "import re\n",
    "from ipywidgets import interact, interactive, fixed, interact_manual\n",
    "import ipywidgets as widgets\n",
    "import pickle\n",
    "import sys\n",
    "sys.path.insert(1, './utilities/')\n",
    "import weight_functions as wf \n",
    "from tabulate import tabulate\n",
    "from matplotlib.patches import Rectangle\n",
    "from sklearn.decomposition import PCA\n",
    "from sklearn.preprocessing import StandardScaler\n"
   ]
  },
  {
   "cell_type": "code",
   "execution_count": 2,
   "metadata": {},
   "outputs": [],
   "source": [
    "product_df = pd.read_csv('../data/dunnhumby_data/product.csv')\n",
    "transaction_data_df = pd.read_csv('../data/dunnhumby_data/transaction_data.csv')\n"
   ]
  },
  {
   "cell_type": "markdown",
   "metadata": {},
   "source": [
    "## Limiting our dataset"
   ]
  },
  {
   "cell_type": "code",
   "execution_count": 3,
   "metadata": {},
   "outputs": [],
   "source": [
    "food_related_arr = np.array(['NUTRITION','GROCERY','PASTRY','MEAT-PCKGD','SEAFOOD-PCKGD','PRODUCE','DELI','MEAT','SALAD BAR','GRO BAKERY','FROZEN GROCERY','SPIRITS','RESTAURANT'])\n",
    "#products related to food only\n",
    "food_product_df = product_df.loc[(product_df['DEPARTMENT'].isin(food_related_arr))]\n",
    "food_product_df = food_product_df[~food_product_df.COMMODITY_DESC.isin(['PAPER TOWELS','BATH TISSUES','LAUNDRY DETERGENTS','FD WRAPS/BAGS/TRSH BG']) ]\n",
    "\n",
    "#transaction dataset related to food only\n",
    "food_transaction_data = transaction_data_df.merge(food_product_df,how = 'inner',on = 'PRODUCT_ID')\n",
    "food_transaction_data['dunn_name'] = food_transaction_data['COMMODITY_DESC'] + \" \" + food_transaction_data['SUB_COMMODITY_DESC']\n",
    "food_transaction_data = food_transaction_data.drop(columns = ['COMMODITY_DESC','SUB_COMMODITY_DESC'])[['household_key','BASKET_ID','PRODUCT_ID','QUANTITY','CURR_SIZE_OF_PRODUCT','dunn_name']]"
   ]
  },
  {
   "cell_type": "code",
   "execution_count": 4,
   "metadata": {},
   "outputs": [
    {
     "data": {
      "text/html": [
       "<div>\n",
       "<style scoped>\n",
       "    .dataframe tbody tr th:only-of-type {\n",
       "        vertical-align: middle;\n",
       "    }\n",
       "\n",
       "    .dataframe tbody tr th {\n",
       "        vertical-align: top;\n",
       "    }\n",
       "\n",
       "    .dataframe thead th {\n",
       "        text-align: right;\n",
       "    }\n",
       "</style>\n",
       "<table border=\"1\" class=\"dataframe\">\n",
       "  <thead>\n",
       "    <tr style=\"text-align: right;\">\n",
       "      <th></th>\n",
       "      <th>PRODUCT_ID</th>\n",
       "      <th>MANUFACTURER</th>\n",
       "      <th>DEPARTMENT</th>\n",
       "      <th>BRAND</th>\n",
       "      <th>COMMODITY_DESC</th>\n",
       "      <th>SUB_COMMODITY_DESC</th>\n",
       "      <th>CURR_SIZE_OF_PRODUCT</th>\n",
       "    </tr>\n",
       "  </thead>\n",
       "  <tbody>\n",
       "    <tr>\n",
       "      <td>168</td>\n",
       "      <td>32160</td>\n",
       "      <td>69</td>\n",
       "      <td>GROCERY</td>\n",
       "      <td>Private</td>\n",
       "      <td>WATER - CARBONATED/FLVRD DRINK</td>\n",
       "      <td>NON-CRBNTD DRNKING/MNERAL WATE</td>\n",
       "      <td>2.50 GA</td>\n",
       "    </tr>\n",
       "    <tr>\n",
       "      <td>304</td>\n",
       "      <td>35895</td>\n",
       "      <td>1208</td>\n",
       "      <td>GROCERY</td>\n",
       "      <td>National</td>\n",
       "      <td>WATER - CARBONATED/FLVRD DRINK</td>\n",
       "      <td>NON-CRBNTD DRNKING/MNERAL WATE</td>\n",
       "      <td>33.8 OZ</td>\n",
       "    </tr>\n",
       "    <tr>\n",
       "      <td>390</td>\n",
       "      <td>39839</td>\n",
       "      <td>69</td>\n",
       "      <td>GROCERY</td>\n",
       "      <td>Private</td>\n",
       "      <td>WATER - CARBONATED/FLVRD DRINK</td>\n",
       "      <td>NON-CRBNTD DRNKING/MNERAL WATE</td>\n",
       "      <td>1 GA</td>\n",
       "    </tr>\n",
       "    <tr>\n",
       "      <td>1568</td>\n",
       "      <td>84208</td>\n",
       "      <td>1208</td>\n",
       "      <td>GROCERY</td>\n",
       "      <td>National</td>\n",
       "      <td>WATER - CARBONATED/FLVRD DRINK</td>\n",
       "      <td>NON-CRBNTD DRNKING/MNERAL WATE</td>\n",
       "      <td>20 OZ</td>\n",
       "    </tr>\n",
       "    <tr>\n",
       "      <td>1972</td>\n",
       "      <td>100389</td>\n",
       "      <td>1208</td>\n",
       "      <td>GROCERY</td>\n",
       "      <td>National</td>\n",
       "      <td>WATER - CARBONATED/FLVRD DRINK</td>\n",
       "      <td>NON-CRBNTD DRNKING/MNERAL WATE</td>\n",
       "      <td>.5 LTR</td>\n",
       "    </tr>\n",
       "    <tr>\n",
       "      <td>...</td>\n",
       "      <td>...</td>\n",
       "      <td>...</td>\n",
       "      <td>...</td>\n",
       "      <td>...</td>\n",
       "      <td>...</td>\n",
       "      <td>...</td>\n",
       "      <td>...</td>\n",
       "    </tr>\n",
       "    <tr>\n",
       "      <td>70111</td>\n",
       "      <td>9837404</td>\n",
       "      <td>103</td>\n",
       "      <td>GROCERY</td>\n",
       "      <td>National</td>\n",
       "      <td>WATER - CARBONATED/FLVRD DRINK</td>\n",
       "      <td>NON-CRBNTD DRNKING/MNERAL WATE</td>\n",
       "      <td>144 OZ</td>\n",
       "    </tr>\n",
       "    <tr>\n",
       "      <td>71219</td>\n",
       "      <td>9993322</td>\n",
       "      <td>69</td>\n",
       "      <td>GROCERY</td>\n",
       "      <td>Private</td>\n",
       "      <td>WATER - CARBONATED/FLVRD DRINK</td>\n",
       "      <td>NON-CRBNTD DRNKING/MNERAL WATE</td>\n",
       "      <td>2416.9 OZ</td>\n",
       "    </tr>\n",
       "    <tr>\n",
       "      <td>72524</td>\n",
       "      <td>10256703</td>\n",
       "      <td>6231</td>\n",
       "      <td>GROCERY</td>\n",
       "      <td>National</td>\n",
       "      <td>WATER - CARBONATED/FLVRD DRINK</td>\n",
       "      <td>NON-CRBNTD DRNKING/MNERAL WATE</td>\n",
       "      <td>5 GL</td>\n",
       "    </tr>\n",
       "    <tr>\n",
       "      <td>81320</td>\n",
       "      <td>13115723</td>\n",
       "      <td>103</td>\n",
       "      <td>GROCERY</td>\n",
       "      <td>National</td>\n",
       "      <td>WATER - CARBONATED/FLVRD DRINK</td>\n",
       "      <td>NON-CRBNTD DRNKING/MNERAL WATE</td>\n",
       "      <td>20 OZ</td>\n",
       "    </tr>\n",
       "    <tr>\n",
       "      <td>81369</td>\n",
       "      <td>13115873</td>\n",
       "      <td>103</td>\n",
       "      <td>GROCERY</td>\n",
       "      <td>National</td>\n",
       "      <td>WATER - CARBONATED/FLVRD DRINK</td>\n",
       "      <td>NON-CRBNTD DRNKING/MNERAL WATE</td>\n",
       "      <td>101.4 OZ</td>\n",
       "    </tr>\n",
       "  </tbody>\n",
       "</table>\n",
       "<p>113 rows × 7 columns</p>\n",
       "</div>"
      ],
      "text/plain": [
       "       PRODUCT_ID  MANUFACTURER DEPARTMENT     BRAND  \\\n",
       "168         32160            69    GROCERY   Private   \n",
       "304         35895          1208    GROCERY  National   \n",
       "390         39839            69    GROCERY   Private   \n",
       "1568        84208          1208    GROCERY  National   \n",
       "1972       100389          1208    GROCERY  National   \n",
       "...           ...           ...        ...       ...   \n",
       "70111     9837404           103    GROCERY  National   \n",
       "71219     9993322            69    GROCERY   Private   \n",
       "72524    10256703          6231    GROCERY  National   \n",
       "81320    13115723           103    GROCERY  National   \n",
       "81369    13115873           103    GROCERY  National   \n",
       "\n",
       "                       COMMODITY_DESC              SUB_COMMODITY_DESC  \\\n",
       "168    WATER - CARBONATED/FLVRD DRINK  NON-CRBNTD DRNKING/MNERAL WATE   \n",
       "304    WATER - CARBONATED/FLVRD DRINK  NON-CRBNTD DRNKING/MNERAL WATE   \n",
       "390    WATER - CARBONATED/FLVRD DRINK  NON-CRBNTD DRNKING/MNERAL WATE   \n",
       "1568   WATER - CARBONATED/FLVRD DRINK  NON-CRBNTD DRNKING/MNERAL WATE   \n",
       "1972   WATER - CARBONATED/FLVRD DRINK  NON-CRBNTD DRNKING/MNERAL WATE   \n",
       "...                               ...                             ...   \n",
       "70111  WATER - CARBONATED/FLVRD DRINK  NON-CRBNTD DRNKING/MNERAL WATE   \n",
       "71219  WATER - CARBONATED/FLVRD DRINK  NON-CRBNTD DRNKING/MNERAL WATE   \n",
       "72524  WATER - CARBONATED/FLVRD DRINK  NON-CRBNTD DRNKING/MNERAL WATE   \n",
       "81320  WATER - CARBONATED/FLVRD DRINK  NON-CRBNTD DRNKING/MNERAL WATE   \n",
       "81369  WATER - CARBONATED/FLVRD DRINK  NON-CRBNTD DRNKING/MNERAL WATE   \n",
       "\n",
       "      CURR_SIZE_OF_PRODUCT  \n",
       "168                2.50 GA  \n",
       "304                33.8 OZ  \n",
       "390                   1 GA  \n",
       "1568                 20 OZ  \n",
       "1972                .5 LTR  \n",
       "...                    ...  \n",
       "70111               144 OZ  \n",
       "71219            2416.9 OZ  \n",
       "72524                 5 GL  \n",
       "81320                20 OZ  \n",
       "81369             101.4 OZ  \n",
       "\n",
       "[113 rows x 7 columns]"
      ]
     },
     "execution_count": 4,
     "metadata": {},
     "output_type": "execute_result"
    }
   ],
   "source": [
    "food_product_df[food_product_df.SUB_COMMODITY_DESC.str.contains('NON-CRBNTD DRNK')]"
   ]
  },
  {
   "cell_type": "markdown",
   "metadata": {},
   "source": [
    "<div class=\"alert alert-block alert-info\">    \n",
    "Ideally one want to have an idea of which items are consumed the most in terms of mass, unfortunately, the mass section presents a lot of different units which are not easily parsable.\n",
    "</div>"
   ]
  },
  {
   "cell_type": "code",
   "execution_count": 5,
   "metadata": {},
   "outputs": [
    {
     "data": {
      "text/plain": [
       "array(['3 OZ/10 QT', '200 CT', '8 PK/12 OZ', '2.55 OZ', '1 PINT',\n",
       "       '.22 OZ', '4PK/3CC', '120CT/2PLY', '16.50 OZ', '4/10 OZ', '2.4 OZ',\n",
       "       '8       OZ', '5.04 OZ', '12 3/8 OZ', '18.9 OZ', 'L     8 OZ',\n",
       "       '1.64 OZ', '6 USE', '30.6 OZ', '2 CT/1 OZ', '25.85 OZ', '4.76 OZ',\n",
       "       '3-3 OZ', '6.6 OZ', '.5 LTR', '4.50 OZ', '12PK/300OZ',\n",
       "       'P     2 OZ', '16.65 OZ', '40 OZ'], dtype=object)"
      ]
     },
     "execution_count": 5,
     "metadata": {},
     "output_type": "execute_result"
    }
   ],
   "source": [
    "#as we can see, there are a lot of different units\n",
    "units = food_transaction_data.CURR_SIZE_OF_PRODUCT.unique()\n",
    "index = np.random.choice(units.shape[0], 30, replace=False)  \n",
    "units[index]"
   ]
  },
  {
   "cell_type": "markdown",
   "metadata": {},
   "source": [
    "## Extracting the weight"
   ]
  },
  {
   "cell_type": "markdown",
   "metadata": {},
   "source": [
    "<div class=\"alert alert-block alert-info\">\n",
    "The goal consists in extracting the weights to numerical values using regexes. Unfortunately, all units cannot be taken into account.\n",
    "</div>"
   ]
  },
  {
   "cell_type": "code",
   "execution_count": 6,
   "metadata": {},
   "outputs": [
    {
     "name": "stdout",
     "output_type": "stream",
     "text": [
      "List of units not treated by the regex: ['60 LOAD' '40 LOAD' '10 INCH' 'LARGE' '1GL' '1 KIT' '34 LD' '4 INCH'\n",
      " '2 PACK' '80 USE' '40 LOADS' '60 LOADS' '6 USE' '3 PACK' '52 LD'\n",
      " '8-9 INCH' '60 GM' '7 IN' '60 LD' '3.5 INCH' '5.5 INCH' '1IN X 18IN'\n",
      " '1IN X 22IN' '5 PIECE' '5 INCH' '120 USE' '3X4 IN' '8 INCH' 'BIN' '9 IN'\n",
      " '90 LOAD' '4.5 INCH' '9 COUNT' '15 INCH' '7 INCH' '6.7 INCH' '1/2 BU BOX'\n",
      " '5/8 X 12IN' '3/8 X 10IN' '1/4 X 4 FT' '24 BUNCHES' '10 IN' '3 DOSE/LRG'\n",
      " '4/6 PACK' 'TALL' '9 INCH' '8-9 IN' '3/8 X 12IN' '3/8 X 8 IN'\n",
      " '1IN X 26IN' '2 PIECE' '1500 CU IN' '3/4 X 18IN' '28 GM' '52 LOAD'\n",
      " '6 COUNT' '3/8 INCH' '12 COUNT' 'MED' '3/4 X 6 FT' '3 POUND' '3/8 X 6 FT'\n",
      " 'GL' '3-4 IN' '4-5IN' '10 COUNT' '100 GRAM' '1.5 LIT' '2 MM' 'REGULAR'\n",
      " '2 INCH' '26 LD' '14 INCH' '20 BAGS' '1 INCH LRG' '4 PACK' '750 CU IN'\n",
      " '12 STICKS' '1 INCH' '24 STRIPS' '45 GRAM' '3 PIECE' '3/4 IN MED'\n",
      " '5 INCHES' '70 LD' '37GRAMS' '3.0 LIT' '6 PC' '3 LIT' 'HD 20FT'\n",
      " '8IN X 14IN' '1IN X 24IN' '1 GL' '12 INCH' '22IN HVY' '1IN X 6 FT'\n",
      " 'ASSORTMENT' '3 1/4 INCH' '2 POUND' '14IN LIGHT' '3/4 X 20IN' '4 USE'\n",
      " '32 LD' '32 LOADS' '32 LOAD' '8.87 INCH' '5.8 X 4 FT' '105 LOADS'\n",
      " '4X6X1IN' 'SM' '3.25 INCH' '400SQ FT' '1 BOX' '120 LD' '5 GL']\n"
     ]
    }
   ],
   "source": [
    "bad_units = food_transaction_data[~food_transaction_data.CURR_SIZE_OF_PRODUCT.str.contains('^.*(?:LB|GA|DZ|OZ|OUNCE|PK|CT|LITER|LT|LTR|ML|QT|PT|PINT|QUART).*$|^\\s?$',regex=True)].CURR_SIZE_OF_PRODUCT.unique()\n",
    "print('List of units not treated by the regex: {}'.format(bad_units))"
   ]
  },
  {
   "cell_type": "markdown",
   "metadata": {},
   "source": [
    "<div class=\"alert alert-block alert-info\">\n",
    "Luckily, the vast majority of our food data gets treated.\n",
    "</div>"
   ]
  },
  {
   "cell_type": "code",
   "execution_count": 7,
   "metadata": {},
   "outputs": [
    {
     "name": "stdout",
     "output_type": "stream",
     "text": [
      "99.86288554965542 % of the data is treated\n"
     ]
    }
   ],
   "source": [
    "food_trans_clean_df = food_transaction_data[food_transaction_data.CURR_SIZE_OF_PRODUCT.str.contains('^.*(?:LB|GA|DZ|OZ|OUNCE|PK|CT|LITER|LT|LTR|ML|QT|PT|PINT|QUART).*$|^\\s?$',regex=True)].copy()\n",
    "print('{} % of the data is treated'.format(food_trans_clean_df.shape[0] / food_transaction_data.shape[0] * 100))"
   ]
  },
  {
   "cell_type": "markdown",
   "metadata": {},
   "source": [
    "<div class=\"alert alert-block alert-info\">\n",
    "The followings are the units we take into account for our data:\n",
    "</div>"
   ]
  },
  {
   "cell_type": "markdown",
   "metadata": {},
   "source": [
    "LB = pounds<br>\n",
    "GA = gallons<br>\n",
    "DZ = dozens (eggs)<br>\n",
    "OZ,OUNCE = ounces<br>\n",
    "PK = pack (0.33 liters)<br>\n",
    "LITER LT = liters<br>\n",
    "ML = milliliters<br>\n",
    "PT = pint (0.473176473 liters)<br>"
   ]
  },
  {
   "cell_type": "markdown",
   "metadata": {},
   "source": [
    "<div class=\"alert alert-block alert-info\">\n",
    "Once again, regexes are used (cf weight_functions.py) in order to parse the weight and convert it into kg. All the liquids were assumed to have water-like density. You can test the tool in the following cell.\n",
    "</div>"
   ]
  },
  {
   "cell_type": "code",
   "execution_count": 8,
   "metadata": {},
   "outputs": [
    {
     "data": {
      "application/vnd.jupyter.widget-view+json": {
       "model_id": "cfd022df1c84441dba04086c60527dc3",
       "version_major": 2,
       "version_minor": 0
      },
      "text/plain": [
       "interactive(children=(IntSlider(value=0, description='x', max=4), Output()), _dom_classes=('widget-interact',)…"
      ]
     },
     "metadata": {},
     "output_type": "display_data"
    }
   ],
   "source": [
    "UNITS = ['LB','GA','DZ','OZ','OUNCE','PK','CT','LITER','LT','ML','QT','PT']\n",
    "\n",
    "test_weights_volumes = ['422 Lt','(600) 4OUNCE','5.323 OZ','there is 3 pint','2 CT']\n",
    "def f(x):\n",
    "    tested = test_weights_volumes[x]\n",
    "    print('Tested expression: %s .Equivalent weight computed: %.2f kg' % (tested,wf.get_weight(tested)))\n",
    "interact(f, x=widgets.IntSlider(min=0, max=len(test_weights_volumes) - 1, step=1, value=0));\n"
   ]
  },
  {
   "cell_type": "code",
   "execution_count": 9,
   "metadata": {},
   "outputs": [],
   "source": [
    "food_trans_clean_df['SINGLE_WEIGHT']  = food_trans_clean_df.CURR_SIZE_OF_PRODUCT.apply(wf.get_weight).values"
   ]
  },
  {
   "cell_type": "markdown",
   "metadata": {},
   "source": [
    "<div class=\"alert alert-block alert-info\">\n",
    "The same method is used to extract the weight of the articles.\n",
    "Unfortunately, the data whose metric is either CT,QT (quantity) or simply not present cannot easily be computed as this would require items specific weights. (a capsicon does not have the same weight as a pumpkin) \n",
    "\n",
    "We thus ask the user to estimate the weight of each item, thanks to the function start_create_single_weights.\n",
    "</div>"
   ]
  },
  {
   "cell_type": "code",
   "execution_count": 10,
   "metadata": {},
   "outputs": [
    {
     "name": "stdout",
     "output_type": "stream",
     "text": [
      "Successful read.\n",
      "Successful read.\n",
      "Successful read.\n"
     ]
    }
   ],
   "source": [
    "#The three dataframes were user input created\n",
    "single_weights_ct_df = pd.DataFrame.from_dict(wf.start_create_single_weights('CT',food_trans_clean_df),orient = 'index')\\\n",
    "                        .rename(columns = {0: 'SINGLE_WEIGHT'})\n",
    "single_weights_qt_df = pd.DataFrame.from_dict(wf.start_create_single_weights('QT',food_trans_clean_df),orient = 'index')\\\n",
    "                        .rename(columns = {0: 'SINGLE_WEIGHT'})\n",
    "single_weights_space_df = pd.DataFrame.from_dict(wf.start_create_single_weights('space',food_trans_clean_df),orient = 'index')\\\n",
    "                        .rename(columns = {0: 'SINGLE_WEIGHT'})"
   ]
  },
  {
   "cell_type": "code",
   "execution_count": 11,
   "metadata": {},
   "outputs": [],
   "source": [
    "food_trans_clean_df = food_trans_clean_df.join(single_weights_ct_df,how = 'left',rsuffix ='_r')\n",
    "food_trans_clean_df.SINGLE_WEIGHT.fillna(food_trans_clean_df.SINGLE_WEIGHT_r,inplace = True)\n",
    "food_trans_clean_df.drop(columns = 'SINGLE_WEIGHT_r',inplace = True)\n",
    "\n",
    "food_trans_clean_df = food_trans_clean_df.join(single_weights_qt_df,how = 'left',rsuffix ='_r')\n",
    "food_trans_clean_df.SINGLE_WEIGHT.fillna(food_trans_clean_df.SINGLE_WEIGHT_r,inplace = True)\n",
    "food_trans_clean_df.drop(columns = 'SINGLE_WEIGHT_r',inplace = True)\n",
    "\n",
    "food_trans_clean_df = food_trans_clean_df.join(single_weights_space_df,how = 'left',rsuffix ='_r')\n",
    "food_trans_clean_df.SINGLE_WEIGHT.fillna(food_trans_clean_df.SINGLE_WEIGHT_r,inplace = True)\n",
    "food_trans_clean_df.drop(columns = 'SINGLE_WEIGHT_r',inplace = True)"
   ]
  },
  {
   "cell_type": "code",
   "execution_count": 12,
   "metadata": {},
   "outputs": [],
   "source": [
    "food_trans_clean_df['TOT_WEIGHT'] = food_trans_clean_df.SINGLE_WEIGHT * food_trans_clean_df.QUANTITY\n",
    "food_trans_clean_df.sort_values(by = 'TOT_WEIGHT',ascending = False,inplace = True)"
   ]
  },
  {
   "cell_type": "markdown",
   "metadata": {},
   "source": [
    "<div class=\"alert alert-block alert-info\">\n",
    "We now have a dataframe which takes the weight of the items for each transaction.\n",
    "</div>"
   ]
  },
  {
   "cell_type": "code",
   "execution_count": 13,
   "metadata": {},
   "outputs": [
    {
     "data": {
      "text/html": [
       "<div>\n",
       "<style scoped>\n",
       "    .dataframe tbody tr th:only-of-type {\n",
       "        vertical-align: middle;\n",
       "    }\n",
       "\n",
       "    .dataframe tbody tr th {\n",
       "        vertical-align: top;\n",
       "    }\n",
       "\n",
       "    .dataframe thead th {\n",
       "        text-align: right;\n",
       "    }\n",
       "</style>\n",
       "<table border=\"1\" class=\"dataframe\">\n",
       "  <thead>\n",
       "    <tr style=\"text-align: right;\">\n",
       "      <th></th>\n",
       "      <th>household_key</th>\n",
       "      <th>BASKET_ID</th>\n",
       "      <th>PRODUCT_ID</th>\n",
       "      <th>QUANTITY</th>\n",
       "      <th>CURR_SIZE_OF_PRODUCT</th>\n",
       "      <th>dunn_name</th>\n",
       "      <th>SINGLE_WEIGHT</th>\n",
       "      <th>TOT_WEIGHT</th>\n",
       "    </tr>\n",
       "  </thead>\n",
       "  <tbody>\n",
       "    <tr>\n",
       "      <td>329139</td>\n",
       "      <td>1566</td>\n",
       "      <td>35146090575</td>\n",
       "      <td>957951</td>\n",
       "      <td>22</td>\n",
       "      <td>22 LB</td>\n",
       "      <td>FRZN ICE ICE - CRUSHED/CUBED</td>\n",
       "      <td>9.979024</td>\n",
       "      <td>219.538528</td>\n",
       "    </tr>\n",
       "    <tr>\n",
       "      <td>1848213</td>\n",
       "      <td>1637</td>\n",
       "      <td>41573574844</td>\n",
       "      <td>874753</td>\n",
       "      <td>10</td>\n",
       "      <td>40 LB</td>\n",
       "      <td>HOUSEHOLD CLEANG NEEDS SALT/WATER CONDITIONERS</td>\n",
       "      <td>18.143680</td>\n",
       "      <td>181.436800</td>\n",
       "    </tr>\n",
       "    <tr>\n",
       "      <td>2022195</td>\n",
       "      <td>1023</td>\n",
       "      <td>32259671060</td>\n",
       "      <td>836878</td>\n",
       "      <td>10</td>\n",
       "      <td>40 LB</td>\n",
       "      <td>HOUSEHOLD CLEANG NEEDS SALT/WATER CONDITIONERS</td>\n",
       "      <td>18.143680</td>\n",
       "      <td>181.436800</td>\n",
       "    </tr>\n",
       "    <tr>\n",
       "      <td>22974</td>\n",
       "      <td>691</td>\n",
       "      <td>33421101510</td>\n",
       "      <td>1082185</td>\n",
       "      <td>9</td>\n",
       "      <td>40 LB</td>\n",
       "      <td>TROPICAL FRUIT BANANAS</td>\n",
       "      <td>18.143680</td>\n",
       "      <td>163.293120</td>\n",
       "    </tr>\n",
       "    <tr>\n",
       "      <td>2105435</td>\n",
       "      <td>57</td>\n",
       "      <td>31624497521</td>\n",
       "      <td>13038540</td>\n",
       "      <td>9</td>\n",
       "      <td>38 LB</td>\n",
       "      <td>ORGANICS FRUIT &amp; VEGETABLES ORGANIC CITRUS</td>\n",
       "      <td>17.236496</td>\n",
       "      <td>155.128464</td>\n",
       "    </tr>\n",
       "  </tbody>\n",
       "</table>\n",
       "</div>"
      ],
      "text/plain": [
       "         household_key    BASKET_ID  PRODUCT_ID  QUANTITY  \\\n",
       "329139            1566  35146090575      957951        22   \n",
       "1848213           1637  41573574844      874753        10   \n",
       "2022195           1023  32259671060      836878        10   \n",
       "22974              691  33421101510     1082185         9   \n",
       "2105435             57  31624497521    13038540         9   \n",
       "\n",
       "        CURR_SIZE_OF_PRODUCT                                       dunn_name  \\\n",
       "329139                 22 LB                    FRZN ICE ICE - CRUSHED/CUBED   \n",
       "1848213                40 LB  HOUSEHOLD CLEANG NEEDS SALT/WATER CONDITIONERS   \n",
       "2022195                40 LB  HOUSEHOLD CLEANG NEEDS SALT/WATER CONDITIONERS   \n",
       "22974                  40 LB                          TROPICAL FRUIT BANANAS   \n",
       "2105435                38 LB      ORGANICS FRUIT & VEGETABLES ORGANIC CITRUS   \n",
       "\n",
       "         SINGLE_WEIGHT  TOT_WEIGHT  \n",
       "329139        9.979024  219.538528  \n",
       "1848213      18.143680  181.436800  \n",
       "2022195      18.143680  181.436800  \n",
       "22974        18.143680  163.293120  \n",
       "2105435      17.236496  155.128464  "
      ]
     },
     "execution_count": 13,
     "metadata": {},
     "output_type": "execute_result"
    }
   ],
   "source": [
    "food_trans_clean_df.head(5)"
   ]
  },
  {
   "cell_type": "markdown",
   "metadata": {},
   "source": [
    "## Adding the nutrition"
   ]
  },
  {
   "cell_type": "markdown",
   "metadata": {},
   "source": [
    "<div class=\"alert alert-block alert-info\">\n",
    " The next step consists in adding the nutrition value for each of these transactions.\n",
    "</div>"
   ]
  },
  {
   "cell_type": "code",
   "execution_count": 59,
   "metadata": {},
   "outputs": [],
   "source": [
    "with open(r\"../saved_data/dunnhumb_articles_nutriments.pickle\", \"rb\") as input_file:\n",
    "    all_nutrition = pickle.load(input_file)\n",
    "with open(r\"../saved_data/nutriments_units.pickle\", \"rb\") as input_file:\n",
    "    nutriment_units_df = pickle.load(input_file)\n",
    "    nutriment_units_df = nutriment_units_df[nutriment_units_df.unit_name != 'kJ']\n",
    "hh_demographic_df = pd.read_csv('../data/dunnhumby_data/hh_demographic.csv')"
   ]
  },
  {
   "cell_type": "code",
   "execution_count": 60,
   "metadata": {},
   "outputs": [],
   "source": [
    "#extract the list of nutriments\n",
    "nutriments = all_nutrition.drop(all_nutrition.columns[np.arange(5)],axis = 1).columns.values\n",
    "nutriments = np.append(nutriments[1:],nutriments[:1])"
   ]
  },
  {
   "cell_type": "code",
   "execution_count": 61,
   "metadata": {},
   "outputs": [],
   "source": [
    "#(1) we groupby the name of each article in order to extract trends from the most sold items in terms of sold mass\n",
    "tot_weight_nut_df = food_trans_clean_df.groupby(['dunn_name']).agg({'TOT_WEIGHT':'sum','QUANTITY':'sum'})\\\n",
    "                     .join(all_nutrition.set_index('dunn_name'),how = 'inner')\\\n",
    "                     .sort_values(by = 'TOT_WEIGHT',ascending = False)\\\n",
    "                     .reset_index()\\\n",
    "                     .copy()\n",
    "    \n",
    "#(2) we groupby the name of each article in terms of number of sells this time\n",
    "tot_sells_nut_df = food_trans_clean_df.groupby(['dunn_name']).agg({'QUANTITY':'sum'})\\\n",
    "                     .join(all_nutrition.set_index('dunn_name'),how = 'inner')\\\n",
    "                     .sort_values(by = 'QUANTITY',ascending = False)\\\n",
    "                     .reset_index()\\\n",
    "                     .copy()\n",
    "\n",
    "#(3) we groupby the household, in order to detect specific nutritional behavior\n",
    "house_nut_df = food_trans_clean_df.groupby(['household_key','dunn_name'])\\\n",
    "                      .agg({'TOT_WEIGHT':'sum'})\\\n",
    "                      .reset_index()\\\n",
    "                      .join(all_nutrition.set_index('dunn_name'),on = 'dunn_name',how = 'inner')\\\n",
    "                      .sort_values(by = 'TOT_WEIGHT',ascending = False)\\\n",
    "                      .copy()\n",
    "# compute the mass (0.1kg as unit) of each nutriment for each article\n",
    "for nut in nutriments:\n",
    "    tot_nut = 'tot_' + nut\n",
    "    house_nut_df[tot_nut] = house_nut_df.TOT_WEIGHT.multiply(house_nut_df[nut])\n",
    "    tot_weight_nut_df[tot_nut] = tot_weight_nut_df.TOT_WEIGHT.multiply(tot_weight_nut_df[nut])\n"
   ]
  },
  {
   "cell_type": "code",
   "execution_count": 64,
   "metadata": {},
   "outputs": [],
   "source": [
    "tot_weight_nut_df = tot_weight_nut_df.drop(index = 0)"
   ]
  },
  {
   "cell_type": "markdown",
   "metadata": {},
   "source": [
    "### Total soup"
   ]
  },
  {
   "cell_type": "markdown",
   "metadata": {},
   "source": [
    "<div class=\"alert alert-block alert-info\">\n",
    "In order to assess if our parsing does make sense, we compute the average nutrition value of the \"soup\" represented by the total sold mass: i.e. the average food nutritional values pondered by the bought mass, and compare it with the standard of the following websites:\n",
    "    \n",
    " * https://www.netrition.com/rdi_page.html\n",
    " * https://www.nhs.uk/live-well/eat-well/what-are-reference-intakes-on-food-labels/\n",
    "</div>"
   ]
  },
  {
   "cell_type": "code",
   "execution_count": 65,
   "metadata": {},
   "outputs": [],
   "source": [
    "tot_nutriments = ['tot_' + i for i in nutriments]\n",
    "avg_soup  = tot_weight_nut_df[tot_nutriments].sum() / tot_weight_nut_df.TOT_WEIGHT.sum()\n",
    "\n",
    "avg_soup_df = pd.DataFrame({'name': avg_soup.index.values,'quantity':avg_soup.values})\n",
    "\n",
    "rem = lambda string: string[4:]\n",
    "avg_soup_df['name']= avg_soup_df['name'].apply(rem)\n",
    "\n",
    "avg_soup_df.set_index('name',inplace=True)\n",
    "avg_soup_df = avg_soup_df.join(nutriment_units_df.set_index('name')).drop(columns = 'id')\n",
    "\n",
    "fctor = 2000 / avg_soup_df.loc['energy'][0]\n",
    "avg_soup_df.quantity = avg_soup_df['quantity'] * fctor\n",
    "\n",
    "ref_intakes_df = pd.read_csv('../data/health/ref_intakes.csv')\n",
    "ref_intakes_df.drop(columns = ['unit_name'],inplace = True)\n",
    "\n",
    "avg_soup_df = avg_soup_df.join(ref_intakes_df.set_index('name'),how = 'inner',lsuffix='_dunn',rsuffix='_ref')\n",
    "\n",
    "fctor = 2000 / avg_soup_df.quantity_ref\n",
    "avg_soup_df.quantity_dunn = fctor * avg_soup_df.quantity_dunn\n",
    "avg_soup_df.quantity_ref = fctor * avg_soup_df.quantity_ref"
   ]
  },
  {
   "cell_type": "code",
   "execution_count": 66,
   "metadata": {},
   "outputs": [
    {
     "data": {
      "text/html": [
       "<div>\n",
       "<style scoped>\n",
       "    .dataframe tbody tr th:only-of-type {\n",
       "        vertical-align: middle;\n",
       "    }\n",
       "\n",
       "    .dataframe tbody tr th {\n",
       "        vertical-align: top;\n",
       "    }\n",
       "\n",
       "    .dataframe thead th {\n",
       "        text-align: right;\n",
       "    }\n",
       "</style>\n",
       "<table border=\"1\" class=\"dataframe\">\n",
       "  <thead>\n",
       "    <tr style=\"text-align: right;\">\n",
       "      <th></th>\n",
       "      <th>dunn_name</th>\n",
       "      <th>TOT_WEIGHT</th>\n",
       "      <th>QUANTITY</th>\n",
       "      <th>DEPARTMENT</th>\n",
       "      <th>dunn_ingredients</th>\n",
       "      <th>nut_name</th>\n",
       "      <th>nut_ingredients</th>\n",
       "      <th>alcohol</th>\n",
       "      <th>carbohydrate</th>\n",
       "      <th>cholesterol</th>\n",
       "      <th>...</th>\n",
       "      <th>tot_protein</th>\n",
       "      <th>tot_sodium</th>\n",
       "      <th>tot_sugars</th>\n",
       "      <th>tot_total lipid</th>\n",
       "      <th>tot_vitamin a</th>\n",
       "      <th>tot_vitamin b-12</th>\n",
       "      <th>tot_vitamin b-6</th>\n",
       "      <th>tot_vitamin e</th>\n",
       "      <th>tot_vitamin k</th>\n",
       "      <th>tot_alcohol</th>\n",
       "    </tr>\n",
       "  </thead>\n",
       "  <tbody>\n",
       "    <tr>\n",
       "      <td>1</td>\n",
       "      <td>FLUID MILK PRODUCTS FLUID MILK WHITE ONLY</td>\n",
       "      <td>158279.390752</td>\n",
       "      <td>91449</td>\n",
       "      <td>GROCERY</td>\n",
       "      <td>[milk]</td>\n",
       "      <td>Milk, whole</td>\n",
       "      <td>[milk]</td>\n",
       "      <td>0.0</td>\n",
       "      <td>4.80</td>\n",
       "      <td>10.0</td>\n",
       "      <td>...</td>\n",
       "      <td>498580.080868</td>\n",
       "      <td>6.806014e+06</td>\n",
       "      <td>7.993109e+05</td>\n",
       "      <td>514408.019943</td>\n",
       "      <td>7.280852e+06</td>\n",
       "      <td>71225.725838</td>\n",
       "      <td>5698.058067</td>\n",
       "      <td>0.0</td>\n",
       "      <td>47483.817225</td>\n",
       "      <td>0.0</td>\n",
       "    </tr>\n",
       "    <tr>\n",
       "      <td>2</td>\n",
       "      <td>SOFT DRINKS SFT DRNK 2 LITER BTL CARB INCL</td>\n",
       "      <td>107754.002557</td>\n",
       "      <td>54400</td>\n",
       "      <td>GROCERY</td>\n",
       "      <td>[soft, drink, liter, carb, incl]</td>\n",
       "      <td>Soft drink, NFS</td>\n",
       "      <td>[soft, drink, nf]</td>\n",
       "      <td>0.0</td>\n",
       "      <td>10.36</td>\n",
       "      <td>0.0</td>\n",
       "      <td>...</td>\n",
       "      <td>0.000000</td>\n",
       "      <td>3.232620e+05</td>\n",
       "      <td>1.071075e+06</td>\n",
       "      <td>26938.500639</td>\n",
       "      <td>0.000000e+00</td>\n",
       "      <td>0.000000</td>\n",
       "      <td>0.000000</td>\n",
       "      <td>0.0</td>\n",
       "      <td>0.000000</td>\n",
       "      <td>0.0</td>\n",
       "    </tr>\n",
       "    <tr>\n",
       "      <td>3</td>\n",
       "      <td>ONIONS ONIONS SWEET (BULK&amp;BAG)</td>\n",
       "      <td>101229.260620</td>\n",
       "      <td>6106</td>\n",
       "      <td>PRODUCE</td>\n",
       "      <td>[onion, sweet]</td>\n",
       "      <td>Onions, mature, raw</td>\n",
       "      <td>[onion, matur]</td>\n",
       "      <td>0.0</td>\n",
       "      <td>9.34</td>\n",
       "      <td>0.0</td>\n",
       "      <td>...</td>\n",
       "      <td>111352.186682</td>\n",
       "      <td>4.049170e+05</td>\n",
       "      <td>4.292121e+05</td>\n",
       "      <td>10122.926062</td>\n",
       "      <td>0.000000e+00</td>\n",
       "      <td>0.000000</td>\n",
       "      <td>12147.511274</td>\n",
       "      <td>0.0</td>\n",
       "      <td>40491.704248</td>\n",
       "      <td>0.0</td>\n",
       "    </tr>\n",
       "    <tr>\n",
       "      <td>4</td>\n",
       "      <td>WATER - CARBONATED/FLVRD DRINK NON-CRBNTD DRNK...</td>\n",
       "      <td>55172.619526</td>\n",
       "      <td>10743</td>\n",
       "      <td>GROCERY</td>\n",
       "      <td>[non, crbntd, drnking, miner, water]</td>\n",
       "      <td>Water chestnut</td>\n",
       "      <td>[water, chestnut]</td>\n",
       "      <td>0.0</td>\n",
       "      <td>19.22</td>\n",
       "      <td>0.0</td>\n",
       "      <td>...</td>\n",
       "      <td>76138.214945</td>\n",
       "      <td>6.620714e+05</td>\n",
       "      <td>2.118629e+05</td>\n",
       "      <td>4965.535757</td>\n",
       "      <td>0.000000e+00</td>\n",
       "      <td>0.000000</td>\n",
       "      <td>13682.809642</td>\n",
       "      <td>0.0</td>\n",
       "      <td>16551.785858</td>\n",
       "      <td>0.0</td>\n",
       "    </tr>\n",
       "    <tr>\n",
       "      <td>5</td>\n",
       "      <td>GRAPES GRAPES RED</td>\n",
       "      <td>46509.962904</td>\n",
       "      <td>5702</td>\n",
       "      <td>PRODUCE</td>\n",
       "      <td>[grape, red]</td>\n",
       "      <td>Grapes, raw, NS as to type</td>\n",
       "      <td>[grape]</td>\n",
       "      <td>0.0</td>\n",
       "      <td>18.10</td>\n",
       "      <td>0.0</td>\n",
       "      <td>...</td>\n",
       "      <td>33487.173291</td>\n",
       "      <td>9.301993e+04</td>\n",
       "      <td>7.199742e+05</td>\n",
       "      <td>7441.594065</td>\n",
       "      <td>1.395299e+05</td>\n",
       "      <td>0.000000</td>\n",
       "      <td>3999.856810</td>\n",
       "      <td>0.0</td>\n",
       "      <td>679045.458398</td>\n",
       "      <td>0.0</td>\n",
       "    </tr>\n",
       "    <tr>\n",
       "      <td>...</td>\n",
       "      <td>...</td>\n",
       "      <td>...</td>\n",
       "      <td>...</td>\n",
       "      <td>...</td>\n",
       "      <td>...</td>\n",
       "      <td>...</td>\n",
       "      <td>...</td>\n",
       "      <td>...</td>\n",
       "      <td>...</td>\n",
       "      <td>...</td>\n",
       "      <td>...</td>\n",
       "      <td>...</td>\n",
       "      <td>...</td>\n",
       "      <td>...</td>\n",
       "      <td>...</td>\n",
       "      <td>...</td>\n",
       "      <td>...</td>\n",
       "      <td>...</td>\n",
       "      <td>...</td>\n",
       "      <td>...</td>\n",
       "      <td>...</td>\n",
       "    </tr>\n",
       "    <tr>\n",
       "      <td>1822</td>\n",
       "      <td>SMOKED MEATS BACON - BELLY/JOWL</td>\n",
       "      <td>0.000000</td>\n",
       "      <td>150</td>\n",
       "      <td>MEAT</td>\n",
       "      <td>[bacon, belli, jowl]</td>\n",
       "      <td>Bacon bits</td>\n",
       "      <td>[bacon, bit]</td>\n",
       "      <td>0.0</td>\n",
       "      <td>28.60</td>\n",
       "      <td>0.0</td>\n",
       "      <td>...</td>\n",
       "      <td>0.000000</td>\n",
       "      <td>0.000000e+00</td>\n",
       "      <td>0.000000e+00</td>\n",
       "      <td>0.000000</td>\n",
       "      <td>0.000000e+00</td>\n",
       "      <td>0.000000</td>\n",
       "      <td>0.000000</td>\n",
       "      <td>0.0</td>\n",
       "      <td>0.000000</td>\n",
       "      <td>0.0</td>\n",
       "    </tr>\n",
       "    <tr>\n",
       "      <td>1823</td>\n",
       "      <td>BAKING NEEDS GERMAN FOODS</td>\n",
       "      <td>0.000000</td>\n",
       "      <td>1</td>\n",
       "      <td>GROCERY</td>\n",
       "      <td>[german, food]</td>\n",
       "      <td>Fish, NS as to type, from fast food</td>\n",
       "      <td>[fish, fast, food]</td>\n",
       "      <td>0.0</td>\n",
       "      <td>16.89</td>\n",
       "      <td>36.0</td>\n",
       "      <td>...</td>\n",
       "      <td>0.000000</td>\n",
       "      <td>0.000000e+00</td>\n",
       "      <td>0.000000e+00</td>\n",
       "      <td>0.000000</td>\n",
       "      <td>0.000000e+00</td>\n",
       "      <td>0.000000</td>\n",
       "      <td>0.000000</td>\n",
       "      <td>0.0</td>\n",
       "      <td>0.000000</td>\n",
       "      <td>0.0</td>\n",
       "    </tr>\n",
       "    <tr>\n",
       "      <td>1824</td>\n",
       "      <td>SERVICE BEVERAGE SV BEV: COFFEE</td>\n",
       "      <td>0.000000</td>\n",
       "      <td>0</td>\n",
       "      <td>DELI</td>\n",
       "      <td>[bev, coffe]</td>\n",
       "      <td>Coffee, NS as to type</td>\n",
       "      <td>[coffe]</td>\n",
       "      <td>0.0</td>\n",
       "      <td>0.00</td>\n",
       "      <td>0.0</td>\n",
       "      <td>...</td>\n",
       "      <td>0.000000</td>\n",
       "      <td>0.000000e+00</td>\n",
       "      <td>0.000000e+00</td>\n",
       "      <td>0.000000</td>\n",
       "      <td>0.000000e+00</td>\n",
       "      <td>0.000000</td>\n",
       "      <td>0.000000</td>\n",
       "      <td>0.0</td>\n",
       "      <td>0.000000</td>\n",
       "      <td>0.0</td>\n",
       "    </tr>\n",
       "    <tr>\n",
       "      <td>1825</td>\n",
       "      <td>BAKING NEEDS CAKE DECORS - BIRTHDAY CANDLES</td>\n",
       "      <td>0.000000</td>\n",
       "      <td>560</td>\n",
       "      <td>GROCERY</td>\n",
       "      <td>[cake, decor, birthday, candl]</td>\n",
       "      <td>Popcorn cake</td>\n",
       "      <td>[popcorn, cake]</td>\n",
       "      <td>0.0</td>\n",
       "      <td>80.10</td>\n",
       "      <td>0.0</td>\n",
       "      <td>...</td>\n",
       "      <td>0.000000</td>\n",
       "      <td>0.000000e+00</td>\n",
       "      <td>0.000000e+00</td>\n",
       "      <td>0.000000</td>\n",
       "      <td>0.000000e+00</td>\n",
       "      <td>0.000000</td>\n",
       "      <td>0.000000</td>\n",
       "      <td>0.0</td>\n",
       "      <td>0.000000</td>\n",
       "      <td>0.0</td>\n",
       "    </tr>\n",
       "    <tr>\n",
       "      <td>1826</td>\n",
       "      <td>(CORP USE ONLY) MEAT DEPT KEY RINGS</td>\n",
       "      <td>0.000000</td>\n",
       "      <td>7</td>\n",
       "      <td>MEAT</td>\n",
       "      <td>[meat, dept, key, ring]</td>\n",
       "      <td>Meat, NFS</td>\n",
       "      <td>[meat, nf]</td>\n",
       "      <td>0.0</td>\n",
       "      <td>0.00</td>\n",
       "      <td>89.0</td>\n",
       "      <td>...</td>\n",
       "      <td>0.000000</td>\n",
       "      <td>0.000000e+00</td>\n",
       "      <td>0.000000e+00</td>\n",
       "      <td>0.000000</td>\n",
       "      <td>0.000000e+00</td>\n",
       "      <td>0.000000</td>\n",
       "      <td>0.000000</td>\n",
       "      <td>0.0</td>\n",
       "      <td>0.000000</td>\n",
       "      <td>0.0</td>\n",
       "    </tr>\n",
       "  </tbody>\n",
       "</table>\n",
       "<p>1826 rows × 41 columns</p>\n",
       "</div>"
      ],
      "text/plain": [
       "                                              dunn_name     TOT_WEIGHT  \\\n",
       "1             FLUID MILK PRODUCTS FLUID MILK WHITE ONLY  158279.390752   \n",
       "2            SOFT DRINKS SFT DRNK 2 LITER BTL CARB INCL  107754.002557   \n",
       "3                        ONIONS ONIONS SWEET (BULK&BAG)  101229.260620   \n",
       "4     WATER - CARBONATED/FLVRD DRINK NON-CRBNTD DRNK...   55172.619526   \n",
       "5                                     GRAPES GRAPES RED   46509.962904   \n",
       "...                                                 ...            ...   \n",
       "1822                    SMOKED MEATS BACON - BELLY/JOWL       0.000000   \n",
       "1823                          BAKING NEEDS GERMAN FOODS       0.000000   \n",
       "1824                    SERVICE BEVERAGE SV BEV: COFFEE       0.000000   \n",
       "1825        BAKING NEEDS CAKE DECORS - BIRTHDAY CANDLES       0.000000   \n",
       "1826                (CORP USE ONLY) MEAT DEPT KEY RINGS       0.000000   \n",
       "\n",
       "      QUANTITY DEPARTMENT                      dunn_ingredients  \\\n",
       "1        91449    GROCERY                                [milk]   \n",
       "2        54400    GROCERY      [soft, drink, liter, carb, incl]   \n",
       "3         6106    PRODUCE                        [onion, sweet]   \n",
       "4        10743    GROCERY  [non, crbntd, drnking, miner, water]   \n",
       "5         5702    PRODUCE                          [grape, red]   \n",
       "...        ...        ...                                   ...   \n",
       "1822       150       MEAT                  [bacon, belli, jowl]   \n",
       "1823         1    GROCERY                        [german, food]   \n",
       "1824         0       DELI                          [bev, coffe]   \n",
       "1825       560    GROCERY        [cake, decor, birthday, candl]   \n",
       "1826         7       MEAT               [meat, dept, key, ring]   \n",
       "\n",
       "                                 nut_name     nut_ingredients  alcohol  \\\n",
       "1                             Milk, whole              [milk]      0.0   \n",
       "2                         Soft drink, NFS   [soft, drink, nf]      0.0   \n",
       "3                     Onions, mature, raw      [onion, matur]      0.0   \n",
       "4                          Water chestnut   [water, chestnut]      0.0   \n",
       "5              Grapes, raw, NS as to type             [grape]      0.0   \n",
       "...                                   ...                 ...      ...   \n",
       "1822                           Bacon bits        [bacon, bit]      0.0   \n",
       "1823  Fish, NS as to type, from fast food  [fish, fast, food]      0.0   \n",
       "1824                Coffee, NS as to type             [coffe]      0.0   \n",
       "1825                         Popcorn cake     [popcorn, cake]      0.0   \n",
       "1826                            Meat, NFS          [meat, nf]      0.0   \n",
       "\n",
       "      carbohydrate  cholesterol  ...    tot_protein    tot_sodium  \\\n",
       "1             4.80         10.0  ...  498580.080868  6.806014e+06   \n",
       "2            10.36          0.0  ...       0.000000  3.232620e+05   \n",
       "3             9.34          0.0  ...  111352.186682  4.049170e+05   \n",
       "4            19.22          0.0  ...   76138.214945  6.620714e+05   \n",
       "5            18.10          0.0  ...   33487.173291  9.301993e+04   \n",
       "...            ...          ...  ...            ...           ...   \n",
       "1822         28.60          0.0  ...       0.000000  0.000000e+00   \n",
       "1823         16.89         36.0  ...       0.000000  0.000000e+00   \n",
       "1824          0.00          0.0  ...       0.000000  0.000000e+00   \n",
       "1825         80.10          0.0  ...       0.000000  0.000000e+00   \n",
       "1826          0.00         89.0  ...       0.000000  0.000000e+00   \n",
       "\n",
       "        tot_sugars  tot_total lipid  tot_vitamin a  tot_vitamin b-12  \\\n",
       "1     7.993109e+05    514408.019943   7.280852e+06      71225.725838   \n",
       "2     1.071075e+06     26938.500639   0.000000e+00          0.000000   \n",
       "3     4.292121e+05     10122.926062   0.000000e+00          0.000000   \n",
       "4     2.118629e+05      4965.535757   0.000000e+00          0.000000   \n",
       "5     7.199742e+05      7441.594065   1.395299e+05          0.000000   \n",
       "...            ...              ...            ...               ...   \n",
       "1822  0.000000e+00         0.000000   0.000000e+00          0.000000   \n",
       "1823  0.000000e+00         0.000000   0.000000e+00          0.000000   \n",
       "1824  0.000000e+00         0.000000   0.000000e+00          0.000000   \n",
       "1825  0.000000e+00         0.000000   0.000000e+00          0.000000   \n",
       "1826  0.000000e+00         0.000000   0.000000e+00          0.000000   \n",
       "\n",
       "      tot_vitamin b-6  tot_vitamin e  tot_vitamin k  tot_alcohol  \n",
       "1         5698.058067            0.0   47483.817225          0.0  \n",
       "2            0.000000            0.0       0.000000          0.0  \n",
       "3        12147.511274            0.0   40491.704248          0.0  \n",
       "4        13682.809642            0.0   16551.785858          0.0  \n",
       "5         3999.856810            0.0  679045.458398          0.0  \n",
       "...               ...            ...            ...          ...  \n",
       "1822         0.000000            0.0       0.000000          0.0  \n",
       "1823         0.000000            0.0       0.000000          0.0  \n",
       "1824         0.000000            0.0       0.000000          0.0  \n",
       "1825         0.000000            0.0       0.000000          0.0  \n",
       "1826         0.000000            0.0       0.000000          0.0  \n",
       "\n",
       "[1826 rows x 41 columns]"
      ]
     },
     "execution_count": 66,
     "metadata": {},
     "output_type": "execute_result"
    }
   ],
   "source": [
    "tot_weight_nut_df"
   ]
  },
  {
   "cell_type": "code",
   "execution_count": 67,
   "metadata": {},
   "outputs": [
    {
     "data": {
      "image/png": "[encoded data removed]",
      "text/plain": [
       "<Figure size 432x288 with 1 Axes>"
      ]
     },
     "metadata": {
      "needs_background": "light"
     },
     "output_type": "display_data"
    }
   ],
   "source": [
    "fig,ax = plt.subplots(1)\n",
    "avg_soup_df.plot.bar(ax = ax)\n",
    "empty_string_labels = ['']*len(ax.get_yticklabels())\n",
    "ax.set_yticklabels(empty_string_labels)\n",
    "ax.set_title('Average nutriment concentration in the dataset')\n",
    "fig.savefig('../results/soup.png')"
   ]
  },
  {
   "cell_type": "markdown",
   "metadata": {},
   "source": [
    "<div class=\"alert alert-block alert-info\">\n",
    "As one can observe from the plot, hte data ends up in a really coherent scale: this motivates us to push the investigation further.\n",
    "</div>"
   ]
  },
  {
   "cell_type": "markdown",
   "metadata": {
    "toc-hr-collapsed": false
   },
   "source": [
    "### Mass items nutriments"
   ]
  },
  {
   "cell_type": "markdown",
   "metadata": {},
   "source": [
    "<div class=\"alert alert-block alert-info\">\n",
    "We analyze the items most bought in terms of mass: lets take a look at the most bought items\n",
    "</div>"
   ]
  },
  {
   "cell_type": "code",
   "execution_count": 20,
   "metadata": {},
   "outputs": [
    {
     "data": {
      "text/html": [
       "<div>\n",
       "<style scoped>\n",
       "    .dataframe tbody tr th:only-of-type {\n",
       "        vertical-align: middle;\n",
       "    }\n",
       "\n",
       "    .dataframe tbody tr th {\n",
       "        vertical-align: top;\n",
       "    }\n",
       "\n",
       "    .dataframe thead th {\n",
       "        text-align: right;\n",
       "    }\n",
       "</style>\n",
       "<table border=\"1\" class=\"dataframe\">\n",
       "  <thead>\n",
       "    <tr style=\"text-align: right;\">\n",
       "      <th></th>\n",
       "      <th>dunn_name</th>\n",
       "      <th>TOT_WEIGHT</th>\n",
       "      <th>nut_name</th>\n",
       "    </tr>\n",
       "  </thead>\n",
       "  <tbody>\n",
       "    <tr>\n",
       "      <td>0</td>\n",
       "      <td>TROPICAL FRUIT BANANAS</td>\n",
       "      <td>568654.682640</td>\n",
       "      <td>Banana, raw</td>\n",
       "    </tr>\n",
       "    <tr>\n",
       "      <td>1</td>\n",
       "      <td>FLUID MILK PRODUCTS FLUID MILK WHITE ONLY</td>\n",
       "      <td>158279.390752</td>\n",
       "      <td>Milk, whole</td>\n",
       "    </tr>\n",
       "    <tr>\n",
       "      <td>2</td>\n",
       "      <td>SOFT DRINKS SFT DRNK 2 LITER BTL CARB INCL</td>\n",
       "      <td>107754.002557</td>\n",
       "      <td>Soft drink, NFS</td>\n",
       "    </tr>\n",
       "    <tr>\n",
       "      <td>3</td>\n",
       "      <td>ONIONS ONIONS SWEET (BULK&amp;BAG)</td>\n",
       "      <td>101229.260620</td>\n",
       "      <td>Onions, mature, raw</td>\n",
       "    </tr>\n",
       "    <tr>\n",
       "      <td>4</td>\n",
       "      <td>WATER - CARBONATED/FLVRD DRINK NON-CRBNTD DRNK...</td>\n",
       "      <td>55172.619526</td>\n",
       "      <td>Water chestnut</td>\n",
       "    </tr>\n",
       "    <tr>\n",
       "      <td>5</td>\n",
       "      <td>GRAPES GRAPES RED</td>\n",
       "      <td>46509.962904</td>\n",
       "      <td>Grapes, raw, NS as to type</td>\n",
       "    </tr>\n",
       "  </tbody>\n",
       "</table>\n",
       "</div>"
      ],
      "text/plain": [
       "                                           dunn_name     TOT_WEIGHT  \\\n",
       "0                             TROPICAL FRUIT BANANAS  568654.682640   \n",
       "1          FLUID MILK PRODUCTS FLUID MILK WHITE ONLY  158279.390752   \n",
       "2         SOFT DRINKS SFT DRNK 2 LITER BTL CARB INCL  107754.002557   \n",
       "3                     ONIONS ONIONS SWEET (BULK&BAG)  101229.260620   \n",
       "4  WATER - CARBONATED/FLVRD DRINK NON-CRBNTD DRNK...   55172.619526   \n",
       "5                                  GRAPES GRAPES RED   46509.962904   \n",
       "\n",
       "                     nut_name  \n",
       "0                 Banana, raw  \n",
       "1                 Milk, whole  \n",
       "2             Soft drink, NFS  \n",
       "3         Onions, mature, raw  \n",
       "4              Water chestnut  \n",
       "5  Grapes, raw, NS as to type  "
      ]
     },
     "execution_count": 20,
     "metadata": {},
     "output_type": "execute_result"
    }
   ],
   "source": [
    "top_weight = tot_weight_nut_df.head(6)[['dunn_name','TOT_WEIGHT','nut_name']]\n",
    "top_weight"
   ]
  },
  {
   "cell_type": "markdown",
   "metadata": {},
   "source": [
    "<div class=\"alert alert-block alert-info\">\n",
    "The banana quantity looks oddly high, looking at the average weight of the article to see if the weight_parser failed might be useful\n",
    "</div>"
   ]
  },
  {
   "cell_type": "code",
   "execution_count": 21,
   "metadata": {},
   "outputs": [
    {
     "name": "stdout",
     "output_type": "stream",
     "text": [
      "Average weight of the banana article 18.001667752688977 kg.\n"
     ]
    }
   ],
   "source": [
    "tot_weight_nut_df['avg_weight'] = tot_weight_nut_df.TOT_WEIGHT / tot_weight_nut_df.QUANTITY\n",
    "avg_banana_weight = tot_weight_nut_df[tot_weight_nut_df.dunn_name == 'TROPICAL FRUIT BANANAS'].avg_weight.values[0]\n",
    "print('Average weight of the banana article {} kg.'.format(avg_banana_weight))"
   ]
  },
  {
   "cell_type": "markdown",
   "metadata": {},
   "source": [
    "<div class=\"alert alert-block alert-info\">\n",
    "This definitely looks odd, but as the following plot, there are a lot of times where the banana article is sold with 40 LB (pounds)~ 18kg. The parser did well. \n",
    "</div>"
   ]
  },
  {
   "cell_type": "code",
   "execution_count": 22,
   "metadata": {},
   "outputs": [
    {
     "data": {
      "text/plain": [
       "40 LB    30207\n",
       "8 OZ       197\n",
       "            26\n",
       "Name: CURR_SIZE_OF_PRODUCT, dtype: int64"
      ]
     },
     "execution_count": 22,
     "metadata": {},
     "output_type": "execute_result"
    }
   ],
   "source": [
    "food_transaction_data[food_transaction_data.dunn_name.str.contains('TROPICAL FRUIT BANANAS')].CURR_SIZE_OF_PRODUCT.value_counts()"
   ]
  },
  {
   "cell_type": "code",
   "execution_count": 23,
   "metadata": {},
   "outputs": [
    {
     "data": {
      "text/plain": [
       "<matplotlib.axes._subplots.AxesSubplot at 0x7f63ea0c0b50>"
      ]
     },
     "execution_count": 23,
     "metadata": {},
     "output_type": "execute_result"
    },
    {
     "data": {
      "image/png": "[encoded data removed]",
      "text/plain": [
       "<Figure size 432x288 with 1 Axes>"
      ]
     },
     "metadata": {
      "needs_background": "light"
     },
     "output_type": "display_data"
    }
   ],
   "source": [
    "top_weight.plot.bar(x = 'dunn_name',y = 'TOT_WEIGHT')"
   ]
  },
  {
   "cell_type": "code",
   "execution_count": 24,
   "metadata": {},
   "outputs": [],
   "source": [
    "def plot_nutriments(nut_indx,df,ax = None,sub_title = None):\n",
    "    if ax is None:\n",
    "        fig,ax = plt.subplots(1,figsize = (20,5))\n",
    "    nutriment = nutriments[nut_indx]\n",
    "    temp = df.sort_values(by = 'TOT_WEIGHT',ascending = False).reset_index().head(300)\n",
    "    sns.barplot(x = temp.index,y = temp[nutriment],ax = ax)\n",
    "    unit = nutriment_units_df[nutriment_units_df['name'] == nutriment].unit_name.values[0]\n",
    "    title = nutriment\n",
    "    ax.set_title(title)\n",
    "    ax.set_ylabel('%s %s per 100 grams' % (nutriment,unit))\n",
    "    ax.set_xlabel('items (sorted by most bought mass)')\n",
    "    empty_string_labels = ['']*len(ax.get_xticklabels())\n",
    "    ax.set_xticklabels(empty_string_labels)"
   ]
  },
  {
   "cell_type": "code",
   "execution_count": 25,
   "metadata": {},
   "outputs": [
    {
     "data": {
      "application/vnd.jupyter.widget-view+json": {
       "model_id": "be22093490a344a9986bd3c83d0b1129",
       "version_major": 2,
       "version_minor": 0
      },
      "text/plain": [
       "interactive(children=(IntSlider(value=0, description='indx', max=16), Output()), _dom_classes=('widget-interac…"
      ]
     },
     "metadata": {},
     "output_type": "display_data"
    }
   ],
   "source": [
    "plot_tot_nut = lambda indx: plot_nutriments(indx,tot_weight_nut_df)\n",
    "interact(plot_tot_nut, indx=widgets.IntSlider(min=0, max=len(nutriments) - 1, step=1, value=0));"
   ]
  },
  {
   "cell_type": "code",
   "execution_count": 26,
   "metadata": {},
   "outputs": [],
   "source": [
    "tot_weight_nut_df.to_pickle('../saved_data/tot_weight_nut_df.pickle')"
   ]
  },
  {
   "cell_type": "markdown",
   "metadata": {},
   "source": [
    "<div class=\"alert alert-block alert-info\">\n",
    "Some article look like outliers in the cholesterol an polyunsaturated items. Let's investigate\n",
    "</div>"
   ]
  },
  {
   "cell_type": "code",
   "execution_count": 27,
   "metadata": {},
   "outputs": [
    {
     "name": "stderr",
     "output_type": "stream",
     "text": [
      "/home/ymentha/anaconda3/envs/ada/lib/python3.7/site-packages/ipykernel_launcher.py:2: UserWarning: Boolean Series key will be reindexed to match DataFrame index.\n",
      "  \n"
     ]
    },
    {
     "data": {
      "text/html": [
       "<div>\n",
       "<style scoped>\n",
       "    .dataframe tbody tr th:only-of-type {\n",
       "        vertical-align: middle;\n",
       "    }\n",
       "\n",
       "    .dataframe tbody tr th {\n",
       "        vertical-align: top;\n",
       "    }\n",
       "\n",
       "    .dataframe thead th {\n",
       "        text-align: right;\n",
       "    }\n",
       "</style>\n",
       "<table border=\"1\" class=\"dataframe\">\n",
       "  <thead>\n",
       "    <tr style=\"text-align: right;\">\n",
       "      <th></th>\n",
       "      <th>dunn_name</th>\n",
       "      <th>TOT_WEIGHT</th>\n",
       "      <th>QUANTITY</th>\n",
       "      <th>DEPARTMENT</th>\n",
       "      <th>dunn_ingredients</th>\n",
       "      <th>nut_name</th>\n",
       "      <th>nut_ingredients</th>\n",
       "      <th>alcohol</th>\n",
       "      <th>carbohydrate</th>\n",
       "      <th>cholesterol</th>\n",
       "      <th>...</th>\n",
       "      <th>tot_sodium</th>\n",
       "      <th>tot_sugars</th>\n",
       "      <th>tot_total lipid</th>\n",
       "      <th>tot_vitamin a</th>\n",
       "      <th>tot_vitamin b-12</th>\n",
       "      <th>tot_vitamin b-6</th>\n",
       "      <th>tot_vitamin e</th>\n",
       "      <th>tot_vitamin k</th>\n",
       "      <th>tot_alcohol</th>\n",
       "      <th>avg_weight</th>\n",
       "    </tr>\n",
       "  </thead>\n",
       "  <tbody>\n",
       "    <tr>\n",
       "      <td>122</td>\n",
       "      <td>EGGS EGGS - MEDIUM</td>\n",
       "      <td>2960.102523</td>\n",
       "      <td>5416</td>\n",
       "      <td>GROCERY</td>\n",
       "      <td>[egg, medium]</td>\n",
       "      <td>Egg, whole, raw</td>\n",
       "      <td>[egg]</td>\n",
       "      <td>0.0</td>\n",
       "      <td>0.72</td>\n",
       "      <td>372.0</td>\n",
       "      <td>...</td>\n",
       "      <td>420334.558337</td>\n",
       "      <td>1095.237934</td>\n",
       "      <td>28150.574998</td>\n",
       "      <td>473616.40376</td>\n",
       "      <td>2634.491246</td>\n",
       "      <td>503.217429</td>\n",
       "      <td>0.0</td>\n",
       "      <td>888.030757</td>\n",
       "      <td>0.0</td>\n",
       "      <td>0.546548</td>\n",
       "    </tr>\n",
       "  </tbody>\n",
       "</table>\n",
       "<p>1 rows × 42 columns</p>\n",
       "</div>"
      ],
      "text/plain": [
       "              dunn_name   TOT_WEIGHT  QUANTITY DEPARTMENT dunn_ingredients  \\\n",
       "122  EGGS EGGS - MEDIUM  2960.102523      5416    GROCERY    [egg, medium]   \n",
       "\n",
       "            nut_name nut_ingredients  alcohol  carbohydrate  cholesterol  ...  \\\n",
       "122  Egg, whole, raw           [egg]      0.0          0.72        372.0  ...   \n",
       "\n",
       "        tot_sodium   tot_sugars  tot_total lipid  tot_vitamin a  \\\n",
       "122  420334.558337  1095.237934     28150.574998   473616.40376   \n",
       "\n",
       "     tot_vitamin b-12  tot_vitamin b-6  tot_vitamin e  tot_vitamin k  \\\n",
       "122       2634.491246       503.217429            0.0     888.030757   \n",
       "\n",
       "     tot_alcohol  avg_weight  \n",
       "122          0.0    0.546548  \n",
       "\n",
       "[1 rows x 42 columns]"
      ]
     },
     "execution_count": 27,
     "metadata": {},
     "output_type": "execute_result"
    }
   ],
   "source": [
    "#cholesterol\n",
    "tot_weight_nut_df.head(300)[tot_weight_nut_df.cholesterol > 250]"
   ]
  },
  {
   "cell_type": "code",
   "execution_count": 28,
   "metadata": {},
   "outputs": [
    {
     "name": "stderr",
     "output_type": "stream",
     "text": [
      "/home/ymentha/anaconda3/envs/ada/lib/python3.7/site-packages/ipykernel_launcher.py:2: UserWarning: Boolean Series key will be reindexed to match DataFrame index.\n",
      "  \n"
     ]
    },
    {
     "data": {
      "text/html": [
       "<div>\n",
       "<style scoped>\n",
       "    .dataframe tbody tr th:only-of-type {\n",
       "        vertical-align: middle;\n",
       "    }\n",
       "\n",
       "    .dataframe tbody tr th {\n",
       "        vertical-align: top;\n",
       "    }\n",
       "\n",
       "    .dataframe thead th {\n",
       "        text-align: right;\n",
       "    }\n",
       "</style>\n",
       "<table border=\"1\" class=\"dataframe\">\n",
       "  <thead>\n",
       "    <tr style=\"text-align: right;\">\n",
       "      <th></th>\n",
       "      <th>dunn_name</th>\n",
       "      <th>TOT_WEIGHT</th>\n",
       "      <th>QUANTITY</th>\n",
       "      <th>DEPARTMENT</th>\n",
       "      <th>dunn_ingredients</th>\n",
       "      <th>nut_name</th>\n",
       "      <th>nut_ingredients</th>\n",
       "      <th>alcohol</th>\n",
       "      <th>carbohydrate</th>\n",
       "      <th>cholesterol</th>\n",
       "      <th>...</th>\n",
       "      <th>tot_sodium</th>\n",
       "      <th>tot_sugars</th>\n",
       "      <th>tot_total lipid</th>\n",
       "      <th>tot_vitamin a</th>\n",
       "      <th>tot_vitamin b-12</th>\n",
       "      <th>tot_vitamin b-6</th>\n",
       "      <th>tot_vitamin e</th>\n",
       "      <th>tot_vitamin k</th>\n",
       "      <th>tot_alcohol</th>\n",
       "      <th>avg_weight</th>\n",
       "    </tr>\n",
       "  </thead>\n",
       "  <tbody>\n",
       "    <tr>\n",
       "      <td>43</td>\n",
       "      <td>MARGARINES MARGARINE: TUBS AND BOWLS</td>\n",
       "      <td>7462.705370</td>\n",
       "      <td>10154</td>\n",
       "      <td>GROCERY</td>\n",
       "      <td>[margarin, tub, bowl]</td>\n",
       "      <td>Margarine, tub, unsalted</td>\n",
       "      <td>[margarin, tub, unsalt]</td>\n",
       "      <td>0.0</td>\n",
       "      <td>0.75</td>\n",
       "      <td>0.0</td>\n",
       "      <td>...</td>\n",
       "      <td>2.089558e+05</td>\n",
       "      <td>0.0</td>\n",
       "      <td>598285.089537</td>\n",
       "      <td>6.111956e+06</td>\n",
       "      <td>597.016430</td>\n",
       "      <td>0.000000</td>\n",
       "      <td>0.0</td>\n",
       "      <td>684330.082457</td>\n",
       "      <td>0.0</td>\n",
       "      <td>0.734952</td>\n",
       "    </tr>\n",
       "    <tr>\n",
       "      <td>123</td>\n",
       "      <td>MARGARINES MARGARINE  STICK</td>\n",
       "      <td>2949.708776</td>\n",
       "      <td>6495</td>\n",
       "      <td>GROCERY</td>\n",
       "      <td>[margarin]</td>\n",
       "      <td>Margarine, NFS</td>\n",
       "      <td>[margarin, nf]</td>\n",
       "      <td>0.0</td>\n",
       "      <td>0.86</td>\n",
       "      <td>1.0</td>\n",
       "      <td>...</td>\n",
       "      <td>1.988104e+06</td>\n",
       "      <td>0.0</td>\n",
       "      <td>176422.081893</td>\n",
       "      <td>2.415811e+06</td>\n",
       "      <td>0.000000</td>\n",
       "      <td>11061.407910</td>\n",
       "      <td>0.0</td>\n",
       "      <td>298805.499009</td>\n",
       "      <td>0.0</td>\n",
       "      <td>0.454151</td>\n",
       "    </tr>\n",
       "    <tr>\n",
       "      <td>161</td>\n",
       "      <td>SHORTENING/OIL CANOLA OILS</td>\n",
       "      <td>2083.801648</td>\n",
       "      <td>1427</td>\n",
       "      <td>GROCERY</td>\n",
       "      <td>[canola, oil]</td>\n",
       "      <td>Canola and soybean oil</td>\n",
       "      <td>[canola, soybean, oil]</td>\n",
       "      <td>0.0</td>\n",
       "      <td>0.00</td>\n",
       "      <td>0.0</td>\n",
       "      <td>...</td>\n",
       "      <td>0.000000e+00</td>\n",
       "      <td>0.0</td>\n",
       "      <td>208380.164800</td>\n",
       "      <td>0.000000e+00</td>\n",
       "      <td>0.000000</td>\n",
       "      <td>0.000000</td>\n",
       "      <td>0.0</td>\n",
       "      <td>289440.048907</td>\n",
       "      <td>0.0</td>\n",
       "      <td>1.460267</td>\n",
       "    </tr>\n",
       "    <tr>\n",
       "      <td>259</td>\n",
       "      <td>SPICES &amp; EXTRACTS TABLE SALT POPCORN SALTICE C</td>\n",
       "      <td>952.161356</td>\n",
       "      <td>1308</td>\n",
       "      <td>GROCERY</td>\n",
       "      <td>[tabl, salt, popcorn, saltic]</td>\n",
       "      <td>Margarine, stick, salted</td>\n",
       "      <td>[margarin, salt]</td>\n",
       "      <td>0.0</td>\n",
       "      <td>0.70</td>\n",
       "      <td>0.0</td>\n",
       "      <td>...</td>\n",
       "      <td>7.150732e+05</td>\n",
       "      <td>0.0</td>\n",
       "      <td>76848.943033</td>\n",
       "      <td>7.798202e+05</td>\n",
       "      <td>95.216136</td>\n",
       "      <td>8.569452</td>\n",
       "      <td>0.0</td>\n",
       "      <td>88551.006096</td>\n",
       "      <td>0.0</td>\n",
       "      <td>0.727952</td>\n",
       "    </tr>\n",
       "  </tbody>\n",
       "</table>\n",
       "<p>4 rows × 42 columns</p>\n",
       "</div>"
      ],
      "text/plain": [
       "                                          dunn_name   TOT_WEIGHT  QUANTITY  \\\n",
       "43             MARGARINES MARGARINE: TUBS AND BOWLS  7462.705370     10154   \n",
       "123                     MARGARINES MARGARINE  STICK  2949.708776      6495   \n",
       "161                      SHORTENING/OIL CANOLA OILS  2083.801648      1427   \n",
       "259  SPICES & EXTRACTS TABLE SALT POPCORN SALTICE C   952.161356      1308   \n",
       "\n",
       "    DEPARTMENT               dunn_ingredients                  nut_name  \\\n",
       "43     GROCERY          [margarin, tub, bowl]  Margarine, tub, unsalted   \n",
       "123    GROCERY                     [margarin]            Margarine, NFS   \n",
       "161    GROCERY                  [canola, oil]    Canola and soybean oil   \n",
       "259    GROCERY  [tabl, salt, popcorn, saltic]  Margarine, stick, salted   \n",
       "\n",
       "             nut_ingredients  alcohol  carbohydrate  cholesterol  ...  \\\n",
       "43   [margarin, tub, unsalt]      0.0          0.75          0.0  ...   \n",
       "123           [margarin, nf]      0.0          0.86          1.0  ...   \n",
       "161   [canola, soybean, oil]      0.0          0.00          0.0  ...   \n",
       "259         [margarin, salt]      0.0          0.70          0.0  ...   \n",
       "\n",
       "       tot_sodium  tot_sugars  tot_total lipid  tot_vitamin a  \\\n",
       "43   2.089558e+05         0.0    598285.089537   6.111956e+06   \n",
       "123  1.988104e+06         0.0    176422.081893   2.415811e+06   \n",
       "161  0.000000e+00         0.0    208380.164800   0.000000e+00   \n",
       "259  7.150732e+05         0.0     76848.943033   7.798202e+05   \n",
       "\n",
       "     tot_vitamin b-12  tot_vitamin b-6  tot_vitamin e  tot_vitamin k  \\\n",
       "43         597.016430         0.000000            0.0  684330.082457   \n",
       "123          0.000000     11061.407910            0.0  298805.499009   \n",
       "161          0.000000         0.000000            0.0  289440.048907   \n",
       "259         95.216136         8.569452            0.0   88551.006096   \n",
       "\n",
       "     tot_alcohol  avg_weight  \n",
       "43           0.0    0.734952  \n",
       "123          0.0    0.454151  \n",
       "161          0.0    1.460267  \n",
       "259          0.0    0.727952  \n",
       "\n",
       "[4 rows x 42 columns]"
      ]
     },
     "execution_count": 28,
     "metadata": {},
     "output_type": "execute_result"
    }
   ],
   "source": [
    "#fatty acids total polyunsaturated\n",
    "tot_weight_nut_df.head(300)[tot_weight_nut_df['fatty acids total polyunsaturated'] > 20]"
   ]
  },
  {
   "cell_type": "markdown",
   "metadata": {},
   "source": [
    "<div class=\"alert alert-block alert-info\">\n",
    "Eggs and margarine/canola oil head out as outliers for cholesterol and fatty acids respectively. However, we don't know yet how much of the total quantity they represent: we investigate it in the following section.\n",
    "</div>"
   ]
  },
  {
   "cell_type": "markdown",
   "metadata": {},
   "source": [
    "#### Most relevant items per nutriments"
   ]
  },
  {
   "cell_type": "markdown",
   "metadata": {},
   "source": [
    "<div class=\"alert alert-block alert-info\">\n",
    "Now we highlight the most responsible items for the sold mass of a given nutriment, in order to infere where people mainly take their nutriment income from.\n",
    "</div>"
   ]
  },
  {
   "cell_type": "code",
   "execution_count": 29,
   "metadata": {},
   "outputs": [
    {
     "data": {
      "application/vnd.jupyter.widget-view+json": {
       "model_id": "3caa0a66872641d491e659a3437d8949",
       "version_major": 2,
       "version_minor": 0
      },
      "text/plain": [
       "interactive(children=(IntSlider(value=0, description='x', max=16), Output()), _dom_classes=('widget-interact',…"
      ]
     },
     "metadata": {},
     "output_type": "display_data"
    }
   ],
   "source": [
    "def g(x):\n",
    "    nutriment = nutriments[x]\n",
    "    temp = tot_weight_nut_df.sort_values(by = 'tot_' + nutriment,ascending = False)[['TOT_WEIGHT','dunn_name','nut_name','tot_' + nutriment,nutriment]].head(6)\n",
    "    print('#'*50 + nutriment.upper() + ' TOP NUTRIMENTS' + '#'*50)\n",
    "    temp.plot.bar(x = 'dunn_name',y = 'tot_' + nutriment)\n",
    "    return temp\n",
    "interact(g, x=widgets.IntSlider(min=0, max=len(nutriments) - 1, step=1, value=0));"
   ]
  },
  {
   "cell_type": "code",
   "execution_count": 30,
   "metadata": {},
   "outputs": [],
   "source": [
    "tot_weight_nut_df[tot_nutriments].sum().to_pickle('../saved_data/total_mass_nutrients.pickle')"
   ]
  },
  {
   "cell_type": "markdown",
   "metadata": {},
   "source": [
    "<div class=\"alert alert-block alert-info\">\n",
    "A few things sets out of this plots:\n",
    "    \n",
    "* Cholesterol: The dairy represent a big part of the cholesterol presence in total food consumption, with eggs and meat. Even if the eggs have about 30x more cholesterol than the milk, the quantity of milk overpasses by a similar factor the one of the eggs, which  makes them reach a similar score.\n",
    "* Energy: the bananas represent an overwhelming majority of the energy consumption: this result has to bet taken with some distance, as we saw earlier that the supermarket could do some reselling. Yet, we can see that the main sources of energy are indeed sweet and fatty articles.\n",
    "* The sodium consumption might be higher in real life, as no salt article is present in the top 5.\n",
    "</div>"
   ]
  },
  {
   "cell_type": "markdown",
   "metadata": {},
   "source": [
    "### Number items nutriments"
   ]
  },
  {
   "cell_type": "markdown",
   "metadata": {},
   "source": [
    "<div class=\"alert alert-block alert-info\">\n",
    "We analyze the items most bought in terms of counts: lets take a look at the most bought items\n",
    "</div>"
   ]
  },
  {
   "cell_type": "code",
   "execution_count": 31,
   "metadata": {},
   "outputs": [
    {
     "data": {
      "text/html": [
       "<div>\n",
       "<style scoped>\n",
       "    .dataframe tbody tr th:only-of-type {\n",
       "        vertical-align: middle;\n",
       "    }\n",
       "\n",
       "    .dataframe tbody tr th {\n",
       "        vertical-align: top;\n",
       "    }\n",
       "\n",
       "    .dataframe thead th {\n",
       "        text-align: right;\n",
       "    }\n",
       "</style>\n",
       "<table border=\"1\" class=\"dataframe\">\n",
       "  <thead>\n",
       "    <tr style=\"text-align: right;\">\n",
       "      <th></th>\n",
       "      <th>dunn_name</th>\n",
       "      <th>QUANTITY</th>\n",
       "      <th>nut_name</th>\n",
       "    </tr>\n",
       "  </thead>\n",
       "  <tbody>\n",
       "    <tr>\n",
       "      <td>0</td>\n",
       "      <td>FLUID MILK PRODUCTS FLUID MILK WHITE ONLY</td>\n",
       "      <td>91449</td>\n",
       "      <td>Milk, whole</td>\n",
       "    </tr>\n",
       "    <tr>\n",
       "      <td>1</td>\n",
       "      <td>YOGURT YOGURT NOT MULTI-PACKS</td>\n",
       "      <td>65544</td>\n",
       "      <td>Yogurt dressing</td>\n",
       "    </tr>\n",
       "    <tr>\n",
       "      <td>2</td>\n",
       "      <td>SOFT DRINKS SOFT DRINKS 12/18&amp;15PK CAN CAR</td>\n",
       "      <td>54983</td>\n",
       "      <td>Soft drink, NFS</td>\n",
       "    </tr>\n",
       "    <tr>\n",
       "      <td>3</td>\n",
       "      <td>SOFT DRINKS SFT DRNK 2 LITER BTL CARB INCL</td>\n",
       "      <td>54400</td>\n",
       "      <td>Soft drink, NFS</td>\n",
       "    </tr>\n",
       "    <tr>\n",
       "      <td>4</td>\n",
       "      <td>CHEESE SHREDDED CHEESE</td>\n",
       "      <td>35245</td>\n",
       "      <td>Cheese, NFS</td>\n",
       "    </tr>\n",
       "  </tbody>\n",
       "</table>\n",
       "</div>"
      ],
      "text/plain": [
       "                                    dunn_name  QUANTITY         nut_name\n",
       "0   FLUID MILK PRODUCTS FLUID MILK WHITE ONLY     91449      Milk, whole\n",
       "1               YOGURT YOGURT NOT MULTI-PACKS     65544  Yogurt dressing\n",
       "2  SOFT DRINKS SOFT DRINKS 12/18&15PK CAN CAR     54983  Soft drink, NFS\n",
       "3  SOFT DRINKS SFT DRNK 2 LITER BTL CARB INCL     54400  Soft drink, NFS\n",
       "4                      CHEESE SHREDDED CHEESE     35245      Cheese, NFS"
      ]
     },
     "execution_count": 31,
     "metadata": {},
     "output_type": "execute_result"
    }
   ],
   "source": [
    "tot_sells_nut_df.head(5)[['dunn_name','QUANTITY','nut_name']]"
   ]
  },
  {
   "cell_type": "markdown",
   "metadata": {
    "toc-hr-collapsed": false
   },
   "source": [
    "### Demographic nutriments"
   ]
  },
  {
   "cell_type": "markdown",
   "metadata": {},
   "source": [
    "<div class=\"alert alert-block alert-info\">\n",
    "The next idea is to check whether the nutrition profile does vary significantly across demographic features such as the income.\n",
    "</div>"
   ]
  },
  {
   "cell_type": "code",
   "execution_count": 32,
   "metadata": {},
   "outputs": [],
   "source": [
    "#get the nutriments amounts per article for each household\n",
    "demo_nut_df = house_nut_df.copy()\n",
    "demo_nut_df[nutriments] = demo_nut_df[nutriments].multiply(demo_nut_df.TOT_WEIGHT,axis = 0)  \n",
    "demo_nut_df = demo_nut_df.drop(columns = ['dunn_name','dunn_ingredients','nut_name','nut_ingredients'])\\\n",
    "                                .groupby('household_key')\\\n",
    "                                .agg('sum')\n",
    "\n",
    "demo_nut_df = demo_nut_df.join(hh_demographic_df.set_index('household_key'),how = 'inner')\n",
    "\n",
    "#we average on the total amount of food consumed\n",
    "demo_nut_df[nutriments] = demo_nut_df[nutriments].div(demo_nut_df.TOT_WEIGHT,axis = 0)"
   ]
  },
  {
   "cell_type": "markdown",
   "metadata": {
    "toc-hr-collapsed": true
   },
   "source": [
    "#### Income nutriments"
   ]
  },
  {
   "cell_type": "code",
   "execution_count": 33,
   "metadata": {},
   "outputs": [
    {
     "data": {
      "text/html": [
       "<div>\n",
       "<style scoped>\n",
       "    .dataframe tbody tr th:only-of-type {\n",
       "        vertical-align: middle;\n",
       "    }\n",
       "\n",
       "    .dataframe tbody tr th {\n",
       "        vertical-align: top;\n",
       "    }\n",
       "\n",
       "    .dataframe thead th {\n",
       "        text-align: right;\n",
       "    }\n",
       "</style>\n",
       "<table border=\"1\" class=\"dataframe\">\n",
       "  <thead>\n",
       "    <tr style=\"text-align: right;\">\n",
       "      <th></th>\n",
       "      <th>TOT_WEIGHT</th>\n",
       "      <th>alcohol</th>\n",
       "      <th>carbohydrate</th>\n",
       "      <th>cholesterol</th>\n",
       "      <th>energy</th>\n",
       "      <th>fatty acids total monounsaturated</th>\n",
       "      <th>fatty acids total polyunsaturated</th>\n",
       "      <th>fatty acids total saturated</th>\n",
       "      <th>fiber</th>\n",
       "      <th>protein</th>\n",
       "      <th>...</th>\n",
       "      <th>tot_vitamin e</th>\n",
       "      <th>tot_vitamin k</th>\n",
       "      <th>tot_alcohol</th>\n",
       "      <th>AGE_DESC</th>\n",
       "      <th>MARITAL_STATUS_CODE</th>\n",
       "      <th>INCOME_DESC</th>\n",
       "      <th>HOMEOWNER_DESC</th>\n",
       "      <th>HH_COMP_DESC</th>\n",
       "      <th>HOUSEHOLD_SIZE_DESC</th>\n",
       "      <th>KID_CATEGORY_DESC</th>\n",
       "    </tr>\n",
       "    <tr>\n",
       "      <th>household_key</th>\n",
       "      <th></th>\n",
       "      <th></th>\n",
       "      <th></th>\n",
       "      <th></th>\n",
       "      <th></th>\n",
       "      <th></th>\n",
       "      <th></th>\n",
       "      <th></th>\n",
       "      <th></th>\n",
       "      <th></th>\n",
       "      <th></th>\n",
       "      <th></th>\n",
       "      <th></th>\n",
       "      <th></th>\n",
       "      <th></th>\n",
       "      <th></th>\n",
       "      <th></th>\n",
       "      <th></th>\n",
       "      <th></th>\n",
       "      <th></th>\n",
       "      <th></th>\n",
       "    </tr>\n",
       "  </thead>\n",
       "  <tbody>\n",
       "  </tbody>\n",
       "</table>\n",
       "<p>0 rows × 42 columns</p>\n",
       "</div>"
      ],
      "text/plain": [
       "Empty DataFrame\n",
       "Columns: [TOT_WEIGHT, alcohol, carbohydrate, cholesterol, energy, fatty acids total monounsaturated, fatty acids total polyunsaturated, fatty acids total saturated, fiber, protein, sodium, sugars, total lipid, vitamin a, vitamin b-12, vitamin b-6, vitamin e, vitamin k, tot_carbohydrate, tot_cholesterol, tot_energy, tot_fatty acids total monounsaturated, tot_fatty acids total polyunsaturated, tot_fatty acids total saturated, tot_fiber, tot_protein, tot_sodium, tot_sugars, tot_total lipid, tot_vitamin a, tot_vitamin b-12, tot_vitamin b-6, tot_vitamin e, tot_vitamin k, tot_alcohol, AGE_DESC, MARITAL_STATUS_CODE, INCOME_DESC, HOMEOWNER_DESC, HH_COMP_DESC, HOUSEHOLD_SIZE_DESC, KID_CATEGORY_DESC]\n",
       "Index: []\n",
       "\n",
       "[0 rows x 42 columns]"
      ]
     },
     "execution_count": 33,
     "metadata": {},
     "output_type": "execute_result"
    }
   ],
   "source": [
    "income_nut_df = demo_nut_df.copy()\n",
    "\n",
    "#check that we treat all the cases\n",
    "income_nut_df[~income_nut_df.INCOME_DESC.str.contains('^[0-9]{2,3}-[0-9]{2,3}K$|Under 15K|250K+',regex = True)]"
   ]
  },
  {
   "cell_type": "code",
   "execution_count": 34,
   "metadata": {},
   "outputs": [
    {
     "name": "stdout",
     "output_type": "stream",
     "text": [
      "Extreme poor represent 0.08 of the dataset.\n",
      "Extreme wealhty represent 0.01 of the dataset.\n",
      "Number of poor households: 323\n",
      "Number of wealthy households: 406\n"
     ]
    }
   ],
   "source": [
    "lower_numb = income_nut_df[income_nut_df.INCOME_DESC.str.contains('Under 15K')].shape[0]\n",
    "higher_numb = income_nut_df[income_nut_df.INCOME_DESC.str.contains('250K+')].shape[0]\n",
    "tot_num = income_nut_df.shape[0]\n",
    "print('Extreme poor represent %.2f of the dataset.' % (lower_numb / tot_num))\n",
    "print('Extreme wealhty represent %.2f of the dataset.' % (higher_numb / tot_num))\n",
    "\n",
    "income_nut_df[['low_lim','high_lim']] = income_nut_df.INCOME_DESC.str.extract(r'^(\\d{2,3})-(\\d{2,3})K$')\n",
    "income_nut_df.dropna(inplace = True)\n",
    "income_nut_df[['low_lim','high_lim']] = income_nut_df[['low_lim','high_lim']].astype(int)\n",
    "income_nut_df['av_income'] = (income_nut_df.low_lim + income_nut_df.high_lim).div(2)\n",
    "income_nut_df.sort_values('av_income',inplace = True)\n",
    "med = income_nut_df.av_income.median()\n",
    "poors_df = income_nut_df[income_nut_df.av_income < med]\n",
    "wealthy_df = income_nut_df[income_nut_df.av_income >= med]\n",
    "\n",
    "print('Number of poor households: {}'.format(poors_df.shape[0]))\n",
    "print('Number of wealthy households: {}'.format(wealthy_df.shape[0]))"
   ]
  },
  {
   "cell_type": "markdown",
   "metadata": {},
   "source": [
    "<div class=\"alert alert-block alert-info\">\n",
    "The number of households is decently distributed across the 2 categories, and dropping the extremes is reasonable as their proportion is neglectable.\n",
    "</div>"
   ]
  },
  {
   "cell_type": "code",
   "execution_count": 35,
   "metadata": {},
   "outputs": [
    {
     "data": {
      "text/plain": [
       "<matplotlib.axes._subplots.AxesSubplot at 0x7f63c8525e90>"
      ]
     },
     "execution_count": 35,
     "metadata": {},
     "output_type": "execute_result"
    },
    {
     "data": {
      "image/png": "[encoded data removed]",
      "text/plain": [
       "<Figure size 432x288 with 1 Axes>"
      ]
     },
     "metadata": {
      "needs_background": "light"
     },
     "output_type": "display_data"
    }
   ],
   "source": [
    "sns.lineplot([0],[0],alpha = 0)"
   ]
  },
  {
   "cell_type": "code",
   "execution_count": 71,
   "metadata": {},
   "outputs": [
    {
     "data": {
      "application/vnd.jupyter.widget-view+json": {
       "model_id": "219ceb58fe6b4123ac1d6e78b2308e21",
       "version_major": 2,
       "version_minor": 0
      },
      "text/plain": [
       "interactive(children=(IntSlider(value=0, description='indx', max=16), Output()), _dom_classes=('widget-interac…"
      ]
     },
     "metadata": {},
     "output_type": "display_data"
    }
   ],
   "source": [
    "def plot2nut(nut_indx,df1,df2,lims = None):\n",
    "    nutriment = nutriments[nut_indx]\n",
    "    ttest = stats.ttest_ind(poors_df[nutriment], wealthy_df[nutriment], equal_var = False,)\n",
    "    pval = np.round(ttest[1],3)\n",
    "    fig, ax = plt.subplots(1,figsize = (20,5))\n",
    "    sns.distplot(df1[nutriment],norm_hist = True,ax = ax,label = 'low income')\n",
    "    sns.distplot(df2[nutriment],norm_hist = True,ax = ax,label = 'high income')\n",
    "    sns.lineplot([0],[0],alpha = 0,label = 'pvalue:' + str(pval))\n",
    "    ax.set_title(nutriment,fontsize = 25)\n",
    "    ax.legend()\n",
    "    unit = nutriment_units_df[nutriment_units_df['name'] == nutriment].unit_name.values[0]\n",
    "    ax.set_xlabel(unit + ' of ' + nutriment + ' /100g. of food',fontsize = 20)\n",
    "    ax.set_ylabel('proportion of people',fontsize = 20)\n",
    "    plt.legend(fontsize='xx-large', title_fontsize='40')\n",
    "\n",
    "    if lims is not None:\n",
    "        ax.set_xlim(lims)\n",
    "        plt.rc('figure', titlesize=12)  \n",
    "        plt.legend(fontsize='xx-large', title_fontsize='40')        \n",
    "        extra = Rectangle((0, 0), 1, 1, fc=\"w\", fill=False, edgecolor='none', linewidth=0)\n",
    "        plt.savefig('../results/' + nutriment.replace(\" \",\"_\") + '_pvalue.png')\n",
    "    print('Pvalue of different means: {}'.format(ttest[1]))\n",
    "    \n",
    "plot_tot_nut = lambda indx: plot2nut(indx,poors_df,wealthy_df)\n",
    "interact(plot_tot_nut, indx=widgets.IntSlider(min=0, max=len(nutriments) - 1, step=1, value=0));"
   ]
  },
  {
   "cell_type": "code",
   "execution_count": 72,
   "metadata": {},
   "outputs": [
    {
     "name": "stdout",
     "output_type": "stream",
     "text": [
      "Pvalue of different means: 0.004955558468053155\n",
      "Pvalue of different means: 0.006083461332628248\n",
      "Pvalue of different means: 0.017315133892777387\n",
      "Pvalue of different means: 0.011395208893132561\n"
     ]
    },
    {
     "data": {
      "image/png": "[encoded data removed]",
      "text/plain": [
       "<Figure size 1440x360 with 1 Axes>"
      ]
     },
     "metadata": {
      "needs_background": "light"
     },
     "output_type": "display_data"
    },
    {
     "data": {
      "image/png": "[encoded data removed]",
      "text/plain": [
       "<Figure size 1440x360 with 1 Axes>"
      ]
     },
     "metadata": {
      "needs_background": "light"
     },
     "output_type": "display_data"
    },
    {
     "data": {
      "image/png": "[encoded data removed]",
      "text/plain": [
       "<Figure size 1440x360 with 1 Axes>"
      ]
     },
     "metadata": {
      "needs_background": "light"
     },
     "output_type": "display_data"
    },
    {
     "data": {
      "image/png": "[encoded data removed]",
      "text/plain": [
       "<Figure size 1440x360 with 1 Axes>"
      ]
     },
     "metadata": {
      "needs_background": "light"
     },
     "output_type": "display_data"
    }
   ],
   "source": [
    "#saving interesting figures for the report\n",
    "plot2nut(1,poors_df,wealthy_df,(-1,23))\n",
    "plot2nut(3,poors_df,wealthy_df,(0,4))\n",
    "plot2nut(4,poors_df,wealthy_df,(0,2.5))\n",
    "plot2nut(10,poors_df,wealthy_df,(0,11))"
   ]
  },
  {
   "cell_type": "code",
   "execution_count": 38,
   "metadata": {},
   "outputs": [],
   "source": [
    "poors_df.to_pickle('../saved_data/poors_df.pickle')\n",
    "wealthy_df.to_pickle('../saved_data/wealthy_df.pickle')"
   ]
  },
  {
   "cell_type": "markdown",
   "metadata": {},
   "source": [
    "<div class=\"alert alert-block alert-info\">\n",
    "It looks like the nutriments which change significantly across the income are the fatty acids in general and the cholesterol.\n",
    "</div>"
   ]
  },
  {
   "cell_type": "markdown",
   "metadata": {},
   "source": [
    "#### Age nutriments"
   ]
  },
  {
   "cell_type": "code",
   "execution_count": 39,
   "metadata": {},
   "outputs": [
    {
     "data": {
      "text/html": [
       "<div>\n",
       "<style scoped>\n",
       "    .dataframe tbody tr th:only-of-type {\n",
       "        vertical-align: middle;\n",
       "    }\n",
       "\n",
       "    .dataframe tbody tr th {\n",
       "        vertical-align: top;\n",
       "    }\n",
       "\n",
       "    .dataframe thead th {\n",
       "        text-align: right;\n",
       "    }\n",
       "</style>\n",
       "<table border=\"1\" class=\"dataframe\">\n",
       "  <thead>\n",
       "    <tr style=\"text-align: right;\">\n",
       "      <th></th>\n",
       "      <th>TOT_WEIGHT</th>\n",
       "      <th>alcohol</th>\n",
       "      <th>carbohydrate</th>\n",
       "      <th>cholesterol</th>\n",
       "      <th>energy</th>\n",
       "      <th>fatty acids total monounsaturated</th>\n",
       "      <th>fatty acids total polyunsaturated</th>\n",
       "      <th>fatty acids total saturated</th>\n",
       "      <th>fiber</th>\n",
       "      <th>protein</th>\n",
       "      <th>...</th>\n",
       "      <th>tot_vitamin b-6</th>\n",
       "      <th>tot_vitamin e</th>\n",
       "      <th>tot_vitamin k</th>\n",
       "      <th>tot_alcohol</th>\n",
       "      <th>MARITAL_STATUS_CODE</th>\n",
       "      <th>INCOME_DESC</th>\n",
       "      <th>HOMEOWNER_DESC</th>\n",
       "      <th>HH_COMP_DESC</th>\n",
       "      <th>HOUSEHOLD_SIZE_DESC</th>\n",
       "      <th>KID_CATEGORY_DESC</th>\n",
       "    </tr>\n",
       "    <tr>\n",
       "      <th>AGE_DESC</th>\n",
       "      <th></th>\n",
       "      <th></th>\n",
       "      <th></th>\n",
       "      <th></th>\n",
       "      <th></th>\n",
       "      <th></th>\n",
       "      <th></th>\n",
       "      <th></th>\n",
       "      <th></th>\n",
       "      <th></th>\n",
       "      <th></th>\n",
       "      <th></th>\n",
       "      <th></th>\n",
       "      <th></th>\n",
       "      <th></th>\n",
       "      <th></th>\n",
       "      <th></th>\n",
       "      <th></th>\n",
       "      <th></th>\n",
       "      <th></th>\n",
       "      <th></th>\n",
       "    </tr>\n",
       "  </thead>\n",
       "  <tbody>\n",
       "    <tr>\n",
       "      <td>19-34</td>\n",
       "      <td>188</td>\n",
       "      <td>188</td>\n",
       "      <td>188</td>\n",
       "      <td>188</td>\n",
       "      <td>188</td>\n",
       "      <td>188</td>\n",
       "      <td>188</td>\n",
       "      <td>188</td>\n",
       "      <td>188</td>\n",
       "      <td>188</td>\n",
       "      <td>...</td>\n",
       "      <td>188</td>\n",
       "      <td>188</td>\n",
       "      <td>188</td>\n",
       "      <td>188</td>\n",
       "      <td>188</td>\n",
       "      <td>188</td>\n",
       "      <td>188</td>\n",
       "      <td>188</td>\n",
       "      <td>188</td>\n",
       "      <td>188</td>\n",
       "    </tr>\n",
       "    <tr>\n",
       "      <td>35-44</td>\n",
       "      <td>194</td>\n",
       "      <td>194</td>\n",
       "      <td>194</td>\n",
       "      <td>194</td>\n",
       "      <td>194</td>\n",
       "      <td>194</td>\n",
       "      <td>194</td>\n",
       "      <td>194</td>\n",
       "      <td>194</td>\n",
       "      <td>194</td>\n",
       "      <td>...</td>\n",
       "      <td>194</td>\n",
       "      <td>194</td>\n",
       "      <td>194</td>\n",
       "      <td>194</td>\n",
       "      <td>194</td>\n",
       "      <td>194</td>\n",
       "      <td>194</td>\n",
       "      <td>194</td>\n",
       "      <td>194</td>\n",
       "      <td>194</td>\n",
       "    </tr>\n",
       "    <tr>\n",
       "      <td>45-54</td>\n",
       "      <td>288</td>\n",
       "      <td>288</td>\n",
       "      <td>288</td>\n",
       "      <td>288</td>\n",
       "      <td>288</td>\n",
       "      <td>288</td>\n",
       "      <td>288</td>\n",
       "      <td>288</td>\n",
       "      <td>288</td>\n",
       "      <td>288</td>\n",
       "      <td>...</td>\n",
       "      <td>288</td>\n",
       "      <td>288</td>\n",
       "      <td>288</td>\n",
       "      <td>288</td>\n",
       "      <td>288</td>\n",
       "      <td>288</td>\n",
       "      <td>288</td>\n",
       "      <td>288</td>\n",
       "      <td>288</td>\n",
       "      <td>288</td>\n",
       "    </tr>\n",
       "    <tr>\n",
       "      <td>55-65+</td>\n",
       "      <td>131</td>\n",
       "      <td>131</td>\n",
       "      <td>131</td>\n",
       "      <td>131</td>\n",
       "      <td>131</td>\n",
       "      <td>131</td>\n",
       "      <td>131</td>\n",
       "      <td>131</td>\n",
       "      <td>131</td>\n",
       "      <td>131</td>\n",
       "      <td>...</td>\n",
       "      <td>131</td>\n",
       "      <td>131</td>\n",
       "      <td>131</td>\n",
       "      <td>131</td>\n",
       "      <td>131</td>\n",
       "      <td>131</td>\n",
       "      <td>131</td>\n",
       "      <td>131</td>\n",
       "      <td>131</td>\n",
       "      <td>131</td>\n",
       "    </tr>\n",
       "  </tbody>\n",
       "</table>\n",
       "<p>4 rows × 41 columns</p>\n",
       "</div>"
      ],
      "text/plain": [
       "          TOT_WEIGHT  alcohol  carbohydrate  cholesterol  energy  \\\n",
       "AGE_DESC                                                           \n",
       "19-34            188      188           188          188     188   \n",
       "35-44            194      194           194          194     194   \n",
       "45-54            288      288           288          288     288   \n",
       "55-65+           131      131           131          131     131   \n",
       "\n",
       "          fatty acids total monounsaturated  \\\n",
       "AGE_DESC                                      \n",
       "19-34                                   188   \n",
       "35-44                                   194   \n",
       "45-54                                   288   \n",
       "55-65+                                  131   \n",
       "\n",
       "          fatty acids total polyunsaturated  fatty acids total saturated  \\\n",
       "AGE_DESC                                                                   \n",
       "19-34                                   188                          188   \n",
       "35-44                                   194                          194   \n",
       "45-54                                   288                          288   \n",
       "55-65+                                  131                          131   \n",
       "\n",
       "          fiber  protein  ...  tot_vitamin b-6  tot_vitamin e  tot_vitamin k  \\\n",
       "AGE_DESC                  ...                                                  \n",
       "19-34       188      188  ...              188            188            188   \n",
       "35-44       194      194  ...              194            194            194   \n",
       "45-54       288      288  ...              288            288            288   \n",
       "55-65+      131      131  ...              131            131            131   \n",
       "\n",
       "          tot_alcohol  MARITAL_STATUS_CODE  INCOME_DESC  HOMEOWNER_DESC  \\\n",
       "AGE_DESC                                                                  \n",
       "19-34             188                  188          188             188   \n",
       "35-44             194                  194          194             194   \n",
       "45-54             288                  288          288             288   \n",
       "55-65+            131                  131          131             131   \n",
       "\n",
       "          HH_COMP_DESC  HOUSEHOLD_SIZE_DESC  KID_CATEGORY_DESC  \n",
       "AGE_DESC                                                        \n",
       "19-34              188                  188                188  \n",
       "35-44              194                  194                194  \n",
       "45-54              288                  288                288  \n",
       "55-65+             131                  131                131  \n",
       "\n",
       "[4 rows x 41 columns]"
      ]
     },
     "execution_count": 39,
     "metadata": {},
     "output_type": "execute_result"
    }
   ],
   "source": [
    "demo_nut_df.AGE_DESC = demo_nut_df.AGE_DESC.astype('category')\n",
    "dic_age = {'19-24':'19-34','25-34':'19-34','55-64':'55-65+','65+':'55-65+'}\n",
    "demo_nut_df.AGE_DESC = demo_nut_df.AGE_DESC.map(dic_age).fillna(demo_nut_df.AGE_DESC)\n",
    "\n",
    "demo_nut_df.groupby('AGE_DESC').count()"
   ]
  },
  {
   "cell_type": "markdown",
   "metadata": {},
   "source": [
    "<div class=\"alert alert-block alert-info\">\n",
    "The samples are evenly split across age categories.\n",
    "</div>"
   ]
  },
  {
   "cell_type": "code",
   "execution_count": 40,
   "metadata": {},
   "outputs": [],
   "source": [
    "uniques = np.sort(demo_nut_df.AGE_DESC.unique())\n",
    "age_cat_dfs = []\n",
    "for i in uniques:\n",
    "    age_cat_dfs.append(demo_nut_df[demo_nut_df.AGE_DESC == i])"
   ]
  },
  {
   "cell_type": "code",
   "execution_count": 41,
   "metadata": {},
   "outputs": [
    {
     "data": {
      "application/vnd.jupyter.widget-view+json": {
       "model_id": "3e5dceb8df1e4b4d9b653d1eccd8d3ae",
       "version_major": 2,
       "version_minor": 0
      },
      "text/plain": [
       "interactive(children=(IntSlider(value=0, description='indx', max=16), Output()), _dom_classes=('widget-interac…"
      ]
     },
     "metadata": {},
     "output_type": "display_data"
    }
   ],
   "source": [
    "def plotages(nut_indx,dfs):\n",
    "    fig, ax = plt.subplots(1,figsize = (20,5))\n",
    "    nutriment = nutriments[nut_indx]\n",
    "    for df in dfs:\n",
    "        sns.distplot(df[nutriment],norm_hist = True,ax = ax,label = df.iloc[0].AGE_DESC)\n",
    "    ax.set_title(nutriment)\n",
    "    ax.legend()\n",
    "    unit = nutriment_units_df[nutriment_units_df['name'] == nutriment].unit_name.values[0]\n",
    "    ax.set_xlabel(unit + ' of ' + nutriment + ' /100g. of food')\n",
    "    ax.set_ylabel('proportion of people')\n",
    "    \n",
    "plot_tot_ages = lambda indx: plotages(indx,age_cat_dfs)\n",
    "interact(plot_tot_ages, indx=widgets.IntSlider(min=0, max=len(nutriments) - 1, step=1, value=0));"
   ]
  },
  {
   "cell_type": "markdown",
   "metadata": {},
   "source": [
    "<div class=\"alert alert-block alert-info\">\n",
    "One intersting characteristic of this plot is the trend to consume more fibers as the age increases.\n",
    "</div>"
   ]
  },
  {
   "cell_type": "markdown",
   "metadata": {},
   "source": [
    "### Average nutriments consumption"
   ]
  },
  {
   "cell_type": "code",
   "execution_count": 120,
   "metadata": {},
   "outputs": [],
   "source": [
    "demo2 = demo_nut_df[nutriments].copy()"
   ]
  },
  {
   "cell_type": "code",
   "execution_count": 121,
   "metadata": {},
   "outputs": [],
   "source": [
    "short_cols = ['carbohydrate', 'cholesterol', 'energy',\n",
    "       'F.A. tot monounsat.',\n",
    "       'F.A. tot polyunsat', 'F.A total sat',\n",
    "       'fiber', 'protein', 'sodium', 'sugars', 'total lipid', 'vitamin a',\n",
    "       'vitamin b-12', 'vitamin b-6', 'vitamin e', 'vitamin k', 'alcohol']\n",
    "demo2.columns = short_cols\n",
    "all_nut2 = all_nutrition[nutriments].copy()\n",
    "all_nut2.columns = short_cols\n",
    "short_cols_rearrang = ['vitamin a','cholesterol', 'protein', 'sodium',\n",
    "       'vitamin b-12','vitamin k',\n",
    "       'F.A. tot polyunsat', 'F.A. tot monounsat.','F.A total sat', 'total lipid','energy','carbohydrate',\n",
    "        'sugars', 'vitamin e', 'alcohol', \n",
    "        'vitamin b-6','fiber']\n",
    "demo2 = demo2[short_cols_rearrang]\n",
    "all_nut2 = all_nut2[short_cols_rearrang]"
   ]
  },
  {
   "cell_type": "code",
   "execution_count": 122,
   "metadata": {},
   "outputs": [
    {
     "data": {
      "image/png": "[encoded data removed]",
      "text/plain": [
       "<Figure size 2160x720 with 6 Axes>"
      ]
     },
     "metadata": {
      "needs_background": "light"
     },
     "output_type": "display_data"
    },
    {
     "data": {
      "text/plain": [
       "<Figure size 432x288 with 0 Axes>"
      ]
     },
     "metadata": {},
     "output_type": "display_data"
    },
    {
     "data": {
      "text/plain": [
       "<Figure size 432x288 with 0 Axes>"
      ]
     },
     "metadata": {},
     "output_type": "display_data"
    },
    {
     "data": {
      "text/plain": [
       "<Figure size 432x288 with 0 Axes>"
      ]
     },
     "metadata": {},
     "output_type": "display_data"
    }
   ],
   "source": [
    "def plot_corr_mat(corrmat,title,ax):\n",
    "    plt.figure()\n",
    "    with sns.axes_style(\"white\"):\n",
    "        sns.heatmap(corrmat,\\\n",
    "                          cbar_kws = dict(use_gridspec=False,location=\"left\"), \\\n",
    "                          xticklabels=True,yticklabels=True,\\\n",
    "                          #mask=mask,\\\n",
    "                          cmap=\"YlGnBu\",square=True,\\\n",
    "                          ax = ax)\n",
    "        ax.xaxis.set_ticks_position('top')\n",
    "        ax.yaxis.set_ticks_position('right')\n",
    "        ax.set_xticklabels(ax.get_xticklabels(),rotation=90,fontsize = 11)\n",
    "        ax.set_yticklabels(ax.get_xticklabels(),rotation=0,fontsize = 11)\n",
    "        ax.set_title(title)\n",
    "\n",
    "corrmat_hseholds = demo2.corr()\n",
    "corrmat_food = all_nut2.corr()\n",
    "fig,axes = plt.subplots(1,3,figsize = (30,10))\n",
    "plot_corr_mat(corrmat_hseholds,'Correlation matrix of the avg nutriments consumption',axes[0])\n",
    "plot_corr_mat(corrmat_food,'Correlation matrix across articles',axes[1])\n",
    "plot_corr_mat(corrmat_hseholds - corrmat_food,'Difference btwn both',axes[2])\n",
    "fig.savefig('../results/consumption_nutriments_correlation.png')"
   ]
  },
  {
   "cell_type": "code",
   "execution_count": 123,
   "metadata": {},
   "outputs": [
    {
     "name": "stdout",
     "output_type": "stream",
     "text": [
      "Correlations between the average nutritional intake of each household\n"
     ]
    },
    {
     "data": {
      "image/png": "[encoded data removed]",
      "text/plain": [
       "<Figure size 432x288 with 2 Axes>"
      ]
     },
     "metadata": {
      "needs_background": "light"
     },
     "output_type": "display_data"
    },
    {
     "data": {
      "text/plain": [
       "<Figure size 432x288 with 0 Axes>"
      ]
     },
     "metadata": {},
     "output_type": "display_data"
    },
    {
     "data": {
      "image/png": "[encoded data removed]",
      "text/plain": [
       "<Figure size 432x288 with 2 Axes>"
      ]
     },
     "metadata": {
      "needs_background": "light"
     },
     "output_type": "display_data"
    },
    {
     "data": {
      "text/plain": [
       "<Figure size 432x288 with 0 Axes>"
      ]
     },
     "metadata": {},
     "output_type": "display_data"
    },
    {
     "data": {
      "image/png": "[encoded data removed]",
      "text/plain": [
       "<Figure size 432x288 with 2 Axes>"
      ]
     },
     "metadata": {
      "needs_background": "light"
     },
     "output_type": "display_data"
    },
    {
     "data": {
      "text/plain": [
       "<Figure size 432x288 with 0 Axes>"
      ]
     },
     "metadata": {},
     "output_type": "display_data"
    }
   ],
   "source": [
    "fig,ax = plt.subplots(1)\n",
    "plot_corr_mat(corrmat_hseholds,'Correlation matrix of the avg nuts consumption',ax)\n",
    "fig.savefig('../results/corr1.png')\n",
    "\n",
    "fig,ax = plt.subplots(1)\n",
    "plot_corr_mat(corrmat_food,'Correlation matrix of nuts amongst items',ax)\n",
    "fig.savefig('../results/corr2.png')\n",
    "\n",
    "fig,ax = plt.subplots(1)\n",
    "plot_corr_mat(corrmat_hseholds - corrmat_food,'Difference btwn both',ax)\n",
    "fig.savefig('../results/corr3.png')\n",
    "\n",
    "print('Correlations between the average nutritional intake of each household')"
   ]
  },
  {
   "cell_type": "markdown",
   "metadata": {},
   "source": [
    "<div class=\"alert alert-block alert-info\">\n",
    "We see that the sodium tends to be more consumed in association with lipids, and so does protein. Interestingly, the cholesterol does not seem to have a strong correlation with other lipids amongst food items,but gets associated in food consumption.\n",
    "</div>"
   ]
  },
  {
   "cell_type": "code",
   "execution_count": 106,
   "metadata": {
    "collapsed": true,
    "jupyter": {
     "outputs_hidden": true
    }
   },
   "outputs": [
    {
     "data": {
      "text/html": [
       "<div>\n",
       "<style scoped>\n",
       "    .dataframe tbody tr th:only-of-type {\n",
       "        vertical-align: middle;\n",
       "    }\n",
       "\n",
       "    .dataframe tbody tr th {\n",
       "        vertical-align: top;\n",
       "    }\n",
       "\n",
       "    .dataframe thead th {\n",
       "        text-align: right;\n",
       "    }\n",
       "</style>\n",
       "<table border=\"1\" class=\"dataframe\">\n",
       "  <thead>\n",
       "    <tr style=\"text-align: right;\">\n",
       "      <th></th>\n",
       "      <th>DEPARTMENT</th>\n",
       "      <th>dunn_name</th>\n",
       "      <th>dunn_ingredients</th>\n",
       "      <th>nut_name</th>\n",
       "      <th>nut_ingredients</th>\n",
       "      <th>alcohol</th>\n",
       "      <th>carbohydrate</th>\n",
       "      <th>cholesterol</th>\n",
       "      <th>energy</th>\n",
       "      <th>fatty acids total monounsaturated</th>\n",
       "      <th>...</th>\n",
       "      <th>fiber</th>\n",
       "      <th>protein</th>\n",
       "      <th>sodium</th>\n",
       "      <th>sugars</th>\n",
       "      <th>total lipid</th>\n",
       "      <th>vitamin a</th>\n",
       "      <th>vitamin b-12</th>\n",
       "      <th>vitamin b-6</th>\n",
       "      <th>vitamin e</th>\n",
       "      <th>vitamin k</th>\n",
       "    </tr>\n",
       "    <tr>\n",
       "      <th>PRODUCT_ID</th>\n",
       "      <th></th>\n",
       "      <th></th>\n",
       "      <th></th>\n",
       "      <th></th>\n",
       "      <th></th>\n",
       "      <th></th>\n",
       "      <th></th>\n",
       "      <th></th>\n",
       "      <th></th>\n",
       "      <th></th>\n",
       "      <th></th>\n",
       "      <th></th>\n",
       "      <th></th>\n",
       "      <th></th>\n",
       "      <th></th>\n",
       "      <th></th>\n",
       "      <th></th>\n",
       "      <th></th>\n",
       "      <th></th>\n",
       "      <th></th>\n",
       "      <th></th>\n",
       "    </tr>\n",
       "  </thead>\n",
       "  <tbody>\n",
       "    <tr>\n",
       "      <td>905476</td>\n",
       "      <td>MEAT</td>\n",
       "      <td>BEEF VARIETY MEAT - INTERNAL</td>\n",
       "      <td>[varieti, meat, intern]</td>\n",
       "      <td>Stewed variety meats, Puerto Rican style (most...</td>\n",
       "      <td>[stew, varieti, meat, puerto, rican, style, mo...</td>\n",
       "      <td>0.0</td>\n",
       "      <td>5.70</td>\n",
       "      <td>201.0</td>\n",
       "      <td>110.0</td>\n",
       "      <td>0.514</td>\n",
       "      <td>...</td>\n",
       "      <td>1.0</td>\n",
       "      <td>15.78</td>\n",
       "      <td>338.0</td>\n",
       "      <td>1.91</td>\n",
       "      <td>2.48</td>\n",
       "      <td>3669.0</td>\n",
       "      <td>27.45</td>\n",
       "      <td>0.487</td>\n",
       "      <td>0.0</td>\n",
       "      <td>4.8</td>\n",
       "    </tr>\n",
       "    <tr>\n",
       "      <td>895966</td>\n",
       "      <td>MEAT</td>\n",
       "      <td>BEEF VARIETY MEAT - EXTERNAL</td>\n",
       "      <td>[varieti, meat, extern]</td>\n",
       "      <td>Stewed variety meats, Puerto Rican style (most...</td>\n",
       "      <td>[stew, varieti, meat, puerto, rican, style, mo...</td>\n",
       "      <td>0.0</td>\n",
       "      <td>5.70</td>\n",
       "      <td>201.0</td>\n",
       "      <td>110.0</td>\n",
       "      <td>0.514</td>\n",
       "      <td>...</td>\n",
       "      <td>1.0</td>\n",
       "      <td>15.78</td>\n",
       "      <td>338.0</td>\n",
       "      <td>1.91</td>\n",
       "      <td>2.48</td>\n",
       "      <td>3669.0</td>\n",
       "      <td>27.45</td>\n",
       "      <td>0.487</td>\n",
       "      <td>0.0</td>\n",
       "      <td>4.8</td>\n",
       "    </tr>\n",
       "    <tr>\n",
       "      <td>924563</td>\n",
       "      <td>MEAT</td>\n",
       "      <td>BEEF VARIETY MEAT - CUBE/STW/STRP</td>\n",
       "      <td>[varieti, meat, cube, stw, strp]</td>\n",
       "      <td>Stewed variety meats, Puerto Rican style (most...</td>\n",
       "      <td>[stew, varieti, meat, puerto, rican, style, mo...</td>\n",
       "      <td>0.0</td>\n",
       "      <td>5.70</td>\n",
       "      <td>201.0</td>\n",
       "      <td>110.0</td>\n",
       "      <td>0.514</td>\n",
       "      <td>...</td>\n",
       "      <td>1.0</td>\n",
       "      <td>15.78</td>\n",
       "      <td>338.0</td>\n",
       "      <td>1.91</td>\n",
       "      <td>2.48</td>\n",
       "      <td>3669.0</td>\n",
       "      <td>27.45</td>\n",
       "      <td>0.487</td>\n",
       "      <td>0.0</td>\n",
       "      <td>4.8</td>\n",
       "    </tr>\n",
       "    <tr>\n",
       "      <td>843030</td>\n",
       "      <td>MEAT</td>\n",
       "      <td>PORK VARIETY MEAT - EXTERNAL</td>\n",
       "      <td>[varieti, meat, extern]</td>\n",
       "      <td>Stewed variety meats, Puerto Rican style (most...</td>\n",
       "      <td>[stew, varieti, meat, puerto, rican, style, mo...</td>\n",
       "      <td>0.0</td>\n",
       "      <td>5.70</td>\n",
       "      <td>201.0</td>\n",
       "      <td>110.0</td>\n",
       "      <td>0.514</td>\n",
       "      <td>...</td>\n",
       "      <td>1.0</td>\n",
       "      <td>15.78</td>\n",
       "      <td>338.0</td>\n",
       "      <td>1.91</td>\n",
       "      <td>2.48</td>\n",
       "      <td>3669.0</td>\n",
       "      <td>27.45</td>\n",
       "      <td>0.487</td>\n",
       "      <td>0.0</td>\n",
       "      <td>4.8</td>\n",
       "    </tr>\n",
       "    <tr>\n",
       "      <td>1034258</td>\n",
       "      <td>MEAT</td>\n",
       "      <td>PORK VARIETY MEAT - INTERNAL</td>\n",
       "      <td>[varieti, meat, intern]</td>\n",
       "      <td>Stewed variety meats, Puerto Rican style (most...</td>\n",
       "      <td>[stew, varieti, meat, puerto, rican, style, mo...</td>\n",
       "      <td>0.0</td>\n",
       "      <td>5.70</td>\n",
       "      <td>201.0</td>\n",
       "      <td>110.0</td>\n",
       "      <td>0.514</td>\n",
       "      <td>...</td>\n",
       "      <td>1.0</td>\n",
       "      <td>15.78</td>\n",
       "      <td>338.0</td>\n",
       "      <td>1.91</td>\n",
       "      <td>2.48</td>\n",
       "      <td>3669.0</td>\n",
       "      <td>27.45</td>\n",
       "      <td>0.487</td>\n",
       "      <td>0.0</td>\n",
       "      <td>4.8</td>\n",
       "    </tr>\n",
       "    <tr>\n",
       "      <td>...</td>\n",
       "      <td>...</td>\n",
       "      <td>...</td>\n",
       "      <td>...</td>\n",
       "      <td>...</td>\n",
       "      <td>...</td>\n",
       "      <td>...</td>\n",
       "      <td>...</td>\n",
       "      <td>...</td>\n",
       "      <td>...</td>\n",
       "      <td>...</td>\n",
       "      <td>...</td>\n",
       "      <td>...</td>\n",
       "      <td>...</td>\n",
       "      <td>...</td>\n",
       "      <td>...</td>\n",
       "      <td>...</td>\n",
       "      <td>...</td>\n",
       "      <td>...</td>\n",
       "      <td>...</td>\n",
       "      <td>...</td>\n",
       "      <td>...</td>\n",
       "    </tr>\n",
       "    <tr>\n",
       "      <td>821557</td>\n",
       "      <td>NUTRITION</td>\n",
       "      <td>JUICE NON-CARB JCE(OVER 50% JCE)</td>\n",
       "      <td>[non, carb, jce]</td>\n",
       "      <td>Beer, low carb</td>\n",
       "      <td>[beer, low, carb]</td>\n",
       "      <td>3.3</td>\n",
       "      <td>0.73</td>\n",
       "      <td>0.0</td>\n",
       "      <td>27.0</td>\n",
       "      <td>0.000</td>\n",
       "      <td>...</td>\n",
       "      <td>0.0</td>\n",
       "      <td>0.17</td>\n",
       "      <td>3.0</td>\n",
       "      <td>0.00</td>\n",
       "      <td>0.00</td>\n",
       "      <td>0.0</td>\n",
       "      <td>0.00</td>\n",
       "      <td>0.000</td>\n",
       "      <td>0.0</td>\n",
       "      <td>0.0</td>\n",
       "    </tr>\n",
       "    <tr>\n",
       "      <td>1032551</td>\n",
       "      <td>DELI</td>\n",
       "      <td>SERVICE BEVERAGE SV BEV: CARB BEVERAGE</td>\n",
       "      <td>[bev, carb, beverag]</td>\n",
       "      <td>Beer, low carb</td>\n",
       "      <td>[beer, low, carb]</td>\n",
       "      <td>3.3</td>\n",
       "      <td>0.73</td>\n",
       "      <td>0.0</td>\n",
       "      <td>27.0</td>\n",
       "      <td>0.000</td>\n",
       "      <td>...</td>\n",
       "      <td>0.0</td>\n",
       "      <td>0.17</td>\n",
       "      <td>3.0</td>\n",
       "      <td>0.00</td>\n",
       "      <td>0.00</td>\n",
       "      <td>0.0</td>\n",
       "      <td>0.00</td>\n",
       "      <td>0.000</td>\n",
       "      <td>0.0</td>\n",
       "      <td>0.0</td>\n",
       "    </tr>\n",
       "    <tr>\n",
       "      <td>872278</td>\n",
       "      <td>DELI</td>\n",
       "      <td>SERVICE BEVERAGE SV BEV: N/CARB FLV FRK/MINWTR</td>\n",
       "      <td>[bev, carb, flv, frk, minwtr]</td>\n",
       "      <td>Beer, low carb</td>\n",
       "      <td>[beer, low, carb]</td>\n",
       "      <td>3.3</td>\n",
       "      <td>0.73</td>\n",
       "      <td>0.0</td>\n",
       "      <td>27.0</td>\n",
       "      <td>0.000</td>\n",
       "      <td>...</td>\n",
       "      <td>0.0</td>\n",
       "      <td>0.17</td>\n",
       "      <td>3.0</td>\n",
       "      <td>0.00</td>\n",
       "      <td>0.00</td>\n",
       "      <td>0.0</td>\n",
       "      <td>0.00</td>\n",
       "      <td>0.000</td>\n",
       "      <td>0.0</td>\n",
       "      <td>0.0</td>\n",
       "    </tr>\n",
       "    <tr>\n",
       "      <td>219021</td>\n",
       "      <td>GROCERY</td>\n",
       "      <td>WATER - CARBONATED/FLVRD DRINK NON-CARB FLVRD ...</td>\n",
       "      <td>[non, carb, flavor, drnkng, mnrl, wat]</td>\n",
       "      <td>Beer, low carb</td>\n",
       "      <td>[beer, low, carb]</td>\n",
       "      <td>3.3</td>\n",
       "      <td>0.73</td>\n",
       "      <td>0.0</td>\n",
       "      <td>27.0</td>\n",
       "      <td>0.000</td>\n",
       "      <td>...</td>\n",
       "      <td>0.0</td>\n",
       "      <td>0.17</td>\n",
       "      <td>3.0</td>\n",
       "      <td>0.00</td>\n",
       "      <td>0.00</td>\n",
       "      <td>0.0</td>\n",
       "      <td>0.00</td>\n",
       "      <td>0.000</td>\n",
       "      <td>0.0</td>\n",
       "      <td>0.0</td>\n",
       "    </tr>\n",
       "    <tr>\n",
       "      <td>826272</td>\n",
       "      <td>NUTRITION</td>\n",
       "      <td>WATER NON-CARB WATER FLVR - DRNK/MNR</td>\n",
       "      <td>[non, carb, water, flvr, drink, mnr]</td>\n",
       "      <td>Fruit juice and water drink, with high vitamin...</td>\n",
       "      <td>[fruit, juic, water, drink, high, vitamin, cal...</td>\n",
       "      <td>0.0</td>\n",
       "      <td>7.40</td>\n",
       "      <td>0.0</td>\n",
       "      <td>31.0</td>\n",
       "      <td>0.002</td>\n",
       "      <td>...</td>\n",
       "      <td>0.0</td>\n",
       "      <td>0.00</td>\n",
       "      <td>11.0</td>\n",
       "      <td>6.12</td>\n",
       "      <td>0.00</td>\n",
       "      <td>0.0</td>\n",
       "      <td>0.00</td>\n",
       "      <td>0.022</td>\n",
       "      <td>0.0</td>\n",
       "      <td>0.2</td>\n",
       "    </tr>\n",
       "  </tbody>\n",
       "</table>\n",
       "<p>1829 rows × 22 columns</p>\n",
       "</div>"
      ],
      "text/plain": [
       "           DEPARTMENT                                          dunn_name  \\\n",
       "PRODUCT_ID                                                                 \n",
       "905476           MEAT                       BEEF VARIETY MEAT - INTERNAL   \n",
       "895966           MEAT                       BEEF VARIETY MEAT - EXTERNAL   \n",
       "924563           MEAT                  BEEF VARIETY MEAT - CUBE/STW/STRP   \n",
       "843030           MEAT                       PORK VARIETY MEAT - EXTERNAL   \n",
       "1034258          MEAT                       PORK VARIETY MEAT - INTERNAL   \n",
       "...               ...                                                ...   \n",
       "821557      NUTRITION                   JUICE NON-CARB JCE(OVER 50% JCE)   \n",
       "1032551          DELI             SERVICE BEVERAGE SV BEV: CARB BEVERAGE   \n",
       "872278           DELI     SERVICE BEVERAGE SV BEV: N/CARB FLV FRK/MINWTR   \n",
       "219021        GROCERY  WATER - CARBONATED/FLVRD DRINK NON-CARB FLVRD ...   \n",
       "826272      NUTRITION               WATER NON-CARB WATER FLVR - DRNK/MNR   \n",
       "\n",
       "                                  dunn_ingredients  \\\n",
       "PRODUCT_ID                                           \n",
       "905476                     [varieti, meat, intern]   \n",
       "895966                     [varieti, meat, extern]   \n",
       "924563            [varieti, meat, cube, stw, strp]   \n",
       "843030                     [varieti, meat, extern]   \n",
       "1034258                    [varieti, meat, intern]   \n",
       "...                                            ...   \n",
       "821557                            [non, carb, jce]   \n",
       "1032551                       [bev, carb, beverag]   \n",
       "872278               [bev, carb, flv, frk, minwtr]   \n",
       "219021      [non, carb, flavor, drnkng, mnrl, wat]   \n",
       "826272        [non, carb, water, flvr, drink, mnr]   \n",
       "\n",
       "                                                     nut_name  \\\n",
       "PRODUCT_ID                                                      \n",
       "905476      Stewed variety meats, Puerto Rican style (most...   \n",
       "895966      Stewed variety meats, Puerto Rican style (most...   \n",
       "924563      Stewed variety meats, Puerto Rican style (most...   \n",
       "843030      Stewed variety meats, Puerto Rican style (most...   \n",
       "1034258     Stewed variety meats, Puerto Rican style (most...   \n",
       "...                                                       ...   \n",
       "821557                                         Beer, low carb   \n",
       "1032551                                        Beer, low carb   \n",
       "872278                                         Beer, low carb   \n",
       "219021                                         Beer, low carb   \n",
       "826272      Fruit juice and water drink, with high vitamin...   \n",
       "\n",
       "                                              nut_ingredients  alcohol  \\\n",
       "PRODUCT_ID                                                               \n",
       "905476      [stew, varieti, meat, puerto, rican, style, mo...      0.0   \n",
       "895966      [stew, varieti, meat, puerto, rican, style, mo...      0.0   \n",
       "924563      [stew, varieti, meat, puerto, rican, style, mo...      0.0   \n",
       "843030      [stew, varieti, meat, puerto, rican, style, mo...      0.0   \n",
       "1034258     [stew, varieti, meat, puerto, rican, style, mo...      0.0   \n",
       "...                                                       ...      ...   \n",
       "821557                                      [beer, low, carb]      3.3   \n",
       "1032551                                     [beer, low, carb]      3.3   \n",
       "872278                                      [beer, low, carb]      3.3   \n",
       "219021                                      [beer, low, carb]      3.3   \n",
       "826272      [fruit, juic, water, drink, high, vitamin, cal...      0.0   \n",
       "\n",
       "            carbohydrate  cholesterol  energy  \\\n",
       "PRODUCT_ID                                      \n",
       "905476              5.70        201.0   110.0   \n",
       "895966              5.70        201.0   110.0   \n",
       "924563              5.70        201.0   110.0   \n",
       "843030              5.70        201.0   110.0   \n",
       "1034258             5.70        201.0   110.0   \n",
       "...                  ...          ...     ...   \n",
       "821557              0.73          0.0    27.0   \n",
       "1032551             0.73          0.0    27.0   \n",
       "872278              0.73          0.0    27.0   \n",
       "219021              0.73          0.0    27.0   \n",
       "826272              7.40          0.0    31.0   \n",
       "\n",
       "            fatty acids total monounsaturated  ...  fiber  protein  sodium  \\\n",
       "PRODUCT_ID                                     ...                           \n",
       "905476                                  0.514  ...    1.0    15.78   338.0   \n",
       "895966                                  0.514  ...    1.0    15.78   338.0   \n",
       "924563                                  0.514  ...    1.0    15.78   338.0   \n",
       "843030                                  0.514  ...    1.0    15.78   338.0   \n",
       "1034258                                 0.514  ...    1.0    15.78   338.0   \n",
       "...                                       ...  ...    ...      ...     ...   \n",
       "821557                                  0.000  ...    0.0     0.17     3.0   \n",
       "1032551                                 0.000  ...    0.0     0.17     3.0   \n",
       "872278                                  0.000  ...    0.0     0.17     3.0   \n",
       "219021                                  0.000  ...    0.0     0.17     3.0   \n",
       "826272                                  0.002  ...    0.0     0.00    11.0   \n",
       "\n",
       "            sugars  total lipid  vitamin a  vitamin b-12  vitamin b-6  \\\n",
       "PRODUCT_ID                                                              \n",
       "905476        1.91         2.48     3669.0         27.45        0.487   \n",
       "895966        1.91         2.48     3669.0         27.45        0.487   \n",
       "924563        1.91         2.48     3669.0         27.45        0.487   \n",
       "843030        1.91         2.48     3669.0         27.45        0.487   \n",
       "1034258       1.91         2.48     3669.0         27.45        0.487   \n",
       "...            ...          ...        ...           ...          ...   \n",
       "821557        0.00         0.00        0.0          0.00        0.000   \n",
       "1032551       0.00         0.00        0.0          0.00        0.000   \n",
       "872278        0.00         0.00        0.0          0.00        0.000   \n",
       "219021        0.00         0.00        0.0          0.00        0.000   \n",
       "826272        6.12         0.00        0.0          0.00        0.022   \n",
       "\n",
       "            vitamin e  vitamin k  \n",
       "PRODUCT_ID                        \n",
       "905476            0.0        4.8  \n",
       "895966            0.0        4.8  \n",
       "924563            0.0        4.8  \n",
       "843030            0.0        4.8  \n",
       "1034258           0.0        4.8  \n",
       "...               ...        ...  \n",
       "821557            0.0        0.0  \n",
       "1032551           0.0        0.0  \n",
       "872278            0.0        0.0  \n",
       "219021            0.0        0.0  \n",
       "826272            0.0        0.2  \n",
       "\n",
       "[1829 rows x 22 columns]"
      ]
     },
     "execution_count": 106,
     "metadata": {},
     "output_type": "execute_result"
    }
   ],
   "source": [
    "all_nutrition.sort_values('vitamin b-12',ascending = False)"
   ]
  },
  {
   "cell_type": "markdown",
   "metadata": {},
   "source": [
    "### Unhealthy households detection"
   ]
  },
  {
   "cell_type": "code",
   "execution_count": 43,
   "metadata": {},
   "outputs": [],
   "source": [
    "hshold_dtction_df = house_nut_df.groupby('household_key')\\\n",
    "                                .agg(sum)\\\n",
    "                                .drop(columns = nutriments)\n",
    "hshold_dtction_df[tot_nutriments] = hshold_dtction_df[tot_nutriments].div(hshold_dtction_df.TOT_WEIGHT, axis = 0)\n",
    "#at that stage the to_nutriments have the average amount of nutrients\n",
    "hshold_dtction_df = hshold_dtction_df.rename(columns= lambda x: 'avg_' + x[4:] if x in tot_nutriments else x )\n",
    "avg_nutriments = ['avg_' + x[4:] for x in tot_nutriments]"
   ]
  },
  {
   "cell_type": "code",
   "execution_count": 44,
   "metadata": {},
   "outputs": [
    {
     "data": {
      "text/html": [
       "<div>\n",
       "<style scoped>\n",
       "    .dataframe tbody tr th:only-of-type {\n",
       "        vertical-align: middle;\n",
       "    }\n",
       "\n",
       "    .dataframe tbody tr th {\n",
       "        vertical-align: top;\n",
       "    }\n",
       "\n",
       "    .dataframe thead th {\n",
       "        text-align: right;\n",
       "    }\n",
       "</style>\n",
       "<table border=\"1\" class=\"dataframe\">\n",
       "  <thead>\n",
       "    <tr style=\"text-align: right;\">\n",
       "      <th></th>\n",
       "      <th>TOT_WEIGHT</th>\n",
       "      <th>avg_carbohydrate</th>\n",
       "      <th>avg_cholesterol</th>\n",
       "      <th>avg_energy</th>\n",
       "      <th>avg_fatty acids total monounsaturated</th>\n",
       "      <th>avg_fatty acids total polyunsaturated</th>\n",
       "      <th>avg_fatty acids total saturated</th>\n",
       "      <th>avg_fiber</th>\n",
       "      <th>avg_protein</th>\n",
       "      <th>avg_sodium</th>\n",
       "      <th>avg_sugars</th>\n",
       "      <th>avg_total lipid</th>\n",
       "      <th>avg_vitamin a</th>\n",
       "      <th>avg_vitamin b-12</th>\n",
       "      <th>avg_vitamin b-6</th>\n",
       "      <th>avg_vitamin e</th>\n",
       "      <th>avg_vitamin k</th>\n",
       "      <th>avg_alcohol</th>\n",
       "    </tr>\n",
       "    <tr>\n",
       "      <th>household_key</th>\n",
       "      <th></th>\n",
       "      <th></th>\n",
       "      <th></th>\n",
       "      <th></th>\n",
       "      <th></th>\n",
       "      <th></th>\n",
       "      <th></th>\n",
       "      <th></th>\n",
       "      <th></th>\n",
       "      <th></th>\n",
       "      <th></th>\n",
       "      <th></th>\n",
       "      <th></th>\n",
       "      <th></th>\n",
       "      <th></th>\n",
       "      <th></th>\n",
       "      <th></th>\n",
       "      <th></th>\n",
       "    </tr>\n",
       "  </thead>\n",
       "  <tbody>\n",
       "    <tr>\n",
       "      <td>1</td>\n",
       "      <td>1606.746420</td>\n",
       "      <td>20.815562</td>\n",
       "      <td>4.917450</td>\n",
       "      <td>122.458164</td>\n",
       "      <td>1.384499</td>\n",
       "      <td>1.026762</td>\n",
       "      <td>1.143105</td>\n",
       "      <td>2.064636</td>\n",
       "      <td>2.668062</td>\n",
       "      <td>109.498900</td>\n",
       "      <td>10.571646</td>\n",
       "      <td>3.904766</td>\n",
       "      <td>24.654844</td>\n",
       "      <td>0.096988</td>\n",
       "      <td>0.247440</td>\n",
       "      <td>0.009265</td>\n",
       "      <td>4.218103</td>\n",
       "      <td>0.005290</td>\n",
       "    </tr>\n",
       "    <tr>\n",
       "      <td>2</td>\n",
       "      <td>508.592667</td>\n",
       "      <td>18.883603</td>\n",
       "      <td>6.762635</td>\n",
       "      <td>116.889942</td>\n",
       "      <td>1.342661</td>\n",
       "      <td>0.888658</td>\n",
       "      <td>1.201999</td>\n",
       "      <td>1.334151</td>\n",
       "      <td>2.749659</td>\n",
       "      <td>128.867910</td>\n",
       "      <td>11.188504</td>\n",
       "      <td>3.775203</td>\n",
       "      <td>31.323143</td>\n",
       "      <td>0.195706</td>\n",
       "      <td>0.159276</td>\n",
       "      <td>0.015712</td>\n",
       "      <td>5.552212</td>\n",
       "      <td>0.018652</td>\n",
       "    </tr>\n",
       "    <tr>\n",
       "      <td>3</td>\n",
       "      <td>963.064393</td>\n",
       "      <td>20.644436</td>\n",
       "      <td>6.537102</td>\n",
       "      <td>128.600300</td>\n",
       "      <td>1.509795</td>\n",
       "      <td>1.040541</td>\n",
       "      <td>1.194156</td>\n",
       "      <td>1.342363</td>\n",
       "      <td>3.308447</td>\n",
       "      <td>165.907171</td>\n",
       "      <td>10.927924</td>\n",
       "      <td>4.154663</td>\n",
       "      <td>32.745463</td>\n",
       "      <td>0.248729</td>\n",
       "      <td>0.180544</td>\n",
       "      <td>0.010934</td>\n",
       "      <td>4.238553</td>\n",
       "      <td>0.004663</td>\n",
       "    </tr>\n",
       "    <tr>\n",
       "      <td>4</td>\n",
       "      <td>114.247721</td>\n",
       "      <td>32.782862</td>\n",
       "      <td>16.028504</td>\n",
       "      <td>252.944056</td>\n",
       "      <td>3.558397</td>\n",
       "      <td>2.430715</td>\n",
       "      <td>3.442074</td>\n",
       "      <td>1.575531</td>\n",
       "      <td>7.451220</td>\n",
       "      <td>433.697168</td>\n",
       "      <td>8.412288</td>\n",
       "      <td>10.417785</td>\n",
       "      <td>62.285841</td>\n",
       "      <td>0.596770</td>\n",
       "      <td>0.272482</td>\n",
       "      <td>0.443764</td>\n",
       "      <td>8.199564</td>\n",
       "      <td>0.000000</td>\n",
       "    </tr>\n",
       "    <tr>\n",
       "      <td>5</td>\n",
       "      <td>116.519451</td>\n",
       "      <td>16.455747</td>\n",
       "      <td>14.629272</td>\n",
       "      <td>153.545850</td>\n",
       "      <td>2.840278</td>\n",
       "      <td>1.676429</td>\n",
       "      <td>2.524711</td>\n",
       "      <td>0.979186</td>\n",
       "      <td>5.137048</td>\n",
       "      <td>239.131321</td>\n",
       "      <td>8.585700</td>\n",
       "      <td>7.708151</td>\n",
       "      <td>45.049339</td>\n",
       "      <td>0.790091</td>\n",
       "      <td>0.756571</td>\n",
       "      <td>0.037928</td>\n",
       "      <td>4.063546</td>\n",
       "      <td>0.049748</td>\n",
       "    </tr>\n",
       "    <tr>\n",
       "      <td>...</td>\n",
       "      <td>...</td>\n",
       "      <td>...</td>\n",
       "      <td>...</td>\n",
       "      <td>...</td>\n",
       "      <td>...</td>\n",
       "      <td>...</td>\n",
       "      <td>...</td>\n",
       "      <td>...</td>\n",
       "      <td>...</td>\n",
       "      <td>...</td>\n",
       "      <td>...</td>\n",
       "      <td>...</td>\n",
       "      <td>...</td>\n",
       "      <td>...</td>\n",
       "      <td>...</td>\n",
       "      <td>...</td>\n",
       "      <td>...</td>\n",
       "      <td>...</td>\n",
       "    </tr>\n",
       "    <tr>\n",
       "      <td>2496</td>\n",
       "      <td>990.618807</td>\n",
       "      <td>17.750076</td>\n",
       "      <td>8.999959</td>\n",
       "      <td>141.074078</td>\n",
       "      <td>2.404298</td>\n",
       "      <td>1.759908</td>\n",
       "      <td>1.834523</td>\n",
       "      <td>1.536677</td>\n",
       "      <td>3.968632</td>\n",
       "      <td>176.278972</td>\n",
       "      <td>8.557939</td>\n",
       "      <td>6.488790</td>\n",
       "      <td>48.708130</td>\n",
       "      <td>0.192999</td>\n",
       "      <td>0.188987</td>\n",
       "      <td>0.007715</td>\n",
       "      <td>6.944614</td>\n",
       "      <td>0.023041</td>\n",
       "    </tr>\n",
       "    <tr>\n",
       "      <td>2497</td>\n",
       "      <td>2273.762535</td>\n",
       "      <td>18.949801</td>\n",
       "      <td>9.284302</td>\n",
       "      <td>133.362753</td>\n",
       "      <td>1.766678</td>\n",
       "      <td>1.608930</td>\n",
       "      <td>1.316996</td>\n",
       "      <td>1.777558</td>\n",
       "      <td>3.758502</td>\n",
       "      <td>210.422348</td>\n",
       "      <td>7.190581</td>\n",
       "      <td>5.092596</td>\n",
       "      <td>51.731374</td>\n",
       "      <td>0.212867</td>\n",
       "      <td>0.203798</td>\n",
       "      <td>0.007680</td>\n",
       "      <td>8.945849</td>\n",
       "      <td>0.002916</td>\n",
       "    </tr>\n",
       "    <tr>\n",
       "      <td>2498</td>\n",
       "      <td>839.468760</td>\n",
       "      <td>18.392436</td>\n",
       "      <td>7.295885</td>\n",
       "      <td>123.894018</td>\n",
       "      <td>1.569172</td>\n",
       "      <td>1.024291</td>\n",
       "      <td>1.594036</td>\n",
       "      <td>1.403954</td>\n",
       "      <td>3.122829</td>\n",
       "      <td>126.549856</td>\n",
       "      <td>8.863026</td>\n",
       "      <td>4.635154</td>\n",
       "      <td>37.001936</td>\n",
       "      <td>0.253028</td>\n",
       "      <td>0.191620</td>\n",
       "      <td>0.027643</td>\n",
       "      <td>3.711893</td>\n",
       "      <td>0.029840</td>\n",
       "    </tr>\n",
       "    <tr>\n",
       "      <td>2499</td>\n",
       "      <td>1111.641445</td>\n",
       "      <td>22.456234</td>\n",
       "      <td>6.816968</td>\n",
       "      <td>144.962727</td>\n",
       "      <td>1.824260</td>\n",
       "      <td>1.247173</td>\n",
       "      <td>1.527819</td>\n",
       "      <td>1.451037</td>\n",
       "      <td>3.507744</td>\n",
       "      <td>174.803630</td>\n",
       "      <td>12.087187</td>\n",
       "      <td>5.004494</td>\n",
       "      <td>30.994536</td>\n",
       "      <td>0.213856</td>\n",
       "      <td>0.165187</td>\n",
       "      <td>0.013039</td>\n",
       "      <td>4.444006</td>\n",
       "      <td>0.000000</td>\n",
       "    </tr>\n",
       "    <tr>\n",
       "      <td>2500</td>\n",
       "      <td>1123.051243</td>\n",
       "      <td>20.666975</td>\n",
       "      <td>8.869427</td>\n",
       "      <td>129.826884</td>\n",
       "      <td>1.421619</td>\n",
       "      <td>0.893939</td>\n",
       "      <td>1.577810</td>\n",
       "      <td>1.670390</td>\n",
       "      <td>3.317707</td>\n",
       "      <td>127.074855</td>\n",
       "      <td>10.609253</td>\n",
       "      <td>4.351876</td>\n",
       "      <td>43.704588</td>\n",
       "      <td>0.242816</td>\n",
       "      <td>0.292135</td>\n",
       "      <td>0.041086</td>\n",
       "      <td>3.687663</td>\n",
       "      <td>0.005362</td>\n",
       "    </tr>\n",
       "  </tbody>\n",
       "</table>\n",
       "<p>2500 rows × 18 columns</p>\n",
       "</div>"
      ],
      "text/plain": [
       "                TOT_WEIGHT  avg_carbohydrate  avg_cholesterol  avg_energy  \\\n",
       "household_key                                                               \n",
       "1              1606.746420         20.815562         4.917450  122.458164   \n",
       "2               508.592667         18.883603         6.762635  116.889942   \n",
       "3               963.064393         20.644436         6.537102  128.600300   \n",
       "4               114.247721         32.782862        16.028504  252.944056   \n",
       "5               116.519451         16.455747        14.629272  153.545850   \n",
       "...                    ...               ...              ...         ...   \n",
       "2496            990.618807         17.750076         8.999959  141.074078   \n",
       "2497           2273.762535         18.949801         9.284302  133.362753   \n",
       "2498            839.468760         18.392436         7.295885  123.894018   \n",
       "2499           1111.641445         22.456234         6.816968  144.962727   \n",
       "2500           1123.051243         20.666975         8.869427  129.826884   \n",
       "\n",
       "               avg_fatty acids total monounsaturated  \\\n",
       "household_key                                          \n",
       "1                                           1.384499   \n",
       "2                                           1.342661   \n",
       "3                                           1.509795   \n",
       "4                                           3.558397   \n",
       "5                                           2.840278   \n",
       "...                                              ...   \n",
       "2496                                        2.404298   \n",
       "2497                                        1.766678   \n",
       "2498                                        1.569172   \n",
       "2499                                        1.824260   \n",
       "2500                                        1.421619   \n",
       "\n",
       "               avg_fatty acids total polyunsaturated  \\\n",
       "household_key                                          \n",
       "1                                           1.026762   \n",
       "2                                           0.888658   \n",
       "3                                           1.040541   \n",
       "4                                           2.430715   \n",
       "5                                           1.676429   \n",
       "...                                              ...   \n",
       "2496                                        1.759908   \n",
       "2497                                        1.608930   \n",
       "2498                                        1.024291   \n",
       "2499                                        1.247173   \n",
       "2500                                        0.893939   \n",
       "\n",
       "               avg_fatty acids total saturated  avg_fiber  avg_protein  \\\n",
       "household_key                                                            \n",
       "1                                     1.143105   2.064636     2.668062   \n",
       "2                                     1.201999   1.334151     2.749659   \n",
       "3                                     1.194156   1.342363     3.308447   \n",
       "4                                     3.442074   1.575531     7.451220   \n",
       "5                                     2.524711   0.979186     5.137048   \n",
       "...                                        ...        ...          ...   \n",
       "2496                                  1.834523   1.536677     3.968632   \n",
       "2497                                  1.316996   1.777558     3.758502   \n",
       "2498                                  1.594036   1.403954     3.122829   \n",
       "2499                                  1.527819   1.451037     3.507744   \n",
       "2500                                  1.577810   1.670390     3.317707   \n",
       "\n",
       "               avg_sodium  avg_sugars  avg_total lipid  avg_vitamin a  \\\n",
       "household_key                                                           \n",
       "1              109.498900   10.571646         3.904766      24.654844   \n",
       "2              128.867910   11.188504         3.775203      31.323143   \n",
       "3              165.907171   10.927924         4.154663      32.745463   \n",
       "4              433.697168    8.412288        10.417785      62.285841   \n",
       "5              239.131321    8.585700         7.708151      45.049339   \n",
       "...                   ...         ...              ...            ...   \n",
       "2496           176.278972    8.557939         6.488790      48.708130   \n",
       "2497           210.422348    7.190581         5.092596      51.731374   \n",
       "2498           126.549856    8.863026         4.635154      37.001936   \n",
       "2499           174.803630   12.087187         5.004494      30.994536   \n",
       "2500           127.074855   10.609253         4.351876      43.704588   \n",
       "\n",
       "               avg_vitamin b-12  avg_vitamin b-6  avg_vitamin e  \\\n",
       "household_key                                                     \n",
       "1                      0.096988         0.247440       0.009265   \n",
       "2                      0.195706         0.159276       0.015712   \n",
       "3                      0.248729         0.180544       0.010934   \n",
       "4                      0.596770         0.272482       0.443764   \n",
       "5                      0.790091         0.756571       0.037928   \n",
       "...                         ...              ...            ...   \n",
       "2496                   0.192999         0.188987       0.007715   \n",
       "2497                   0.212867         0.203798       0.007680   \n",
       "2498                   0.253028         0.191620       0.027643   \n",
       "2499                   0.213856         0.165187       0.013039   \n",
       "2500                   0.242816         0.292135       0.041086   \n",
       "\n",
       "               avg_vitamin k  avg_alcohol  \n",
       "household_key                              \n",
       "1                   4.218103     0.005290  \n",
       "2                   5.552212     0.018652  \n",
       "3                   4.238553     0.004663  \n",
       "4                   8.199564     0.000000  \n",
       "5                   4.063546     0.049748  \n",
       "...                      ...          ...  \n",
       "2496                6.944614     0.023041  \n",
       "2497                8.945849     0.002916  \n",
       "2498                3.711893     0.029840  \n",
       "2499                4.444006     0.000000  \n",
       "2500                3.687663     0.005362  \n",
       "\n",
       "[2500 rows x 18 columns]"
      ]
     },
     "execution_count": 44,
     "metadata": {},
     "output_type": "execute_result"
    }
   ],
   "source": [
    "hshold_dtction_df"
   ]
  },
  {
   "cell_type": "code",
   "execution_count": 45,
   "metadata": {},
   "outputs": [],
   "source": [
    "hshold_dtction_df[avg_nutriments] = hshold_dtction_df[avg_nutriments].multiply((2000 / hshold_dtction_df.avg_energy),axis = 0)"
   ]
  },
  {
   "cell_type": "code",
   "execution_count": 46,
   "metadata": {},
   "outputs": [
    {
     "data": {
      "text/plain": [
       "234.15525322883852"
      ]
     },
     "execution_count": 46,
     "metadata": {},
     "output_type": "execute_result"
    }
   ],
   "source": [
    "quantiles = hshold_dtction_df.quantile((0.25,0.75))[avg_nutriments].T\n",
    "\n",
    "quantiles['high_lim'] = (quantiles[0.75] - quantiles[0.25]) * 1.5 + quantiles[0.75]\n",
    "\n",
    "quantiles['low_lim'] = quantiles[0.25] - (quantiles[0.75] - quantiles[0.25]) * 1.5\n",
    "quantiles = quantiles.T.to_dict()\n",
    "\n",
    "quantiles['avg_cholesterol']['high_lim']"
   ]
  },
  {
   "cell_type": "code",
   "execution_count": 47,
   "metadata": {},
   "outputs": [],
   "source": [
    "ref_intakes_df = pd.read_csv('../data/health/ref_intakes.csv').drop(columns = ['unit_name'])"
   ]
  },
  {
   "cell_type": "markdown",
   "metadata": {},
   "source": [
    "<div class=\"alert alert-block alert-info\">\n",
    "In order to detect outliers for a given nutriment, we use IQR range outlier detection.\n",
    "</div>"
   ]
  },
  {
   "cell_type": "code",
   "execution_count": 48,
   "metadata": {},
   "outputs": [],
   "source": [
    "def get_outliers(avg_nutriment,quantiles,df):\n",
    "    \"\"\"\n",
    "    avg_nutriment: the nutriment for which we calculate an excess starting with string 'avg_'\n",
    "    quantiles: the quantiles dictionary (for all nutriments)\n",
    "    df: the dataframe linking the average nutriments consumptions to housholds ids\n",
    "    \"\"\"\n",
    "    outliers_df = df[df[avg_nutriment] > quantiles[avg_nutriment]['high_lim']]\n",
    "    return outliers_df.index"
   ]
  },
  {
   "cell_type": "code",
   "execution_count": 49,
   "metadata": {},
   "outputs": [],
   "source": [
    "#list_outlier = get_outliers('tot_fatty acids total saturated',quantiles,hshold_dtction_df)\n",
    "list_outlier = get_outliers('avg_cholesterol',quantiles,hshold_dtction_df)\n",
    "list_outlier_df = hshold_dtction_df.loc[list_outlier]"
   ]
  },
  {
   "cell_type": "code",
   "execution_count": 50,
   "metadata": {},
   "outputs": [],
   "source": [
    "hshold_dtction_df.to_pickle('../saved_data/hshold_dtction_df.pickle')\n",
    "with open('../saved_data/avg_nutriments.pickle','wb') as f:\n",
    "    pickle.dump(avg_nutriments,f)\n",
    "with open('../saved_data/quantiles_outliers.pickle','wb') as f:\n",
    "    pickle.dump(quantiles,f)"
   ]
  },
  {
   "cell_type": "code",
   "execution_count": 51,
   "metadata": {},
   "outputs": [
    {
     "data": {
      "application/vnd.jupyter.widget-view+json": {
       "model_id": "fb2d4d8f4df44c0facaee852142a9d5e",
       "version_major": 2,
       "version_minor": 0
      },
      "text/plain": [
       "interactive(children=(IntSlider(value=0, description='indx', max=81), Output()), _dom_classes=('widget-interac…"
      ]
     },
     "metadata": {},
     "output_type": "display_data"
    }
   ],
   "source": [
    "def plot_hshold(indx,hsholds):\n",
    "    hshold_number = hsholds.index[indx]\n",
    "    hshold = hsholds.iloc[indx]\n",
    "    hshold_df = pd.DataFrame(hshold)\n",
    "    hshold_df.columns = ['quantity']\n",
    "    rename = lambda x: x[4:]\n",
    "    hshold_df.rename(rename,inplace = True)\n",
    "    ref_intakes_df = pd.read_csv('../data/health/ref_intakes.csv').drop(columns = ['unit_name'])\n",
    "    fig,ax = plt.subplots(1)\n",
    "    hshold_df.join(ref_intakes_df.set_index('name'),how = 'inner',lsuffix = '_original',rsuffix = '_optimal')\\\n",
    "                                 .plot.bar(ax = ax)\n",
    "    ax.set_title(str(hshold_number) + ' house number')\n",
    "    \n",
    "_plot_hshold = lambda indx: plot_hshold(indx,list_outlier_df)\n",
    "interact(_plot_hshold, indx=widgets.IntSlider(min=0, max=len(list_outlier_df) - 1, step=1, value=0));"
   ]
  },
  {
   "cell_type": "markdown",
   "metadata": {},
   "source": [
    "<div class=\"alert alert-block alert-info\">\n",
    "We now project the households on the 2 first PCs of the avg nutriments values\n",
    "</div>"
   ]
  },
  {
   "cell_type": "code",
   "execution_count": 52,
   "metadata": {},
   "outputs": [
    {
     "data": {
      "text/plain": [
       "True"
      ]
     },
     "execution_count": 52,
     "metadata": {},
     "output_type": "execute_result"
    }
   ],
   "source": [
    "#We make sure we can use regular indexes for hsholds\n",
    "np.all(hshold_dtction_df.index.values == np.arange(1,2501))"
   ]
  },
  {
   "cell_type": "code",
   "execution_count": 53,
   "metadata": {},
   "outputs": [
    {
     "data": {
      "text/plain": [
       "<matplotlib.collections.PathCollection at 0x7f2c864aebd0>"
      ]
     },
     "execution_count": 53,
     "metadata": {},
     "output_type": "execute_result"
    },
    {
     "data": {
      "image/png": "[encoded data removed]",
      "text/plain": [
       "<Figure size 432x288 with 1 Axes>"
      ]
     },
     "metadata": {
      "needs_background": "light"
     },
     "output_type": "display_data"
    }
   ],
   "source": [
    "nutriment_data = hshold_dtction_df[avg_nutriments].values\n",
    "nutriment_data = StandardScaler().fit_transform(nutriment_data)\n",
    "pca = PCA(n_components=2)\n",
    "pca.fit(nutriment_data)\n",
    "nutriment_data = pca.transform(nutriment_data)\n",
    "list_outlier = get_outliers('avg_protein',quantiles,hshold_dtction_df) -1\n",
    "\n",
    "list_outlier = list_outlier -1\n",
    "plt.scatter(nutriment_data[:,0],nutriment_data[:,1])\n",
    "plt.scatter(nutriment_data[list_outlier][:,0],nutriment_data[list_outlier][:,1],c = 'r')"
   ]
  },
  {
   "cell_type": "markdown",
   "metadata": {},
   "source": [
    "<div class=\"alert alert-block alert-info\">\n",
    "We now have a tool available to detect which houseold consume too much of certain nutriment: this could potentially be used in order to warn people whose consumption become dangerous and could harm them, allowing sensibilization about healthy food consumption.\n",
    "</div>"
   ]
  },
  {
   "cell_type": "code",
   "execution_count": null,
   "metadata": {},
   "outputs": [],
   "source": []
  }
 ],
 "metadata": {
  "kernelspec": {
   "display_name": "Python 3",
   "language": "python",
   "name": "python3"
  },
  "language_info": {
   "codemirror_mode": {
    "name": "ipython",
    "version": 3
   },
   "file_extension": ".py",
   "mimetype": "text/x-python",
   "name": "python",
   "nbconvert_exporter": "python",
   "pygments_lexer": "ipython3",
   "version": "3.7.4"
  }
 },
 "nbformat": 4,
 "nbformat_minor": 4
}
