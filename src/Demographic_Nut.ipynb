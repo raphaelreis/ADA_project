{
 "cells": [
  {
   "cell_type": "markdown",
   "metadata": {},
   "source": [
    "# Nutrition Datas: Extracting trends from our customers"
   ]
  },
  {
   "cell_type": "markdown",
   "metadata": {},
   "source": [
    "<div class=\"alert alert-block alert-info\">\n",
    "Now we are done with scrapping nutrition values, we want to build the actual nutrition profile: in order to do so, we first need to first extract the mass of each article, in order to assess the total sold mass.\n",
    "</div>"
   ]
  },
  {
   "cell_type": "code",
   "execution_count": 1,
   "metadata": {},
   "outputs": [],
   "source": [
    "from __future__ import print_function\n",
    "\n",
    "%matplotlib inline\n",
    "import re\n",
    "import os\n",
    "import numpy as np\n",
    "import pandas as pd\n",
    "import seaborn as sns\n",
    "from requests import get\n",
    "from bs4 import BeautifulSoup\n",
    "import matplotlib.pyplot as plt\n",
    "import pickle\n",
    "from scipy import stats\n",
    "from matplotlib.ticker import MaxNLocator\n",
    "import re\n",
    "from ipywidgets import interact, interactive, fixed, interact_manual\n",
    "import ipywidgets as widgets\n",
    "import pickle\n",
    "import sys\n",
    "sys.path.insert(1, './utilities/')\n",
    "import weight_functions as wf \n",
    "from tabulate import tabulate"
   ]
  },
  {
   "cell_type": "code",
   "execution_count": 2,
   "metadata": {},
   "outputs": [],
   "source": [
    "product_df = pd.read_csv('../data/dunnhumby_data/product.csv')\n",
    "transaction_data_df = pd.read_csv('../data/dunnhumby_data/transaction_data.csv')\n"
   ]
  },
  {
   "cell_type": "markdown",
   "metadata": {},
   "source": [
    "## Limiting our dataset"
   ]
  },
  {
   "cell_type": "code",
   "execution_count": 3,
   "metadata": {},
   "outputs": [],
   "source": [
    "food_related_arr = np.array(['NUTRITION','GROCERY','PASTRY','MEAT-PCKGD','SEAFOOD-PCKGD','PRODUCE','DELI','MEAT','SALAD BAR','GRO BAKERY','FROZEN GROCERY','SPIRITS','RESTAURANT'])\n",
    "#products related to food only\n",
    "food_product_df = product_df.loc[(product_df['DEPARTMENT'].isin(food_related_arr))]\n",
    "food_product_df = food_product_df[~food_product_df.COMMODITY_DESC.isin(['PAPER TOWELS','BATH TISSUES','LAUNDRY DETERGENTS','FD WRAPS/BAGS/TRSH BG']) ]\n",
    "\n",
    "#transaction dataset related to food only\n",
    "food_transaction_data = transaction_data_df.merge(food_product_df,how = 'inner',on = 'PRODUCT_ID')\n",
    "food_transaction_data['dunn_name'] = food_transaction_data['COMMODITY_DESC'] + \" \" + food_transaction_data['SUB_COMMODITY_DESC']\n",
    "food_transaction_data = food_transaction_data.drop(columns = ['COMMODITY_DESC','SUB_COMMODITY_DESC'])[['household_key','BASKET_ID','PRODUCT_ID','QUANTITY','CURR_SIZE_OF_PRODUCT','dunn_name']]"
   ]
  },
  {
   "cell_type": "code",
   "execution_count": 144,
   "metadata": {},
   "outputs": [
    {
     "data": {
      "text/html": [
       "<div>\n",
       "<style scoped>\n",
       "    .dataframe tbody tr th:only-of-type {\n",
       "        vertical-align: middle;\n",
       "    }\n",
       "\n",
       "    .dataframe tbody tr th {\n",
       "        vertical-align: top;\n",
       "    }\n",
       "\n",
       "    .dataframe thead th {\n",
       "        text-align: right;\n",
       "    }\n",
       "</style>\n",
       "<table border=\"1\" class=\"dataframe\">\n",
       "  <thead>\n",
       "    <tr style=\"text-align: right;\">\n",
       "      <th></th>\n",
       "      <th>PRODUCT_ID</th>\n",
       "      <th>MANUFACTURER</th>\n",
       "      <th>DEPARTMENT</th>\n",
       "      <th>BRAND</th>\n",
       "      <th>COMMODITY_DESC</th>\n",
       "      <th>SUB_COMMODITY_DESC</th>\n",
       "      <th>CURR_SIZE_OF_PRODUCT</th>\n",
       "    </tr>\n",
       "  </thead>\n",
       "  <tbody>\n",
       "    <tr>\n",
       "      <td>168</td>\n",
       "      <td>32160</td>\n",
       "      <td>69</td>\n",
       "      <td>GROCERY</td>\n",
       "      <td>Private</td>\n",
       "      <td>WATER - CARBONATED/FLVRD DRINK</td>\n",
       "      <td>NON-CRBNTD DRNKING/MNERAL WATE</td>\n",
       "      <td>2.50 GA</td>\n",
       "    </tr>\n",
       "    <tr>\n",
       "      <td>304</td>\n",
       "      <td>35895</td>\n",
       "      <td>1208</td>\n",
       "      <td>GROCERY</td>\n",
       "      <td>National</td>\n",
       "      <td>WATER - CARBONATED/FLVRD DRINK</td>\n",
       "      <td>NON-CRBNTD DRNKING/MNERAL WATE</td>\n",
       "      <td>33.8 OZ</td>\n",
       "    </tr>\n",
       "    <tr>\n",
       "      <td>390</td>\n",
       "      <td>39839</td>\n",
       "      <td>69</td>\n",
       "      <td>GROCERY</td>\n",
       "      <td>Private</td>\n",
       "      <td>WATER - CARBONATED/FLVRD DRINK</td>\n",
       "      <td>NON-CRBNTD DRNKING/MNERAL WATE</td>\n",
       "      <td>1 GA</td>\n",
       "    </tr>\n",
       "    <tr>\n",
       "      <td>1568</td>\n",
       "      <td>84208</td>\n",
       "      <td>1208</td>\n",
       "      <td>GROCERY</td>\n",
       "      <td>National</td>\n",
       "      <td>WATER - CARBONATED/FLVRD DRINK</td>\n",
       "      <td>NON-CRBNTD DRNKING/MNERAL WATE</td>\n",
       "      <td>20 OZ</td>\n",
       "    </tr>\n",
       "    <tr>\n",
       "      <td>1972</td>\n",
       "      <td>100389</td>\n",
       "      <td>1208</td>\n",
       "      <td>GROCERY</td>\n",
       "      <td>National</td>\n",
       "      <td>WATER - CARBONATED/FLVRD DRINK</td>\n",
       "      <td>NON-CRBNTD DRNKING/MNERAL WATE</td>\n",
       "      <td>.5 LTR</td>\n",
       "    </tr>\n",
       "    <tr>\n",
       "      <td>...</td>\n",
       "      <td>...</td>\n",
       "      <td>...</td>\n",
       "      <td>...</td>\n",
       "      <td>...</td>\n",
       "      <td>...</td>\n",
       "      <td>...</td>\n",
       "      <td>...</td>\n",
       "    </tr>\n",
       "    <tr>\n",
       "      <td>70111</td>\n",
       "      <td>9837404</td>\n",
       "      <td>103</td>\n",
       "      <td>GROCERY</td>\n",
       "      <td>National</td>\n",
       "      <td>WATER - CARBONATED/FLVRD DRINK</td>\n",
       "      <td>NON-CRBNTD DRNKING/MNERAL WATE</td>\n",
       "      <td>144 OZ</td>\n",
       "    </tr>\n",
       "    <tr>\n",
       "      <td>71219</td>\n",
       "      <td>9993322</td>\n",
       "      <td>69</td>\n",
       "      <td>GROCERY</td>\n",
       "      <td>Private</td>\n",
       "      <td>WATER - CARBONATED/FLVRD DRINK</td>\n",
       "      <td>NON-CRBNTD DRNKING/MNERAL WATE</td>\n",
       "      <td>2416.9 OZ</td>\n",
       "    </tr>\n",
       "    <tr>\n",
       "      <td>72524</td>\n",
       "      <td>10256703</td>\n",
       "      <td>6231</td>\n",
       "      <td>GROCERY</td>\n",
       "      <td>National</td>\n",
       "      <td>WATER - CARBONATED/FLVRD DRINK</td>\n",
       "      <td>NON-CRBNTD DRNKING/MNERAL WATE</td>\n",
       "      <td>5 GL</td>\n",
       "    </tr>\n",
       "    <tr>\n",
       "      <td>81320</td>\n",
       "      <td>13115723</td>\n",
       "      <td>103</td>\n",
       "      <td>GROCERY</td>\n",
       "      <td>National</td>\n",
       "      <td>WATER - CARBONATED/FLVRD DRINK</td>\n",
       "      <td>NON-CRBNTD DRNKING/MNERAL WATE</td>\n",
       "      <td>20 OZ</td>\n",
       "    </tr>\n",
       "    <tr>\n",
       "      <td>81369</td>\n",
       "      <td>13115873</td>\n",
       "      <td>103</td>\n",
       "      <td>GROCERY</td>\n",
       "      <td>National</td>\n",
       "      <td>WATER - CARBONATED/FLVRD DRINK</td>\n",
       "      <td>NON-CRBNTD DRNKING/MNERAL WATE</td>\n",
       "      <td>101.4 OZ</td>\n",
       "    </tr>\n",
       "  </tbody>\n",
       "</table>\n",
       "<p>113 rows × 7 columns</p>\n",
       "</div>"
      ],
      "text/plain": [
       "       PRODUCT_ID  MANUFACTURER DEPARTMENT     BRAND  \\\n",
       "168         32160            69    GROCERY   Private   \n",
       "304         35895          1208    GROCERY  National   \n",
       "390         39839            69    GROCERY   Private   \n",
       "1568        84208          1208    GROCERY  National   \n",
       "1972       100389          1208    GROCERY  National   \n",
       "...           ...           ...        ...       ...   \n",
       "70111     9837404           103    GROCERY  National   \n",
       "71219     9993322            69    GROCERY   Private   \n",
       "72524    10256703          6231    GROCERY  National   \n",
       "81320    13115723           103    GROCERY  National   \n",
       "81369    13115873           103    GROCERY  National   \n",
       "\n",
       "                       COMMODITY_DESC              SUB_COMMODITY_DESC  \\\n",
       "168    WATER - CARBONATED/FLVRD DRINK  NON-CRBNTD DRNKING/MNERAL WATE   \n",
       "304    WATER - CARBONATED/FLVRD DRINK  NON-CRBNTD DRNKING/MNERAL WATE   \n",
       "390    WATER - CARBONATED/FLVRD DRINK  NON-CRBNTD DRNKING/MNERAL WATE   \n",
       "1568   WATER - CARBONATED/FLVRD DRINK  NON-CRBNTD DRNKING/MNERAL WATE   \n",
       "1972   WATER - CARBONATED/FLVRD DRINK  NON-CRBNTD DRNKING/MNERAL WATE   \n",
       "...                               ...                             ...   \n",
       "70111  WATER - CARBONATED/FLVRD DRINK  NON-CRBNTD DRNKING/MNERAL WATE   \n",
       "71219  WATER - CARBONATED/FLVRD DRINK  NON-CRBNTD DRNKING/MNERAL WATE   \n",
       "72524  WATER - CARBONATED/FLVRD DRINK  NON-CRBNTD DRNKING/MNERAL WATE   \n",
       "81320  WATER - CARBONATED/FLVRD DRINK  NON-CRBNTD DRNKING/MNERAL WATE   \n",
       "81369  WATER - CARBONATED/FLVRD DRINK  NON-CRBNTD DRNKING/MNERAL WATE   \n",
       "\n",
       "      CURR_SIZE_OF_PRODUCT  \n",
       "168                2.50 GA  \n",
       "304                33.8 OZ  \n",
       "390                   1 GA  \n",
       "1568                 20 OZ  \n",
       "1972                .5 LTR  \n",
       "...                    ...  \n",
       "70111               144 OZ  \n",
       "71219            2416.9 OZ  \n",
       "72524                 5 GL  \n",
       "81320                20 OZ  \n",
       "81369             101.4 OZ  \n",
       "\n",
       "[113 rows x 7 columns]"
      ]
     },
     "execution_count": 144,
     "metadata": {},
     "output_type": "execute_result"
    }
   ],
   "source": [
    "food_product_df[food_product_df.SUB_COMMODITY_DESC.str.contains('NON-CRBNTD DRNK')]"
   ]
  },
  {
   "cell_type": "markdown",
   "metadata": {},
   "source": [
    "<div class=\"alert alert-block alert-info\">    \n",
    "Ideally one want to have an idea of which items are consumed the most in terms of mass, unfortunately, the mass section presents a lot of different units which are not easily parsable.\n",
    "</div>"
   ]
  },
  {
   "cell_type": "code",
   "execution_count": 4,
   "metadata": {},
   "outputs": [
    {
     "data": {
      "text/plain": [
       "array(['15 LB', '1.5 LIT', '5.25 OUNCE', '3.13 OZ', '15.7 OZ', '6-2 OZ',\n",
       "       ':  1.75 OZ', '1.2 LBS', '120 CT', '4.22 OZ', '13.2 OZ',\n",
       "       '4/.64 OZ', '15.25 OZ', '12 STICKS', '12.1OZ', '40 LOADS',\n",
       "       'R     1 OZ', '10 3/8 OZ', '1.40 OZ', '1.28 LB', 'B D  16 OZ',\n",
       "       '3.65 OZ', '375ML', '3/6 OZ CAN', '10.4OZ', '@    24 OZ',\n",
       "       '1/2 GAL', '24PK 12 OZ', '4.4 OZ.', '4.5OZ'], dtype=object)"
      ]
     },
     "execution_count": 4,
     "metadata": {},
     "output_type": "execute_result"
    }
   ],
   "source": [
    "#as we can see, there are a lot of different units\n",
    "units = food_transaction_data.CURR_SIZE_OF_PRODUCT.unique()\n",
    "index = np.random.choice(units.shape[0], 30, replace=False)  \n",
    "units[index]"
   ]
  },
  {
   "cell_type": "markdown",
   "metadata": {},
   "source": [
    "## Extracting the weight"
   ]
  },
  {
   "cell_type": "markdown",
   "metadata": {},
   "source": [
    "<div class=\"alert alert-block alert-info\">\n",
    "The goal consists in extracting the weights to numerical values using regexes. Unfortunately, all units cannot be taken into account.\n",
    "</div>"
   ]
  },
  {
   "cell_type": "code",
   "execution_count": 5,
   "metadata": {},
   "outputs": [
    {
     "name": "stdout",
     "output_type": "stream",
     "text": [
      "List of units not treated by the regex: ['60 LOAD' '40 LOAD' '10 INCH' 'LARGE' '1GL' '1 KIT' '34 LD' '4 INCH'\n",
      " '2 PACK' '80 USE' '40 LOADS' '60 LOADS' '6 USE' '3 PACK' '52 LD'\n",
      " '8-9 INCH' '60 GM' '7 IN' '60 LD' '3.5 INCH' '5.5 INCH' '1IN X 18IN'\n",
      " '1IN X 22IN' '5 PIECE' '5 INCH' '120 USE' '3X4 IN' '8 INCH' 'BIN' '9 IN'\n",
      " '90 LOAD' '4.5 INCH' '9 COUNT' '15 INCH' '7 INCH' '6.7 INCH' '1/2 BU BOX'\n",
      " '5/8 X 12IN' '3/8 X 10IN' '1/4 X 4 FT' '24 BUNCHES' '10 IN' '3 DOSE/LRG'\n",
      " '4/6 PACK' 'TALL' '9 INCH' '8-9 IN' '3/8 X 12IN' '3/8 X 8 IN'\n",
      " '1IN X 26IN' '2 PIECE' '1500 CU IN' '3/4 X 18IN' '28 GM' '52 LOAD'\n",
      " '6 COUNT' '3/8 INCH' '12 COUNT' 'MED' '3/4 X 6 FT' '3 POUND' '3/8 X 6 FT'\n",
      " 'GL' '3-4 IN' '4-5IN' '10 COUNT' '100 GRAM' '1.5 LIT' '2 MM' 'REGULAR'\n",
      " '2 INCH' '26 LD' '14 INCH' '20 BAGS' '1 INCH LRG' '4 PACK' '750 CU IN'\n",
      " '12 STICKS' '1 INCH' '24 STRIPS' '45 GRAM' '3 PIECE' '3/4 IN MED'\n",
      " '5 INCHES' '70 LD' '37GRAMS' '3.0 LIT' '6 PC' '3 LIT' 'HD 20FT'\n",
      " '8IN X 14IN' '1IN X 24IN' '1 GL' '12 INCH' '22IN HVY' '1IN X 6 FT'\n",
      " 'ASSORTMENT' '3 1/4 INCH' '2 POUND' '14IN LIGHT' '3/4 X 20IN' '4 USE'\n",
      " '32 LD' '32 LOADS' '32 LOAD' '8.87 INCH' '5.8 X 4 FT' '105 LOADS'\n",
      " '4X6X1IN' 'SM' '3.25 INCH' '400SQ FT' '1 BOX' '120 LD' '5 GL']\n"
     ]
    }
   ],
   "source": [
    "bad_units = food_transaction_data[~food_transaction_data.CURR_SIZE_OF_PRODUCT.str.contains('^.*(?:LB|GA|DZ|OZ|OUNCE|PK|CT|LITER|LT|LTR|ML|QT|PT|PINT|QUART).*$|^\\s?$',regex=True)].CURR_SIZE_OF_PRODUCT.unique()\n",
    "print('List of units not treated by the regex: {}'.format(bad_units))"
   ]
  },
  {
   "cell_type": "markdown",
   "metadata": {},
   "source": [
    "<div class=\"alert alert-block alert-info\">\n",
    "Luckily, the vast majority of our food data gets treated.\n",
    "</div>"
   ]
  },
  {
   "cell_type": "code",
   "execution_count": 9,
   "metadata": {},
   "outputs": [
    {
     "name": "stdout",
     "output_type": "stream",
     "text": [
      "99.86288554965542 % of the data is treated\n"
     ]
    }
   ],
   "source": [
    "food_trans_clean_df = food_transaction_data[food_transaction_data.CURR_SIZE_OF_PRODUCT.str.contains('^.*(?:LB|GA|DZ|OZ|OUNCE|PK|CT|LITER|LT|LTR|ML|QT|PT|PINT|QUART).*$|^\\s?$',regex=True)].copy()\n",
    "print('{} % of the data is treated'.format(food_trans_clean_df.shape[0] / food_transaction_data.shape[0] * 100))"
   ]
  },
  {
   "cell_type": "markdown",
   "metadata": {},
   "source": [
    "<div class=\"alert alert-block alert-info\">\n",
    "The followings are the units we take into account for our data:\n",
    "</div>"
   ]
  },
  {
   "cell_type": "markdown",
   "metadata": {},
   "source": [
    "LB = pounds<br>\n",
    "GA = gallons<br>\n",
    "DZ = dozens (eggs)<br>\n",
    "OZ,OUNCE = ounces<br>\n",
    "PK = pack (0.33 liters)<br>\n",
    "LITER LT = liters<br>\n",
    "ML = milliliters<br>\n",
    "PT = pint (0.473176473 liters)<br>"
   ]
  },
  {
   "cell_type": "markdown",
   "metadata": {},
   "source": [
    "<div class=\"alert alert-block alert-info\">\n",
    "Once again, regexes are used (cf weight_functions.py) in order to parse the weight and convert it into kg. All the liquids were assumed to have water-like density. You can test the tool in the following cell.\n",
    "</div>"
   ]
  },
  {
   "cell_type": "code",
   "execution_count": 10,
   "metadata": {},
   "outputs": [
    {
     "data": {
      "application/vnd.jupyter.widget-view+json": {
       "model_id": "21cd09765bb84ac2b842f5d5749973dd",
       "version_major": 2,
       "version_minor": 0
      },
      "text/plain": [
       "interactive(children=(IntSlider(value=0, description='x', max=4), Output()), _dom_classes=('widget-interact',)…"
      ]
     },
     "metadata": {},
     "output_type": "display_data"
    }
   ],
   "source": [
    "UNITS = ['LB','GA','DZ','OZ','OUNCE','PK','CT','LITER','LT','ML','QT','PT']\n",
    "\n",
    "test_weights_volumes = ['422 Lt','(600) 4OUNCE','5.323 OZ','there is 3 pint','2 CT']\n",
    "def f(x):\n",
    "    tested = test_weights_volumes[x]\n",
    "    print('Tested expression: %s .Equivalent weight computed: %.2f kg' % (tested,wf.get_weight(tested)))\n",
    "interact(f, x=widgets.IntSlider(min=0, max=len(test_weights_volumes) - 1, step=1, value=0));\n"
   ]
  },
  {
   "cell_type": "code",
   "execution_count": 11,
   "metadata": {},
   "outputs": [],
   "source": [
    "food_trans_clean_df['SINGLE_WEIGHT']  = food_trans_clean_df.CURR_SIZE_OF_PRODUCT.apply(wf.get_weight).values"
   ]
  },
  {
   "cell_type": "markdown",
   "metadata": {},
   "source": [
    "<div class=\"alert alert-block alert-info\">\n",
    "The same method is used to extract the weight of the articles.\n",
    "Unfortunately, the data whose metric is either CT,QT (quantity) or simply not present cannot easily be computed as this would require items specific weights. (a capsicon does not have the same weight as a pumpkin) \n",
    "\n",
    "We thus ask the user to estimate the weight of each item, thanks to the function start_create_single_weights.\n",
    "</div>"
   ]
  },
  {
   "cell_type": "code",
   "execution_count": 12,
   "metadata": {},
   "outputs": [
    {
     "name": "stdout",
     "output_type": "stream",
     "text": [
      "Successful read.\n",
      "Successful read.\n",
      "Successful read.\n"
     ]
    }
   ],
   "source": [
    "#The three dataframes were user input created\n",
    "single_weights_ct_df = pd.DataFrame.from_dict(wf.start_create_single_weights('CT',food_trans_clean_df),orient = 'index')\\\n",
    "                        .rename(columns = {0: 'SINGLE_WEIGHT'})\n",
    "single_weights_qt_df = pd.DataFrame.from_dict(wf.start_create_single_weights('QT',food_trans_clean_df),orient = 'index')\\\n",
    "                        .rename(columns = {0: 'SINGLE_WEIGHT'})\n",
    "single_weights_space_df = pd.DataFrame.from_dict(wf.start_create_single_weights('space',food_trans_clean_df),orient = 'index')\\\n",
    "                        .rename(columns = {0: 'SINGLE_WEIGHT'})"
   ]
  },
  {
   "cell_type": "code",
   "execution_count": 13,
   "metadata": {},
   "outputs": [],
   "source": [
    "food_trans_clean_df = food_trans_clean_df.join(single_weights_ct_df,how = 'left',rsuffix ='_r')\n",
    "food_trans_clean_df.SINGLE_WEIGHT.fillna(food_trans_clean_df.SINGLE_WEIGHT_r,inplace = True)\n",
    "food_trans_clean_df.drop(columns = 'SINGLE_WEIGHT_r',inplace = True)\n",
    "\n",
    "food_trans_clean_df = food_trans_clean_df.join(single_weights_qt_df,how = 'left',rsuffix ='_r')\n",
    "food_trans_clean_df.SINGLE_WEIGHT.fillna(food_trans_clean_df.SINGLE_WEIGHT_r,inplace = True)\n",
    "food_trans_clean_df.drop(columns = 'SINGLE_WEIGHT_r',inplace = True)\n",
    "\n",
    "food_trans_clean_df = food_trans_clean_df.join(single_weights_space_df,how = 'left',rsuffix ='_r')\n",
    "food_trans_clean_df.SINGLE_WEIGHT.fillna(food_trans_clean_df.SINGLE_WEIGHT_r,inplace = True)\n",
    "food_trans_clean_df.drop(columns = 'SINGLE_WEIGHT_r',inplace = True)"
   ]
  },
  {
   "cell_type": "code",
   "execution_count": 15,
   "metadata": {},
   "outputs": [],
   "source": [
    "food_trans_clean_df['TOT_WEIGHT'] = food_trans_clean_df.SINGLE_WEIGHT * food_trans_clean_df.QUANTITY\n",
    "food_trans_clean_df.sort_values(by = 'TOT_WEIGHT',ascending = False,inplace = True)"
   ]
  },
  {
   "cell_type": "markdown",
   "metadata": {},
   "source": [
    "<div class=\"alert alert-block alert-info\">\n",
    "We now have a dataframe which takes the weight of the items for each transaction.\n",
    "</div>"
   ]
  },
  {
   "cell_type": "code",
   "execution_count": 18,
   "metadata": {},
   "outputs": [
    {
     "data": {
      "text/html": [
       "<div>\n",
       "<style scoped>\n",
       "    .dataframe tbody tr th:only-of-type {\n",
       "        vertical-align: middle;\n",
       "    }\n",
       "\n",
       "    .dataframe tbody tr th {\n",
       "        vertical-align: top;\n",
       "    }\n",
       "\n",
       "    .dataframe thead th {\n",
       "        text-align: right;\n",
       "    }\n",
       "</style>\n",
       "<table border=\"1\" class=\"dataframe\">\n",
       "  <thead>\n",
       "    <tr style=\"text-align: right;\">\n",
       "      <th></th>\n",
       "      <th>household_key</th>\n",
       "      <th>BASKET_ID</th>\n",
       "      <th>PRODUCT_ID</th>\n",
       "      <th>QUANTITY</th>\n",
       "      <th>CURR_SIZE_OF_PRODUCT</th>\n",
       "      <th>dunn_name</th>\n",
       "      <th>SINGLE_WEIGHT</th>\n",
       "      <th>TOT_WEIGHT</th>\n",
       "    </tr>\n",
       "  </thead>\n",
       "  <tbody>\n",
       "    <tr>\n",
       "      <td>329139</td>\n",
       "      <td>1566</td>\n",
       "      <td>35146090575</td>\n",
       "      <td>957951</td>\n",
       "      <td>22</td>\n",
       "      <td>22 LB</td>\n",
       "      <td>FRZN ICE ICE - CRUSHED/CUBED</td>\n",
       "      <td>9.979024</td>\n",
       "      <td>219.538528</td>\n",
       "    </tr>\n",
       "    <tr>\n",
       "      <td>1848213</td>\n",
       "      <td>1637</td>\n",
       "      <td>41573574844</td>\n",
       "      <td>874753</td>\n",
       "      <td>10</td>\n",
       "      <td>40 LB</td>\n",
       "      <td>HOUSEHOLD CLEANG NEEDS SALT/WATER CONDITIONERS</td>\n",
       "      <td>18.143680</td>\n",
       "      <td>181.436800</td>\n",
       "    </tr>\n",
       "    <tr>\n",
       "      <td>2022195</td>\n",
       "      <td>1023</td>\n",
       "      <td>32259671060</td>\n",
       "      <td>836878</td>\n",
       "      <td>10</td>\n",
       "      <td>40 LB</td>\n",
       "      <td>HOUSEHOLD CLEANG NEEDS SALT/WATER CONDITIONERS</td>\n",
       "      <td>18.143680</td>\n",
       "      <td>181.436800</td>\n",
       "    </tr>\n",
       "    <tr>\n",
       "      <td>22974</td>\n",
       "      <td>691</td>\n",
       "      <td>33421101510</td>\n",
       "      <td>1082185</td>\n",
       "      <td>9</td>\n",
       "      <td>40 LB</td>\n",
       "      <td>TROPICAL FRUIT BANANAS</td>\n",
       "      <td>18.143680</td>\n",
       "      <td>163.293120</td>\n",
       "    </tr>\n",
       "    <tr>\n",
       "      <td>2105435</td>\n",
       "      <td>57</td>\n",
       "      <td>31624497521</td>\n",
       "      <td>13038540</td>\n",
       "      <td>9</td>\n",
       "      <td>38 LB</td>\n",
       "      <td>ORGANICS FRUIT &amp; VEGETABLES ORGANIC CITRUS</td>\n",
       "      <td>17.236496</td>\n",
       "      <td>155.128464</td>\n",
       "    </tr>\n",
       "  </tbody>\n",
       "</table>\n",
       "</div>"
      ],
      "text/plain": [
       "         household_key    BASKET_ID  PRODUCT_ID  QUANTITY  \\\n",
       "329139            1566  35146090575      957951        22   \n",
       "1848213           1637  41573574844      874753        10   \n",
       "2022195           1023  32259671060      836878        10   \n",
       "22974              691  33421101510     1082185         9   \n",
       "2105435             57  31624497521    13038540         9   \n",
       "\n",
       "        CURR_SIZE_OF_PRODUCT                                       dunn_name  \\\n",
       "329139                 22 LB                    FRZN ICE ICE - CRUSHED/CUBED   \n",
       "1848213                40 LB  HOUSEHOLD CLEANG NEEDS SALT/WATER CONDITIONERS   \n",
       "2022195                40 LB  HOUSEHOLD CLEANG NEEDS SALT/WATER CONDITIONERS   \n",
       "22974                  40 LB                          TROPICAL FRUIT BANANAS   \n",
       "2105435                38 LB      ORGANICS FRUIT & VEGETABLES ORGANIC CITRUS   \n",
       "\n",
       "         SINGLE_WEIGHT  TOT_WEIGHT  \n",
       "329139        9.979024  219.538528  \n",
       "1848213      18.143680  181.436800  \n",
       "2022195      18.143680  181.436800  \n",
       "22974        18.143680  163.293120  \n",
       "2105435      17.236496  155.128464  "
      ]
     },
     "execution_count": 18,
     "metadata": {},
     "output_type": "execute_result"
    }
   ],
   "source": [
    "food_trans_clean_df.head(5)"
   ]
  },
  {
   "cell_type": "markdown",
   "metadata": {},
   "source": [
    "## Adding the nutrition"
   ]
  },
  {
   "cell_type": "markdown",
   "metadata": {},
   "source": [
    "<div class=\"alert alert-block alert-info\">\n",
    " The next step consists in adding the nutrition value for each of these transactions.\n",
    "</div>"
   ]
  },
  {
   "cell_type": "code",
   "execution_count": 167,
   "metadata": {},
   "outputs": [],
   "source": [
    "with open(r\"../results/dunnhumb_articles_nutriments.pickle\", \"rb\") as input_file:\n",
    "    all_nutrition = pickle.load(input_file)\n",
    "with open(r\"../results/nutriments_units.pickle\", \"rb\") as input_file:\n",
    "    nutriment_units_df = pickle.load(input_file)\n",
    "hh_demographic_df = pd.read_csv('../data/dunnhumby_data/hh_demographic.csv')"
   ]
  },
  {
   "cell_type": "code",
   "execution_count": 168,
   "metadata": {},
   "outputs": [],
   "source": [
    "nutriments = all_nutrition.drop(all_nutrition.columns[np.arange(5)],axis = 1).columns.values"
   ]
  },
  {
   "cell_type": "code",
   "execution_count": 169,
   "metadata": {},
   "outputs": [
    {
     "data": {
      "text/html": [
       "<div>\n",
       "<style scoped>\n",
       "    .dataframe tbody tr th:only-of-type {\n",
       "        vertical-align: middle;\n",
       "    }\n",
       "\n",
       "    .dataframe tbody tr th {\n",
       "        vertical-align: top;\n",
       "    }\n",
       "\n",
       "    .dataframe thead th {\n",
       "        text-align: right;\n",
       "    }\n",
       "</style>\n",
       "<table border=\"1\" class=\"dataframe\">\n",
       "  <thead>\n",
       "    <tr style=\"text-align: right;\">\n",
       "      <th></th>\n",
       "      <th>dunn_name</th>\n",
       "      <th>TOT_WEIGHT</th>\n",
       "      <th>DEPARTMENT</th>\n",
       "      <th>dunn_ingredients</th>\n",
       "      <th>nut_name</th>\n",
       "      <th>nut_ingredients</th>\n",
       "      <th>cholesterol</th>\n",
       "      <th>energy</th>\n",
       "      <th>fatty acids total monounsaturated</th>\n",
       "      <th>fatty acids total polyunsaturated</th>\n",
       "      <th>...</th>\n",
       "      <th>tot_fiber</th>\n",
       "      <th>tot_protein</th>\n",
       "      <th>tot_sodium</th>\n",
       "      <th>tot_sugars</th>\n",
       "      <th>tot_total lipid</th>\n",
       "      <th>tot_vitamin a</th>\n",
       "      <th>tot_vitamin b-12</th>\n",
       "      <th>tot_vitamin b-6</th>\n",
       "      <th>tot_vitamin e</th>\n",
       "      <th>tot_vitamin k</th>\n",
       "    </tr>\n",
       "  </thead>\n",
       "  <tbody>\n",
       "    <tr>\n",
       "      <td>2</td>\n",
       "      <td>SOFT DRINKS SFT DRNK 2 LITER BTL CARB INCL</td>\n",
       "      <td>107754.002557</td>\n",
       "      <td>GROCERY</td>\n",
       "      <td>[soft, drink, liter, carb, incl]</td>\n",
       "      <td>Soft drink, NFS</td>\n",
       "      <td>[soft, drink, nf]</td>\n",
       "      <td>0.0</td>\n",
       "      <td>42.0</td>\n",
       "      <td>0.0</td>\n",
       "      <td>0.0</td>\n",
       "      <td>...</td>\n",
       "      <td>0.0</td>\n",
       "      <td>0.0</td>\n",
       "      <td>323262.007672</td>\n",
       "      <td>1.071075e+06</td>\n",
       "      <td>26938.500639</td>\n",
       "      <td>0.0</td>\n",
       "      <td>0.0</td>\n",
       "      <td>0.0</td>\n",
       "      <td>0.0</td>\n",
       "      <td>0.0</td>\n",
       "    </tr>\n",
       "    <tr>\n",
       "      <td>769</td>\n",
       "      <td>CANNED JUICES SFT DRNK 2 LITER BTL CARB INCL</td>\n",
       "      <td>64.000000</td>\n",
       "      <td>GROCERY</td>\n",
       "      <td>[soft, drink, liter, carb, incl]</td>\n",
       "      <td>Soft drink, NFS</td>\n",
       "      <td>[soft, drink, nf]</td>\n",
       "      <td>0.0</td>\n",
       "      <td>42.0</td>\n",
       "      <td>0.0</td>\n",
       "      <td>0.0</td>\n",
       "      <td>...</td>\n",
       "      <td>0.0</td>\n",
       "      <td>0.0</td>\n",
       "      <td>192.000000</td>\n",
       "      <td>6.361600e+02</td>\n",
       "      <td>16.000000</td>\n",
       "      <td>0.0</td>\n",
       "      <td>0.0</td>\n",
       "      <td>0.0</td>\n",
       "      <td>0.0</td>\n",
       "      <td>0.0</td>\n",
       "    </tr>\n",
       "  </tbody>\n",
       "</table>\n",
       "<p>2 rows × 36 columns</p>\n",
       "</div>"
      ],
      "text/plain": [
       "                                        dunn_name     TOT_WEIGHT DEPARTMENT  \\\n",
       "2      SOFT DRINKS SFT DRNK 2 LITER BTL CARB INCL  107754.002557    GROCERY   \n",
       "769  CANNED JUICES SFT DRNK 2 LITER BTL CARB INCL      64.000000    GROCERY   \n",
       "\n",
       "                     dunn_ingredients         nut_name    nut_ingredients  \\\n",
       "2    [soft, drink, liter, carb, incl]  Soft drink, NFS  [soft, drink, nf]   \n",
       "769  [soft, drink, liter, carb, incl]  Soft drink, NFS  [soft, drink, nf]   \n",
       "\n",
       "     cholesterol  energy  fatty acids total monounsaturated  \\\n",
       "2            0.0    42.0                                0.0   \n",
       "769          0.0    42.0                                0.0   \n",
       "\n",
       "     fatty acids total polyunsaturated  ...  tot_fiber  tot_protein  \\\n",
       "2                                  0.0  ...        0.0          0.0   \n",
       "769                                0.0  ...        0.0          0.0   \n",
       "\n",
       "        tot_sodium    tot_sugars  tot_total lipid  tot_vitamin a  \\\n",
       "2    323262.007672  1.071075e+06     26938.500639            0.0   \n",
       "769     192.000000  6.361600e+02        16.000000            0.0   \n",
       "\n",
       "     tot_vitamin b-12  tot_vitamin b-6  tot_vitamin e  tot_vitamin k  \n",
       "2                 0.0              0.0            0.0            0.0  \n",
       "769               0.0              0.0            0.0            0.0  \n",
       "\n",
       "[2 rows x 36 columns]"
      ]
     },
     "execution_count": 169,
     "metadata": {},
     "output_type": "execute_result"
    }
   ],
   "source": [
    "tot_weight_nut_df[tot_weight_nut_df.dunn_name.str.contains('LITER BTL CARB INCL')]"
   ]
  },
  {
   "cell_type": "code",
   "execution_count": 170,
   "metadata": {},
   "outputs": [],
   "source": [
    "#(1) we groupby the name of each article in order to extract trends from the most sold items in terms of sold mass\n",
    "tot_weight_nut_df = food_trans_clean_df.groupby(['dunn_name']).agg({'TOT_WEIGHT':'sum'})\\\n",
    "                     .join(all_nutrition.set_index('dunn_name'),how = 'inner')\\\n",
    "                     .sort_values(by = 'TOT_WEIGHT',ascending = False)\\\n",
    "                     .reset_index()\\\n",
    "                     .copy()\n",
    "#(2) we groupby the name of each article in terms of number of sells this time\n",
    "tot_sells_nut_df = food_trans_clean_df.groupby(['dunn_name']).agg({'QUANTITY':'sum'})\\\n",
    "                     .join(all_nutrition.set_index('dunn_name'),how = 'inner')\\\n",
    "                     .sort_values(by = 'QUANTITY',ascending = False)\\\n",
    "                     .reset_index()\\\n",
    "                     .copy()\n",
    "\n",
    "#(3) we groupby the household, in order to detect specific nutritional behavior\n",
    "house_nut_df = food_trans_clean_df.groupby(['household_key','dunn_name'])\\\n",
    "                      .agg({'TOT_WEIGHT':'sum'})\\\n",
    "                      .reset_index()\\\n",
    "                      .join(all_nutrition.set_index('dunn_name'),on = 'dunn_name',how = 'inner')\\\n",
    "                      .sort_values(by = 'TOT_WEIGHT',ascending = False)\\\n",
    "                      .copy()"
   ]
  },
  {
   "cell_type": "markdown",
   "metadata": {},
   "source": [
    "### Mass items nutriments"
   ]
  },
  {
   "cell_type": "markdown",
   "metadata": {},
   "source": [
    "<div class=\"alert alert-block alert-info\">\n",
    "We analyze the items most bought in terms of mass: lets take a look at the most bought items\n",
    "</div>"
   ]
  },
  {
   "cell_type": "code",
   "execution_count": 171,
   "metadata": {},
   "outputs": [],
   "source": [
    "#tot_weight_nut_df[tot_weight_nut_df.dunn_name.str.contains('DRINK NON-CRBNTD DR')]"
   ]
  },
  {
   "cell_type": "code",
   "execution_count": 172,
   "metadata": {},
   "outputs": [
    {
     "data": {
      "text/html": [
       "<div>\n",
       "<style scoped>\n",
       "    .dataframe tbody tr th:only-of-type {\n",
       "        vertical-align: middle;\n",
       "    }\n",
       "\n",
       "    .dataframe tbody tr th {\n",
       "        vertical-align: top;\n",
       "    }\n",
       "\n",
       "    .dataframe thead th {\n",
       "        text-align: right;\n",
       "    }\n",
       "</style>\n",
       "<table border=\"1\" class=\"dataframe\">\n",
       "  <thead>\n",
       "    <tr style=\"text-align: right;\">\n",
       "      <th></th>\n",
       "      <th>dunn_name</th>\n",
       "      <th>TOT_WEIGHT</th>\n",
       "      <th>nut_name</th>\n",
       "    </tr>\n",
       "  </thead>\n",
       "  <tbody>\n",
       "    <tr>\n",
       "      <td>0</td>\n",
       "      <td>TROPICAL FRUIT BANANAS</td>\n",
       "      <td>568654.682640</td>\n",
       "      <td>Banana, raw</td>\n",
       "    </tr>\n",
       "    <tr>\n",
       "      <td>1</td>\n",
       "      <td>FLUID MILK PRODUCTS FLUID MILK WHITE ONLY</td>\n",
       "      <td>158279.390752</td>\n",
       "      <td>Milk, whole</td>\n",
       "    </tr>\n",
       "    <tr>\n",
       "      <td>2</td>\n",
       "      <td>SOFT DRINKS SFT DRNK 2 LITER BTL CARB INCL</td>\n",
       "      <td>107754.002557</td>\n",
       "      <td>Soft drink, NFS</td>\n",
       "    </tr>\n",
       "    <tr>\n",
       "      <td>3</td>\n",
       "      <td>ONIONS ONIONS SWEET (BULK&amp;BAG)</td>\n",
       "      <td>101229.260620</td>\n",
       "      <td>Onions, mature, raw</td>\n",
       "    </tr>\n",
       "    <tr>\n",
       "      <td>4</td>\n",
       "      <td>WATER - CARBONATED/FLVRD DRINK NON-CRBNTD DRNK...</td>\n",
       "      <td>55172.619526</td>\n",
       "      <td>Water chestnut</td>\n",
       "    </tr>\n",
       "    <tr>\n",
       "      <td>5</td>\n",
       "      <td>GRAPES GRAPES RED</td>\n",
       "      <td>46509.962904</td>\n",
       "      <td>Grapes, raw, NS as to type</td>\n",
       "    </tr>\n",
       "  </tbody>\n",
       "</table>\n",
       "</div>"
      ],
      "text/plain": [
       "                                           dunn_name     TOT_WEIGHT  \\\n",
       "0                             TROPICAL FRUIT BANANAS  568654.682640   \n",
       "1          FLUID MILK PRODUCTS FLUID MILK WHITE ONLY  158279.390752   \n",
       "2         SOFT DRINKS SFT DRNK 2 LITER BTL CARB INCL  107754.002557   \n",
       "3                     ONIONS ONIONS SWEET (BULK&BAG)  101229.260620   \n",
       "4  WATER - CARBONATED/FLVRD DRINK NON-CRBNTD DRNK...   55172.619526   \n",
       "5                                  GRAPES GRAPES RED   46509.962904   \n",
       "\n",
       "                     nut_name  \n",
       "0                 Banana, raw  \n",
       "1                 Milk, whole  \n",
       "2             Soft drink, NFS  \n",
       "3         Onions, mature, raw  \n",
       "4              Water chestnut  \n",
       "5  Grapes, raw, NS as to type  "
      ]
     },
     "execution_count": 172,
     "metadata": {},
     "output_type": "execute_result"
    }
   ],
   "source": [
    "tot_weight_nut_df.head(6)[['dunn_name','TOT_WEIGHT','nut_name']]"
   ]
  },
  {
   "cell_type": "code",
   "execution_count": 173,
   "metadata": {},
   "outputs": [],
   "source": [
    "# compute the mass (0.1kg as unit) of each nutriment for each article\n",
    "for nut in nutriments:\n",
    "    tot_nut = 'tot_' + nut\n",
    "    tot_weight_nut_df[tot_nut] = tot_weight_nut_df.TOT_WEIGHT.multiply(tot_weight_nut_df[nut])"
   ]
  },
  {
   "cell_type": "code",
   "execution_count": 174,
   "metadata": {},
   "outputs": [],
   "source": [
    "def plot_nutriments(nut_indx,df,ax = None,sub_title = None):\n",
    "    if ax is None:\n",
    "        fig,ax = plt.subplots(1,figsize = (20,5))\n",
    "    nutriment = nutriments[nut_indx]\n",
    "    #top4000[top4000.TOT_WEIGHT != 0].reset_index().head(4000).plot.bar(y = nutriment,ax = ax)\n",
    "    #temp = top4000[top4000.TOT_WEIGHT != 0].reset_index().head(300)\n",
    "    temp = df.sort_values(by = 'TOT_WEIGHT',ascending = False).reset_index().head(300)\n",
    "    sns.barplot(x = temp.index,y = temp[nutriment],ax = ax)\n",
    "    unit = nutriment_units_df[nutriment_units_df['name'] == nutriment].unit_name.values[0]\n",
    "    title = nutriment\n",
    "    ax.set_title(title)\n",
    "    ax.set_ylabel('%s %s per 100 grams' % (nutriment,unit))\n",
    "    ax.set_xlabel('items (sorted by most bought mass)')\n",
    "    empty_string_labels = ['']*len(ax.get_xticklabels())\n",
    "    ax.set_xticklabels(empty_string_labels)"
   ]
  },
  {
   "cell_type": "code",
   "execution_count": 175,
   "metadata": {},
   "outputs": [
    {
     "data": {
      "application/vnd.jupyter.widget-view+json": {
       "model_id": "887453ecbff64afa99c87ead2f966242",
       "version_major": 2,
       "version_minor": 0
      },
      "text/plain": [
       "interactive(children=(IntSlider(value=0, description='indx', max=14), Output()), _dom_classes=('widget-interac…"
      ]
     },
     "metadata": {},
     "output_type": "display_data"
    }
   ],
   "source": [
    "plot_tot_nut = lambda indx: plot_nutriments(indx,tot_weight_nut_df)\n",
    "interact(plot_tot_nut, indx=widgets.IntSlider(min=0, max=len(nutriments) - 1, step=1, value=0));"
   ]
  },
  {
   "cell_type": "markdown",
   "metadata": {},
   "source": [
    "### Most relevant items per nutriments"
   ]
  },
  {
   "cell_type": "code",
   "execution_count": 176,
   "metadata": {},
   "outputs": [
    {
     "data": {
      "application/vnd.jupyter.widget-view+json": {
       "model_id": "bcb11e8f777845e09568694fd484c613",
       "version_major": 2,
       "version_minor": 0
      },
      "text/plain": [
       "interactive(children=(IntSlider(value=0, description='x', max=14), Output()), _dom_classes=('widget-interact',…"
      ]
     },
     "metadata": {},
     "output_type": "display_data"
    }
   ],
   "source": [
    "def g(x):\n",
    "    nutriment = nutriments[x]\n",
    "    temp = tot_weight_nut_df.sort_values(by = 'tot_' + nutriment,ascending = False)[['TOT_WEIGHT','dunn_name','nut_name','tot_' + nutriment]].head(5)\n",
    "    print(nutriment.upper() + ' TOP NUTRIMENTS')\n",
    "    print(print(tabulate(temp, headers='keys', tablefmt='psql')))\n",
    "interact(g, x=widgets.IntSlider(min=0, max=len(nutriments) - 1, step=1, value=0));"
   ]
  },
  {
   "cell_type": "markdown",
   "metadata": {},
   "source": [
    "### Number items nutriments"
   ]
  },
  {
   "cell_type": "markdown",
   "metadata": {},
   "source": [
    "<div class=\"alert alert-block alert-info\">\n",
    "We analyze the items most bought in terms of counts: lets take a look at the most bought items\n",
    "</div>"
   ]
  },
  {
   "cell_type": "code",
   "execution_count": 177,
   "metadata": {},
   "outputs": [
    {
     "data": {
      "text/html": [
       "<div>\n",
       "<style scoped>\n",
       "    .dataframe tbody tr th:only-of-type {\n",
       "        vertical-align: middle;\n",
       "    }\n",
       "\n",
       "    .dataframe tbody tr th {\n",
       "        vertical-align: top;\n",
       "    }\n",
       "\n",
       "    .dataframe thead th {\n",
       "        text-align: right;\n",
       "    }\n",
       "</style>\n",
       "<table border=\"1\" class=\"dataframe\">\n",
       "  <thead>\n",
       "    <tr style=\"text-align: right;\">\n",
       "      <th></th>\n",
       "      <th>dunn_name</th>\n",
       "      <th>QUANTITY</th>\n",
       "      <th>nut_name</th>\n",
       "    </tr>\n",
       "  </thead>\n",
       "  <tbody>\n",
       "    <tr>\n",
       "      <td>0</td>\n",
       "      <td>FLUID MILK PRODUCTS FLUID MILK WHITE ONLY</td>\n",
       "      <td>91449</td>\n",
       "      <td>Milk, whole</td>\n",
       "    </tr>\n",
       "    <tr>\n",
       "      <td>1</td>\n",
       "      <td>YOGURT YOGURT NOT MULTI-PACKS</td>\n",
       "      <td>65544</td>\n",
       "      <td>Yogurt dressing</td>\n",
       "    </tr>\n",
       "    <tr>\n",
       "      <td>2</td>\n",
       "      <td>SOFT DRINKS SOFT DRINKS 12/18&amp;15PK CAN CAR</td>\n",
       "      <td>54983</td>\n",
       "      <td>Soft drink, NFS</td>\n",
       "    </tr>\n",
       "    <tr>\n",
       "      <td>3</td>\n",
       "      <td>SOFT DRINKS SFT DRNK 2 LITER BTL CARB INCL</td>\n",
       "      <td>54400</td>\n",
       "      <td>Soft drink, NFS</td>\n",
       "    </tr>\n",
       "    <tr>\n",
       "      <td>4</td>\n",
       "      <td>CHEESE SHREDDED CHEESE</td>\n",
       "      <td>35245</td>\n",
       "      <td>Cheese, NFS</td>\n",
       "    </tr>\n",
       "    <tr>\n",
       "      <td>5</td>\n",
       "      <td>BAKED BREAD/BUNS/ROLLS MAINSTREAM WHITE BREAD</td>\n",
       "      <td>34661</td>\n",
       "      <td>Bread, white</td>\n",
       "    </tr>\n",
       "  </tbody>\n",
       "</table>\n",
       "</div>"
      ],
      "text/plain": [
       "                                       dunn_name  QUANTITY         nut_name\n",
       "0      FLUID MILK PRODUCTS FLUID MILK WHITE ONLY     91449      Milk, whole\n",
       "1                  YOGURT YOGURT NOT MULTI-PACKS     65544  Yogurt dressing\n",
       "2     SOFT DRINKS SOFT DRINKS 12/18&15PK CAN CAR     54983  Soft drink, NFS\n",
       "3     SOFT DRINKS SFT DRNK 2 LITER BTL CARB INCL     54400  Soft drink, NFS\n",
       "4                         CHEESE SHREDDED CHEESE     35245      Cheese, NFS\n",
       "5  BAKED BREAD/BUNS/ROLLS MAINSTREAM WHITE BREAD     34661     Bread, white"
      ]
     },
     "execution_count": 177,
     "metadata": {},
     "output_type": "execute_result"
    }
   ],
   "source": [
    "tot_sells_nut_df.head(6)[['dunn_name','QUANTITY','nut_name']]"
   ]
  },
  {
   "cell_type": "markdown",
   "metadata": {},
   "source": [
    "### Demographic nutriments"
   ]
  },
  {
   "cell_type": "code",
   "execution_count": 178,
   "metadata": {},
   "outputs": [],
   "source": [
    "house_nut_df[nutriments] = house_nut_df[nutriments].multiply(house_nut_df.TOT_WEIGHT,axis = 0)# / 10    \n",
    "house_nut_df = house_nut_df.drop(columns = ['dunn_name','dunn_ingredients','nut_name','nut_ingredients'])\\\n",
    "                                .groupby('household_key')\\\n",
    "                                .agg('sum')\n",
    "\n",
    "#we average on the total amount of food consumed\n",
    "house_nut_df[nutriments] = house_nut_df[nutriments].div(house_nut_df.TOT_WEIGHT,axis = 0)"
   ]
  },
  {
   "cell_type": "code",
   "execution_count": 179,
   "metadata": {},
   "outputs": [
    {
     "data": {
      "text/html": [
       "<div>\n",
       "<style scoped>\n",
       "    .dataframe tbody tr th:only-of-type {\n",
       "        vertical-align: middle;\n",
       "    }\n",
       "\n",
       "    .dataframe tbody tr th {\n",
       "        vertical-align: top;\n",
       "    }\n",
       "\n",
       "    .dataframe thead th {\n",
       "        text-align: right;\n",
       "    }\n",
       "</style>\n",
       "<table border=\"1\" class=\"dataframe\">\n",
       "  <thead>\n",
       "    <tr style=\"text-align: right;\">\n",
       "      <th></th>\n",
       "      <th>TOT_WEIGHT</th>\n",
       "      <th>cholesterol</th>\n",
       "      <th>energy</th>\n",
       "      <th>fatty acids total monounsaturated</th>\n",
       "      <th>fatty acids total polyunsaturated</th>\n",
       "      <th>fatty acids total saturated</th>\n",
       "      <th>fiber</th>\n",
       "      <th>protein</th>\n",
       "      <th>sodium</th>\n",
       "      <th>sugars</th>\n",
       "      <th>...</th>\n",
       "      <th>vitamin b-6</th>\n",
       "      <th>vitamin e</th>\n",
       "      <th>vitamin k</th>\n",
       "      <th>AGE_DESC</th>\n",
       "      <th>MARITAL_STATUS_CODE</th>\n",
       "      <th>INCOME_DESC</th>\n",
       "      <th>HOMEOWNER_DESC</th>\n",
       "      <th>HH_COMP_DESC</th>\n",
       "      <th>HOUSEHOLD_SIZE_DESC</th>\n",
       "      <th>KID_CATEGORY_DESC</th>\n",
       "    </tr>\n",
       "    <tr>\n",
       "      <th>household_key</th>\n",
       "      <th></th>\n",
       "      <th></th>\n",
       "      <th></th>\n",
       "      <th></th>\n",
       "      <th></th>\n",
       "      <th></th>\n",
       "      <th></th>\n",
       "      <th></th>\n",
       "      <th></th>\n",
       "      <th></th>\n",
       "      <th></th>\n",
       "      <th></th>\n",
       "      <th></th>\n",
       "      <th></th>\n",
       "      <th></th>\n",
       "      <th></th>\n",
       "      <th></th>\n",
       "      <th></th>\n",
       "      <th></th>\n",
       "      <th></th>\n",
       "      <th></th>\n",
       "    </tr>\n",
       "  </thead>\n",
       "  <tbody>\n",
       "  </tbody>\n",
       "</table>\n",
       "<p>0 rows × 23 columns</p>\n",
       "</div>"
      ],
      "text/plain": [
       "Empty DataFrame\n",
       "Columns: [TOT_WEIGHT, cholesterol, energy, fatty acids total monounsaturated, fatty acids total polyunsaturated, fatty acids total saturated, fiber, protein, sodium, sugars, total lipid, vitamin a, vitamin b-12, vitamin b-6, vitamin e, vitamin k, AGE_DESC, MARITAL_STATUS_CODE, INCOME_DESC, HOMEOWNER_DESC, HH_COMP_DESC, HOUSEHOLD_SIZE_DESC, KID_CATEGORY_DESC]\n",
       "Index: []\n",
       "\n",
       "[0 rows x 23 columns]"
      ]
     },
     "execution_count": 179,
     "metadata": {},
     "output_type": "execute_result"
    }
   ],
   "source": [
    "house_nut_df = house_nut_df.join(hh_demographic_df.set_index('household_key'),how = 'inner')\n",
    "\n",
    "house_nut_df[~house_nut_df.INCOME_DESC.str.contains('^[0-9]{2,3}-[0-9]{2,3}K$|Under 15K|250K+',regex = True)]"
   ]
  },
  {
   "cell_type": "code",
   "execution_count": 180,
   "metadata": {},
   "outputs": [
    {
     "name": "stdout",
     "output_type": "stream",
     "text": [
      "Poor represent 0.08 of the dataset.\n",
      "Wealhty represent 0.01 of the dataset.\n"
     ]
    }
   ],
   "source": [
    "lower_numb = house_nut_df[house_nut_df.INCOME_DESC.str.contains('Under 15K')].shape[0]\n",
    "higher_numb = house_nut_df[house_nut_df.INCOME_DESC.str.contains('250K+')].shape[0]\n",
    "tot_num = house_nut_df.shape[0]\n",
    "print('Poor represent %.2f of the dataset.' % (lower_numb / tot_num))\n",
    "print('Wealhty represent %.2f of the dataset.' % (higher_numb / tot_num))"
   ]
  },
  {
   "cell_type": "code",
   "execution_count": 181,
   "metadata": {},
   "outputs": [],
   "source": [
    "house_nut_df[['low_lim','high_lim']] = house_nut_df.INCOME_DESC.str.extract(r'^(\\d{2,3})-(\\d{2,3})K$')\n",
    "house_nut_df.dropna(inplace = True)\n",
    "house_nut_df[['low_lim','high_lim']] = house_nut_df[['low_lim','high_lim']].astype(int)\n",
    "house_nut_df['av_income'] = (house_nut_df.low_lim + house_nut_df.high_lim).div(2)\n",
    "house_nut_df.sort_values('av_income',inplace = True)\n",
    "med = house_nut_df.av_income.median()\n",
    "poors_df = house_nut_df[house_nut_df.av_income < med]\n",
    "wealthy_df = house_nut_df[house_nut_df.av_income >= med]"
   ]
  },
  {
   "cell_type": "code",
   "execution_count": 182,
   "metadata": {},
   "outputs": [
    {
     "data": {
      "text/plain": [
       "323"
      ]
     },
     "execution_count": 182,
     "metadata": {},
     "output_type": "execute_result"
    }
   ],
   "source": [
    "poors_df.shape[0]"
   ]
  },
  {
   "cell_type": "code",
   "execution_count": 183,
   "metadata": {},
   "outputs": [
    {
     "data": {
      "text/plain": [
       "406"
      ]
     },
     "execution_count": 183,
     "metadata": {},
     "output_type": "execute_result"
    }
   ],
   "source": [
    "wealthy_df.shape[0]"
   ]
  },
  {
   "cell_type": "code",
   "execution_count": 184,
   "metadata": {},
   "outputs": [
    {
     "data": {
      "application/vnd.jupyter.widget-view+json": {
       "model_id": "0db8e62b488643c6b3c737a20e595735",
       "version_major": 2,
       "version_minor": 0
      },
      "text/plain": [
       "interactive(children=(IntSlider(value=0, description='indx', max=14), Output()), _dom_classes=('widget-interac…"
      ]
     },
     "metadata": {},
     "output_type": "display_data"
    }
   ],
   "source": [
    "def plot2nut(nut_indx,df1,df2):\n",
    "    fig, ax = plt.subplots(1,figsize = (20,5))\n",
    "    nutriment = nutriments[nut_indx]\n",
    "    sns.distplot(poors_df[nutriment],norm_hist = True,ax = ax,label = 'poor')\n",
    "    sns.distplot(wealthy_df[nutriment],norm_hist = True,ax = ax,label = 'wealthy')\n",
    "    ax.set_title(nutriment)\n",
    "    ax.legend()\n",
    "    unit = nutriment_units_df[nutriment_units_df['name'] == nutriment].unit_name.values[0]\n",
    "    ax.set_xlabel(unit + ' of ' + nutriment + ' /100g. of food')\n",
    "    ax.set_ylabel('proportion of people')\n",
    "    ttest = stats.ttest_ind(poors_df[nutriment], wealthy_df[nutriment], equal_var = False,)\n",
    "    print('Pvalue of different means: {}'.format(ttest[1]))\n",
    "    \n",
    "plot_tot_nut = lambda indx: plot2nut(indx,poors_df,wealthy_df)\n",
    "interact(plot_tot_nut, indx=widgets.IntSlider(min=0, max=len(nutriments) - 1, step=1, value=0));"
   ]
  },
  {
   "cell_type": "markdown",
   "metadata": {},
   "source": [
    "#### Average nutriments consumption"
   ]
  },
  {
   "cell_type": "code",
   "execution_count": 185,
   "metadata": {},
   "outputs": [
    {
     "name": "stdout",
     "output_type": "stream",
     "text": [
      "Correlations between the average nutritional intake of each household\n"
     ]
    },
    {
     "data": {
      "image/png": "[encoded data removed]",
      "text/plain": [
       "<Figure size 2160x720 with 6 Axes>"
      ]
     },
     "metadata": {
      "needs_background": "light"
     },
     "output_type": "display_data"
    },
    {
     "data": {
      "text/plain": [
       "<Figure size 432x288 with 0 Axes>"
      ]
     },
     "metadata": {},
     "output_type": "display_data"
    },
    {
     "data": {
      "text/plain": [
       "<Figure size 432x288 with 0 Axes>"
      ]
     },
     "metadata": {},
     "output_type": "display_data"
    },
    {
     "data": {
      "text/plain": [
       "<Figure size 432x288 with 0 Axes>"
      ]
     },
     "metadata": {},
     "output_type": "display_data"
    }
   ],
   "source": [
    "def plot_corr_mat(corrmat,title,ax):\n",
    "    plt.figure()\n",
    "    with sns.axes_style(\"white\"):\n",
    "        sns.heatmap(corrmat,\\\n",
    "                          cbar_kws = dict(use_gridspec=False,location=\"left\"), \\\n",
    "                          xticklabels=True,yticklabels=True,\\\n",
    "                          #mask=mask,\\\n",
    "                          cmap=\"YlGnBu\",square=True,\\\n",
    "                          ax = ax)\n",
    "        ax.xaxis.set_ticks_position('top')\n",
    "        ax.yaxis.set_ticks_position('right')\n",
    "        ax.set_xticklabels(ax.get_xticklabels(),rotation=90)\n",
    "        ax.set_yticklabels(ax.get_xticklabels(),rotation=0)\n",
    "        ax.set_title(title)\n",
    "\n",
    "corrmat_hseholds = house_nut_df[nutriments].corr()\n",
    "corrmat_food = all_nutrition[nutriments].corr()\n",
    "fig,axes = plt.subplots(1,3,figsize = (30,10))\n",
    "plot_corr_mat(corrmat_hseholds,'Correlatinn matrix of the avg nuts consumption',axes[0])\n",
    "plot_corr_mat(corrmat_food,'Correlation matrix for the nutriments',axes[1])\n",
    "plot_corr_mat(corrmat_hseholds - corrmat_food,'Difference btwn both',axes[2])\n",
    "print('Correlations between the average nutritional intake of each household')"
   ]
  },
  {
   "cell_type": "markdown",
   "metadata": {},
   "source": [
    "We see that the sodium tends to be more consumed in association with sugar, sugars with vitb12."
   ]
  },
  {
   "cell_type": "code",
   "execution_count": 186,
   "metadata": {},
   "outputs": [],
   "source": [
    "from nltk.corpus import wordnet as wn\n",
    "food = wn.synset('food.n.02')\n",
    "FOOD_WORDS = list(set([w for s in food.closure(lambda s:s.hyponyms()) for w in s.lemma_names()])) + ['drink']"
   ]
  },
  {
   "cell_type": "code",
   "execution_count": null,
   "metadata": {},
   "outputs": [],
   "source": []
  }
 ],
 "metadata": {
  "kernelspec": {
   "display_name": "Python 3",
   "language": "python",
   "name": "python3"
  },
  "language_info": {
   "codemirror_mode": {
    "name": "ipython",
    "version": 3
   },
   "file_extension": ".py",
   "mimetype": "text/x-python",
   "name": "python",
   "nbconvert_exporter": "python",
   "pygments_lexer": "ipython3",
   "version": "3.7.4"
  }
 },
 "nbformat": 4,
 "nbformat_minor": 4
}
